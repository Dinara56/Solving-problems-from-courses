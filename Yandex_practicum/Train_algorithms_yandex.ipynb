{
 "cells": [
  {
   "cell_type": "markdown",
   "id": "531457f1",
   "metadata": {},
   "source": [
    "## Конспект лекций \"Тренировки по алгоритмам от Яндекса\".\n",
    "### Лекция 1: «Сложность, тестирование, особые случаи»"
   ]
  },
  {
   "cell_type": "markdown",
   "id": "335ec305",
   "metadata": {},
   "source": [
    "#### Задача: Дана строка (в кодировке UTF-8). Найдите самый часто встречающийся в ней символ. Если несколько символов встречаются одинаково часто, то можно вывести любой."
   ]
  },
  {
   "cell_type": "code",
   "execution_count": 17,
   "id": "79c12cfb",
   "metadata": {},
   "outputs": [
    {
     "name": "stdout",
     "output_type": "stream",
     "text": [
      "nmmmmmmmddf\n",
      "m\n"
     ]
    }
   ],
   "source": [
    "# Решение:\n",
    "\n",
    "# Заведем словарь, где ключом является символ, а значение - сколько раз он встретился. Если символ встретился \n",
    "# впервые - создаем элемент словаря с ключом, совпадающем с этим символом и значением ноль. Прибавляем\n",
    "# к элементу словаря с ключом, совпадающем с этим символом, единицу.\n",
    "\n",
    "s = input()\n",
    "ans = ''\n",
    "anscnt = 0\n",
    "symcnt = {}\n",
    "for now in s:\n",
    "    if now not in symcnt:\n",
    "        symcnt[now] = 0\n",
    "    symcnt[now] += 1\n",
    "    if symcnt[now] > anscnt:\n",
    "        ans = now\n",
    "        anscnt = symcnt[now]   \n",
    "print(ans)"
   ]
  },
  {
   "cell_type": "markdown",
   "id": "835066db",
   "metadata": {},
   "source": [
    "#### Задача: найти сумму последовательности."
   ]
  },
  {
   "cell_type": "code",
   "execution_count": 35,
   "id": "270fc47a",
   "metadata": {},
   "outputs": [
    {
     "name": "stdout",
     "output_type": "stream",
     "text": [
      "\n",
      "0\n"
     ]
    }
   ],
   "source": [
    "seq = list(map(int, input().split()))\n",
    "seqsum = 0\n",
    "for i in range(len(seq)):\n",
    "    seqsum += seq[i]\n",
    "print(seqsum)"
   ]
  },
  {
   "cell_type": "markdown",
   "id": "3ed09bd5",
   "metadata": {},
   "source": [
    "#### Задача: найти максимум последовательности."
   ]
  },
  {
   "cell_type": "code",
   "execution_count": 37,
   "id": "bf08d785",
   "metadata": {},
   "outputs": [
    {
     "name": "stdout",
     "output_type": "stream",
     "text": [
      "1 5 4 3\n",
      "5\n"
     ]
    }
   ],
   "source": [
    "seq = list(map(int, input().split()))\n",
    "seqmax = 0\n",
    "for i in range(len(seq)):\n",
    "    if seq[i] > seqmax:\n",
    "        seqmax = seq[i]\n",
    "print(seqmax)"
   ]
  },
  {
   "cell_type": "markdown",
   "id": "5552f3a5",
   "metadata": {},
   "source": [
    "#### Задача: даны три целых числа a, b, c. Найдите все корни квадратного уравнения и выведите их в порядке возрастания."
   ]
  },
  {
   "cell_type": "code",
   "execution_count": null,
   "id": "3f586b83",
   "metadata": {},
   "outputs": [],
   "source": [
    "if a == 0:\n",
    "    if b != 0:\n",
    "        print(-c / b)\n",
    "    if b == 0 and c == 0:\n",
    "        print('Indefinite number of solutions')\n",
    "else:\n",
    "    d = b ** 2 - 4 * a * c\n",
    "    print(sqrt(d))\n",
    "    if d == 0:\n",
    "        x1 = -b / (2 * a)\n",
    "        print(x1)\n",
    "    elif d > 0:\n",
    "        x1 = (-b - sqrt(d)) / (2 * a)\n",
    "        x2 = (-b + sqrt(d)) / (2 * a)\n",
    "        if x1 < x2:\n",
    "            print(x1, x2)\n",
    "        else:\n",
    "            print(x2, x1)"
   ]
  },
  {
   "cell_type": "markdown",
   "id": "91a3cde5",
   "metadata": {},
   "source": [
    "### Лекция 2: «Линейный поиск»"
   ]
  },
  {
   "cell_type": "markdown",
   "id": "9fb41374",
   "metadata": {},
   "source": [
    "#### Задача: дана последовательность чисел длиной N (N > 0), найти первое (левое) вхождение положительного числа Х в нее или вывести -1, если число Х не встречалось."
   ]
  },
  {
   "cell_type": "code",
   "execution_count": 39,
   "id": "9a84eb8b",
   "metadata": {},
   "outputs": [],
   "source": [
    "# Решение:\n",
    "\n",
    "# Сначала положим в ответ -1, затем будем перебирать все элементы. Если текущий элемент равен Х и ответ равен -1,\n",
    "# запишем в ответ текущую позицию.\n",
    "\n",
    "def findx(seq, x):\n",
    "    ans = -1\n",
    "    for i in range(len(seq)):\n",
    "        if ans == -1 and seq[i] == x:\n",
    "            ans = i\n",
    "    return ans"
   ]
  },
  {
   "cell_type": "markdown",
   "id": "6c19725f",
   "metadata": {},
   "source": [
    "#### Задача: дана последовательность чисел длиной N (N > 0), найти последнее (правое) вхождение положительного числа Х в нее или вывести -1, если число Х не встречалось."
   ]
  },
  {
   "cell_type": "code",
   "execution_count": 42,
   "id": "de24f85b",
   "metadata": {},
   "outputs": [],
   "source": [
    "# Решение:\n",
    "\n",
    "# Сначала положим в ответ -1, затем будем перебирать все элементы. Если текущий элемент равен Х -\n",
    "# запишем в ответ текущую позицию.\n",
    "\n",
    "def findrightx(seq, x):\n",
    "    ans = -1\n",
    "    for i in range(len(seq)):\n",
    "        if seq[i] == x:\n",
    "            ans = i\n",
    "    return ans"
   ]
  },
  {
   "cell_type": "markdown",
   "id": "22e457e7",
   "metadata": {},
   "source": [
    "#### Задача: дана последовательность чисел длиной N (N > 0), найти максимальное число в последдовательности."
   ]
  },
  {
   "cell_type": "code",
   "execution_count": 46,
   "id": "5c7a0585",
   "metadata": {},
   "outputs": [],
   "source": [
    "# Решение:\n",
    "\n",
    "# Сначала положим в ответ нулевой элемент последовательности (он точно существует), затем будем перебирать\n",
    "# все элементы. Если текущий элемент больше ответа - запишем в ответ текущий элемент.\n",
    "\n",
    "def findmax(seq):\n",
    "    ans = seq[0]\n",
    "    for i in range(len(seq)):\n",
    "        if seq[i] > ans:\n",
    "            ans = seq[i]\n",
    "    return ans"
   ]
  },
  {
   "cell_type": "markdown",
   "id": "a5407f80",
   "metadata": {},
   "source": [
    "#### Задача: дана последовательность чисел длиной N (N > 0), найти максимальное число в последдовательности и второе по величине число (такое, которое будет максимальным, если вычеркнуть из последовательности одно максимальное число)."
   ]
  },
  {
   "cell_type": "code",
   "execution_count": 49,
   "id": "64aba2da",
   "metadata": {},
   "outputs": [],
   "source": [
    "# Решение:\n",
    "\n",
    "# Заведем две переменные для первого и второго максимума. Возьмем первые два число из последовательности и\n",
    "# запишем большее из них в переменную для первого максимума, а меньшее - для второго. Пройдем по всей\n",
    "# по всей последовательности. Если очередное число больше первого максимума, то запишем во второй\n",
    "# максимум значение первого, а в первый - текущее число. Если только больше второго, запишем текущее \n",
    "# число во второй максимум.\n",
    "\n",
    "def findmax2(seq):\n",
    "    max1 = max(seq[0], seq[1])\n",
    "    max2 = min(seq[0], seq[1])\n",
    "    for i in range(len(seq)):\n",
    "        if seq[i] > max1:\n",
    "            max2 = max1\n",
    "            max1 = seq[i]\n",
    "        elif seq[i] > max2:\n",
    "            max2 = seq[i]\n",
    "    return (max1, max2)"
   ]
  },
  {
   "cell_type": "markdown",
   "id": "723307f5",
   "metadata": {},
   "source": [
    "#### Задача: дана последовательность чисел длиной N (N > 0), найти минимальное четное число в последовательности или вывести -1, если такого не существует."
   ]
  },
  {
   "cell_type": "code",
   "execution_count": 51,
   "id": "b23d7e25",
   "metadata": {},
   "outputs": [],
   "source": [
    "# Решение:\n",
    "\n",
    "# Сначала положим в ответ -1, если очередное число четное, а ответ равен -1 или больше текущего числа, то\n",
    "# запишем в ответ текущую позицию.\n",
    "\n",
    "def findmineven(seq):\n",
    "    ans = -1\n",
    "    for i in range(len(seq)):\n",
    "        if seq[i] % 2 == 0 and (seq[i] == -1 or seq[i] < ans):\n",
    "            ans = seq[i]\n",
    "    return ans"
   ]
  },
  {
   "cell_type": "markdown",
   "id": "c7ec841a",
   "metadata": {},
   "source": [
    "#### Задача: дана последовательность слов. Выести все самые короткие слова через пробел."
   ]
  },
  {
   "cell_type": "code",
   "execution_count": 67,
   "id": "b7105f62",
   "metadata": {},
   "outputs": [],
   "source": [
    "def shortwords(words):\n",
    "    minlen = len(words[0])\n",
    "    for word in words:\n",
    "        if len(word) < minlen:\n",
    "            minlen = len(word)\n",
    "    ans = []\n",
    "    for word in words:\n",
    "        if len(word) == minlen:\n",
    "            ans.append(word)\n",
    "    return ' '.join(ans)"
   ]
  },
  {
   "cell_type": "markdown",
   "id": "be5d043a",
   "metadata": {},
   "source": [
    "#### Задача: игра PitCraft происходит в двумерном мире, который состоит из блоков размером 1 на 1 метр. Остров игрока представляет собой набор столбцов различной высоты, состоящих из блоков камня и окруженный морем. Над островом прошел сильный дождь, который заполнил водой все низины, а не поместившаяся в них вода стекла в море, не увеличив его уровень. По ланшафту острова определите, сколько блоков воды осталось после дождя в низинах на острове."
   ]
  },
  {
   "cell_type": "code",
   "execution_count": 71,
   "id": "9e29f6d7",
   "metadata": {},
   "outputs": [],
   "source": [
    "def islefloob(h):\n",
    "    maxpos = 0\n",
    "    for i in range(len(h)):\n",
    "        if h[i] > h[maxpos]:\n",
    "            maxpos = i\n",
    "    ans = 0\n",
    "    nowm = 0\n",
    "    for i in range(len(maxpos)):\n",
    "        if h[i] > nowm:\n",
    "            nowm = h[i]\n",
    "        ans += nowm - h[i]\n",
    "    nowm = 0\n",
    "    for i in range(len(h) - 1, maxpos, -1):\n",
    "        if h[i] > nowm:\n",
    "            nowm = h[i]\n",
    "        ans += nowm - h[i]\n",
    "    return ans"
   ]
  },
  {
   "cell_type": "markdown",
   "id": "8ff8dc8d",
   "metadata": {},
   "source": [
    "#### Задача: дана строка (возможно, пустая), состоящая из букв A-Z: AAAABBBCCXYZDDDD. Нужно написать функцию RLE, которая на выходе даст строку вида: A4B3C2XYZD4. И сгенерирует ошибку, если на вход пришла невалидная строка. Пояснение: если символ встречается 1 раз, он остается без изменений; если символ встречается более 1 раза, к нему добавляется количество повторений."
   ]
  },
  {
   "cell_type": "code",
   "execution_count": 85,
   "id": "c5f1a6c3",
   "metadata": {},
   "outputs": [],
   "source": [
    "def rle(s):\n",
    "    def pack(s, cnt):\n",
    "        if cnt > 1:\n",
    "            return s + str(cnt)\n",
    "        return s\n",
    "    \n",
    "    lastsym = s[0]\n",
    "    lastpos = 0\n",
    "    ans = []\n",
    "    for i in range(len(s)):\n",
    "        if s[i] != lastsym:\n",
    "            ans.append(pack(lastsym, i - lastpos))\n",
    "            lastpos = i\n",
    "            lastsym = s[i]\n",
    "    ans.append(pack(s[lastpos], len(s) - lastpos))\n",
    "    return ''.join(ans)"
   ]
  },
  {
   "cell_type": "markdown",
   "id": "ce2e7199",
   "metadata": {},
   "source": [
    "### Лекция 3: «Множества»"
   ]
  },
  {
   "cell_type": "code",
   "execution_count": 104,
   "id": "3e0fded1",
   "metadata": {},
   "outputs": [],
   "source": [
    "# Создание множества\n",
    "\n",
    "setsize = 10\n",
    "myset = [[] for _ in range(setsize)]"
   ]
  },
  {
   "cell_type": "code",
   "execution_count": 106,
   "id": "5845e5c7",
   "metadata": {},
   "outputs": [],
   "source": [
    "# Добавить элемент в множество\n",
    "\n",
    "def add(x):\n",
    "    myset[x % setsize].append(x)"
   ]
  },
  {
   "cell_type": "code",
   "execution_count": 115,
   "id": "5d9a6b25",
   "metadata": {},
   "outputs": [],
   "source": [
    "# Найти элемент в множестве\n",
    "\n",
    "def find(x):\n",
    "    for now in myset[x % setsize]:\n",
    "        if now == x:\n",
    "            return True\n",
    "    return False"
   ]
  },
  {
   "cell_type": "code",
   "execution_count": 134,
   "id": "5ed20fca",
   "metadata": {},
   "outputs": [],
   "source": [
    "# удалить элемент в множестве\n",
    "\n",
    "def delete(x):\n",
    "    xlist = myset[x % setsize]\n",
    "    for i in range(len(xlist)):\n",
    "        if xlist[i] == x:\n",
    "            xlist[i], xlist[len(xlist) - 1] = xlist[len(xlist) - 1], xlist[i]\n",
    "            xlist.pop()\n",
    "            return"
   ]
  },
  {
   "cell_type": "markdown",
   "id": "5081bd4e",
   "metadata": {},
   "source": [
    "#### Задача: дана последовательность положительных чисел длиной N и число X. Нужно найти два различных числа А и В из последовательности, таких что А + В = Х или вернуть 0, 0, если такой пары чисел нет."
   ]
  },
  {
   "cell_type": "code",
   "execution_count": 139,
   "id": "6eee5554",
   "metadata": {},
   "outputs": [],
   "source": [
    "# Решение:\n",
    "\n",
    "# Будем хранить все уже обработанные числа в множестве. Если очередное число nownum, а Х - nownum есть множество, \n",
    "# то мы нашли слагаемое.\n",
    "\n",
    "def twotermswithsumx(nums, x):\n",
    "    prevnums = set()\n",
    "    for nownum in nums:\n",
    "        if x - nownum in prevnums:\n",
    "            return nownum, x - nownum\n",
    "        prevnums.add(nownum)\n",
    "    return 0, 0"
   ]
  },
  {
   "cell_type": "markdown",
   "id": "f080a8f5",
   "metadata": {},
   "source": [
    "#### Задача: дан словарь из N слов, длина каждого не превосходит K. В записи каждого из M слов текста (каждое длиной из К) может быть пропущена одна буква. Для каждого слова сказать, входит ли оно (возможно, с одной пропущенной буквой), в словарь."
   ]
  },
  {
   "cell_type": "code",
   "execution_count": 141,
   "id": "9671176f",
   "metadata": {},
   "outputs": [],
   "source": [
    "def wordsindict(dictionary, text):\n",
    "    goodwords = set(dictionary)\n",
    "    for word in dictionary:\n",
    "        for delpos in range(len(word)):\n",
    "            goodwords.add(word[:delpos] + word[delpos+1:])\n",
    "    ans = []\n",
    "    for word in text:\n",
    "        ans.append(word in goodwords)\n",
    "    return ans"
   ]
  },
  {
   "cell_type": "markdown",
   "id": "407e85a0",
   "metadata": {},
   "source": [
    "### Лекция 4: «Словари и сортировка подсчётом»"
   ]
  },
  {
   "cell_type": "code",
   "execution_count": 148,
   "id": "55879b68",
   "metadata": {},
   "outputs": [],
   "source": [
    "# Сортировка подсчетом\n",
    "\n",
    "def countsort(seq):\n",
    "    minval = min(seq)\n",
    "    maxval = max(seq)\n",
    "    k = (maxval - minval + 1)\n",
    "    count = [0] * k\n",
    "    for now in seq:\n",
    "        count[now - minval] += 1\n",
    "    nowpos = 0\n",
    "    for val in range(0, k):\n",
    "        for i in range(count[val]):\n",
    "            seq[nowpos] = val + minval\n",
    "            nowpos += 1\n",
    "    return seq"
   ]
  },
  {
   "cell_type": "markdown",
   "id": "51fc3bfe",
   "metadata": {},
   "source": [
    "#### Задача: дано два числа X и Y без ведущих нулей. Необходимо проверить, можно ли получить первое из второго перестановкой цифр."
   ]
  },
  {
   "cell_type": "code",
   "execution_count": 151,
   "id": "4de1698f",
   "metadata": {},
   "outputs": [],
   "source": [
    "# Решение:\n",
    "\n",
    "# Посчитаем количество вхождений каждой цифры в каждое из чисел и сравним. Цифры будем постепенно добывать\n",
    "# из числа справа с потощью % 10 и // 10.\n",
    "\n",
    "def isdigitpermutation(x, y):\n",
    "    def countdigits(num):\n",
    "        digitcount = [0] * 10\n",
    "        while num > 0:\n",
    "            lastdigit = num % 10\n",
    "            digitcount[lastdigit] += 1\n",
    "            num //= 10\n",
    "        return digitcount\n",
    "    \n",
    "    digitsx = countdigits(x)\n",
    "    digitsy = countdigits(y)\n",
    "    for digit in range(10):\n",
    "        if digitsx[digit] != digitsy[digit]:\n",
    "            return False\n",
    "    return True"
   ]
  },
  {
   "cell_type": "markdown",
   "id": "155a56f2",
   "metadata": {},
   "source": [
    "#### Задача: на шахматной доске N x N находятся М ладей (ладья бьет клетки на той же горизонтали или вертикали до ближайшей занятой). Определите, сколько пар ладей бьют друг друга. Ладьи задаются парой чисел I и J, обозначающих координаты клетки. "
   ]
  },
  {
   "cell_type": "code",
   "execution_count": 167,
   "id": "3515c34e",
   "metadata": {},
   "outputs": [],
   "source": [
    "# Решение:\n",
    "\n",
    "# Для каждой занятой горизонтали и вертикали будем хранить количество людей на них. Количество пар в горизонтали\n",
    "# (вертикали) равно количество ладей минус 1. Суммируем это количество пар для всех горизонталей или вертикалей.\n",
    "\n",
    "def countbeatingroks(rookcoords):\n",
    "    def addrook(roworcol, key):\n",
    "        if key not in roworcol:\n",
    "            roworcol[key] = 0\n",
    "        roworcol[key] += 1\n",
    "        \n",
    "    def countpairs(roworcol):\n",
    "        pairs = 0\n",
    "        for key in roworcol:\n",
    "            pairs += roworcol[key] - 1\n",
    "        return pairs\n",
    "    \n",
    "    rooksinrow = {}\n",
    "    rooksincol = {}\n",
    "    for row, col in rookcoords:\n",
    "        addrook(rooksinrow, row)\n",
    "        addrook(rooksincol, row)\n",
    "    return countpairs(rooksinrow) + countpairs(rooksincol)"
   ]
  },
  {
   "cell_type": "markdown",
   "id": "91f0b955",
   "metadata": {},
   "source": [
    "#### Задача: сгруппировать слова по общим буквам. \n",
    "Input: [\"eat\", \"tea\", \"tan\", \"ate\", \"nat\", \"bat\"]. \n",
    "Output: [[\"ate\", \"eat\", \"tea\"], [\"nat\", \"tan\"], [\"bat\"]]"
   ]
  },
  {
   "cell_type": "code",
   "execution_count": 171,
   "id": "e0a13dba",
   "metadata": {},
   "outputs": [],
   "source": [
    "# Решение:\n",
    "\n",
    "# Отсортируем в каждом слове буквы и это будет выступать в роли ключа, а значением будет список слов.\n",
    "\n",
    "def groupwords(words):\n",
    "    groups = {}\n",
    "    for word in words:\n",
    "        sortedword = ''.join(sorted(word))\n",
    "        if sortedword not in groups:\n",
    "            groups[sortedword] = []\n",
    "        groups[sortedword].append(word)\n",
    "    ans = []\n",
    "    for sortedword in groups:\n",
    "        ans.append(groups[sortedword])\n",
    "    return ans"
   ]
  },
  {
   "cell_type": "markdown",
   "id": "e1eafca3",
   "metadata": {},
   "source": [
    "### Лекция 5: «Префиксные суммы и два указателя»"
   ]
  },
  {
   "cell_type": "code",
   "execution_count": null,
   "id": "41ced48f",
   "metadata": {},
   "outputs": [],
   "source": [
    "# Реализация RSQ через префиксные суммы\n",
    "\n",
    "def makeprefixsum(nums):\n",
    "    prefixsum = [0] * (len(nums) + 1)\n",
    "    for i in range(1, len(nums) + 1):\n",
    "        prefixsum[i] = prefixsum[i - 1] + nums[i - 1]\n",
    "    return prefixsum\n",
    "\n",
    "def rsq(prefixsum, l, r):\n",
    "    return prefixsum[r] - prefixsum[l]"
   ]
  },
  {
   "cell_type": "markdown",
   "id": "e8f56801",
   "metadata": {},
   "source": [
    "#### Задача: дана последовательность чисел длиной N и M запросов. Запросы: \"Сколько нулей на полуинтервале [L, R)\"."
   ]
  },
  {
   "cell_type": "code",
   "execution_count": null,
   "id": "7b521d87",
   "metadata": {},
   "outputs": [],
   "source": [
    "# 1 Решение (за O(NM)):\n",
    "\n",
    "# Для каждого запроса перебираем все числа от L до R (не включительно) и считаем количество нулей. \n",
    "# В худшем случае каждый запрос за O(N).\n",
    "\n",
    "def countzeroes(nums, l, r):\n",
    "    cnt = 0\n",
    "    for i in range(l, r):\n",
    "        if nums[i] == 0:\n",
    "            cnt += 1\n",
    "    return cnt"
   ]
  },
  {
   "cell_type": "code",
   "execution_count": null,
   "id": "c9551229",
   "metadata": {},
   "outputs": [],
   "source": [
    "# 2 Решение (за O(N + M)):\n",
    "\n",
    "# Для каждого префикса посчитаем количество нулей на нем (prefixsum). \n",
    "# Тогда ответ на запрос на полуинтервале [L, R): prefixsum[r] - prefixsum[l]\n",
    "\n",
    "\n",
    "def makeprefixsum(nums):\n",
    "    prefixsum = [0] * (len(nums) + 1)\n",
    "    for i in range(1, len(nums) + 1):\n",
    "        prefixsum[i] = prefixsum[i - 1] + nums[i - 1]\n",
    "    return prefixsum\n",
    "\n",
    "def rsq(prefixsum, l, r):\n",
    "    return prefixsum[r] - prefixsum[l]"
   ]
  },
  {
   "cell_type": "markdown",
   "id": "4c22e9ba",
   "metadata": {},
   "source": [
    "#### Задача: дана последовательность чисел длиной N. Необходимо найти количество отреезков с нулевой суммой."
   ]
  },
  {
   "cell_type": "code",
   "execution_count": null,
   "id": "107f15fe",
   "metadata": {},
   "outputs": [],
   "source": [
    "# Решение (за O(N)):\n",
    "\n",
    "# Насчитаем префиксные суммы. Одинаковые префиксные суммы отзначают, что сумма на отрезке с началом и концом \n",
    "# в позициях, достигаются одинаковые префиксные суммы, будет равна нулю.\n",
    "\n",
    "def countprefixsums(nums):\n",
    "    prefixsumbyvalue = {0 : 1}\n",
    "    nowsum = 0\n",
    "    for now in nums:\n",
    "        nowsum += now\n",
    "        if nowsum not in prefixsumbyvalue:\n",
    "            prefixsumbyvalue[nowsum] = 0\n",
    "        prefixsumbyvalue[nowsum] += 1\n",
    "    return prefixsumbyvalue\n",
    "\n",
    "def countzerosumranges(prefixsumbyvalue):\n",
    "    cntranges = 0\n",
    "    for nowsum in prefixsumbyvalue:\n",
    "        cntsum prefixsumbyvalue[nowsum]\n",
    "        cntranges += cntsum * (cntsum - 1) // 2\n",
    "    return cntranges"
   ]
  },
  {
   "cell_type": "markdown",
   "id": "a3f6713c",
   "metadata": {},
   "source": [
    "#### Задача: дана отсортированная последовательность чисел длиной N и число K. Необходимо найти количество пар чисел А, В таких что В - А > K"
   ]
  },
  {
   "cell_type": "code",
   "execution_count": null,
   "id": "642fa921",
   "metadata": {},
   "outputs": [],
   "source": [
    "# Решение (за O(N)):\n",
    "\n",
    "# Возьмем наименьшее число и найдем для него первое подходящее большее. Все еще большие числа точно подходят.\n",
    "# Возьмем в качестве меньшего числа следующее, а указатель первого подходящего большего будем сдвигать начиная\n",
    "# с той позиции, где он находится сейчас.\n",
    "\n",
    "def cntpairswithdiffgtk(sortednums, k):\n",
    "    cntpairs = 0\n",
    "    last = 0\n",
    "    for first in range(len(sortednums)):\n",
    "        while last < len(sortednums) and sortednums[last] - sortednums[first] <= k:\n",
    "            last += 1\n",
    "        cntpairs += len(sortednums) - last\n",
    "    return cntpairs"
   ]
  },
  {
   "cell_type": "markdown",
   "id": "5b09844c",
   "metadata": {},
   "source": [
    "#### Задача: игрок в футбол обладает одной числовой характеристикой - профессионализмом. Команда называется сплоченной, если профессионализм любого игрока не превосходит суммарной профессионализм любых двух других игроков из команды. Команда может состоять из любого количества игроков. Дана отсортированная последовательность чисел длиной N - профессионализм игроков. Необходимо найти максимальный суммарный профессионализм сплоченной команды."
   ]
  },
  {
   "cell_type": "code",
   "execution_count": null,
   "id": "daa23e9a",
   "metadata": {},
   "outputs": [],
   "source": [
    "def bestteamsum(players):\n",
    "    bestsum = 0\n",
    "    nowsum = 0\n",
    "    last = 0\n",
    "    for first in range(len(players)):\n",
    "        while last < len(players) and (last == first or players[first] + players[first + 1] > = players[last]):\n",
    "            nowsum += players[last]\n",
    "            last += 1\n",
    "        bestsum = max(bestsum, nowsum)\n",
    "        nowsum -= players[first]\n",
    "    return bestsum"
   ]
  },
  {
   "cell_type": "markdown",
   "id": "a7205d27",
   "metadata": {},
   "source": [
    "#### Задача: даны две отсортированные последовательности чисел (длиной N и M соответственно). Необходимо слить их в одну отсортированную последовательность."
   ]
  },
  {
   "cell_type": "code",
   "execution_count": null,
   "id": "2600aee7",
   "metadata": {},
   "outputs": [],
   "source": [
    "# Решение:\n",
    "\n",
    "# Поставим два указателя на начало каждой из последовательностей. Выберем тот, который указывает на меньшее\n",
    "# число, запишем это число в результат и сдвинем указатель.\n",
    "\n",
    "def merge(nums1, nums2):\n",
    "    merged = [0] * (len(nums1) + len(nums2))\n",
    "    first1 = first2 = 0\n",
    "    for k range(len(len(nums1) + len(nums2))):\n",
    "        if first1 != len(nums1) and (first2 == len(nums2) or nums1[first1] <= nums2[first2]):\n",
    "            merged[k] = nums1[first1]\n",
    "            first1 += 1\n",
    "        else:\n",
    "            merged[k] = nums2[first2]\n",
    "            first2 += 1\n",
    "    return merged"
   ]
  },
  {
   "cell_type": "markdown",
   "id": "384f67be",
   "metadata": {},
   "source": [
    "### Лекция 6: «Бинарный поиск»"
   ]
  },
  {
   "cell_type": "code",
   "execution_count": null,
   "id": "34ba5a85",
   "metadata": {},
   "outputs": [],
   "source": [
    "# Левый бинарный поиск - первое подходящее значение\n",
    "\n",
    "def lbinsearch(l, r, check, checkparams):\n",
    "    while l < r:\n",
    "        m = (l + r) // 2\n",
    "        if check(m, checkparams):\n",
    "            r = m\n",
    "        else:\n",
    "            l = m + 1\n",
    "    return l\n",
    "\n",
    "# Правый бинпоиск - последнее подходящее значение\n",
    "\n",
    "def rbinsearch(l, r, check, checkparams):\n",
    "    while l < r:\n",
    "        m = (l + r + 1) // 2\n",
    "        if check(m, checkparams):\n",
    "            l = m\n",
    "        else:\n",
    "            l = m - 1\n",
    "    return l"
   ]
  },
  {
   "cell_type": "markdown",
   "id": "138d3949",
   "metadata": {},
   "source": [
    "#### Задача: в управляющий совет школы входят родители, учителя и учащиеся школы, причем родителей должно быть не менее одной трети от общего числа членов совета. В настоящий момент в совет входит N человек, из них K родителей. Определите, сколько родителей нужно дополнительно ввести в совет, чтобы их число стало составлять не менее трети от числа членов совета."
   ]
  },
  {
   "cell_type": "code",
   "execution_count": null,
   "id": "70d4cfa1",
   "metadata": {},
   "outputs": [],
   "source": [
    "# Решение:\n",
    "\n",
    "# Будем искать минимальное количество родителей, которых нужно добавить, бинарным поиском. Не забываем, что новые\n",
    "# родители добавляются к общему числу членов совета. Не используем деление. (L = 0, R = N)\n",
    "\n",
    "def lbinsearch(l, r, check, checkparams):\n",
    "    while l < r:\n",
    "        m = (l + r) // 2\n",
    "        if check(m, checkparams):\n",
    "            r = m\n",
    "        else:\n",
    "            l = m + 1\n",
    "    return l\n",
    "\n",
    "def checkendownment(m, params):\n",
    "    n, k = params\n",
    "    return (k + m) * 3 >= n + m"
   ]
  },
  {
   "cell_type": "markdown",
   "id": "4f4a274b",
   "metadata": {},
   "source": [
    "#### Задача: Юра решил подготовиться к собеседованию в Яндекс. Он выбрал на сайте leetcode N задач. В первый день Юра решил К задач, а в каждый следующий день Юра решал на одну задачу больше, чем в предыдущий день. Определите, сколько дней уйдет у Юры на подготовку к собеседованию."
   ]
  },
  {
   "cell_type": "code",
   "execution_count": null,
   "id": "0b959495",
   "metadata": {},
   "outputs": [],
   "source": [
    "# Решение:\n",
    "\n",
    "# Будем искать минимальное количество дней, достаточное для решения не менее N задач, бинарным поиском.\n",
    "# Нам понадобится формула арифметической прогресии. (L = 0, R = N)\n",
    "\n",
    "def lbinsearch(l, r, check, checkparams):\n",
    "    while l < r:\n",
    "        m = (l + r) // 2\n",
    "        if check(m, checkparams):\n",
    "            r = m\n",
    "        else:\n",
    "            l = m + 1\n",
    "    return l\n",
    "\n",
    "def checkproblemcount(days, params):\n",
    "    n, k = params\n",
    "    return (k + (k + days - 1)) * days // 2 >= n"
   ]
  },
  {
   "cell_type": "markdown",
   "id": "b302f647",
   "metadata": {},
   "source": [
    "#### Задача: задана отсортированная по неубыванию последовательность из N чисел и число X. Необходимо определить индекс первого числа в последовательности, которое больше либо равно X. Если такого чила нет, то вернуть число N."
   ]
  },
  {
   "cell_type": "code",
   "execution_count": null,
   "id": "0251b553",
   "metadata": {},
   "outputs": [],
   "source": [
    "def checkisge(index, params):\n",
    "    seq, x = params\n",
    "    return seq[index] >= x\n",
    "\n",
    "def findfirstge(seq, x):\n",
    "    ans = lbinsearch(0, len(seq) - 1, checkisge, (seq, x))\n",
    "    if seq[ans] < x:\n",
    "        return len(seq)\n",
    "    return ans"
   ]
  },
  {
   "cell_type": "markdown",
   "id": "61ca1c84",
   "metadata": {},
   "source": [
    "#### Задача: задана отсортированная по неубыванию последовательность из N чисел и число X. Необходимо определить сколько раз число Х входит в последовательность."
   ]
  },
  {
   "cell_type": "code",
   "execution_count": null,
   "id": "a7ccd109",
   "metadata": {},
   "outputs": [],
   "source": [
    "def checkisgt(index, params):\n",
    "    seq, x = params\n",
    "    return seq[index] > x\n",
    "\n",
    "def checkisge(index, params):\n",
    "    seq, x = params\n",
    "    return seq[index] >= x\n",
    "\n",
    "def findfirstgt(seq, x):\n",
    "    ans = lbinsearch(0, len(seq) - 1, checkisge, (seq, x))\n",
    "    if seq[ans] < x:\n",
    "        return len(seq)\n",
    "    return ans\n",
    "\n",
    "def countx(seq, x):\n",
    "    indexgt = findfirstgt(seq, x, checkisgt)\n",
    "    indexge = findfirstgt(seq, x, checkisge)\n",
    "    return indexgt - indexge"
   ]
  }
 ],
 "metadata": {
  "kernelspec": {
   "display_name": "Python 3 (ipykernel)",
   "language": "python",
   "name": "python3"
  },
  "language_info": {
   "codemirror_mode": {
    "name": "ipython",
    "version": 3
   },
   "file_extension": ".py",
   "mimetype": "text/x-python",
   "name": "python",
   "nbconvert_exporter": "python",
   "pygments_lexer": "ipython3",
   "version": "3.11.1"
  }
 },
 "nbformat": 4,
 "nbformat_minor": 5
}
