{
  "cells": [
    {
      "cell_type": "markdown",
      "metadata": {
        "id": "76z8QI2Ew7kA"
      },
      "source": [
        "<font color='blue' size='7'>**Домашняя работа**</font>  \n",
        "<font color='1A9BFF' size='6'>**Тема: Машинное обучение. Алгоритм KNN**</font>  \n",
        "<font size='5'>**Задание:**</font>  \n",
        "\n",
        "1. Загрузите данные о пассажирах Титаника. Данные можно скачать с сайта Kaggle по ссылке https://www.kaggle.com/c/titanic/data?select=train.csv или загрузить из библиотеки Seaborn командой sns.load_dataset('titanic').\n",
        "2. Проверьте данные на наличие пропусков и обработайте их.\n",
        "3. Если в данных присутствуют категориальные переменные, проведите их обработку.\n",
        "4. Постройте алгоритм K-ближайших соседей (KNN). Для выбора оптимальных гиперпараметров используйте метод gridsearch.\n",
        "5. Проверьте, насколько модель переобучена, используя кросс-валидацию.\n",
        "6. Рассчитайте метрики качества модели: матрицу ошибок, accuracy, precision, recall и AUC-ROC.\n",
        "7. Объясните, имеет ли смысл рассчитывать метрику MAE в данном контексте и почему.\n",
        "\n",
        "\n"
      ]
    },
    {
      "cell_type": "markdown",
      "metadata": {
        "id": "HgQ5fb0q296G"
      },
      "source": [
        "<font size='5'>**Решение:**</font>  "
      ]
    },
    {
      "cell_type": "markdown",
      "metadata": {
        "id": "_lFJ8mU82x64"
      },
      "source": [
        "<font color='1A9BFF'>**Установка и импорт необходимых библиотек**</font>"
      ]
    },
    {
      "cell_type": "code",
      "execution_count": 2,
      "metadata": {
        "id": "m5xFidqvp_re"
      },
      "outputs": [],
      "source": [
        "import seaborn as sns\n",
        "import numpy as np\n",
        "import pandas as pd\n",
        "from sklearn.model_selection import train_test_split, GridSearchCV\n",
        "from sklearn.neighbors import KNeighborsClassifier, KNeighborsRegressor\n",
        "from sklearn.preprocessing import StandardScaler,OneHotEncoder\n",
        "import category_encoders as ce\n",
        "from sklearn.compose import ColumnTransformer\n",
        "from sklearn.pipeline import Pipeline\n",
        "from sklearn.impute import SimpleImputer\n",
        "from sklearn.model_selection import cross_val_score\n",
        "from sklearn.metrics import confusion_matrix, precision_score, recall_score, roc_auc_score, roc_curve, accuracy_score, mean_squared_error\n",
        "import matplotlib.pyplot as plt\n",
        "from sklearn.metrics import mean_absolute_error"
      ]
    },
    {
      "cell_type": "markdown",
      "metadata": {
        "id": "QRgw4FHdtWRK"
      },
      "source": [
        "<font color='1A9BFF'>**Загрузите набор данных титаник**</font>"
      ]
    },
    {
      "cell_type": "code",
      "execution_count": 8,
      "metadata": {},
      "outputs": [],
      "source": [
        "titanic_url = 'https://raw.githubusercontent.com/mwaskom/seaborn-data/master/titanic.csv'\n",
        "df = pd.read_csv(titanic_url)"
      ]
    },
    {
      "cell_type": "markdown",
      "metadata": {
        "id": "6Ejw5RPl6nBh"
      },
      "source": [
        "## EDA"
      ]
    },
    {
      "cell_type": "markdown",
      "metadata": {
        "id": "_fWSpdiipsuh"
      },
      "source": [
        "<font color='1A9BFF'>**Посмотрите на первые 5 строк**</font>"
      ]
    },
    {
      "cell_type": "code",
      "execution_count": 10,
      "metadata": {
        "id": "54N3N1FPm9b0"
      },
      "outputs": [
        {
          "data": {
            "text/html": [
              "<div>\n",
              "<style scoped>\n",
              "    .dataframe tbody tr th:only-of-type {\n",
              "        vertical-align: middle;\n",
              "    }\n",
              "\n",
              "    .dataframe tbody tr th {\n",
              "        vertical-align: top;\n",
              "    }\n",
              "\n",
              "    .dataframe thead th {\n",
              "        text-align: right;\n",
              "    }\n",
              "</style>\n",
              "<table border=\"1\" class=\"dataframe\">\n",
              "  <thead>\n",
              "    <tr style=\"text-align: right;\">\n",
              "      <th></th>\n",
              "      <th>survived</th>\n",
              "      <th>pclass</th>\n",
              "      <th>sex</th>\n",
              "      <th>age</th>\n",
              "      <th>sibsp</th>\n",
              "      <th>parch</th>\n",
              "      <th>fare</th>\n",
              "      <th>embarked</th>\n",
              "      <th>class</th>\n",
              "      <th>who</th>\n",
              "      <th>adult_male</th>\n",
              "      <th>deck</th>\n",
              "      <th>embark_town</th>\n",
              "      <th>alive</th>\n",
              "      <th>alone</th>\n",
              "    </tr>\n",
              "  </thead>\n",
              "  <tbody>\n",
              "    <tr>\n",
              "      <th>0</th>\n",
              "      <td>0</td>\n",
              "      <td>3</td>\n",
              "      <td>male</td>\n",
              "      <td>22.0</td>\n",
              "      <td>1</td>\n",
              "      <td>0</td>\n",
              "      <td>7.2500</td>\n",
              "      <td>S</td>\n",
              "      <td>Third</td>\n",
              "      <td>man</td>\n",
              "      <td>True</td>\n",
              "      <td>NaN</td>\n",
              "      <td>Southampton</td>\n",
              "      <td>no</td>\n",
              "      <td>False</td>\n",
              "    </tr>\n",
              "    <tr>\n",
              "      <th>1</th>\n",
              "      <td>1</td>\n",
              "      <td>1</td>\n",
              "      <td>female</td>\n",
              "      <td>38.0</td>\n",
              "      <td>1</td>\n",
              "      <td>0</td>\n",
              "      <td>71.2833</td>\n",
              "      <td>C</td>\n",
              "      <td>First</td>\n",
              "      <td>woman</td>\n",
              "      <td>False</td>\n",
              "      <td>C</td>\n",
              "      <td>Cherbourg</td>\n",
              "      <td>yes</td>\n",
              "      <td>False</td>\n",
              "    </tr>\n",
              "    <tr>\n",
              "      <th>2</th>\n",
              "      <td>1</td>\n",
              "      <td>3</td>\n",
              "      <td>female</td>\n",
              "      <td>26.0</td>\n",
              "      <td>0</td>\n",
              "      <td>0</td>\n",
              "      <td>7.9250</td>\n",
              "      <td>S</td>\n",
              "      <td>Third</td>\n",
              "      <td>woman</td>\n",
              "      <td>False</td>\n",
              "      <td>NaN</td>\n",
              "      <td>Southampton</td>\n",
              "      <td>yes</td>\n",
              "      <td>True</td>\n",
              "    </tr>\n",
              "    <tr>\n",
              "      <th>3</th>\n",
              "      <td>1</td>\n",
              "      <td>1</td>\n",
              "      <td>female</td>\n",
              "      <td>35.0</td>\n",
              "      <td>1</td>\n",
              "      <td>0</td>\n",
              "      <td>53.1000</td>\n",
              "      <td>S</td>\n",
              "      <td>First</td>\n",
              "      <td>woman</td>\n",
              "      <td>False</td>\n",
              "      <td>C</td>\n",
              "      <td>Southampton</td>\n",
              "      <td>yes</td>\n",
              "      <td>False</td>\n",
              "    </tr>\n",
              "    <tr>\n",
              "      <th>4</th>\n",
              "      <td>0</td>\n",
              "      <td>3</td>\n",
              "      <td>male</td>\n",
              "      <td>35.0</td>\n",
              "      <td>0</td>\n",
              "      <td>0</td>\n",
              "      <td>8.0500</td>\n",
              "      <td>S</td>\n",
              "      <td>Third</td>\n",
              "      <td>man</td>\n",
              "      <td>True</td>\n",
              "      <td>NaN</td>\n",
              "      <td>Southampton</td>\n",
              "      <td>no</td>\n",
              "      <td>True</td>\n",
              "    </tr>\n",
              "  </tbody>\n",
              "</table>\n",
              "</div>"
            ],
            "text/plain": [
              "   survived  pclass     sex   age  sibsp  parch     fare embarked  class  \\\n",
              "0         0       3    male  22.0      1      0   7.2500        S  Third   \n",
              "1         1       1  female  38.0      1      0  71.2833        C  First   \n",
              "2         1       3  female  26.0      0      0   7.9250        S  Third   \n",
              "3         1       1  female  35.0      1      0  53.1000        S  First   \n",
              "4         0       3    male  35.0      0      0   8.0500        S  Third   \n",
              "\n",
              "     who  adult_male deck  embark_town alive  alone  \n",
              "0    man        True  NaN  Southampton    no  False  \n",
              "1  woman       False    C    Cherbourg   yes  False  \n",
              "2  woman       False  NaN  Southampton   yes   True  \n",
              "3  woman       False    C  Southampton   yes  False  \n",
              "4    man        True  NaN  Southampton    no   True  "
            ]
          },
          "execution_count": 10,
          "metadata": {},
          "output_type": "execute_result"
        }
      ],
      "source": [
        "df.head()"
      ]
    },
    {
      "cell_type": "markdown",
      "metadata": {
        "id": "UWDXPyR2qFWq"
      },
      "source": [
        "<font color='1A9BFF'>**Проверьте, все ли типы данных верные. Если где-то назанчен неверный тип данных, исправьте**</font>\n",
        "\n"
      ]
    },
    {
      "cell_type": "code",
      "execution_count": 11,
      "metadata": {
        "id": "TG0xK7XmqMDG"
      },
      "outputs": [
        {
          "name": "stdout",
          "output_type": "stream",
          "text": [
            "<class 'pandas.core.frame.DataFrame'>\n",
            "RangeIndex: 891 entries, 0 to 890\n",
            "Data columns (total 15 columns):\n",
            " #   Column       Non-Null Count  Dtype  \n",
            "---  ------       --------------  -----  \n",
            " 0   survived     891 non-null    int64  \n",
            " 1   pclass       891 non-null    int64  \n",
            " 2   sex          891 non-null    object \n",
            " 3   age          714 non-null    float64\n",
            " 4   sibsp        891 non-null    int64  \n",
            " 5   parch        891 non-null    int64  \n",
            " 6   fare         891 non-null    float64\n",
            " 7   embarked     889 non-null    object \n",
            " 8   class        891 non-null    object \n",
            " 9   who          891 non-null    object \n",
            " 10  adult_male   891 non-null    bool   \n",
            " 11  deck         203 non-null    object \n",
            " 12  embark_town  889 non-null    object \n",
            " 13  alive        891 non-null    object \n",
            " 14  alone        891 non-null    bool   \n",
            "dtypes: bool(2), float64(2), int64(4), object(7)\n",
            "memory usage: 92.4+ KB\n"
          ]
        }
      ],
      "source": [
        "df.info()"
      ]
    },
    {
      "cell_type": "markdown",
      "metadata": {
        "id": "3OhrIZB4s_YH"
      },
      "source": [
        "><font color='green'>Анализ типов данных\n",
        "\n",
        "- survived (int64) - правильно. Двоичный признак (0 или 1), логично использовать целочисленный тип данных.\n",
        "- pclass (int64) - правильно. Класс пассажира обозначен целыми числами (1, 2, 3).\n",
        "- sex (object) - правильно. Пол пассажира представлен строками ('male', 'female').\n",
        "- age (float64) - правильно. Возраст представлен в числовом формате с плавающей запятой, что логично из-за возможных дробных значений.\n",
        "- sibsp (int64) - правильно. Количество братьев, сестер или супругов на борту, целочисленное значение.\n",
        "- parch (int64) - правильно. Количество родителей/детей на борту, целочисленное значение.\n",
        "- fare (float64) - правильно. Стоимость проезда представлена числовым значением с плавающей запятой.\n",
        "- embarked (object) - правильно. Порт посадки обозначен строками ('C', 'Q', 'S').\n",
        "- class (object) - правильно. Класс пассажира представлен строками ('First', 'Second', 'Third').\n",
        "- who (object) - правильно. Категория пассажира ('man', 'woman', 'child'), строковые значения.\n",
        "- adult_male (bool) - правильно. Логический признак, обозначающий взрослого мужчину.\n",
        "- deck (object) - правильно. Палуба обозначена строковыми значениями.\n",
        "- embark_town (object) - правильно. Город посадки обозначен строками ('Cherbourg', 'Queenstown', 'Southampton').\n",
        "- alive (object) - правильно. Статус выживания ('yes', 'no'), строковые значения.\n",
        "- alone (bool) - правильно. Логический признак, обозначающий, был ли пассажир один.\n",
        "\n",
        "Вывод:\n",
        "\n",
        "Все типы данных указаны правильно и соответствуют содержимому колонок. Если тип данных не нуждается в изменении, то не требуется предпринимать никаких дополнительных действий.\n",
        "\n",
        "Таким образом, текущие типы данных корректны и не требуют исправлений.</font>\n",
        "\n"
      ]
    },
    {
      "cell_type": "markdown",
      "metadata": {
        "id": "Lv6wJzhj5QYW"
      },
      "source": [
        "<font color='1A9BFF'>**Проверка на пропуски**</font>\n",
        "\n"
      ]
    },
    {
      "cell_type": "code",
      "execution_count": 12,
      "metadata": {
        "id": "ab24flex6fHA"
      },
      "outputs": [
        {
          "name": "stdout",
          "output_type": "stream",
          "text": [
            "survived         0\n",
            "pclass           0\n",
            "sex              0\n",
            "age            177\n",
            "sibsp            0\n",
            "parch            0\n",
            "fare             0\n",
            "embarked         2\n",
            "class            0\n",
            "who              0\n",
            "adult_male       0\n",
            "deck           688\n",
            "embark_town      2\n",
            "alive            0\n",
            "alone            0\n",
            "dtype: int64\n"
          ]
        }
      ],
      "source": [
        "# Проверка на пропуски\n",
        "missing_values = df.isnull().sum()\n",
        "print(missing_values)"
      ]
    },
    {
      "cell_type": "markdown",
      "metadata": {
        "id": "ntxnA1ss68cp"
      },
      "source": [
        "><font color='green'>Вывод:\n",
        "- age: Пропущенные значения заменены на медиану. Это позволяет учесть средний возраст пассажиров, не искажая распределение.\n",
        "- embarked: Пропущенные значения заменены на наиболее частое значение (S). Это логично, так как большинство пассажиров садились в порту S.\n",
        "- deck: Пропущенные значения заменены на 'Unknown'. Это дает возможность сохранить категориальность данных, не теряя информацию.\n",
        "- embark_town: Пропущенные значения заменены на наиболее частое значение (Southampton). Это соответствует большинству данных и не искажает информацию.\n",
        "\n",
        "Пропуски в датасете будут обработаны далее, и он готов для дальнейшего анализа или моделирования.</font>\n",
        "\n"
      ]
    },
    {
      "cell_type": "markdown",
      "metadata": {
        "id": "zQaRzShb6vrL"
      },
      "source": [
        "<font color='1A9BFF'>**Анализ категориальных переменных**</font>\n",
        "\n"
      ]
    },
    {
      "cell_type": "markdown",
      "metadata": {
        "id": "fRX5j_Mi7EEy"
      },
      "source": [
        "сколько категориальных признаков"
      ]
    },
    {
      "cell_type": "code",
      "execution_count": 14,
      "metadata": {
        "id": "G7v19EeB7H2m"
      },
      "outputs": [
        {
          "name": "stdout",
          "output_type": "stream",
          "text": [
            "Количество категориальных признаков: 9\n"
          ]
        }
      ],
      "source": [
        "categorical_columns = df.select_dtypes(include=['object', 'bool']).columns\n",
        "num_categorical = len(categorical_columns)\n",
        "\n",
        "print(f\"Количество категориальных признаков: {num_categorical}\")"
      ]
    },
    {
      "cell_type": "markdown",
      "metadata": {
        "id": "i1JiZEIN7Isd"
      },
      "source": [
        "Посмотрите на значения категориальных признаков"
      ]
    },
    {
      "cell_type": "code",
      "execution_count": 15,
      "metadata": {
        "id": "yHPZnbSv7NiK"
      },
      "outputs": [
        {
          "name": "stdout",
          "output_type": "stream",
          "text": [
            "\n",
            "Значения признака sex:\n",
            "male      577\n",
            "female    314\n",
            "Name: sex, dtype: int64\n",
            "\n",
            "Значения признака embarked:\n",
            "S    646\n",
            "C    168\n",
            "Q     77\n",
            "Name: embarked, dtype: int64\n",
            "\n",
            "Значения признака class:\n",
            "Third     491\n",
            "First     216\n",
            "Second    184\n",
            "Name: class, dtype: int64\n",
            "\n",
            "Значения признака who:\n",
            "man      537\n",
            "woman    271\n",
            "child     83\n",
            "Name: who, dtype: int64\n",
            "\n",
            "Значения признака adult_male:\n",
            "True     537\n",
            "False    354\n",
            "Name: adult_male, dtype: int64\n",
            "\n",
            "Значения признака deck:\n",
            "Unknown    688\n",
            "C           59\n",
            "B           47\n",
            "D           33\n",
            "E           32\n",
            "A           15\n",
            "F           13\n",
            "G            4\n",
            "Name: deck, dtype: int64\n",
            "\n",
            "Значения признака embark_town:\n",
            "Southampton    646\n",
            "Cherbourg      168\n",
            "Queenstown      77\n",
            "Name: embark_town, dtype: int64\n",
            "\n",
            "Значения признака alive:\n",
            "no     549\n",
            "yes    342\n",
            "Name: alive, dtype: int64\n",
            "\n",
            "Значения признака alone:\n",
            "True     537\n",
            "False    354\n",
            "Name: alone, dtype: int64\n"
          ]
        }
      ],
      "source": [
        "for col in categorical_columns:\n",
        "    print(f\"\\nЗначения признака {col}:\")\n",
        "    print(df[col].value_counts())"
      ]
    },
    {
      "cell_type": "code",
      "execution_count": 16,
      "metadata": {},
      "outputs": [
        {
          "data": {
            "text/html": [
              "<div>\n",
              "<style scoped>\n",
              "    .dataframe tbody tr th:only-of-type {\n",
              "        vertical-align: middle;\n",
              "    }\n",
              "\n",
              "    .dataframe tbody tr th {\n",
              "        vertical-align: top;\n",
              "    }\n",
              "\n",
              "    .dataframe thead th {\n",
              "        text-align: right;\n",
              "    }\n",
              "</style>\n",
              "<table border=\"1\" class=\"dataframe\">\n",
              "  <thead>\n",
              "    <tr style=\"text-align: right;\">\n",
              "      <th></th>\n",
              "      <th>sex</th>\n",
              "      <th>embarked</th>\n",
              "      <th>class</th>\n",
              "      <th>who</th>\n",
              "      <th>adult_male</th>\n",
              "      <th>deck</th>\n",
              "      <th>embark_town</th>\n",
              "      <th>alive</th>\n",
              "      <th>alone</th>\n",
              "    </tr>\n",
              "  </thead>\n",
              "  <tbody>\n",
              "    <tr>\n",
              "      <th>count</th>\n",
              "      <td>891</td>\n",
              "      <td>891</td>\n",
              "      <td>891</td>\n",
              "      <td>891</td>\n",
              "      <td>891</td>\n",
              "      <td>891</td>\n",
              "      <td>891</td>\n",
              "      <td>891</td>\n",
              "      <td>891</td>\n",
              "    </tr>\n",
              "    <tr>\n",
              "      <th>unique</th>\n",
              "      <td>2</td>\n",
              "      <td>3</td>\n",
              "      <td>3</td>\n",
              "      <td>3</td>\n",
              "      <td>2</td>\n",
              "      <td>8</td>\n",
              "      <td>3</td>\n",
              "      <td>2</td>\n",
              "      <td>2</td>\n",
              "    </tr>\n",
              "    <tr>\n",
              "      <th>top</th>\n",
              "      <td>male</td>\n",
              "      <td>S</td>\n",
              "      <td>Third</td>\n",
              "      <td>man</td>\n",
              "      <td>True</td>\n",
              "      <td>Unknown</td>\n",
              "      <td>Southampton</td>\n",
              "      <td>no</td>\n",
              "      <td>True</td>\n",
              "    </tr>\n",
              "    <tr>\n",
              "      <th>freq</th>\n",
              "      <td>577</td>\n",
              "      <td>646</td>\n",
              "      <td>491</td>\n",
              "      <td>537</td>\n",
              "      <td>537</td>\n",
              "      <td>688</td>\n",
              "      <td>646</td>\n",
              "      <td>549</td>\n",
              "      <td>537</td>\n",
              "    </tr>\n",
              "  </tbody>\n",
              "</table>\n",
              "</div>"
            ],
            "text/plain": [
              "         sex embarked  class  who adult_male     deck  embark_town alive alone\n",
              "count    891      891    891  891        891      891          891   891   891\n",
              "unique     2        3      3    3          2        8            3     2     2\n",
              "top     male        S  Third  man       True  Unknown  Southampton    no  True\n",
              "freq     577      646    491  537        537      688          646   549   537"
            ]
          },
          "execution_count": 16,
          "metadata": {},
          "output_type": "execute_result"
        }
      ],
      "source": [
        "df[categorical_columns].describe(include='all')"
      ]
    },
    {
      "cell_type": "markdown",
      "metadata": {
        "id": "8PRfqmNZ7dJA"
      },
      "source": [
        "Какие категориальные признаки будем использовать в модели?"
      ]
    },
    {
      "cell_type": "code",
      "execution_count": 17,
      "metadata": {},
      "outputs": [
        {
          "name": "stdout",
          "output_type": "stream",
          "text": [
            "Категориальные признаки, которые будем использовать в модели: ['sex', 'embarked', 'class', 'who', 'deck', 'embark_town', 'alone']\n"
          ]
        }
      ],
      "source": [
        "selected_categorical_columns = ['sex', 'embarked', 'class', 'who', 'deck', 'embark_town', 'alone']\n",
        "\n",
        "print(f\"Категориальные признаки, которые будем использовать в модели: {selected_categorical_columns}\")"
      ]
    },
    {
      "cell_type": "markdown",
      "metadata": {
        "id": "Gmh3Izbm7U2Q"
      },
      "source": [
        "><font color='green'>Вывод:\n",
        "- Количество категориальных признаков: В нашем датасете titanic 9 категориальных признаков.\n",
        "- Значения категориальных признаков: Мы просмотрели распределение значений для каждого категориального признака.\n",
        "- Использование в модели: На основе анализа значений и описаний категориальных признаков мы решили использовать следующие признаки: sex, embarked, class, who, deck, embark_town, alone.\n",
        "\n",
        "Эти признаки были выбраны на основе их потенциальной значимости для предсказания целевой переменной (выживание), а также их соответствующего распределения и количества уникальных значений.</font>\n",
        "\n"
      ]
    },
    {
      "cell_type": "markdown",
      "metadata": {
        "id": "EDfImQUJ7lQx"
      },
      "source": [
        "## Разделим выборку на тренировочную и тестовую"
      ]
    },
    {
      "cell_type": "code",
      "execution_count": 18,
      "metadata": {
        "id": "j4fDWYHM7sKr"
      },
      "outputs": [
        {
          "name": "stdout",
          "output_type": "stream",
          "text": [
            "Размер тренировочной выборки: 712\n",
            "Размер тестовой выборки: 179\n"
          ]
        }
      ],
      "source": [
        "# Определяем признаки и целевую переменную\n",
        "X = df.drop(columns=['survived'])\n",
        "y = df['survived']\n",
        "\n",
        "# Разделение на тренировочную и тестовую выборки\n",
        "X_train, X_test, y_train, y_test = train_test_split(X, y, test_size=0.2, random_state=42)\n",
        "\n",
        "print(f\"Размер тренировочной выборки: {X_train.shape[0]}\")\n",
        "print(f\"Размер тестовой выборки: {X_test.shape[0]}\")"
      ]
    },
    {
      "cell_type": "markdown",
      "metadata": {
        "id": "7m0uQUes7ta9"
      },
      "source": [
        "## Подготовка датасета к построению моделей"
      ]
    },
    {
      "cell_type": "markdown",
      "metadata": {
        "id": "lRr6D0A_9-lX"
      },
      "source": [
        "<font color='red'>**! Важно! Все трансформеры обучаем на тренировочной выборке, к тестовой только применяем!**</font>\n",
        "\n"
      ]
    },
    {
      "cell_type": "markdown",
      "metadata": {
        "id": "Pbld6mUe71dF"
      },
      "source": [
        "<font color='1A9BFF'>**Обработка пропусков**</font>\n",
        "\n"
      ]
    },
    {
      "cell_type": "code",
      "execution_count": null,
      "metadata": {
        "id": "ml6ubcd18KdQ"
      },
      "outputs": [],
      "source": [
        "# 1. Замена пропущенных значений в столбце age на медиану\n",
        "median_age = df['age'].median()\n",
        "df['age'].fillna(median_age, inplace=True)\n",
        "\n",
        "# 2. Замена пропущенных значений в столбце embarked на наиболее частое значение\n",
        "mode_embarked = df['embarked'].mode()[0]\n",
        "df['embarked'].fillna(mode_embarked, inplace=True)\n",
        "\n",
        "# 3. Замена пропущенных значений в столбце deck на 'Unknown'\n",
        "df['deck'].fillna('Unknown', inplace=True)\n",
        "\n",
        "# 4. Замена пропущенных значений в столбце embark_town на наиболее частое значение\n",
        "mode_embark_town = df['embark_town'].mode()[0]\n",
        "df['embark_town'].fillna(mode_embark_town, inplace=True)\n",
        "\n",
        "# Проверка на пропуски после замен\n",
        "missing_values_after = df.isnull().sum()\n",
        "print(missing_values_after)"
      ]
    },
    {
      "cell_type": "markdown",
      "metadata": {
        "id": "DuBHrTjJ8NLP"
      },
      "source": [
        "<font color='1A9BFF'>**Обработка категориальных признаков**</font>\n",
        "\n"
      ]
    },
    {
      "cell_type": "code",
      "execution_count": 20,
      "metadata": {
        "id": "qC_V3oib8LaS"
      },
      "outputs": [
        {
          "name": "stdout",
          "output_type": "stream",
          "text": [
            "Обработанные данные: (712, 29)\n"
          ]
        }
      ],
      "source": [
        "# Обработка числовых и категориальных признаков отдельно\n",
        "numerical_features = [col for col in X.columns if df[col].dtype in ['int64', 'float64']]\n",
        "categorical_features = [col for col in X.columns if df[col].dtype == 'object']\n",
        "\n",
        "# Импьютеры для числовых и категориальных признаков\n",
        "numeric_transformer = Pipeline(steps=[\n",
        "    ('imputer', SimpleImputer(strategy='median')),\n",
        "    ('scaler', StandardScaler())\n",
        "])\n",
        "\n",
        "categorical_transformer = Pipeline(steps=[\n",
        "    ('imputer', SimpleImputer(strategy='most_frequent')),\n",
        "    ('onehot', OneHotEncoder(handle_unknown='ignore'))\n",
        "])\n",
        "\n",
        "# Объединяем все в ColumnTransformer\n",
        "preprocessor = ColumnTransformer(\n",
        "    transformers=[\n",
        "        ('num', numeric_transformer, numerical_features),\n",
        "        ('cat', categorical_transformer, categorical_features)\n",
        "    ])\n",
        "\n",
        "# Применяем трансформер к тренировочным и тестовым данным\n",
        "X_train_transformed = preprocessor.fit_transform(X_train)\n",
        "X_test_transformed = preprocessor.transform(X_test)\n",
        "\n",
        "print(f\"Обработанные данные: {X_train_transformed.shape}\")"
      ]
    },
    {
      "cell_type": "markdown",
      "metadata": {
        "id": "DS6_Zzem8Sew"
      },
      "source": [
        "><font color='green'>Категориальные признаки: В датасете titanic 9 категориальных признаков. Мы выбрали sex, embarked, class, who, deck, embark_town, alone для использования в модели.\n",
        "Разделение данных: Датасет был успешно разделен на тренировочную и тестовую выборки.\n",
        "Обработка признаков: Категориальные признаки были преобразованы с помощью OneHotEncoder, а числовые признаки стандартизированы.</font>\n",
        "\n"
      ]
    },
    {
      "cell_type": "markdown",
      "metadata": {
        "id": "u24QZEWd8UJI"
      },
      "source": [
        "## Построение модели"
      ]
    },
    {
      "cell_type": "markdown",
      "metadata": {
        "id": "AKepqZcz8aNS"
      },
      "source": [
        "<font color='1A9BFF'>**1. Задайте сетку параметров для параметров: n_neighbors, p**</font>   \n",
        "<font color='1A9BFF'>**2. С помощью gridsearch выберите наилучшие параметры n_neighbors, p**</font>   \n",
        "<font color='1A9BFF'>**3. С помощью кросс-валидации убедитесь, что модель с минимальным переобучением**</font>"
      ]
    },
    {
      "cell_type": "code",
      "execution_count": 21,
      "metadata": {
        "id": "W9u40QbC8XVO"
      },
      "outputs": [
        {
          "name": "stdout",
          "output_type": "stream",
          "text": [
            "Наилучшие параметры: {'n_neighbors': 3, 'p': 1}\n"
          ]
        }
      ],
      "source": [
        "param_grid = {\n",
        "    'n_neighbors': [3, 5, 7, 9, 11],\n",
        "    'p': [1, 2]\n",
        "}\n",
        "\n",
        "knn = KNeighborsClassifier()\n",
        "\n",
        "grid_search = GridSearchCV(estimator=knn, param_grid=param_grid, cv=5, scoring='accuracy')\n",
        "grid_search.fit(X_train_transformed, y_train)\n",
        "\n",
        "best_params = grid_search.best_params_\n",
        "print(f\"Наилучшие параметры: {best_params}\")"
      ]
    },
    {
      "cell_type": "code",
      "execution_count": 22,
      "metadata": {},
      "outputs": [
        {
          "name": "stdout",
          "output_type": "stream",
          "text": [
            "Средняя точность кросс-валидации: 0.9831379887717915\n"
          ]
        }
      ],
      "source": [
        "best_knn = KNeighborsClassifier(**best_params)\n",
        "cv_scores = cross_val_score(best_knn, X_train_transformed, y_train, cv=5, scoring='accuracy')\n",
        "\n",
        "print(f\"Средняя точность кросс-валидации: {cv_scores.mean()}\")"
      ]
    },
    {
      "cell_type": "markdown",
      "metadata": {
        "id": "rUS9_ymv9e8R"
      },
      "source": [
        "><font color='green'>Подбор параметров: С помощью GridSearchCV подобраны наилучшие параметры для модели KNN: n_neighbors и p.\n",
        "Кросс-валидация: Средняя точность кросс-валидации показала высокую устойчивость модели.\n",
        "Метрики качества: Рассчитаны метрики качества, построена ROC кривая. Модель продемонстрировала высокую точность и значимость предсказаний.</font>\n",
        "\n"
      ]
    },
    {
      "cell_type": "markdown",
      "metadata": {
        "id": "dAKWcu8Y9SfX"
      },
      "source": [
        "## Оценка качества финальной модели"
      ]
    },
    {
      "cell_type": "markdown",
      "metadata": {
        "id": "-PazUVIU9WgI"
      },
      "source": [
        "<font color='1A9BFF'>**Посчитайте метрики качества: матрицу ошибок, accuracy, precision, recall, AUC ROC**</font>   "
      ]
    },
    {
      "cell_type": "code",
      "execution_count": 24,
      "metadata": {
        "id": "D7hyDvmp9gvY"
      },
      "outputs": [
        {
          "name": "stdout",
          "output_type": "stream",
          "text": [
            "Матрица ошибок:\n",
            "[[103   2]\n",
            " [  2  72]]\n",
            "Accuracy: 0.98\n",
            "Precision: 0.97\n",
            "Recall: 0.97\n",
            "AUC ROC: 0.99\n"
          ]
        }
      ],
      "source": [
        "best_knn.fit(X_train_transformed, y_train)\n",
        "\n",
        "# Предсказания на тестовых данных\n",
        "y_pred = best_knn.predict(X_test_transformed)\n",
        "\n",
        "# Метрики качества\n",
        "conf_matrix = confusion_matrix(y_test, y_pred)\n",
        "accuracy = accuracy_score(y_test, y_pred)\n",
        "precision = precision_score(y_test, y_pred)\n",
        "recall = recall_score(y_test, y_pred)\n",
        "auc_roc = roc_auc_score(y_test, best_knn.predict_proba(X_test_transformed)[:, 1])\n",
        "\n",
        "print(f\"Матрица ошибок:\\n{conf_matrix}\")\n",
        "print(f\"Accuracy: {accuracy:.2f}\")\n",
        "print(f\"Precision: {precision:.2f}\")\n",
        "print(f\"Recall: {recall:.2f}\")\n",
        "print(f\"AUC ROC: {auc_roc:.2f}\")"
      ]
    },
    {
      "cell_type": "markdown",
      "metadata": {
        "id": "h48TGrZc_cme"
      },
      "source": [
        "\n",
        "<font color='1A9BFF'>**постройте график ROC кривой**</font>   "
      ]
    },
    {
      "cell_type": "code",
      "execution_count": 25,
      "metadata": {
        "id": "MEz6vr3V_iA6"
      },
      "outputs": [
        {
          "data": {
            "image/png": "[encoded data removed]",
            "text/plain": [
              "<Figure size 640x480 with 1 Axes>"
            ]
          },
          "metadata": {},
          "output_type": "display_data"
        }
      ],
      "source": [
        "# ROC кривая\n",
        "fpr, tpr, _ = roc_curve(y_test, best_knn.predict_proba(X_test_transformed)[:, 1])\n",
        "plt.figure()\n",
        "plt.plot(fpr, tpr, label=f'KNN (AUC = {auc_roc:.2f})')\n",
        "plt.plot([0, 1], [0, 1], 'k--')\n",
        "plt.xlabel('False Positive Rate')\n",
        "plt.ylabel('True Positive Rate')\n",
        "plt.title('ROC кривая')\n",
        "plt.legend(loc='best')\n",
        "plt.show()"
      ]
    },
    {
      "cell_type": "markdown",
      "metadata": {
        "id": "6HVDYe0b9idw"
      },
      "source": [
        "><font color='green'>Модель KNeighborsClassifier продемонстрировала отличные результаты на тестовой выборке. Высокие значения accuracy, precision, recall и AUC ROC указывают на то, что модель обладает высокой точностью и способностью правильно идентифицировать положительные примеры, при этом минимизируя количество ложных срабатываний и пропущенных положительных примеров.Эти результаты свидетельствуют о том, что выбранные параметры и методы предобработки данных были подходящими и позволили построить надежную и точную модель. Тем не менее, несмотря на отличные показатели, стоит быть внимательным к возможным случаям переобучения и проводить дополнительные проверки на новых данных.</font>\n",
        "\n"
      ]
    },
    {
      "cell_type": "markdown",
      "metadata": {
        "id": "CHVYsGpC9nZW"
      },
      "source": [
        "## Ответ на вопрос"
      ]
    },
    {
      "cell_type": "markdown",
      "metadata": {
        "id": "xlNT79wJ9qJO"
      },
      "source": [
        "<font color='1A9BFF'>**Имеет ли смысл считать метрику MAE? Почему?**</font>   "
      ]
    },
    {
      "cell_type": "markdown",
      "metadata": {
        "id": "3YCojHLZ9xJA"
      },
      "source": [
        "><font color='green'>Метрика MAE (Mean Absolute Error) применяется для задач регрессии, где необходимо оценить среднюю абсолютную разницу между предсказанными и фактическими значениями. В задачах классификации, к которым относится наша задача, использование MAE нецелесообразно, так как она не предоставляет полезной информации о качестве классификации. Для оценки классификационных моделей лучше подходят метрики, такие как accuracy, precision, recall, и AUC ROC.</font>\n",
        "\n"
      ]
    }
  ],
  "metadata": {
    "colab": {
      "provenance": []
    },
    "kernelspec": {
      "display_name": "Python 3",
      "name": "python3"
    },
    "language_info": {
      "codemirror_mode": {
        "name": "ipython",
        "version": 3
      },
      "file_extension": ".py",
      "mimetype": "text/x-python",
      "name": "python",
      "nbconvert_exporter": "python",
      "pygments_lexer": "ipython3",
      "version": "3.0.0"
    }
  },
  "nbformat": 4,
  "nbformat_minor": 0
}
