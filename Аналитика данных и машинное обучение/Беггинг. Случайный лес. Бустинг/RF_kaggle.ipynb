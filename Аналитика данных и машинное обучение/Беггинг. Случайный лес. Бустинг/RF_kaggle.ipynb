{
  "nbformat": 4,
  "nbformat_minor": 0,
  "metadata": {
    "colab": {
      "provenance": []
    },
    "kernelspec": {
      "name": "python3",
      "display_name": "Python 3"
    },
    "language_info": {
      "name": "python"
    }
  },
  "cells": [
    {
      "cell_type": "markdown",
      "source": [
        " https://www.kaggle.com/competitions/playground-series-s4e7\n",
        "\n",
        "\n",
        "Описание данных https://www.kaggle.com/datasets/annantkumarsingh/health-insurance-cross-sell-prediction-data/discussion/516324\n",
        "\n",
        "\n",
        "\n",
        "\n"
      ],
      "metadata": {
        "id": "jZOR9Y3YtJd6"
      }
    },
    {
      "cell_type": "markdown",
      "source": [
        "# <font color='#11a642' size='6'> **Импорт и установка библиотек**"
      ],
      "metadata": {
        "id": "zSuKyjSxvt0D"
      }
    },
    {
      "cell_type": "code",
      "source": [
        "!pip install category_encoders -q"
      ],
      "metadata": {
        "id": "EuZVZTCOKAHB"
      },
      "execution_count": null,
      "outputs": []
    },
    {
      "cell_type": "code",
      "source": [
        "from google.colab import drive\n",
        "import json\n",
        "import zipfile\n",
        "\n",
        "import pandas as pd\n",
        "import numpy as np\n",
        "\n",
        "from sklearn.experimental import enable_halving_search_cv\n",
        "from sklearn.model_selection import (train_test_split, GridSearchCV,\n",
        "                                     HalvingGridSearchCV, RandomizedSearchCV)\n",
        "\n",
        "from sklearn.pipeline import Pipeline\n",
        "from sklearn.preprocessing import OneHotEncoder\n",
        "from sklearn.compose import ColumnTransformer\n",
        "from category_encoders import TargetEncoder, CatBoostEncoder\n",
        "\n",
        "from sklearn.ensemble import RandomForestClassifier\n",
        "\n",
        "from sklearn.tree import DecisionTreeClassifier, plot_tree\n",
        "\n",
        "from sklearn.metrics import (precision_score, recall_score,\n",
        "                             roc_auc_score, roc_curve, f1_score)\n",
        "\n",
        "import matplotlib.pyplot as plt\n",
        "import seaborn as sns\n"
      ],
      "metadata": {
        "id": "unRyVUGuvt-O"
      },
      "execution_count": null,
      "outputs": []
    },
    {
      "cell_type": "markdown",
      "source": [
        "# <font color='#11a642' size='6'> **Загрузка данных**"
      ],
      "metadata": {
        "id": "aiA-R90MvCF9"
      }
    },
    {
      "cell_type": "code",
      "source": [
        "def load_dataset(from_kaggle=False) -> pd.DataFrame:\n",
        "  '''\n",
        "  Функция скачивает данные с сайта kaggle, если установлен from_kaggle=True,\n",
        "  инчае архив считывается по ссылке с моегого гугл диска (такой способ удобен тем, у кого нет доступа к kaggle)\n",
        "  '''\n",
        "  if from_kaggle:\n",
        "    # запросит разрешение к гугл диску, необходимо дать это разрешение\n",
        "    drive.mount('/content/drive')\n",
        "    # установим kaggle\n",
        "    !pip install kaggle -q\n",
        "    !mkdir ~/.kaggle\n",
        "    # копируем kaggle.json (предварительно, необходимо сгенерить токен на\n",
        "    # сайте kaggle и сохранить к себе на гугл диск) в папку ~/.kaggle/\n",
        "    !cp \"/content/drive/MyDrive/Colab Notebooks/config/kaggle.json\" ~/.kaggle/\n",
        "    !kaggle competitions download -c playground-series-s4e7\n",
        "  else:\n",
        "    !gdown 1HG4oNC-EfEK7DsXDfKKfb5BtgzevyZZO\n",
        "  # распаковка архива\n",
        "  zip_ref = zipfile.ZipFile('playground-series-s4e7.zip', 'r')\n",
        "  zip_ref.extractall()\n",
        "  zip_ref.close()\n",
        "  df_train = pd.read_csv('train.csv')\n",
        "  df_test = pd.read_csv('test.csv')\n",
        "  df_sample_submission = pd.read_csv('sample_submission.csv')\n",
        "  return df_train, df_test, df_sample_submission"
      ],
      "metadata": {
        "id": "2e3DRmX-u6wT"
      },
      "execution_count": null,
      "outputs": []
    },
    {
      "cell_type": "code",
      "source": [
        "df_train, df_test, df_sample_submission = load_dataset(from_kaggle=False)"
      ],
      "metadata": {
        "id": "P1uEkXjJu6zb"
      },
      "execution_count": null,
      "outputs": []
    },
    {
      "cell_type": "code",
      "source": [
        "# это данные даны для примера, в таком виде необходимо сделать выборку и загрузить на kaggle\n",
        "#  (для тех, кто хочет увидеть себя в лидерборде и оценить на сколько ваше решение лучше/хуже остальных)\n",
        "df_sample_submission.head()"
      ],
      "metadata": {
        "id": "mboz_jJeu65O"
      },
      "execution_count": null,
      "outputs": []
    },
    {
      "cell_type": "code",
      "source": [
        "# это тестовые данные, для которых необходимо предсказать target, то есть применить модель,\n",
        "#  которую вы разработаете на данных df_train\n",
        "df_test.head()"
      ],
      "metadata": {
        "id": "jS8phP1ayowq"
      },
      "execution_count": null,
      "outputs": []
    },
    {
      "cell_type": "code",
      "source": [
        "# на этих данных дальше необходимо разработать модель\n",
        "df_train.head()"
      ],
      "metadata": {
        "id": "009eOyTLu68F"
      },
      "execution_count": null,
      "outputs": []
    },
    {
      "cell_type": "code",
      "source": [
        "df_train.shape, df_train['Response'].mean()"
      ],
      "metadata": {
        "id": "HNrddNDqfLkZ"
      },
      "execution_count": null,
      "outputs": []
    },
    {
      "cell_type": "markdown",
      "source": [
        "## <font color='#11a642' size='5'> Определим роли для независимых признаков"
      ],
      "metadata": {
        "id": "PRjc_7JIE8vW"
      }
    },
    {
      "cell_type": "code",
      "source": [
        "id = 'id'\n",
        "target = 'Response'"
      ],
      "metadata": {
        "id": "nhlKchvOCXvC"
      },
      "execution_count": null,
      "outputs": []
    },
    {
      "cell_type": "code",
      "source": [
        "# на основании описание данных https://www.kaggle.com/datasets/annantkumarsingh/health-insurance-cross-sell-prediction-data/discussion/516324\n",
        "features_cat_from_description = ['Region_Code', 'Vehicle_Age', 'Policy_Sales_Channel']"
      ],
      "metadata": {
        "id": "npvv3EryDpO-"
      },
      "execution_count": null,
      "outputs": []
    },
    {
      "cell_type": "code",
      "source": [
        "features_num = [feature for feature in df_train.select_dtypes(include='number').columns.to_list()\n",
        "               if feature not in [id, target, *features_cat_from_description]]\n",
        "features_num"
      ],
      "metadata": {
        "id": "ML5O5e47ES01"
      },
      "execution_count": null,
      "outputs": []
    },
    {
      "cell_type": "code",
      "source": [
        "features_cat = [feature for feature in df_train.columns.to_list() if feature\n",
        "                not in [id, target, *features_num]]\n",
        "features_cat"
      ],
      "metadata": {
        "id": "1RWjsSHPDobB"
      },
      "execution_count": null,
      "outputs": []
    },
    {
      "cell_type": "code",
      "source": [
        "features_cat_bin = ['Gender', ]"
      ],
      "metadata": {
        "id": "Mv2PnTowGK1O"
      },
      "execution_count": null,
      "outputs": []
    },
    {
      "cell_type": "markdown",
      "source": [
        "# <font color='#11a642' size='6'> **Функции**"
      ],
      "metadata": {
        "id": "VFcGl34aL0CF"
      }
    },
    {
      "cell_type": "code",
      "source": [
        "def calculate_metrics_and_plot_roc(model, X_train, y_train, X_test, y_test):\n",
        "    # Предсказание вероятностей на обучающей и тестовой выборке\n",
        "    y_train_proba = model.predict_proba(X_train)[:, 1]\n",
        "    y_test_proba = model.predict_proba(X_test)[:, 1]\n",
        "\n",
        "    # Расчет AUC-ROC\n",
        "    roc_auc_train = roc_auc_score(y_train, y_train_proba)\n",
        "    roc_auc_test = roc_auc_score(y_test, y_test_proba)\n",
        "    print(f\"ROC-AUC Train: {roc_auc_train:.2f}\")\n",
        "    print(f\"ROC-AUC Test: {roc_auc_test:.2f}\")\n",
        "\n",
        "    # Построение ROC-кривой\n",
        "    fpr_train, tpr_train, _ = roc_curve(y_train, y_train_proba)\n",
        "    fpr_test, tpr_test, _ = roc_curve(y_test, y_test_proba)\n",
        "    plt.figure()\n",
        "    plt.plot(fpr_train, tpr_train, color='blue', lw=2, label='ROC Curve Train')\n",
        "    plt.plot(fpr_test, tpr_test, color='darkorange', lw=2, label='ROC Curve Test')\n",
        "    plt.plot([0, 1], [0, 1], color='navy', lw=2, linestyle='--')\n",
        "    plt.xlabel('False Positive Rate')\n",
        "    plt.ylabel('True Positive Rate')\n",
        "    plt.title(f'ROC Curve ({type(model).__name__})')\n",
        "    plt.legend()\n",
        "    plt.show()\n",
        "\n",
        "    # Поиск порога, максимизирующего F1-score\n",
        "    thresholds = np.arange(0.0, 1.0, 0.01)\n",
        "    f1_scores = [f1_score(y_test, y_test_proba >= t) for t in thresholds]\n",
        "    optimal_threshold = thresholds[np.argmax(f1_scores)]\n",
        "    print(f\"Optimal Threshold: {optimal_threshold:.2f}\")\n",
        "\n",
        "    # Пересчет метрик с учетом оптимального порога\n",
        "    y_train_pred_optimal = (y_train_proba >= optimal_threshold).astype(int)\n",
        "    y_test_pred_optimal = (y_test_proba >= optimal_threshold).astype(int)\n",
        "\n",
        "    train_precision = precision_score(y_train, y_train_pred_optimal)\n",
        "    train_recall = recall_score(y_train, y_train_pred_optimal)\n",
        "    test_precision = precision_score(y_test, y_test_pred_optimal)\n",
        "    test_recall = recall_score(y_test, y_test_pred_optimal)\n",
        "\n",
        "    print(f\"Optimal Training Precision: {train_precision:.2f}\")\n",
        "    print(f\"Optimal Training Recall: {train_recall:.2f}\")\n",
        "    print(f\"Optimal Test Precision: {test_precision:.2f}\")\n",
        "    print(f\"Optimal Test Recall: {test_recall:.2f}\")\n",
        "\n",
        "    metrics = {\n",
        "        'params': [\n",
        "            'Training_Precision', 'Test_Precision',\n",
        "            'Training_Recall', 'Test_Recall',\n",
        "            'ROC_AUC_Train', 'ROC_AUC_Test'\n",
        "        ],\n",
        "        'values': [\n",
        "            train_precision, test_precision,\n",
        "            train_recall, test_recall,\n",
        "            roc_auc_train, roc_auc_test\n",
        "        ]\n",
        "    }\n",
        "    return metrics"
      ],
      "metadata": {
        "id": "wtzgH_EAL2Ov"
      },
      "execution_count": null,
      "outputs": []
    },
    {
      "cell_type": "markdown",
      "source": [
        "## <font color='#11a642' size='5'> Анализ пропусков\n"
      ],
      "metadata": {
        "id": "kvgXZ_1C6jFH"
      }
    },
    {
      "cell_type": "code",
      "source": [
        "df_train.isna().sum()"
      ],
      "metadata": {
        "id": "M9DLDGg-CRm5"
      },
      "execution_count": null,
      "outputs": []
    },
    {
      "cell_type": "markdown",
      "source": [
        "# <font color='#11a642' size='6'> **Разделите данные на трейн и тест**"
      ],
      "metadata": {
        "id": "cd-lxD1y6v0Q"
      }
    },
    {
      "cell_type": "code",
      "source": [
        "%%time\n",
        "X_train, X_test, y_train, y_test = train_test_split(df_train[[*features_cat, *features_num]],\n",
        "                                                    df_train[target],\n",
        "                                                    test_size=0.2,\n",
        "                                                    stratify=df_train[target],\n",
        "                                                    random_state=42)\n",
        "X_train.shape, X_test.shape"
      ],
      "metadata": {
        "id": "3fHwY-2J7PXr"
      },
      "execution_count": null,
      "outputs": []
    },
    {
      "cell_type": "markdown",
      "source": [
        "# <font color='#11a642' size='6'> **Подготовка данных к обучению**"
      ],
      "metadata": {
        "id": "bvhVO_Sl7RH3"
      }
    },
    {
      "cell_type": "markdown",
      "source": [
        "\n",
        "\n",
        "1.   Обработка категориальных переменных\n",
        "2.   Обработка пропусков\n",
        "3.   Стоит ли делать нормализацию данных?\n",
        "\n"
      ],
      "metadata": {
        "id": "QnLudVXy7XzV"
      }
    },
    {
      "cell_type": "code",
      "source": [
        "bin_pipe = Pipeline(\n",
        "    [\n",
        "        (\n",
        "            'ohe',\n",
        "            OneHotEncoder(drop='first')\n",
        "        )\n",
        "    ]\n",
        ")"
      ],
      "metadata": {
        "id": "M_pqEovt7WMc"
      },
      "execution_count": null,
      "outputs": []
    },
    {
      "cell_type": "code",
      "source": [
        "cat_pipe = Pipeline(\n",
        "    [\n",
        "        (\n",
        "            'cat_encoding',\n",
        "            TargetEncoder()\n",
        "        )\n",
        "    ]\n",
        ")"
      ],
      "metadata": {
        "id": "txQeR4bLJXNX"
      },
      "execution_count": null,
      "outputs": []
    },
    {
      "cell_type": "code",
      "source": [
        "data_preprocessor = ColumnTransformer(\n",
        "    [\n",
        "        ('bin_pipe', bin_pipe, features_cat_bin),\n",
        "        ('cat_pipe', cat_pipe, [feature for feature in features_cat if feature not in features_cat_bin]),\n",
        "    ],\n",
        "    remainder='passthrough'\n",
        ")"
      ],
      "metadata": {
        "id": "n48L7N_8JIaY"
      },
      "execution_count": null,
      "outputs": []
    },
    {
      "cell_type": "code",
      "source": [
        "# итоговый пайплайн: подготовка данных и модель\n",
        "pipe_final = Pipeline(\n",
        "    [\n",
        "        ('preprocessor', data_preprocessor),\n",
        "        ('model', RandomForestClassifier(random_state=12345, n_estimators=5,\n",
        "                                         warm_start=True, oob_score=True))\n",
        "    ]\n",
        ")"
      ],
      "metadata": {
        "id": "p4evZLusKRe4"
      },
      "execution_count": null,
      "outputs": []
    },
    {
      "cell_type": "code",
      "source": [
        "pipe_final"
      ],
      "metadata": {
        "id": "RuCRvnpyKdiI"
      },
      "execution_count": null,
      "outputs": []
    },
    {
      "cell_type": "markdown",
      "source": [
        "# <font color='#11a642' size='6'> **Построение модели случайный лес**"
      ],
      "metadata": {
        "id": "CnibZvco7i1o"
      }
    },
    {
      "cell_type": "markdown",
      "source": [
        "## <font color='#11a642' size='5'> Параметр out-of-bag (OOB)\n"
      ],
      "metadata": {
        "id": "rrow0r8B7rEa"
      }
    },
    {
      "cell_type": "code",
      "source": [
        "%%time\n",
        "# обучаем модель на тренировочной выборке\n",
        "pipe_final.fit(X_train, y_train)\n"
      ],
      "metadata": {
        "id": "VCOomVx_7wGJ"
      },
      "execution_count": null,
      "outputs": []
    },
    {
      "cell_type": "markdown",
      "source": [
        "`Bootstrap выборка:` Для создания каждого дерева в Random Forest используется метод bootstrap — случайный выбор с заменой из исходного набора данных. Это означает, что около 63% образцов используются для обучения дерева, а оставшиеся 37% образцов называются out-of-bag (OOB) образцами.\n",
        "\n",
        "`OOB оценка:` OOB образцы для каждого дерева используются для оценки точности модели. Каждое дерево предсказывает метки для своих OOB образцов, и результат усредняется по всем деревьям. Это дает оценку точности модели без необходимости использования отдельного тестового набора.\n",
        "\n",
        "Хотя OOB оценка обычно хороша, она может быть `менее точной` для некоторых наборов данных по сравнению с использованием отдельного тестового набора."
      ],
      "metadata": {
        "id": "yM5f45QqZBHT"
      }
    },
    {
      "cell_type": "code",
      "source": [
        "pipe_final.steps[1][1]"
      ],
      "metadata": {
        "id": "n05HUwHIfvO9"
      },
      "execution_count": null,
      "outputs": []
    },
    {
      "cell_type": "code",
      "source": [
        "# Вывод OOB точности\n",
        "print(f\"OOB Score: {pipe_final.steps[1][1].oob_score_}\")\n"
      ],
      "metadata": {
        "id": "zZHNmWKAY4_b"
      },
      "execution_count": null,
      "outputs": []
    },
    {
      "cell_type": "code",
      "source": [
        "%%time\n",
        "rf_1 = calculate_metrics_and_plot_roc(pipe_final, X_train, y_train, X_test, y_test)"
      ],
      "metadata": {
        "id": "CYDiRJAvdMGa"
      },
      "execution_count": null,
      "outputs": []
    },
    {
      "cell_type": "markdown",
      "source": [
        "## <font color='#11a642' size='5'> Параметр warm_start\n"
      ],
      "metadata": {
        "id": "Fymdut-QaK_2"
      }
    },
    {
      "cell_type": "markdown",
      "source": [
        "Параметр `warm_start` позволяет добавлять новые деревья к уже существующему random forest"
      ],
      "metadata": {
        "id": "EdHPk4BKZ6u2"
      }
    },
    {
      "cell_type": "code",
      "source": [
        "%%time\n",
        "# Добавление новых деревьев к модели\n",
        "additional_estimators = 2\n",
        "pipe_final.steps[1][1].n_estimators += additional_estimators\n",
        "pipe_final.fit(X_train, y_train)"
      ],
      "metadata": {
        "id": "ZngVAF6naO1x"
      },
      "execution_count": null,
      "outputs": []
    },
    {
      "cell_type": "code",
      "source": [
        "# Получаем параметры пайплайна\n",
        "params = pipe_final.named_steps['model'].get_params()\n",
        "params"
      ],
      "metadata": {
        "id": "rassBbhLharR"
      },
      "execution_count": null,
      "outputs": []
    },
    {
      "cell_type": "code",
      "source": [
        "%%time\n",
        "rf_2 = calculate_metrics_and_plot_roc(pipe_final, X_train, y_train, X_test, y_test)"
      ],
      "metadata": {
        "id": "US8WVkNleQb9"
      },
      "execution_count": null,
      "outputs": []
    },
    {
      "cell_type": "code",
      "source": [
        "pipe_final.named_steps['preprocessor'].get_feature_names_out()"
      ],
      "metadata": {
        "id": "_ICGI7mliVuw"
      },
      "execution_count": null,
      "outputs": []
    },
    {
      "cell_type": "code",
      "source": [],
      "metadata": {
        "id": "Q95cbTV_aO8R"
      },
      "execution_count": null,
      "outputs": []
    },
    {
      "cell_type": "markdown",
      "source": [
        "## <font color='#11a642' size='5'> Построение случайного леса с поиском наилучших гиперапарметров\n"
      ],
      "metadata": {
        "id": "sS8enPrk7wP7"
      }
    },
    {
      "cell_type": "code",
      "source": [
        "param_grid = {\n",
        "    # 'preprocessor__cat_pipe__cat_encoding':[TargetEncoder(), CatBoostEncoder()],\n",
        "    'model__max_depth' : [3, 5],\n",
        "    'model__n_estimators' : [10, 12]\n",
        "    # 'model__ccp_alpha' : [0.01, 0.1]\n",
        "}"
      ],
      "metadata": {
        "id": "TyKuh45f8Ff3"
      },
      "execution_count": null,
      "outputs": []
    },
    {
      "cell_type": "code",
      "source": [
        "grid = HalvingGridSearchCV(\n",
        "    pipe_final,\n",
        "    param_grid,\n",
        "    cv=5,\n",
        "    scoring='roc_auc',\n",
        "    n_jobs = -1\n",
        ")\n",
        "grid.fit(X_train, y_train)"
      ],
      "metadata": {
        "id": "KIfco8wMv3IE"
      },
      "execution_count": null,
      "outputs": []
    },
    {
      "cell_type": "code",
      "source": [
        "# %%time\n",
        "# grid = RandomizedSearchCV(\n",
        "#     pipe_final,\n",
        "#     param_grid,\n",
        "#     cv=5,\n",
        "#     scoring='roc_auc',\n",
        "#     n_jobs = -1\n",
        "# )\n",
        "# grid.fit(X_train, y_train)"
      ],
      "metadata": {
        "id": "5tLZA6EvRSVS"
      },
      "execution_count": null,
      "outputs": []
    },
    {
      "cell_type": "code",
      "source": [
        "df_cv_results = pd.DataFrame(grid.cv_results_)"
      ],
      "metadata": {
        "id": "GyZ5Y9fWRulr"
      },
      "execution_count": null,
      "outputs": []
    },
    {
      "cell_type": "code",
      "source": [
        "\n",
        "print('Лучшая модель и её параметры:\\n\\n', grid.best_estimator_)\n",
        "print ('Метрика лучшей модели на тренировочной выборке:', grid.best_score_)\n"
      ],
      "metadata": {
        "id": "ydHvSDjy8jyv"
      },
      "execution_count": null,
      "outputs": []
    },
    {
      "cell_type": "code",
      "source": [
        "%%time\n",
        "rf_3 = calculate_metrics_and_plot_roc(grid.best_estimator_, X_train, y_train, X_test, y_test)"
      ],
      "metadata": {
        "id": "hHXbW4pNSeb6"
      },
      "execution_count": null,
      "outputs": []
    },
    {
      "cell_type": "code",
      "source": [
        "grid.best_estimator_.named_steps['model'].feature_importances_"
      ],
      "metadata": {
        "id": "pW4Ia15CfIhO"
      },
      "execution_count": null,
      "outputs": []
    },
    {
      "cell_type": "code",
      "source": [
        "pd.DataFrame(\n",
        "    {\"feature\": X_train.columns, \"importance\": grid.best_estimator_.named_steps['model'].feature_importances_}\n",
        ").sort_values(by=\"importance\", ascending=False).reset_index(drop=True)"
      ],
      "metadata": {
        "id": "Z-cKyApNW4d8"
      },
      "execution_count": null,
      "outputs": []
    },
    {
      "cell_type": "code",
      "source": [
        "STOP"
      ],
      "metadata": {
        "id": "XtIiy9Knjrw3"
      },
      "execution_count": null,
      "outputs": []
    },
    {
      "cell_type": "markdown",
      "source": [
        "# <font color='#11a642' size='6'> **Опционально, для тех, кто хочет сравнить свое решение с другими решениями на kaggle. Применение алгоритма к тестовой выборке df_test и сабмит решения на kaggle**"
      ],
      "metadata": {
        "id": "w-wM-UCS8ipl"
      }
    },
    {
      "cell_type": "code",
      "source": [
        "prediction = grid.best_estimator_.predict_proba(df_test)"
      ],
      "metadata": {
        "id": "zUyxCOI084Db"
      },
      "execution_count": null,
      "outputs": []
    },
    {
      "cell_type": "code",
      "source": [
        "df_test['Response'] = prediction[:,1]"
      ],
      "metadata": {
        "id": "u9O92X2EhIkB"
      },
      "execution_count": null,
      "outputs": []
    },
    {
      "cell_type": "code",
      "source": [
        "df_test[[id, 'Response']].to_csv('/content/submissions.csv', index=False)"
      ],
      "metadata": {
        "id": "F7Cu-a7Og9GT"
      },
      "execution_count": null,
      "outputs": []
    },
    {
      "cell_type": "code",
      "source": [
        "# загрузка данных на kaggle\n",
        "drive.mount('/content/drive')\n",
        "# установим kaggle\n",
        "!pip install kaggle -q\n",
        "!mkdir ~/.kaggle\n",
        "# копируем kaggle.json (предварительно, необходимо сгенерить токен на\n",
        "# сайте kaggle и сохранить к себе на гугл диск) в папку ~/.kaggle/\n",
        "!cp \"/content/drive/MyDrive/Colab Notebooks/config/kaggle.json\" ~/.kaggle/\n",
        "!kaggle competitions submit -c playground-series-s4e7 -f /content/submissions.csv -m \"1 submit\""
      ],
      "metadata": {
        "id": "xEw9BW8GSHY6"
      },
      "execution_count": null,
      "outputs": []
    }
  ]
}