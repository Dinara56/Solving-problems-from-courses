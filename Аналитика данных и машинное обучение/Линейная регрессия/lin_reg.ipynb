{
  "nbformat": 4,
  "nbformat_minor": 0,
  "metadata": {
    "colab": {
      "provenance": []
    },
    "kernelspec": {
      "name": "python3",
      "display_name": "Python 3"
    },
    "language_info": {
      "name": "python"
    }
  },
  "cells": [
    {
      "cell_type": "markdown",
      "source": [
        "<font color='green' size=6> 1.   Вывод формул для парной линейной регрессии  </font>.\n",
        "\n",
        "<font color='green' size=6> 2.   Вывод формул для множественной линейной регрессии  </font>.\n",
        "\n",
        "<font color='green' size=6>3.   пример на данных (парная линейная регрессия) </font>"
      ],
      "metadata": {
        "id": "TqV9q4gZ1lGN"
      }
    },
    {
      "cell_type": "markdown",
      "source": [
        "# Как получить формулы для парной линейной регресии"
      ],
      "metadata": {
        "id": "45SRPH2HpKh1"
      }
    },
    {
      "cell_type": "markdown",
      "source": [
        "<font color='blue' >Парная линейная регрессия</font>\n",
        " – это метод моделирования зависимости между двумя переменными: зависимой переменной \\( y \\) и независимой переменной \\( x \\). Цель состоит в том, чтобы найти линейное уравнение, которое наилучшим образом описывает эту зависимость:\n",
        "\n",
        "\n",
        "$$y = a + b \\cdot x$$\n",
        "\n",
        "где:\n",
        "\n",
        "- y – зависимая переменная,  \n",
        "- x – независимая переменная,  \n",
        "- a – интерцепт (пересечение с осью y),  \n",
        "- b – наклон линии (коэффициент).  \n",
        "\n",
        "\n",
        "Метод наименьших квадратов используется для нахождения значений a и b, которые минимизируют сумму квадратов ошибок (разностей между наблюдаемыми и предсказанными значениями).\n",
        "\n",
        "Ошибка (остаток) для i-го наблюдения определяется как:\n",
        "\n",
        "$$e_i = y_i - \\hat{y}_i$$\n",
        "\n",
        "где $\\hat{y}_i$ – предсказанное значение.\n",
        "\n",
        "Цель <font color='blue'> метода наименьших квадратов </font> – минимизировать сумму квадратов ошибок:\n",
        "\n",
        "$$S = \\sum_{i=1}^{n} e_i^2 = \\sum_{i=1}^{n} (y_i - \\hat{y}_i)^2 =  \\sum_{i=1}^{n} (y_i -  (a + b \\cdot x_i))^2$$\n",
        "\n",
        "\n",
        "Для минимизации суммы квадратов ошибок S  мы берем _частные производные_ по a и b и приравниваем их к нулю:\n",
        "\n",
        "$$\\frac {\\partial S}{\\partial b} = -2 \\sum_{i=1}^{n} (y_i - a - b \\cdot x_i) = 0 \\\\  \n",
        "\\frac{\\partial S}{\\partial a} = -2 \\sum_{i=1}^{n} x_i \\cdot (y_i - a - b \\cdot x_i) = 0$$\n",
        "\n",
        "\n",
        "\n",
        "Решим систему уравнений:\n",
        "\n",
        "$$ \\sum_{i=1}^{n} y_i = n \\cdot a + b \\cdot \\sum_{i=1}^{n} x_i \\\\\n",
        " \\sum_{i=1}^{n} x_i \\cdot y_i = a \\cdot \\sum_{i=1}^{n} x_i + b \\cdot \\sum_{i=1}^{n} x_i^2$$\n",
        "\n",
        "\n",
        "\n",
        "Для нахождения b и a выразим их из системы уравнений:\n",
        "\n",
        "$$a = \\frac{\\sum_{i=1}^{n} y_i - b \\cdot \\sum_{i=1}^{n} x_i}{n}$$\n",
        "\n",
        "подставим во второе уравнение и найдем b:\n",
        "$\\sum_{i=1}^{n} x_i \\cdot y_i = \\frac{\\sum_{i=1}^{n} y_i - b \\cdot \\sum_{i=1}^{n} x_i}{n} \\cdot \\sum_{i=1}^{n} x_i + b \\cdot \\sum_{i=1}^{n} x_i^2$\\\n",
        "\n",
        "далее упростим выражение :\\\n",
        "\n",
        "$n \\cdot \\sum_{i=1}^{n} x_i \\cdot y_i = ({\\sum_{i=1}^{n} y_i - b \\cdot \\sum_{i=1}^{n} x_i}) \\cdot \\sum_{i=1}^{n} x_i + b \\cdot n \\cdot \\sum_{i=1}^{n} x_i^2$\n",
        "\n",
        "и сгруппируем b:\n",
        "\n",
        "$n \\cdot \\sum_{i=1}^{n} x_i \\cdot y_i = {\\sum_{i=1}^{n} y_i \\cdot \\sum_{i=1}^{n} x_i - b \\cdot \\sum_{i=1}^{n} x_i} \\cdot \\sum_{i=1}^{n} x_i + b \\cdot n \\cdot \\sum_{i=1}^{n} x_i^2$\n",
        "\n",
        "вынесем b за скобки:\n",
        "\n",
        "$b \\cdot(n \\cdot \\sum_{i=1}^{n} x_i^2 - \\sum_{i=1}^{n} x_i \\cdot \\sum_{i=1}^{n} x_i ) = n \\cdot \\sum_{i=1}^{n} x_i \\cdot y_i - \\sum_{i=1}^{n} y_i \\cdot \\sum_{i=1}^{n} x_i$\n",
        "\n",
        "и выразим b:\n",
        "\n",
        "$b = \\frac{n \\sum_{i=1}^{n} x_i \\cdot y_i - \\sum_{i=1}^{n} x_i \\cdot \\sum_{i=1}^{n} y_i}{n \\sum_{i=1}^{n} x_i^2 - (\\sum_{i=1}^{n} x_i)^2}$\n",
        "\n",
        "еще немного шаманства (разделим на n числитель и знаменатель) и получим практически финальную формулу:\n",
        "$$b = \\frac{\\sum_{i=1}^n y_i x_i - \\frac{\\sum_{i=1}^n y_i \\sum_{i=1}^n x_i}{n}}{\\sum_{i=1}^n x_i^2 - \\frac{(\\sum_{i=1}^n x_i)^2}{n}}$$\n",
        "\n",
        "\n",
        "**Теперь давайте разберем числитель и знаменатель этого выражения подробнее**  \n",
        "<font color='blue' >Начнем с числителя.</font>\n",
        "\n",
        "$$\\sum_{i=1}^n y_i x_i - \\frac{\\sum_{i=1}^n y_i \\sum_{i=1}^n x_i}{n}$$\n",
        "\n",
        "Этот числитель можно интерпретировать как \\(n\\) умноженное на ковариацию $Cov(x, y)$.\n",
        "\n",
        "Вспомним, ковариация между x и y определяется как:\n",
        "$\\text{Cov}(x, y) = \\frac{1}{n} \\sum_{i=1}^n (x_i - \\bar{x})(y_i - \\bar{y})$\n",
        "\n",
        "Теперь раскроем скобки и упростим:\n",
        "$\\text{Cov}(x, y) = \\frac{1}{n} \\sum_{i=1}^n x_i y_i - \\frac{1}{n} \\sum_{i=1}^n x_i \\bar{y} - \\frac{1}{n} \\sum_{i=1}^n y_i \\bar{x} + \\frac{1}{n} \\sum_{i=1}^n \\bar{x} \\bar{y}$\n",
        "\n",
        "Учитывая, что $\\bar{x}$ и $\\bar{y}$ являются средними значениями, они являются константами и могут быть вынесены за знак суммы:\n",
        "$\\text{Cov}(x, y) = \\frac{1}{n} \\sum_{i=1}^n x_i y_i - \\bar{y} \\frac{1}{n} \\sum_{i=1}^n x_i - \\bar{x} \\frac{1}{n} \\sum_{i=1}^n y_i + \\bar{x} \\bar{y}$\n",
        "\n",
        "Поскольку $\\bar{x} = \\frac{1}{n} \\sum_{i=1}^n x_i$ и $\\bar{y} = \\frac{1}{n} \\sum_{i=1}^n y_i$, имеем:\n",
        "\n",
        "\n",
        "$\\text{Cov}(x, y) = \\frac{1}{n} \\sum_{i=1}^n x_i y_i - \\bar{x} \\bar{y}$\n",
        "\n",
        "Умножив обе стороны на n, получаем:\n",
        "$$n \\cdot \\text{Cov}(x, y) = \\sum_{i=1}^n x_i y_i - n \\cdot \\bar{x} \\bar{y} = \\sum_{i=1}^n x_i y_i - \\frac{\\sum_{i=1}^n y_i \\sum_{i=1}^n x_i}{n}$$\n",
        "\n",
        "<font color='blue' >Далее расмотрим знаменатель.</font>\n",
        "\n",
        "$$\\sum_{i=1}^n x_i^2 - \\frac{(\\sum_{i=1}^n x_i)^2}{n}$$\n",
        "\n",
        "Этот знаменатель можно интерпретировать как n умноженное на дисперсию $ \\text{Var}(x) $.\n",
        "\n",
        "Вспомним, что дисперсия x определяется как:\n",
        "$\\text{Var}(x) = \\frac{1}{n} \\sum_{i=1}^n (x_i - \\bar{x})^2$\n",
        "\n",
        "Раскроем скобки и упростим:\n",
        "$\\text{Var}(x) = \\frac{1}{n} \\sum_{i=1}^n (x_i^2 - 2x_i \\bar{x} + \\bar{x}^2)$.\n",
        "\n",
        "\n",
        "$\\text{Var}(x) = \\frac{1}{n} \\sum_{i=1}^n x_i^2 - \\frac{2 \\bar{x}}{n} \\sum_{i=1}^n x_i + \\frac{1}{n} \\sum_{i=1}^n \\bar{x}^2$\n",
        "\n",
        "Поскольку $\\bar{x}$ является константой:\n",
        "$\\text{Var}(x) = \\frac{1}{n} \\sum_{i=1}^n x_i^2 - \\bar{x}^2$\n",
        "\n",
        "Умножив обе стороны на \\(n\\), получаем:\n",
        "$n \\cdot \\text{Var}(x) = \\sum_{i=1}^n x_i^2 - n \\cdot \\bar{x}^2 = \\sum_{i=1}^n x_i^2 - \\frac{(\\sum_{i=1}^n x_i)^2}{n}$\n",
        "\n",
        "\n",
        "Теперь мы можем записать окончательное выражение для b:\n",
        "$$b = \\frac{n \\cdot \\text{Cov}(x, y)}{n \\cdot \\text{Var}(x)} = \\frac{\\text{Cov}(x, y)}{\\text{Var}(x)}$$\n",
        "\n",
        "С учетом определений ковариации и дисперсии, это равенство можно записать в виде:\n",
        "\n",
        "$$b = \\frac{\\sum_{i=1}^n (x_i - \\bar{x})(y_i - \\bar{y})}{\\sum_{i=1}^n (x_i - \\bar{x})^2}$$\n",
        "\n",
        "\n",
        "Теперь, когда b найден, a можно вычислить как:\n",
        "$a = \\bar{y} - b\\bar{x}$\n",
        "\n",
        "Где:\n",
        "$\\bar{x} = \\frac{1}{n} \\sum_{i=1}^n x_i$\n",
        "$\\bar{y} = \\frac{1}{n} \\sum_{i=1}^n y_i$\n",
        "\n",
        "Таким образом, мы получили окончательные формулы для коэффициентов линейной регрессии a и b.\n",
        "\n"
      ],
      "metadata": {
        "id": "_Jo9JkeWN0sx"
      }
    },
    {
      "cell_type": "markdown",
      "source": [
        "# Формулы для многомерного случая"
      ],
      "metadata": {
        "id": "hWanIe2sg1Ui"
      }
    },
    {
      "cell_type": "markdown",
      "source": [
        "\n",
        "<font color='green' size=5> Множественная линейная регрессия </font>\n",
        "\n",
        "Для многомерного случая линейной регрессии, когда у нас есть несколько предикторов $(x_1, x_2, \\ldots, x_p)$, модель записывается следующим образом:\n",
        "$$y = \\beta_0 + \\beta_1 x_1 + \\beta_2 x_2 + \\ldots + \\beta_p x_p + \\varepsilon$$\n",
        "где $(\\beta_0, \\beta_1, \\ldots, \\beta_p)$ - коэффициенты регрессии, а $\\varepsilon$ - ошибка.\n",
        "\n",
        "<font color='green'>Формула метода наименьших квадратов (МНК)</font>\n",
        "\n",
        "Мы хотим найти такие значения $(\\beta_0, \\beta_1, \\ldots, \\beta_p$, которые минимизируют сумму квадратов отклонений:\n",
        "$$S = \\sum_{i=1}^n (y_i - \\hat{y_i})^2 = \\sum_{i=1}^n \\left(y_i - \\left(\\beta_0 + \\beta_1 x_{i1} + \\beta_2 x_{i2} + \\ldots + \\beta_p x_{ip}\\right)\\right)^2$$\n",
        "\n",
        "Запишем эту задачу в матричной форме. Обозначим:\n",
        "$$\n",
        "\\mathbf{y} = \\begin{pmatrix}\n",
        "y_1 \\\\\n",
        "y_2 \\\\\n",
        "\\vdots \\\\\n",
        "y_n\n",
        "\\end{pmatrix}, \\quad\n",
        "\\mathbf{X} = \\begin{pmatrix}\n",
        "1 & x_{11} & x_{12} & \\ldots & x_{1p} \\\\\n",
        "1 & x_{21} & x_{22} & \\ldots & x_{2p} \\\\\n",
        "\\vdots & \\vdots & \\vdots & \\ddots & \\vdots \\\\\n",
        "1 & x_{n1} & x_{n2} & \\ldots & x_{np}\n",
        "\\end{pmatrix}, \\quad\n",
        "\\boldsymbol{\\beta} = \\begin{pmatrix}\n",
        "\\beta_0 \\\\\n",
        "\\beta_1 \\\\\n",
        "\\beta_2 \\\\\n",
        "\\vdots \\\\\n",
        "\\beta_p\n",
        "\\end{pmatrix}\n",
        "$$\n",
        "\n",
        "Тогда модель можно записать как:\n",
        "$$\\mathbf{y} = \\mathbf{X} \\boldsymbol{\\beta} + \\boldsymbol{\\varepsilon}$$\n",
        "\n",
        "Сумма квадратов отклонений в матричной форме:\n",
        "$$S = (\\mathbf{y} - \\mathbf{X} \\boldsymbol{\\beta})^\\top (\\mathbf{y} - \\mathbf{X} \\boldsymbol{\\beta})$$\n",
        "\n",
        "\n",
        "Для нахождения $\\boldsymbol{\\beta}$, которое минимизирует S, возьмем производную этой суммы по $\\boldsymbol{\\beta}$ и приравняем к нулю:\n",
        "$$\\frac{\\partial S}{\\partial \\boldsymbol{\\beta}} = -2\\mathbf{X}^\\top (\\mathbf{y} - \\mathbf{X} \\boldsymbol{\\beta}) = 0$$\n",
        "\n",
        "Решая это уравнение, получаем:\n",
        "$$\n",
        "\\mathbf{X}^\\top \\mathbf{y} = \\mathbf{X}^\\top \\mathbf{X} \\boldsymbol{\\beta}\n",
        "$$\n",
        "\n",
        "Таким образом:\n",
        "$$\n",
        "\\boldsymbol{\\beta} = (\\mathbf{X}^\\top \\mathbf{X})^{-1} \\mathbf{X}^\\top \\mathbf{y}\n",
        "$$\n",
        "\n",
        "\n",
        "Таким образом, коэффициенты множественной линейной регрессии вычисляются по следующей формуле:\n",
        "$$\n",
        "\\boldsymbol{\\beta} = (\\mathbf{X}^\\top \\mathbf{X})^{-1} \\mathbf{X}^\\top \\mathbf{y}\n",
        "$$\n",
        "\n",
        "где:\n",
        "$$\n",
        "\\mathbf{X} = \\begin{pmatrix}\n",
        "1 & x_{11} & x_{12} & \\ldots & x_{1p} \\\\\n",
        "1 & x_{21} & x_{22} & \\ldots & x_{2p} \\\\\n",
        "\\vdots & \\vdots & \\vdots & \\ddots & \\vdots \\\\\n",
        "1 & x_{n1} & x_{n2} & \\ldots & x_{np}\n",
        "\\end{pmatrix}, \\quad\n",
        "\\mathbf{y} = \\begin{pmatrix}\n",
        "y_1 \\\\\n",
        "y_2 \\\\\n",
        "\\vdots \\\\\n",
        "y_n\n",
        "\\end{pmatrix}\n",
        "$$\n",
        "\n",
        "\n"
      ],
      "metadata": {
        "id": "5D4XAGKHg6_N"
      }
    },
    {
      "cell_type": "markdown",
      "source": [
        "# Расмотрим на примере (парная линейная регрессия)"
      ],
      "metadata": {
        "id": "UXI1H2mN1G2g"
      }
    },
    {
      "cell_type": "code",
      "source": [
        "import warnings\n",
        "warnings.filterwarnings('ignore')\n",
        "\n",
        "import seaborn as sns\n",
        "import pandas as pd\n",
        "import numpy as np\n",
        "import matplotlib.pyplot as plt\n",
        "from matplotlib import rcParams, rcParamsDefault\n",
        "\n",
        "from sklearn.linear_model import LinearRegression\n",
        "from sklearn.linear_model import HuberRegressor\n",
        "from sklearn.metrics import mean_absolute_error, mean_squared_error\n",
        "\n",
        "\n",
        "from sklearn.model_selection import train_test_split\n",
        "\n",
        "import urllib"
      ],
      "metadata": {
        "id": "eps6VYWumyRW"
      },
      "execution_count": 1,
      "outputs": []
    },
    {
      "cell_type": "code",
      "source": [
        "# загружаем данные\n",
        "urllib.request.urlretrieve(\"https://raw.githubusercontent.com/CC-MNNIT/2018-19-Classes/master/MachineLearning/2018_08_22_Logical-Rhythm-2/data.csv\", \"data.csv\")\n",
        "data = np.genfromtxt('data.csv', delimiter=',')"
      ],
      "metadata": {
        "id": "Yiq1vCeTmyUa"
      },
      "execution_count": 2,
      "outputs": []
    },
    {
      "cell_type": "code",
      "source": [
        "# получаем значения x и y\n",
        "x = np.array(data[:,0])\n",
        "y = np.array(data[:,1])\n"
      ],
      "metadata": {
        "id": "ZmifS0K2myXY"
      },
      "execution_count": 3,
      "outputs": []
    },
    {
      "cell_type": "code",
      "source": [
        "# нарисуем dataset\n",
        "plt.figure(figsize=(5,5))\n",
        "plt.scatter(x,y)\n",
        "plt.xlabel('Часы обучения студента')\n",
        "plt.ylabel('Оценки по тестам у студента')\n",
        "plt.show()"
      ],
      "metadata": {
        "colab": {
          "base_uri": "https://localhost:8080/",
          "height": 465
        },
        "id": "Fo-3ay6RmyZ9",
        "outputId": "e3913235-67c0-4546-b6da-e245b4e82c13"
      },
      "execution_count": 4,
      "outputs": [
        {
          "output_type": "display_data",
          "data": {
            "text/plain": [
              "<Figure size 500x500 with 1 Axes>"
            ],
            "image/png": "[encoded data removed]"
          },
          "metadata": {}
        }
      ]
    },
    {
      "cell_type": "code",
      "source": [
        "\n",
        "# Разделение на тренировочную и тестовую выборки\n",
        "x_train, x_test, y_train, y_test = train_test_split(x, y, test_size=0.3, random_state=42)\n"
      ],
      "metadata": {
        "id": "c_KJ7fD436h0"
      },
      "execution_count": 5,
      "outputs": []
    },
    {
      "cell_type": "markdown",
      "source": [
        "Обучить линейную регрессию на признаках из нашего датасета.\n",
        "\n",
        "В `sklearn` есть несколько классов, реализующих линейную регрессию:\n",
        "* [`LinearRegression`](https://scikit-learn.org/stable/modules/generated/sklearn.linear_model.LinearRegression.html) &mdash; \"классическая\" линейная регрессия с оптимизацией MSE. Веса находятся как точное решение: $w^* = (X^TX)^{-1}X^Ty$\n",
        "\n",
        "У моделей из `sklearn` есть методы `fit` и `predict`.\n",
        "\n",
        "Метод `fit` принимает на вход обучающую выборку и вектор целевых переменных и обучает модель\n",
        "\n",
        "метод `predict` может быть вызван только после обучения модели, то есть только после метода `fit`, метод `predict` возвращает предсказание на выборке.\n",
        "\n",
        "Обучить нашу первую модель на числовых признаках"
      ],
      "metadata": {
        "id": "0FvN3u1K6WZ4"
      }
    },
    {
      "cell_type": "code",
      "source": [
        "model = LinearRegression()\n",
        "\n",
        "model.fit(x_train[:,np.newaxis], y_train)"
      ],
      "metadata": {
        "colab": {
          "base_uri": "https://localhost:8080/",
          "height": 75
        },
        "id": "Ad0rUVBokYX_",
        "outputId": "b93c2b15-a57c-422e-fb85-e088b82e1466"
      },
      "execution_count": 6,
      "outputs": [
        {
          "output_type": "execute_result",
          "data": {
            "text/plain": [
              "LinearRegression()"
            ],
            "text/html": [
              "<style>#sk-container-id-1 {color: black;background-color: white;}#sk-container-id-1 pre{padding: 0;}#sk-container-id-1 div.sk-toggleable {background-color: white;}#sk-container-id-1 label.sk-toggleable__label {cursor: pointer;display: block;width: 100%;margin-bottom: 0;padding: 0.3em;box-sizing: border-box;text-align: center;}#sk-container-id-1 label.sk-toggleable__label-arrow:before {content: \"▸\";float: left;margin-right: 0.25em;color: #696969;}#sk-container-id-1 label.sk-toggleable__label-arrow:hover:before {color: black;}#sk-container-id-1 div.sk-estimator:hover label.sk-toggleable__label-arrow:before {color: black;}#sk-container-id-1 div.sk-toggleable__content {max-height: 0;max-width: 0;overflow: hidden;text-align: left;background-color: #f0f8ff;}#sk-container-id-1 div.sk-toggleable__content pre {margin: 0.2em;color: black;border-radius: 0.25em;background-color: #f0f8ff;}#sk-container-id-1 input.sk-toggleable__control:checked~div.sk-toggleable__content {max-height: 200px;max-width: 100%;overflow: auto;}#sk-container-id-1 input.sk-toggleable__control:checked~label.sk-toggleable__label-arrow:before {content: \"▾\";}#sk-container-id-1 div.sk-estimator input.sk-toggleable__control:checked~label.sk-toggleable__label {background-color: #d4ebff;}#sk-container-id-1 div.sk-label input.sk-toggleable__control:checked~label.sk-toggleable__label {background-color: #d4ebff;}#sk-container-id-1 input.sk-hidden--visually {border: 0;clip: rect(1px 1px 1px 1px);clip: rect(1px, 1px, 1px, 1px);height: 1px;margin: -1px;overflow: hidden;padding: 0;position: absolute;width: 1px;}#sk-container-id-1 div.sk-estimator {font-family: monospace;background-color: #f0f8ff;border: 1px dotted black;border-radius: 0.25em;box-sizing: border-box;margin-bottom: 0.5em;}#sk-container-id-1 div.sk-estimator:hover {background-color: #d4ebff;}#sk-container-id-1 div.sk-parallel-item::after {content: \"\";width: 100%;border-bottom: 1px solid gray;flex-grow: 1;}#sk-container-id-1 div.sk-label:hover label.sk-toggleable__label {background-color: #d4ebff;}#sk-container-id-1 div.sk-serial::before {content: \"\";position: absolute;border-left: 1px solid gray;box-sizing: border-box;top: 0;bottom: 0;left: 50%;z-index: 0;}#sk-container-id-1 div.sk-serial {display: flex;flex-direction: column;align-items: center;background-color: white;padding-right: 0.2em;padding-left: 0.2em;position: relative;}#sk-container-id-1 div.sk-item {position: relative;z-index: 1;}#sk-container-id-1 div.sk-parallel {display: flex;align-items: stretch;justify-content: center;background-color: white;position: relative;}#sk-container-id-1 div.sk-item::before, #sk-container-id-1 div.sk-parallel-item::before {content: \"\";position: absolute;border-left: 1px solid gray;box-sizing: border-box;top: 0;bottom: 0;left: 50%;z-index: -1;}#sk-container-id-1 div.sk-parallel-item {display: flex;flex-direction: column;z-index: 1;position: relative;background-color: white;}#sk-container-id-1 div.sk-parallel-item:first-child::after {align-self: flex-end;width: 50%;}#sk-container-id-1 div.sk-parallel-item:last-child::after {align-self: flex-start;width: 50%;}#sk-container-id-1 div.sk-parallel-item:only-child::after {width: 0;}#sk-container-id-1 div.sk-dashed-wrapped {border: 1px dashed gray;margin: 0 0.4em 0.5em 0.4em;box-sizing: border-box;padding-bottom: 0.4em;background-color: white;}#sk-container-id-1 div.sk-label label {font-family: monospace;font-weight: bold;display: inline-block;line-height: 1.2em;}#sk-container-id-1 div.sk-label-container {text-align: center;}#sk-container-id-1 div.sk-container {/* jupyter's `normalize.less` sets `[hidden] { display: none; }` but bootstrap.min.css set `[hidden] { display: none !important; }` so we also need the `!important` here to be able to override the default hidden behavior on the sphinx rendered scikit-learn.org. See: https://github.com/scikit-learn/scikit-learn/issues/21755 */display: inline-block !important;position: relative;}#sk-container-id-1 div.sk-text-repr-fallback {display: none;}</style><div id=\"sk-container-id-1\" class=\"sk-top-container\"><div class=\"sk-text-repr-fallback\"><pre>LinearRegression()</pre><b>In a Jupyter environment, please rerun this cell to show the HTML representation or trust the notebook. <br />On GitHub, the HTML representation is unable to render, please try loading this page with nbviewer.org.</b></div><div class=\"sk-container\" hidden><div class=\"sk-item\"><div class=\"sk-estimator sk-toggleable\"><input class=\"sk-toggleable__control sk-hidden--visually\" id=\"sk-estimator-id-1\" type=\"checkbox\" checked><label for=\"sk-estimator-id-1\" class=\"sk-toggleable__label sk-toggleable__label-arrow\">LinearRegression</label><div class=\"sk-toggleable__content\"><pre>LinearRegression()</pre></div></div></div></div></div>"
            ]
          },
          "metadata": {},
          "execution_count": 6
        }
      ]
    },
    {
      "cell_type": "code",
      "source": [
        "model.coef_"
      ],
      "metadata": {
        "colab": {
          "base_uri": "https://localhost:8080/"
        },
        "id": "5ixSmT_H1YXI",
        "outputId": "5d96eec0-4946-4fa7-c261-f79c1e231b9e"
      },
      "execution_count": 7,
      "outputs": [
        {
          "output_type": "execute_result",
          "data": {
            "text/plain": [
              "array([1.17157996])"
            ]
          },
          "metadata": {},
          "execution_count": 7
        }
      ]
    },
    {
      "cell_type": "code",
      "source": [
        "model.intercept_"
      ],
      "metadata": {
        "colab": {
          "base_uri": "https://localhost:8080/"
        },
        "id": "2DXJxVtg1Z7Z",
        "outputId": "1bcefc05-bbb4-4a07-e454-f0cbca9aa13f"
      },
      "execution_count": 8,
      "outputs": [
        {
          "output_type": "execute_result",
          "data": {
            "text/plain": [
              "16.5768682358597"
            ]
          },
          "metadata": {},
          "execution_count": 8
        }
      ]
    },
    {
      "cell_type": "code",
      "source": [
        "pred_y_train=model.predict(x_train[:,np.newaxis])\n",
        "pred_y_test=model.predict(x_test[:,np.newaxis])"
      ],
      "metadata": {
        "id": "jxU4w-gm1bhZ"
      },
      "execution_count": 9,
      "outputs": []
    },
    {
      "cell_type": "code",
      "source": [
        "mean_absolute_error(y_train, pred_y_train).round(2), mean_absolute_error(y_test, pred_y_test).round(2)"
      ],
      "metadata": {
        "colab": {
          "base_uri": "https://localhost:8080/"
        },
        "id": "d7pQK8Gt4L2o",
        "outputId": "f7847c3b-b8d0-4d79-9dc1-47e5220f754d"
      },
      "execution_count": 10,
      "outputs": [
        {
          "output_type": "execute_result",
          "data": {
            "text/plain": [
              "(8.2, 9.52)"
            ]
          },
          "metadata": {},
          "execution_count": 10
        }
      ]
    },
    {
      "cell_type": "code",
      "source": [
        "mean_squared_error(y_train, pred_y_train).round(2), mean_squared_error(y_test, pred_y_test).round(2)"
      ],
      "metadata": {
        "colab": {
          "base_uri": "https://localhost:8080/"
        },
        "id": "ZGdjTw1g4WG9",
        "outputId": "a4ec758d-b16e-41df-c28c-ec5c53725963"
      },
      "execution_count": 11,
      "outputs": [
        {
          "output_type": "execute_result",
          "data": {
            "text/plain": [
              "(105.08, 134.27)"
            ]
          },
          "metadata": {},
          "execution_count": 11
        }
      ]
    },
    {
      "cell_type": "code",
      "source": [
        "# нарисуем dataset\n",
        "plt.figure(figsize=(5,5))\n",
        "plt.scatter(x_test,y_test)\n",
        "plt.plot(x_test, pred_y_test, color='green')\n",
        "plt.xlabel('Часы обучения студента')\n",
        "plt.ylabel('Оценки по тестам у студента')\n",
        "plt.show()"
      ],
      "metadata": {
        "colab": {
          "base_uri": "https://localhost:8080/",
          "height": 465
        },
        "id": "Q_SEaEjG1bp8",
        "outputId": "6e00b973-7bc5-40cb-97a4-8c79814e74e2"
      },
      "execution_count": 12,
      "outputs": [
        {
          "output_type": "display_data",
          "data": {
            "text/plain": [
              "<Figure size 500x500 with 1 Axes>"
            ],
            "image/png": "[encoded data removed]"
          },
          "metadata": {}
        }
      ]
    },
    {
      "cell_type": "code",
      "source": [
        "\n",
        "print(f'мы построили линейную регрессию y = {round(model.coef_[0],2)}*x + {round(model.intercept_, 2)}')\n"
      ],
      "metadata": {
        "colab": {
          "base_uri": "https://localhost:8080/"
        },
        "id": "dzSbEdpU1igV",
        "outputId": "931ec72f-d2a6-4955-e3b7-00e07571eaea"
      },
      "execution_count": 13,
      "outputs": [
        {
          "output_type": "stream",
          "name": "stdout",
          "text": [
            "мы построили линейную регрессию y = 1.17*x + 16.58\n"
          ]
        }
      ]
    }
  ]
}