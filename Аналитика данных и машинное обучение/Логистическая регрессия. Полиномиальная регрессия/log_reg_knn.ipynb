{
  "nbformat": 4,
  "nbformat_minor": 0,
  "metadata": {
    "colab": {
      "provenance": []
    },
    "kernelspec": {
      "name": "python3",
      "display_name": "Python 3"
    },
    "language_info": {
      "name": "python"
    }
  },
  "cells": [
    {
      "cell_type": "markdown",
      "source": [
        "#немного теории"
      ],
      "metadata": {
        "id": "zldNBQkXUXqw"
      }
    },
    {
      "cell_type": "markdown",
      "source": [
        "<font color='blue' size=5>Метод максимального правдоподобия (ММП)\n",
        "\n",
        "Метод максимального правдоподобия (ММП) является одним из наиболее распространенных методов оценки параметров статистических моделей. Основная идея метода заключается в нахождении таких значений параметров модели, при которых вероятность (правдоподобие) наблюдаемых данных максимальна.\n",
        "\n",
        "\n",
        "1. Формулировка модели и выбор функции правдоподобия:  \n",
        "\n",
        "Пусть $ X = (X_1, X_2, \\ldots, X_n) $ — выборка из некоторого распределения, зависящего от неизвестного параметра $\\theta$.\n",
        "Функция плотности или функция вероятности наблюдений будет зависеть от $\\theta$: $ f(X_i | \\theta) $.\n",
        "\n",
        "2. Запись функции правдоподобия:\n",
        "$$L(\\theta | X) = \\prod_{i=1}^{n} f(X_i | \\theta).$$\n",
        "\n",
        "3. Логарифм функции правдоподобия:\n",
        "$$\\ell(\\theta | X) = \\log L(\\theta | X) = \\sum_{i=1}^{n} \\log f(X_i | \\theta).$$\n",
        "\n",
        "4. Нахождение оценок параметров:\n",
        "$$\\hat{\\theta} = \\arg\\max_{\\theta} \\ell(\\theta | X).$$\n",
        "   \n",
        "$$\\frac{\\partial \\ell(\\theta | X)}{\\partial \\theta} = 0.$$\n",
        "\n",
        "Рассмотрим простейший пример: оценка параметра $\\mu$ нормального распределения с известной дисперсией $\\sigma^2$.\n",
        "\n",
        "1. Формулировка модели:\n",
        "Пусть $X_1, X_2, \\ldots, X_n$ — независимые и идентично распределенные случайные величины, $X_i \\sim N(\\mu, \\sigma^2)$. Функция плотности вероятности:\n",
        "$f(x | \\mu) = \\frac{1}{\\sqrt{2 \\pi \\sigma^2}} \\exp\\left(-\\frac{(x - \\mu)^2}{2\\sigma^2}\\right).$\n",
        "\n",
        "2. Функция правдоподобия:\n",
        "$$L(\\mu | X) = \\prod_{i=1}^{n} \\frac{1}{\\sqrt{2 \\pi \\sigma^2}} \\exp\\left(-\\frac{(X_i - \\mu)^2}{2\\sigma^2}\\right).$$\n",
        "\n",
        "3. Логарифм функции правдоподобия:\n",
        "$$\\ell(\\mu | X) = \\sum_{i=1}^{n} \\log \\left(\\frac{1}{\\sqrt{2 \\pi \\sigma^2}} \\exp\\left(-\\frac{(X_i - \\mu)^2}{2\\sigma^2}\\right)\\right) = -\\frac{n}{2} \\log(2 \\pi \\sigma^2) - \\frac{1}{2\\sigma^2} \\sum_{i=1}^{n} (X_i - \\mu)^2.\n",
        "$$\n",
        "\n",
        "4. Максимизация логарифма функции правдоподобия:\n",
        "Вычисляем производную по $\\mu$ и приравниваем к нулю:\n",
        "$$ \\frac{\\partial \\ell(\\mu | X)}{\\partial \\mu} = \\frac{1}{\\sigma^2} \\sum_{i=1}^{n} (X_i - \\mu) = 0.$$\n",
        "\n",
        "Решаем это уравнение:\n",
        "$$\\hat{\\mu} = \\frac{1}{n} \\sum_{i=1}^{n} X_i.$$\n",
        "Таким образом, оценка параметра $\\mu$ методом максимального правдоподобия — это среднее значение выборки.\n",
        "\n",
        "Метод максимального правдоподобия является мощным инструментом для статистического анализа и широко используется в различных областях, включая эконометрику, биостатистику и машинное обучение."
      ],
      "metadata": {
        "id": "hi7ccbajUZiL"
      }
    },
    {
      "cell_type": "markdown",
      "source": [
        "# Практика"
      ],
      "metadata": {
        "id": "roxMDHqPUHrH"
      }
    },
    {
      "cell_type": "code",
      "source": [
        "import pandas as pd\n",
        "import numpy as np\n",
        "\n",
        "\n",
        "\n",
        "# from sklearn.datasets import load_breast_cancer\n",
        "from sklearn.linear_model import LogisticRegression\n",
        "from sklearn.neighbors import KNeighborsClassifier\n",
        "\n",
        "# from sklearn.impute import KNNImputer\n",
        "from sklearn.preprocessing import StandardScaler, OneHotEncoder\n",
        "\n",
        "from sklearn.metrics import (precision_score, recall_score,\n",
        "                             roc_auc_score, roc_curve, f1_score)\n",
        "\n",
        "from sklearn.model_selection import (cross_val_score, GridSearchCV,\n",
        "                                     RandomizedSearchCV, train_test_split)\n",
        "\n",
        "# from sklearn.pipeline import Pipeline\n",
        "\n",
        "import seaborn as sns\n",
        "import matplotlib.pyplot as plt\n",
        "\n",
        "\n"
      ],
      "metadata": {
        "id": "CkN-Xsqq-_GF"
      },
      "execution_count": 1,
      "outputs": []
    },
    {
      "cell_type": "markdown",
      "source": [
        "# Функции"
      ],
      "metadata": {
        "id": "W5XPB6l6KYGB"
      }
    },
    {
      "cell_type": "code",
      "source": [
        "def analyze_outliers(df, col):\n",
        "  '''поиск выбросов с помощью IQR'''\n",
        "  Q3 = np.quantile(df[col], 0.75, axis=0)\n",
        "  Q1 = np.quantile(df[col], 0.25, axis=0)\n",
        "  IQR = Q3 - Q1\n",
        "  upper = round(Q3 + 1.5 * IQR, 2)\n",
        "  lower = round(Q1 - 1.5 * IQR, 2)\n",
        "  if round(Q1 - 1.5 * IQR, 2)<0:\n",
        "    lower = 0\n",
        "  print('____________________________________________________________________')\n",
        "  print(f'интервал фактических значений для переменной {col} от {round(df[col].min(),2)} до {round(df[col].max(),2)}')\n",
        "  print(f'интервал нормальных значений для переменной {col} от {lower} до {upper}')\n",
        "\n",
        "  print(f'переменная {col} содержит аномальных значений : {round(df[(df[col]>upper)| (df[col]<lower)].shape[0]/df.shape[0]*100, 2)}%')\n",
        "\n",
        "  if df[(df[col] == 0)].shape[0]>0:\n",
        "    print(f'переменная {col} содержит нулевые значения {round(df[(df[col] == 0)].shape[0]/df.shape[0]*100, 2)}%')\n",
        "\n",
        "  return lower, upper"
      ],
      "metadata": {
        "id": "bIbf1Ss1Lf-p"
      },
      "execution_count": 2,
      "outputs": []
    },
    {
      "cell_type": "code",
      "source": [
        "def calc_optimal_cutoff(y_pred, y_fact):\n",
        "  # Найдем оптимальный порог\n",
        "  f1_scores = []\n",
        "  thresholds = np.linspace(0, 1, num=100)\n",
        "  for threshold in thresholds:\n",
        "    y_pred_thresholded = (y_pred >= threshold).astype(int)\n",
        "\n",
        "    f1 = f1_score(y_fact, y_pred_thresholded)\n",
        "    # print('y_pred_thresholded')\n",
        "    f1_scores.append(f1)\n",
        "\n",
        "# Находим индекс максимальной F1\n",
        "  best_f1_index = np.argmax(f1_scores)\n",
        "  best_threshold = thresholds[best_f1_index]\n",
        "  print(\"Оптимальный порог:\", best_threshold)\n",
        "  print(\"Максимальная F1-мера:\", f1_scores[best_f1_index])\n",
        "\n",
        "  return best_threshold"
      ],
      "metadata": {
        "id": "8Grqs_MpKZzb"
      },
      "execution_count": 3,
      "outputs": []
    },
    {
      "cell_type": "code",
      "source": [
        "# Функция для расчета метрик и построения кривой ROC\n",
        "def calculate_metrics_and_plot_roc(model, X_train, y_train, X_test, y_test):\n",
        "    # Предсказание на обучающей и тестовой выборке\n",
        "    y_train_proba = model.predict_proba(X_train)[:,1]\n",
        "\n",
        "    best_threshold = calc_optimal_cutoff(y_train_proba, y_train)\n",
        "\n",
        "    y_train_pred = (y_train_proba >= best_threshold).astype(int)\n",
        "    y_test_proba = model.predict_proba(X_test)[:,1]\n",
        "    y_test_pred = (y_test_proba >= best_threshold).astype(int)\n",
        "\n",
        "    # Расчет метрик precision и recall\n",
        "    train_precision = precision_score(y_train, y_train_pred)\n",
        "    print(train_precision)\n",
        "    train_recall = recall_score(y_train, y_train_pred)\n",
        "    test_precision = precision_score(y_test, y_test_pred)\n",
        "    test_recall = recall_score(y_test, y_test_pred)\n",
        "\n",
        "    print(f\"Training Precision: {train_precision:.2f}\")\n",
        "    print(f\"Training Recall: {train_recall:.2f}\")\n",
        "    print(f\"Test Precision: {test_precision:.2f}\")\n",
        "    print(f\"Test Recall: {test_recall:.2f}\")\n",
        "\n",
        "    metrics =  {'params': ['Training_Precision', 'Test_Precision','Training_Recall', 'Test_Recall'],\n",
        "                'values': [train_precision, test_precision, train_recall, test_recall]}\n",
        "\n",
        "    # Расчет ROC-AUC на тестовой выборке\n",
        "    try:\n",
        "      pred_test = model.predict_proba(X_test)\n",
        "      pred_train = model.predict_proba(X_train)\n",
        "      roc_auc_test = roc_auc_score(y_test, pred_test[:, 1])\n",
        "      roc_auc_train = roc_auc_score(y_train, pred_train[:, 1])\n",
        "      print(f\"ROC-AUC_test = : {roc_auc_test:.2f} и ROC-AUC_train = : {roc_auc_train:.2f}\")\n",
        "\n",
        "      # Построение кривой ROC\n",
        "      fpr_test, tpr_test, _ = roc_curve(y_test, pred_test[:, 1])\n",
        "      fpr_train, tpr_train, _ = roc_curve(y_train, pred_train[:, 1])\n",
        "      plt.figure()\n",
        "      plt.plot(fpr_test, tpr_test, color='blue', lw=2, label = 'ROC Curve test')\n",
        "      plt.plot(fpr_train, tpr_train, color='darkorange', lw=2, label = 'ROC Curve test')\n",
        "      plt.plot([0, 1], [0, 1], color='navy', lw=2, linestyle='--')\n",
        "      plt.xlabel('False Positive Rate')\n",
        "      plt.ylabel('True Positive Rate')\n",
        "      plt.legend()\n",
        "      plt.title(f'ROC Curve ({type(model).__name__})')\n",
        "      plt.show()\n",
        "    except Exception as e:\n",
        "      print(e)\n",
        "      roc_auc_test = 0\n",
        "      roc_auc_train = 0\n",
        "\n",
        "    metrics =  {'params': ['Training_Precision', 'Test_Precision','Training_Recall',\n",
        "                           'Test_Recall', 'roc_auc_train', 'roc_auc_test'],\n",
        "                'values': [train_precision, test_precision, train_recall,\n",
        "                           test_recall, roc_auc_train, roc_auc_test]}\n",
        "    return metrics"
      ],
      "metadata": {
        "id": "j_ZpVaYDKc3_"
      },
      "execution_count": 4,
      "outputs": []
    },
    {
      "cell_type": "markdown",
      "source": [
        "# Загрузка данных"
      ],
      "metadata": {
        "id": "BohUki-HKgPs"
      }
    },
    {
      "cell_type": "code",
      "source": [
        "sample = 2"
      ],
      "metadata": {
        "id": "RppreMbVQ_hE"
      },
      "execution_count": 5,
      "outputs": []
    },
    {
      "cell_type": "markdown",
      "source": [
        "\"Heart Disease\" из UCI Machine Learning Repository содержит информацию о пациентах и их медицинских показателях, задача состоит в предсказании наличия или отсутствия сердечных заболеваний."
      ],
      "metadata": {
        "id": "PB8H7_xCR_x1"
      }
    },
    {
      "cell_type": "code",
      "source": [
        "if sample == 1:\n",
        "  #  Загрузка набора данных Heart Disease\n",
        "  url = \"https://archive.ics.uci.edu/ml/machine-learning-databases/heart-disease/processed.cleveland.data\"\n",
        "  column_names = [\n",
        "      \"age\", \"sex\", \"cp\", \"trestbps\", \"chol\", \"fbs\", \"restecg\", \"thalach\", \"exang\",\n",
        "      \"oldpeak\", \"slope\", \"ca\", \"thal\", \"target\"\n",
        "  ]\n",
        "\n",
        "  df = pd.read_csv(url, header=None, names=column_names, na_values=\"?\")\n",
        "  df.dropna(inplace=True)\n",
        "\n",
        "  # Преобразование целевой переменной: 0 - отсутствие заболевания, 1 - наличие заболевания\n",
        "  df['target'] = df['target'].apply(lambda x: 1 if x > 0 else 0)"
      ],
      "metadata": {
        "id": "lS8khs1VHtAN"
      },
      "execution_count": 6,
      "outputs": []
    },
    {
      "cell_type": "markdown",
      "source": [
        "## 2-ой набор"
      ],
      "metadata": {
        "id": "YUqFUlnWQyGG"
      }
    },
    {
      "cell_type": "markdown",
      "source": [
        "Набор данных \"Adult\" из UCI Machine Learning Repository, который также известен как \"Census Income\" dataset. Этот набор данных содержит информацию о доходах людей на основе демографических данных и позволяет решить задачу бинарной классификации, предсказывая, зарабатывает ли человек более или менее 50K в год."
      ],
      "metadata": {
        "id": "8DN2J-t4R4nD"
      }
    },
    {
      "cell_type": "code",
      "source": [
        "if sample == 2:\n",
        "  # Загрузка набора данных Adult\n",
        "  url = \"https://archive.ics.uci.edu/ml/machine-learning-databases/adult/adult.data\"\n",
        "  columns = [\n",
        "      \"age\", \"workclass\", \"fnlwgt\", \"education\", \"education-num\", \"marital-status\",\n",
        "      \"occupation\", \"relationship\", \"race\", \"sex\", \"capital-gain\", \"capital-loss\",\n",
        "      \"hours-per-week\", \"native-country\", \"income\"\n",
        "  ]\n",
        "\n",
        "  df = pd.read_csv(url, header=None, names=columns, na_values=\" ?\", sep=',\\s', engine='python')\n",
        "\n",
        "  # Удаление строк с пропущенными значениями\n",
        "  df.dropna(inplace=True)\n",
        "\n",
        "  # Преобразование целевой переменной: <=50K - 0, >50K - 1\n",
        "  df['target'] = df['income'].apply(lambda x: 1 if x == '>50K' else 0)\n"
      ],
      "metadata": {
        "id": "SmLumWYDQ0Xn"
      },
      "execution_count": 7,
      "outputs": []
    },
    {
      "cell_type": "markdown",
      "source": [
        "## Выбор признаков и целевой переменной"
      ],
      "metadata": {
        "id": "aUiDPBdwQ3ji"
      }
    },
    {
      "cell_type": "code",
      "source": [
        "df = df.select_dtypes(include='number')"
      ],
      "metadata": {
        "id": "oVGtz2NoRbi3"
      },
      "execution_count": 8,
      "outputs": []
    },
    {
      "cell_type": "code",
      "source": [
        "\n",
        "X = df.drop('target', axis=1)\n",
        "y = df['target']"
      ],
      "metadata": {
        "id": "mOTV0O0TQ3t6"
      },
      "execution_count": 9,
      "outputs": []
    },
    {
      "cell_type": "code",
      "source": [
        "df.shape"
      ],
      "metadata": {
        "colab": {
          "base_uri": "https://localhost:8080/"
        },
        "id": "aEd3ZaXdRM1Y",
        "outputId": "4eb06b36-8302-49b4-c447-d9124610b3a6"
      },
      "execution_count": 10,
      "outputs": [
        {
          "output_type": "execute_result",
          "data": {
            "text/plain": [
              "(32561, 7)"
            ]
          },
          "metadata": {},
          "execution_count": 10
        }
      ]
    },
    {
      "cell_type": "code",
      "source": [
        "df.dtypes"
      ],
      "metadata": {
        "colab": {
          "base_uri": "https://localhost:8080/"
        },
        "id": "rbrMjSZPRXDb",
        "outputId": "0c22d350-3ad0-464f-8f5c-619f0051e32a"
      },
      "execution_count": 11,
      "outputs": [
        {
          "output_type": "execute_result",
          "data": {
            "text/plain": [
              "age               int64\n",
              "fnlwgt            int64\n",
              "education-num     int64\n",
              "capital-gain      int64\n",
              "capital-loss      int64\n",
              "hours-per-week    int64\n",
              "target            int64\n",
              "dtype: object"
            ]
          },
          "metadata": {},
          "execution_count": 11
        }
      ]
    },
    {
      "cell_type": "markdown",
      "source": [
        "# Разделим данные"
      ],
      "metadata": {
        "id": "CecLEK5IKjTC"
      }
    },
    {
      "cell_type": "code",
      "source": [
        "# Разделение данных на обучающую и тестовую выборки\n",
        "X_train, X_test, y_train, y_test = train_test_split(X, y, test_size=0.2, random_state=42)"
      ],
      "metadata": {
        "id": "W08EEVgSH9Z8"
      },
      "execution_count": 12,
      "outputs": []
    },
    {
      "cell_type": "markdown",
      "source": [
        "# Подготовка данных и построение модели"
      ],
      "metadata": {
        "id": "LhaC_B60KmQy"
      }
    },
    {
      "cell_type": "code",
      "source": [
        "# Стандартизация признаков\n",
        "scaler = StandardScaler()\n",
        "X_train_scaled = scaler.fit_transform(X_train)\n",
        "X_test_scaled = scaler.transform(X_test)"
      ],
      "metadata": {
        "id": "5q1bTScPHydU"
      },
      "execution_count": 13,
      "outputs": []
    },
    {
      "cell_type": "markdown",
      "source": [
        "# Построение моделей"
      ],
      "metadata": {
        "id": "Xcb1RYHTMISx"
      }
    },
    {
      "cell_type": "markdown",
      "source": [
        "## KNN"
      ],
      "metadata": {
        "id": "Zez-9MJxQF6p"
      }
    },
    {
      "cell_type": "code",
      "source": [
        "knn_model = KNeighborsClassifier()"
      ],
      "metadata": {
        "id": "ulT4Oc1VMK2Z"
      },
      "execution_count": 14,
      "outputs": []
    },
    {
      "cell_type": "code",
      "source": [
        "%%time\n",
        "# Задаем сетку параметров для значения \"n_neighbors\", которое мы хотим исследовать\n",
        "param_grid = {'n_neighbors': [3, 5, 7, 9, ], 'p':[1,2]}  # Пример значений, можно изменить диапазон по необходимости\n",
        "\n",
        "# Создаем объект GridSearchCV с моделью KNN и сеткой параметров\n",
        "grid_search = GridSearchCV(knn_model, param_grid, cv=5, scoring='roc_auc')  # Параметр cv определяет количество фолдов в кросс-валидации\n",
        "\n",
        "# Обучаем модель на данных с помощью кросс-валидации\n",
        "grid_search.fit(X_train_scaled, y_train)\n",
        "\n",
        "# Получаем лучшее найденное значение параметра \"n_neighbors\" в результате кросс-валидации\n",
        "grid_search.best_params_\n",
        "\n"
      ],
      "metadata": {
        "colab": {
          "base_uri": "https://localhost:8080/"
        },
        "id": "T3ZVzNxdMPJM",
        "outputId": "286c95cd-320a-4716-9daa-4140ed0ce686"
      },
      "execution_count": 15,
      "outputs": [
        {
          "output_type": "stream",
          "name": "stdout",
          "text": [
            "CPU times: user 22.9 s, sys: 193 ms, total: 23.1 s\n",
            "Wall time: 38.1 s\n"
          ]
        },
        {
          "output_type": "execute_result",
          "data": {
            "text/plain": [
              "{'n_neighbors': 9, 'p': 1}"
            ]
          },
          "metadata": {},
          "execution_count": 15
        }
      ]
    },
    {
      "cell_type": "code",
      "source": [
        "best_knn_model = KNeighborsClassifier(**grid_search.best_params_)\n",
        "best_knn_model.fit(X_train_scaled, y_train)"
      ],
      "metadata": {
        "colab": {
          "base_uri": "https://localhost:8080/",
          "height": 75
        },
        "id": "gfMPAfpYMXjt",
        "outputId": "5c8b8eb2-7537-45f4-add8-864d40eab0f1"
      },
      "execution_count": 16,
      "outputs": [
        {
          "output_type": "execute_result",
          "data": {
            "text/plain": [
              "KNeighborsClassifier(n_neighbors=9, p=1)"
            ],
            "text/html": [
              "<style>#sk-container-id-1 {color: black;background-color: white;}#sk-container-id-1 pre{padding: 0;}#sk-container-id-1 div.sk-toggleable {background-color: white;}#sk-container-id-1 label.sk-toggleable__label {cursor: pointer;display: block;width: 100%;margin-bottom: 0;padding: 0.3em;box-sizing: border-box;text-align: center;}#sk-container-id-1 label.sk-toggleable__label-arrow:before {content: \"▸\";float: left;margin-right: 0.25em;color: #696969;}#sk-container-id-1 label.sk-toggleable__label-arrow:hover:before {color: black;}#sk-container-id-1 div.sk-estimator:hover label.sk-toggleable__label-arrow:before {color: black;}#sk-container-id-1 div.sk-toggleable__content {max-height: 0;max-width: 0;overflow: hidden;text-align: left;background-color: #f0f8ff;}#sk-container-id-1 div.sk-toggleable__content pre {margin: 0.2em;color: black;border-radius: 0.25em;background-color: #f0f8ff;}#sk-container-id-1 input.sk-toggleable__control:checked~div.sk-toggleable__content {max-height: 200px;max-width: 100%;overflow: auto;}#sk-container-id-1 input.sk-toggleable__control:checked~label.sk-toggleable__label-arrow:before {content: \"▾\";}#sk-container-id-1 div.sk-estimator input.sk-toggleable__control:checked~label.sk-toggleable__label {background-color: #d4ebff;}#sk-container-id-1 div.sk-label input.sk-toggleable__control:checked~label.sk-toggleable__label {background-color: #d4ebff;}#sk-container-id-1 input.sk-hidden--visually {border: 0;clip: rect(1px 1px 1px 1px);clip: rect(1px, 1px, 1px, 1px);height: 1px;margin: -1px;overflow: hidden;padding: 0;position: absolute;width: 1px;}#sk-container-id-1 div.sk-estimator {font-family: monospace;background-color: #f0f8ff;border: 1px dotted black;border-radius: 0.25em;box-sizing: border-box;margin-bottom: 0.5em;}#sk-container-id-1 div.sk-estimator:hover {background-color: #d4ebff;}#sk-container-id-1 div.sk-parallel-item::after {content: \"\";width: 100%;border-bottom: 1px solid gray;flex-grow: 1;}#sk-container-id-1 div.sk-label:hover label.sk-toggleable__label {background-color: #d4ebff;}#sk-container-id-1 div.sk-serial::before {content: \"\";position: absolute;border-left: 1px solid gray;box-sizing: border-box;top: 0;bottom: 0;left: 50%;z-index: 0;}#sk-container-id-1 div.sk-serial {display: flex;flex-direction: column;align-items: center;background-color: white;padding-right: 0.2em;padding-left: 0.2em;position: relative;}#sk-container-id-1 div.sk-item {position: relative;z-index: 1;}#sk-container-id-1 div.sk-parallel {display: flex;align-items: stretch;justify-content: center;background-color: white;position: relative;}#sk-container-id-1 div.sk-item::before, #sk-container-id-1 div.sk-parallel-item::before {content: \"\";position: absolute;border-left: 1px solid gray;box-sizing: border-box;top: 0;bottom: 0;left: 50%;z-index: -1;}#sk-container-id-1 div.sk-parallel-item {display: flex;flex-direction: column;z-index: 1;position: relative;background-color: white;}#sk-container-id-1 div.sk-parallel-item:first-child::after {align-self: flex-end;width: 50%;}#sk-container-id-1 div.sk-parallel-item:last-child::after {align-self: flex-start;width: 50%;}#sk-container-id-1 div.sk-parallel-item:only-child::after {width: 0;}#sk-container-id-1 div.sk-dashed-wrapped {border: 1px dashed gray;margin: 0 0.4em 0.5em 0.4em;box-sizing: border-box;padding-bottom: 0.4em;background-color: white;}#sk-container-id-1 div.sk-label label {font-family: monospace;font-weight: bold;display: inline-block;line-height: 1.2em;}#sk-container-id-1 div.sk-label-container {text-align: center;}#sk-container-id-1 div.sk-container {/* jupyter's `normalize.less` sets `[hidden] { display: none; }` but bootstrap.min.css set `[hidden] { display: none !important; }` so we also need the `!important` here to be able to override the default hidden behavior on the sphinx rendered scikit-learn.org. See: https://github.com/scikit-learn/scikit-learn/issues/21755 */display: inline-block !important;position: relative;}#sk-container-id-1 div.sk-text-repr-fallback {display: none;}</style><div id=\"sk-container-id-1\" class=\"sk-top-container\"><div class=\"sk-text-repr-fallback\"><pre>KNeighborsClassifier(n_neighbors=9, p=1)</pre><b>In a Jupyter environment, please rerun this cell to show the HTML representation or trust the notebook. <br />On GitHub, the HTML representation is unable to render, please try loading this page with nbviewer.org.</b></div><div class=\"sk-container\" hidden><div class=\"sk-item\"><div class=\"sk-estimator sk-toggleable\"><input class=\"sk-toggleable__control sk-hidden--visually\" id=\"sk-estimator-id-1\" type=\"checkbox\" checked><label for=\"sk-estimator-id-1\" class=\"sk-toggleable__label sk-toggleable__label-arrow\">KNeighborsClassifier</label><div class=\"sk-toggleable__content\"><pre>KNeighborsClassifier(n_neighbors=9, p=1)</pre></div></div></div></div></div>"
            ]
          },
          "metadata": {},
          "execution_count": 16
        }
      ]
    },
    {
      "cell_type": "code",
      "source": [
        "y_pred_test = best_knn_model.predict_proba(X_test_scaled)[:,1]"
      ],
      "metadata": {
        "id": "vKxhuo-HMXmo"
      },
      "execution_count": 17,
      "outputs": []
    },
    {
      "cell_type": "code",
      "source": [
        "metrics_knn = calculate_metrics_and_plot_roc(best_knn_model, X_train_scaled, y_train, X_test_scaled, y_test)"
      ],
      "metadata": {
        "colab": {
          "base_uri": "https://localhost:8080/",
          "height": 615
        },
        "id": "DN3dq5dAKW8Q",
        "outputId": "30f86afa-a906-4d00-87ff-a74e1cae6568"
      },
      "execution_count": 18,
      "outputs": [
        {
          "output_type": "stream",
          "name": "stdout",
          "text": [
            "Оптимальный порог: 0.22222222222222224\n",
            "Максимальная F1-мера: 0.6596920647453612\n",
            "0.561491935483871\n",
            "Training Precision: 0.56\n",
            "Training Recall: 0.80\n",
            "Test Precision: 0.49\n",
            "Test Recall: 0.70\n",
            "ROC-AUC_test = : 0.81 и ROC-AUC_train = : 0.89\n"
          ]
        },
        {
          "output_type": "display_data",
          "data": {
            "text/plain": [
              "<Figure size 640x480 with 1 Axes>"
            ],
            "image/png": "[encoded data removed]"
          },
          "metadata": {}
        }
      ]
    },
    {
      "cell_type": "markdown",
      "source": [
        "# Лог рег"
      ],
      "metadata": {
        "id": "7nT_Qy6nM_K8"
      }
    },
    {
      "cell_type": "code",
      "source": [
        "%%time\n",
        "# Определяем сетку параметров для C, которые мы хотим проверить\n",
        "param_grid = {'C': [0.01, 0.1, 1, 10, 20, 30, 50, 100],\n",
        "              'penalty': ['l2','l1',],\n",
        "              # 'solver': ['liblinear','saga']\n",
        "              }\n",
        "\n",
        "# Создаем модель логистической регрессии\n",
        "logreg_model = LogisticRegression(solver='saga', max_iter = 100000)\n",
        "\n",
        "# Создаем объект GridSearchCV с моделью логистической регрессии и сеткой параметров\n",
        "grid_search = GridSearchCV(logreg_model,\n",
        "                           param_grid,\n",
        "                           cv=5,\n",
        "                           scoring='roc_auc')  # cv указывает количество блоков для кросс-валидации\n",
        "\n",
        "# Обучаем модель на данных с использованием кросс-валидации\n",
        "grid_search.fit(X_train_scaled, y_train)\n",
        "\n",
        "# Получаем лучшее значение параметра C, найденное в процессе кросс-валидации\n",
        "# best_params = grid_search.best_params_[param_grid]\n",
        "print('Лучшее значение параметра:', grid_search.best_params_)\n"
      ],
      "metadata": {
        "colab": {
          "base_uri": "https://localhost:8080/"
        },
        "id": "GmDV5zeeMvqE",
        "outputId": "ba31ef80-cb97-40c7-bccb-1336411c3479"
      },
      "execution_count": 19,
      "outputs": [
        {
          "output_type": "stream",
          "name": "stdout",
          "text": [
            "Лучшее значение параметра: {'C': 0.1, 'penalty': 'l2'}\n",
            "CPU times: user 8.71 s, sys: 5.53 s, total: 14.2 s\n",
            "Wall time: 9.02 s\n"
          ]
        }
      ]
    },
    {
      "cell_type": "code",
      "source": [
        "%%time\n",
        "# Определяем сетку параметров для C, которые мы хотим проверить\n",
        "param_grid = {'C': [0.01, 0.1, 1, 10, 20, 30, 50, 100],\n",
        "              'penalty': ['l2', 'l1'],\n",
        "              # 'solver': ['liblinear', 'saga']\n",
        "              }\n",
        "\n",
        "# Создаем модель логистической регрессии\n",
        "logreg_model = LogisticRegression(solver='saga', max_iter=100000)\n",
        "\n",
        "# Создаем объект RandomizedSearchCV с моделью логистической регрессии и сеткой параметров\n",
        "random_search = RandomizedSearchCV(logreg_model,\n",
        "                                   param_distributions=param_grid,\n",
        "                                   n_iter=10,\n",
        "                                   cv=5, scoring='roc_auc')\n",
        "\n",
        "# Обучаем модель на данных с использованием кросс-валидации\n",
        "random_search.fit(X_train_scaled, y_train)\n",
        "\n",
        "# Получаем лучшее значение параметров, найденных в процессе кросс-валидации\n",
        "print('Лучшие значения параметров:', random_search.best_params_)\n"
      ],
      "metadata": {
        "colab": {
          "base_uri": "https://localhost:8080/"
        },
        "id": "T3QLb-mfMvtH",
        "outputId": "d9d5d26b-48f8-4427-cda6-46a995a249d7"
      },
      "execution_count": 20,
      "outputs": [
        {
          "output_type": "stream",
          "name": "stdout",
          "text": [
            "Лучшие значения параметров: {'penalty': 'l2', 'C': 0.1}\n",
            "CPU times: user 5.49 s, sys: 3.86 s, total: 9.35 s\n",
            "Wall time: 5.13 s\n"
          ]
        }
      ]
    },
    {
      "cell_type": "code",
      "source": [
        "\n",
        "# Построение модели логистической регрессии\n",
        "best_logreg_model = LogisticRegression(solver='saga',  max_iter=1000, **grid_search.best_params_)\n",
        "best_logreg_model.fit(X_train_scaled, y_train)"
      ],
      "metadata": {
        "colab": {
          "base_uri": "https://localhost:8080/",
          "height": 75
        },
        "id": "G6SZlurqNJfP",
        "outputId": "275be10c-a744-4476-c9ca-7eb83032b820"
      },
      "execution_count": 21,
      "outputs": [
        {
          "output_type": "execute_result",
          "data": {
            "text/plain": [
              "LogisticRegression(C=0.1, max_iter=1000, solver='saga')"
            ],
            "text/html": [
              "<style>#sk-container-id-2 {color: black;background-color: white;}#sk-container-id-2 pre{padding: 0;}#sk-container-id-2 div.sk-toggleable {background-color: white;}#sk-container-id-2 label.sk-toggleable__label {cursor: pointer;display: block;width: 100%;margin-bottom: 0;padding: 0.3em;box-sizing: border-box;text-align: center;}#sk-container-id-2 label.sk-toggleable__label-arrow:before {content: \"▸\";float: left;margin-right: 0.25em;color: #696969;}#sk-container-id-2 label.sk-toggleable__label-arrow:hover:before {color: black;}#sk-container-id-2 div.sk-estimator:hover label.sk-toggleable__label-arrow:before {color: black;}#sk-container-id-2 div.sk-toggleable__content {max-height: 0;max-width: 0;overflow: hidden;text-align: left;background-color: #f0f8ff;}#sk-container-id-2 div.sk-toggleable__content pre {margin: 0.2em;color: black;border-radius: 0.25em;background-color: #f0f8ff;}#sk-container-id-2 input.sk-toggleable__control:checked~div.sk-toggleable__content {max-height: 200px;max-width: 100%;overflow: auto;}#sk-container-id-2 input.sk-toggleable__control:checked~label.sk-toggleable__label-arrow:before {content: \"▾\";}#sk-container-id-2 div.sk-estimator input.sk-toggleable__control:checked~label.sk-toggleable__label {background-color: #d4ebff;}#sk-container-id-2 div.sk-label input.sk-toggleable__control:checked~label.sk-toggleable__label {background-color: #d4ebff;}#sk-container-id-2 input.sk-hidden--visually {border: 0;clip: rect(1px 1px 1px 1px);clip: rect(1px, 1px, 1px, 1px);height: 1px;margin: -1px;overflow: hidden;padding: 0;position: absolute;width: 1px;}#sk-container-id-2 div.sk-estimator {font-family: monospace;background-color: #f0f8ff;border: 1px dotted black;border-radius: 0.25em;box-sizing: border-box;margin-bottom: 0.5em;}#sk-container-id-2 div.sk-estimator:hover {background-color: #d4ebff;}#sk-container-id-2 div.sk-parallel-item::after {content: \"\";width: 100%;border-bottom: 1px solid gray;flex-grow: 1;}#sk-container-id-2 div.sk-label:hover label.sk-toggleable__label {background-color: #d4ebff;}#sk-container-id-2 div.sk-serial::before {content: \"\";position: absolute;border-left: 1px solid gray;box-sizing: border-box;top: 0;bottom: 0;left: 50%;z-index: 0;}#sk-container-id-2 div.sk-serial {display: flex;flex-direction: column;align-items: center;background-color: white;padding-right: 0.2em;padding-left: 0.2em;position: relative;}#sk-container-id-2 div.sk-item {position: relative;z-index: 1;}#sk-container-id-2 div.sk-parallel {display: flex;align-items: stretch;justify-content: center;background-color: white;position: relative;}#sk-container-id-2 div.sk-item::before, #sk-container-id-2 div.sk-parallel-item::before {content: \"\";position: absolute;border-left: 1px solid gray;box-sizing: border-box;top: 0;bottom: 0;left: 50%;z-index: -1;}#sk-container-id-2 div.sk-parallel-item {display: flex;flex-direction: column;z-index: 1;position: relative;background-color: white;}#sk-container-id-2 div.sk-parallel-item:first-child::after {align-self: flex-end;width: 50%;}#sk-container-id-2 div.sk-parallel-item:last-child::after {align-self: flex-start;width: 50%;}#sk-container-id-2 div.sk-parallel-item:only-child::after {width: 0;}#sk-container-id-2 div.sk-dashed-wrapped {border: 1px dashed gray;margin: 0 0.4em 0.5em 0.4em;box-sizing: border-box;padding-bottom: 0.4em;background-color: white;}#sk-container-id-2 div.sk-label label {font-family: monospace;font-weight: bold;display: inline-block;line-height: 1.2em;}#sk-container-id-2 div.sk-label-container {text-align: center;}#sk-container-id-2 div.sk-container {/* jupyter's `normalize.less` sets `[hidden] { display: none; }` but bootstrap.min.css set `[hidden] { display: none !important; }` so we also need the `!important` here to be able to override the default hidden behavior on the sphinx rendered scikit-learn.org. See: https://github.com/scikit-learn/scikit-learn/issues/21755 */display: inline-block !important;position: relative;}#sk-container-id-2 div.sk-text-repr-fallback {display: none;}</style><div id=\"sk-container-id-2\" class=\"sk-top-container\"><div class=\"sk-text-repr-fallback\"><pre>LogisticRegression(C=0.1, max_iter=1000, solver=&#x27;saga&#x27;)</pre><b>In a Jupyter environment, please rerun this cell to show the HTML representation or trust the notebook. <br />On GitHub, the HTML representation is unable to render, please try loading this page with nbviewer.org.</b></div><div class=\"sk-container\" hidden><div class=\"sk-item\"><div class=\"sk-estimator sk-toggleable\"><input class=\"sk-toggleable__control sk-hidden--visually\" id=\"sk-estimator-id-2\" type=\"checkbox\" checked><label for=\"sk-estimator-id-2\" class=\"sk-toggleable__label sk-toggleable__label-arrow\">LogisticRegression</label><div class=\"sk-toggleable__content\"><pre>LogisticRegression(C=0.1, max_iter=1000, solver=&#x27;saga&#x27;)</pre></div></div></div></div></div>"
            ]
          },
          "metadata": {},
          "execution_count": 21
        }
      ]
    },
    {
      "cell_type": "code",
      "source": [
        "best_logreg_metrics = calculate_metrics_and_plot_roc(best_logreg_model, X_train_scaled, y_train, X_test_scaled, y_test)"
      ],
      "metadata": {
        "colab": {
          "base_uri": "https://localhost:8080/",
          "height": 615
        },
        "id": "N_pl1rHHNJiW",
        "outputId": "4dc4faf1-e0a5-4ab3-d51a-20232b882c35"
      },
      "execution_count": 22,
      "outputs": [
        {
          "output_type": "stream",
          "name": "stdout",
          "text": [
            "Оптимальный порог: 0.29292929292929293\n",
            "Максимальная F1-мера: 0.5897511848341233\n",
            "0.550456179153995\n",
            "Training Precision: 0.55\n",
            "Training Recall: 0.64\n",
            "Test Precision: 0.55\n",
            "Test Recall: 0.65\n",
            "ROC-AUC_test = : 0.84 и ROC-AUC_train = : 0.83\n"
          ]
        },
        {
          "output_type": "display_data",
          "data": {
            "text/plain": [
              "<Figure size 640x480 with 1 Axes>"
            ],
            "image/png": "[encoded data removed]"
          },
          "metadata": {}
        }
      ]
    },
    {
      "cell_type": "code",
      "source": [
        "best_logreg_metrics"
      ],
      "metadata": {
        "colab": {
          "base_uri": "https://localhost:8080/"
        },
        "id": "68Ca4U7xNJmB",
        "outputId": "a364cf72-aecb-4e4a-91cd-62104ee6a207"
      },
      "execution_count": 23,
      "outputs": [
        {
          "output_type": "execute_result",
          "data": {
            "text/plain": [
              "{'params': ['Training_Precision',\n",
              "  'Test_Precision',\n",
              "  'Training_Recall',\n",
              "  'Test_Recall',\n",
              "  'roc_auc_train',\n",
              "  'roc_auc_test'],\n",
              " 'values': [0.550456179153995,\n",
              "  0.5468085106382978,\n",
              "  0.6350877192982456,\n",
              "  0.6543602800763845,\n",
              "  0.8302390667187277,\n",
              "  0.8382608081884811]}"
            ]
          },
          "metadata": {},
          "execution_count": 23
        }
      ]
    },
    {
      "cell_type": "code",
      "source": [],
      "metadata": {
        "id": "GfLT--oGMvwE"
      },
      "execution_count": 23,
      "outputs": []
    },
    {
      "cell_type": "markdown",
      "source": [
        "#Соберем все результаты в одну таблицу, чтобы было проще сравнивать алгоритмы"
      ],
      "metadata": {
        "id": "OVVzLoD4QY1r"
      }
    },
    {
      "cell_type": "code",
      "source": [
        "best_logreg_metrics['metrics'] = ['logreg' for i in range(6)]\n",
        "metrics_knn['metrics'] = ['knn' for i in range(6)]"
      ],
      "metadata": {
        "id": "GkI9PmD3KKku"
      },
      "execution_count": 24,
      "outputs": []
    },
    {
      "cell_type": "code",
      "source": [
        "df_stat = pd.concat([\n",
        "                    pd.DataFrame(best_logreg_metrics),\n",
        "                    pd.DataFrame(metrics_knn)])"
      ],
      "metadata": {
        "id": "ZM5PjlKQQUbF"
      },
      "execution_count": 25,
      "outputs": []
    },
    {
      "cell_type": "code",
      "source": [
        "df_stat = df_stat.pivot_table(columns = 'params',\n",
        "                            index='metrics',\n",
        "                            values='values').reset_index()[['metrics','Test_Precision',\t'Training_Precision',\n",
        "                                                            'Test_Recall',\t'Training_Recall',\n",
        "                                                            'roc_auc_train', 'roc_auc_test']]\n",
        "\n",
        "df_stat['dif_Precision'] = round((df_stat['Test_Precision'] - df_stat['Training_Precision'])/df_stat['Training_Precision'],2)\n",
        "df_stat['dif_roc_auc'] = round((df_stat['roc_auc_test'] - df_stat['roc_auc_train'])/df_stat['roc_auc_train'],2)\n",
        "df_stat['dif_Recall'] = round((df_stat['Test_Recall'] - df_stat['Training_Recall'])/df_stat['Training_Recall'],2)\n",
        "df_stat"
      ],
      "metadata": {
        "colab": {
          "base_uri": "https://localhost:8080/",
          "height": 132
        },
        "id": "c6gbYKziQWzb",
        "outputId": "5935a33d-5002-4b5d-ce9a-03e07a086437"
      },
      "execution_count": 26,
      "outputs": [
        {
          "output_type": "execute_result",
          "data": {
            "text/plain": [
              "params metrics  Test_Precision  Training_Precision  Test_Recall  \\\n",
              "0          knn        0.487500            0.561492     0.695099   \n",
              "1       logreg        0.546809            0.550456     0.654360   \n",
              "\n",
              "params  Training_Recall  roc_auc_train  roc_auc_test  dif_Precision  \\\n",
              "0              0.799522       0.892794      0.812148          -0.13   \n",
              "1              0.635088       0.830239      0.838261          -0.01   \n",
              "\n",
              "params  dif_roc_auc  dif_Recall  \n",
              "0             -0.09       -0.13  \n",
              "1              0.01        0.03  "
            ],
            "text/html": [
              "\n",
              "  <div id=\"df-1011f9b0-df5c-432d-b776-9e7dca4c4b6a\" class=\"colab-df-container\">\n",
              "    <div>\n",
              "<style scoped>\n",
              "    .dataframe tbody tr th:only-of-type {\n",
              "        vertical-align: middle;\n",
              "    }\n",
              "\n",
              "    .dataframe tbody tr th {\n",
              "        vertical-align: top;\n",
              "    }\n",
              "\n",
              "    .dataframe thead th {\n",
              "        text-align: right;\n",
              "    }\n",
              "</style>\n",
              "<table border=\"1\" class=\"dataframe\">\n",
              "  <thead>\n",
              "    <tr style=\"text-align: right;\">\n",
              "      <th>params</th>\n",
              "      <th>metrics</th>\n",
              "      <th>Test_Precision</th>\n",
              "      <th>Training_Precision</th>\n",
              "      <th>Test_Recall</th>\n",
              "      <th>Training_Recall</th>\n",
              "      <th>roc_auc_train</th>\n",
              "      <th>roc_auc_test</th>\n",
              "      <th>dif_Precision</th>\n",
              "      <th>dif_roc_auc</th>\n",
              "      <th>dif_Recall</th>\n",
              "    </tr>\n",
              "  </thead>\n",
              "  <tbody>\n",
              "    <tr>\n",
              "      <th>0</th>\n",
              "      <td>knn</td>\n",
              "      <td>0.487500</td>\n",
              "      <td>0.561492</td>\n",
              "      <td>0.695099</td>\n",
              "      <td>0.799522</td>\n",
              "      <td>0.892794</td>\n",
              "      <td>0.812148</td>\n",
              "      <td>-0.13</td>\n",
              "      <td>-0.09</td>\n",
              "      <td>-0.13</td>\n",
              "    </tr>\n",
              "    <tr>\n",
              "      <th>1</th>\n",
              "      <td>logreg</td>\n",
              "      <td>0.546809</td>\n",
              "      <td>0.550456</td>\n",
              "      <td>0.654360</td>\n",
              "      <td>0.635088</td>\n",
              "      <td>0.830239</td>\n",
              "      <td>0.838261</td>\n",
              "      <td>-0.01</td>\n",
              "      <td>0.01</td>\n",
              "      <td>0.03</td>\n",
              "    </tr>\n",
              "  </tbody>\n",
              "</table>\n",
              "</div>\n",
              "    <div class=\"colab-df-buttons\">\n",
              "\n",
              "  <div class=\"colab-df-container\">\n",
              "    <button class=\"colab-df-convert\" onclick=\"convertToInteractive('df-1011f9b0-df5c-432d-b776-9e7dca4c4b6a')\"\n",
              "            title=\"Convert this dataframe to an interactive table.\"\n",
              "            style=\"display:none;\">\n",
              "\n",
              "  <svg xmlns=\"http://www.w3.org/2000/svg\" height=\"24px\" viewBox=\"0 -960 960 960\">\n",
              "    <path d=\"M120-120v-720h720v720H120Zm60-500h600v-160H180v160Zm220 220h160v-160H400v160Zm0 220h160v-160H400v160ZM180-400h160v-160H180v160Zm440 0h160v-160H620v160ZM180-180h160v-160H180v160Zm440 0h160v-160H620v160Z\"/>\n",
              "  </svg>\n",
              "    </button>\n",
              "\n",
              "  <style>\n",
              "    .colab-df-container {\n",
              "      display:flex;\n",
              "      gap: 12px;\n",
              "    }\n",
              "\n",
              "    .colab-df-convert {\n",
              "      background-color: #E8F0FE;\n",
              "      border: none;\n",
              "      border-radius: 50%;\n",
              "      cursor: pointer;\n",
              "      display: none;\n",
              "      fill: #1967D2;\n",
              "      height: 32px;\n",
              "      padding: 0 0 0 0;\n",
              "      width: 32px;\n",
              "    }\n",
              "\n",
              "    .colab-df-convert:hover {\n",
              "      background-color: #E2EBFA;\n",
              "      box-shadow: 0px 1px 2px rgba(60, 64, 67, 0.3), 0px 1px 3px 1px rgba(60, 64, 67, 0.15);\n",
              "      fill: #174EA6;\n",
              "    }\n",
              "\n",
              "    .colab-df-buttons div {\n",
              "      margin-bottom: 4px;\n",
              "    }\n",
              "\n",
              "    [theme=dark] .colab-df-convert {\n",
              "      background-color: #3B4455;\n",
              "      fill: #D2E3FC;\n",
              "    }\n",
              "\n",
              "    [theme=dark] .colab-df-convert:hover {\n",
              "      background-color: #434B5C;\n",
              "      box-shadow: 0px 1px 3px 1px rgba(0, 0, 0, 0.15);\n",
              "      filter: drop-shadow(0px 1px 2px rgba(0, 0, 0, 0.3));\n",
              "      fill: #FFFFFF;\n",
              "    }\n",
              "  </style>\n",
              "\n",
              "    <script>\n",
              "      const buttonEl =\n",
              "        document.querySelector('#df-1011f9b0-df5c-432d-b776-9e7dca4c4b6a button.colab-df-convert');\n",
              "      buttonEl.style.display =\n",
              "        google.colab.kernel.accessAllowed ? 'block' : 'none';\n",
              "\n",
              "      async function convertToInteractive(key) {\n",
              "        const element = document.querySelector('#df-1011f9b0-df5c-432d-b776-9e7dca4c4b6a');\n",
              "        const dataTable =\n",
              "          await google.colab.kernel.invokeFunction('convertToInteractive',\n",
              "                                                    [key], {});\n",
              "        if (!dataTable) return;\n",
              "\n",
              "        const docLinkHtml = 'Like what you see? Visit the ' +\n",
              "          '<a target=\"_blank\" href=https://colab.research.google.com/notebooks/data_table.ipynb>data table notebook</a>'\n",
              "          + ' to learn more about interactive tables.';\n",
              "        element.innerHTML = '';\n",
              "        dataTable['output_type'] = 'display_data';\n",
              "        await google.colab.output.renderOutput(dataTable, element);\n",
              "        const docLink = document.createElement('div');\n",
              "        docLink.innerHTML = docLinkHtml;\n",
              "        element.appendChild(docLink);\n",
              "      }\n",
              "    </script>\n",
              "  </div>\n",
              "\n",
              "\n",
              "<div id=\"df-1a664aec-9907-4c1c-9c12-0d2ee7d37d7e\">\n",
              "  <button class=\"colab-df-quickchart\" onclick=\"quickchart('df-1a664aec-9907-4c1c-9c12-0d2ee7d37d7e')\"\n",
              "            title=\"Suggest charts\"\n",
              "            style=\"display:none;\">\n",
              "\n",
              "<svg xmlns=\"http://www.w3.org/2000/svg\" height=\"24px\"viewBox=\"0 0 24 24\"\n",
              "     width=\"24px\">\n",
              "    <g>\n",
              "        <path d=\"M19 3H5c-1.1 0-2 .9-2 2v14c0 1.1.9 2 2 2h14c1.1 0 2-.9 2-2V5c0-1.1-.9-2-2-2zM9 17H7v-7h2v7zm4 0h-2V7h2v10zm4 0h-2v-4h2v4z\"/>\n",
              "    </g>\n",
              "</svg>\n",
              "  </button>\n",
              "\n",
              "<style>\n",
              "  .colab-df-quickchart {\n",
              "      --bg-color: #E8F0FE;\n",
              "      --fill-color: #1967D2;\n",
              "      --hover-bg-color: #E2EBFA;\n",
              "      --hover-fill-color: #174EA6;\n",
              "      --disabled-fill-color: #AAA;\n",
              "      --disabled-bg-color: #DDD;\n",
              "  }\n",
              "\n",
              "  [theme=dark] .colab-df-quickchart {\n",
              "      --bg-color: #3B4455;\n",
              "      --fill-color: #D2E3FC;\n",
              "      --hover-bg-color: #434B5C;\n",
              "      --hover-fill-color: #FFFFFF;\n",
              "      --disabled-bg-color: #3B4455;\n",
              "      --disabled-fill-color: #666;\n",
              "  }\n",
              "\n",
              "  .colab-df-quickchart {\n",
              "    background-color: var(--bg-color);\n",
              "    border: none;\n",
              "    border-radius: 50%;\n",
              "    cursor: pointer;\n",
              "    display: none;\n",
              "    fill: var(--fill-color);\n",
              "    height: 32px;\n",
              "    padding: 0;\n",
              "    width: 32px;\n",
              "  }\n",
              "\n",
              "  .colab-df-quickchart:hover {\n",
              "    background-color: var(--hover-bg-color);\n",
              "    box-shadow: 0 1px 2px rgba(60, 64, 67, 0.3), 0 1px 3px 1px rgba(60, 64, 67, 0.15);\n",
              "    fill: var(--button-hover-fill-color);\n",
              "  }\n",
              "\n",
              "  .colab-df-quickchart-complete:disabled,\n",
              "  .colab-df-quickchart-complete:disabled:hover {\n",
              "    background-color: var(--disabled-bg-color);\n",
              "    fill: var(--disabled-fill-color);\n",
              "    box-shadow: none;\n",
              "  }\n",
              "\n",
              "  .colab-df-spinner {\n",
              "    border: 2px solid var(--fill-color);\n",
              "    border-color: transparent;\n",
              "    border-bottom-color: var(--fill-color);\n",
              "    animation:\n",
              "      spin 1s steps(1) infinite;\n",
              "  }\n",
              "\n",
              "  @keyframes spin {\n",
              "    0% {\n",
              "      border-color: transparent;\n",
              "      border-bottom-color: var(--fill-color);\n",
              "      border-left-color: var(--fill-color);\n",
              "    }\n",
              "    20% {\n",
              "      border-color: transparent;\n",
              "      border-left-color: var(--fill-color);\n",
              "      border-top-color: var(--fill-color);\n",
              "    }\n",
              "    30% {\n",
              "      border-color: transparent;\n",
              "      border-left-color: var(--fill-color);\n",
              "      border-top-color: var(--fill-color);\n",
              "      border-right-color: var(--fill-color);\n",
              "    }\n",
              "    40% {\n",
              "      border-color: transparent;\n",
              "      border-right-color: var(--fill-color);\n",
              "      border-top-color: var(--fill-color);\n",
              "    }\n",
              "    60% {\n",
              "      border-color: transparent;\n",
              "      border-right-color: var(--fill-color);\n",
              "    }\n",
              "    80% {\n",
              "      border-color: transparent;\n",
              "      border-right-color: var(--fill-color);\n",
              "      border-bottom-color: var(--fill-color);\n",
              "    }\n",
              "    90% {\n",
              "      border-color: transparent;\n",
              "      border-bottom-color: var(--fill-color);\n",
              "    }\n",
              "  }\n",
              "</style>\n",
              "\n",
              "  <script>\n",
              "    async function quickchart(key) {\n",
              "      const quickchartButtonEl =\n",
              "        document.querySelector('#' + key + ' button');\n",
              "      quickchartButtonEl.disabled = true;  // To prevent multiple clicks.\n",
              "      quickchartButtonEl.classList.add('colab-df-spinner');\n",
              "      try {\n",
              "        const charts = await google.colab.kernel.invokeFunction(\n",
              "            'suggestCharts', [key], {});\n",
              "      } catch (error) {\n",
              "        console.error('Error during call to suggestCharts:', error);\n",
              "      }\n",
              "      quickchartButtonEl.classList.remove('colab-df-spinner');\n",
              "      quickchartButtonEl.classList.add('colab-df-quickchart-complete');\n",
              "    }\n",
              "    (() => {\n",
              "      let quickchartButtonEl =\n",
              "        document.querySelector('#df-1a664aec-9907-4c1c-9c12-0d2ee7d37d7e button');\n",
              "      quickchartButtonEl.style.display =\n",
              "        google.colab.kernel.accessAllowed ? 'block' : 'none';\n",
              "    })();\n",
              "  </script>\n",
              "</div>\n",
              "    </div>\n",
              "  </div>\n"
            ],
            "application/vnd.google.colaboratory.intrinsic+json": {
              "type": "dataframe",
              "variable_name": "df_stat",
              "summary": "{\n  \"name\": \"df_stat\",\n  \"rows\": 2,\n  \"fields\": [\n    {\n      \"column\": \"metrics\",\n      \"properties\": {\n        \"dtype\": \"string\",\n        \"num_unique_values\": 2,\n        \"samples\": [\n          \"logreg\",\n          \"knn\"\n        ],\n        \"semantic_type\": \"\",\n        \"description\": \"\"\n      }\n    },\n    {\n      \"column\": \"Test_Precision\",\n      \"properties\": {\n        \"dtype\": \"number\",\n        \"std\": 0.0419374500544149,\n        \"min\": 0.4875,\n        \"max\": 0.5468085106382978,\n        \"num_unique_values\": 2,\n        \"samples\": [\n          0.5468085106382978,\n          0.4875\n        ],\n        \"semantic_type\": \"\",\n        \"description\": \"\"\n      }\n    },\n    {\n      \"column\": \"Training_Precision\",\n      \"properties\": {\n        \"dtype\": \"number\",\n        \"std\": 0.007803458136377663,\n        \"min\": 0.550456179153995,\n        \"max\": 0.561491935483871,\n        \"num_unique_values\": 2,\n        \"samples\": [\n          0.550456179153995,\n          0.561491935483871\n        ],\n        \"semantic_type\": \"\",\n        \"description\": \"\"\n      }\n    },\n    {\n      \"column\": \"Test_Recall\",\n      \"properties\": {\n        \"dtype\": \"number\",\n        \"std\": 0.028806387012055377,\n        \"min\": 0.6543602800763845,\n        \"max\": 0.6950986632718014,\n        \"num_unique_values\": 2,\n        \"samples\": [\n          0.6543602800763845,\n          0.6950986632718014\n        ],\n        \"semantic_type\": \"\",\n        \"description\": \"\"\n      }\n    },\n    {\n      \"column\": \"Training_Recall\",\n      \"properties\": {\n        \"dtype\": \"number\",\n        \"std\": 0.11627226338171145,\n        \"min\": 0.6350877192982456,\n        \"max\": 0.7995215311004785,\n        \"num_unique_values\": 2,\n        \"samples\": [\n          0.6350877192982456,\n          0.7995215311004785\n        ],\n        \"semantic_type\": \"\",\n        \"description\": \"\"\n      }\n    },\n    {\n      \"column\": \"roc_auc_train\",\n      \"properties\": {\n        \"dtype\": \"number\",\n        \"std\": 0.04423309495647674,\n        \"min\": 0.8302390667187277,\n        \"max\": 0.8927941095119141,\n        \"num_unique_values\": 2,\n        \"samples\": [\n          0.8302390667187277,\n          0.8927941095119141\n        ],\n        \"semantic_type\": \"\",\n        \"description\": \"\"\n      }\n    },\n    {\n      \"column\": \"roc_auc_test\",\n      \"properties\": {\n        \"dtype\": \"number\",\n        \"std\": 0.018464337779794348,\n        \"min\": 0.812148291280058,\n        \"max\": 0.8382608081884811,\n        \"num_unique_values\": 2,\n        \"samples\": [\n          0.8382608081884811,\n          0.812148291280058\n        ],\n        \"semantic_type\": \"\",\n        \"description\": \"\"\n      }\n    },\n    {\n      \"column\": \"dif_Precision\",\n      \"properties\": {\n        \"dtype\": \"number\",\n        \"std\": 0.08485281374238571,\n        \"min\": -0.13,\n        \"max\": -0.01,\n        \"num_unique_values\": 2,\n        \"samples\": [\n          -0.01,\n          -0.13\n        ],\n        \"semantic_type\": \"\",\n        \"description\": \"\"\n      }\n    },\n    {\n      \"column\": \"dif_roc_auc\",\n      \"properties\": {\n        \"dtype\": \"number\",\n        \"std\": 0.07071067811865475,\n        \"min\": -0.09,\n        \"max\": 0.01,\n        \"num_unique_values\": 2,\n        \"samples\": [\n          0.01,\n          -0.09\n        ],\n        \"semantic_type\": \"\",\n        \"description\": \"\"\n      }\n    },\n    {\n      \"column\": \"dif_Recall\",\n      \"properties\": {\n        \"dtype\": \"number\",\n        \"std\": 0.1131370849898476,\n        \"min\": -0.13,\n        \"max\": 0.03,\n        \"num_unique_values\": 2,\n        \"samples\": [\n          0.03,\n          -0.13\n        ],\n        \"semantic_type\": \"\",\n        \"description\": \"\"\n      }\n    }\n  ]\n}"
            }
          },
          "metadata": {},
          "execution_count": 26
        }
      ]
    },
    {
      "cell_type": "code",
      "source": [
        "df_stat.T"
      ],
      "metadata": {
        "colab": {
          "base_uri": "https://localhost:8080/",
          "height": 394
        },
        "id": "LfFCZ0n0lZMW",
        "outputId": "3ac714f7-9f05-4405-e5ff-a8da807f22a4"
      },
      "execution_count": 27,
      "outputs": [
        {
          "output_type": "execute_result",
          "data": {
            "text/plain": [
              "                           0         1\n",
              "params                                \n",
              "metrics                  knn    logreg\n",
              "Test_Precision        0.4875  0.546809\n",
              "Training_Precision  0.561492  0.550456\n",
              "Test_Recall         0.695099   0.65436\n",
              "Training_Recall     0.799522  0.635088\n",
              "roc_auc_train       0.892794  0.830239\n",
              "roc_auc_test        0.812148  0.838261\n",
              "dif_Precision          -0.13     -0.01\n",
              "dif_roc_auc            -0.09      0.01\n",
              "dif_Recall             -0.13      0.03"
            ],
            "text/html": [
              "\n",
              "  <div id=\"df-f699bd40-f2e6-48d3-a556-1ce4e20a40f6\" class=\"colab-df-container\">\n",
              "    <div>\n",
              "<style scoped>\n",
              "    .dataframe tbody tr th:only-of-type {\n",
              "        vertical-align: middle;\n",
              "    }\n",
              "\n",
              "    .dataframe tbody tr th {\n",
              "        vertical-align: top;\n",
              "    }\n",
              "\n",
              "    .dataframe thead th {\n",
              "        text-align: right;\n",
              "    }\n",
              "</style>\n",
              "<table border=\"1\" class=\"dataframe\">\n",
              "  <thead>\n",
              "    <tr style=\"text-align: right;\">\n",
              "      <th></th>\n",
              "      <th>0</th>\n",
              "      <th>1</th>\n",
              "    </tr>\n",
              "    <tr>\n",
              "      <th>params</th>\n",
              "      <th></th>\n",
              "      <th></th>\n",
              "    </tr>\n",
              "  </thead>\n",
              "  <tbody>\n",
              "    <tr>\n",
              "      <th>metrics</th>\n",
              "      <td>knn</td>\n",
              "      <td>logreg</td>\n",
              "    </tr>\n",
              "    <tr>\n",
              "      <th>Test_Precision</th>\n",
              "      <td>0.4875</td>\n",
              "      <td>0.546809</td>\n",
              "    </tr>\n",
              "    <tr>\n",
              "      <th>Training_Precision</th>\n",
              "      <td>0.561492</td>\n",
              "      <td>0.550456</td>\n",
              "    </tr>\n",
              "    <tr>\n",
              "      <th>Test_Recall</th>\n",
              "      <td>0.695099</td>\n",
              "      <td>0.65436</td>\n",
              "    </tr>\n",
              "    <tr>\n",
              "      <th>Training_Recall</th>\n",
              "      <td>0.799522</td>\n",
              "      <td>0.635088</td>\n",
              "    </tr>\n",
              "    <tr>\n",
              "      <th>roc_auc_train</th>\n",
              "      <td>0.892794</td>\n",
              "      <td>0.830239</td>\n",
              "    </tr>\n",
              "    <tr>\n",
              "      <th>roc_auc_test</th>\n",
              "      <td>0.812148</td>\n",
              "      <td>0.838261</td>\n",
              "    </tr>\n",
              "    <tr>\n",
              "      <th>dif_Precision</th>\n",
              "      <td>-0.13</td>\n",
              "      <td>-0.01</td>\n",
              "    </tr>\n",
              "    <tr>\n",
              "      <th>dif_roc_auc</th>\n",
              "      <td>-0.09</td>\n",
              "      <td>0.01</td>\n",
              "    </tr>\n",
              "    <tr>\n",
              "      <th>dif_Recall</th>\n",
              "      <td>-0.13</td>\n",
              "      <td>0.03</td>\n",
              "    </tr>\n",
              "  </tbody>\n",
              "</table>\n",
              "</div>\n",
              "    <div class=\"colab-df-buttons\">\n",
              "\n",
              "  <div class=\"colab-df-container\">\n",
              "    <button class=\"colab-df-convert\" onclick=\"convertToInteractive('df-f699bd40-f2e6-48d3-a556-1ce4e20a40f6')\"\n",
              "            title=\"Convert this dataframe to an interactive table.\"\n",
              "            style=\"display:none;\">\n",
              "\n",
              "  <svg xmlns=\"http://www.w3.org/2000/svg\" height=\"24px\" viewBox=\"0 -960 960 960\">\n",
              "    <path d=\"M120-120v-720h720v720H120Zm60-500h600v-160H180v160Zm220 220h160v-160H400v160Zm0 220h160v-160H400v160ZM180-400h160v-160H180v160Zm440 0h160v-160H620v160ZM180-180h160v-160H180v160Zm440 0h160v-160H620v160Z\"/>\n",
              "  </svg>\n",
              "    </button>\n",
              "\n",
              "  <style>\n",
              "    .colab-df-container {\n",
              "      display:flex;\n",
              "      gap: 12px;\n",
              "    }\n",
              "\n",
              "    .colab-df-convert {\n",
              "      background-color: #E8F0FE;\n",
              "      border: none;\n",
              "      border-radius: 50%;\n",
              "      cursor: pointer;\n",
              "      display: none;\n",
              "      fill: #1967D2;\n",
              "      height: 32px;\n",
              "      padding: 0 0 0 0;\n",
              "      width: 32px;\n",
              "    }\n",
              "\n",
              "    .colab-df-convert:hover {\n",
              "      background-color: #E2EBFA;\n",
              "      box-shadow: 0px 1px 2px rgba(60, 64, 67, 0.3), 0px 1px 3px 1px rgba(60, 64, 67, 0.15);\n",
              "      fill: #174EA6;\n",
              "    }\n",
              "\n",
              "    .colab-df-buttons div {\n",
              "      margin-bottom: 4px;\n",
              "    }\n",
              "\n",
              "    [theme=dark] .colab-df-convert {\n",
              "      background-color: #3B4455;\n",
              "      fill: #D2E3FC;\n",
              "    }\n",
              "\n",
              "    [theme=dark] .colab-df-convert:hover {\n",
              "      background-color: #434B5C;\n",
              "      box-shadow: 0px 1px 3px 1px rgba(0, 0, 0, 0.15);\n",
              "      filter: drop-shadow(0px 1px 2px rgba(0, 0, 0, 0.3));\n",
              "      fill: #FFFFFF;\n",
              "    }\n",
              "  </style>\n",
              "\n",
              "    <script>\n",
              "      const buttonEl =\n",
              "        document.querySelector('#df-f699bd40-f2e6-48d3-a556-1ce4e20a40f6 button.colab-df-convert');\n",
              "      buttonEl.style.display =\n",
              "        google.colab.kernel.accessAllowed ? 'block' : 'none';\n",
              "\n",
              "      async function convertToInteractive(key) {\n",
              "        const element = document.querySelector('#df-f699bd40-f2e6-48d3-a556-1ce4e20a40f6');\n",
              "        const dataTable =\n",
              "          await google.colab.kernel.invokeFunction('convertToInteractive',\n",
              "                                                    [key], {});\n",
              "        if (!dataTable) return;\n",
              "\n",
              "        const docLinkHtml = 'Like what you see? Visit the ' +\n",
              "          '<a target=\"_blank\" href=https://colab.research.google.com/notebooks/data_table.ipynb>data table notebook</a>'\n",
              "          + ' to learn more about interactive tables.';\n",
              "        element.innerHTML = '';\n",
              "        dataTable['output_type'] = 'display_data';\n",
              "        await google.colab.output.renderOutput(dataTable, element);\n",
              "        const docLink = document.createElement('div');\n",
              "        docLink.innerHTML = docLinkHtml;\n",
              "        element.appendChild(docLink);\n",
              "      }\n",
              "    </script>\n",
              "  </div>\n",
              "\n",
              "\n",
              "<div id=\"df-3e8b0174-a52d-4a91-b6b0-cb8074c680a6\">\n",
              "  <button class=\"colab-df-quickchart\" onclick=\"quickchart('df-3e8b0174-a52d-4a91-b6b0-cb8074c680a6')\"\n",
              "            title=\"Suggest charts\"\n",
              "            style=\"display:none;\">\n",
              "\n",
              "<svg xmlns=\"http://www.w3.org/2000/svg\" height=\"24px\"viewBox=\"0 0 24 24\"\n",
              "     width=\"24px\">\n",
              "    <g>\n",
              "        <path d=\"M19 3H5c-1.1 0-2 .9-2 2v14c0 1.1.9 2 2 2h14c1.1 0 2-.9 2-2V5c0-1.1-.9-2-2-2zM9 17H7v-7h2v7zm4 0h-2V7h2v10zm4 0h-2v-4h2v4z\"/>\n",
              "    </g>\n",
              "</svg>\n",
              "  </button>\n",
              "\n",
              "<style>\n",
              "  .colab-df-quickchart {\n",
              "      --bg-color: #E8F0FE;\n",
              "      --fill-color: #1967D2;\n",
              "      --hover-bg-color: #E2EBFA;\n",
              "      --hover-fill-color: #174EA6;\n",
              "      --disabled-fill-color: #AAA;\n",
              "      --disabled-bg-color: #DDD;\n",
              "  }\n",
              "\n",
              "  [theme=dark] .colab-df-quickchart {\n",
              "      --bg-color: #3B4455;\n",
              "      --fill-color: #D2E3FC;\n",
              "      --hover-bg-color: #434B5C;\n",
              "      --hover-fill-color: #FFFFFF;\n",
              "      --disabled-bg-color: #3B4455;\n",
              "      --disabled-fill-color: #666;\n",
              "  }\n",
              "\n",
              "  .colab-df-quickchart {\n",
              "    background-color: var(--bg-color);\n",
              "    border: none;\n",
              "    border-radius: 50%;\n",
              "    cursor: pointer;\n",
              "    display: none;\n",
              "    fill: var(--fill-color);\n",
              "    height: 32px;\n",
              "    padding: 0;\n",
              "    width: 32px;\n",
              "  }\n",
              "\n",
              "  .colab-df-quickchart:hover {\n",
              "    background-color: var(--hover-bg-color);\n",
              "    box-shadow: 0 1px 2px rgba(60, 64, 67, 0.3), 0 1px 3px 1px rgba(60, 64, 67, 0.15);\n",
              "    fill: var(--button-hover-fill-color);\n",
              "  }\n",
              "\n",
              "  .colab-df-quickchart-complete:disabled,\n",
              "  .colab-df-quickchart-complete:disabled:hover {\n",
              "    background-color: var(--disabled-bg-color);\n",
              "    fill: var(--disabled-fill-color);\n",
              "    box-shadow: none;\n",
              "  }\n",
              "\n",
              "  .colab-df-spinner {\n",
              "    border: 2px solid var(--fill-color);\n",
              "    border-color: transparent;\n",
              "    border-bottom-color: var(--fill-color);\n",
              "    animation:\n",
              "      spin 1s steps(1) infinite;\n",
              "  }\n",
              "\n",
              "  @keyframes spin {\n",
              "    0% {\n",
              "      border-color: transparent;\n",
              "      border-bottom-color: var(--fill-color);\n",
              "      border-left-color: var(--fill-color);\n",
              "    }\n",
              "    20% {\n",
              "      border-color: transparent;\n",
              "      border-left-color: var(--fill-color);\n",
              "      border-top-color: var(--fill-color);\n",
              "    }\n",
              "    30% {\n",
              "      border-color: transparent;\n",
              "      border-left-color: var(--fill-color);\n",
              "      border-top-color: var(--fill-color);\n",
              "      border-right-color: var(--fill-color);\n",
              "    }\n",
              "    40% {\n",
              "      border-color: transparent;\n",
              "      border-right-color: var(--fill-color);\n",
              "      border-top-color: var(--fill-color);\n",
              "    }\n",
              "    60% {\n",
              "      border-color: transparent;\n",
              "      border-right-color: var(--fill-color);\n",
              "    }\n",
              "    80% {\n",
              "      border-color: transparent;\n",
              "      border-right-color: var(--fill-color);\n",
              "      border-bottom-color: var(--fill-color);\n",
              "    }\n",
              "    90% {\n",
              "      border-color: transparent;\n",
              "      border-bottom-color: var(--fill-color);\n",
              "    }\n",
              "  }\n",
              "</style>\n",
              "\n",
              "  <script>\n",
              "    async function quickchart(key) {\n",
              "      const quickchartButtonEl =\n",
              "        document.querySelector('#' + key + ' button');\n",
              "      quickchartButtonEl.disabled = true;  // To prevent multiple clicks.\n",
              "      quickchartButtonEl.classList.add('colab-df-spinner');\n",
              "      try {\n",
              "        const charts = await google.colab.kernel.invokeFunction(\n",
              "            'suggestCharts', [key], {});\n",
              "      } catch (error) {\n",
              "        console.error('Error during call to suggestCharts:', error);\n",
              "      }\n",
              "      quickchartButtonEl.classList.remove('colab-df-spinner');\n",
              "      quickchartButtonEl.classList.add('colab-df-quickchart-complete');\n",
              "    }\n",
              "    (() => {\n",
              "      let quickchartButtonEl =\n",
              "        document.querySelector('#df-3e8b0174-a52d-4a91-b6b0-cb8074c680a6 button');\n",
              "      quickchartButtonEl.style.display =\n",
              "        google.colab.kernel.accessAllowed ? 'block' : 'none';\n",
              "    })();\n",
              "  </script>\n",
              "</div>\n",
              "    </div>\n",
              "  </div>\n"
            ],
            "application/vnd.google.colaboratory.intrinsic+json": {
              "type": "dataframe",
              "summary": "{\n  \"name\": \"df_stat\",\n  \"rows\": 10,\n  \"fields\": [\n    {\n      \"column\": \"params\",\n      \"properties\": {\n        \"dtype\": \"string\",\n        \"num_unique_values\": 10,\n        \"samples\": [\n          \"dif_roc_auc\",\n          \"Test_Precision\",\n          \"roc_auc_train\"\n        ],\n        \"semantic_type\": \"\",\n        \"description\": \"\"\n      }\n    },\n    {\n      \"column\": 0,\n      \"properties\": {\n        \"dtype\": \"string\",\n        \"num_unique_values\": 9,\n        \"samples\": [\n          -0.13,\n          0.4875,\n          0.8927941095119141\n        ],\n        \"semantic_type\": \"\",\n        \"description\": \"\"\n      }\n    },\n    {\n      \"column\": 1,\n      \"properties\": {\n        \"dtype\": \"string\",\n        \"num_unique_values\": 10,\n        \"samples\": [\n          0.01,\n          0.5468085106382978,\n          0.8302390667187277\n        ],\n        \"semantic_type\": \"\",\n        \"description\": \"\"\n      }\n    }\n  ]\n}"
            }
          },
          "metadata": {},
          "execution_count": 27
        }
      ]
    }
  ]
}