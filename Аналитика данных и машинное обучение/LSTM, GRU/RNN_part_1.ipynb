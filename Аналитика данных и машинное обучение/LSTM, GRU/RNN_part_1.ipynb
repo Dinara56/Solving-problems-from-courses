{
  "nbformat": 4,
  "nbformat_minor": 0,
  "metadata": {
    "colab": {
      "provenance": []
    },
    "kernelspec": {
      "name": "python3",
      "display_name": "Python 3"
    },
    "language_info": {
      "name": "python"
    }
  },
  "cells": [
    {
      "cell_type": "code",
      "execution_count": 2,
      "metadata": {
        "id": "hy-bZYNfDcXN"
      },
      "outputs": [],
      "source": [
        "import numpy as np\n",
        "import pandas as pd\n",
        "import matplotlib.pyplot as plt\n",
        "from tqdm import tqdm\n",
        "\n",
        "import torch\n",
        "import torch.nn as nn\n",
        "import torch.optim as optim\n",
        "import torch.nn.functional as F\n",
        "from torch.utils.data import Dataset, DataLoader\n",
        "import random"
      ]
    },
    {
      "cell_type": "code",
      "source": [
        "from google.colab import drive\n",
        "drive.mount('/content/drive')"
      ],
      "metadata": {
        "colab": {
          "base_uri": "https://localhost:8080/"
        },
        "id": "glItxStSDeCi",
        "outputId": "4962003e-3769-4357-b03c-40176d0395cb"
      },
      "execution_count": 3,
      "outputs": [
        {
          "output_type": "stream",
          "name": "stdout",
          "text": [
            "Mounted at /content/drive\n"
          ]
        }
      ]
    },
    {
      "cell_type": "code",
      "source": [
        "path = '/content/drive/MyDrive/datasets/Innopolis_datasets/dinos.txt'\n",
        "\n",
        "\n",
        "with open(path, 'r') as f:\n",
        "    data = f.read().lower()\n",
        "    data = data.replace('\\n', '@')  # special symbol to complete a name"
      ],
      "metadata": {
        "id": "mjJUm0f7Mggn"
      },
      "execution_count": 4,
      "outputs": []
    },
    {
      "cell_type": "code",
      "source": [
        "data"
      ],
      "metadata": {
        "colab": {
          "base_uri": "https://localhost:8080/",
          "height": 90
        },
        "id": "lCsjYfeTkGFo",
        "outputId": "9441d02c-9c9e-4518-e328-cf57f89c0905"
      },
      "execution_count": 5,
      "outputs": [
        {
          "output_type": "execute_result",
          "data": {
            "text/plain": [
              "'aachenosaurus@aardonyx@abdallahsaurus@abelisaurus@abrictosaurus@abrosaurus@abydosaurus@acanthopholis@achelousaurus@acheroraptor@achillesaurus@achillobator@acristavus@acrocanthosaurus@acrotholus@actiosaurus@adamantisaurus@adasaurus@adelolophus@adeopapposaurus@aegyptosaurus@aeolosaurus@aepisaurus@aepyornithomimus@aerosteon@aetonyxafromimus@afrovenator@agathaumas@aggiosaurus@agilisaurus@agnosphitys@agrosaurus@agujaceratops@agustinia@ahshislepelta@airakoraptor@ajancingenia@ajkaceratops@alamosaurus@alaskacephale@albalophosaurus@albertaceratops@albertadromeus@albertavenator@albertonykus@albertosaurus@albinykus@albisaurus@alcovasaurus@alectrosaurus@aletopelta@algoasaurus@alioramus@aliwalia@allosaurus@almas@alnashetri@alocodon@altirhinus@altispinax@alvarezsaurus@alwalkeria@alxasaurus@amargasaurus@amargastegos@amargatitanis@amazonsaurus@ammosaurus@ampelosaurus@amphicoelias@amphicoelicaudia@amphisaurus@amtocephale@amtosaurus@amurosaurus@amygdalodon@anabisetia@anasazisaurus@anatosaurus@anatotitan@anchiceratops@anchiornis@anchisaurus@andesaurus@andhrasaurus@angaturama@angloposeidon@angolatitan@angulomastacator@aniksosaurus@animantarx@ankistrodon@ankylosaurus@anodontosaurus@anoplosaurus@anserimimus@antarctopelta@antarctosaurus@antetonitrus@anthodon@antrodemus@anzu@aoniraptor@aorun@apatodon@apatoraptor@apatosaurus@appalachiosaurus@aquilops@aragosaurus@aralosaurus@araucanoraptor@archaeoceratops@archaeodontosaurus@archaeopteryx@archaeoraptor@archaeornis@archaeornithoides@archaeornithomimus@arcovenator@arctosaurus@arcusaurus@arenysaurus@argentinosaurus@argyrosaurus@aristosaurus@aristosuchus@arizonasaurus@arkansaurus@arkharavia@arrhinoceratops@arstanosaurus@asiaceratops@asiamericana@asiatosaurus@astrodon@astrodonius@astrodontaurus@astrophocaudia@asylosaurus@atacamatitan@atlantosaurus@atlasaurus@atlascopcosaurus@atrociraptor@atsinganosaurus@aublysodon@aucasaurus@augustia@augustynolophus@auroraceratops@aurornis@australodocus@australovenator@austrocheirus@austroposeidon@austroraptor@austrosaurus@avaceratops@avalonia@avalonianus@aviatyrannis@avimimus@avisaurus@avipes@azendohsaurus@bactrosaurus@bagaceratops@bagaraatan@bahariasaurus@bainoceratops@bakesaurus@balaur@balochisaurus@bambiraptor@banji@baotianmansaurus@barapasaurus@barilium@barosaurus@barrosasaurus@barsboldia@baryonyx@bashunosaurus@basutodon@bathygnathus@batyrosaurus@baurutitan@bayosaurus@becklespinax@beelemodon@beibeilong@beipiaognathus@beipiaosaurus@beishanlong@bellusaurus@belodon@berberosaurus@betasuchus@bicentenaria@bienosaurus@bihariosaurus@bilbeyhallorum@bissektipelta@bistahieversor@blancocerosaurus@blasisaurus@blikanasaurus@bolong@bonapartenykus@bonapartesaurus@bonatitan@bonitasaura@borealopelta@borealosaurus@boreonykus@borogovia@bothriospondylus@brachiosaurus@brachyceratops@brachylophosaurus@brachypodosaurus@brachyrophus@brachytaenius@brachytrachelopan@bradycneme@brasileosaurus@brasilotitan@bravoceratops@breviceratops@brohisaurus@brontomerus@brontoraptor@brontosaurus@bruhathkayosaurus@bugenasaura@buitreraptor@burianosaurus@buriolestes@byranjaffia@byronosaurus@caenagnathasia@caenagnathus@calamosaurus@calamospondylus@calamospondylus@callovosaurus@camarasaurus@camarillasaurus@camelotia@camposaurus@camptonotus@camptosaurus@campylodon@campylodoniscus@canardia@capitalsaurus@carcharodontosaurus@cardiodon@carnotaurus@caseosaurus@cathartesaura@cathetosaurus@caudipteryx@caudocoelus@caulodon@cedarosaurus@cedarpelta@cedrorestes@centemodon@centrosaurus@cerasinops@ceratonykus@ceratops@ceratosaurus@cetiosauriscus@cetiosaurus@changchunsaurus@changdusaurus@changyuraptor@chaoyangsaurus@charonosaurus@chasmosaurus@chassternbergia@chebsaurus@chenanisaurus@cheneosaurus@chialingosaurus@chiayusaurus@chienkosaurus@chihuahuasaurus@chilantaisaurus@chilesaurus@chindesaurus@chingkankousaurus@chinshakiangosaurus@chirostenotes@choconsaurus@chondrosteosaurus@chromogisaurus@chuandongocoelurus@chuanjiesaurus@chuanqilong@chubutisaurus@chungkingosaurus@chuxiongosaurus@cinizasaurus@cionodon@citipati@cladeiodon@claorhynchus@claosaurus@clarencea@clasmodosaurus@clepsysaurus@coahuilaceratops@coelophysis@coelosaurus@coeluroides@coelurosauravus@coelurus@colepiocephale@coloradia@coloradisaurus@colossosaurus@comahuesaurus@comanchesaurus@compsognathus@compsosuchus@concavenator@conchoraptor@condorraptor@coronosaurus@corythoraptor@corythosaurus@craspedodon@crataeomus@craterosaurus@creosaurus@crichtonpelta@crichtonsaurus@cristatusaurus@crosbysaurus@cruxicheiros@cryolophosaurus@cryptodraco@cryptoraptor@cryptosaurus@cryptovolans@cumnoria@daanosaurus@dacentrurus@dachongosaurus@daemonosaurus@dahalokely@dakosaurus@dakotadon@dakotaraptor@daliansaurus@damalasaurus@dandakosaurus@danubiosaurus@daptosaurus@darwinsaurus@dashanpusaurus@daspletosaurus@dasygnathoides@dasygnathus@datanglong@datonglong@datousaurus@daurosaurus@daxiatitan@deinocheirus@deinodon@deinonychus@delapparentia@deltadromeus@demandasaurus@denversaurus@deuterosaurus@diabloceratops@diamantinasaurus@dianchungosaurus@diceratops@diceratusdiclonius@dicraeosaurus@didanodondilong@dilophosaurus@diluvicursor@dimodosaurus@dinheirosaurus@dinodocus@dinotyrannus@diplodocus@diplotomodon@diracodon@dolichosuchus@dollodon@domeykosaurus@dongbeititan@dongyangopelta@dongyangosaurus@doratodon@doryphorosaurus@draconyx@dracopelta@dracoraptor@dracorex@dracovenator@dravidosaurus@dreadnoughtus@drinker@dromaeosauroides@dromaeosaurus@dromiceiomimus@dromicosaurus@drusilasaura@dryosaurus@dryptosauroides@dryptosaurus@dubreuillosaurus@duriatitan@duriavenator@dynamosaurus@dyoplosaurus@dysalotosaurus@dysganus@dyslocosaurus@dystrophaeus@dystylosaurus@echinodon@edmarka@edmontonia@edmontosaurus@efraasia@einiosaurus@ekrixinatosaurus@elachistosuchus@elaltitan@elaphrosaurus@elmisaurus@elopteryx@elosaurus@elrhazosaurus@elvisaurus@emausaurus@embasaurus@enigmosaurus@eoabelisaurus@eobrontosaurus@eocarcharia@eoceratops@eocursor@eodromaeus@eohadrosaurus@eolambia@eomamenchisaurus@eoplophysis@eoraptor@eosinopteryx@eotrachodon@eotriceratops@eotyrannus@eousdryosaurus@epachthosaurus@epanterias@ephoenosaurus@epicampodon@epichirostenotes@epidendrosaurus@epidexipteryx@equijubus@erectopus@erketu@erliansaurus@erlikosaurus@eshanosaurus@euacanthus@eucamerotus@eucentrosaurus@eucercosaurus@eucnemesaurus@eucoelophysis@eugongbusaurus@euhelopus@euoplocephalus@eupodosaurus@eureodon@eurolimnornis@euronychodon@europasaurus@europatitan@europelta@euskelosaurus@eustreptospondylus@fabrosaurus@falcarius@fendusaurus@fenestrosaurus@ferganasaurus@ferganastegos@ferganocephale@foraminacephale@fosterovenator@frenguellisaurus@fruitadens@fukuiraptor@fukuisaurus@fukuititan@fukuivenator@fulengia@fulgurotherium@fusinasus@fusuisaurus@futabasaurus@futalognkosaurus@gadolosaurus@galeamopus@galesaurus@gallimimus@galtonia@galveosaurus@galvesaurus@gannansaurus@gansutitan@ganzhousaurus@gargoyleosaurus@garudimimus@gasosaurus@gasparinisaura@gastonia@gavinosaurus@geminiraptor@genusaurus@genyodectes@geranosaurus@gideonmantellia@giganotosaurus@gigantoraptor@gigantosaurus@gigantosaurus@gigantoscelus@gigantspinosaurus@gilmoreosaurus@ginnareemimus@giraffatitan@glacialisaurus@glishades@glyptodontopelta@skeleton@gobiceratops@gobisaurus@gobititan@gobivenator@godzillasaurus@gojirasaurus@gondwanatitan@gongbusaurus@gongpoquansaurus@gongxianosaurus@gorgosaurus@goyocephale@graciliceratops@graciliraptor@gracilisuchus@gravitholus@gresslyosaurus@griphornis@griphosaurus@gryphoceratops@gryponyx@gryposaurus@gspsaurus@guaibasaurus@gualicho@guanlong@gwyneddosaurus@gyposaurus@hadrosauravus@hadrosaurus@haestasaurus@hagryphus@hallopus@halszkaraptor@halticosaurus@hanssuesia@hanwulosaurus@haplocanthosaurus@haplocanthus@haplocheirus@harpymimus@haya@hecatasaurus@heilongjiangosaurus@heishansaurus@helioceratops@helopus@heptasteornis@herbstosaurus@herrerasaurus@hesperonychus@hesperosaurus@heterodontosaurus@heterosaurus@hexing@hexinlusaurus@heyuannia@hierosaurus@hippodraco@hironosaurus@hisanohamasaurus@histriasaurus@homalocephale@honghesaurus@hongshanosaurus@hoplitosaurus@hoplosaurus@horshamosaurus@hortalotarsus@huabeisaurus@hualianceratops@huanansaurus@huanghetitan@huangshanlong@huaxiagnathus@huaxiaosaurus@huaxiasaurus@huayangosaurus@hudiesaurus@huehuecanauhtlus@hulsanpes@hungarosaurus@huxleysaurus@hylaeosaurus@hylosaurushypacrosaurus@hypselorhachis@hypselosaurus@hypselospinus@hypsibema@hypsilophodon@hypsirhophus@habodcraniosaurus@ichthyovenator@ignavusaurus@iguanacolossus@iguanodon@iguanoides@skeleton@iguanosaurus@iliosuchus@ilokelesia@incisivosaurus@indosaurus@indosuchus@ingenia@inosaurus@irritator@isaberrysaura@isanosaurus@ischioceratops@ischisaurus@ischyrosaurus@isisaurus@issasaurus@itemirus@iuticosaurus@jainosaurus@jaklapallisaurus@janenschia@jaxartosaurus@jeholosaurus@jenghizkhan@jensenosaurus@jeyawati@jianchangosaurus@jiangjunmiaosaurus@jiangjunosaurus@jiangshanosaurus@jiangxisaurus@jianianhualong@jinfengopteryx@jingshanosaurus@jintasaurus@jinzhousaurus@jiutaisaurus@jobaria@jubbulpuria@judiceratops@jurapteryx@jurassosaurus@juratyrant@juravenator@kagasaurus@kaijiangosaurus@kakuru@kangnasaurus@karongasaurus@katepensaurus@katsuyamasaurus@kayentavenator@kazaklambia@kelmayisaurus@kemkemiakentrosaurus@kentrurosaurus@kerberosaurus@kentrosaurus@khaan@khetranisaurus@kileskus@kinnareemimus@kitadanisaurus@kittysaurus@klamelisauruskol@koparion@koreaceratops@koreanosaurus@koreanosaurus@koshisaurus@kosmoceratops@kotasaurus@koutalisaurus@kritosaurus@kryptops@krzyzanowskisaurus@kukufeldia@kulceratops@kulindadromeus@kulindapteryx@kunbarrasaurus@kundurosaurus@kunmingosaurus@kuszholia@labocania@labrosaurus@laelaps@laevisuchus@lagerpeton@lagosuchus@laiyangosaurus@lamaceratops@lambeosaurus@lametasaurus@lamplughsaura@lanasaurus@lancangosaurus@lancanjiangosaurus@lanzhousaurus@laosaurus@lapampasaurus@laplatasaurus@lapparentosaurus@laquintasaura@latenivenatrix@latirhinus@leaellynasaura@leinkupal@leipsanosaurus@lengosaurus@leonerasaurus@lepidocheirosaurus@lepidus@leptoceratops@leptorhynchos@leptospondylus@leshansaurus@lesothosaurus@lessemsaurus@levnesovia@lewisuchus@lexovisaurus@leyesaurus@liaoceratops@liaoningosaurus@liaoningtitan@liaoningvenator@liassaurus@libycosaurus@ligabueino@ligabuesaurus@ligomasaurus@likhoelesaurus@liliensternus@limaysaurus@limnornis@limnosaurus@limusaurus@linhenykus@linheraptor@linhevenator@lirainosaurus@lisboasaurusliubangosaurus@lohuecotitan@loncosaurus@longisquama@longosaurus@lophorhothon@lophostropheus@loricatosaurus@loricosaurus@losillasaurus@lourinhanosaurus@lourinhasaurus@luanchuanraptor@luanpingosaurus@lucianosaurus@lucianovenator@lufengosaurus@lukousaurus@luoyanggia@lurdusaurus@lusitanosaurus@lusotitan@lycorhinus@lythronax@macelognathus@machairasaurus@machairoceratops@macrodontophion@macrogryphosaurus@macrophalangia@macroscelosaurus@macrurosaurus@madsenius@magnapaulia@magnamanus@magnirostris@magnosaurus@magulodon@magyarosaurus@mahakala@maiasaura@majungasaurus@majungatholus@malarguesaurus@malawisaurus@maleevosaurus@maleevus@mamenchisaurus@manidens@mandschurosaurus@manospondylus@mantellisaurus@mantellodon@mapusaurus@marasuchus@marisaurus@marmarospondylus@marshosaurus@martharaptor@masiakasaurus@massospondylus@matheronodon@maxakalisaurus@medusaceratops@megacervixosaurus@megadactylus@megadontosaurus@megalosaurus@megapnosaurus@megaraptor@mei@melanorosaurus@mendozasaurus@mercuriceratops@meroktenos@metriacanthosaurus@microcephale@microceratops@microceratus@microcoelus@microdontosaurus@microhadrosaurus@micropachycephalosaurus@microraptor@microvenator@mierasaurus@mifunesaurus@minmi@minotaurasaurus@miragaia@mirischia@moabosaurus@mochlodon@mohammadisaurus@mojoceratops@mongolosaurus@monkonosaurus@monoclonius@monolophosaurus@mononychus@mononykus@montanoceratops@morelladon@morinosaurus@morosaurus@morrosaurus@mosaiceratops@moshisaurus@mtapaiasaurus@mtotosaurus@murusraptor@mussaurus@muttaburrasaurus@muyelensaurus@mymoorapelta@naashoibitosaurus@nambalia@nankangia@nanningosaurus@nanosaurus@nanotyrannus@nanshiungosaurus@nanuqsaurus@nanyangosaurus@narambuenatitan@nasutoceratops@natronasaurus@nebulasaurus@nectosaurus@nedcolbertia@nedoceratops@neimongosaurus@nemegtia@nemegtomaia@nemegtosaurus@neosaurus@neosodon@neovenator@neuquenraptor@neuquensaurus@newtonsaurus@ngexisaurus@nicksaurus@nigersaurus@ningyuansaurus@niobrarasaurus@nipponosaurus@noasaurus@nodocephalosaurus@nodosaurus@nomingia@nopcsaspondylus@normanniasaurus@nothronychus@notoceratops@notocolossus@notohypsilophodon@nqwebasaurus@nteregosaurus@nurosaurus@nuthetes@nyasasaurus@nyororosaurus@ohmdenosaurus@ojoceratops@ojoraptorsaurus@oligosaurus@olorotitan@omeisaurus@omosaurus@onychosaurus@oohkotokia@opisthocoelicaudia@oplosaurus@orcomimus@orinosaurusorkoraptor@ornatotholusornithodesmus@ornithoides@ornitholestes@ornithomerus@ornithomimoides@ornithomimus@ornithopsis@ornithosuchus@ornithotarsus@orodromeus@orosaurus@orthogoniosaurus@orthomerus@oryctodromeus@oshanosaurus@osmakasaurus@ostafrikasaurus@ostromia@othnielia@othnielosaurus@otogosaurus@ouranosaurus@overosaurus@oviraptor@ovoraptor@owenodon@oxalaia@ozraptor@pachycephalosaurus@pachyrhinosaurus@pachysauriscus@pachysaurops@pachysaurus@pachyspondylus@pachysuchus@padillasaurus@pakisaurus@palaeoctonus@palaeocursornis@palaeolimnornis@palaeopteryx@palaeosauriscus@palaeosaurus@palaeosaurus@palaeoscincus@paleosaurus@paludititan@paluxysaurus@pampadromaeus@pamparaptor@panamericansaurus@pandoravenator@panguraptor@panoplosaurus@panphagia@pantydraco@paraiguanodon@paralititan@paranthodon@pararhabdodon@parasaurolophus@pareiasaurus@parksosaurus@paronychodon@parrosaurus@parvicursor@patagonykus@patagosaurus@patagotitan@pawpawsaurus@pectinodon@pedopenna@pegomastax@peishansaurus@pekinosaurus@pelecanimimus@pellegrinisaurus@peloroplites@pelorosaurus@peltosaurus@penelopognathus@pentaceratops@petrobrasaurus@phaedrolosaurus@philovenator@phuwiangosaurus@phyllodon@piatnitzkysaurus@picrodon@pinacosaurus@pisanosaurus@pitekunsaurus@piveteausaurus@planicoxa@plateosauravus@plateosaurus@platyceratops@plesiohadros@pleurocoelus@pleuropeltus@pneumatoarthrus@pneumatoraptor@podokesaurus@poekilopleuron@polacanthoides@polacanthus@polyodontosaurus@polyonax@ponerosteus@poposaurus@parasaurolophus@postosuchus@powellvenator@pradhania@prenocephale@prenoceratops@priconodon@priodontognathus@proa@probactrosaurus@probrachylophosaurus@proceratops@proceratosaurus@procerosaurus@procerosaurus@procheneosaurus@procompsognathus@prodeinodon@proiguanodon@propanoplosaurus@proplanicoxa@prosaurolophus@protarchaeopteryx@protecovasaurus@protiguanodon@protoavis@protoceratops@protognathosaurus@protognathus@protohadros@protorosaurus@protorosaurus@protrachodon@proyandusaurus@pseudolagosuchus@psittacosaurus@pteropelyx@pterospondylus@puertasaurus@pukyongosaurus@pulanesaura@pycnonemosaurus@pyroraptor@qantassaurus@qianzhousaurus@qiaowanlong@qijianglong@qinlingosaurus@qingxiusaurus@qiupalong@quaesitosaurus@quetecsaurus@quilmesaurus@rachitrema@rahiolisaurus@rahona@rahonavis@rajasaurus@rapator@rapetosaurus@raptorex@ratchasimasaurus@rativates@rayososaurus@razanandrongobe@rebbachisaurus@regaliceratops@regnosaurus@revueltosaurus@rhabdodon@rhadinosaurus@rhinorex@rhodanosaurus@rhoetosaurus@rhopalodon@riabininohadros@richardoestesia@rileya@rileyasuchus@rinchenia@rinconsaurus@rioarribasaurus@riodevasaurus@riojasaurus@riojasuchus@rocasaurus@roccosaurus@rubeosaurus@ruehleia@rugocaudia@rugops@rukwatitan@ruyangosaurus@sacisaurus@sahaliyania@saichania@saldamosaurus@salimosaurus@saltasaurus@saltopus@saltriosaurus@sanchusaurus@sangonghesaurus@sanjuansaurus@sanpasaurus@santanaraptor@saraikimasoom@sarahsaurus@sarcolestes@sarcosaurus@sarmientosaurus@saturnalia@sauraechinodon@saurolophus@sauroniops@sauropelta@saurophaganax@saurophagus@sauroplites@sauroposeidon@saurornithoides@saurornitholestes@savannasaurus@scansoriopteryx@scaphonyx@scelidosaurus@scipionyx@sciurumimus@scleromochlus@scolosaurus@scutellosaurus@secernosaurus@sefapanosaurus@segisaurus@segnosaurus@seismosaurus@seitaad@selimanosaurus@sellacoxa@sellosaurus@serendipaceratops@serikornis@shamosaurus@shanag@shanshanosaurus@shantungosaurus@shanxia@shanyangosaurus@shaochilong@shenzhousaurus@shidaisaurus@shingopana@shixinggia@shuangbaisaurus@shuangmiaosaurus@shunosaurus@shuvosaurus@shuvuuia@siamodon@siamodracon@siamosaurus@siamotyrannus@siats@sibirosaurus@sibirotitan@sidormimus@sigilmassasaurus@silesaurus@siluosaurus@silvisaurus@similicaudipteryx@sinocalliopteryx@sinoceratops@sinocoelurus@sinopelta@sinopeltosaurus@sinornithoides@sinornithomimus@sinornithosaurus@sinosauropteryx@sinosaurus@sinotyrannus@sinovenator@sinraptor@sinusonasus@sirindhorna@skorpiovenator@smilodon@sonidosaurus@sonorasaurus@soriatitan@sphaerotholus@sphenosaurus@sphenospondylus@spiclypeus@spinophorosaurus@spinops@spinosaurus@spinostropheus@spinosuchus@spondylosoma@squalodon@staurikosaurus@stegoceras@stegopelta@stegosaurides@stegosaurus@stenonychosaurus@stenopelix@stenotholus@stephanosaurus@stereocephalus@sterrholophus@stokesosaurus@stormbergia@strenusaurus@streptospondylus@struthiomimus@struthiosaurus@stygimoloch@stygivenator@styracosaurus@succinodon@suchomimus@suchosaurus@suchoprion@sugiyamasaurus@skeleton@sulaimanisaurus@supersaurus@suuwassea@suzhousaurus@symphyrophus@syngonosaurus@syntarsus@syrmosaurus@szechuanosaurus@tachiraptor@talarurus@talenkauen@talos@tambatitanis@tangvayosaurus@tanius@tanycolagreus@tanystropheus@tanystrosuchus@taohelong@tapinocephalus@tapuiasaurus@tarascosaurus@tarbosaurus@tarchia@tastavinsaurus@tatankacephalus@tatankaceratops@tataouinea@tatisaurus@taurovenator@taveirosaurus@tawa@tawasaurus@tazoudasaurus@technosaurus@tecovasaurus@tehuelchesaurus@teihivenator@teinurosaurus@teleocrater@telmatosaurus@tenantosaurus@tenchisaurus@tendaguria@tengrisaurus@tenontosaurus@teratophoneus@teratosaurus@termatosaurus@tethyshadros@tetragonosaurus@texacephale@texasetes@teyuwasu@thecocoelurus@thecodontosaurus@thecospondylus@theiophytalia@therizinosaurus@therosaurus@thescelosaurus@thespesius@thotobolosaurus@tianchisaurus@tianchungosaurus@tianyulong@tianyuraptor@tianzhenosaurus@tichosteus@tienshanosaurus@timimus@timurlengia@titanoceratops@titanosaurus@titanosaurus@tochisaurus@tomodon@tonganosaurus@tongtianlong@tonouchisaurus@torilion@tornieria@torosaurus@torvosaurus@tototlmimus@trachodon@traukutitan@trialestes@triassolestes@tribelesodon@triceratops@trigonosaurus@trimucrodon@trinisaura@triunfosaurus@troodon@tsaagan@tsagantegia@tsintaosaurus@tugulusaurus@tuojiangosaurus@turanoceratops@turiasaurus@tylocephale@tylosteus@tyrannosaurus@tyrannotitan@illustration@uberabatitan@udanoceratops@ugrosaurus@ugrunaaluk@uintasaurus@ultrasauros@ultrasaurus@ultrasaurus@umarsaurus@unaysaurus@unenlagia@unescoceratops@unicerosaurus@unquillosaurus@urbacodon@utahceratops@utahraptor@uteodon@vagaceratops@vahiny@valdoraptor@valdosaurus@variraptor@velociraptor@vectensia@vectisaurus@velafrons@velocipes@velociraptor@velocisaurus@venaticosuchus@venenosaurus@veterupristisaurus@viavenator@vitakridrinda@vitakrisaurus@volkheimeria@vouivria@vulcanodon@wadhurstia@wakinosaurus@walgettosuchus@walkeria@walkersaurus@wangonisaurus@wannanosaurus@wellnhoferia@wendiceratops@wiehenvenator@willinakaqe@wintonotitan@wuerhosaurus@wulagasaurus@wulatelong@wyleyia@wyomingraptor@xenoceratops@xenoposeidon@xenotarsosaurus@xianshanosaurus@xiaosaurus@xingxiulong@xinjiangovenator@xinjiangtitan@xiongguanlong@xixianykus@xixiasaurus@xixiposaurus@xuanhanosaurus@xuanhuaceratops@xuanhuasaurus@xuwulong@yaleosaurus@yamaceratops@yandusaurus@yangchuanosaurus@yaverlandia@yehuecauhceratops@yezosaurus@yibinosaurus@yimenosaurus@yingshanosaurus@yinlong@yixianosaurus@yizhousaurus@yongjinglong@yuanmouraptor@yuanmousaurus@yueosaurus@yulong@yunganglong@yunmenglong@yunnanosaurus@yunxianosaurus@yurgovuchia@yutyrannus@zanabazar@zanclodon@zapalasaurus@zapsalis@zaraapelta@zatomuszby@zephyrosaurus@zhanghenglong@zhejiangosaurus@zhenyuanlong@zhongornis@zhongjianosaurus@zhongyuansaurus@zhuchengceratops@zhuchengosaurus@zhuchengtitan@zhuchengtyrannus@ziapelta@zigongosaurus@zizhongosaurus@zuniceratops@zunityrannus@zuolong@zuoyunlong@zupaysaurus@zuul'"
            ],
            "application/vnd.google.colaboratory.intrinsic+json": {
              "type": "string"
            }
          },
          "metadata": {},
          "execution_count": 5
        }
      ]
    },
    {
      "cell_type": "code",
      "source": [
        "device = \"cuda\" if torch.cuda.is_available() else \"cpu\"\n",
        "seq_length = 18\n",
        "batch_size = 64\n",
        "hidden_size = 128"
      ],
      "metadata": {
        "id": "-de8AbdrNVSy"
      },
      "execution_count": 13,
      "outputs": []
    },
    {
      "cell_type": "markdown",
      "source": [
        "### Dataset"
      ],
      "metadata": {
        "id": "0noG3k7bsg9z"
      }
    },
    {
      "cell_type": "code",
      "source": [
        "class TextDataset(Dataset):\n",
        "    def __init__(self, text_data, seq_length):\n",
        "        self.chars = sorted(list(set(text_data)))\n",
        "        self.data_size, self.vocab_size = len(text_data), len(self.chars)\n",
        "\n",
        "        self.idx_to_char = {i:ch for i, ch in enumerate(self.chars)}\n",
        "        self.char_to_idx = {ch:i for i, ch in enumerate(self.chars)}\n",
        "        self.seq_length = seq_length\n",
        "        self.X = self.string_to_vector(text_data)\n",
        "\n",
        "    @property\n",
        "    def X_string(self):\n",
        "        return self.vector_to_string(self.X)\n",
        "\n",
        "    def __len__(self):\n",
        "        return int(len(self.X) / self.seq_length - 1)\n",
        "\n",
        "    def __getitem__(self, index):\n",
        "        start_idx = index * self.seq_length\n",
        "        end_idx = (index + 1) * self.seq_length\n",
        "\n",
        "        X = torch.tensor(self.X[start_idx:end_idx]).float()\n",
        "        y = torch.tensor(self.X[start_idx+1:end_idx+1]).float()\n",
        "        return X, y\n",
        "\n",
        "    def string_to_vector(self, name):\n",
        "        \"\"\"\n",
        "        sample:\n",
        "        >>> string_to_vector('test')\n",
        "        [20, 5, 19, 20]\n",
        "        \"\"\"\n",
        "        vector = list()\n",
        "        for s in name:\n",
        "            vector.append(self.char_to_idx[s])\n",
        "        return vector\n",
        "\n",
        "    def vector_to_string(self, vector):\n",
        "        \"\"\"\n",
        "        sample:\n",
        "        >>> vector_to_string([20, 5, 19, 20])\n",
        "        'test'\n",
        "        \"\"\"\n",
        "        vector_string = \"\"\n",
        "        for i in vector:\n",
        "            vector_string += self.idx_to_char[i]\n",
        "        return vector_string"
      ],
      "metadata": {
        "id": "OYaCy9kXNKSD"
      },
      "execution_count": 14,
      "outputs": []
    },
    {
      "cell_type": "markdown",
      "source": [
        "### Model"
      ],
      "metadata": {
        "id": "7uVV4As_QRK5"
      }
    },
    {
      "cell_type": "code",
      "source": [
        "class RNN(nn.Module):\n",
        "    def __init__(self, input_size, hidden_size, output_size):\n",
        "        \"\"\" F(w), y\n",
        "        input_size: Number of features of your input vector\n",
        "        hidden_size: Number of hidden neurons\n",
        "        output_size: Number of features of your output vector\n",
        "        \"\"\"\n",
        "        super().__init__()\n",
        "        self.input_size = input_size\n",
        "        self.hidden_size = hidden_size\n",
        "        self.output_size = output_size\n",
        "        self.batch_size = batch_size\n",
        "\n",
        "        self.input_to_hidden = nn.Linear(input_size, hidden_size)\n",
        "        self.hidden_to_hidden = nn.Linear(hidden_size, hidden_size)\n",
        "        self.hidden_to_output = nn.Linear(hidden_size, output_size)\n",
        "\n",
        "\n",
        "    def forward(self, x, hidden_state):\n",
        "        x = self.input_to_hidden(x)\n",
        "        hidden_state = self.hidden_to_hidden(hidden_state)\n",
        "        hidden_state = torch.tanh(x + hidden_state)\n",
        "        out = self.hidden_to_output(hidden_state)\n",
        "        return out, hidden_state\n",
        "\n",
        "\n",
        "    def init_zero_hidden(self, batch_size=1):\n",
        "        return torch.zeros(batch_size, self.hidden_size, requires_grad=False)"
      ],
      "metadata": {
        "id": "bs_o4S5JL9uv"
      },
      "execution_count": 15,
      "outputs": []
    },
    {
      "cell_type": "markdown",
      "source": [
        "### Train"
      ],
      "metadata": {
        "id": "4miFIpy1QT5_"
      }
    },
    {
      "cell_type": "code",
      "source": [
        "text_dataset = TextDataset(data, seq_length=seq_length)\n",
        "text_dataloader = DataLoader(text_dataset, batch_size, shuffle=True, drop_last=True)\n",
        "\n",
        "# Model\n",
        "model = RNN(1, hidden_size, len(text_dataset.chars)) # 1 because we enter a single number/letter per step and len(text_dataset.chars) for one-hot\n",
        "\n",
        "# Train variables\n",
        "epochs = 1000\n",
        "loss_fn = nn.CrossEntropyLoss()\n",
        "optimizer = optim.Adam(model.parameters(), lr=0.001)"
      ],
      "metadata": {
        "id": "H5RZvMBRQyvh"
      },
      "execution_count": 24,
      "outputs": []
    },
    {
      "cell_type": "code",
      "source": [
        "train_losses = {}\n",
        "model.to(device)\n",
        "model.train()\n",
        "\n",
        "pbar = tqdm(range(epochs))\n",
        "for epoch in pbar:\n",
        "    epoch_losses = list()\n",
        "    for X, Y in text_dataloader:\n",
        "        hidden = model.init_zero_hidden(batch_size=model.batch_size)\n",
        "        X, Y, hidden = X.to(device), Y.to(device), hidden.to(device)\n",
        "        model.zero_grad()\n",
        "\n",
        "        loss_value = 0\n",
        "        for c in range(X.shape[1]):\n",
        "            out, hidden = model(X[:, c].reshape(X.shape[0], 1), hidden)\n",
        "            loss_value = loss_fn(out, Y[:, c].long())\n",
        "            loss_value += loss_value\n",
        "\n",
        "        loss_value.backward()\n",
        "        nn.utils.clip_grad_norm_(model.parameters(), 2)\n",
        "        optimizer.step()\n",
        "\n",
        "        epoch_losses.append(loss_value.detach().item() / X.shape[1])\n",
        "\n",
        "    train_losses[epoch] = torch.tensor(epoch_losses).mean()\n",
        "    pbar.set_postfix({'epoch': f'{epoch + 1}', 'loss': f'{train_losses[epoch]:.4f}'})"
      ],
      "metadata": {
        "colab": {
          "base_uri": "https://localhost:8080/",
          "height": 390
        },
        "id": "AukQc9fwQMQ9",
        "outputId": "fdc225e9-cfc1-4752-ad57-d48d62232589"
      },
      "execution_count": 25,
      "outputs": [
        {
          "output_type": "stream",
          "name": "stderr",
          "text": [
            "  1%|▏         | 14/1000 [00:03<03:58,  4.14it/s, epoch=14, loss=0.2696]\n"
          ]
        },
        {
          "output_type": "error",
          "ename": "KeyboardInterrupt",
          "evalue": "",
          "traceback": [
            "\u001b[0;31m---------------------------------------------------------------------------\u001b[0m",
            "\u001b[0;31mKeyboardInterrupt\u001b[0m                         Traceback (most recent call last)",
            "\u001b[0;32m<ipython-input-25-b9cdc98d5793>\u001b[0m in \u001b[0;36m<cell line: 6>\u001b[0;34m()\u001b[0m\n\u001b[1;32m     13\u001b[0m         \u001b[0mloss_value\u001b[0m \u001b[0;34m=\u001b[0m \u001b[0;36m0\u001b[0m\u001b[0;34m\u001b[0m\u001b[0;34m\u001b[0m\u001b[0m\n\u001b[1;32m     14\u001b[0m         \u001b[0;32mfor\u001b[0m \u001b[0mc\u001b[0m \u001b[0;32min\u001b[0m \u001b[0mrange\u001b[0m\u001b[0;34m(\u001b[0m\u001b[0mX\u001b[0m\u001b[0;34m.\u001b[0m\u001b[0mshape\u001b[0m\u001b[0;34m[\u001b[0m\u001b[0;36m1\u001b[0m\u001b[0;34m]\u001b[0m\u001b[0;34m)\u001b[0m\u001b[0;34m:\u001b[0m\u001b[0;34m\u001b[0m\u001b[0;34m\u001b[0m\u001b[0m\n\u001b[0;32m---> 15\u001b[0;31m             \u001b[0mout\u001b[0m\u001b[0;34m,\u001b[0m \u001b[0mhidden\u001b[0m \u001b[0;34m=\u001b[0m \u001b[0mmodel\u001b[0m\u001b[0;34m(\u001b[0m\u001b[0mX\u001b[0m\u001b[0;34m[\u001b[0m\u001b[0;34m:\u001b[0m\u001b[0;34m,\u001b[0m \u001b[0mc\u001b[0m\u001b[0;34m]\u001b[0m\u001b[0;34m.\u001b[0m\u001b[0mreshape\u001b[0m\u001b[0;34m(\u001b[0m\u001b[0mX\u001b[0m\u001b[0;34m.\u001b[0m\u001b[0mshape\u001b[0m\u001b[0;34m[\u001b[0m\u001b[0;36m0\u001b[0m\u001b[0;34m]\u001b[0m\u001b[0;34m,\u001b[0m \u001b[0;36m1\u001b[0m\u001b[0;34m)\u001b[0m\u001b[0;34m,\u001b[0m \u001b[0mhidden\u001b[0m\u001b[0;34m)\u001b[0m\u001b[0;34m\u001b[0m\u001b[0;34m\u001b[0m\u001b[0m\n\u001b[0m\u001b[1;32m     16\u001b[0m             \u001b[0mloss_value\u001b[0m \u001b[0;34m=\u001b[0m \u001b[0mloss_fn\u001b[0m\u001b[0;34m(\u001b[0m\u001b[0mout\u001b[0m\u001b[0;34m,\u001b[0m \u001b[0mY\u001b[0m\u001b[0;34m[\u001b[0m\u001b[0;34m:\u001b[0m\u001b[0;34m,\u001b[0m \u001b[0mc\u001b[0m\u001b[0;34m]\u001b[0m\u001b[0;34m.\u001b[0m\u001b[0mlong\u001b[0m\u001b[0;34m(\u001b[0m\u001b[0;34m)\u001b[0m\u001b[0;34m)\u001b[0m\u001b[0;34m\u001b[0m\u001b[0;34m\u001b[0m\u001b[0m\n\u001b[1;32m     17\u001b[0m             \u001b[0mloss_value\u001b[0m \u001b[0;34m+=\u001b[0m \u001b[0mloss_value\u001b[0m\u001b[0;34m\u001b[0m\u001b[0;34m\u001b[0m\u001b[0m\n",
            "\u001b[0;32m/usr/local/lib/python3.10/dist-packages/torch/nn/modules/module.py\u001b[0m in \u001b[0;36m_wrapped_call_impl\u001b[0;34m(self, *args, **kwargs)\u001b[0m\n\u001b[1;32m   1530\u001b[0m             \u001b[0;32mreturn\u001b[0m \u001b[0mself\u001b[0m\u001b[0;34m.\u001b[0m\u001b[0m_compiled_call_impl\u001b[0m\u001b[0;34m(\u001b[0m\u001b[0;34m*\u001b[0m\u001b[0margs\u001b[0m\u001b[0;34m,\u001b[0m \u001b[0;34m**\u001b[0m\u001b[0mkwargs\u001b[0m\u001b[0;34m)\u001b[0m  \u001b[0;31m# type: ignore[misc]\u001b[0m\u001b[0;34m\u001b[0m\u001b[0;34m\u001b[0m\u001b[0m\n\u001b[1;32m   1531\u001b[0m         \u001b[0;32melse\u001b[0m\u001b[0;34m:\u001b[0m\u001b[0;34m\u001b[0m\u001b[0;34m\u001b[0m\u001b[0m\n\u001b[0;32m-> 1532\u001b[0;31m             \u001b[0;32mreturn\u001b[0m \u001b[0mself\u001b[0m\u001b[0;34m.\u001b[0m\u001b[0m_call_impl\u001b[0m\u001b[0;34m(\u001b[0m\u001b[0;34m*\u001b[0m\u001b[0margs\u001b[0m\u001b[0;34m,\u001b[0m \u001b[0;34m**\u001b[0m\u001b[0mkwargs\u001b[0m\u001b[0;34m)\u001b[0m\u001b[0;34m\u001b[0m\u001b[0;34m\u001b[0m\u001b[0m\n\u001b[0m\u001b[1;32m   1533\u001b[0m \u001b[0;34m\u001b[0m\u001b[0m\n\u001b[1;32m   1534\u001b[0m     \u001b[0;32mdef\u001b[0m \u001b[0m_call_impl\u001b[0m\u001b[0;34m(\u001b[0m\u001b[0mself\u001b[0m\u001b[0;34m,\u001b[0m \u001b[0;34m*\u001b[0m\u001b[0margs\u001b[0m\u001b[0;34m,\u001b[0m \u001b[0;34m**\u001b[0m\u001b[0mkwargs\u001b[0m\u001b[0;34m)\u001b[0m\u001b[0;34m:\u001b[0m\u001b[0;34m\u001b[0m\u001b[0;34m\u001b[0m\u001b[0m\n",
            "\u001b[0;32m/usr/local/lib/python3.10/dist-packages/torch/nn/modules/module.py\u001b[0m in \u001b[0;36m_call_impl\u001b[0;34m(self, *args, **kwargs)\u001b[0m\n\u001b[1;32m   1539\u001b[0m                 \u001b[0;32mor\u001b[0m \u001b[0m_global_backward_pre_hooks\u001b[0m \u001b[0;32mor\u001b[0m \u001b[0m_global_backward_hooks\u001b[0m\u001b[0;34m\u001b[0m\u001b[0;34m\u001b[0m\u001b[0m\n\u001b[1;32m   1540\u001b[0m                 or _global_forward_hooks or _global_forward_pre_hooks):\n\u001b[0;32m-> 1541\u001b[0;31m             \u001b[0;32mreturn\u001b[0m \u001b[0mforward_call\u001b[0m\u001b[0;34m(\u001b[0m\u001b[0;34m*\u001b[0m\u001b[0margs\u001b[0m\u001b[0;34m,\u001b[0m \u001b[0;34m**\u001b[0m\u001b[0mkwargs\u001b[0m\u001b[0;34m)\u001b[0m\u001b[0;34m\u001b[0m\u001b[0;34m\u001b[0m\u001b[0m\n\u001b[0m\u001b[1;32m   1542\u001b[0m \u001b[0;34m\u001b[0m\u001b[0m\n\u001b[1;32m   1543\u001b[0m         \u001b[0;32mtry\u001b[0m\u001b[0;34m:\u001b[0m\u001b[0;34m\u001b[0m\u001b[0;34m\u001b[0m\u001b[0m\n",
            "\u001b[0;32m<ipython-input-15-4373b371efdd>\u001b[0m in \u001b[0;36mforward\u001b[0;34m(self, x, hidden_state)\u001b[0m\n\u001b[1;32m     18\u001b[0m \u001b[0;34m\u001b[0m\u001b[0m\n\u001b[1;32m     19\u001b[0m     \u001b[0;32mdef\u001b[0m \u001b[0mforward\u001b[0m\u001b[0;34m(\u001b[0m\u001b[0mself\u001b[0m\u001b[0;34m,\u001b[0m \u001b[0mx\u001b[0m\u001b[0;34m,\u001b[0m \u001b[0mhidden_state\u001b[0m\u001b[0;34m)\u001b[0m\u001b[0;34m:\u001b[0m\u001b[0;34m\u001b[0m\u001b[0;34m\u001b[0m\u001b[0m\n\u001b[0;32m---> 20\u001b[0;31m         \u001b[0mx\u001b[0m \u001b[0;34m=\u001b[0m \u001b[0mself\u001b[0m\u001b[0;34m.\u001b[0m\u001b[0minput_to_hidden\u001b[0m\u001b[0;34m(\u001b[0m\u001b[0mx\u001b[0m\u001b[0;34m)\u001b[0m\u001b[0;34m\u001b[0m\u001b[0;34m\u001b[0m\u001b[0m\n\u001b[0m\u001b[1;32m     21\u001b[0m         \u001b[0mhidden_state\u001b[0m \u001b[0;34m=\u001b[0m \u001b[0mself\u001b[0m\u001b[0;34m.\u001b[0m\u001b[0mhidden_to_hidden\u001b[0m\u001b[0;34m(\u001b[0m\u001b[0mhidden_state\u001b[0m\u001b[0;34m)\u001b[0m\u001b[0;34m\u001b[0m\u001b[0;34m\u001b[0m\u001b[0m\n\u001b[1;32m     22\u001b[0m         \u001b[0mhidden_state\u001b[0m \u001b[0;34m=\u001b[0m \u001b[0mtorch\u001b[0m\u001b[0;34m.\u001b[0m\u001b[0mtanh\u001b[0m\u001b[0;34m(\u001b[0m\u001b[0mx\u001b[0m \u001b[0;34m+\u001b[0m \u001b[0mhidden_state\u001b[0m\u001b[0;34m)\u001b[0m\u001b[0;34m\u001b[0m\u001b[0;34m\u001b[0m\u001b[0m\n",
            "\u001b[0;32m/usr/local/lib/python3.10/dist-packages/torch/nn/modules/module.py\u001b[0m in \u001b[0;36m_wrapped_call_impl\u001b[0;34m(self, *args, **kwargs)\u001b[0m\n\u001b[1;32m   1530\u001b[0m             \u001b[0;32mreturn\u001b[0m \u001b[0mself\u001b[0m\u001b[0;34m.\u001b[0m\u001b[0m_compiled_call_impl\u001b[0m\u001b[0;34m(\u001b[0m\u001b[0;34m*\u001b[0m\u001b[0margs\u001b[0m\u001b[0;34m,\u001b[0m \u001b[0;34m**\u001b[0m\u001b[0mkwargs\u001b[0m\u001b[0;34m)\u001b[0m  \u001b[0;31m# type: ignore[misc]\u001b[0m\u001b[0;34m\u001b[0m\u001b[0;34m\u001b[0m\u001b[0m\n\u001b[1;32m   1531\u001b[0m         \u001b[0;32melse\u001b[0m\u001b[0;34m:\u001b[0m\u001b[0;34m\u001b[0m\u001b[0;34m\u001b[0m\u001b[0m\n\u001b[0;32m-> 1532\u001b[0;31m             \u001b[0;32mreturn\u001b[0m \u001b[0mself\u001b[0m\u001b[0;34m.\u001b[0m\u001b[0m_call_impl\u001b[0m\u001b[0;34m(\u001b[0m\u001b[0;34m*\u001b[0m\u001b[0margs\u001b[0m\u001b[0;34m,\u001b[0m \u001b[0;34m**\u001b[0m\u001b[0mkwargs\u001b[0m\u001b[0;34m)\u001b[0m\u001b[0;34m\u001b[0m\u001b[0;34m\u001b[0m\u001b[0m\n\u001b[0m\u001b[1;32m   1533\u001b[0m \u001b[0;34m\u001b[0m\u001b[0m\n\u001b[1;32m   1534\u001b[0m     \u001b[0;32mdef\u001b[0m \u001b[0m_call_impl\u001b[0m\u001b[0;34m(\u001b[0m\u001b[0mself\u001b[0m\u001b[0;34m,\u001b[0m \u001b[0;34m*\u001b[0m\u001b[0margs\u001b[0m\u001b[0;34m,\u001b[0m \u001b[0;34m**\u001b[0m\u001b[0mkwargs\u001b[0m\u001b[0;34m)\u001b[0m\u001b[0;34m:\u001b[0m\u001b[0;34m\u001b[0m\u001b[0;34m\u001b[0m\u001b[0m\n",
            "\u001b[0;32m/usr/local/lib/python3.10/dist-packages/torch/nn/modules/module.py\u001b[0m in \u001b[0;36m_call_impl\u001b[0;34m(self, *args, **kwargs)\u001b[0m\n\u001b[1;32m   1539\u001b[0m                 \u001b[0;32mor\u001b[0m \u001b[0m_global_backward_pre_hooks\u001b[0m \u001b[0;32mor\u001b[0m \u001b[0m_global_backward_hooks\u001b[0m\u001b[0;34m\u001b[0m\u001b[0;34m\u001b[0m\u001b[0m\n\u001b[1;32m   1540\u001b[0m                 or _global_forward_hooks or _global_forward_pre_hooks):\n\u001b[0;32m-> 1541\u001b[0;31m             \u001b[0;32mreturn\u001b[0m \u001b[0mforward_call\u001b[0m\u001b[0;34m(\u001b[0m\u001b[0;34m*\u001b[0m\u001b[0margs\u001b[0m\u001b[0;34m,\u001b[0m \u001b[0;34m**\u001b[0m\u001b[0mkwargs\u001b[0m\u001b[0;34m)\u001b[0m\u001b[0;34m\u001b[0m\u001b[0;34m\u001b[0m\u001b[0m\n\u001b[0m\u001b[1;32m   1542\u001b[0m \u001b[0;34m\u001b[0m\u001b[0m\n\u001b[1;32m   1543\u001b[0m         \u001b[0;32mtry\u001b[0m\u001b[0;34m:\u001b[0m\u001b[0;34m\u001b[0m\u001b[0;34m\u001b[0m\u001b[0m\n",
            "\u001b[0;32m/usr/local/lib/python3.10/dist-packages/torch/nn/modules/linear.py\u001b[0m in \u001b[0;36mforward\u001b[0;34m(self, input)\u001b[0m\n\u001b[1;32m    114\u001b[0m \u001b[0;34m\u001b[0m\u001b[0m\n\u001b[1;32m    115\u001b[0m     \u001b[0;32mdef\u001b[0m \u001b[0mforward\u001b[0m\u001b[0;34m(\u001b[0m\u001b[0mself\u001b[0m\u001b[0;34m,\u001b[0m \u001b[0minput\u001b[0m\u001b[0;34m:\u001b[0m \u001b[0mTensor\u001b[0m\u001b[0;34m)\u001b[0m \u001b[0;34m->\u001b[0m \u001b[0mTensor\u001b[0m\u001b[0;34m:\u001b[0m\u001b[0;34m\u001b[0m\u001b[0;34m\u001b[0m\u001b[0m\n\u001b[0;32m--> 116\u001b[0;31m         \u001b[0;32mreturn\u001b[0m \u001b[0mF\u001b[0m\u001b[0;34m.\u001b[0m\u001b[0mlinear\u001b[0m\u001b[0;34m(\u001b[0m\u001b[0minput\u001b[0m\u001b[0;34m,\u001b[0m \u001b[0mself\u001b[0m\u001b[0;34m.\u001b[0m\u001b[0mweight\u001b[0m\u001b[0;34m,\u001b[0m \u001b[0mself\u001b[0m\u001b[0;34m.\u001b[0m\u001b[0mbias\u001b[0m\u001b[0;34m)\u001b[0m\u001b[0;34m\u001b[0m\u001b[0;34m\u001b[0m\u001b[0m\n\u001b[0m\u001b[1;32m    117\u001b[0m \u001b[0;34m\u001b[0m\u001b[0m\n\u001b[1;32m    118\u001b[0m     \u001b[0;32mdef\u001b[0m \u001b[0mextra_repr\u001b[0m\u001b[0;34m(\u001b[0m\u001b[0mself\u001b[0m\u001b[0;34m)\u001b[0m \u001b[0;34m->\u001b[0m \u001b[0mstr\u001b[0m\u001b[0;34m:\u001b[0m\u001b[0;34m\u001b[0m\u001b[0;34m\u001b[0m\u001b[0m\n",
            "\u001b[0;31mKeyboardInterrupt\u001b[0m: "
          ]
        }
      ]
    },
    {
      "cell_type": "code",
      "source": [
        "plt.plot(train_losses.values())"
      ],
      "metadata": {
        "colab": {
          "base_uri": "https://localhost:8080/",
          "height": 448
        },
        "id": "USDTEE62XF5x",
        "outputId": "1e18fac4-4580-48ef-8cd2-790302b7582d"
      },
      "execution_count": 47,
      "outputs": [
        {
          "output_type": "execute_result",
          "data": {
            "text/plain": [
              "[<matplotlib.lines.Line2D at 0x7af4b9037f40>]"
            ]
          },
          "metadata": {},
          "execution_count": 47
        },
        {
          "output_type": "display_data",
          "data": {
            "text/plain": [
              "<Figure size 640x480 with 1 Axes>"
            ],
            "image/png": "[encoded data removed]"
          },
          "metadata": {}
        }
      ]
    },
    {
      "cell_type": "markdown",
      "source": [
        "### Predict"
      ],
      "metadata": {
        "id": "1mi0wrp_086T"
      }
    },
    {
      "cell_type": "code",
      "source": [
        "def predict(model, dataset, prediction_length=25, start_with=None, static=True):\n",
        "    model.eval()\n",
        "    if start_with is None:\n",
        "        predicted = dataset.vector_to_string([random.randint(0, len(dataset.chars) - 1)])\n",
        "    else:\n",
        "        predicted = start_with\n",
        "    print(predicted)\n",
        "    hidden = model.init_zero_hidden()\n",
        "\n",
        "    for i in range(prediction_length - len(predicted)):\n",
        "        last_char = torch.Tensor([dataset.char_to_idx[predicted[-1]]])\n",
        "        X, hidden = last_char.to(device), hidden.to(device)\n",
        "        out, hidden = model(X, hidden)\n",
        "        if static:\n",
        "            result = torch.argmax(out).item()\n",
        "        else:\n",
        "            result = torch.multinomial(F.softmax(out, dim=1), 1).item()\n",
        "\n",
        "        letter = dataset.idx_to_char[result]\n",
        "        if letter == '@':\n",
        "            break\n",
        "        predicted += letter\n",
        "\n",
        "    return predicted"
      ],
      "metadata": {
        "id": "C1bFY3gTQNgm"
      },
      "execution_count": 51,
      "outputs": []
    },
    {
      "cell_type": "code",
      "source": [
        "predict(model, text_dataset, 10, start_with=\"b\")"
      ],
      "metadata": {
        "colab": {
          "base_uri": "https://localhost:8080/",
          "height": 54
        },
        "id": "1YUaSpFoU9Fv",
        "outputId": "c0271806-a218-4f77-943c-76e78954f02b"
      },
      "execution_count": 53,
      "outputs": [
        {
          "output_type": "stream",
          "name": "stdout",
          "text": [
            "b\n"
          ]
        },
        {
          "output_type": "execute_result",
          "data": {
            "text/plain": [
              "'brauru'"
            ],
            "application/vnd.google.colaboratory.intrinsic+json": {
              "type": "string"
            }
          },
          "metadata": {},
          "execution_count": 53
        }
      ]
    },
    {
      "cell_type": "markdown",
      "source": [
        "### LSTM"
      ],
      "metadata": {
        "id": "5Kz_Kij-1ADo"
      }
    },
    {
      "cell_type": "code",
      "source": [
        "class LSTM(nn.Module):\n",
        "    def __init__(self, input_size: int, hidden_size: int, output_size: int):\n",
        "        super().__init__()\n",
        "        self.input_size = input_size\n",
        "        self.hidden_size = hidden_size\n",
        "        self.contex_size = hidden_size\n",
        "        self.output_size = output_size\n",
        "        self.batch_size = batch_size\n",
        "        # forget gate\n",
        "        # initial weights or bias for layers in forget gate should be big positive\n",
        "        self.hidden_to_forget = nn.Linear(hidden_size, hidden_size)\n",
        "        self.x_to_forget = nn.Linear(input_size, hidden_size)\n",
        "        # input gate\n",
        "        self.hidden_to_i_input = nn.Linear(hidden_size, hidden_size)\n",
        "        self.x_to_i_input = nn.Linear(input_size, hidden_size)\n",
        "        self.hidden_to_context = nn.Linear(hidden_size, hidden_size)\n",
        "        self.x_to_context = nn.Linear(input_size, hidden_size)\n",
        "        # output gate\n",
        "        self.hidden_to_output = nn.Linear(hidden_size, hidden_size)\n",
        "        self.x_to_output = nn.Linear(input_size, hidden_size)\n",
        "        # y\n",
        "        self.hidden_to_y = nn.Linear(hidden_size, output_size)\n",
        "\n",
        "\n",
        "\n",
        "    def forward(self, x, hidden, context):\n",
        "        # forget_gate\n",
        "        x_to_forget = self.x_to_forget(x)\n",
        "        hidden_to_forget = self.hidden_to_forget(hidden)\n",
        "        forget_out = F.sigmoid(hidden_to_forget + x_to_forget)\n",
        "        context = context * forget_out\n",
        "        # input gate\n",
        "        i = F.sigmoid(self.hidden_to_i_input(hidden) + self.x_to_i_input(x))\n",
        "        input_context = F.tanh(self.hidden_to_context(hidden) + self.x_to_context(x))\n",
        "        context = context + i * input_context\n",
        "        # output_gate\n",
        "        hidden_to_out = self.hidden_to_output(hidden)\n",
        "        x_to_out = self.x_to_output(x)\n",
        "        output = F.sigmoid(hidden_to_out + x_to_out)\n",
        "        context_to_out = F.tanh(context)\n",
        "        hidden = context_to_out * output\n",
        "        #\n",
        "        y = self.hidden_to_y(hidden)\n",
        "        return y, hidden, context\n",
        "\n",
        "\n",
        "    def init_zero_hidden(self, batch_size=1):\n",
        "        return torch.zeros(batch_size, self.hidden_size, requires_grad=False)\n"
      ],
      "metadata": {
        "id": "LioWg9AbVC3A"
      },
      "execution_count": 54,
      "outputs": []
    },
    {
      "cell_type": "code",
      "source": [
        "text_dataset = TextDataset(data, seq_length=seq_length)\n",
        "text_dataloader = DataLoader(text_dataset, batch_size, shuffle=True, drop_last=True)\n",
        "\n",
        "# Model\n",
        "model = LSTM(1, hidden_size, len(text_dataset.chars)) # 1 because we enter a single number/letter per step.\n",
        "\n",
        "# Train variables\n",
        "epochs = 1000\n",
        "loss_fn = nn.CrossEntropyLoss()\n",
        "optimizer = optim.Adam(model.parameters(), lr=0.001)"
      ],
      "metadata": {
        "id": "4dptS-3L7EOJ"
      },
      "execution_count": 55,
      "outputs": []
    },
    {
      "cell_type": "code",
      "source": [
        "train_losses = {}\n",
        "model.to(device)\n",
        "model.train()\n",
        "\n",
        "pbar = tqdm(range(epochs))\n",
        "for epoch in pbar:\n",
        "    epoch_losses = list()\n",
        "    for X, Y in text_dataloader:\n",
        "        hidden = model.init_zero_hidden(batch_size=model.batch_size)\n",
        "        context = model.init_zero_hidden(batch_size=model.batch_size)\n",
        "        X, Y, hidden, context = X.to(device), Y.to(device), hidden.to(device), context.to(device)\n",
        "        model.zero_grad()\n",
        "\n",
        "        loss_value = 0\n",
        "        for c in range(X.shape[1]):\n",
        "            out, hidden, context = model(X[:, c].reshape(X.shape[0], 1), hidden, context)\n",
        "            loss_value = loss_fn(out, Y[:, c].long())\n",
        "            loss_value += loss_value\n",
        "\n",
        "        loss_value.backward()\n",
        "        nn.utils.clip_grad_norm_(model.parameters(), 2)\n",
        "        optimizer.step()\n",
        "\n",
        "        epoch_losses.append(loss_value.detach().item() / X.shape[1])\n",
        "\n",
        "    train_losses[epoch] = torch.tensor(epoch_losses).mean()\n",
        "    pbar.set_postfix({'epoch': f'{epoch + 1}', 'loss': f'{train_losses[epoch]:.4f}'})"
      ],
      "metadata": {
        "colab": {
          "base_uri": "https://localhost:8080/"
        },
        "id": "Ds7rLYNd7O-k",
        "outputId": "34a39119-66b6-4ba4-ce49-bf94990ea8f1"
      },
      "execution_count": 56,
      "outputs": [
        {
          "output_type": "stream",
          "name": "stderr",
          "text": [
            "100%|██████████| 1000/1000 [11:43<00:00,  1.42it/s, epoch=1000, loss=0.0000]\n"
          ]
        }
      ]
    },
    {
      "cell_type": "code",
      "source": [],
      "metadata": {
        "id": "AjUIGbAd7vfF"
      },
      "execution_count": null,
      "outputs": []
    }
  ]
}