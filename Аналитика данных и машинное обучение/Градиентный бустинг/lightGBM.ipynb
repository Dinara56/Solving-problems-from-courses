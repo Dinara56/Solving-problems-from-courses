{
  "nbformat": 4,
  "nbformat_minor": 0,
  "metadata": {
    "colab": {
      "provenance": [],
      "collapsed_sections": [
        "5YCKwt0cHTQd"
      ]
    },
    "kernelspec": {
      "name": "python3",
      "display_name": "Python 3"
    },
    "language_info": {
      "name": "python"
    }
  },
  "cells": [
    {
      "cell_type": "markdown",
      "source": [
        "<font color='green' size=6>**LightGBM**"
      ],
      "metadata": {
        "id": "zL70MpBf6sdT"
      }
    },
    {
      "cell_type": "markdown",
      "source": [
        "LightGBM был разработан инженерами машинного обучения компании Microsoft. Первая версия вышла в апреле 2017.\n",
        "\n",
        "Особенности LightGBM:\n",
        "- повершинный способ построения деревьев\n",
        "- односторонний отбор на основе градиентов (GOSS – Gradient-based One-Side Sampling)\n",
        "- поиск точек расщепления на основе гистограмм\n",
        "- связывание взаимоисключающих признаков (EFB – Exclusive Feature Bundling)\n",
        "\n"
      ],
      "metadata": {
        "id": "RkscgEjYHh-P"
      }
    },
    {
      "cell_type": "markdown",
      "source": [
        "## <font color='green' size=5>Повершинный способ построения деревьев"
      ],
      "metadata": {
        "id": "5YCKwt0cHTQd"
      }
    },
    {
      "cell_type": "markdown",
      "source": [
        "<img src=\"https://drive.google.com/uc?export=view&id=1zpRWZaWs9YfyGaI1Lm-1Qq8IpNXwa6m2\" width=\"600\"/>\n",
        "\n",
        "С точки зрения построения деревьев LightGBM отличается от XGBoost и CatBoost. Если XGBoost и CatBoost строят деревья слой за слоем, то LightGBM строит деревья лист за листом.\n",
        "\n",
        "**Уровневый подход (level-wise):** Алгоритм разветвляет все узлы на уровне 1, затем все узлы на уровне 2 и так далее.\n",
        "\n",
        "- Недостатки:\n",
        "\n",
        "Менее целенаправленное улучшение: Уровневый подход может разветвлять узлы, которые не вносят значительного вклада в уменьшение функции потерь, что может снижать эффективность.\n",
        "\n",
        "- Преимущества:\n",
        "\n",
        "Сбалансированность дерева: Все узлы на одном уровне разветвляются одновременно, что приводит к созданию сбалансированных деревьев.\n",
        "Простота параллелизации: Так как все узлы на одном уровне разветвляются одновременно, процесс можно легче распараллелить.\n",
        "\n",
        "\n",
        "\n",
        "**Повершинный подход (leaf-wise):** Алгоритм сначала разветвляет корневой узел, затем выбирает тот узел, который при разветвлении даст наибольшее уменьшение функции потерь, и разветвляет его, независимо от того, на каком он уровне. Это может привести к тому, что одна ветвь дерева будет глубже, чем другие, так как она будет чаще разветвляться.\n",
        "\n",
        "- Недостатки:\n",
        "\n",
        "Несбалансированность дерева: Деревья могут быть несбалансированными, с разной глубиной узлов, что может усложнять их интерпретацию.\n",
        "Сложность параллелизации: Поскольку разветвление происходит выборочно, параллелизация процесса может быть сложнее.\n",
        "\n",
        "- Преимущества:\n",
        "\n",
        "Целенаправленное улучшение: Повершинный метод фокусируется на узлах, которые обеспечивают наибольшее уменьшение функции потерь, что делает модель более точной.\n",
        "Улучшение производительности: Этот подход часто быстрее достигает оптимальных разветвлений, особенно на сложных данных.\n",
        "\n",
        "В итоге, основное различие между этими подходами заключается в стратегии выбора узлов для разветвления: уровневый метод работает последовательно по уровням, а повершинный метод — по узлам, которые на данный момент дают наибольшее уменьшение функции потерь.\n"
      ],
      "metadata": {
        "id": "rO-2pkeAAs3y"
      }
    },
    {
      "cell_type": "markdown",
      "source": [
        "## <font color='green' size=5>Односторонний отбор на основе градиентов (GOSS – Gradient-based One-Side Sampling)"
      ],
      "metadata": {
        "id": "5oEXE4hqH8Ca"
      }
    },
    {
      "cell_type": "markdown",
      "source": [
        "В процессе обучения модели градиенты используются для обновления весов, чтобы минимизировать функцию потерь. Градиенты, по сути, показывают, насколько каждое наблюдение в выборке влияет на функцию потерь.\n",
        "Большие градиенты (по модулю) указывают на те наблюдения, которые модель пока плохо предсказывает.\n",
        "\n",
        "**Основные этапы GOSS:**\n",
        "\n",
        "- GOSS делит все данные на две группы: выборки с большими градиентами и выборки с малыми градиентами.\n",
        "\n",
        "Из выборок с большими градиентами (например, топ 20% данных) GOSS оставляет все данные, а из выборок с малыми градиентами (оставшиеся 80%) случайным образом отбирается небольшая часть данных (например, 20%).\n",
        "- Ребалансировка выборки:\n",
        "\n",
        "Чтобы компенсировать несоразмерность количества данных с малыми градиентами, GOSS увеличивает их веса в обратной пропорции к их количеству. Таким образом, общая информация выборки сохраняется.\n"
      ],
      "metadata": {
        "id": "x31POU-TIDBn"
      }
    },
    {
      "cell_type": "markdown",
      "source": [
        "### Пример с числами"
      ],
      "metadata": {
        "id": "IPMYbfNtcAN3"
      }
    },
    {
      "cell_type": "markdown",
      "source": [
        "\n",
        "Представим, что у нас есть 1000 наблюдений, и мы применяем GOSS следующим образом:\n",
        "\n",
        "- Выбор значимых данных:\n",
        "\n",
        "Из всех наблюдений выбираем верхние 20% данных с самыми высокими градиентами, то есть  20% от 1000 = 200 выборок\n",
        "\n",
        "- Выбор случайных менее значимых данных:\n",
        "\n",
        "Из оставшихся 80% данных  мы случайным образом выбираем 20%, то есть 20% от 800 = 160 наблюдений.\n",
        "- Корректировка веса:\n",
        "\n",
        "Чтобы сохранить общую информацию, вес выбранных 160 менее значимых выборок увеличивается в 5 раз (поскольку 800/160 = 5)\n",
        "- Почему это важно:\n",
        "\n",
        "  1) Сохранение информации:\n",
        "\n",
        "Если бы мы просто отбросили все менее значимые данные, модель могла бы потерять важную информацию о распределении данных. Увеличение веса компенсирует это\n",
        "\n",
        "  2) Балансировка данных:\n",
        "  \n",
        "Увеличение веса позволяет сохранить баланс между значимыми и менее значимыми данными, предотвращая перекос модели\n",
        "\n",
        "3) Улучшение качества модели:\n",
        "\n",
        "Сохранение пропорционального влияния всех данных позволяет модели лучше обобщаться на новых данных и уменьшает риск переобучения\n",
        "\n",
        "<font color='green'> **Итоговый результат**\n",
        "\n",
        "- <font color='green'> Количество выборок:\n",
        "  \n",
        "Вместо обучения на всех 1000 выборках, мы обучаем модель на 360 выборках (200 значимых + 160 менее значимых)\n",
        "\n",
        "- <font color='green'> Корректировка веса:\n",
        "\n",
        "Вес 160 менее значимых выборок увеличен в 5 раз, чтобы компенсировать уменьшение их количества.\n"
      ],
      "metadata": {
        "id": "AJHCcchUb768"
      }
    },
    {
      "cell_type": "markdown",
      "source": [
        "## <font color='green' size=5>Поиск точек расщепления на основе гистограмм"
      ],
      "metadata": {
        "id": "-1Agtw4idV0b"
      }
    },
    {
      "cell_type": "markdown",
      "source": [
        "- Создание гистограмм:\n",
        "\n",
        "  - Для каждого признака (feature) значения разделяются на фиксированное количество бинов (интервалов).\n",
        "  - Для каждого бина подсчитывается количество выборок, попадающих в этот бин, а также сумма их градиентов и гессианов.\n",
        "\n",
        "- Обновление гистограмм:\n",
        "\n",
        "  - Когда происходит разбиение узла, гистограммы для дочерних узлов быстро обновляются, используя данные гистограммы родительского узла. Это значительно уменьшает объем вычислений.\n",
        "- Поиск оптимальной точки расщепления:\n",
        "\n",
        "  - Алгоритм проходит по всем бинам гистограммы каждого признака.\n",
        "  - Для каждого возможного разбиения рассчитывается улучшение (gain) функции потерь.\n",
        "  - Оптимальной считается точка, которая максимизирует уменьшение функции потерь."
      ],
      "metadata": {
        "id": "DY5FrodsdbH1"
      }
    },
    {
      "cell_type": "markdown",
      "source": [
        "Формула для оценки качества разбиения может выглядеть следующим образом:\n",
        "\n",
        "$$\n",
        "\\text{Gain} = \\frac{(G_{\\text{left}})^2}{H_{\\text{left}} + \\lambda} + \\frac{(G_{\\text{right}})^2}{H_{\\text{right}} + \\lambda} - \\frac{(G_{\\text{total}})^2}{H_{\\text{total}} + \\lambda}\n",
        "$$\n",
        "\n",
        "где:\n",
        "\n",
        "- $ G_{\\text{left}}, G_{\\text{right}}, G_{\\text{total}} $ — суммы градиентов.\n",
        "- $ H_{\\text{left}}, H_{\\text{right}}, H_{\\text{total}} $ — суммы гессианов.\n",
        "- $ \\lambda $ — регуляризационный параметр для предотвращения деления на ноль и переобучения.\n",
        "\\end{itemize}\n"
      ],
      "metadata": {
        "id": "FmIvFsHIla8v"
      }
    },
    {
      "cell_type": "markdown",
      "source": [
        "## <font color='green' size=5>Cвязывание взаимоисключающих признаков (EFB – Exclusive Feature Bundling)"
      ],
      "metadata": {
        "id": "dPme9jT8uHYT"
      }
    },
    {
      "cell_type": "markdown",
      "source": [
        "Связывание взаимоисключающих признаков (EFB – Exclusive Feature Bundling) — это техника, используемая в LightGBM для уменьшения размера пространства признаков.\n",
        "\n",
        "- Идентификация взаимоисключающих признаков:\n",
        "\n",
        "Взаимоисключающие признаки — это такие признаки, которые редко принимают ненулевые значения одновременно. Например, в наборе данных могут быть бинарные признаки, где для каждой выборки только один из группы признаков может быть равен 1, а остальные равны 0.\n",
        "\n",
        "- Группировка признаков:\n",
        "Взаимоисключающие признаки группируются вместе. Каждый такой набор признаков кодируется в один комбинированный признак.\n",
        "\n",
        "Пример\n",
        "\n",
        "Предположим, у нас есть следующие три бинарных признака:\n",
        "\n",
        "\\begin{align*}\n",
        "    P_1 &: [0, 1, 0, 0] \\\\\n",
        "    P_2 &: [0, 0, 1, 0] \\\\\n",
        "    P_3 &: [1, 0, 0, 0]\n",
        "\\end{align*}\n",
        "\n",
        "Эти признаки взаимоисключают друг друга, так как для каждой выборки только один из них равен 1. Мы можем закодировать их в один признак \\( P \\) следующим образом:\n",
        "\n",
        "$$\n",
        "P = P_1 + 2 \\times P_2 + 4 \\times P_3\n",
        "$$\n",
        "\n",
        "Результирующий признак \\( P \\) будет выглядеть так:\n",
        "\n",
        "$$\n",
        "P: [4, 1, 2, 0]\n",
        "$$\n",
        "\n",
        "Теперь вместо трех признаков у нас один закодированный признак, что уменьшает размер пространства признаков и ускоряет процесс обучения.\n",
        "\n",
        "\n",
        "Техника EFB (Exclusive Feature Bundling) помогает эффективно уменьшать размер пространства признаков, особенно при работе с разреженными данными, ускоряя процесс обучения и снижая потребление памяти. Это достигается за счет группировки взаимоисключающих признаков и их кодирования в комбинированные признаки.\n"
      ],
      "metadata": {
        "id": "OxU4MH2Xua5n"
      }
    },
    {
      "cell_type": "markdown",
      "source": [
        "## <font color='green' size=5> Гиперпараметры"
      ],
      "metadata": {
        "id": "QZSoGFpL0XiS"
      }
    },
    {
      "cell_type": "markdown",
      "source": [
        "https://lightgbm.readthedocs.io/en/stable/Parameters-Tuning.html"
      ],
      "metadata": {
        "id": "n5kH1OEZ3HJB"
      }
    },
    {
      "cell_type": "markdown",
      "source": [
        "Параметр boosting в LightGBM определяет тип базового алгоритма для бустинга. Он задает, как будут строиться и оптимизироваться модели. В LightGBM доступны несколько типов бустинга:\n",
        "\n",
        "- gbdt (Gradient Boosting Decision Trees):\n",
        "\n",
        "Это стандартный метод градиентного бустинга на решающих деревьях.\n",
        "Алгоритм строит деревья последовательно. Каждое следующее дерево строится на основе градиента функции потерь от предсказаний предыдущего дерева, чтобы минимизировать ошибку.\n",
        "Подходит для большинства задач, обеспечивая высокую точность и эффективность.\n",
        "\n",
        "- rf (Random Forest):\n",
        "\n",
        "Реализует случайный лес, где деревья строятся независимо и параллельно.\n",
        "На каждой итерации используется случайная подвыборка признаков и данных.\n",
        "Обеспечивает более устойчивую модель за счет уменьшения переобучения.\n",
        "Подходит для задач, где требуется высокая устойчивость модели.\n",
        "\n",
        "- goss (Gradient-based One-Side Sampling):\n",
        "\n",
        "Это метод градиентного бустинга с односторонним отбором наблюдений на основе градиентов.\n",
        "Выбираются выборки с самыми высокими градиентами и небольшая часть выборок с малыми градиентами.\n",
        "Ускоряет процесс обучения, сохраняя высокую точность модели.\n",
        "Подходит для больших наборов данных.\n",
        "\n",
        "- dart (Dropouts meet Multiple Additive Regression Trees):\n",
        "\n",
        "Модификация градиентного бустинга, в которой используется идея дропаута из нейронных сетей.\n",
        "На каждой итерации некоторые деревья исключаются (пропускаются) случайным образом или пропорционально их весу.\n",
        "Помогает уменьшить переобучение и сделать модель более устойчивой.\n",
        "Подходит для задач, где важна устойчивость модели и снижение переобучения."
      ],
      "metadata": {
        "id": "Tul-K-2M4Ydd"
      }
    },
    {
      "cell_type": "markdown",
      "source": [
        "По словам разработчиков LightGBM, алгоритм повершинного построения деревьев в отличие от алгоритма послойного построения деревьев сходится быстрее. Однако алгоритм повершинного построения деревьев может привести к переобучению, если не настроить ряд важных гиперпараметров:\n",
        "- $num\\_leaves$ — самый главный гиперпараметр, настраивающий сложность модели. Для контроля переобучения значение $num\\_leaves$ должно быть меньше $2^{\\text{max_depth}}$. Например, если хорошее качество дает глубина 7, то значение $num\\_leaves$ должно быть примерно 70-80, т.е. меньше $2^7 = 128$ или можно напрямую настроить значение $max\\_depth$;\n",
        "- ${max\\_depth} $ позволяет настроить глубину напрямую (для больших наборов данных может потребоваться большая глубина);\n",
        "- ${min\\_data\\_in\\_leaf}$ — очень важный гиперпараметр для предотвращения переобучения. Оптимальное значение зависит от количества обучающих наблюдений и значения $num\\_leaves$. Большие значения для небольших наборов данных могут вызвать недообучение, значения около 100 или 1000 могут быть оптимальными для наборов данных объемом больше 500000 наблюдений.\n",
        "\n"
      ],
      "metadata": {
        "id": "-95LW4sS0bCu"
      }
    },
    {
      "cell_type": "markdown",
      "source": [
        "\n",
        "Для сокращения времени обучения можно:\n",
        "- использовать бэггинг, настраивая значения гиперпараметров ${bagging\\_fraction}$ и ${bagging\\_freq}$;\n",
        "- использовать случайный отбор признаков, настраивая значение гиперпараметра ${feature\\_fraction}$;\n",
        "- использовать небольшое значение гиперпараметра ${max\\_bin}$;\n",
        "- использовать параметр ${save\\_binary}$ для ускорения загрузки данных при последующем обучении;\n",
        "- использовать параллельное обучение (например, ${Dask-LightGBM}$).\n"
      ],
      "metadata": {
        "id": "PUAEoIui1zDo"
      }
    },
    {
      "cell_type": "markdown",
      "source": [
        "Для получения лучшего качества модели можно:\n",
        "- использовать маленькое значение гиперпараметра ${learning\\_rate}$ при большом значении гиперпараметра ${num\\_iterations}$;\n",
        "- использовать большое значение гиперпараметра ${max\\_bin}$ (может увеличить время обучения);\n",
        "- регулировать значение гиперпараметра ${num\\_leaves}$;\n",
        "- использовать больше данных для обучения;\n",
        "- попробовать ${dart}$.\n"
      ],
      "metadata": {
        "id": "DDXURK8N2LV5"
      }
    },
    {
      "cell_type": "markdown",
      "source": [
        "\n",
        "Для борьбы с переобучением модели можно:\n",
        "- использовать маленькое значение гиперпараметра ${max\\_bin}$;\n",
        "- использовать маленькое значение гиперпараметра ${num\\_leaves}$;\n",
        "- использовать гиперпараметры ${min\\_data\\_in\\_leaf}$ и ${min\\_sum\\_hessian\\_in\\_leaf}$;\n",
        "- использовать бэггинг, настраивая значения гиперпараметров ${bagging\\_fraction}$ и ${bagging\\_freq}$;\n",
        "- использовать случайный отбор признаков, настраивая значение гиперпараметра ${feature\\_fraction}$;\n",
        "- использовать больше данных для обучения;\n",
        "- попробовать гиперпараметры ${lambda\\_l1}$, ${lambda\\_l2}$ и ${min\\_gain\\_to\\_split}$ для регуляризации;\n",
        "- регулировать значение гиперпараметра ${max\\_depth}$;\n",
        "- попробовать гиперпараметр ${extra\\_trees}$;\n",
        "- попробовать увеличить значение гиперпараметра ${path\\_smooth}$.\n",
        "\n"
      ],
      "metadata": {
        "id": "tnVrjuxI3vKD"
      }
    },
    {
      "cell_type": "markdown",
      "source": [
        "## <font color='green'> Пример"
      ],
      "metadata": {
        "id": "hjxw2LhlxuQ9"
      }
    },
    {
      "cell_type": "code",
      "source": [
        "import lightgbm as lgb\n",
        "import numpy as np\n",
        "import pandas as pd\n",
        "from sklearn.datasets import fetch_california_housing\n",
        "from sklearn.model_selection import train_test_split\n",
        "from sklearn.metrics import mean_squared_error"
      ],
      "metadata": {
        "id": "MaK0SuFeyBpB",
        "colab": {
          "base_uri": "https://localhost:8080/"
        },
        "outputId": "e876152f-bcb4-4da3-9087-daa97ac00609"
      },
      "execution_count": null,
      "outputs": [
        {
          "output_type": "stream",
          "name": "stderr",
          "text": [
            "/usr/local/lib/python3.10/dist-packages/dask/dataframe/__init__.py:42: FutureWarning: \n",
            "Dask dataframe query planning is disabled because dask-expr is not installed.\n",
            "\n",
            "You can install it with `pip install dask[dataframe]` or `conda install dask`.\n",
            "This will raise in a future version.\n",
            "\n",
            "  warnings.warn(msg, FutureWarning)\n"
          ]
        }
      ]
    },
    {
      "cell_type": "code",
      "source": [
        "# Загрузка данных\n",
        "data = fetch_california_housing()\n",
        "X = pd.DataFrame(data.data, columns=data.feature_names)\n",
        "y = pd.Series(data.target)\n",
        "columns = ['HouseAge', 'AveRooms', 'AveBedrms', 'Population', 'AveOccup']"
      ],
      "metadata": {
        "id": "IJeKsvxgyHQk"
      },
      "execution_count": null,
      "outputs": []
    },
    {
      "cell_type": "code",
      "source": [
        "!gdown 1cvCNt9EL-NurjFEJU-iRPG56ae535O3h\n",
        "data = pd.read_csv('/content/Bank_Customer_Churn_Prediction.csv', index_col='customer_id')"
      ],
      "metadata": {
        "colab": {
          "base_uri": "https://localhost:8080/"
        },
        "id": "O37Q0nAkqaHK",
        "outputId": "c63d4848-1496-4db8-b685-75de73c512e4"
      },
      "execution_count": null,
      "outputs": [
        {
          "output_type": "stream",
          "name": "stdout",
          "text": [
            "Downloading...\n",
            "From: https://drive.google.com/uc?id=1cvCNt9EL-NurjFEJU-iRPG56ae535O3h\n",
            "To: /content/Bank_Customer_Churn_Prediction.csv\n",
            "\r  0% 0.00/562k [00:00<?, ?B/s]\r100% 562k/562k [00:00<00:00, 102MB/s]\n"
          ]
        }
      ]
    },
    {
      "cell_type": "code",
      "source": [
        "y = data.pop('churn')\n",
        "X = data.copy()"
      ],
      "metadata": {
        "id": "Q4XNEUZWqc3H"
      },
      "execution_count": null,
      "outputs": []
    },
    {
      "cell_type": "code",
      "source": [
        "data.head()"
      ],
      "metadata": {
        "colab": {
          "base_uri": "https://localhost:8080/",
          "height": 258
        },
        "id": "PJwsrAynBQnQ",
        "outputId": "0a0cdc62-1045-48f2-f8ef-0ba244494a61"
      },
      "execution_count": null,
      "outputs": [
        {
          "output_type": "execute_result",
          "data": {
            "text/plain": [
              "             credit_score country  gender  age  tenure    balance  \\\n",
              "customer_id                                                         \n",
              "15634602              619  France  Female   42       2       0.00   \n",
              "15647311              608   Spain  Female   41       1   83807.86   \n",
              "15619304              502  France  Female   42       8  159660.80   \n",
              "15701354              699  France  Female   39       1       0.00   \n",
              "15737888              850   Spain  Female   43       2  125510.82   \n",
              "\n",
              "             products_number  credit_card  active_member  estimated_salary  \n",
              "customer_id                                                                 \n",
              "15634602                   1            1              1         101348.88  \n",
              "15647311                   1            0              1         112542.58  \n",
              "15619304                   3            1              0         113931.57  \n",
              "15701354                   2            0              0          93826.63  \n",
              "15737888                   1            1              1          79084.10  "
            ],
            "text/html": [
              "\n",
              "  <div id=\"df-92f75349-29f3-4ef2-85df-11c665d293d4\" class=\"colab-df-container\">\n",
              "    <div>\n",
              "<style scoped>\n",
              "    .dataframe tbody tr th:only-of-type {\n",
              "        vertical-align: middle;\n",
              "    }\n",
              "\n",
              "    .dataframe tbody tr th {\n",
              "        vertical-align: top;\n",
              "    }\n",
              "\n",
              "    .dataframe thead th {\n",
              "        text-align: right;\n",
              "    }\n",
              "</style>\n",
              "<table border=\"1\" class=\"dataframe\">\n",
              "  <thead>\n",
              "    <tr style=\"text-align: right;\">\n",
              "      <th></th>\n",
              "      <th>credit_score</th>\n",
              "      <th>country</th>\n",
              "      <th>gender</th>\n",
              "      <th>age</th>\n",
              "      <th>tenure</th>\n",
              "      <th>balance</th>\n",
              "      <th>products_number</th>\n",
              "      <th>credit_card</th>\n",
              "      <th>active_member</th>\n",
              "      <th>estimated_salary</th>\n",
              "    </tr>\n",
              "    <tr>\n",
              "      <th>customer_id</th>\n",
              "      <th></th>\n",
              "      <th></th>\n",
              "      <th></th>\n",
              "      <th></th>\n",
              "      <th></th>\n",
              "      <th></th>\n",
              "      <th></th>\n",
              "      <th></th>\n",
              "      <th></th>\n",
              "      <th></th>\n",
              "    </tr>\n",
              "  </thead>\n",
              "  <tbody>\n",
              "    <tr>\n",
              "      <th>15634602</th>\n",
              "      <td>619</td>\n",
              "      <td>France</td>\n",
              "      <td>Female</td>\n",
              "      <td>42</td>\n",
              "      <td>2</td>\n",
              "      <td>0.00</td>\n",
              "      <td>1</td>\n",
              "      <td>1</td>\n",
              "      <td>1</td>\n",
              "      <td>101348.88</td>\n",
              "    </tr>\n",
              "    <tr>\n",
              "      <th>15647311</th>\n",
              "      <td>608</td>\n",
              "      <td>Spain</td>\n",
              "      <td>Female</td>\n",
              "      <td>41</td>\n",
              "      <td>1</td>\n",
              "      <td>83807.86</td>\n",
              "      <td>1</td>\n",
              "      <td>0</td>\n",
              "      <td>1</td>\n",
              "      <td>112542.58</td>\n",
              "    </tr>\n",
              "    <tr>\n",
              "      <th>15619304</th>\n",
              "      <td>502</td>\n",
              "      <td>France</td>\n",
              "      <td>Female</td>\n",
              "      <td>42</td>\n",
              "      <td>8</td>\n",
              "      <td>159660.80</td>\n",
              "      <td>3</td>\n",
              "      <td>1</td>\n",
              "      <td>0</td>\n",
              "      <td>113931.57</td>\n",
              "    </tr>\n",
              "    <tr>\n",
              "      <th>15701354</th>\n",
              "      <td>699</td>\n",
              "      <td>France</td>\n",
              "      <td>Female</td>\n",
              "      <td>39</td>\n",
              "      <td>1</td>\n",
              "      <td>0.00</td>\n",
              "      <td>2</td>\n",
              "      <td>0</td>\n",
              "      <td>0</td>\n",
              "      <td>93826.63</td>\n",
              "    </tr>\n",
              "    <tr>\n",
              "      <th>15737888</th>\n",
              "      <td>850</td>\n",
              "      <td>Spain</td>\n",
              "      <td>Female</td>\n",
              "      <td>43</td>\n",
              "      <td>2</td>\n",
              "      <td>125510.82</td>\n",
              "      <td>1</td>\n",
              "      <td>1</td>\n",
              "      <td>1</td>\n",
              "      <td>79084.10</td>\n",
              "    </tr>\n",
              "  </tbody>\n",
              "</table>\n",
              "</div>\n",
              "    <div class=\"colab-df-buttons\">\n",
              "\n",
              "  <div class=\"colab-df-container\">\n",
              "    <button class=\"colab-df-convert\" onclick=\"convertToInteractive('df-92f75349-29f3-4ef2-85df-11c665d293d4')\"\n",
              "            title=\"Convert this dataframe to an interactive table.\"\n",
              "            style=\"display:none;\">\n",
              "\n",
              "  <svg xmlns=\"http://www.w3.org/2000/svg\" height=\"24px\" viewBox=\"0 -960 960 960\">\n",
              "    <path d=\"M120-120v-720h720v720H120Zm60-500h600v-160H180v160Zm220 220h160v-160H400v160Zm0 220h160v-160H400v160ZM180-400h160v-160H180v160Zm440 0h160v-160H620v160ZM180-180h160v-160H180v160Zm440 0h160v-160H620v160Z\"/>\n",
              "  </svg>\n",
              "    </button>\n",
              "\n",
              "  <style>\n",
              "    .colab-df-container {\n",
              "      display:flex;\n",
              "      gap: 12px;\n",
              "    }\n",
              "\n",
              "    .colab-df-convert {\n",
              "      background-color: #E8F0FE;\n",
              "      border: none;\n",
              "      border-radius: 50%;\n",
              "      cursor: pointer;\n",
              "      display: none;\n",
              "      fill: #1967D2;\n",
              "      height: 32px;\n",
              "      padding: 0 0 0 0;\n",
              "      width: 32px;\n",
              "    }\n",
              "\n",
              "    .colab-df-convert:hover {\n",
              "      background-color: #E2EBFA;\n",
              "      box-shadow: 0px 1px 2px rgba(60, 64, 67, 0.3), 0px 1px 3px 1px rgba(60, 64, 67, 0.15);\n",
              "      fill: #174EA6;\n",
              "    }\n",
              "\n",
              "    .colab-df-buttons div {\n",
              "      margin-bottom: 4px;\n",
              "    }\n",
              "\n",
              "    [theme=dark] .colab-df-convert {\n",
              "      background-color: #3B4455;\n",
              "      fill: #D2E3FC;\n",
              "    }\n",
              "\n",
              "    [theme=dark] .colab-df-convert:hover {\n",
              "      background-color: #434B5C;\n",
              "      box-shadow: 0px 1px 3px 1px rgba(0, 0, 0, 0.15);\n",
              "      filter: drop-shadow(0px 1px 2px rgba(0, 0, 0, 0.3));\n",
              "      fill: #FFFFFF;\n",
              "    }\n",
              "  </style>\n",
              "\n",
              "    <script>\n",
              "      const buttonEl =\n",
              "        document.querySelector('#df-92f75349-29f3-4ef2-85df-11c665d293d4 button.colab-df-convert');\n",
              "      buttonEl.style.display =\n",
              "        google.colab.kernel.accessAllowed ? 'block' : 'none';\n",
              "\n",
              "      async function convertToInteractive(key) {\n",
              "        const element = document.querySelector('#df-92f75349-29f3-4ef2-85df-11c665d293d4');\n",
              "        const dataTable =\n",
              "          await google.colab.kernel.invokeFunction('convertToInteractive',\n",
              "                                                    [key], {});\n",
              "        if (!dataTable) return;\n",
              "\n",
              "        const docLinkHtml = 'Like what you see? Visit the ' +\n",
              "          '<a target=\"_blank\" href=https://colab.research.google.com/notebooks/data_table.ipynb>data table notebook</a>'\n",
              "          + ' to learn more about interactive tables.';\n",
              "        element.innerHTML = '';\n",
              "        dataTable['output_type'] = 'display_data';\n",
              "        await google.colab.output.renderOutput(dataTable, element);\n",
              "        const docLink = document.createElement('div');\n",
              "        docLink.innerHTML = docLinkHtml;\n",
              "        element.appendChild(docLink);\n",
              "      }\n",
              "    </script>\n",
              "  </div>\n",
              "\n",
              "\n",
              "<div id=\"df-85ace117-cc5d-427e-8ba1-65c73015afd9\">\n",
              "  <button class=\"colab-df-quickchart\" onclick=\"quickchart('df-85ace117-cc5d-427e-8ba1-65c73015afd9')\"\n",
              "            title=\"Suggest charts\"\n",
              "            style=\"display:none;\">\n",
              "\n",
              "<svg xmlns=\"http://www.w3.org/2000/svg\" height=\"24px\"viewBox=\"0 0 24 24\"\n",
              "     width=\"24px\">\n",
              "    <g>\n",
              "        <path d=\"M19 3H5c-1.1 0-2 .9-2 2v14c0 1.1.9 2 2 2h14c1.1 0 2-.9 2-2V5c0-1.1-.9-2-2-2zM9 17H7v-7h2v7zm4 0h-2V7h2v10zm4 0h-2v-4h2v4z\"/>\n",
              "    </g>\n",
              "</svg>\n",
              "  </button>\n",
              "\n",
              "<style>\n",
              "  .colab-df-quickchart {\n",
              "      --bg-color: #E8F0FE;\n",
              "      --fill-color: #1967D2;\n",
              "      --hover-bg-color: #E2EBFA;\n",
              "      --hover-fill-color: #174EA6;\n",
              "      --disabled-fill-color: #AAA;\n",
              "      --disabled-bg-color: #DDD;\n",
              "  }\n",
              "\n",
              "  [theme=dark] .colab-df-quickchart {\n",
              "      --bg-color: #3B4455;\n",
              "      --fill-color: #D2E3FC;\n",
              "      --hover-bg-color: #434B5C;\n",
              "      --hover-fill-color: #FFFFFF;\n",
              "      --disabled-bg-color: #3B4455;\n",
              "      --disabled-fill-color: #666;\n",
              "  }\n",
              "\n",
              "  .colab-df-quickchart {\n",
              "    background-color: var(--bg-color);\n",
              "    border: none;\n",
              "    border-radius: 50%;\n",
              "    cursor: pointer;\n",
              "    display: none;\n",
              "    fill: var(--fill-color);\n",
              "    height: 32px;\n",
              "    padding: 0;\n",
              "    width: 32px;\n",
              "  }\n",
              "\n",
              "  .colab-df-quickchart:hover {\n",
              "    background-color: var(--hover-bg-color);\n",
              "    box-shadow: 0 1px 2px rgba(60, 64, 67, 0.3), 0 1px 3px 1px rgba(60, 64, 67, 0.15);\n",
              "    fill: var(--button-hover-fill-color);\n",
              "  }\n",
              "\n",
              "  .colab-df-quickchart-complete:disabled,\n",
              "  .colab-df-quickchart-complete:disabled:hover {\n",
              "    background-color: var(--disabled-bg-color);\n",
              "    fill: var(--disabled-fill-color);\n",
              "    box-shadow: none;\n",
              "  }\n",
              "\n",
              "  .colab-df-spinner {\n",
              "    border: 2px solid var(--fill-color);\n",
              "    border-color: transparent;\n",
              "    border-bottom-color: var(--fill-color);\n",
              "    animation:\n",
              "      spin 1s steps(1) infinite;\n",
              "  }\n",
              "\n",
              "  @keyframes spin {\n",
              "    0% {\n",
              "      border-color: transparent;\n",
              "      border-bottom-color: var(--fill-color);\n",
              "      border-left-color: var(--fill-color);\n",
              "    }\n",
              "    20% {\n",
              "      border-color: transparent;\n",
              "      border-left-color: var(--fill-color);\n",
              "      border-top-color: var(--fill-color);\n",
              "    }\n",
              "    30% {\n",
              "      border-color: transparent;\n",
              "      border-left-color: var(--fill-color);\n",
              "      border-top-color: var(--fill-color);\n",
              "      border-right-color: var(--fill-color);\n",
              "    }\n",
              "    40% {\n",
              "      border-color: transparent;\n",
              "      border-right-color: var(--fill-color);\n",
              "      border-top-color: var(--fill-color);\n",
              "    }\n",
              "    60% {\n",
              "      border-color: transparent;\n",
              "      border-right-color: var(--fill-color);\n",
              "    }\n",
              "    80% {\n",
              "      border-color: transparent;\n",
              "      border-right-color: var(--fill-color);\n",
              "      border-bottom-color: var(--fill-color);\n",
              "    }\n",
              "    90% {\n",
              "      border-color: transparent;\n",
              "      border-bottom-color: var(--fill-color);\n",
              "    }\n",
              "  }\n",
              "</style>\n",
              "\n",
              "  <script>\n",
              "    async function quickchart(key) {\n",
              "      const quickchartButtonEl =\n",
              "        document.querySelector('#' + key + ' button');\n",
              "      quickchartButtonEl.disabled = true;  // To prevent multiple clicks.\n",
              "      quickchartButtonEl.classList.add('colab-df-spinner');\n",
              "      try {\n",
              "        const charts = await google.colab.kernel.invokeFunction(\n",
              "            'suggestCharts', [key], {});\n",
              "      } catch (error) {\n",
              "        console.error('Error during call to suggestCharts:', error);\n",
              "      }\n",
              "      quickchartButtonEl.classList.remove('colab-df-spinner');\n",
              "      quickchartButtonEl.classList.add('colab-df-quickchart-complete');\n",
              "    }\n",
              "    (() => {\n",
              "      let quickchartButtonEl =\n",
              "        document.querySelector('#df-85ace117-cc5d-427e-8ba1-65c73015afd9 button');\n",
              "      quickchartButtonEl.style.display =\n",
              "        google.colab.kernel.accessAllowed ? 'block' : 'none';\n",
              "    })();\n",
              "  </script>\n",
              "</div>\n",
              "    </div>\n",
              "  </div>\n"
            ],
            "application/vnd.google.colaboratory.intrinsic+json": {
              "type": "dataframe",
              "variable_name": "data",
              "summary": "{\n  \"name\": \"data\",\n  \"rows\": 10000,\n  \"fields\": [\n    {\n      \"column\": \"customer_id\",\n      \"properties\": {\n        \"dtype\": \"number\",\n        \"std\": 71936,\n        \"min\": 15565701,\n        \"max\": 15815690,\n        \"num_unique_values\": 10000,\n        \"samples\": [\n          15687492,\n          15736963,\n          15721730\n        ],\n        \"semantic_type\": \"\",\n        \"description\": \"\"\n      }\n    },\n    {\n      \"column\": \"credit_score\",\n      \"properties\": {\n        \"dtype\": \"number\",\n        \"std\": 96,\n        \"min\": 350,\n        \"max\": 850,\n        \"num_unique_values\": 460,\n        \"samples\": [\n          754,\n          533,\n          744\n        ],\n        \"semantic_type\": \"\",\n        \"description\": \"\"\n      }\n    },\n    {\n      \"column\": \"country\",\n      \"properties\": {\n        \"dtype\": \"category\",\n        \"num_unique_values\": 3,\n        \"samples\": [\n          \"France\",\n          \"Spain\",\n          \"Germany\"\n        ],\n        \"semantic_type\": \"\",\n        \"description\": \"\"\n      }\n    },\n    {\n      \"column\": \"gender\",\n      \"properties\": {\n        \"dtype\": \"category\",\n        \"num_unique_values\": 2,\n        \"samples\": [\n          \"Male\",\n          \"Female\"\n        ],\n        \"semantic_type\": \"\",\n        \"description\": \"\"\n      }\n    },\n    {\n      \"column\": \"age\",\n      \"properties\": {\n        \"dtype\": \"number\",\n        \"std\": 10,\n        \"min\": 18,\n        \"max\": 92,\n        \"num_unique_values\": 70,\n        \"samples\": [\n          61,\n          42\n        ],\n        \"semantic_type\": \"\",\n        \"description\": \"\"\n      }\n    },\n    {\n      \"column\": \"tenure\",\n      \"properties\": {\n        \"dtype\": \"number\",\n        \"std\": 2,\n        \"min\": 0,\n        \"max\": 10,\n        \"num_unique_values\": 11,\n        \"samples\": [\n          6,\n          2\n        ],\n        \"semantic_type\": \"\",\n        \"description\": \"\"\n      }\n    },\n    {\n      \"column\": \"balance\",\n      \"properties\": {\n        \"dtype\": \"number\",\n        \"std\": 62397.405202385955,\n        \"min\": 0.0,\n        \"max\": 250898.09,\n        \"num_unique_values\": 6382,\n        \"samples\": [\n          117707.18,\n          133050.97\n        ],\n        \"semantic_type\": \"\",\n        \"description\": \"\"\n      }\n    },\n    {\n      \"column\": \"products_number\",\n      \"properties\": {\n        \"dtype\": \"number\",\n        \"std\": 0,\n        \"min\": 1,\n        \"max\": 4,\n        \"num_unique_values\": 4,\n        \"samples\": [\n          3,\n          4\n        ],\n        \"semantic_type\": \"\",\n        \"description\": \"\"\n      }\n    },\n    {\n      \"column\": \"credit_card\",\n      \"properties\": {\n        \"dtype\": \"number\",\n        \"std\": 0,\n        \"min\": 0,\n        \"max\": 1,\n        \"num_unique_values\": 2,\n        \"samples\": [\n          0,\n          1\n        ],\n        \"semantic_type\": \"\",\n        \"description\": \"\"\n      }\n    },\n    {\n      \"column\": \"active_member\",\n      \"properties\": {\n        \"dtype\": \"number\",\n        \"std\": 0,\n        \"min\": 0,\n        \"max\": 1,\n        \"num_unique_values\": 2,\n        \"samples\": [\n          0,\n          1\n        ],\n        \"semantic_type\": \"\",\n        \"description\": \"\"\n      }\n    },\n    {\n      \"column\": \"estimated_salary\",\n      \"properties\": {\n        \"dtype\": \"number\",\n        \"std\": 57510.49281769816,\n        \"min\": 11.58,\n        \"max\": 199992.48,\n        \"num_unique_values\": 9999,\n        \"samples\": [\n          100809.99,\n          95273.73\n        ],\n        \"semantic_type\": \"\",\n        \"description\": \"\"\n      }\n    }\n  ]\n}"
            }
          },
          "metadata": {},
          "execution_count": 127
        }
      ]
    },
    {
      "cell_type": "code",
      "source": [
        "data.info()"
      ],
      "metadata": {
        "colab": {
          "base_uri": "https://localhost:8080/"
        },
        "id": "M_f6nsLCBmNa",
        "outputId": "cdf0cb02-7256-4efe-d203-4e51d670a8b0"
      },
      "execution_count": null,
      "outputs": [
        {
          "output_type": "stream",
          "name": "stdout",
          "text": [
            "<class 'pandas.core.frame.DataFrame'>\n",
            "Index: 10000 entries, 15634602 to 15628319\n",
            "Data columns (total 10 columns):\n",
            " #   Column            Non-Null Count  Dtype  \n",
            "---  ------            --------------  -----  \n",
            " 0   credit_score      10000 non-null  int64  \n",
            " 1   country           10000 non-null  object \n",
            " 2   gender            10000 non-null  object \n",
            " 3   age               10000 non-null  int64  \n",
            " 4   tenure            10000 non-null  int64  \n",
            " 5   balance           10000 non-null  float64\n",
            " 6   products_number   10000 non-null  int64  \n",
            " 7   credit_card       10000 non-null  int64  \n",
            " 8   active_member     10000 non-null  int64  \n",
            " 9   estimated_salary  10000 non-null  float64\n",
            "dtypes: float64(2), int64(6), object(2)\n",
            "memory usage: 859.4+ KB\n"
          ]
        }
      ]
    },
    {
      "cell_type": "code",
      "source": [
        "cat_features = ['country', 'gender']"
      ],
      "metadata": {
        "id": "-MBkTot2LiV8"
      },
      "execution_count": null,
      "outputs": []
    },
    {
      "cell_type": "code",
      "source": [
        "for col in ['country', 'gender']:\n",
        "    X[col] = X[col].astype('category')\n",
        "    # .cat.codes"
      ],
      "metadata": {
        "id": "VhriHHkMrUwC"
      },
      "execution_count": null,
      "outputs": []
    },
    {
      "cell_type": "code",
      "source": [
        "X.info()"
      ],
      "metadata": {
        "colab": {
          "base_uri": "https://localhost:8080/"
        },
        "id": "XFLSTmfHBveQ",
        "outputId": "a1c35135-e6c0-48e4-f60b-afbfb98150b3"
      },
      "execution_count": null,
      "outputs": [
        {
          "output_type": "stream",
          "name": "stdout",
          "text": [
            "<class 'pandas.core.frame.DataFrame'>\n",
            "Index: 10000 entries, 15634602 to 15628319\n",
            "Data columns (total 10 columns):\n",
            " #   Column            Non-Null Count  Dtype   \n",
            "---  ------            --------------  -----   \n",
            " 0   credit_score      10000 non-null  int64   \n",
            " 1   country           10000 non-null  category\n",
            " 2   gender            10000 non-null  category\n",
            " 3   age               10000 non-null  int64   \n",
            " 4   tenure            10000 non-null  int64   \n",
            " 5   balance           10000 non-null  float64 \n",
            " 6   products_number   10000 non-null  int64   \n",
            " 7   credit_card       10000 non-null  int64   \n",
            " 8   active_member     10000 non-null  int64   \n",
            " 9   estimated_salary  10000 non-null  float64 \n",
            "dtypes: category(2), float64(2), int64(6)\n",
            "memory usage: 722.9 KB\n"
          ]
        }
      ]
    },
    {
      "cell_type": "code",
      "source": [
        "# Разделение данных на обучающий и тестовый наборы\n",
        "X_train, X_test, y_train, y_test = train_test_split(X, y, test_size=0.2, random_state=42)"
      ],
      "metadata": {
        "id": "tGuirYCEyJh_"
      },
      "execution_count": null,
      "outputs": []
    },
    {
      "cell_type": "markdown",
      "source": [
        "\n",
        "<img src=\"https://drive.google.com/uc?export=view&id=14C_XKhQMwydWJiIeDdzClDYzWFmk4g-o\" width=\"600\"/>\n",
        "\n",
        "Параметр free_raw_data позволяет освободить память, занимаемую исходными данными после того, как они были использованы для построения модели. Это может улучшить производительность системы и предотвратить нехватку памяти."
      ],
      "metadata": {
        "id": "b23d2Rys96P0"
      }
    },
    {
      "cell_type": "code",
      "source": [
        "# Создание и обучение модели LightGBM\n",
        "lgb_train = lgb.Dataset(X_train, y_train, free_raw_data=False, categorical_feature=cat_features)\n",
        "lgb_eval = lgb.Dataset(X_test, y_test, reference=lgb_train, free_raw_data=False)"
      ],
      "metadata": {
        "id": "lmOAUqfndRFM"
      },
      "execution_count": null,
      "outputs": []
    },
    {
      "cell_type": "code",
      "source": [
        "# # Параметры настройки модели LightGBM для задачи регрессии\n",
        "# params = {\n",
        "#     'boosting_type': 'gbdt',         # Тип бустинга (градиентный бустинг на деревьях решений)\n",
        "#     'objective': 'regression',       # Целевая функция (регрессия)\n",
        "#     'metric': 'L1',                 # Метрика оценки качества модели (среднеквадратичная ошибка)\n",
        "#     'min_data_in_leaf': 15,\n",
        "#     'num_leaves': 100,                # Максимальное количество листьев в одном дереве\n",
        "#     'learning_rate': 0.1,           # Скорость обучения\n",
        "#     'feature_fraction': 0.8,         # Доля признаков, используемых при обучении каждого дерева\n",
        "#     'max_depth': 10,                  # Максимальная глубина деревьев\n",
        "#     'seed': 42,                      # Начальное значение для генерации случайных чисел (для воспроизводимости)\n",
        "#     'verbose': -1                    # Уровень детализации выводимых сообщений (отключение вывода)\n",
        "# }\n"
      ],
      "metadata": {
        "id": "dm2VKP7J7DIf"
      },
      "execution_count": null,
      "outputs": []
    },
    {
      "cell_type": "code",
      "source": [
        "# Параметры настройки модели LightGBM для задачи классификации\n",
        "params = {\n",
        "    'boosting_type': 'gbdt',         # Тип бустинга (градиентный бустинг на деревьях решений)\n",
        "    'objective': 'binary',           # Целевая функция (бинарная классификация)\n",
        "    'metric': 'binary_logloss',      # Метрика оценки качества модели (логарифмическая потеря для бинарной классификации)\n",
        "    'min_data_in_leaf': 15,\n",
        "    'num_leaves': 100,                # Максимальное количество листьев в одном дереве\n",
        "    'learning_rate': 0.1,             # Скорость обучения\n",
        "    'feature_fraction': 0.8,          # Доля признаков, используемых при обучении каждого дерева\n",
        "    'max_depth': -1,                  # Максимальная глубина деревьев\n",
        "    'seed': 42,                       # Начальное значение для генерации случайных чисел (для воспроизводимости)\n",
        "    'verbose': -1                     # Уровень детализации выводимых сообщений (отключение вывода)\n",
        "}\n"
      ],
      "metadata": {
        "id": "KrWXAU09rpG1"
      },
      "execution_count": null,
      "outputs": []
    },
    {
      "cell_type": "code",
      "source": [
        "gbm = lgb.train(params,\n",
        "                lgb_train,\n",
        "                num_boost_round=50,\n",
        "                valid_sets=lgb_eval\n",
        "                )\n"
      ],
      "metadata": {
        "id": "qnSa171I4y3B"
      },
      "execution_count": null,
      "outputs": []
    },
    {
      "cell_type": "code",
      "source": [
        "# Прогнозирование на тестовом наборе\n",
        "y_pred = gbm.predict(X_test, num_iteration=gbm.best_iteration)\n"
      ],
      "metadata": {
        "id": "ECalETbF56Q9"
      },
      "execution_count": null,
      "outputs": []
    },
    {
      "cell_type": "code",
      "source": [
        "y_pred"
      ],
      "metadata": {
        "colab": {
          "base_uri": "https://localhost:8080/"
        },
        "id": "UHXYqgMJruIE",
        "outputId": "8f3a1cdc-ffcc-4fdd-8759-f6f070269ee2"
      },
      "execution_count": null,
      "outputs": [
        {
          "output_type": "execute_result",
          "data": {
            "text/plain": [
              "array([0.01799324, 0.02694008, 0.1616556 , ..., 0.86263806, 0.16018181,\n",
              "       0.40030838])"
            ]
          },
          "metadata": {},
          "execution_count": 141
        }
      ]
    },
    {
      "cell_type": "code",
      "source": [
        "from sklearn.metrics import accuracy_score\n",
        "# Прогнозирование на обучающей выборке\n",
        "y_train_pred = gbm.predict(X_train, num_iteration=gbm.best_iteration)\n",
        "y_train_pred = (y_train_pred > 0.5).astype(int)  # Применение порога для бинарной классификации\n",
        "\n",
        "# Прогнозирование на тестовой выборке\n",
        "y_test_pred = gbm.predict(X_test, num_iteration=gbm.best_iteration)\n",
        "y_test_pred = (y_test_pred > 0.5).astype(int)  # Применение порога для бинарной классификации\n",
        "\n",
        "# Вычисляем правильность на обучающей выборке\n",
        "train_accuracy = accuracy_score(y_train, y_train_pred)\n",
        "print(\"Accuracy on train: {:.3f}\".format(train_accuracy))\n",
        "\n",
        "# Вычисляем правильность на проверочной выборке\n",
        "test_accuracy = accuracy_score(y_test, y_test_pred)\n",
        "print(\"Accuracy on test: {:.3f}\".format(test_accuracy))"
      ],
      "metadata": {
        "colab": {
          "base_uri": "https://localhost:8080/"
        },
        "id": "S96wLZsasHXx",
        "outputId": "f45f8766-782a-428c-8e59-46a94feeb665"
      },
      "execution_count": null,
      "outputs": [
        {
          "output_type": "stream",
          "name": "stdout",
          "text": [
            "Accuracy on train: 0.943\n",
            "Accuracy on test: 0.861\n"
          ]
        }
      ]
    },
    {
      "cell_type": "code",
      "source": [
        "# # Оценка модели\n",
        "# rmse = mean_squared_error(y_test, y_pred, squared=False)\n",
        "# print(f'RMSE: {rmse:.4f}')\n"
      ],
      "metadata": {
        "id": "mDBJwKfP57r6"
      },
      "execution_count": null,
      "outputs": []
    },
    {
      "cell_type": "code",
      "source": [
        "import matplotlib.pyplot as plt\n",
        "import numpy as np\n",
        "\n",
        "iterations = np.arange(0, 100)\n",
        "\n",
        "\n",
        "learning_rate = 0.1 * (0.99 ** iterations)\n",
        "\n",
        "\n",
        "plt.figure(figsize=(10, 6))\n",
        "plt.plot(iterations, learning_rate, label='Learning Rate = 0.05 * (0.99^iter)', color='blue')\n",
        "plt.xlabel('Iteration')\n",
        "plt.ylabel('Learning Rate')\n",
        "plt.title('Learning Rate Decay over Iterations')\n",
        "plt.legend()\n",
        "plt.grid(True)\n",
        "plt.show()\n"
      ],
      "metadata": {
        "colab": {
          "base_uri": "https://localhost:8080/",
          "height": 564
        },
        "id": "4ZxIvDyztsxq",
        "outputId": "9d2c6e55-7d7d-4dbf-ae6b-ea9f0f4666cc"
      },
      "execution_count": null,
      "outputs": [
        {
          "output_type": "display_data",
          "data": {
            "text/plain": [
              "<Figure size 1000x600 with 1 Axes>"
            ],
            "image/png": "[encoded data removed]"
          },
          "metadata": {}
        }
      ]
    },
    {
      "cell_type": "code",
      "source": [
        "# Обучение модели LightGBM с использованием динамического изменения\n",
        "lgb_model_with_dynamic_lr = lgb.train(\n",
        "    params,                    # Параметры настройки модели\n",
        "    lgb_train,                 # Датасет для обучения\n",
        "    num_boost_round=100,       # Количество итераций (деревьев), которые будут построены\n",
        "    valid_sets=lgb_eval,      # Датасет для валидации (оценки качества модели на каждом этапе)\n",
        "    callbacks=[lgb.reset_parameter(\n",
        "        learning_rate=lambda iter: 0.1 * (0.99 ** iter),\n",
        "        num_leaves=[40] * 65 + [20] * 35,\n",
        "        feature_fraction=[0.7] * 50 + [0.5] * 50)]\n",
        ")\n",
        "\n",
        "# В данном случае используется callback-функция reset_parameter, которая позволяет динамически изменять параметры модели во время обучения.\n",
        "# Параметр learning_rate (скорость обучения) изменяется по формуле: 0.1 * (0.99 ** iter), где iter - номер текущей итерации.\n",
        "# Таким образом, скорость обучения постепенно уменьшается с каждой итерацией, начиная с 0.1 и уменьшаясь на 1% на каждой итерации.\n"
      ],
      "metadata": {
        "colab": {
          "base_uri": "https://localhost:8080/"
        },
        "collapsed": true,
        "id": "i2CpqZJH8drW",
        "outputId": "2308702c-6020-4715-a8ef-acd2fff96e26"
      },
      "execution_count": null,
      "outputs": [
        {
          "output_type": "stream",
          "name": "stdout",
          "text": [
            "[LightGBM] [Info] [binary:BoostFromScore]: pavg=0.205500 -> initscore=-1.352267\n",
            "[LightGBM] [Info] Start training from score -1.352267\n"
          ]
        }
      ]
    },
    {
      "cell_type": "code",
      "source": [
        "\n",
        "# # Прогнозирование на тестовом наборе\n",
        "# y_pred = gbm.predict(X_test, num_iteration=gbm.best_iteration)\n",
        "\n",
        "# # Оценка модели\n",
        "# rmse = mean_squared_error(y_test, y_pred, squared=False)\n",
        "# print(f'RMSE: {rmse:.4f}')\n",
        "\n"
      ],
      "metadata": {
        "id": "HAv_uMbk8tW9"
      },
      "execution_count": null,
      "outputs": []
    },
    {
      "cell_type": "code",
      "source": [
        "# Прогнозирование на обучающей выборке\n",
        "y_train_pred = lgb_model_with_dynamic_lr.predict(X_train, num_iteration=gbm.best_iteration)\n",
        "y_train_pred = (y_train_pred > 0.5).astype(int)  # Применение порога для бинарной классификации\n",
        "\n",
        "# Прогнозирование на тестовой выборке\n",
        "y_test_pred = lgb_model_with_dynamic_lr.predict(X_test, num_iteration=gbm.best_iteration)\n",
        "y_test_pred = (y_test_pred > 0.5).astype(int)  # Применение порога для бинарной классификации\n",
        "\n",
        "# Вычисляем правильность на обучающей выборке\n",
        "train_accuracy = accuracy_score(y_train, y_train_pred)\n",
        "print(\"Accuracy on train: {:.3f}\".format(train_accuracy))\n",
        "\n",
        "# Вычисляем правильность на проверочной выборке\n",
        "test_accuracy = accuracy_score(y_test, y_test_pred)\n",
        "print(\"Accuracy on test: {:.3f}\".format(test_accuracy))"
      ],
      "metadata": {
        "colab": {
          "base_uri": "https://localhost:8080/"
        },
        "id": "BStt8WSSs3DB",
        "outputId": "ec8b0554-db29-45fc-a9fa-0d63a13c478e"
      },
      "execution_count": null,
      "outputs": [
        {
          "output_type": "stream",
          "name": "stdout",
          "text": [
            "Accuracy on train: 0.902\n",
            "Accuracy on test: 0.865\n"
          ]
        }
      ]
    },
    {
      "cell_type": "code",
      "source": [
        "# для регрессии\n",
        "# Пользовательская функция потерь для sMAPE\n",
        "def smape(preds, dataset):\n",
        "    labels = dataset.get_label()\n",
        "    epsilon = 1e-10  # небольшое значение для предотвращения деления на ноль\n",
        "\n",
        "    # Вычисляем sMAPE\n",
        "    diff = np.abs(preds - labels)\n",
        "    sum_abs = np.abs(preds) + np.abs(labels) + epsilon  # Добавляем epsilon для предотвращения деления на ноль\n",
        "    smape = diff / sum_abs\n",
        "\n",
        "    # Градиент\n",
        "    grad = (preds - labels) / (sum_abs * np.sqrt(np.abs(preds) + np.abs(labels) + epsilon))\n",
        "\n",
        "    # Гессиан\n",
        "    hess = 1.0 / (sum_abs * np.sqrt(np.abs(preds) + np.abs(labels) + epsilon))\n",
        "\n",
        "    return grad, hess\n",
        "\n",
        "# Пример использования пользовательской функции потерь при обучении модели LightGBM\n",
        "params = {\n",
        "    'boosting_type': 'gbdt',\n",
        "    'objective': smape,  # Используем пользовательскую функцию потерь sMAPE\n",
        "    'metric': 'mse',  # Метрика оценки может быть любой, здесь оставлена mse для примера\n",
        "    'num_leaves': 64,\n",
        "    'learning_rate': 0.05,\n",
        "    'feature_fraction': 0.9,\n",
        "    'max_depth': 10,\n",
        "    'min_data_in_leaf': 5,\n",
        "    'min_gain_to_split': 0.0,\n",
        "    'verbose': -1,\n",
        "\n",
        "}\n",
        "\n",
        "# Обучение модели с пользовательской функцией потерь\n",
        "# gbm = lgb.train(\n",
        "#     params,\n",
        "#     lgb_train,\n",
        "#     num_boost_round=100,\n",
        "#     valid_sets=lgb_eval\n",
        "# )\n"
      ],
      "metadata": {
        "collapsed": true,
        "id": "mra4s5geEdFU"
      },
      "execution_count": null,
      "outputs": []
    },
    {
      "cell_type": "code",
      "source": [
        "# Параметры настройки модели LightGBM для задачи классификации\n",
        "params = {\n",
        "    'boosting_type': 'gbdt',         # Тип бустинга (градиентный бустинг на деревьях решений)\n",
        "    'objective': 'binary',           # Целевая функция (бинарная классификация)\n",
        "    'metric': 'binary_logloss',      # Метрика оценки качества модели (логарифмическая потеря для бинарной классификации)\n",
        "    'min_data_in_leaf': 15,\n",
        "    'num_leaves': 100,                # Максимальное количество листьев в одном дереве\n",
        "    'learning_rate': 0.1,             # Скорость обучения\n",
        "    'feature_fraction': 0.8,          # Доля признаков, используемых при обучении каждого дерева\n",
        "    'max_depth': -1,                  # Максимальная глубина деревьев\n",
        "    'seed': 42,                       # Начальное значение для генерации случайных чисел (для воспроизводимости)\n",
        "    'verbose': -1 ,                    # Уровень детализации выводимых сообщений (отключение вывода)\n",
        "    'lambda_l2': 11.9,\n",
        "    'lambda_l1': 11.9,\n",
        "}\n",
        "gbm = lgb.train(params,\n",
        "                lgb_train,\n",
        "                num_boost_round=50,\n",
        "                valid_sets=lgb_eval\n",
        "                )\n",
        "# Прогнозирование на тестовом наборе\n",
        "y_pred = gbm.predict(X_test, num_iteration=gbm.best_iteration)\n"
      ],
      "metadata": {
        "id": "vwqc8Tg6wSHo"
      },
      "execution_count": null,
      "outputs": []
    },
    {
      "cell_type": "code",
      "source": [
        "\n",
        "# Прогнозирование на обучающей выборке\n",
        "y_train_pred = gbm.predict(X_train, num_iteration=gbm.best_iteration)\n",
        "y_train_pred = (y_train_pred > 0.5).astype(int)  # Применение порога для бинарной классификации\n",
        "\n",
        "# Прогнозирование на тестовой выборке\n",
        "y_test_pred = gbm.predict(X_test, num_iteration=gbm.best_iteration)\n",
        "y_test_pred = (y_test_pred > 0.5).astype(int)  # Применение порога для бинарной классификации\n",
        "\n",
        "# Вычисляем правильность на обучающей выборке\n",
        "train_accuracy = accuracy_score(y_train, y_train_pred)\n",
        "print(\"Accuracy on train: {:.3f}\".format(train_accuracy))\n",
        "\n",
        "# Вычисляем правильность на проверочной выборке\n",
        "test_accuracy = accuracy_score(y_test, y_test_pred)\n",
        "print(\"Accuracy on test: {:.3f}\".format(test_accuracy))"
      ],
      "metadata": {
        "colab": {
          "base_uri": "https://localhost:8080/"
        },
        "id": "uodFr8NWwle8",
        "outputId": "d3e92348-b8dd-45af-8d29-bcf72da0a399"
      },
      "execution_count": null,
      "outputs": [
        {
          "output_type": "stream",
          "name": "stdout",
          "text": [
            "Accuracy on train: 0.870\n",
            "Accuracy on test: 0.863\n"
          ]
        }
      ]
    },
    {
      "cell_type": "code",
      "source": [
        "# Выполнение кросс-валидации с использованием встроенного метода LightGBM\n",
        "# cv_results = lgb.cv(\n",
        "#     params,\n",
        "#     lgb_train,\n",
        "#     num_boost_round=100,\n",
        "#     nfold=5,\n",
        "#     metrics='rmse',\n",
        "#     stratified=False,\n",
        "\n",
        "# )\n",
        "\n",
        "cv_results = lgb.cv(\n",
        "    params,\n",
        "    lgb_train,\n",
        "    num_boost_round=100,\n",
        "    nfold=5,\n",
        "    metrics='binary_logloss',\n",
        "    stratified=False,\n",
        "\n",
        ")"
      ],
      "metadata": {
        "collapsed": true,
        "id": "LANkBjUDEdIF"
      },
      "execution_count": null,
      "outputs": []
    },
    {
      "cell_type": "code",
      "source": [
        "cv_results.keys()"
      ],
      "metadata": {
        "colab": {
          "base_uri": "https://localhost:8080/"
        },
        "collapsed": true,
        "id": "DIhPm6SuKHV_",
        "outputId": "ed28360b-22de-4a84-8c42-e0f37af76903"
      },
      "execution_count": null,
      "outputs": [
        {
          "output_type": "execute_result",
          "data": {
            "text/plain": [
              "dict_keys(['valid binary_logloss-mean', 'valid binary_logloss-stdv'])"
            ]
          },
          "metadata": {},
          "execution_count": 148
        }
      ]
    },
    {
      "cell_type": "code",
      "source": [
        "\n",
        "# Извлечение результатов\n",
        "# rmse_scores = cv_results['valid rmse-mean']\n",
        "# rmse_stdv = cv_results['valid rmse-stdv']\n",
        "\n",
        "# print(f'RMSE Scores: {rmse_scores}')\n",
        "# print(f'Mean RMSE: {np.mean(rmse_scores)}')\n",
        "# print(f'Standard Deviation of RMSE: {np.mean(rmse_stdv)}')\n",
        "\n",
        "# Извлечение метрик из результатов кросс-валидации\n",
        "logloss_scores = cv_results['valid binary_logloss-mean']\n",
        "logloss_stdv = cv_results['valid binary_logloss-stdv']\n",
        "\n",
        "print(f'Binary Log Loss Scores: {logloss_scores}')\n",
        "print(f'Mean Binary Log Loss: {np.mean(logloss_scores)}')\n",
        "print(f'Standard Deviation of Binary Log Loss: {np.mean(logloss_stdv)}')\n"
      ],
      "metadata": {
        "colab": {
          "base_uri": "https://localhost:8080/"
        },
        "id": "K_tzj4DCKGPJ",
        "outputId": "df3a9157-c139-4628-d037-193f0163aac4"
      },
      "execution_count": null,
      "outputs": [
        {
          "output_type": "stream",
          "name": "stdout",
          "text": [
            "Binary Log Loss Scores: [0.48466130250882306, 0.4570505611896727, 0.4377164426335466, 0.4231217503374354, 0.4099844159542769, 0.39987809693375653, 0.3939600415574261, 0.38574869467382317, 0.38394369554314844, 0.37798040535080274, 0.3726026553383866, 0.3684435028464326, 0.36508517932796036, 0.3622034471277698, 0.36026636967520204, 0.35831793826085623, 0.35645529263062165, 0.35513447316468094, 0.35446573598603, 0.35337157407494113, 0.35303128057582783, 0.35206996840782007, 0.3518801005516427, 0.3516105171163938, 0.3510010139925874, 0.35079488545990645, 0.35059095883624336, 0.35032648405706984, 0.3503683791501078, 0.3502017126971836, 0.3503723502457147, 0.3504743658566214, 0.3505191915621038, 0.3508938345433576, 0.35111980462633724, 0.3515983421664935, 0.35172830222374796, 0.3519981487048845, 0.352609068155113, 0.3533226606633805, 0.3535681131618718, 0.3536635800344671, 0.3539103761850057, 0.3542512700733045, 0.3546966400881728, 0.355214960585573, 0.3560396562484148, 0.35613300534590486, 0.35666425195839946, 0.35714223953109203, 0.35767882113204774, 0.3579764115086043, 0.3584435442634496, 0.3589940754241238, 0.3594121159832181, 0.3597294091633973, 0.3600773255066817, 0.36062633962695395, 0.3612614736719186, 0.3617034296787434, 0.36222697426294853, 0.36267305085124596, 0.36315431504626183, 0.3634290874353574, 0.36382032541894266, 0.3643444845993708, 0.364808133133674, 0.3652601659824718, 0.36581075516153183, 0.3662360939323509, 0.36693498984347916, 0.3676908815799679, 0.3682146734992914, 0.3691184269638031, 0.3699784798879699, 0.370493263591411, 0.37086778428187966, 0.371447534380774, 0.3718646273847646, 0.37231708499961497, 0.3728171146922614, 0.3736696026274847, 0.37389832259425126, 0.37434927018727393, 0.3749298034275004, 0.37583130923629127, 0.3765391718896114, 0.3775514630307033, 0.37820051653604875, 0.3790925391304909, 0.3796234713760882, 0.38029715005754305, 0.38103366183184495, 0.381538188670063, 0.3820823795427698, 0.38250028199405456, 0.38307202483986136, 0.3836935391110151, 0.38408876120615815, 0.3845853040674495]\n",
            "Mean Binary Log Loss: 0.36854174992165356\n",
            "Standard Deviation of Binary Log Loss: 0.014630155057758297\n"
          ]
        }
      ]
    },
    {
      "cell_type": "code",
      "source": [
        "# строим график важностей, тип важности - количество\n",
        "# разбиений с использованием данного признака\n",
        "lgb.plot_importance(booster=gbm, importance_type='split');"
      ],
      "metadata": {
        "colab": {
          "base_uri": "https://localhost:8080/",
          "height": 472
        },
        "id": "Q7Jvk3abEdKp",
        "outputId": "140f2cbe-84aa-45e6-8359-58d4a3da56f0"
      },
      "execution_count": null,
      "outputs": [
        {
          "output_type": "display_data",
          "data": {
            "text/plain": [
              "<Figure size 640x480 with 1 Axes>"
            ],
            "image/png": "[encoded data removed]"
          },
          "metadata": {}
        }
      ]
    },
    {
      "cell_type": "code",
      "source": [
        "# строим график важностей, тип важности - выигрыш\n",
        "lgb.plot_importance(booster=gbm, importance_type='gain');"
      ],
      "metadata": {
        "colab": {
          "base_uri": "https://localhost:8080/",
          "height": 472
        },
        "id": "lhG_Qw8qKtks",
        "outputId": "79d41158-51ff-4146-ee21-f2a41d8d0eff"
      },
      "execution_count": null,
      "outputs": [
        {
          "output_type": "display_data",
          "data": {
            "text/plain": [
              "<Figure size 640x480 with 1 Axes>"
            ],
            "image/png": "[encoded data removed]"
          },
          "metadata": {}
        }
      ]
    },
    {
      "cell_type": "code",
      "source": [
        "# import lightgbm as lgb\n",
        "# from sklearn.metrics import mean_squared_error\n",
        "\n",
        "# # создаем экземпляр класса LGBMRegressor\n",
        "# lgb_model_sklearn = lgb.LGBMRegressor(learning_rate=0.05,\n",
        "#                                       n_estimators=1200,\n",
        "#                                       max_depth=4,\n",
        "#                                       objective='regression',\n",
        "#                                       random_state=42,\n",
        "#                                       verbose=-1)\n",
        "\n",
        "# # строим модель\n",
        "# lgb_model_sklearn.fit(X_train, y_train)\n",
        "\n",
        "# # оцениваем модель lightgbm\n",
        "# train_predictions = lgb_model_sklearn.predict(X_train)\n",
        "# valid_predictions = lgb_model_sklearn.predict(X_test)\n",
        "\n",
        "# print(\"MSE на обучающей выборке: {:.3f}\".format(\n",
        "#     mean_squared_error(y_train, train_predictions)))\n",
        "# print(\"MSE на проверочной выборке: {:.3f}\".format(\n",
        "#     mean_squared_error(y_test, valid_predictions)))\n"
      ],
      "metadata": {
        "colab": {
          "base_uri": "https://localhost:8080/"
        },
        "id": "gAyqmeM2K-yd",
        "outputId": "79f7fefb-ceda-4266-c4b9-ffdb403032eb"
      },
      "execution_count": null,
      "outputs": [
        {
          "output_type": "stream",
          "name": "stdout",
          "text": [
            "MSE на обучающей выборке: 0.068\n",
            "MSE на проверочной выборке: 0.103\n"
          ]
        }
      ]
    },
    {
      "cell_type": "code",
      "source": [
        "import lightgbm as lgb\n",
        "from sklearn.metrics import accuracy_score, log_loss\n",
        "\n",
        "# Создаем экземпляр класса LGBMClassifier\n",
        "lgb_model_sklearn = lgb.LGBMClassifier(\n",
        "    learning_rate=0.05,\n",
        "    n_estimators=1200,\n",
        "    max_depth=4,\n",
        "    objective='binary',            # Задача бинарной классификации\n",
        "    random_state=42,\n",
        "    verbose=-1\n",
        ")\n",
        "\n",
        "# Строим модель\n",
        "lgb_model_sklearn.fit(X_train, y_train)\n",
        "\n",
        "# Оцениваем модель LightGBM\n",
        "train_predictions = lgb_model_sklearn.predict(X_train)\n",
        "valid_predictions = lgb_model_sklearn.predict(X_test)\n",
        "valid_proba = lgb_model_sklearn.predict_proba(X_test)[:, 1]  # Вероятности положительного класса\n",
        "\n",
        "print(\"Accuracy на обучающей выборке: {:.3f}\".format(\n",
        "    accuracy_score(y_train, train_predictions)))\n",
        "print(\"Accuracy на проверочной выборке: {:.3f}\".format(\n",
        "    accuracy_score(y_test, valid_predictions)))\n",
        "print(\"Log Loss на проверочной выборке: {:.3f}\".format(\n",
        "    log_loss(y_test, valid_proba)))\n"
      ],
      "metadata": {
        "colab": {
          "base_uri": "https://localhost:8080/"
        },
        "id": "2aQJrsQjvngE",
        "outputId": "9724ccf2-d344-4c45-9ba1-933002a83ed6"
      },
      "execution_count": null,
      "outputs": [
        {
          "output_type": "stream",
          "name": "stdout",
          "text": [
            "Accuracy на обучающей выборке: 0.932\n",
            "Accuracy на проверочной выборке: 0.865\n",
            "Log Loss на проверочной выборке: 0.346\n"
          ]
        }
      ]
    }
  ]
}