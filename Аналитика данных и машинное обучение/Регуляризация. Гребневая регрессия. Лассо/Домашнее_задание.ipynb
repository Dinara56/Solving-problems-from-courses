{
  "cells": [
    {
      "cell_type": "markdown",
      "metadata": {
        "id": "76z8QI2Ew7kA"
      },
      "source": [
        "<font color='blue' size='7'>**Домашняя работа**</font>  \n",
        "<font color='1A9BFF' size='6'>**Тема: Машинное обучение. Линейные алгоритмы**</font>  \n",
        "<font size='5'>**Задание:**</font>  \n",
        "\n",
        "1. Загрузите данные о пассажирах Титаника. Данные можно скачать с сайта Kaggle по ссылке https://www.kaggle.com/c/titanic/data?select=train.csv или загрузить из библиотеки Seaborn командой sns.load_dataset('titanic').\n",
        "2. Проверьте данные на наличие пропусков и обработайте их.\n",
        "3. Если в данных присутствуют категориальные переменные, проведите их обработку.\n",
        "4. Постройте алгоритм K-ближайших соседей (KNN). Для выбора оптимальных гиперпараметров используйте метод gridsearch.\n",
        "5. Проверьте, насколько модель переобучена, используя кросс-валидацию.\n",
        "6. Рассчитайте метрики качества модели: матрицу ошибок, accuracy, precision, recall и AUC-ROC.\n",
        "7. Построите модель логистическая регрессия с регуляризацией. Тип регуляризации и параметр регуляризации $\\alpha$ подобрать с помощью gridsearch.\n",
        "\n",
        "\n"
      ]
    },
    {
      "cell_type": "markdown",
      "metadata": {
        "id": "HgQ5fb0q296G"
      },
      "source": [
        "<font size='5'>**Решение:**</font>  "
      ]
    },
    {
      "cell_type": "markdown",
      "metadata": {
        "id": "_lFJ8mU82x64"
      },
      "source": [
        "<font color='1A9BFF'>**Установка и импорт необходимых библиотек**</font>"
      ]
    },
    {
      "cell_type": "code",
      "execution_count": 1,
      "metadata": {
        "id": "R4v3sa4Qw6P_"
      },
      "outputs": [],
      "source": [
        "# для обработки категориальных переменных\n",
        "# !pip install category_encoders -q"
      ]
    },
    {
      "cell_type": "code",
      "execution_count": 2,
      "metadata": {
        "id": "m5xFidqvp_re"
      },
      "outputs": [],
      "source": [
        "import seaborn as sns\n",
        "import numpy as np\n",
        "import pandas as pd\n",
        "from sklearn.model_selection import train_test_split, GridSearchCV\n",
        "from sklearn.neighbors import KNeighborsClassifier\n",
        "from sklearn.preprocessing import StandardScaler,OneHotEncoder\n",
        "import category_encoders as ce\n",
        "from sklearn.model_selection import cross_val_score\n",
        "from sklearn.metrics import confusion_matrix, accuracy_score, precision_score, recall_score, roc_auc_score\n",
        "\n",
        "from sklearn.metrics import mean_absolute_error, mean_squared_error\n",
        "from sklearn.linear_model import LogisticRegression\n",
        "from sklearn.pipeline import Pipeline"
      ]
    },
    {
      "cell_type": "markdown",
      "metadata": {
        "id": "QRgw4FHdtWRK"
      },
      "source": [
        "<font color='1A9BFF'>**Загрузите набор данных титаник**</font>"
      ]
    },
    {
      "cell_type": "code",
      "execution_count": 3,
      "metadata": {
        "id": "-Wp6Y_TAmOly"
      },
      "outputs": [],
      "source": [
        "df = pd.read_csv('/Users/dinara/Applications/Solving-problems-from-courses/Аналитика данных и машинное обучение/Регуляризация. Гребневая регрессия. Лассо/train.csv')"
      ]
    },
    {
      "cell_type": "markdown",
      "metadata": {
        "id": "6Ejw5RPl6nBh"
      },
      "source": [
        "## EDA"
      ]
    },
    {
      "cell_type": "markdown",
      "metadata": {
        "id": "_fWSpdiipsuh"
      },
      "source": [
        "<font color='1A9BFF'>**Посмотрите на первые 5 строк**</font>"
      ]
    },
    {
      "cell_type": "code",
      "execution_count": 4,
      "metadata": {
        "id": "54N3N1FPm9b0"
      },
      "outputs": [
        {
          "data": {
            "text/html": [
              "<div>\n",
              "<style scoped>\n",
              "    .dataframe tbody tr th:only-of-type {\n",
              "        vertical-align: middle;\n",
              "    }\n",
              "\n",
              "    .dataframe tbody tr th {\n",
              "        vertical-align: top;\n",
              "    }\n",
              "\n",
              "    .dataframe thead th {\n",
              "        text-align: right;\n",
              "    }\n",
              "</style>\n",
              "<table border=\"1\" class=\"dataframe\">\n",
              "  <thead>\n",
              "    <tr style=\"text-align: right;\">\n",
              "      <th></th>\n",
              "      <th>PassengerId</th>\n",
              "      <th>Survived</th>\n",
              "      <th>Pclass</th>\n",
              "      <th>Name</th>\n",
              "      <th>Sex</th>\n",
              "      <th>Age</th>\n",
              "      <th>SibSp</th>\n",
              "      <th>Parch</th>\n",
              "      <th>Ticket</th>\n",
              "      <th>Fare</th>\n",
              "      <th>Cabin</th>\n",
              "      <th>Embarked</th>\n",
              "    </tr>\n",
              "  </thead>\n",
              "  <tbody>\n",
              "    <tr>\n",
              "      <th>0</th>\n",
              "      <td>1</td>\n",
              "      <td>0</td>\n",
              "      <td>3</td>\n",
              "      <td>Braund, Mr. Owen Harris</td>\n",
              "      <td>male</td>\n",
              "      <td>22.0</td>\n",
              "      <td>1</td>\n",
              "      <td>0</td>\n",
              "      <td>A/5 21171</td>\n",
              "      <td>7.2500</td>\n",
              "      <td>NaN</td>\n",
              "      <td>S</td>\n",
              "    </tr>\n",
              "    <tr>\n",
              "      <th>1</th>\n",
              "      <td>2</td>\n",
              "      <td>1</td>\n",
              "      <td>1</td>\n",
              "      <td>Cumings, Mrs. John Bradley (Florence Briggs Th...</td>\n",
              "      <td>female</td>\n",
              "      <td>38.0</td>\n",
              "      <td>1</td>\n",
              "      <td>0</td>\n",
              "      <td>PC 17599</td>\n",
              "      <td>71.2833</td>\n",
              "      <td>C85</td>\n",
              "      <td>C</td>\n",
              "    </tr>\n",
              "    <tr>\n",
              "      <th>2</th>\n",
              "      <td>3</td>\n",
              "      <td>1</td>\n",
              "      <td>3</td>\n",
              "      <td>Heikkinen, Miss. Laina</td>\n",
              "      <td>female</td>\n",
              "      <td>26.0</td>\n",
              "      <td>0</td>\n",
              "      <td>0</td>\n",
              "      <td>STON/O2. 3101282</td>\n",
              "      <td>7.9250</td>\n",
              "      <td>NaN</td>\n",
              "      <td>S</td>\n",
              "    </tr>\n",
              "    <tr>\n",
              "      <th>3</th>\n",
              "      <td>4</td>\n",
              "      <td>1</td>\n",
              "      <td>1</td>\n",
              "      <td>Futrelle, Mrs. Jacques Heath (Lily May Peel)</td>\n",
              "      <td>female</td>\n",
              "      <td>35.0</td>\n",
              "      <td>1</td>\n",
              "      <td>0</td>\n",
              "      <td>113803</td>\n",
              "      <td>53.1000</td>\n",
              "      <td>C123</td>\n",
              "      <td>S</td>\n",
              "    </tr>\n",
              "    <tr>\n",
              "      <th>4</th>\n",
              "      <td>5</td>\n",
              "      <td>0</td>\n",
              "      <td>3</td>\n",
              "      <td>Allen, Mr. William Henry</td>\n",
              "      <td>male</td>\n",
              "      <td>35.0</td>\n",
              "      <td>0</td>\n",
              "      <td>0</td>\n",
              "      <td>373450</td>\n",
              "      <td>8.0500</td>\n",
              "      <td>NaN</td>\n",
              "      <td>S</td>\n",
              "    </tr>\n",
              "  </tbody>\n",
              "</table>\n",
              "</div>"
            ],
            "text/plain": [
              "   PassengerId  Survived  Pclass  \\\n",
              "0            1         0       3   \n",
              "1            2         1       1   \n",
              "2            3         1       3   \n",
              "3            4         1       1   \n",
              "4            5         0       3   \n",
              "\n",
              "                                                Name     Sex   Age  SibSp  \\\n",
              "0                            Braund, Mr. Owen Harris    male  22.0      1   \n",
              "1  Cumings, Mrs. John Bradley (Florence Briggs Th...  female  38.0      1   \n",
              "2                             Heikkinen, Miss. Laina  female  26.0      0   \n",
              "3       Futrelle, Mrs. Jacques Heath (Lily May Peel)  female  35.0      1   \n",
              "4                           Allen, Mr. William Henry    male  35.0      0   \n",
              "\n",
              "   Parch            Ticket     Fare Cabin Embarked  \n",
              "0      0         A/5 21171   7.2500   NaN        S  \n",
              "1      0          PC 17599  71.2833   C85        C  \n",
              "2      0  STON/O2. 3101282   7.9250   NaN        S  \n",
              "3      0            113803  53.1000  C123        S  \n",
              "4      0            373450   8.0500   NaN        S  "
            ]
          },
          "execution_count": 4,
          "metadata": {},
          "output_type": "execute_result"
        }
      ],
      "source": [
        "df.head()"
      ]
    },
    {
      "cell_type": "markdown",
      "metadata": {
        "id": "UWDXPyR2qFWq"
      },
      "source": [
        "<font color='1A9BFF'>**Проверьте, все ли типы данных верные. Если где-то назанчен неверный тип данных, исправьте**</font>\n",
        "\n"
      ]
    },
    {
      "cell_type": "code",
      "execution_count": 5,
      "metadata": {
        "id": "TG0xK7XmqMDG"
      },
      "outputs": [
        {
          "name": "stdout",
          "output_type": "stream",
          "text": [
            "<class 'pandas.core.frame.DataFrame'>\n",
            "RangeIndex: 891 entries, 0 to 890\n",
            "Data columns (total 12 columns):\n",
            " #   Column       Non-Null Count  Dtype  \n",
            "---  ------       --------------  -----  \n",
            " 0   PassengerId  891 non-null    int64  \n",
            " 1   Survived     891 non-null    int64  \n",
            " 2   Pclass       891 non-null    int64  \n",
            " 3   Name         891 non-null    object \n",
            " 4   Sex          891 non-null    object \n",
            " 5   Age          714 non-null    float64\n",
            " 6   SibSp        891 non-null    int64  \n",
            " 7   Parch        891 non-null    int64  \n",
            " 8   Ticket       891 non-null    object \n",
            " 9   Fare         891 non-null    float64\n",
            " 10  Cabin        204 non-null    object \n",
            " 11  Embarked     889 non-null    object \n",
            "dtypes: float64(2), int64(5), object(5)\n",
            "memory usage: 83.7+ KB\n"
          ]
        }
      ],
      "source": [
        "df.info()"
      ]
    },
    {
      "cell_type": "markdown",
      "metadata": {
        "id": "3OhrIZB4s_YH"
      },
      "source": [
        "><font color='green'>\n",
        "Датасет Titanic с 12 столбцами выглядит корректно с точки зрения типов данных.\n",
        "\n",
        "- PassengerId (int64): Идентификатор пассажира. Тип данных правильный, так как это уникальные числовые значения.\n",
        "- Survived (int64): Индикатор выживания (0 = не выжил, 1 = выжил). Тип данных правильный, так как это бинарные значения, представленные целыми числами.\n",
        "- Pclass (int64): Класс обслуживания (1 = 1-й, 2 = 2-й, 3 = 3-й). Тип данных правильный, так как это числовые категории.\n",
        "- Name (object): Имя пассажира. Тип данных правильный, так как это строковые данные.\n",
        "- Sex (object): Пол пассажира. Тип данных правильный, так как это строковые данные.\n",
        "- Age (float64): Возраст пассажира. Тип данных правильный, так как возраст может быть дробным значением (например, 22.5 года).\n",
        "- SibSp (int64): Количество братьев, сестер и супругов на борту. Тип данных правильный, так как это числовые значения.\n",
        "- Parch (int64): Количество родителей и детей на борту. Тип данных правильный, так как это числовые значения.\n",
        "- Ticket (object): Номер билета. Тип данных правильный, так как номера билетов могут содержать буквы и цифры.\n",
        "- Fare (float64): Плата за проезд. Тип данных правильный, так как это дробные значения.\n",
        "- Cabin (object): Номер каюты. Тип данных правильный, так как номера кают могут содержать буквы и цифры.\n",
        "- Embarked (object): Порт посадки (C = Cherbourg, Q = Queenstown, S = Southampton). Тип данных правильный, так как это строковые данные.\n",
        "</font>"
      ]
    },
    {
      "cell_type": "markdown",
      "metadata": {
        "id": "Lv6wJzhj5QYW"
      },
      "source": [
        "<font color='1A9BFF'>**Проверка на пропуски**</font>\n",
        "\n"
      ]
    },
    {
      "cell_type": "code",
      "execution_count": 6,
      "metadata": {
        "id": "ab24flex6fHA"
      },
      "outputs": [
        {
          "name": "stdout",
          "output_type": "stream",
          "text": [
            "PassengerId      0\n",
            "Survived         0\n",
            "Pclass           0\n",
            "Name             0\n",
            "Sex              0\n",
            "Age            177\n",
            "SibSp            0\n",
            "Parch            0\n",
            "Ticket           0\n",
            "Fare             0\n",
            "Cabin          687\n",
            "Embarked         2\n",
            "dtype: int64\n"
          ]
        }
      ],
      "source": [
        "# Проверка на пропуски\n",
        "missing_values = df.isnull().sum()\n",
        "print(missing_values)"
      ]
    },
    {
      "cell_type": "markdown",
      "metadata": {
        "id": "ntxnA1ss68cp"
      },
      "source": [
        "><font color='green'>\n",
        "Анализируя пропущенные значения в вашем датасете Titanic, можно сделать следующие выводы:\n",
        "\n",
        "Age: 177 пропущенных значений. Возраст может быть важным признаком для анализа выживаемости. Пропущенные значения можно заполнить средним, медианой, или предсказанными значениями с использованием других признаков (например, с помощью модели регрессии).\n",
        "\n",
        "Cabin: 687 пропущенных значений. Столбец Cabin содержит слишком много пропусков, что делает его менее полезным для анализа. В зависимости от целей анализа можно либо исключить этот столбец, либо попытаться заполнить пропуски, используя информацию из других столбцов, например, разделив номера кают на палубы и анализируя только палубы.\n",
        "\n",
        "Embarked: 2 пропущенных значения (менее 1% данных отсутствуют). Порт посадки также может быть важным признаком для анализа. Пропущенные значения можно легко заполнить самым частым значением (модой) или анализируя другие признаки, такие как класс обслуживания или плата за проезд.\n",
        "</font>\n",
        "\n"
      ]
    },
    {
      "cell_type": "markdown",
      "metadata": {
        "id": "zQaRzShb6vrL"
      },
      "source": [
        "<font color='1A9BFF'>**анализ категориальных переменных**</font>\n",
        "\n"
      ]
    },
    {
      "cell_type": "markdown",
      "metadata": {
        "id": "fRX5j_Mi7EEy"
      },
      "source": [
        "сколько категориальных признаков"
      ]
    },
    {
      "cell_type": "code",
      "execution_count": 7,
      "metadata": {
        "id": "G7v19EeB7H2m"
      },
      "outputs": [
        {
          "name": "stdout",
          "output_type": "stream",
          "text": [
            "Количество категориальных признаков: 5\n"
          ]
        }
      ],
      "source": [
        "categorical_columns = df.select_dtypes(include=['object', 'bool']).columns\n",
        "num_categorical = len(categorical_columns)\n",
        "\n",
        "print(f\"Количество категориальных признаков: {num_categorical}\")"
      ]
    },
    {
      "cell_type": "markdown",
      "metadata": {
        "id": "i1JiZEIN7Isd"
      },
      "source": [
        "Посмотрите на значения категориальных признаков"
      ]
    },
    {
      "cell_type": "code",
      "execution_count": 8,
      "metadata": {
        "id": "yHPZnbSv7NiK"
      },
      "outputs": [
        {
          "name": "stdout",
          "output_type": "stream",
          "text": [
            "\n",
            "Значения признака Name:\n",
            "Braund, Mr. Owen Harris                     1\n",
            "Boulos, Mr. Hanna                           1\n",
            "Frolicher-Stehli, Mr. Maxmillian            1\n",
            "Gilinski, Mr. Eliezer                       1\n",
            "Murdlin, Mr. Joseph                         1\n",
            "                                           ..\n",
            "Kelly, Miss. Anna Katherine \"Annie Kate\"    1\n",
            "McCoy, Mr. Bernard                          1\n",
            "Johnson, Mr. William Cahoone Jr             1\n",
            "Keane, Miss. Nora A                         1\n",
            "Dooley, Mr. Patrick                         1\n",
            "Name: Name, Length: 891, dtype: int64\n",
            "\n",
            "Значения признака Sex:\n",
            "male      577\n",
            "female    314\n",
            "Name: Sex, dtype: int64\n",
            "\n",
            "Значения признака Ticket:\n",
            "347082      7\n",
            "CA. 2343    7\n",
            "1601        7\n",
            "3101295     6\n",
            "CA 2144     6\n",
            "           ..\n",
            "9234        1\n",
            "19988       1\n",
            "2693        1\n",
            "PC 17612    1\n",
            "370376      1\n",
            "Name: Ticket, Length: 681, dtype: int64\n",
            "\n",
            "Значения признака Cabin:\n",
            "B96 B98        4\n",
            "G6             4\n",
            "C23 C25 C27    4\n",
            "C22 C26        3\n",
            "F33            3\n",
            "              ..\n",
            "E34            1\n",
            "C7             1\n",
            "C54            1\n",
            "E36            1\n",
            "C148           1\n",
            "Name: Cabin, Length: 147, dtype: int64\n",
            "\n",
            "Значения признака Embarked:\n",
            "S    644\n",
            "C    168\n",
            "Q     77\n",
            "Name: Embarked, dtype: int64\n"
          ]
        }
      ],
      "source": [
        "for col in categorical_columns:\n",
        "    print(f\"\\nЗначения признака {col}:\")\n",
        "    print(df[col].value_counts())"
      ]
    },
    {
      "cell_type": "markdown",
      "metadata": {
        "id": "8PRfqmNZ7dJA"
      },
      "source": [
        "В модели будем использовать следующие категориальные признаки после их преобразования в числовые (с помощью one-hot encoding): sex, embarked, class, who, deck,embark_town, alive, alone\n",
        "\n",
        "Исключенные признаки:\n",
        "\n",
        "- cabin (из-за большого количества пропусков)\n",
        "- name и ticket (поскольку они не несут значимой информации для классификации в данном контексте)"
      ]
    },
    {
      "cell_type": "markdown",
      "metadata": {
        "id": "Gmh3Izbm7U2Q"
      },
      "source": [
        "><font color='green'>\n",
        "Таким образом, после обработки и преобразования категориальных признаков, мы можем построить и оценить модели KNN, а затем выбрать наилучшую модель на основе метрик качества.\n",
        "</font>\n",
        "\n"
      ]
    },
    {
      "cell_type": "markdown",
      "metadata": {
        "id": "7m0uQUes7ta9"
      },
      "source": [
        "## Подготовка датасета к построению моделей"
      ]
    },
    {
      "cell_type": "markdown",
      "metadata": {
        "id": "lRr6D0A_9-lX"
      },
      "source": [
        "<font color='red'>**! Важно! Все трансформеры обучаем на тренировочной выборке, к тестовой только применяем!**</font>\n",
        "\n"
      ]
    },
    {
      "cell_type": "markdown",
      "metadata": {
        "id": "Pbld6mUe71dF"
      },
      "source": [
        "<font color='1A9BFF'>**Обработка пропусков**</font>\n",
        "\n"
      ]
    },
    {
      "cell_type": "markdown",
      "metadata": {},
      "source": [
        "- Заполнение пропусков в столбце Age: использование среднего или медианного значения возраста.\n",
        "- Обработка столбца Cabin: исключение столбца Cabin из анализа, если он не критичен для вашей задачи, из-за большого количества пропусков.\n",
        "- Заполнение пропусков в столбце Embarked: заполнение пропусков самым частым значением (модой), так как всего 2 пропущенных значения не сильно повлияют на анализ."
      ]
    },
    {
      "cell_type": "code",
      "execution_count": 9,
      "metadata": {
        "id": "ml6ubcd18KdQ"
      },
      "outputs": [
        {
          "name": "stdout",
          "output_type": "stream",
          "text": [
            "<class 'pandas.core.frame.DataFrame'>\n",
            "RangeIndex: 891 entries, 0 to 890\n",
            "Data columns (total 11 columns):\n",
            " #   Column       Non-Null Count  Dtype  \n",
            "---  ------       --------------  -----  \n",
            " 0   PassengerId  891 non-null    int64  \n",
            " 1   Survived     891 non-null    int64  \n",
            " 2   Pclass       891 non-null    int64  \n",
            " 3   Name         891 non-null    object \n",
            " 4   Sex          891 non-null    object \n",
            " 5   Age          891 non-null    float64\n",
            " 6   SibSp        891 non-null    int64  \n",
            " 7   Parch        891 non-null    int64  \n",
            " 8   Ticket       891 non-null    object \n",
            " 9   Fare         891 non-null    float64\n",
            " 10  Embarked     891 non-null    object \n",
            "dtypes: float64(2), int64(5), object(4)\n",
            "memory usage: 76.7+ KB\n",
            "None\n"
          ]
        }
      ],
      "source": [
        "df['Age'].fillna(df['Age'].mean(), inplace=True)\n",
        "df.drop(columns=['Cabin'], inplace=True)\n",
        "df['Embarked'].fillna(df['Embarked'].mode()[0], inplace=True)\n",
        "\n",
        "print(df.info())"
      ]
    },
    {
      "cell_type": "markdown",
      "metadata": {
        "id": "DuBHrTjJ8NLP"
      },
      "source": [
        "<font color='1A9BFF'>**Обработка категориальных признаков**</font>\n",
        "\n"
      ]
    },
    {
      "cell_type": "code",
      "execution_count": 10,
      "metadata": {
        "id": "qC_V3oib8LaS"
      },
      "outputs": [
        {
          "name": "stdout",
          "output_type": "stream",
          "text": [
            "   PassengerId  Survived  Pclass  \\\n",
            "0            1         0       3   \n",
            "1            2         1       1   \n",
            "2            3         1       3   \n",
            "3            4         1       1   \n",
            "4            5         0       3   \n",
            "\n",
            "                                                Name   Age  SibSp  Parch  \\\n",
            "0                            Braund, Mr. Owen Harris  22.0      1      0   \n",
            "1  Cumings, Mrs. John Bradley (Florence Briggs Th...  38.0      1      0   \n",
            "2                             Heikkinen, Miss. Laina  26.0      0      0   \n",
            "3       Futrelle, Mrs. Jacques Heath (Lily May Peel)  35.0      1      0   \n",
            "4                           Allen, Mr. William Henry  35.0      0      0   \n",
            "\n",
            "             Ticket     Fare  Sex_male  Embarked_Q  Embarked_S  \n",
            "0         A/5 21171   7.2500         1           0           1  \n",
            "1          PC 17599  71.2833         0           0           0  \n",
            "2  STON/O2. 3101282   7.9250         0           0           1  \n",
            "3            113803  53.1000         0           0           1  \n",
            "4            373450   8.0500         1           0           1  \n"
          ]
        }
      ],
      "source": [
        "# Преобразование категориальных переменных в числовые с помощью one-hot encoding\n",
        "df = pd.get_dummies(df, columns=['Sex', 'Embarked'], drop_first=True)\n",
        "\n",
        "# Проверка результата\n",
        "print(df.head())"
      ]
    },
    {
      "cell_type": "markdown",
      "metadata": {},
      "source": [
        "## Разделим выборку на тренировочную и тестовую"
      ]
    },
    {
      "cell_type": "code",
      "execution_count": 11,
      "metadata": {},
      "outputs": [],
      "source": [
        "from sklearn.model_selection import train_test_split\n",
        "\n",
        "# Определение признаков и целевой переменной\n",
        "X = df.drop(columns=['Survived', 'Name', 'Ticket'])\n",
        "y = df['Survived']\n",
        "\n",
        "# Разделение данных на обучающую и тестовую выборки\n",
        "X_train, X_test, y_train, y_test = train_test_split(X, y, test_size=0.2, random_state=42)"
      ]
    },
    {
      "cell_type": "markdown",
      "metadata": {
        "id": "u24QZEWd8UJI"
      },
      "source": [
        "## Построение модели knn"
      ]
    },
    {
      "cell_type": "markdown",
      "metadata": {
        "id": "AKepqZcz8aNS"
      },
      "source": [
        "<font color='1A9BFF'>**1. Задайте сетку параметров для параметров: n_neighbors, p**</font>   \n",
        "<font color='1A9BFF'>**2. С помощью gridsearch выберите наилучшие параметры n_neighbors, p**</font>   \n",
        "<font color='1A9BFF'>**3. С помощью кросс-валидации убедитесь, что модель с минимальным переобучением**</font>\n",
        "\n"
      ]
    },
    {
      "cell_type": "code",
      "execution_count": 12,
      "metadata": {
        "id": "W9u40QbC8XVO"
      },
      "outputs": [],
      "source": [
        "# Масштабирование признаков\n",
        "scaler = StandardScaler()\n",
        "X_train_scaled = scaler.fit_transform(X_train)\n",
        "X_test_scaled = scaler.transform(X_test)"
      ]
    },
    {
      "cell_type": "code",
      "execution_count": 13,
      "metadata": {},
      "outputs": [
        {
          "name": "stdout",
          "output_type": "stream",
          "text": [
            "Best parameters: {'n_neighbors': 6, 'p': 2}\n"
          ]
        }
      ],
      "source": [
        "# Определение модели и гиперпараметров для GridSearchCV\n",
        "knn = KNeighborsClassifier()\n",
        "param_grid = {'n_neighbors': range(1, 21, 5), 'p': [1, 2]}\n",
        "\n",
        "grid_search = GridSearchCV(knn, param_grid, cv=5, scoring='accuracy')\n",
        "grid_search.fit(X_train_scaled, y_train)\n",
        "\n",
        "# Оптимальные гиперпараметры\n",
        "print(f\"Best parameters: {grid_search.best_params_}\")\n",
        "\n",
        "# Оценка качества модели на тестовых данных\n",
        "best_knn = grid_search.best_estimator_\n",
        "y_pred_knn = best_knn.predict(X_test_scaled)\n"
      ]
    },
    {
      "cell_type": "code",
      "execution_count": 14,
      "metadata": {},
      "outputs": [
        {
          "name": "stdout",
          "output_type": "stream",
          "text": [
            "Confusion Matrix:\n",
            "[[92 13]\n",
            " [26 48]]\n",
            "Accuracy: 0.7821229050279329\n",
            "Precision: 0.7868852459016393\n",
            "Recall: 0.6486486486486487\n",
            "AUC-ROC: 0.8633204633204633\n"
          ]
        }
      ],
      "source": [
        "from sklearn.metrics import confusion_matrix, accuracy_score, precision_score, recall_score, roc_auc_score, roc_curve\n",
        "\n",
        "# Матрица ошибок\n",
        "conf_matrix = confusion_matrix(y_test, y_pred_knn)\n",
        "print(f\"Confusion Matrix:\\n{conf_matrix}\")\n",
        "\n",
        "# Метрики качества\n",
        "accuracy = accuracy_score(y_test, y_pred_knn)\n",
        "precision = precision_score(y_test, y_pred_knn)\n",
        "recall = recall_score(y_test, y_pred_knn)\n",
        "roc_auc = roc_auc_score(y_test, best_knn.predict_proba(X_test_scaled)[:, 1])\n",
        "\n",
        "print(f\"Accuracy: {accuracy}\")\n",
        "print(f\"Precision: {precision}\")\n",
        "print(f\"Recall: {recall}\")\n",
        "print(f\"AUC-ROC: {roc_auc}\")"
      ]
    },
    {
      "cell_type": "code",
      "execution_count": 15,
      "metadata": {},
      "outputs": [
        {
          "name": "stdout",
          "output_type": "stream",
          "text": [
            "Cross-validation scores: [0.81818182 0.81818182 0.82394366 0.79577465 0.82394366]\n",
            "Mean CV accuracy: 0.8160051216389246\n"
          ]
        }
      ],
      "source": [
        "\n",
        "cv_scores = cross_val_score(best_knn, X_train_scaled, y_train, cv=5, scoring='accuracy')\n",
        "print(f\"Cross-validation scores: {cv_scores}\")\n",
        "print(f\"Mean CV accuracy: {cv_scores.mean()}\")"
      ]
    },
    {
      "cell_type": "code",
      "execution_count": 16,
      "metadata": {},
      "outputs": [
        {
          "name": "stdout",
          "output_type": "stream",
          "text": [
            "Confusion Matrix:\n",
            "[[92 13]\n",
            " [26 48]]\n",
            "Accuracy: 0.7821229050279329\n",
            "Precision: 0.7868852459016393\n",
            "Recall: 0.6486486486486487\n",
            "AUC-ROC: 0.8633204633204633\n"
          ]
        }
      ],
      "source": [
        "# Матрица ошибок\n",
        "conf_matrix = confusion_matrix(y_test, y_pred_knn)\n",
        "print(f\"Confusion Matrix:\\n{conf_matrix}\")\n",
        "\n",
        "# Метрики качества\n",
        "accuracy = accuracy_score(y_test, y_pred_knn)\n",
        "precision = precision_score(y_test, y_pred_knn)\n",
        "recall = recall_score(y_test, y_pred_knn)\n",
        "roc_auc = roc_auc_score(y_test, best_knn.predict_proba(X_test_scaled)[:, 1])\n",
        "\n",
        "print(f\"Accuracy: {accuracy}\")\n",
        "print(f\"Precision: {precision}\")\n",
        "print(f\"Recall: {recall}\")\n",
        "print(f\"AUC-ROC: {roc_auc}\")"
      ]
    },
    {
      "cell_type": "markdown",
      "metadata": {
        "id": "tM5SNIZXbSEF"
      },
      "source": [
        "## Построение модели логистическая регрессия"
      ]
    },
    {
      "cell_type": "markdown",
      "metadata": {
        "id": "2xd9X4FJbWm8"
      },
      "source": [
        "<font color='1A9BFF'>**1. Задайте сетку параметров для параметров: тип регуляризации, параметр регуляризации**</font>   \n",
        "<font color='1A9BFF'>**2. С помощью gridsearch выберите наилучшие параметров**</font>   \n",
        "<font color='1A9BFF'>**3. С помощью кросс-валидации убедитесь, что модель с минимальным переобучением**</font>\n",
        "\n"
      ]
    },
    {
      "cell_type": "code",
      "execution_count": 17,
      "metadata": {
        "id": "xfIWxbzibe7E"
      },
      "outputs": [
        {
          "name": "stdout",
          "output_type": "stream",
          "text": [
            "Best parameters for Logistic Regression: {'logreg__C': 0.1, 'logreg__penalty': 'l2'}\n"
          ]
        }
      ],
      "source": [
        "\n",
        "# Определение модели и гиперпараметров для GridSearchCV\n",
        "logreg = LogisticRegression(solver='liblinear')\n",
        "param_grid = {'logreg__C': [0.001, 0.01, 0.1, 1, 10, 100], 'logreg__penalty': ['l1', 'l2']}\n",
        "\n",
        "pipeline = Pipeline([\n",
        "    ('scaler', StandardScaler()),\n",
        "    ('logreg', logreg)\n",
        "])\n",
        "\n",
        "grid_search_logreg = GridSearchCV(pipeline, param_grid, cv=5, scoring='accuracy')\n",
        "grid_search_logreg.fit(X_train, y_train)\n",
        "\n",
        "# Оптимальные гиперпараметры\n",
        "print(f\"Best parameters for Logistic Regression: {grid_search_logreg.best_params_}\")"
      ]
    },
    {
      "cell_type": "markdown",
      "metadata": {
        "id": "dAKWcu8Y9SfX"
      },
      "source": [
        "## Оценка качества  моделей и выбор наилучшей"
      ]
    },
    {
      "cell_type": "markdown",
      "metadata": {
        "id": "-PazUVIU9WgI"
      },
      "source": [
        "\n",
        "\n",
        "<font color='1A9BFF'>**Посчитайте метрики качества: матрицу ошибок, accuracy, precision, recall, AUC ROC**</font>   "
      ]
    },
    {
      "cell_type": "code",
      "execution_count": 18,
      "metadata": {
        "id": "D7hyDvmp9gvY"
      },
      "outputs": [
        {
          "name": "stdout",
          "output_type": "stream",
          "text": [
            "Logistic Regression - Confusion Matrix:\n",
            "[[89 16]\n",
            " [19 55]]\n",
            "Logistic Regression - Accuracy: 0.8044692737430168\n",
            "Logistic Regression - Precision: 0.7746478873239436\n",
            "Logistic Regression - Recall: 0.7432432432432432\n",
            "Logistic Regression - AUC-ROC: 0.8752895752895752\n"
          ]
        }
      ],
      "source": [
        "# Оценка качества модели на тестовых данных\n",
        "best_logreg = grid_search_logreg.best_estimator_\n",
        "y_pred_logreg = best_logreg.predict(X_test)\n",
        "\n",
        "# Метрики качества\n",
        "conf_matrix_logreg = confusion_matrix(y_test, y_pred_logreg)\n",
        "accuracy_logreg = accuracy_score(y_test, y_pred_logreg)\n",
        "precision_logreg = precision_score(y_test, y_pred_logreg)\n",
        "recall_logreg = recall_score(y_test, y_pred_logreg)\n",
        "roc_auc_logreg = roc_auc_score(y_test, best_logreg.predict_proba(X_test)[:, 1])\n",
        "\n",
        "print(f\"Logistic Regression - Confusion Matrix:\\n{conf_matrix_logreg}\")\n",
        "print(f\"Logistic Regression - Accuracy: {accuracy_logreg}\")\n",
        "print(f\"Logistic Regression - Precision: {precision_logreg}\")\n",
        "print(f\"Logistic Regression - Recall: {recall_logreg}\")\n",
        "print(f\"Logistic Regression - AUC-ROC: {roc_auc_logreg}\")"
      ]
    },
    {
      "cell_type": "markdown",
      "metadata": {
        "id": "h48TGrZc_cme"
      },
      "source": [
        "\n",
        "<font color='1A9BFF'>**постройте график ROC кривой**</font>   "
      ]
    },
    {
      "cell_type": "code",
      "execution_count": 19,
      "metadata": {
        "id": "MEz6vr3V_iA6"
      },
      "outputs": [
        {
          "data": {
            "image/png": "[encoded data removed]",
            "text/plain": [
              "<Figure size 800x600 with 1 Axes>"
            ]
          },
          "metadata": {},
          "output_type": "display_data"
        }
      ],
      "source": [
        "import matplotlib.pyplot as plt\n",
        "from sklearn.metrics import roc_curve\n",
        "\n",
        "# Получение предсказанных вероятностей для логистической регрессии\n",
        "y_pred_proba_logreg = best_logreg.predict_proba(X_test)[:, 1]\n",
        "\n",
        "# Построение ROC-кривой\n",
        "fpr, tpr, _ = roc_curve(y_test, y_pred_proba_logreg)\n",
        "\n",
        "plt.figure(figsize=(8, 6))\n",
        "plt.plot(fpr, tpr, label='Logistic Regression (AUC = {:.2f})'.format(roc_auc_logreg))\n",
        "plt.plot([0, 1], [0, 1], linestyle='--', color='gray')\n",
        "plt.xlabel('False Positive Rate')\n",
        "plt.ylabel('True Positive Rate')\n",
        "plt.title('ROC Curve')\n",
        "plt.legend(loc='best')\n",
        "plt.show()\n"
      ]
    },
    {
      "cell_type": "markdown",
      "metadata": {
        "id": "nfaXtGMIb1T0"
      },
      "source": [
        "<font color='1A9BFF'>**Сравните модель knn и модель логистическая регрессия, выберите наилучшую и сделайте выводы**</font>   \n",
        "\n"
      ]
    },
    {
      "cell_type": "markdown",
      "metadata": {
        "id": "6HVDYe0b9idw"
      },
      "source": [
        "><font color='green'>\n",
        "\n",
        "Выводы\n",
        "- Accuracy: Логистическая регрессия имеет более высокое значение accuracy (0.804) по сравнению с KNN (0.782).\n",
        "- Precision: KNN немного превосходит логистическую регрессию по precision (0.787 против 0.775), что означает, что KNN лучше распознает положительные классы среди всех предсказанных положительных классов.\n",
        "- Recall: Логистическая регрессия имеет более высокое значение recall (0.743), что означает, что она лучше захватывает все истинные положительные классы по сравнению с KNN (0.649).\n",
        "- AUC-ROC: Логистическая регрессия имеет более высокое значение AUC-ROC (0.875), что указывает на лучшую общую производительность модели по сравнению с KNN (0.863).\n",
        "\n",
        "Итог: исходя из предоставленных метрик, логистическая регрессия показывает лучшую общую производительность по сравнению с моделью KNN. Она демонстрирует более высокие значения accuracy, recall и AUC-ROC, что делает ее предпочтительной моделью для данной задачи.\n",
        "</font>\n",
        "\n"
      ]
    }
  ],
  "metadata": {
    "colab": {
      "provenance": []
    },
    "kernelspec": {
      "display_name": "Python 3",
      "name": "python3"
    },
    "language_info": {
      "codemirror_mode": {
        "name": "ipython",
        "version": 3
      },
      "file_extension": ".py",
      "mimetype": "text/x-python",
      "name": "python",
      "nbconvert_exporter": "python",
      "pygments_lexer": "ipython3",
      "version": "3.11.1"
    }
  },
  "nbformat": 4,
  "nbformat_minor": 0
}
