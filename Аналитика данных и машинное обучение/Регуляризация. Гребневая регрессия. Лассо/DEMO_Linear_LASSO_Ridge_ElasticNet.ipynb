{
  "cells": [
    {
      "cell_type": "code",
      "execution_count": 1,
      "metadata": {
        "id": "voSAalzOGKJh"
      },
      "outputs": [],
      "source": [
        "# Импорт библиотек\n",
        "import numpy as np\n",
        "import pandas as pd\n",
        "\n",
        "import plotly.graph_objects as go\n",
        "import matplotlib.pyplot as plt\n",
        "import seaborn as sns\n",
        "\n",
        "from sklearn.datasets import make_regression\n",
        "from sklearn.model_selection import train_test_split\n",
        "from sklearn.linear_model import LinearRegression, Lasso, Ridge\n",
        "from sklearn.preprocessing import StandardScaler\n",
        "from sklearn.metrics import mean_absolute_error, mean_squared_error\n"
      ]
    },
    {
      "cell_type": "markdown",
      "metadata": {
        "id": "2IWAaxAqqUSo"
      },
      "source": [
        "# Данные для регрессии"
      ]
    },
    {
      "cell_type": "code",
      "execution_count": 2,
      "metadata": {
        "colab": {
          "base_uri": "https://localhost:8080/"
        },
        "id": "f6EB3rbwlkmy",
        "outputId": "56fabac0-5716-4ea7-dd00-a2dbfb825272"
      },
      "outputs": [
        {
          "name": "stdout",
          "output_type": "stream",
          "text": [
            "Downloading...\n",
            "From: https://drive.google.com/uc?id=1WbpJZBk-e-Y8KC-WtWzvJuLcEWwYd3qn\n",
            "To: /content/sample.csv\n",
            "\r  0% 0.00/627k [00:00<?, ?B/s]\r100% 627k/627k [00:00<00:00, 17.5MB/s]\n"
          ]
        }
      ],
      "source": [
        "!gdown 1WbpJZBk-e-Y8KC-WtWzvJuLcEWwYd3qn\n",
        "df = pd.read_csv('/content/sample.csv')\n",
        "try:\n",
        "  df = df.drop(columns='Unnamed: 0')\n",
        "  df.head()\n",
        "except:\n",
        "  df.head()"
      ]
    },
    {
      "cell_type": "code",
      "execution_count": 3,
      "metadata": {
        "colab": {
          "base_uri": "https://localhost:8080/",
          "height": 206
        },
        "id": "mBTqOfDopCmb",
        "outputId": "3f119116-2e35-490d-d289-bee00cdecc8f"
      },
      "outputs": [
        {
          "data": {
            "application/vnd.google.colaboratory.intrinsic+json": {
              "summary": "{\n  \"name\": \"df\",\n  \"rows\": 10000,\n  \"fields\": [\n    {\n      \"column\": \"feature1\",\n      \"properties\": {\n        \"dtype\": \"number\",\n        \"std\": 0.9876059497081754,\n        \"min\": -3.740100637951779,\n        \"max\": 3.8016602149671153,\n        \"num_unique_values\": 10000,\n        \"samples\": [\n          -1.0093409873804438,\n          -0.6120365364668351,\n          -1.040599230085145\n        ],\n        \"semantic_type\": \"\",\n        \"description\": \"\"\n      }\n    },\n    {\n      \"column\": \"feature_new\",\n      \"properties\": {\n        \"dtype\": \"number\",\n        \"std\": 1.99612644642098,\n        \"min\": -6.7001403526853895,\n        \"max\": 7.788461314976266,\n        \"num_unique_values\": 10000,\n        \"samples\": [\n          -1.6387724299367672,\n          -1.1403489398247602,\n          -1.7581548755516876\n        ],\n        \"semantic_type\": \"\",\n        \"description\": \"\"\n      }\n    },\n    {\n      \"column\": \"y\",\n      \"properties\": {\n        \"dtype\": \"number\",\n        \"std\": 100.43746536289203,\n        \"min\": -366.83243761401,\n        \"max\": 417.1182324697375,\n        \"num_unique_values\": 10000,\n        \"samples\": [\n          -71.39937232133593,\n          121.48093424058544,\n          176.7132235310773\n        ],\n        \"semantic_type\": \"\",\n        \"description\": \"\"\n      }\n    }\n  ]\n}",
              "type": "dataframe",
              "variable_name": "df"
            },
            "text/html": [
              "\n",
              "  <div id=\"df-d89f22d1-79a7-4a79-922b-4918e1890b97\" class=\"colab-df-container\">\n",
              "    <div>\n",
              "<style scoped>\n",
              "    .dataframe tbody tr th:only-of-type {\n",
              "        vertical-align: middle;\n",
              "    }\n",
              "\n",
              "    .dataframe tbody tr th {\n",
              "        vertical-align: top;\n",
              "    }\n",
              "\n",
              "    .dataframe thead th {\n",
              "        text-align: right;\n",
              "    }\n",
              "</style>\n",
              "<table border=\"1\" class=\"dataframe\">\n",
              "  <thead>\n",
              "    <tr style=\"text-align: right;\">\n",
              "      <th></th>\n",
              "      <th>feature1</th>\n",
              "      <th>feature_new</th>\n",
              "      <th>y</th>\n",
              "    </tr>\n",
              "  </thead>\n",
              "  <tbody>\n",
              "    <tr>\n",
              "      <th>0</th>\n",
              "      <td>0.582624</td>\n",
              "      <td>1.515718</td>\n",
              "      <td>34.361468</td>\n",
              "    </tr>\n",
              "    <tr>\n",
              "      <th>1</th>\n",
              "      <td>-1.310930</td>\n",
              "      <td>-1.763046</td>\n",
              "      <td>-110.037744</td>\n",
              "    </tr>\n",
              "    <tr>\n",
              "      <th>2</th>\n",
              "      <td>-0.762516</td>\n",
              "      <td>-1.398488</td>\n",
              "      <td>161.519668</td>\n",
              "    </tr>\n",
              "    <tr>\n",
              "      <th>3</th>\n",
              "      <td>0.177450</td>\n",
              "      <td>0.920545</td>\n",
              "      <td>2.619852</td>\n",
              "    </tr>\n",
              "    <tr>\n",
              "      <th>4</th>\n",
              "      <td>-1.306872</td>\n",
              "      <td>-2.471682</td>\n",
              "      <td>81.517359</td>\n",
              "    </tr>\n",
              "  </tbody>\n",
              "</table>\n",
              "</div>\n",
              "    <div class=\"colab-df-buttons\">\n",
              "\n",
              "  <div class=\"colab-df-container\">\n",
              "    <button class=\"colab-df-convert\" onclick=\"convertToInteractive('df-d89f22d1-79a7-4a79-922b-4918e1890b97')\"\n",
              "            title=\"Convert this dataframe to an interactive table.\"\n",
              "            style=\"display:none;\">\n",
              "\n",
              "  <svg xmlns=\"http://www.w3.org/2000/svg\" height=\"24px\" viewBox=\"0 -960 960 960\">\n",
              "    <path d=\"M120-120v-720h720v720H120Zm60-500h600v-160H180v160Zm220 220h160v-160H400v160Zm0 220h160v-160H400v160ZM180-400h160v-160H180v160Zm440 0h160v-160H620v160ZM180-180h160v-160H180v160Zm440 0h160v-160H620v160Z\"/>\n",
              "  </svg>\n",
              "    </button>\n",
              "\n",
              "  <style>\n",
              "    .colab-df-container {\n",
              "      display:flex;\n",
              "      gap: 12px;\n",
              "    }\n",
              "\n",
              "    .colab-df-convert {\n",
              "      background-color: #E8F0FE;\n",
              "      border: none;\n",
              "      border-radius: 50%;\n",
              "      cursor: pointer;\n",
              "      display: none;\n",
              "      fill: #1967D2;\n",
              "      height: 32px;\n",
              "      padding: 0 0 0 0;\n",
              "      width: 32px;\n",
              "    }\n",
              "\n",
              "    .colab-df-convert:hover {\n",
              "      background-color: #E2EBFA;\n",
              "      box-shadow: 0px 1px 2px rgba(60, 64, 67, 0.3), 0px 1px 3px 1px rgba(60, 64, 67, 0.15);\n",
              "      fill: #174EA6;\n",
              "    }\n",
              "\n",
              "    .colab-df-buttons div {\n",
              "      margin-bottom: 4px;\n",
              "    }\n",
              "\n",
              "    [theme=dark] .colab-df-convert {\n",
              "      background-color: #3B4455;\n",
              "      fill: #D2E3FC;\n",
              "    }\n",
              "\n",
              "    [theme=dark] .colab-df-convert:hover {\n",
              "      background-color: #434B5C;\n",
              "      box-shadow: 0px 1px 3px 1px rgba(0, 0, 0, 0.15);\n",
              "      filter: drop-shadow(0px 1px 2px rgba(0, 0, 0, 0.3));\n",
              "      fill: #FFFFFF;\n",
              "    }\n",
              "  </style>\n",
              "\n",
              "    <script>\n",
              "      const buttonEl =\n",
              "        document.querySelector('#df-d89f22d1-79a7-4a79-922b-4918e1890b97 button.colab-df-convert');\n",
              "      buttonEl.style.display =\n",
              "        google.colab.kernel.accessAllowed ? 'block' : 'none';\n",
              "\n",
              "      async function convertToInteractive(key) {\n",
              "        const element = document.querySelector('#df-d89f22d1-79a7-4a79-922b-4918e1890b97');\n",
              "        const dataTable =\n",
              "          await google.colab.kernel.invokeFunction('convertToInteractive',\n",
              "                                                    [key], {});\n",
              "        if (!dataTable) return;\n",
              "\n",
              "        const docLinkHtml = 'Like what you see? Visit the ' +\n",
              "          '<a target=\"_blank\" href=https://colab.research.google.com/notebooks/data_table.ipynb>data table notebook</a>'\n",
              "          + ' to learn more about interactive tables.';\n",
              "        element.innerHTML = '';\n",
              "        dataTable['output_type'] = 'display_data';\n",
              "        await google.colab.output.renderOutput(dataTable, element);\n",
              "        const docLink = document.createElement('div');\n",
              "        docLink.innerHTML = docLinkHtml;\n",
              "        element.appendChild(docLink);\n",
              "      }\n",
              "    </script>\n",
              "  </div>\n",
              "\n",
              "\n",
              "<div id=\"df-a173a86d-0194-4837-8556-109a17e51058\">\n",
              "  <button class=\"colab-df-quickchart\" onclick=\"quickchart('df-a173a86d-0194-4837-8556-109a17e51058')\"\n",
              "            title=\"Suggest charts\"\n",
              "            style=\"display:none;\">\n",
              "\n",
              "<svg xmlns=\"http://www.w3.org/2000/svg\" height=\"24px\"viewBox=\"0 0 24 24\"\n",
              "     width=\"24px\">\n",
              "    <g>\n",
              "        <path d=\"M19 3H5c-1.1 0-2 .9-2 2v14c0 1.1.9 2 2 2h14c1.1 0 2-.9 2-2V5c0-1.1-.9-2-2-2zM9 17H7v-7h2v7zm4 0h-2V7h2v10zm4 0h-2v-4h2v4z\"/>\n",
              "    </g>\n",
              "</svg>\n",
              "  </button>\n",
              "\n",
              "<style>\n",
              "  .colab-df-quickchart {\n",
              "      --bg-color: #E8F0FE;\n",
              "      --fill-color: #1967D2;\n",
              "      --hover-bg-color: #E2EBFA;\n",
              "      --hover-fill-color: #174EA6;\n",
              "      --disabled-fill-color: #AAA;\n",
              "      --disabled-bg-color: #DDD;\n",
              "  }\n",
              "\n",
              "  [theme=dark] .colab-df-quickchart {\n",
              "      --bg-color: #3B4455;\n",
              "      --fill-color: #D2E3FC;\n",
              "      --hover-bg-color: #434B5C;\n",
              "      --hover-fill-color: #FFFFFF;\n",
              "      --disabled-bg-color: #3B4455;\n",
              "      --disabled-fill-color: #666;\n",
              "  }\n",
              "\n",
              "  .colab-df-quickchart {\n",
              "    background-color: var(--bg-color);\n",
              "    border: none;\n",
              "    border-radius: 50%;\n",
              "    cursor: pointer;\n",
              "    display: none;\n",
              "    fill: var(--fill-color);\n",
              "    height: 32px;\n",
              "    padding: 0;\n",
              "    width: 32px;\n",
              "  }\n",
              "\n",
              "  .colab-df-quickchart:hover {\n",
              "    background-color: var(--hover-bg-color);\n",
              "    box-shadow: 0 1px 2px rgba(60, 64, 67, 0.3), 0 1px 3px 1px rgba(60, 64, 67, 0.15);\n",
              "    fill: var(--button-hover-fill-color);\n",
              "  }\n",
              "\n",
              "  .colab-df-quickchart-complete:disabled,\n",
              "  .colab-df-quickchart-complete:disabled:hover {\n",
              "    background-color: var(--disabled-bg-color);\n",
              "    fill: var(--disabled-fill-color);\n",
              "    box-shadow: none;\n",
              "  }\n",
              "\n",
              "  .colab-df-spinner {\n",
              "    border: 2px solid var(--fill-color);\n",
              "    border-color: transparent;\n",
              "    border-bottom-color: var(--fill-color);\n",
              "    animation:\n",
              "      spin 1s steps(1) infinite;\n",
              "  }\n",
              "\n",
              "  @keyframes spin {\n",
              "    0% {\n",
              "      border-color: transparent;\n",
              "      border-bottom-color: var(--fill-color);\n",
              "      border-left-color: var(--fill-color);\n",
              "    }\n",
              "    20% {\n",
              "      border-color: transparent;\n",
              "      border-left-color: var(--fill-color);\n",
              "      border-top-color: var(--fill-color);\n",
              "    }\n",
              "    30% {\n",
              "      border-color: transparent;\n",
              "      border-left-color: var(--fill-color);\n",
              "      border-top-color: var(--fill-color);\n",
              "      border-right-color: var(--fill-color);\n",
              "    }\n",
              "    40% {\n",
              "      border-color: transparent;\n",
              "      border-right-color: var(--fill-color);\n",
              "      border-top-color: var(--fill-color);\n",
              "    }\n",
              "    60% {\n",
              "      border-color: transparent;\n",
              "      border-right-color: var(--fill-color);\n",
              "    }\n",
              "    80% {\n",
              "      border-color: transparent;\n",
              "      border-right-color: var(--fill-color);\n",
              "      border-bottom-color: var(--fill-color);\n",
              "    }\n",
              "    90% {\n",
              "      border-color: transparent;\n",
              "      border-bottom-color: var(--fill-color);\n",
              "    }\n",
              "  }\n",
              "</style>\n",
              "\n",
              "  <script>\n",
              "    async function quickchart(key) {\n",
              "      const quickchartButtonEl =\n",
              "        document.querySelector('#' + key + ' button');\n",
              "      quickchartButtonEl.disabled = true;  // To prevent multiple clicks.\n",
              "      quickchartButtonEl.classList.add('colab-df-spinner');\n",
              "      try {\n",
              "        const charts = await google.colab.kernel.invokeFunction(\n",
              "            'suggestCharts', [key], {});\n",
              "      } catch (error) {\n",
              "        console.error('Error during call to suggestCharts:', error);\n",
              "      }\n",
              "      quickchartButtonEl.classList.remove('colab-df-spinner');\n",
              "      quickchartButtonEl.classList.add('colab-df-quickchart-complete');\n",
              "    }\n",
              "    (() => {\n",
              "      let quickchartButtonEl =\n",
              "        document.querySelector('#df-a173a86d-0194-4837-8556-109a17e51058 button');\n",
              "      quickchartButtonEl.style.display =\n",
              "        google.colab.kernel.accessAllowed ? 'block' : 'none';\n",
              "    })();\n",
              "  </script>\n",
              "</div>\n",
              "    </div>\n",
              "  </div>\n"
            ],
            "text/plain": [
              "   feature1  feature_new           y\n",
              "0  0.582624     1.515718   34.361468\n",
              "1 -1.310930    -1.763046 -110.037744\n",
              "2 -0.762516    -1.398488  161.519668\n",
              "3  0.177450     0.920545    2.619852\n",
              "4 -1.306872    -2.471682   81.517359"
            ]
          },
          "execution_count": 3,
          "metadata": {},
          "output_type": "execute_result"
        }
      ],
      "source": [
        "df.head()"
      ]
    },
    {
      "cell_type": "code",
      "execution_count": 4,
      "metadata": {
        "colab": {
          "base_uri": "https://localhost:8080/",
          "height": 206
        },
        "id": "Py4sqiC7R3n6",
        "outputId": "05567e63-fa75-4ece-da06-a66745fe24db"
      },
      "outputs": [
        {
          "data": {
            "application/vnd.google.colaboratory.intrinsic+json": {
              "summary": "{\n  \"name\": \"df\",\n  \"rows\": 10000,\n  \"fields\": [\n    {\n      \"column\": \"feature1\",\n      \"properties\": {\n        \"dtype\": \"number\",\n        \"std\": 0.9876059497081754,\n        \"min\": -3.740100637951779,\n        \"max\": 3.8016602149671153,\n        \"num_unique_values\": 10000,\n        \"samples\": [\n          -1.0093409873804438,\n          -0.6120365364668351,\n          -1.040599230085145\n        ],\n        \"semantic_type\": \"\",\n        \"description\": \"\"\n      }\n    },\n    {\n      \"column\": \"feature_new\",\n      \"properties\": {\n        \"dtype\": \"number\",\n        \"std\": 1.99612644642098,\n        \"min\": -6.7001403526853895,\n        \"max\": 7.788461314976266,\n        \"num_unique_values\": 10000,\n        \"samples\": [\n          -1.6387724299367672,\n          -1.1403489398247602,\n          -1.7581548755516876\n        ],\n        \"semantic_type\": \"\",\n        \"description\": \"\"\n      }\n    },\n    {\n      \"column\": \"y\",\n      \"properties\": {\n        \"dtype\": \"number\",\n        \"std\": 100.43746536289203,\n        \"min\": -366.83243761401,\n        \"max\": 417.1182324697375,\n        \"num_unique_values\": 10000,\n        \"samples\": [\n          -71.39937232133593,\n          121.48093424058544,\n          176.7132235310773\n        ],\n        \"semantic_type\": \"\",\n        \"description\": \"\"\n      }\n    }\n  ]\n}",
              "type": "dataframe",
              "variable_name": "df"
            },
            "text/html": [
              "\n",
              "  <div id=\"df-3c9cbe26-e7ff-4508-aa28-33ee961df5c8\" class=\"colab-df-container\">\n",
              "    <div>\n",
              "<style scoped>\n",
              "    .dataframe tbody tr th:only-of-type {\n",
              "        vertical-align: middle;\n",
              "    }\n",
              "\n",
              "    .dataframe tbody tr th {\n",
              "        vertical-align: top;\n",
              "    }\n",
              "\n",
              "    .dataframe thead th {\n",
              "        text-align: right;\n",
              "    }\n",
              "</style>\n",
              "<table border=\"1\" class=\"dataframe\">\n",
              "  <thead>\n",
              "    <tr style=\"text-align: right;\">\n",
              "      <th></th>\n",
              "      <th>feature1</th>\n",
              "      <th>feature_new</th>\n",
              "      <th>y</th>\n",
              "    </tr>\n",
              "  </thead>\n",
              "  <tbody>\n",
              "    <tr>\n",
              "      <th>0</th>\n",
              "      <td>0.582624</td>\n",
              "      <td>1.515718</td>\n",
              "      <td>34.361468</td>\n",
              "    </tr>\n",
              "    <tr>\n",
              "      <th>1</th>\n",
              "      <td>-1.310930</td>\n",
              "      <td>-1.763046</td>\n",
              "      <td>-110.037744</td>\n",
              "    </tr>\n",
              "    <tr>\n",
              "      <th>2</th>\n",
              "      <td>-0.762516</td>\n",
              "      <td>-1.398488</td>\n",
              "      <td>161.519668</td>\n",
              "    </tr>\n",
              "    <tr>\n",
              "      <th>3</th>\n",
              "      <td>0.177450</td>\n",
              "      <td>0.920545</td>\n",
              "      <td>2.619852</td>\n",
              "    </tr>\n",
              "    <tr>\n",
              "      <th>4</th>\n",
              "      <td>-1.306872</td>\n",
              "      <td>-2.471682</td>\n",
              "      <td>81.517359</td>\n",
              "    </tr>\n",
              "  </tbody>\n",
              "</table>\n",
              "</div>\n",
              "    <div class=\"colab-df-buttons\">\n",
              "\n",
              "  <div class=\"colab-df-container\">\n",
              "    <button class=\"colab-df-convert\" onclick=\"convertToInteractive('df-3c9cbe26-e7ff-4508-aa28-33ee961df5c8')\"\n",
              "            title=\"Convert this dataframe to an interactive table.\"\n",
              "            style=\"display:none;\">\n",
              "\n",
              "  <svg xmlns=\"http://www.w3.org/2000/svg\" height=\"24px\" viewBox=\"0 -960 960 960\">\n",
              "    <path d=\"M120-120v-720h720v720H120Zm60-500h600v-160H180v160Zm220 220h160v-160H400v160Zm0 220h160v-160H400v160ZM180-400h160v-160H180v160Zm440 0h160v-160H620v160ZM180-180h160v-160H180v160Zm440 0h160v-160H620v160Z\"/>\n",
              "  </svg>\n",
              "    </button>\n",
              "\n",
              "  <style>\n",
              "    .colab-df-container {\n",
              "      display:flex;\n",
              "      gap: 12px;\n",
              "    }\n",
              "\n",
              "    .colab-df-convert {\n",
              "      background-color: #E8F0FE;\n",
              "      border: none;\n",
              "      border-radius: 50%;\n",
              "      cursor: pointer;\n",
              "      display: none;\n",
              "      fill: #1967D2;\n",
              "      height: 32px;\n",
              "      padding: 0 0 0 0;\n",
              "      width: 32px;\n",
              "    }\n",
              "\n",
              "    .colab-df-convert:hover {\n",
              "      background-color: #E2EBFA;\n",
              "      box-shadow: 0px 1px 2px rgba(60, 64, 67, 0.3), 0px 1px 3px 1px rgba(60, 64, 67, 0.15);\n",
              "      fill: #174EA6;\n",
              "    }\n",
              "\n",
              "    .colab-df-buttons div {\n",
              "      margin-bottom: 4px;\n",
              "    }\n",
              "\n",
              "    [theme=dark] .colab-df-convert {\n",
              "      background-color: #3B4455;\n",
              "      fill: #D2E3FC;\n",
              "    }\n",
              "\n",
              "    [theme=dark] .colab-df-convert:hover {\n",
              "      background-color: #434B5C;\n",
              "      box-shadow: 0px 1px 3px 1px rgba(0, 0, 0, 0.15);\n",
              "      filter: drop-shadow(0px 1px 2px rgba(0, 0, 0, 0.3));\n",
              "      fill: #FFFFFF;\n",
              "    }\n",
              "  </style>\n",
              "\n",
              "    <script>\n",
              "      const buttonEl =\n",
              "        document.querySelector('#df-3c9cbe26-e7ff-4508-aa28-33ee961df5c8 button.colab-df-convert');\n",
              "      buttonEl.style.display =\n",
              "        google.colab.kernel.accessAllowed ? 'block' : 'none';\n",
              "\n",
              "      async function convertToInteractive(key) {\n",
              "        const element = document.querySelector('#df-3c9cbe26-e7ff-4508-aa28-33ee961df5c8');\n",
              "        const dataTable =\n",
              "          await google.colab.kernel.invokeFunction('convertToInteractive',\n",
              "                                                    [key], {});\n",
              "        if (!dataTable) return;\n",
              "\n",
              "        const docLinkHtml = 'Like what you see? Visit the ' +\n",
              "          '<a target=\"_blank\" href=https://colab.research.google.com/notebooks/data_table.ipynb>data table notebook</a>'\n",
              "          + ' to learn more about interactive tables.';\n",
              "        element.innerHTML = '';\n",
              "        dataTable['output_type'] = 'display_data';\n",
              "        await google.colab.output.renderOutput(dataTable, element);\n",
              "        const docLink = document.createElement('div');\n",
              "        docLink.innerHTML = docLinkHtml;\n",
              "        element.appendChild(docLink);\n",
              "      }\n",
              "    </script>\n",
              "  </div>\n",
              "\n",
              "\n",
              "<div id=\"df-4e52b44c-c53b-4d0e-8f1b-b0fa4204a17a\">\n",
              "  <button class=\"colab-df-quickchart\" onclick=\"quickchart('df-4e52b44c-c53b-4d0e-8f1b-b0fa4204a17a')\"\n",
              "            title=\"Suggest charts\"\n",
              "            style=\"display:none;\">\n",
              "\n",
              "<svg xmlns=\"http://www.w3.org/2000/svg\" height=\"24px\"viewBox=\"0 0 24 24\"\n",
              "     width=\"24px\">\n",
              "    <g>\n",
              "        <path d=\"M19 3H5c-1.1 0-2 .9-2 2v14c0 1.1.9 2 2 2h14c1.1 0 2-.9 2-2V5c0-1.1-.9-2-2-2zM9 17H7v-7h2v7zm4 0h-2V7h2v10zm4 0h-2v-4h2v4z\"/>\n",
              "    </g>\n",
              "</svg>\n",
              "  </button>\n",
              "\n",
              "<style>\n",
              "  .colab-df-quickchart {\n",
              "      --bg-color: #E8F0FE;\n",
              "      --fill-color: #1967D2;\n",
              "      --hover-bg-color: #E2EBFA;\n",
              "      --hover-fill-color: #174EA6;\n",
              "      --disabled-fill-color: #AAA;\n",
              "      --disabled-bg-color: #DDD;\n",
              "  }\n",
              "\n",
              "  [theme=dark] .colab-df-quickchart {\n",
              "      --bg-color: #3B4455;\n",
              "      --fill-color: #D2E3FC;\n",
              "      --hover-bg-color: #434B5C;\n",
              "      --hover-fill-color: #FFFFFF;\n",
              "      --disabled-bg-color: #3B4455;\n",
              "      --disabled-fill-color: #666;\n",
              "  }\n",
              "\n",
              "  .colab-df-quickchart {\n",
              "    background-color: var(--bg-color);\n",
              "    border: none;\n",
              "    border-radius: 50%;\n",
              "    cursor: pointer;\n",
              "    display: none;\n",
              "    fill: var(--fill-color);\n",
              "    height: 32px;\n",
              "    padding: 0;\n",
              "    width: 32px;\n",
              "  }\n",
              "\n",
              "  .colab-df-quickchart:hover {\n",
              "    background-color: var(--hover-bg-color);\n",
              "    box-shadow: 0 1px 2px rgba(60, 64, 67, 0.3), 0 1px 3px 1px rgba(60, 64, 67, 0.15);\n",
              "    fill: var(--button-hover-fill-color);\n",
              "  }\n",
              "\n",
              "  .colab-df-quickchart-complete:disabled,\n",
              "  .colab-df-quickchart-complete:disabled:hover {\n",
              "    background-color: var(--disabled-bg-color);\n",
              "    fill: var(--disabled-fill-color);\n",
              "    box-shadow: none;\n",
              "  }\n",
              "\n",
              "  .colab-df-spinner {\n",
              "    border: 2px solid var(--fill-color);\n",
              "    border-color: transparent;\n",
              "    border-bottom-color: var(--fill-color);\n",
              "    animation:\n",
              "      spin 1s steps(1) infinite;\n",
              "  }\n",
              "\n",
              "  @keyframes spin {\n",
              "    0% {\n",
              "      border-color: transparent;\n",
              "      border-bottom-color: var(--fill-color);\n",
              "      border-left-color: var(--fill-color);\n",
              "    }\n",
              "    20% {\n",
              "      border-color: transparent;\n",
              "      border-left-color: var(--fill-color);\n",
              "      border-top-color: var(--fill-color);\n",
              "    }\n",
              "    30% {\n",
              "      border-color: transparent;\n",
              "      border-left-color: var(--fill-color);\n",
              "      border-top-color: var(--fill-color);\n",
              "      border-right-color: var(--fill-color);\n",
              "    }\n",
              "    40% {\n",
              "      border-color: transparent;\n",
              "      border-right-color: var(--fill-color);\n",
              "      border-top-color: var(--fill-color);\n",
              "    }\n",
              "    60% {\n",
              "      border-color: transparent;\n",
              "      border-right-color: var(--fill-color);\n",
              "    }\n",
              "    80% {\n",
              "      border-color: transparent;\n",
              "      border-right-color: var(--fill-color);\n",
              "      border-bottom-color: var(--fill-color);\n",
              "    }\n",
              "    90% {\n",
              "      border-color: transparent;\n",
              "      border-bottom-color: var(--fill-color);\n",
              "    }\n",
              "  }\n",
              "</style>\n",
              "\n",
              "  <script>\n",
              "    async function quickchart(key) {\n",
              "      const quickchartButtonEl =\n",
              "        document.querySelector('#' + key + ' button');\n",
              "      quickchartButtonEl.disabled = true;  // To prevent multiple clicks.\n",
              "      quickchartButtonEl.classList.add('colab-df-spinner');\n",
              "      try {\n",
              "        const charts = await google.colab.kernel.invokeFunction(\n",
              "            'suggestCharts', [key], {});\n",
              "      } catch (error) {\n",
              "        console.error('Error during call to suggestCharts:', error);\n",
              "      }\n",
              "      quickchartButtonEl.classList.remove('colab-df-spinner');\n",
              "      quickchartButtonEl.classList.add('colab-df-quickchart-complete');\n",
              "    }\n",
              "    (() => {\n",
              "      let quickchartButtonEl =\n",
              "        document.querySelector('#df-4e52b44c-c53b-4d0e-8f1b-b0fa4204a17a button');\n",
              "      quickchartButtonEl.style.display =\n",
              "        google.colab.kernel.accessAllowed ? 'block' : 'none';\n",
              "    })();\n",
              "  </script>\n",
              "</div>\n",
              "    </div>\n",
              "  </div>\n"
            ],
            "text/plain": [
              "   feature1  feature_new           y\n",
              "0  0.582624     1.515718   34.361468\n",
              "1 -1.310930    -1.763046 -110.037744\n",
              "2 -0.762516    -1.398488  161.519668\n",
              "3  0.177450     0.920545    2.619852\n",
              "4 -1.306872    -2.471682   81.517359"
            ]
          },
          "execution_count": 4,
          "metadata": {},
          "output_type": "execute_result"
        }
      ],
      "source": [
        "df.head()"
      ]
    },
    {
      "cell_type": "markdown",
      "metadata": {
        "id": "QOLXC9WFmouJ"
      },
      "source": [
        "# Подготовка данных"
      ]
    },
    {
      "cell_type": "code",
      "execution_count": 5,
      "metadata": {
        "id": "vK-3faUacTJF"
      },
      "outputs": [],
      "source": [
        "features = list(df.columns)\n",
        "target = 'y'\n",
        "try:\n",
        "  features.remove(target)\n",
        "except Exception as e:\n",
        "  print(e)"
      ]
    },
    {
      "cell_type": "code",
      "execution_count": 6,
      "metadata": {
        "colab": {
          "base_uri": "https://localhost:8080/"
        },
        "id": "5uTKxdIiWR6A",
        "outputId": "a6c2e481-158f-4265-edbc-cd104718ea66"
      },
      "outputs": [
        {
          "data": {
            "text/plain": [
              "['feature1', 'feature_new']"
            ]
          },
          "execution_count": 6,
          "metadata": {},
          "output_type": "execute_result"
        }
      ],
      "source": [
        "features"
      ]
    },
    {
      "cell_type": "code",
      "execution_count": 7,
      "metadata": {
        "id": "rM_vQKYTb944"
      },
      "outputs": [],
      "source": [
        "X = df[features]\n",
        "try:\n",
        "  y = df[target]\n",
        "except Exception as e:\n",
        "  print(e)"
      ]
    },
    {
      "cell_type": "code",
      "execution_count": 8,
      "metadata": {
        "colab": {
          "base_uri": "https://localhost:8080/",
          "height": 468
        },
        "id": "KQi3nTxxpiCM",
        "outputId": "f2b2c890-d9bd-4627-a650-cf48a22eec6d"
      },
      "outputs": [
        {
          "data": {
            "image/png": "[encoded data removed]",
            "text/plain": [
              "<Figure size 1000x500 with 2 Axes>"
            ]
          },
          "metadata": {},
          "output_type": "display_data"
        }
      ],
      "source": [
        "# Расчет матрицы парных корреляций\n",
        "\n",
        "correlation_matrix = X.corr()\n",
        "\n",
        "# Визуализация матрицы парных корреляций\n",
        "plt.figure(figsize=(10, 5))\n",
        "sns.heatmap(correlation_matrix, annot=True, cmap='coolwarm')\n",
        "plt.title('Матрица парных корреляций')\n",
        "plt.show()"
      ]
    },
    {
      "cell_type": "code",
      "execution_count": 9,
      "metadata": {
        "id": "Tpd9uyuyyh91"
      },
      "outputs": [],
      "source": [
        "# разделение данных на train и test\n",
        "X_train, X_test, y_train, y_test = train_test_split(X, y, test_size=0.3, random_state=0)"
      ]
    },
    {
      "cell_type": "code",
      "execution_count": 10,
      "metadata": {
        "colab": {
          "base_uri": "https://localhost:8080/",
          "height": 112
        },
        "id": "_wIcC5-yW23j",
        "outputId": "94447081-fbc6-4b6a-cbb4-d8692f8e4717"
      },
      "outputs": [
        {
          "data": {
            "application/vnd.google.colaboratory.intrinsic+json": {
              "summary": "{\n  \"name\": \"X_train\",\n  \"rows\": 2,\n  \"fields\": [\n    {\n      \"column\": \"feature1\",\n      \"properties\": {\n        \"dtype\": \"number\",\n        \"std\": 0.007488630617392749,\n        \"min\": 0.9894094770172808,\n        \"max\": 1.0,\n        \"num_unique_values\": 2,\n        \"samples\": [\n          0.9894094770172808,\n          1.0\n        ],\n        \"semantic_type\": \"\",\n        \"description\": \"\"\n      }\n    },\n    {\n      \"column\": \"feature_new\",\n      \"properties\": {\n        \"dtype\": \"number\",\n        \"std\": 0.007488630617392749,\n        \"min\": 0.9894094770172808,\n        \"max\": 1.0,\n        \"num_unique_values\": 2,\n        \"samples\": [\n          1.0,\n          0.9894094770172808\n        ],\n        \"semantic_type\": \"\",\n        \"description\": \"\"\n      }\n    }\n  ]\n}",
              "type": "dataframe"
            },
            "text/html": [
              "\n",
              "  <div id=\"df-4898f06e-2b8d-4714-a02c-1cd481f6d65f\" class=\"colab-df-container\">\n",
              "    <div>\n",
              "<style scoped>\n",
              "    .dataframe tbody tr th:only-of-type {\n",
              "        vertical-align: middle;\n",
              "    }\n",
              "\n",
              "    .dataframe tbody tr th {\n",
              "        vertical-align: top;\n",
              "    }\n",
              "\n",
              "    .dataframe thead th {\n",
              "        text-align: right;\n",
              "    }\n",
              "</style>\n",
              "<table border=\"1\" class=\"dataframe\">\n",
              "  <thead>\n",
              "    <tr style=\"text-align: right;\">\n",
              "      <th></th>\n",
              "      <th>feature1</th>\n",
              "      <th>feature_new</th>\n",
              "    </tr>\n",
              "  </thead>\n",
              "  <tbody>\n",
              "    <tr>\n",
              "      <th>feature1</th>\n",
              "      <td>1.000000</td>\n",
              "      <td>0.989409</td>\n",
              "    </tr>\n",
              "    <tr>\n",
              "      <th>feature_new</th>\n",
              "      <td>0.989409</td>\n",
              "      <td>1.000000</td>\n",
              "    </tr>\n",
              "  </tbody>\n",
              "</table>\n",
              "</div>\n",
              "    <div class=\"colab-df-buttons\">\n",
              "\n",
              "  <div class=\"colab-df-container\">\n",
              "    <button class=\"colab-df-convert\" onclick=\"convertToInteractive('df-4898f06e-2b8d-4714-a02c-1cd481f6d65f')\"\n",
              "            title=\"Convert this dataframe to an interactive table.\"\n",
              "            style=\"display:none;\">\n",
              "\n",
              "  <svg xmlns=\"http://www.w3.org/2000/svg\" height=\"24px\" viewBox=\"0 -960 960 960\">\n",
              "    <path d=\"M120-120v-720h720v720H120Zm60-500h600v-160H180v160Zm220 220h160v-160H400v160Zm0 220h160v-160H400v160ZM180-400h160v-160H180v160Zm440 0h160v-160H620v160ZM180-180h160v-160H180v160Zm440 0h160v-160H620v160Z\"/>\n",
              "  </svg>\n",
              "    </button>\n",
              "\n",
              "  <style>\n",
              "    .colab-df-container {\n",
              "      display:flex;\n",
              "      gap: 12px;\n",
              "    }\n",
              "\n",
              "    .colab-df-convert {\n",
              "      background-color: #E8F0FE;\n",
              "      border: none;\n",
              "      border-radius: 50%;\n",
              "      cursor: pointer;\n",
              "      display: none;\n",
              "      fill: #1967D2;\n",
              "      height: 32px;\n",
              "      padding: 0 0 0 0;\n",
              "      width: 32px;\n",
              "    }\n",
              "\n",
              "    .colab-df-convert:hover {\n",
              "      background-color: #E2EBFA;\n",
              "      box-shadow: 0px 1px 2px rgba(60, 64, 67, 0.3), 0px 1px 3px 1px rgba(60, 64, 67, 0.15);\n",
              "      fill: #174EA6;\n",
              "    }\n",
              "\n",
              "    .colab-df-buttons div {\n",
              "      margin-bottom: 4px;\n",
              "    }\n",
              "\n",
              "    [theme=dark] .colab-df-convert {\n",
              "      background-color: #3B4455;\n",
              "      fill: #D2E3FC;\n",
              "    }\n",
              "\n",
              "    [theme=dark] .colab-df-convert:hover {\n",
              "      background-color: #434B5C;\n",
              "      box-shadow: 0px 1px 3px 1px rgba(0, 0, 0, 0.15);\n",
              "      filter: drop-shadow(0px 1px 2px rgba(0, 0, 0, 0.3));\n",
              "      fill: #FFFFFF;\n",
              "    }\n",
              "  </style>\n",
              "\n",
              "    <script>\n",
              "      const buttonEl =\n",
              "        document.querySelector('#df-4898f06e-2b8d-4714-a02c-1cd481f6d65f button.colab-df-convert');\n",
              "      buttonEl.style.display =\n",
              "        google.colab.kernel.accessAllowed ? 'block' : 'none';\n",
              "\n",
              "      async function convertToInteractive(key) {\n",
              "        const element = document.querySelector('#df-4898f06e-2b8d-4714-a02c-1cd481f6d65f');\n",
              "        const dataTable =\n",
              "          await google.colab.kernel.invokeFunction('convertToInteractive',\n",
              "                                                    [key], {});\n",
              "        if (!dataTable) return;\n",
              "\n",
              "        const docLinkHtml = 'Like what you see? Visit the ' +\n",
              "          '<a target=\"_blank\" href=https://colab.research.google.com/notebooks/data_table.ipynb>data table notebook</a>'\n",
              "          + ' to learn more about interactive tables.';\n",
              "        element.innerHTML = '';\n",
              "        dataTable['output_type'] = 'display_data';\n",
              "        await google.colab.output.renderOutput(dataTable, element);\n",
              "        const docLink = document.createElement('div');\n",
              "        docLink.innerHTML = docLinkHtml;\n",
              "        element.appendChild(docLink);\n",
              "      }\n",
              "    </script>\n",
              "  </div>\n",
              "\n",
              "\n",
              "<div id=\"df-c8cdb136-dfe6-47fd-916f-9c30436fd6c0\">\n",
              "  <button class=\"colab-df-quickchart\" onclick=\"quickchart('df-c8cdb136-dfe6-47fd-916f-9c30436fd6c0')\"\n",
              "            title=\"Suggest charts\"\n",
              "            style=\"display:none;\">\n",
              "\n",
              "<svg xmlns=\"http://www.w3.org/2000/svg\" height=\"24px\"viewBox=\"0 0 24 24\"\n",
              "     width=\"24px\">\n",
              "    <g>\n",
              "        <path d=\"M19 3H5c-1.1 0-2 .9-2 2v14c0 1.1.9 2 2 2h14c1.1 0 2-.9 2-2V5c0-1.1-.9-2-2-2zM9 17H7v-7h2v7zm4 0h-2V7h2v10zm4 0h-2v-4h2v4z\"/>\n",
              "    </g>\n",
              "</svg>\n",
              "  </button>\n",
              "\n",
              "<style>\n",
              "  .colab-df-quickchart {\n",
              "      --bg-color: #E8F0FE;\n",
              "      --fill-color: #1967D2;\n",
              "      --hover-bg-color: #E2EBFA;\n",
              "      --hover-fill-color: #174EA6;\n",
              "      --disabled-fill-color: #AAA;\n",
              "      --disabled-bg-color: #DDD;\n",
              "  }\n",
              "\n",
              "  [theme=dark] .colab-df-quickchart {\n",
              "      --bg-color: #3B4455;\n",
              "      --fill-color: #D2E3FC;\n",
              "      --hover-bg-color: #434B5C;\n",
              "      --hover-fill-color: #FFFFFF;\n",
              "      --disabled-bg-color: #3B4455;\n",
              "      --disabled-fill-color: #666;\n",
              "  }\n",
              "\n",
              "  .colab-df-quickchart {\n",
              "    background-color: var(--bg-color);\n",
              "    border: none;\n",
              "    border-radius: 50%;\n",
              "    cursor: pointer;\n",
              "    display: none;\n",
              "    fill: var(--fill-color);\n",
              "    height: 32px;\n",
              "    padding: 0;\n",
              "    width: 32px;\n",
              "  }\n",
              "\n",
              "  .colab-df-quickchart:hover {\n",
              "    background-color: var(--hover-bg-color);\n",
              "    box-shadow: 0 1px 2px rgba(60, 64, 67, 0.3), 0 1px 3px 1px rgba(60, 64, 67, 0.15);\n",
              "    fill: var(--button-hover-fill-color);\n",
              "  }\n",
              "\n",
              "  .colab-df-quickchart-complete:disabled,\n",
              "  .colab-df-quickchart-complete:disabled:hover {\n",
              "    background-color: var(--disabled-bg-color);\n",
              "    fill: var(--disabled-fill-color);\n",
              "    box-shadow: none;\n",
              "  }\n",
              "\n",
              "  .colab-df-spinner {\n",
              "    border: 2px solid var(--fill-color);\n",
              "    border-color: transparent;\n",
              "    border-bottom-color: var(--fill-color);\n",
              "    animation:\n",
              "      spin 1s steps(1) infinite;\n",
              "  }\n",
              "\n",
              "  @keyframes spin {\n",
              "    0% {\n",
              "      border-color: transparent;\n",
              "      border-bottom-color: var(--fill-color);\n",
              "      border-left-color: var(--fill-color);\n",
              "    }\n",
              "    20% {\n",
              "      border-color: transparent;\n",
              "      border-left-color: var(--fill-color);\n",
              "      border-top-color: var(--fill-color);\n",
              "    }\n",
              "    30% {\n",
              "      border-color: transparent;\n",
              "      border-left-color: var(--fill-color);\n",
              "      border-top-color: var(--fill-color);\n",
              "      border-right-color: var(--fill-color);\n",
              "    }\n",
              "    40% {\n",
              "      border-color: transparent;\n",
              "      border-right-color: var(--fill-color);\n",
              "      border-top-color: var(--fill-color);\n",
              "    }\n",
              "    60% {\n",
              "      border-color: transparent;\n",
              "      border-right-color: var(--fill-color);\n",
              "    }\n",
              "    80% {\n",
              "      border-color: transparent;\n",
              "      border-right-color: var(--fill-color);\n",
              "      border-bottom-color: var(--fill-color);\n",
              "    }\n",
              "    90% {\n",
              "      border-color: transparent;\n",
              "      border-bottom-color: var(--fill-color);\n",
              "    }\n",
              "  }\n",
              "</style>\n",
              "\n",
              "  <script>\n",
              "    async function quickchart(key) {\n",
              "      const quickchartButtonEl =\n",
              "        document.querySelector('#' + key + ' button');\n",
              "      quickchartButtonEl.disabled = true;  // To prevent multiple clicks.\n",
              "      quickchartButtonEl.classList.add('colab-df-spinner');\n",
              "      try {\n",
              "        const charts = await google.colab.kernel.invokeFunction(\n",
              "            'suggestCharts', [key], {});\n",
              "      } catch (error) {\n",
              "        console.error('Error during call to suggestCharts:', error);\n",
              "      }\n",
              "      quickchartButtonEl.classList.remove('colab-df-spinner');\n",
              "      quickchartButtonEl.classList.add('colab-df-quickchart-complete');\n",
              "    }\n",
              "    (() => {\n",
              "      let quickchartButtonEl =\n",
              "        document.querySelector('#df-c8cdb136-dfe6-47fd-916f-9c30436fd6c0 button');\n",
              "      quickchartButtonEl.style.display =\n",
              "        google.colab.kernel.accessAllowed ? 'block' : 'none';\n",
              "    })();\n",
              "  </script>\n",
              "</div>\n",
              "    </div>\n",
              "  </div>\n"
            ],
            "text/plain": [
              "             feature1  feature_new\n",
              "feature1     1.000000     0.989409\n",
              "feature_new  0.989409     1.000000"
            ]
          },
          "execution_count": 10,
          "metadata": {},
          "output_type": "execute_result"
        }
      ],
      "source": [
        "X_train.corr()"
      ]
    },
    {
      "cell_type": "code",
      "execution_count": 11,
      "metadata": {
        "id": "ZmtR26100GDN"
      },
      "outputs": [],
      "source": [
        "# Нормализация признаков для лучшей сходимости. Рассказать про важность нормализации именно для регуляризации\n",
        "scaler = StandardScaler()\n",
        "X_train_scaled = scaler.fit_transform(X_train)\n",
        "X_test_scaled = scaler.transform(X_test)"
      ]
    },
    {
      "cell_type": "code",
      "execution_count": 12,
      "metadata": {
        "colab": {
          "base_uri": "https://localhost:8080/"
        },
        "id": "hIhku_FDWh17",
        "outputId": "c2fad831-965d-4588-e923-5cf8e5b05593"
      },
      "outputs": [
        {
          "name": "stdout",
          "output_type": "stream",
          "text": [
            "[  0.  10.  20.  30.  40.  50.  60.  70.  80.  90. 100. 110. 120. 130.\n",
            " 140. 150. 160. 170. 180. 190. 200. 210. 220. 230. 240. 250. 260. 270.\n",
            " 280. 290. 300. 310. 320. 330. 340. 350. 360. 370. 380. 390. 400. 410.\n",
            " 420. 430. 440. 450. 460. 470. 480. 490. 500. 510. 520. 530. 540. 550.\n",
            " 560. 570. 580. 590. 600. 610. 620. 630. 640. 650. 660. 670. 680. 690.\n",
            " 700. 710. 720. 730. 740. 750. 760. 770. 780. 790. 800. 810. 820. 830.\n",
            " 840. 850. 860. 870. 880. 890. 900. 910. 920. 930. 940. 950. 960. 970.\n",
            " 980. 990.]\n"
          ]
        }
      ],
      "source": [
        "# задаем интервал перебора для alpha\n",
        "# альфа зависит от размера выборки\n",
        "\n",
        "start = 0.0      # Начальное значение диапазона\n",
        "stop = 1000       # Конечное значение диапазона (не включается в результат)\n",
        "step = 10       # Шаг между значениями\n",
        "float_range = np.arange(start, stop, step)\n",
        "print(float_range)"
      ]
    },
    {
      "cell_type": "markdown",
      "metadata": {
        "id": "O5qvQ1iWgGkg"
      },
      "source": [
        "# RIDGE  регрессия"
      ]
    },
    {
      "cell_type": "code",
      "execution_count": 13,
      "metadata": {
        "id": "16kmqplC_Qo_"
      },
      "outputs": [],
      "source": [
        "R_2_scores = []\n",
        "avg_coefficients = []\n",
        "mae_list = []\n",
        "mse_list = []\n",
        "for alpha in float_range:\n",
        "\n",
        "  if alpha == 0:\n",
        "    model = LinearRegression()\n",
        "  else:\n",
        "    model = Ridge(alpha=alpha, max_iter=1000) # alpha — величина регуляризации\n",
        "  # Обучение модели на обучающих данных.\n",
        "  model.fit(X_train_scaled, y_train)\n",
        "  y_pred_test = model.predict(X_test_scaled)\n",
        "  # Оценка качества модели на тестовых данных.\n",
        "  mse = mean_squared_error(y_test, y_pred_test )\n",
        "  mse_list.append(mse)\n",
        "\n",
        "  # Веса (коэффициенты) модели с L1-регуляризацией.\n",
        "  coefficients = model.coef_\n",
        "  avg_coefficients.append(coefficients)"
      ]
    },
    {
      "cell_type": "code",
      "execution_count": 14,
      "metadata": {
        "id": "kI3Bs76kY0ah"
      },
      "outputs": [],
      "source": [
        "avg_coefficients = np.transpose(avg_coefficients)"
      ]
    },
    {
      "cell_type": "code",
      "execution_count": 15,
      "metadata": {
        "colab": {
          "base_uri": "https://localhost:8080/",
          "height": 542
        },
        "id": "w9ZbzzXaW9-8",
        "outputId": "b1eb7ab8-c36e-43e2-8ab7-0596fcaf029c"
      },
      "outputs": [
        {
          "data": {
            "text/html": [
              "<html>\n",
              "<head><meta charset=\"utf-8\" /></head>\n",
              "<body>\n",
              "    <div>            <script src=\"https://cdnjs.cloudflare.com/ajax/libs/mathjax/2.7.5/MathJax.js?config=TeX-AMS-MML_SVG\"></script><script type=\"text/javascript\">if (window.MathJax && window.MathJax.Hub && window.MathJax.Hub.Config) {window.MathJax.Hub.Config({SVG: {font: \"STIX-Web\"}});}</script>                <script type=\"text/javascript\">window.PlotlyConfig = {MathJaxConfig: 'local'};</script>\n",
              "        <script charset=\"utf-8\" src=\"https://cdn.plot.ly/plotly-2.24.1.min.js\"></script>                <div id=\"21f994b3-caf7-4619-ba7c-faaa1670a3da\" class=\"plotly-graph-div\" style=\"height:525px; width:100%;\"></div>            <script type=\"text/javascript\">                                    window.PLOTLYENV=window.PLOTLYENV || {};                                    if (document.getElementById(\"21f994b3-caf7-4619-ba7c-faaa1670a3da\")) {                    Plotly.newPlot(                        \"21f994b3-caf7-4619-ba7c-faaa1670a3da\",                        [{\"mode\":\"lines\",\"name\":\"feature1\",\"x\":[0.0,10.0,20.0,30.0,40.0,50.0,60.0,70.0,80.0,90.0,100.0,110.0,120.0,130.0,140.0,150.0,160.0,170.0,180.0,190.0,200.0,210.0,220.0,230.0,240.0,250.0,260.0,270.0,280.0,290.0,300.0,310.0,320.0,330.0,340.0,350.0,360.0,370.0,380.0,390.0,400.0,410.0,420.0,430.0,440.0,450.0,460.0,470.0,480.0,490.0,500.0,510.0,520.0,530.0,540.0,550.0,560.0,570.0,580.0,590.0,600.0,610.0,620.0,630.0,640.0,650.0,660.0,670.0,680.0,690.0,700.0,710.0,720.0,730.0,740.0,750.0,760.0,770.0,780.0,790.0,800.0,810.0,820.0,830.0,840.0,850.0,860.0,870.0,880.0,890.0,900.0,910.0,920.0,930.0,940.0,950.0,960.0,970.0,980.0,990.0],\"y\":[10.703509449007996,9.89872001309251,9.264320123522964,8.751223201430857,8.32754585579267,7.971678583310963,7.668456048256316,7.406921599268393,7.178961998357294,6.978441232538336,6.800632781846924,6.641836882963558,6.499116083415422,6.370108523026163,6.25289353368439,6.1458932177054795,6.0477992481043366,5.957517658945904,5.874126670486294,5.796844094658253,5.725001874561971,5.658026000405871,5.595420522372731,5.5367547174541265,5.481652707439027,5.429784998704193,5.380861541194438,5.334625997576139,5.290850983353595,5.249334091293861,5.2098945534164365,5.172370424365533,5.136616193564995,5.102500751886253,5.06990565290728,5.038723620141937,5.008857260579606,4.980217952018806,4.95272487740554,4.926304184005967,4.900888248982884,4.876415035991116,4.85282752989829,4.830073238782825,4.808103754049262,4.786874360899282,4.766343692559092,4.746473422634037,4.727227990774216,4.7085743575176995,4.6904817847538895,4.67292163873681,4.655867212991653,4.63929356880943,4.6231773913250205,4.607496859431059,4.592231527999983,4.577362221077122,4.562870934870422,4.548740749504432,4.534955748628516,4.521500946075503,4.508362218859891,4.495526245885388,4.482980451802041,4.470712955515262,4.458712522903151,4.44696852334624,4.43547088971582,4.4242100815039205,4.413177050811009,4.402363210936198,4.39176040734053,4.381360890776929,4.371157292400315,4.361142600689831,4.351310140031047,4.3416535508205705,4.332166770968151,4.322844018683263,4.313679776443052,4.304668776048446,4.295805984682883,4.287086591896339,4.278505997443587,4.270059799912083,4.261743786080306,4.253553920952339,4.245486338419143,4.237537332500986,4.2297033491292675,4.221980978429413,4.21436694746945,4.206858113441971,4.1994514572494,4.19214407746509,4.184933184644819,4.177816095965134,4.17079023016687,4.163853102783789],\"type\":\"scatter\"},{\"mode\":\"lines\",\"name\":\"feature_new\",\"x\":[0.0,10.0,20.0,30.0,40.0,50.0,60.0,70.0,80.0,90.0,100.0,110.0,120.0,130.0,140.0,150.0,160.0,170.0,180.0,190.0,200.0,210.0,220.0,230.0,240.0,250.0,260.0,270.0,280.0,290.0,300.0,310.0,320.0,330.0,340.0,350.0,360.0,370.0,380.0,390.0,400.0,410.0,420.0,430.0,440.0,450.0,460.0,470.0,480.0,490.0,500.0,510.0,520.0,530.0,540.0,550.0,560.0,570.0,580.0,590.0,600.0,610.0,620.0,630.0,640.0,650.0,660.0,670.0,680.0,690.0,700.0,710.0,720.0,730.0,740.0,750.0,760.0,770.0,780.0,790.0,800.0,810.0,820.0,830.0,840.0,850.0,860.0,870.0,880.0,890.0,900.0,910.0,920.0,930.0,940.0,950.0,960.0,970.0,980.0,990.0],\"y\":[-2.7906955795679327,-1.9915841644348564,-1.3628541527032154,-0.8554189830088608,-0.43739528178247794,-0.08717356313089523,0.21041149132083456,0.4663165156281607,0.6886547305255267,0.8835621317913949,1.0557652222332239,1.208963748062256,1.346095144691786,1.4695212552871806,1.5811627309972274,1.6825974525921477,1.7751337301906642,1.8598655129093296,1.9377145637212148,2.0094630539702805,2.0757790238803997,2.137236466614397,2.1943313154077724,2.2474942767340678,2.2971012123161323,2.3434815993355462,2.3869254714521952,2.427689149650601,2.4660000021233968,2.5020604198463317,2.536051154588425,2.5681341355395335,2.5984548571552715,2.6271444124889,2.6543212319322103,2.680092575986023,2.7045558217203953,2.727799575440849,2.749904638349865,2.7709448473740657,2.790987809587567,2.810095545616441,2.8283250549177805,2.845728813781574,2.862355215215203,2.8782489584722857,2.893451394825134,2.908000835209998,2.921932824561293,2.9352803869682362,2.94807424521134,2.960343017748974,2.9721133958106662,2.983410302902316,2.994257038727985,3.0046754092758827,3.014685844596154,3.024307505607665,3.0335583811081226,3.04245537601995,3.051014391781933,3.059250399690422,3.067177507900999,3.0748090227207845,3.0821575047511764,3.0892348203786764,3.0960521890574397,3.1026202267793805,3.10894898608572,3.115047992936855,3.1209262807245373,3.126592421681522,3.1320545559181454,3.137320418292246,3.1423973632989086,3.147292388148113,3.1520121541823816,3.1565630067720503,3.1609509938130276,3.1651818829400806,3.1692611775587505,3.173194131789124,3.176985764406965,3.1806408718595622,3.184164040427338,3.1875596575958394,3.190831922697265,3.19398485687576,3.1970223124260113,3.199947981550699,3.2027654045785354,3.2054779776812596,3.208088960124925,3.210601481087813,3.2130185460750544,3.2153430429573904,3.21757774765957,3.2197253295218764,3.221788356356482,3.2237692992186986],\"type\":\"scatter\"},{\"mode\":\"lines\",\"name\":\"mse\",\"x\":[0.0,10.0,20.0,30.0,40.0,50.0,60.0,70.0,80.0,90.0,100.0,110.0,120.0,130.0,140.0,150.0,160.0,170.0,180.0,190.0,200.0,210.0,220.0,230.0,240.0,250.0,260.0,270.0,280.0,290.0,300.0,310.0,320.0,330.0,340.0,350.0,360.0,370.0,380.0,390.0,400.0,410.0,420.0,430.0,440.0,450.0,460.0,470.0,480.0,490.0,500.0,510.0,520.0,530.0,540.0,550.0,560.0,570.0,580.0,590.0,600.0,610.0,620.0,630.0,640.0,650.0,660.0,670.0,680.0,690.0,700.0,710.0,720.0,730.0,740.0,750.0,760.0,770.0,780.0,790.0,800.0,810.0,820.0,830.0,840.0,850.0,860.0,870.0,880.0,890.0,900.0,910.0,920.0,930.0,940.0,950.0,960.0,970.0,980.0,990.0],\"y\":[10345.441528357813,10345.322998947382,10345.253612835164,10345.214355107299,10345.194430512172,10345.187376527107,10345.189153604102,10345.197144565609,10345.209601777713,10345.225327795002,10345.243483732773,10345.263470450334,10345.28485274522,10345.307309758418,10345.330601797672,10345.354547698797,10345.379009100308,10345.40387934334,10345.429075521628,10345.454532711748,10345.480199734771,10345.506036008206,10345.532009183882,10345.558093358864,10345.584267708602,10345.610515434299,10345.636822946226,10345.663179225716,10345.689575323539,10345.71600396319,10345.742459225361,10345.768936295714,10345.795431262262,10345.821940951928,10345.848462798074,10345.874994732789,10345.901535098943,10345.928082578193,10345.954636131803,10345.981194951917,10346.007758421303,10346.034326080027,10346.060897597812,10346.087472751049,10346.114051403667,10346.140633491186,10346.16721900741,10346.19380799328,10346.220400527607,10346.24699671927,10346.273596700725,10346.300200622567,10346.326808648984,10346.353420953967,10346.380037718152,10346.406659126187,10346.433285364561,10346.459916619795,10346.486553076968,10346.513194918503,10346.539842323184,10346.566495465358,10346.593154514327,10346.619819633821,10346.646490981659,10346.673168709442,10346.699852962374,10346.726543879122,10346.753241591747,10346.77994622568,10346.806657899744,10346.833376726188,10346.860102810786,10346.886836252905,10346.913577145648,10346.94032557597,10346.967081624813,10346.993845367262,10347.02061687271,10347.047396204996,10347.074183422583,10347.100978578712,10347.127781721576,10347.154592894474,10347.181412135984,10347.208239480105,10347.235074956441,10347.261918590331,10347.288770403018,10347.31563041179,10347.342498630122,10347.369375067827,10347.396259731187,10347.423152623089,10347.450053743145,10347.476963087836,10347.503880650615,10347.530806422035,10347.557740389862,10347.584682539184],\"type\":\"scatter\"}],                        {\"template\":{\"data\":{\"histogram2dcontour\":[{\"type\":\"histogram2dcontour\",\"colorbar\":{\"outlinewidth\":0,\"ticks\":\"\"},\"colorscale\":[[0.0,\"#0d0887\"],[0.1111111111111111,\"#46039f\"],[0.2222222222222222,\"#7201a8\"],[0.3333333333333333,\"#9c179e\"],[0.4444444444444444,\"#bd3786\"],[0.5555555555555556,\"#d8576b\"],[0.6666666666666666,\"#ed7953\"],[0.7777777777777778,\"#fb9f3a\"],[0.8888888888888888,\"#fdca26\"],[1.0,\"#f0f921\"]]}],\"choropleth\":[{\"type\":\"choropleth\",\"colorbar\":{\"outlinewidth\":0,\"ticks\":\"\"}}],\"histogram2d\":[{\"type\":\"histogram2d\",\"colorbar\":{\"outlinewidth\":0,\"ticks\":\"\"},\"colorscale\":[[0.0,\"#0d0887\"],[0.1111111111111111,\"#46039f\"],[0.2222222222222222,\"#7201a8\"],[0.3333333333333333,\"#9c179e\"],[0.4444444444444444,\"#bd3786\"],[0.5555555555555556,\"#d8576b\"],[0.6666666666666666,\"#ed7953\"],[0.7777777777777778,\"#fb9f3a\"],[0.8888888888888888,\"#fdca26\"],[1.0,\"#f0f921\"]]}],\"heatmap\":[{\"type\":\"heatmap\",\"colorbar\":{\"outlinewidth\":0,\"ticks\":\"\"},\"colorscale\":[[0.0,\"#0d0887\"],[0.1111111111111111,\"#46039f\"],[0.2222222222222222,\"#7201a8\"],[0.3333333333333333,\"#9c179e\"],[0.4444444444444444,\"#bd3786\"],[0.5555555555555556,\"#d8576b\"],[0.6666666666666666,\"#ed7953\"],[0.7777777777777778,\"#fb9f3a\"],[0.8888888888888888,\"#fdca26\"],[1.0,\"#f0f921\"]]}],\"heatmapgl\":[{\"type\":\"heatmapgl\",\"colorbar\":{\"outlinewidth\":0,\"ticks\":\"\"},\"colorscale\":[[0.0,\"#0d0887\"],[0.1111111111111111,\"#46039f\"],[0.2222222222222222,\"#7201a8\"],[0.3333333333333333,\"#9c179e\"],[0.4444444444444444,\"#bd3786\"],[0.5555555555555556,\"#d8576b\"],[0.6666666666666666,\"#ed7953\"],[0.7777777777777778,\"#fb9f3a\"],[0.8888888888888888,\"#fdca26\"],[1.0,\"#f0f921\"]]}],\"contourcarpet\":[{\"type\":\"contourcarpet\",\"colorbar\":{\"outlinewidth\":0,\"ticks\":\"\"}}],\"contour\":[{\"type\":\"contour\",\"colorbar\":{\"outlinewidth\":0,\"ticks\":\"\"},\"colorscale\":[[0.0,\"#0d0887\"],[0.1111111111111111,\"#46039f\"],[0.2222222222222222,\"#7201a8\"],[0.3333333333333333,\"#9c179e\"],[0.4444444444444444,\"#bd3786\"],[0.5555555555555556,\"#d8576b\"],[0.6666666666666666,\"#ed7953\"],[0.7777777777777778,\"#fb9f3a\"],[0.8888888888888888,\"#fdca26\"],[1.0,\"#f0f921\"]]}],\"surface\":[{\"type\":\"surface\",\"colorbar\":{\"outlinewidth\":0,\"ticks\":\"\"},\"colorscale\":[[0.0,\"#0d0887\"],[0.1111111111111111,\"#46039f\"],[0.2222222222222222,\"#7201a8\"],[0.3333333333333333,\"#9c179e\"],[0.4444444444444444,\"#bd3786\"],[0.5555555555555556,\"#d8576b\"],[0.6666666666666666,\"#ed7953\"],[0.7777777777777778,\"#fb9f3a\"],[0.8888888888888888,\"#fdca26\"],[1.0,\"#f0f921\"]]}],\"mesh3d\":[{\"type\":\"mesh3d\",\"colorbar\":{\"outlinewidth\":0,\"ticks\":\"\"}}],\"scatter\":[{\"fillpattern\":{\"fillmode\":\"overlay\",\"size\":10,\"solidity\":0.2},\"type\":\"scatter\"}],\"parcoords\":[{\"type\":\"parcoords\",\"line\":{\"colorbar\":{\"outlinewidth\":0,\"ticks\":\"\"}}}],\"scatterpolargl\":[{\"type\":\"scatterpolargl\",\"marker\":{\"colorbar\":{\"outlinewidth\":0,\"ticks\":\"\"}}}],\"bar\":[{\"error_x\":{\"color\":\"#2a3f5f\"},\"error_y\":{\"color\":\"#2a3f5f\"},\"marker\":{\"line\":{\"color\":\"#E5ECF6\",\"width\":0.5},\"pattern\":{\"fillmode\":\"overlay\",\"size\":10,\"solidity\":0.2}},\"type\":\"bar\"}],\"scattergeo\":[{\"type\":\"scattergeo\",\"marker\":{\"colorbar\":{\"outlinewidth\":0,\"ticks\":\"\"}}}],\"scatterpolar\":[{\"type\":\"scatterpolar\",\"marker\":{\"colorbar\":{\"outlinewidth\":0,\"ticks\":\"\"}}}],\"histogram\":[{\"marker\":{\"pattern\":{\"fillmode\":\"overlay\",\"size\":10,\"solidity\":0.2}},\"type\":\"histogram\"}],\"scattergl\":[{\"type\":\"scattergl\",\"marker\":{\"colorbar\":{\"outlinewidth\":0,\"ticks\":\"\"}}}],\"scatter3d\":[{\"type\":\"scatter3d\",\"line\":{\"colorbar\":{\"outlinewidth\":0,\"ticks\":\"\"}},\"marker\":{\"colorbar\":{\"outlinewidth\":0,\"ticks\":\"\"}}}],\"scattermapbox\":[{\"type\":\"scattermapbox\",\"marker\":{\"colorbar\":{\"outlinewidth\":0,\"ticks\":\"\"}}}],\"scatterternary\":[{\"type\":\"scatterternary\",\"marker\":{\"colorbar\":{\"outlinewidth\":0,\"ticks\":\"\"}}}],\"scattercarpet\":[{\"type\":\"scattercarpet\",\"marker\":{\"colorbar\":{\"outlinewidth\":0,\"ticks\":\"\"}}}],\"carpet\":[{\"aaxis\":{\"endlinecolor\":\"#2a3f5f\",\"gridcolor\":\"white\",\"linecolor\":\"white\",\"minorgridcolor\":\"white\",\"startlinecolor\":\"#2a3f5f\"},\"baxis\":{\"endlinecolor\":\"#2a3f5f\",\"gridcolor\":\"white\",\"linecolor\":\"white\",\"minorgridcolor\":\"white\",\"startlinecolor\":\"#2a3f5f\"},\"type\":\"carpet\"}],\"table\":[{\"cells\":{\"fill\":{\"color\":\"#EBF0F8\"},\"line\":{\"color\":\"white\"}},\"header\":{\"fill\":{\"color\":\"#C8D4E3\"},\"line\":{\"color\":\"white\"}},\"type\":\"table\"}],\"barpolar\":[{\"marker\":{\"line\":{\"color\":\"#E5ECF6\",\"width\":0.5},\"pattern\":{\"fillmode\":\"overlay\",\"size\":10,\"solidity\":0.2}},\"type\":\"barpolar\"}],\"pie\":[{\"automargin\":true,\"type\":\"pie\"}]},\"layout\":{\"autotypenumbers\":\"strict\",\"colorway\":[\"#636efa\",\"#EF553B\",\"#00cc96\",\"#ab63fa\",\"#FFA15A\",\"#19d3f3\",\"#FF6692\",\"#B6E880\",\"#FF97FF\",\"#FECB52\"],\"font\":{\"color\":\"#2a3f5f\"},\"hovermode\":\"closest\",\"hoverlabel\":{\"align\":\"left\"},\"paper_bgcolor\":\"white\",\"plot_bgcolor\":\"#E5ECF6\",\"polar\":{\"bgcolor\":\"#E5ECF6\",\"angularaxis\":{\"gridcolor\":\"white\",\"linecolor\":\"white\",\"ticks\":\"\"},\"radialaxis\":{\"gridcolor\":\"white\",\"linecolor\":\"white\",\"ticks\":\"\"}},\"ternary\":{\"bgcolor\":\"#E5ECF6\",\"aaxis\":{\"gridcolor\":\"white\",\"linecolor\":\"white\",\"ticks\":\"\"},\"baxis\":{\"gridcolor\":\"white\",\"linecolor\":\"white\",\"ticks\":\"\"},\"caxis\":{\"gridcolor\":\"white\",\"linecolor\":\"white\",\"ticks\":\"\"}},\"coloraxis\":{\"colorbar\":{\"outlinewidth\":0,\"ticks\":\"\"}},\"colorscale\":{\"sequential\":[[0.0,\"#0d0887\"],[0.1111111111111111,\"#46039f\"],[0.2222222222222222,\"#7201a8\"],[0.3333333333333333,\"#9c179e\"],[0.4444444444444444,\"#bd3786\"],[0.5555555555555556,\"#d8576b\"],[0.6666666666666666,\"#ed7953\"],[0.7777777777777778,\"#fb9f3a\"],[0.8888888888888888,\"#fdca26\"],[1.0,\"#f0f921\"]],\"sequentialminus\":[[0.0,\"#0d0887\"],[0.1111111111111111,\"#46039f\"],[0.2222222222222222,\"#7201a8\"],[0.3333333333333333,\"#9c179e\"],[0.4444444444444444,\"#bd3786\"],[0.5555555555555556,\"#d8576b\"],[0.6666666666666666,\"#ed7953\"],[0.7777777777777778,\"#fb9f3a\"],[0.8888888888888888,\"#fdca26\"],[1.0,\"#f0f921\"]],\"diverging\":[[0,\"#8e0152\"],[0.1,\"#c51b7d\"],[0.2,\"#de77ae\"],[0.3,\"#f1b6da\"],[0.4,\"#fde0ef\"],[0.5,\"#f7f7f7\"],[0.6,\"#e6f5d0\"],[0.7,\"#b8e186\"],[0.8,\"#7fbc41\"],[0.9,\"#4d9221\"],[1,\"#276419\"]]},\"xaxis\":{\"gridcolor\":\"white\",\"linecolor\":\"white\",\"ticks\":\"\",\"title\":{\"standoff\":15},\"zerolinecolor\":\"white\",\"automargin\":true,\"zerolinewidth\":2},\"yaxis\":{\"gridcolor\":\"white\",\"linecolor\":\"white\",\"ticks\":\"\",\"title\":{\"standoff\":15},\"zerolinecolor\":\"white\",\"automargin\":true,\"zerolinewidth\":2},\"scene\":{\"xaxis\":{\"backgroundcolor\":\"#E5ECF6\",\"gridcolor\":\"white\",\"linecolor\":\"white\",\"showbackground\":true,\"ticks\":\"\",\"zerolinecolor\":\"white\",\"gridwidth\":2},\"yaxis\":{\"backgroundcolor\":\"#E5ECF6\",\"gridcolor\":\"white\",\"linecolor\":\"white\",\"showbackground\":true,\"ticks\":\"\",\"zerolinecolor\":\"white\",\"gridwidth\":2},\"zaxis\":{\"backgroundcolor\":\"#E5ECF6\",\"gridcolor\":\"white\",\"linecolor\":\"white\",\"showbackground\":true,\"ticks\":\"\",\"zerolinecolor\":\"white\",\"gridwidth\":2}},\"shapedefaults\":{\"line\":{\"color\":\"#2a3f5f\"}},\"annotationdefaults\":{\"arrowcolor\":\"#2a3f5f\",\"arrowhead\":0,\"arrowwidth\":1},\"geo\":{\"bgcolor\":\"white\",\"landcolor\":\"#E5ECF6\",\"subunitcolor\":\"white\",\"showland\":true,\"showlakes\":true,\"lakecolor\":\"white\"},\"title\":{\"x\":0.05},\"mapbox\":{\"style\":\"light\"}}}},                        {\"responsive\": true}                    ).then(function(){\n",
              "                            \n",
              "var gd = document.getElementById('21f994b3-caf7-4619-ba7c-faaa1670a3da');\n",
              "var x = new MutationObserver(function (mutations, observer) {{\n",
              "        var display = window.getComputedStyle(gd).display;\n",
              "        if (!display || display === 'none') {{\n",
              "            console.log([gd, 'removed!']);\n",
              "            Plotly.purge(gd);\n",
              "            observer.disconnect();\n",
              "        }}\n",
              "}});\n",
              "\n",
              "// Listen for the removal of the full notebook cells\n",
              "var notebookContainer = gd.closest('#notebook-container');\n",
              "if (notebookContainer) {{\n",
              "    x.observe(notebookContainer, {childList: true});\n",
              "}}\n",
              "\n",
              "// Listen for the clearing of the current output cell\n",
              "var outputEl = gd.closest('.output');\n",
              "if (outputEl) {{\n",
              "    x.observe(outputEl, {childList: true});\n",
              "}}\n",
              "\n",
              "                        })                };                            </script>        </div>\n",
              "</body>\n",
              "</html>"
            ]
          },
          "metadata": {},
          "output_type": "display_data"
        }
      ],
      "source": [
        "x = float_range\n",
        "y = avg_coefficients\n",
        "selected_y = y[0]\n",
        "# Create traces\n",
        "fig = go.Figure()\n",
        "for i, feature in enumerate(features):\n",
        "# for i in range(10):\n",
        "  selected_y = y[i]\n",
        "  fig.add_trace(go.Scatter(x=x, y=selected_y,\n",
        "                mode='lines',\n",
        "                name=feature))\n",
        "\n",
        "\n",
        "fig.add_trace(go.Scatter(x=x, y=mse_list,\n",
        "                mode='lines',\n",
        "                name='mse'))\n",
        "fig.show()\n",
        "# график интерактивный (нажмите мышкой на feature_new, feature1, mse)"
      ]
    },
    {
      "cell_type": "markdown",
      "metadata": {
        "id": "zCENid_bxGYa"
      },
      "source": [
        "По графику видно, что оптимальным коэффициентом регуляризации является значение 50, где достигается наименьшая ошибка"
      ]
    },
    {
      "cell_type": "markdown",
      "metadata": {
        "id": "LPzvhNLkqJjL"
      },
      "source": [
        "# LASSO  регрессия"
      ]
    },
    {
      "cell_type": "code",
      "execution_count": 16,
      "metadata": {
        "id": "i5h6eZc4qs5e"
      },
      "outputs": [],
      "source": [
        "start = 0.0      # Начальное значение диапазона\n",
        "stop = 0.2     # Конечное значение диапазона (не включается в результат)\n",
        "step = 0.001       # Шаг между значениями\n",
        "\n",
        "float_range = np.arange(start, stop, step)\n"
      ]
    },
    {
      "cell_type": "code",
      "execution_count": 17,
      "metadata": {
        "id": "umU3XWuVqLKH"
      },
      "outputs": [],
      "source": [
        "R_2_scores = []\n",
        "avg_coefficients = []\n",
        "mae_list = []\n",
        "mse_list = []\n",
        "\n",
        "# Нормализация признаков для лучшей сходимости.\n",
        "scaler = StandardScaler()\n",
        "X_train_scaled = scaler.fit_transform(X_train)\n",
        "X_test_scaled = scaler.transform(X_test)\n",
        "\n",
        "for alpha in float_range:\n",
        "\n",
        "  if alpha == 0:\n",
        "    model = LinearRegression()\n",
        "  else:\n",
        "    model = Lasso(alpha=alpha, max_iter=1000)\n",
        "  # Обучение модели на обучающих данных.\n",
        "  model.fit(X_train_scaled, y_train)\n",
        "  y_pred_test = model.predict(X_test_scaled)\n",
        "  # Оценка качества модели на тестовых данных.\n",
        "  mse = mean_squared_error(y_test, y_pred_test )\n",
        "  mse_list.append(mse)\n",
        "  # Веса (коэффициенты) модели с L1-регуляризацией.\n",
        "  coefficients = model.coef_\n",
        "  avg_coefficients.append(coefficients)\n",
        "avg_coefficients = np.transpose(avg_coefficients)\n"
      ]
    },
    {
      "cell_type": "code",
      "execution_count": 18,
      "metadata": {
        "colab": {
          "base_uri": "https://localhost:8080/",
          "height": 542
        },
        "id": "0p6A-XfiqRtQ",
        "outputId": "f04b3d33-8101-4b58-bb2c-f159ee5fb2cc"
      },
      "outputs": [
        {
          "data": {
            "text/html": [
              "<html>\n",
              "<head><meta charset=\"utf-8\" /></head>\n",
              "<body>\n",
              "    <div>            <script src=\"https://cdnjs.cloudflare.com/ajax/libs/mathjax/2.7.5/MathJax.js?config=TeX-AMS-MML_SVG\"></script><script type=\"text/javascript\">if (window.MathJax && window.MathJax.Hub && window.MathJax.Hub.Config) {window.MathJax.Hub.Config({SVG: {font: \"STIX-Web\"}});}</script>                <script type=\"text/javascript\">window.PlotlyConfig = {MathJaxConfig: 'local'};</script>\n",
              "        <script charset=\"utf-8\" src=\"https://cdn.plot.ly/plotly-2.24.1.min.js\"></script>                <div id=\"fe230ee9-4b4a-4dea-a25c-898c2a697deb\" class=\"plotly-graph-div\" style=\"height:525px; width:100%;\"></div>            <script type=\"text/javascript\">                                    window.PLOTLYENV=window.PLOTLYENV || {};                                    if (document.getElementById(\"fe230ee9-4b4a-4dea-a25c-898c2a697deb\")) {                    Plotly.newPlot(                        \"fe230ee9-4b4a-4dea-a25c-898c2a697deb\",                        [{\"mode\":\"lines\",\"name\":\"feature1\",\"x\":[0.0,0.001,0.002,0.003,0.004,0.005,0.006,0.007,0.008,0.009000000000000001,0.01,0.011,0.012,0.013000000000000001,0.014,0.015,0.016,0.017,0.018000000000000002,0.019,0.02,0.021,0.022,0.023,0.024,0.025,0.026000000000000002,0.027,0.028,0.029,0.03,0.031,0.032,0.033,0.034,0.035,0.036000000000000004,0.037,0.038,0.039,0.04,0.041,0.042,0.043000000000000003,0.044,0.045,0.046,0.047,0.048,0.049,0.05,0.051000000000000004,0.052000000000000005,0.053,0.054,0.055,0.056,0.057,0.058,0.059000000000000004,0.06,0.061,0.062,0.063,0.064,0.065,0.066,0.067,0.068,0.069,0.07,0.07100000000000001,0.07200000000000001,0.073,0.074,0.075,0.076,0.077,0.078,0.079,0.08,0.081,0.082,0.083,0.084,0.085,0.08600000000000001,0.08700000000000001,0.088,0.089,0.09,0.091,0.092,0.093,0.094,0.095,0.096,0.097,0.098,0.099,0.1,0.101,0.10200000000000001,0.10300000000000001,0.10400000000000001,0.105,0.106,0.107,0.108,0.109,0.11,0.111,0.112,0.113,0.114,0.115,0.116,0.117,0.11800000000000001,0.11900000000000001,0.12,0.121,0.122,0.123,0.124,0.125,0.126,0.127,0.128,0.129,0.13,0.131,0.132,0.133,0.134,0.135,0.136,0.137,0.138,0.139,0.14,0.14100000000000001,0.14200000000000002,0.14300000000000002,0.14400000000000002,0.145,0.146,0.147,0.148,0.149,0.15,0.151,0.152,0.153,0.154,0.155,0.156,0.157,0.158,0.159,0.16,0.161,0.162,0.163,0.164,0.165,0.166,0.167,0.168,0.169,0.17,0.171,0.17200000000000001,0.17300000000000001,0.17400000000000002,0.17500000000000002,0.176,0.177,0.178,0.179,0.18,0.181,0.182,0.183,0.184,0.185,0.186,0.187,0.188,0.189,0.19,0.191,0.192,0.193,0.194,0.195,0.196,0.197,0.198,0.199],\"y\":[10.703509449007996,10.608411314075306,10.513319633850285,10.418215158055961,10.323134950682459,10.227994937512005,10.132936429367405,10.037767944899883,9.94270834152681,9.847577303667443,9.75251556956266,9.657406845749655,9.562252502255216,9.46724394736633,9.372026661650843,9.276998965680123,9.18198403882617,9.086753282002402,8.991800600463566,8.896648537093784,8.801574444256437,8.706321265441957,8.611224178901494,8.516369763380546,8.42119869562634,8.326187300906808,8.230901713507002,8.135911608411742,8.040826924731446,7.945745530832009,7.912368795113259,7.911368795113258,7.910368795113258,7.909368795113258,7.908368795113257,7.907368795113258,7.906368795113258,7.905368795113257,7.904368795113258,7.903368795113257,7.902368795113258,7.901368795113258,7.900368795113259,7.899368795113258,7.8983687951132575,7.897368795113257,7.896368795113258,7.895368795113258,7.894368795113259,7.893368795113258,7.892368795113257,7.891368795113258,7.8903687951132575,7.889368795113259,7.888368795113258,7.887368795113257,7.886368795113258,7.885368795113258,7.884368795113259,7.883368795113259,7.8823687951132575,7.881368795113257,7.880368795113258,7.879368795113257,7.878368795113259,7.8773687951132585,7.876368795113257,7.875368795113258,7.8743687951132575,7.873368795113257,7.872368795113259,7.871368795113257,7.870368795113258,7.869368795113258,7.868368795113257,7.867368795113258,7.866368795113258,7.865368795113258,7.864368795113258,7.863368795113257,7.862368795113258,7.8613687951132585,7.860368795113257,7.859368795113258,7.8583687951132575,7.857368795113258,7.856368795113258,7.855368795113258,7.854368795113258,7.853368795113258,7.852368795113257,7.851368795113258,7.850368795113258,7.849368795113259,7.848368795113258,7.847368795113257,7.846368795113258,7.845368795113258,7.844368795113259,7.843368795113259,7.8423687951132575,7.841368795113258,7.840368795113258,7.839368795113257,7.838368795113259,7.837368795113258,7.836368795113257,7.835368795113258,7.8343687951132575,7.833368795113258,7.832368795113259,7.831368795113257,7.830368795113258,7.829368795113258,7.828368795113257,7.827368795113259,7.826368795113258,7.825368795113258,7.824368795113258,7.823368795113257,7.822368795113258,7.821368795113258,7.820368795113257,7.819368795113258,7.818368795113257,7.817368795113258,7.8163687951132585,7.815368795113258,7.814368795113258,7.8133687951132575,7.812368795113257,7.811368795113258,7.810368795113258,7.809368795113259,7.808368795113258,7.807368795113257,7.806368795113258,7.8053687951132575,7.804368795113259,7.803368795113258,7.802368795113257,7.801368795113258,7.800368795113258,7.799368795113258,7.798368795113259,7.7973687951132575,7.796368795113257,7.795368795113258,7.794368795113257,7.793368795113259,7.7923687951132585,7.791368795113257,7.790368795113258,7.7893687951132575,7.788368795113257,7.787368795113259,7.786368795113257,7.785368795113258,7.784368795113258,7.783368795113257,7.782368795113258,7.781368795113258,7.780368795113257,7.779368795113258,7.778368795113257,7.777368795113258,7.7763687951132585,7.775368795113257,7.774368795113258,7.7733687951132575,7.772368795113257,7.771368795113258,7.770368795113258,7.769368795113258,7.768368795113258,7.767368795113257,7.766368795113258,7.7653687951132575,7.764368795113259,7.763368795113258,7.762368795113257,7.761368795113258,7.760368795113258,7.759368795113259,7.758368795113259,7.7573687951132575,7.756368795113257,7.755368795113258,7.754368795113257,7.753368795113259,7.752368795113258,7.751368795113257,7.750368795113258,7.7493687951132575,7.748368795113259,7.747368795113259,7.746368795113257,7.745368795113258,7.744368795113258,7.743368795113257],\"type\":\"scatter\"},{\"mode\":\"lines\",\"name\":\"feature_new\",\"x\":[0.0,0.001,0.002,0.003,0.004,0.005,0.006,0.007,0.008,0.009000000000000001,0.01,0.011,0.012,0.013000000000000001,0.014,0.015,0.016,0.017,0.018000000000000002,0.019,0.02,0.021,0.022,0.023,0.024,0.025,0.026000000000000002,0.027,0.028,0.029,0.03,0.031,0.032,0.033,0.034,0.035,0.036000000000000004,0.037,0.038,0.039,0.04,0.041,0.042,0.043000000000000003,0.044,0.045,0.046,0.047,0.048,0.049,0.05,0.051000000000000004,0.052000000000000005,0.053,0.054,0.055,0.056,0.057,0.058,0.059000000000000004,0.06,0.061,0.062,0.063,0.064,0.065,0.066,0.067,0.068,0.069,0.07,0.07100000000000001,0.07200000000000001,0.073,0.074,0.075,0.076,0.077,0.078,0.079,0.08,0.081,0.082,0.083,0.084,0.085,0.08600000000000001,0.08700000000000001,0.088,0.089,0.09,0.091,0.092,0.093,0.094,0.095,0.096,0.097,0.098,0.099,0.1,0.101,0.10200000000000001,0.10300000000000001,0.10400000000000001,0.105,0.106,0.107,0.108,0.109,0.11,0.111,0.112,0.113,0.114,0.115,0.116,0.117,0.11800000000000001,0.11900000000000001,0.12,0.121,0.122,0.123,0.124,0.125,0.126,0.127,0.128,0.129,0.13,0.131,0.132,0.133,0.134,0.135,0.136,0.137,0.138,0.139,0.14,0.14100000000000001,0.14200000000000002,0.14300000000000002,0.14400000000000002,0.145,0.146,0.147,0.148,0.149,0.15,0.151,0.152,0.153,0.154,0.155,0.156,0.157,0.158,0.159,0.16,0.161,0.162,0.163,0.164,0.165,0.166,0.167,0.168,0.169,0.17,0.171,0.17200000000000001,0.17300000000000001,0.17400000000000002,0.17500000000000002,0.176,0.177,0.178,0.179,0.18,0.181,0.182,0.183,0.184,0.185,0.186,0.187,0.188,0.189,0.19,0.191,0.192,0.193,0.194,0.195,0.196,0.197,0.198,0.199],\"y\":[-2.7906955795679327,-2.695604583618859,-2.60051997401873,-2.5054227043610626,-2.41034944610895,-2.3152170154345564,-2.220165226605166,-2.125004626159628,-2.0299517537008063,-1.9348282032842592,-1.8397732226592889,-1.744671749971683,-1.6495251407389262,-1.5545227761341445,-1.4593138912713821,-1.3642925882988348,-1.2692839192114342,-1.1740617059064675,-1.0791146229237392,-0.9839702696679273,-0.8889030611958371,-0.7936586633607672,-0.698568704700902,-0.6037188470475406,-0.5085556906736757,-0.41355051631354245,-0.3182740531170158,-0.22328994291289792,-0.1282122557604232,-0.0331378235483082,-0.0,-0.0,-0.0,-0.0,-0.0,-0.0,-0.0,-0.0,-0.0,-0.0,-0.0,-0.0,-0.0,-0.0,-0.0,-0.0,-0.0,-0.0,-0.0,-0.0,-0.0,-0.0,-0.0,-0.0,-0.0,-0.0,-0.0,-0.0,-0.0,-0.0,0.0,0.0,0.0,0.0,0.0,0.0,0.0,0.0,0.0,0.0,0.0,0.0,0.0,0.0,0.0,0.0,0.0,0.0,0.0,0.0,0.0,0.0,0.0,0.0,0.0,0.0,0.0,0.0,0.0,0.0,0.0,0.0,0.0,0.0,0.0,0.0,0.0,0.0,0.0,0.0,0.0,0.0,0.0,0.0,0.0,0.0,0.0,0.0,0.0,0.0,0.0,0.0,0.0,0.0,0.0,0.0,0.0,0.0,0.0,0.0,0.0,0.0,0.0,0.0,0.0,0.0,0.0,0.0,0.0,0.0,0.0,0.0,0.0,0.0,0.0,0.0,0.0,0.0,0.0,0.0,0.0,0.0,0.0,0.0,0.0,0.0,0.0,0.0,0.0,0.0,0.0,0.0,0.0,0.0,0.0,0.0,0.0,0.0,0.0,0.0,0.0,0.0,0.0,0.0,0.0,0.0,0.0,0.0,0.0,0.0,0.0,0.0,0.0,0.0,0.0,0.0,0.0,0.0,0.0,0.0,0.0,0.0,0.0,0.0,0.0,0.0,0.0,0.0,0.0,0.0,0.0,0.0,0.0,0.0,0.0,0.0,0.0,0.0,0.0,0.0],\"type\":\"scatter\"},{\"mode\":\"lines\",\"name\":\"mse\",\"x\":[0.0,0.001,0.002,0.003,0.004,0.005,0.006,0.007,0.008,0.009000000000000001,0.01,0.011,0.012,0.013000000000000001,0.014,0.015,0.016,0.017,0.018000000000000002,0.019,0.02,0.021,0.022,0.023,0.024,0.025,0.026000000000000002,0.027,0.028,0.029,0.03,0.031,0.032,0.033,0.034,0.035,0.036000000000000004,0.037,0.038,0.039,0.04,0.041,0.042,0.043000000000000003,0.044,0.045,0.046,0.047,0.048,0.049,0.05,0.051000000000000004,0.052000000000000005,0.053,0.054,0.055,0.056,0.057,0.058,0.059000000000000004,0.06,0.061,0.062,0.063,0.064,0.065,0.066,0.067,0.068,0.069,0.07,0.07100000000000001,0.07200000000000001,0.073,0.074,0.075,0.076,0.077,0.078,0.079,0.08,0.081,0.082,0.083,0.084,0.085,0.08600000000000001,0.08700000000000001,0.088,0.089,0.09,0.091,0.092,0.093,0.094,0.095,0.096,0.097,0.098,0.099,0.1,0.101,0.10200000000000001,0.10300000000000001,0.10400000000000001,0.105,0.106,0.107,0.108,0.109,0.11,0.111,0.112,0.113,0.114,0.115,0.116,0.117,0.11800000000000001,0.11900000000000001,0.12,0.121,0.122,0.123,0.124,0.125,0.126,0.127,0.128,0.129,0.13,0.131,0.132,0.133,0.134,0.135,0.136,0.137,0.138,0.139,0.14,0.14100000000000001,0.14200000000000002,0.14300000000000002,0.14400000000000002,0.145,0.146,0.147,0.148,0.149,0.15,0.151,0.152,0.153,0.154,0.155,0.156,0.157,0.158,0.159,0.16,0.161,0.162,0.163,0.164,0.165,0.166,0.167,0.168,0.169,0.17,0.171,0.17200000000000001,0.17300000000000001,0.17400000000000002,0.17500000000000002,0.176,0.177,0.178,0.179,0.18,0.181,0.182,0.183,0.184,0.185,0.186,0.187,0.188,0.189,0.19,0.191,0.192,0.193,0.194,0.195,0.196,0.197,0.198,0.199],\"y\":[10345.441528357813,10345.42315953074,10345.40516478337,10345.38754141831,10345.370294488932,10345.353412915638,10345.336914992487,10345.320776671133,10345.305024781796,10345.289637708296,10345.274631615457,10345.25999347914,10345.245723987278,10345.231842284344,10345.218313576554,10345.205175929426,10345.192412001279,10345.180002978195,10345.167989784433,10345.156333907387,10345.14505708071,10345.134141411909,10345.123609829769,10345.11346555444,10345.103675338547,10345.0942669262,10345.085218241786,10345.076556804996,10345.068264033705,10345.060344447771,10345.058696895247,10345.063032912836,10345.067370907534,10345.071710879341,10345.076052828254,10345.080396754274,10345.084742657404,10345.089090537638,10345.093440394981,10345.097792229433,10345.10214604099,10345.106501829658,10345.11085959543,10345.115219338311,10345.119581058301,10345.123944755394,10345.1283104296,10345.132678080912,10345.137047709331,10345.141419314856,10345.14579289749,10345.150168457232,10345.15454599408,10345.158925508038,10345.163306999102,10345.167690467273,10345.172075912553,10345.176463334941,10345.180852734435,10345.185244111037,10345.189637464746,10345.194032795564,10345.198430103488,10345.20282938852,10345.207230650662,10345.211633889907,10345.216039106263,10345.220446299725,10345.224855470295,10345.229266617971,10345.233679742756,10345.23809484465,10345.24251192365,10345.246930979756,10345.251352012972,10345.255775023295,10345.260200010725,10345.264626975264,10345.26905591691,10345.27348683566,10345.277919731523,10345.28235460449,10345.286791454566,10345.291230281748,10345.29567108604,10345.300113867439,10345.304558625943,10345.309005361558,10345.313454074278,10345.317904764108,10345.322357431043,10345.326812075085,10345.331268696238,10345.335727294496,10345.340187869862,10345.344650422338,10345.349114951918,10345.353581458607,10345.358049942404,10345.362520403309,10345.366992841318,10345.371467256438,10345.375943648665,10345.380422017999,10345.38490236444,10345.38938468799,10345.393868988647,10345.398355266412,10345.402843521284,10345.407333753263,10345.41182596235,10345.416320148544,10345.420816311846,10345.425314452257,10345.429814569774,10345.4343166644,10345.438820736132,10345.44332678497,10345.447834810919,10345.452344813975,10345.456856794137,10345.461370751405,10345.465886685784,10345.47040459727,10345.474924485863,10345.479446351563,10345.483970194371,10345.488496014286,10345.49302381131,10345.49755358544,10345.502085336677,10345.506619065023,10345.511154770478,10345.515692453038,10345.520232112709,10345.524773749483,10345.529317363367,10345.533862954357,10345.538410522457,10345.542960067662,10345.547511589975,10345.552065089398,10345.556620565925,10345.561178019561,10345.565737450306,10345.570298858158,10345.574862243117,10345.579427605184,10345.583994944356,10345.588564260639,10345.593135554029,10345.597708824525,10345.602284072129,10345.60686129684,10345.61144049866,10345.616021677588,10345.620604833623,10345.625189966764,10345.629777077014,10345.634366164371,10345.638957228837,10345.643550270408,10345.648145289088,10345.652742284876,10345.657341257769,10345.661942207771,10345.666545134882,10345.6711500391,10345.675756920426,10345.680365778859,10345.684976614399,10345.689589427046,10345.694204216801,10345.698820983664,10345.703439727635,10345.708060448713,10345.712683146898,10345.71730782219,10345.721934474592,10345.726563104101,10345.731193710717,10345.73582629444,10345.74046085527,10345.745097393208,10345.749735908255,10345.75437640041,10345.75901886967,10345.763663316038,10345.768309739515,10345.772958140098,10345.77760851779,10345.782260872587,10345.786915204495,10345.79157151351,10345.79622979963,10345.80089006286,10345.805552303194,10345.81021652064,10345.81488271519,10345.81955088685],\"type\":\"scatter\"}],                        {\"template\":{\"data\":{\"histogram2dcontour\":[{\"type\":\"histogram2dcontour\",\"colorbar\":{\"outlinewidth\":0,\"ticks\":\"\"},\"colorscale\":[[0.0,\"#0d0887\"],[0.1111111111111111,\"#46039f\"],[0.2222222222222222,\"#7201a8\"],[0.3333333333333333,\"#9c179e\"],[0.4444444444444444,\"#bd3786\"],[0.5555555555555556,\"#d8576b\"],[0.6666666666666666,\"#ed7953\"],[0.7777777777777778,\"#fb9f3a\"],[0.8888888888888888,\"#fdca26\"],[1.0,\"#f0f921\"]]}],\"choropleth\":[{\"type\":\"choropleth\",\"colorbar\":{\"outlinewidth\":0,\"ticks\":\"\"}}],\"histogram2d\":[{\"type\":\"histogram2d\",\"colorbar\":{\"outlinewidth\":0,\"ticks\":\"\"},\"colorscale\":[[0.0,\"#0d0887\"],[0.1111111111111111,\"#46039f\"],[0.2222222222222222,\"#7201a8\"],[0.3333333333333333,\"#9c179e\"],[0.4444444444444444,\"#bd3786\"],[0.5555555555555556,\"#d8576b\"],[0.6666666666666666,\"#ed7953\"],[0.7777777777777778,\"#fb9f3a\"],[0.8888888888888888,\"#fdca26\"],[1.0,\"#f0f921\"]]}],\"heatmap\":[{\"type\":\"heatmap\",\"colorbar\":{\"outlinewidth\":0,\"ticks\":\"\"},\"colorscale\":[[0.0,\"#0d0887\"],[0.1111111111111111,\"#46039f\"],[0.2222222222222222,\"#7201a8\"],[0.3333333333333333,\"#9c179e\"],[0.4444444444444444,\"#bd3786\"],[0.5555555555555556,\"#d8576b\"],[0.6666666666666666,\"#ed7953\"],[0.7777777777777778,\"#fb9f3a\"],[0.8888888888888888,\"#fdca26\"],[1.0,\"#f0f921\"]]}],\"heatmapgl\":[{\"type\":\"heatmapgl\",\"colorbar\":{\"outlinewidth\":0,\"ticks\":\"\"},\"colorscale\":[[0.0,\"#0d0887\"],[0.1111111111111111,\"#46039f\"],[0.2222222222222222,\"#7201a8\"],[0.3333333333333333,\"#9c179e\"],[0.4444444444444444,\"#bd3786\"],[0.5555555555555556,\"#d8576b\"],[0.6666666666666666,\"#ed7953\"],[0.7777777777777778,\"#fb9f3a\"],[0.8888888888888888,\"#fdca26\"],[1.0,\"#f0f921\"]]}],\"contourcarpet\":[{\"type\":\"contourcarpet\",\"colorbar\":{\"outlinewidth\":0,\"ticks\":\"\"}}],\"contour\":[{\"type\":\"contour\",\"colorbar\":{\"outlinewidth\":0,\"ticks\":\"\"},\"colorscale\":[[0.0,\"#0d0887\"],[0.1111111111111111,\"#46039f\"],[0.2222222222222222,\"#7201a8\"],[0.3333333333333333,\"#9c179e\"],[0.4444444444444444,\"#bd3786\"],[0.5555555555555556,\"#d8576b\"],[0.6666666666666666,\"#ed7953\"],[0.7777777777777778,\"#fb9f3a\"],[0.8888888888888888,\"#fdca26\"],[1.0,\"#f0f921\"]]}],\"surface\":[{\"type\":\"surface\",\"colorbar\":{\"outlinewidth\":0,\"ticks\":\"\"},\"colorscale\":[[0.0,\"#0d0887\"],[0.1111111111111111,\"#46039f\"],[0.2222222222222222,\"#7201a8\"],[0.3333333333333333,\"#9c179e\"],[0.4444444444444444,\"#bd3786\"],[0.5555555555555556,\"#d8576b\"],[0.6666666666666666,\"#ed7953\"],[0.7777777777777778,\"#fb9f3a\"],[0.8888888888888888,\"#fdca26\"],[1.0,\"#f0f921\"]]}],\"mesh3d\":[{\"type\":\"mesh3d\",\"colorbar\":{\"outlinewidth\":0,\"ticks\":\"\"}}],\"scatter\":[{\"fillpattern\":{\"fillmode\":\"overlay\",\"size\":10,\"solidity\":0.2},\"type\":\"scatter\"}],\"parcoords\":[{\"type\":\"parcoords\",\"line\":{\"colorbar\":{\"outlinewidth\":0,\"ticks\":\"\"}}}],\"scatterpolargl\":[{\"type\":\"scatterpolargl\",\"marker\":{\"colorbar\":{\"outlinewidth\":0,\"ticks\":\"\"}}}],\"bar\":[{\"error_x\":{\"color\":\"#2a3f5f\"},\"error_y\":{\"color\":\"#2a3f5f\"},\"marker\":{\"line\":{\"color\":\"#E5ECF6\",\"width\":0.5},\"pattern\":{\"fillmode\":\"overlay\",\"size\":10,\"solidity\":0.2}},\"type\":\"bar\"}],\"scattergeo\":[{\"type\":\"scattergeo\",\"marker\":{\"colorbar\":{\"outlinewidth\":0,\"ticks\":\"\"}}}],\"scatterpolar\":[{\"type\":\"scatterpolar\",\"marker\":{\"colorbar\":{\"outlinewidth\":0,\"ticks\":\"\"}}}],\"histogram\":[{\"marker\":{\"pattern\":{\"fillmode\":\"overlay\",\"size\":10,\"solidity\":0.2}},\"type\":\"histogram\"}],\"scattergl\":[{\"type\":\"scattergl\",\"marker\":{\"colorbar\":{\"outlinewidth\":0,\"ticks\":\"\"}}}],\"scatter3d\":[{\"type\":\"scatter3d\",\"line\":{\"colorbar\":{\"outlinewidth\":0,\"ticks\":\"\"}},\"marker\":{\"colorbar\":{\"outlinewidth\":0,\"ticks\":\"\"}}}],\"scattermapbox\":[{\"type\":\"scattermapbox\",\"marker\":{\"colorbar\":{\"outlinewidth\":0,\"ticks\":\"\"}}}],\"scatterternary\":[{\"type\":\"scatterternary\",\"marker\":{\"colorbar\":{\"outlinewidth\":0,\"ticks\":\"\"}}}],\"scattercarpet\":[{\"type\":\"scattercarpet\",\"marker\":{\"colorbar\":{\"outlinewidth\":0,\"ticks\":\"\"}}}],\"carpet\":[{\"aaxis\":{\"endlinecolor\":\"#2a3f5f\",\"gridcolor\":\"white\",\"linecolor\":\"white\",\"minorgridcolor\":\"white\",\"startlinecolor\":\"#2a3f5f\"},\"baxis\":{\"endlinecolor\":\"#2a3f5f\",\"gridcolor\":\"white\",\"linecolor\":\"white\",\"minorgridcolor\":\"white\",\"startlinecolor\":\"#2a3f5f\"},\"type\":\"carpet\"}],\"table\":[{\"cells\":{\"fill\":{\"color\":\"#EBF0F8\"},\"line\":{\"color\":\"white\"}},\"header\":{\"fill\":{\"color\":\"#C8D4E3\"},\"line\":{\"color\":\"white\"}},\"type\":\"table\"}],\"barpolar\":[{\"marker\":{\"line\":{\"color\":\"#E5ECF6\",\"width\":0.5},\"pattern\":{\"fillmode\":\"overlay\",\"size\":10,\"solidity\":0.2}},\"type\":\"barpolar\"}],\"pie\":[{\"automargin\":true,\"type\":\"pie\"}]},\"layout\":{\"autotypenumbers\":\"strict\",\"colorway\":[\"#636efa\",\"#EF553B\",\"#00cc96\",\"#ab63fa\",\"#FFA15A\",\"#19d3f3\",\"#FF6692\",\"#B6E880\",\"#FF97FF\",\"#FECB52\"],\"font\":{\"color\":\"#2a3f5f\"},\"hovermode\":\"closest\",\"hoverlabel\":{\"align\":\"left\"},\"paper_bgcolor\":\"white\",\"plot_bgcolor\":\"#E5ECF6\",\"polar\":{\"bgcolor\":\"#E5ECF6\",\"angularaxis\":{\"gridcolor\":\"white\",\"linecolor\":\"white\",\"ticks\":\"\"},\"radialaxis\":{\"gridcolor\":\"white\",\"linecolor\":\"white\",\"ticks\":\"\"}},\"ternary\":{\"bgcolor\":\"#E5ECF6\",\"aaxis\":{\"gridcolor\":\"white\",\"linecolor\":\"white\",\"ticks\":\"\"},\"baxis\":{\"gridcolor\":\"white\",\"linecolor\":\"white\",\"ticks\":\"\"},\"caxis\":{\"gridcolor\":\"white\",\"linecolor\":\"white\",\"ticks\":\"\"}},\"coloraxis\":{\"colorbar\":{\"outlinewidth\":0,\"ticks\":\"\"}},\"colorscale\":{\"sequential\":[[0.0,\"#0d0887\"],[0.1111111111111111,\"#46039f\"],[0.2222222222222222,\"#7201a8\"],[0.3333333333333333,\"#9c179e\"],[0.4444444444444444,\"#bd3786\"],[0.5555555555555556,\"#d8576b\"],[0.6666666666666666,\"#ed7953\"],[0.7777777777777778,\"#fb9f3a\"],[0.8888888888888888,\"#fdca26\"],[1.0,\"#f0f921\"]],\"sequentialminus\":[[0.0,\"#0d0887\"],[0.1111111111111111,\"#46039f\"],[0.2222222222222222,\"#7201a8\"],[0.3333333333333333,\"#9c179e\"],[0.4444444444444444,\"#bd3786\"],[0.5555555555555556,\"#d8576b\"],[0.6666666666666666,\"#ed7953\"],[0.7777777777777778,\"#fb9f3a\"],[0.8888888888888888,\"#fdca26\"],[1.0,\"#f0f921\"]],\"diverging\":[[0,\"#8e0152\"],[0.1,\"#c51b7d\"],[0.2,\"#de77ae\"],[0.3,\"#f1b6da\"],[0.4,\"#fde0ef\"],[0.5,\"#f7f7f7\"],[0.6,\"#e6f5d0\"],[0.7,\"#b8e186\"],[0.8,\"#7fbc41\"],[0.9,\"#4d9221\"],[1,\"#276419\"]]},\"xaxis\":{\"gridcolor\":\"white\",\"linecolor\":\"white\",\"ticks\":\"\",\"title\":{\"standoff\":15},\"zerolinecolor\":\"white\",\"automargin\":true,\"zerolinewidth\":2},\"yaxis\":{\"gridcolor\":\"white\",\"linecolor\":\"white\",\"ticks\":\"\",\"title\":{\"standoff\":15},\"zerolinecolor\":\"white\",\"automargin\":true,\"zerolinewidth\":2},\"scene\":{\"xaxis\":{\"backgroundcolor\":\"#E5ECF6\",\"gridcolor\":\"white\",\"linecolor\":\"white\",\"showbackground\":true,\"ticks\":\"\",\"zerolinecolor\":\"white\",\"gridwidth\":2},\"yaxis\":{\"backgroundcolor\":\"#E5ECF6\",\"gridcolor\":\"white\",\"linecolor\":\"white\",\"showbackground\":true,\"ticks\":\"\",\"zerolinecolor\":\"white\",\"gridwidth\":2},\"zaxis\":{\"backgroundcolor\":\"#E5ECF6\",\"gridcolor\":\"white\",\"linecolor\":\"white\",\"showbackground\":true,\"ticks\":\"\",\"zerolinecolor\":\"white\",\"gridwidth\":2}},\"shapedefaults\":{\"line\":{\"color\":\"#2a3f5f\"}},\"annotationdefaults\":{\"arrowcolor\":\"#2a3f5f\",\"arrowhead\":0,\"arrowwidth\":1},\"geo\":{\"bgcolor\":\"white\",\"landcolor\":\"#E5ECF6\",\"subunitcolor\":\"white\",\"showland\":true,\"showlakes\":true,\"lakecolor\":\"white\"},\"title\":{\"x\":0.05},\"mapbox\":{\"style\":\"light\"}}}},                        {\"responsive\": true}                    ).then(function(){\n",
              "                            \n",
              "var gd = document.getElementById('fe230ee9-4b4a-4dea-a25c-898c2a697deb');\n",
              "var x = new MutationObserver(function (mutations, observer) {{\n",
              "        var display = window.getComputedStyle(gd).display;\n",
              "        if (!display || display === 'none') {{\n",
              "            console.log([gd, 'removed!']);\n",
              "            Plotly.purge(gd);\n",
              "            observer.disconnect();\n",
              "        }}\n",
              "}});\n",
              "\n",
              "// Listen for the removal of the full notebook cells\n",
              "var notebookContainer = gd.closest('#notebook-container');\n",
              "if (notebookContainer) {{\n",
              "    x.observe(notebookContainer, {childList: true});\n",
              "}}\n",
              "\n",
              "// Listen for the clearing of the current output cell\n",
              "var outputEl = gd.closest('.output');\n",
              "if (outputEl) {{\n",
              "    x.observe(outputEl, {childList: true});\n",
              "}}\n",
              "\n",
              "                        })                };                            </script>        </div>\n",
              "</body>\n",
              "</html>"
            ]
          },
          "metadata": {},
          "output_type": "display_data"
        }
      ],
      "source": [
        "x = float_range\n",
        "y = avg_coefficients\n",
        "selected_y = y[0]\n",
        "# Create traces\n",
        "fig = go.Figure()\n",
        "for i, feature in enumerate(features):\n",
        "# for i in range(10):\n",
        "  selected_y = y[i]\n",
        "  fig.add_trace(go.Scatter(x=x, y=selected_y,\n",
        "                mode='lines',\n",
        "                name=feature))\n",
        "fig.add_trace(go.Scatter(x=x, y=mse_list,\n",
        "                mode='lines',\n",
        "                name='mse'))\n",
        "fig.show()\n",
        "# график интерактивный (нажмите мышкой на feature_new, feature1, mse)"
      ]
    },
    {
      "cell_type": "markdown",
      "metadata": {
        "id": "YXqhDWn4wrnp"
      },
      "source": [
        "По графику видно, что оптимальным коэффициентом регуляризации является значение 0.03, где достигается наименьшая ошибка"
      ]
    },
    {
      "cell_type": "markdown",
      "metadata": {
        "id": "JlpmI42QrCeU"
      },
      "source": [
        "# Сравним как работает линейная регрессия и регрессии с регуляризацией для оптимального значения параметра регуляризации"
      ]
    },
    {
      "cell_type": "code",
      "execution_count": 19,
      "metadata": {
        "id": "6PBl9IqbWX6_"
      },
      "outputs": [],
      "source": [
        "# построим линейную регрессию\n",
        "model = LinearRegression()\n",
        "\n",
        "model.fit(X_train_scaled, y_train)\n",
        "y_pred_test = model.predict(X_test_scaled)\n",
        "y_pred_train = model.predict(X_train_scaled)\n",
        "\n",
        "mse_test = mean_squared_error(y_test, y_pred_test )\n",
        "\n",
        "mse_train = mean_squared_error(y_train, y_pred_train )\n",
        "\n",
        "coefficients = model.coef_"
      ]
    },
    {
      "cell_type": "code",
      "execution_count": 20,
      "metadata": {
        "colab": {
          "base_uri": "https://localhost:8080/"
        },
        "id": "d0t6X22TWarG",
        "outputId": "d86c0c17-ba0d-4d0c-fb48-9c1e8a0c2f7c"
      },
      "outputs": [
        {
          "data": {
            "text/plain": [
              "(10345.441528357813, 9871.550379011118)"
            ]
          },
          "execution_count": 20,
          "metadata": {},
          "output_type": "execute_result"
        }
      ],
      "source": [
        "mse_test, mse_train"
      ]
    },
    {
      "cell_type": "code",
      "execution_count": 21,
      "metadata": {
        "colab": {
          "base_uri": "https://localhost:8080/"
        },
        "id": "or4_EVOPWefp",
        "outputId": "d39382b2-ff35-4f4b-ea26-7d08e370c5ec"
      },
      "outputs": [
        {
          "data": {
            "text/plain": [
              "array([10.70350945, -2.79069558])"
            ]
          },
          "execution_count": 21,
          "metadata": {},
          "output_type": "execute_result"
        }
      ],
      "source": [
        "coefficients"
      ]
    },
    {
      "cell_type": "code",
      "execution_count": 22,
      "metadata": {
        "id": "tos9phQrH7uS"
      },
      "outputs": [],
      "source": [
        "# построим линейную регрессию\n",
        "# model = LinearRegression()\n",
        "from sklearn.linear_model import SGDRegressor\n",
        "model = SGDRegressor()\n",
        "model.fit(X_train_scaled, y_train)\n",
        "y_pred_test = model.predict(X_test_scaled)\n",
        "y_pred_train = model.predict(X_train_scaled)\n",
        "\n",
        "mse_test = mean_squared_error(y_test, y_pred_test )\n",
        "\n",
        "mse_train = mean_squared_error(y_train, y_pred_train )\n",
        "\n",
        "coefficients = model.coef_"
      ]
    },
    {
      "cell_type": "code",
      "execution_count": 23,
      "metadata": {
        "colab": {
          "base_uri": "https://localhost:8080/"
        },
        "id": "webjRfvTfpuW",
        "outputId": "a4bcfd35-77c8-4a1d-fe21-d148c3dc8726"
      },
      "outputs": [
        {
          "data": {
            "text/plain": [
              "array([0.14248731])"
            ]
          },
          "execution_count": 23,
          "metadata": {},
          "output_type": "execute_result"
        }
      ],
      "source": [
        "model.intercept_"
      ]
    },
    {
      "cell_type": "code",
      "execution_count": 24,
      "metadata": {
        "colab": {
          "base_uri": "https://localhost:8080/"
        },
        "id": "nxYmGqy_IBhy",
        "outputId": "4ac1cd74-e770-49e4-fe09-99d052e28367"
      },
      "outputs": [
        {
          "data": {
            "text/plain": [
              "(10348.198219616856, 9874.27769377846)"
            ]
          },
          "execution_count": 24,
          "metadata": {},
          "output_type": "execute_result"
        }
      ],
      "source": [
        "mse_test, mse_train"
      ]
    },
    {
      "cell_type": "code",
      "execution_count": 25,
      "metadata": {
        "colab": {
          "base_uri": "https://localhost:8080/"
        },
        "id": "3Qm_Vro1IEZc",
        "outputId": "7d5e4ad7-8f84-4669-93a3-f66bc734301b"
      },
      "outputs": [
        {
          "data": {
            "text/plain": [
              "array([ 7.63980729, -0.50212894])"
            ]
          },
          "execution_count": 25,
          "metadata": {},
          "output_type": "execute_result"
        }
      ],
      "source": [
        "coefficients"
      ]
    },
    {
      "cell_type": "markdown",
      "metadata": {
        "id": "Cpip6OIarOxv"
      },
      "source": [
        "мы получили модель y = -1.2639155750313074 + 10.70350945 * feature1 - 2.79069558 * feature_new\n",
        "\n",
        "В данных наблюдается мультиколлинеарность, возможно по этой причине коэффициенты слишком высокие\n",
        "\n",
        "\n",
        "Проведем регуляризацию L1 и L2\n",
        "\n",
        "\n",
        "\n",
        "\n"
      ]
    },
    {
      "cell_type": "code",
      "execution_count": 26,
      "metadata": {
        "id": "At2ahwkpHGHj"
      },
      "outputs": [],
      "source": [
        "# построим регрессию Лассо с оптимальным параметром регуляризации, который мы подобрали перебором\n",
        "model_reg = Lasso(alpha=0.03, max_iter=1000) # alpha — величина регуляризации\n",
        "\n",
        "# обучение\n",
        "model_reg.fit(X_train_scaled, y_train)\n",
        "y_pred_test = model_reg.predict(X_test_scaled)\n",
        "y_pred_train = model_reg.predict(X_train_scaled)\n",
        "\n",
        "mse_test = mean_squared_error(y_test, y_pred_test )\n",
        "\n",
        "mse_train = mean_squared_error(y_train, y_pred_train )\n",
        "\n",
        "coefficients = model_reg.coef_"
      ]
    },
    {
      "cell_type": "code",
      "execution_count": 27,
      "metadata": {
        "colab": {
          "base_uri": "https://localhost:8080/"
        },
        "id": "gRRZpZBtHz-k",
        "outputId": "93281243-ef13-4962-fe80-11097df65f3a"
      },
      "outputs": [
        {
          "data": {
            "text/plain": [
              "(10345.058696895247, 9871.715363118346)"
            ]
          },
          "execution_count": 27,
          "metadata": {},
          "output_type": "execute_result"
        }
      ],
      "source": [
        "mse_test, mse_train"
      ]
    },
    {
      "cell_type": "code",
      "execution_count": 28,
      "metadata": {
        "colab": {
          "base_uri": "https://localhost:8080/"
        },
        "id": "hRZ5vYIhf4pV",
        "outputId": "e06e0b2e-e939-41ac-a19d-7f85b9b37059"
      },
      "outputs": [
        {
          "data": {
            "text/plain": [
              "array([0.14248731])"
            ]
          },
          "execution_count": 28,
          "metadata": {},
          "output_type": "execute_result"
        }
      ],
      "source": [
        "model.intercept_"
      ]
    },
    {
      "cell_type": "code",
      "execution_count": 29,
      "metadata": {
        "colab": {
          "base_uri": "https://localhost:8080/"
        },
        "id": "nQllMu_sH3N6",
        "outputId": "8ced0f6b-9f02-474d-adc4-1830268288cb"
      },
      "outputs": [
        {
          "data": {
            "text/plain": [
              "array([ 7.9123688, -0.       ])"
            ]
          },
          "execution_count": 29,
          "metadata": {},
          "output_type": "execute_result"
        }
      ],
      "source": [
        "coefficients"
      ]
    },
    {
      "cell_type": "code",
      "execution_count": 30,
      "metadata": {
        "colab": {
          "base_uri": "https://localhost:8080/"
        },
        "id": "JLKa8_Iivs_D",
        "outputId": "9e74f6b5-e01e-4e25-e26d-babb71da2066"
      },
      "outputs": [
        {
          "name": "stdout",
          "output_type": "stream",
          "text": [
            "ТО есть мы получили модель y = 0.14248731395288972 + 7.912368795113259 * feature1 + -0.0 * feature_new\n"
          ]
        }
      ],
      "source": [
        "print(f'ТО есть мы получили модель y = {model.intercept_[0]} + {coefficients[0]} * feature1 + {coefficients[1]} * feature_new')"
      ]
    },
    {
      "cell_type": "code",
      "execution_count": 31,
      "metadata": {
        "id": "k6MNVZ5WxsRF"
      },
      "outputs": [],
      "source": [
        "# построим регрессию Лассо с оптимальным параметром регуляризации, который мы подобрали перебором\n",
        "model_reg = Ridge(alpha=50, max_iter=10000) # alpha — величина регуляризации\n",
        "\n",
        "# обучение\n",
        "model_reg.fit(X_train_scaled, y_train)\n",
        "y_pred_test = model_reg.predict(X_test_scaled)\n",
        "y_pred_train = model_reg.predict(X_train_scaled)\n",
        "\n",
        "mse_test = mean_squared_error(y_test, y_pred_test )\n",
        "\n",
        "mse_train = mean_squared_error(y_train, y_pred_train )\n",
        "\n",
        "coefficients = model_reg.coef_"
      ]
    },
    {
      "cell_type": "code",
      "execution_count": 32,
      "metadata": {
        "colab": {
          "base_uri": "https://localhost:8080/"
        },
        "id": "6Jh-klZvx3Pn",
        "outputId": "3432e12d-3ed3-45c5-9692-35f79b1f16d6"
      },
      "outputs": [
        {
          "data": {
            "text/plain": [
              "(10345.187376527107, 9871.707614391493)"
            ]
          },
          "execution_count": 32,
          "metadata": {},
          "output_type": "execute_result"
        }
      ],
      "source": [
        "mse_test, mse_train"
      ]
    },
    {
      "cell_type": "code",
      "execution_count": 33,
      "metadata": {
        "colab": {
          "base_uri": "https://localhost:8080/"
        },
        "id": "gUHlVoATx4tN",
        "outputId": "8e71ec1c-b90b-4eb1-9e7d-5c2a2792b822"
      },
      "outputs": [
        {
          "data": {
            "text/plain": [
              "array([0.14248731])"
            ]
          },
          "execution_count": 33,
          "metadata": {},
          "output_type": "execute_result"
        }
      ],
      "source": [
        "model.intercept_"
      ]
    },
    {
      "cell_type": "code",
      "execution_count": 34,
      "metadata": {
        "colab": {
          "base_uri": "https://localhost:8080/"
        },
        "id": "9EKB2V14x4w4",
        "outputId": "ace75333-3bed-4ffb-9ca8-ed1f6939f15d"
      },
      "outputs": [
        {
          "data": {
            "text/plain": [
              "array([ 7.97167858, -0.08717356])"
            ]
          },
          "execution_count": 34,
          "metadata": {},
          "output_type": "execute_result"
        }
      ],
      "source": [
        "coefficients"
      ]
    },
    {
      "cell_type": "code",
      "execution_count": 35,
      "metadata": {
        "colab": {
          "base_uri": "https://localhost:8080/"
        },
        "id": "R34_P2-UvZEm",
        "outputId": "935aabde-3faa-4286-81d8-a409e5bd8a93"
      },
      "outputs": [
        {
          "name": "stdout",
          "output_type": "stream",
          "text": [
            "ТО есть мы получили модель y = 0.14248731395288972 + 7.971678583310963 * feature1 + -0.08717356313089523 * feature_new\n"
          ]
        }
      ],
      "source": [
        "print(f'ТО есть мы получили модель y = {model.intercept_[0]} + {coefficients[0]} * feature1 + {coefficients[1]} * feature_new')"
      ]
    },
    {
      "cell_type": "markdown",
      "metadata": {
        "id": "F4EU-9iYvmbz"
      },
      "source": [
        "Модель с регуляризацией L1 занулила коэффициент при feature1, модель с L2 регуляризацией снизила коэффициент"
      ]
    },
    {
      "cell_type": "markdown",
      "metadata": {
        "id": "OFALpXW1qZ74"
      },
      "source": [
        "# Классификация"
      ]
    },
    {
      "cell_type": "code",
      "execution_count": 36,
      "metadata": {
        "id": "12BLGeReqciI"
      },
      "outputs": [],
      "source": [
        "import numpy as np\n",
        "import pandas as pd\n",
        "from sklearn.datasets import make_classification\n",
        "from sklearn.linear_model import LogisticRegression\n",
        "from sklearn.model_selection import GridSearchCV, train_test_split\n",
        "from sklearn.pipeline import Pipeline\n",
        "from sklearn.preprocessing import StandardScaler\n",
        "from sklearn.metrics import classification_report, roc_auc_score, roc_curve\n",
        "import matplotlib.pyplot as plt"
      ]
    },
    {
      "cell_type": "code",
      "execution_count": 37,
      "metadata": {
        "id": "uI87H9Xctv1y"
      },
      "outputs": [],
      "source": [
        "# Функция для вывода значимости признаков\n",
        "def print_feature_importance(model, feature_names):\n",
        "    importance = np.abs(model.coef_[0])\n",
        "    feature_importance = pd.Series(importance, index=feature_names).sort_values(ascending=False)\n",
        "    print(feature_importance)"
      ]
    },
    {
      "cell_type": "code",
      "execution_count": 38,
      "metadata": {
        "id": "0WjQNYiJsbFT"
      },
      "outputs": [],
      "source": [
        "# Создание исходного набора данных\n",
        "X, y = make_classification(n_samples=1000, n_features=5, random_state=42)\n",
        "\n",
        "# Преобразуем в DataFrame для удобства\n",
        "df = pd.DataFrame(X, columns=[f'feature_{i}' for i in range(X.shape[1])])\n",
        "\n",
        "# Создаем дополнительные признаки с высокой корреляцией\n",
        "df['feature_10'] = df['feature_0'] * 0.8 + np.random.normal(0, 0.3, size=df.shape[0])\n",
        "df['feature_11'] = df['feature_1'] * 0.8 + np.random.normal(0, 0.9, size=df.shape[0])\n",
        "df['feature_12'] = df['feature_2'] * 0.8 + np.random.normal(0, 0.9, size=df.shape[0])\n",
        "\n"
      ]
    },
    {
      "cell_type": "code",
      "execution_count": 39,
      "metadata": {
        "colab": {
          "base_uri": "https://localhost:8080/",
          "height": 468
        },
        "id": "cf_x29QIsbIX",
        "outputId": "1fcce1c3-a42a-46cd-c27a-c7c652a2204d"
      },
      "outputs": [
        {
          "data": {
            "image/png": "[encoded data removed]",
            "text/plain": [
              "<Figure size 1000x500 with 2 Axes>"
            ]
          },
          "metadata": {},
          "output_type": "display_data"
        }
      ],
      "source": [
        "# Расчет матрицы парных корреляций\n",
        "correlation_matrix = df.corr()\n",
        "# Визуализация матрицы парных корреляций\n",
        "plt.figure(figsize=(10, 5))\n",
        "sns.heatmap(correlation_matrix, annot=True, cmap='coolwarm')\n",
        "plt.title('Матрица парных корреляций')\n",
        "plt.show()"
      ]
    },
    {
      "cell_type": "code",
      "execution_count": 40,
      "metadata": {
        "colab": {
          "base_uri": "https://localhost:8080/",
          "height": 927
        },
        "id": "HYRxxcQvs91o",
        "outputId": "537d6c29-8d78-4c5a-fcaa-f5a9baf748b1"
      },
      "outputs": [
        {
          "data": {
            "application/vnd.google.colaboratory.intrinsic+json": {
              "summary": "{\n  \"name\": \"df_corr_pairs\",\n  \"rows\": 28,\n  \"fields\": [\n    {\n      \"column\": \"feature_1\",\n      \"properties\": {\n        \"dtype\": \"category\",\n        \"num_unique_values\": 8,\n        \"samples\": [\n          \"feature_10\",\n          \"feature_4\",\n          \"feature_3\"\n        ],\n        \"semantic_type\": \"\",\n        \"description\": \"\"\n      }\n    },\n    {\n      \"column\": \"feature_2\",\n      \"properties\": {\n        \"dtype\": \"category\",\n        \"num_unique_values\": 8,\n        \"samples\": [\n          \"feature_3\",\n          \"feature_2\",\n          \"feature_0\"\n        ],\n        \"semantic_type\": \"\",\n        \"description\": \"\"\n      }\n    },\n    {\n      \"column\": \"corr\",\n      \"properties\": {\n        \"dtype\": \"number\",\n        \"std\": 0.5145363509031496,\n        \"min\": -0.9499655746670213,\n        \"max\": 0.9648781156083693,\n        \"num_unique_values\": 28,\n        \"samples\": [\n          -0.034292321023665084,\n          0.6670441991478672,\n          -0.4059432761216156\n        ],\n        \"semantic_type\": \"\",\n        \"description\": \"\"\n      }\n    }\n  ]\n}",
              "type": "dataframe"
            },
            "text/html": [
              "\n",
              "  <div id=\"df-9331bb62-e6d5-42d6-bfb0-9c7042970db3\" class=\"colab-df-container\">\n",
              "    <div>\n",
              "<style scoped>\n",
              "    .dataframe tbody tr th:only-of-type {\n",
              "        vertical-align: middle;\n",
              "    }\n",
              "\n",
              "    .dataframe tbody tr th {\n",
              "        vertical-align: top;\n",
              "    }\n",
              "\n",
              "    .dataframe thead th {\n",
              "        text-align: right;\n",
              "    }\n",
              "</style>\n",
              "<table border=\"1\" class=\"dataframe\">\n",
              "  <thead>\n",
              "    <tr style=\"text-align: right;\">\n",
              "      <th></th>\n",
              "      <th>feature_1</th>\n",
              "      <th>feature_2</th>\n",
              "      <th>corr</th>\n",
              "    </tr>\n",
              "  </thead>\n",
              "  <tbody>\n",
              "    <tr>\n",
              "      <th>27</th>\n",
              "      <td>feature_3</td>\n",
              "      <td>feature_0</td>\n",
              "      <td>-0.949966</td>\n",
              "    </tr>\n",
              "    <tr>\n",
              "      <th>26</th>\n",
              "      <td>feature_10</td>\n",
              "      <td>feature_3</td>\n",
              "      <td>-0.918852</td>\n",
              "    </tr>\n",
              "    <tr>\n",
              "      <th>25</th>\n",
              "      <td>feature_1</td>\n",
              "      <td>feature_0</td>\n",
              "      <td>-0.779008</td>\n",
              "    </tr>\n",
              "    <tr>\n",
              "      <th>24</th>\n",
              "      <td>feature_1</td>\n",
              "      <td>feature_10</td>\n",
              "      <td>-0.756166</td>\n",
              "    </tr>\n",
              "    <tr>\n",
              "      <th>23</th>\n",
              "      <td>feature_1</td>\n",
              "      <td>feature_4</td>\n",
              "      <td>-0.701895</td>\n",
              "    </tr>\n",
              "    <tr>\n",
              "      <th>22</th>\n",
              "      <td>feature_0</td>\n",
              "      <td>feature_11</td>\n",
              "      <td>-0.481502</td>\n",
              "    </tr>\n",
              "    <tr>\n",
              "      <th>21</th>\n",
              "      <td>feature_11</td>\n",
              "      <td>feature_10</td>\n",
              "      <td>-0.468539</td>\n",
              "    </tr>\n",
              "    <tr>\n",
              "      <th>20</th>\n",
              "      <td>feature_4</td>\n",
              "      <td>feature_11</td>\n",
              "      <td>-0.466714</td>\n",
              "    </tr>\n",
              "    <tr>\n",
              "      <th>19</th>\n",
              "      <td>feature_3</td>\n",
              "      <td>feature_4</td>\n",
              "      <td>-0.405943</td>\n",
              "    </tr>\n",
              "    <tr>\n",
              "      <th>18</th>\n",
              "      <td>feature_12</td>\n",
              "      <td>feature_10</td>\n",
              "      <td>-0.034292</td>\n",
              "    </tr>\n",
              "    <tr>\n",
              "      <th>17</th>\n",
              "      <td>feature_12</td>\n",
              "      <td>feature_0</td>\n",
              "      <td>-0.030594</td>\n",
              "    </tr>\n",
              "    <tr>\n",
              "      <th>16</th>\n",
              "      <td>feature_2</td>\n",
              "      <td>feature_10</td>\n",
              "      <td>-0.016511</td>\n",
              "    </tr>\n",
              "    <tr>\n",
              "      <th>15</th>\n",
              "      <td>feature_0</td>\n",
              "      <td>feature_2</td>\n",
              "      <td>-0.014049</td>\n",
              "    </tr>\n",
              "    <tr>\n",
              "      <th>14</th>\n",
              "      <td>feature_11</td>\n",
              "      <td>feature_12</td>\n",
              "      <td>-0.007769</td>\n",
              "    </tr>\n",
              "    <tr>\n",
              "      <th>13</th>\n",
              "      <td>feature_4</td>\n",
              "      <td>feature_12</td>\n",
              "      <td>-0.006208</td>\n",
              "    </tr>\n",
              "    <tr>\n",
              "      <th>12</th>\n",
              "      <td>feature_4</td>\n",
              "      <td>feature_2</td>\n",
              "      <td>-0.005804</td>\n",
              "    </tr>\n",
              "    <tr>\n",
              "      <th>11</th>\n",
              "      <td>feature_2</td>\n",
              "      <td>feature_11</td>\n",
              "      <td>0.008958</td>\n",
              "    </tr>\n",
              "    <tr>\n",
              "      <th>10</th>\n",
              "      <td>feature_2</td>\n",
              "      <td>feature_1</td>\n",
              "      <td>0.013715</td>\n",
              "    </tr>\n",
              "    <tr>\n",
              "      <th>9</th>\n",
              "      <td>feature_2</td>\n",
              "      <td>feature_3</td>\n",
              "      <td>0.014726</td>\n",
              "    </tr>\n",
              "    <tr>\n",
              "      <th>8</th>\n",
              "      <td>feature_1</td>\n",
              "      <td>feature_12</td>\n",
              "      <td>0.025814</td>\n",
              "    </tr>\n",
              "    <tr>\n",
              "      <th>7</th>\n",
              "      <td>feature_12</td>\n",
              "      <td>feature_3</td>\n",
              "      <td>0.030050</td>\n",
              "    </tr>\n",
              "    <tr>\n",
              "      <th>6</th>\n",
              "      <td>feature_4</td>\n",
              "      <td>feature_0</td>\n",
              "      <td>0.100172</td>\n",
              "    </tr>\n",
              "    <tr>\n",
              "      <th>5</th>\n",
              "      <td>feature_4</td>\n",
              "      <td>feature_10</td>\n",
              "      <td>0.103823</td>\n",
              "    </tr>\n",
              "    <tr>\n",
              "      <th>4</th>\n",
              "      <td>feature_3</td>\n",
              "      <td>feature_11</td>\n",
              "      <td>0.588786</td>\n",
              "    </tr>\n",
              "    <tr>\n",
              "      <th>3</th>\n",
              "      <td>feature_1</td>\n",
              "      <td>feature_11</td>\n",
              "      <td>0.638814</td>\n",
              "    </tr>\n",
              "    <tr>\n",
              "      <th>2</th>\n",
              "      <td>feature_12</td>\n",
              "      <td>feature_2</td>\n",
              "      <td>0.667044</td>\n",
              "    </tr>\n",
              "    <tr>\n",
              "      <th>1</th>\n",
              "      <td>feature_3</td>\n",
              "      <td>feature_1</td>\n",
              "      <td>0.935882</td>\n",
              "    </tr>\n",
              "    <tr>\n",
              "      <th>0</th>\n",
              "      <td>feature_10</td>\n",
              "      <td>feature_0</td>\n",
              "      <td>0.964878</td>\n",
              "    </tr>\n",
              "  </tbody>\n",
              "</table>\n",
              "</div>\n",
              "    <div class=\"colab-df-buttons\">\n",
              "\n",
              "  <div class=\"colab-df-container\">\n",
              "    <button class=\"colab-df-convert\" onclick=\"convertToInteractive('df-9331bb62-e6d5-42d6-bfb0-9c7042970db3')\"\n",
              "            title=\"Convert this dataframe to an interactive table.\"\n",
              "            style=\"display:none;\">\n",
              "\n",
              "  <svg xmlns=\"http://www.w3.org/2000/svg\" height=\"24px\" viewBox=\"0 -960 960 960\">\n",
              "    <path d=\"M120-120v-720h720v720H120Zm60-500h600v-160H180v160Zm220 220h160v-160H400v160Zm0 220h160v-160H400v160ZM180-400h160v-160H180v160Zm440 0h160v-160H620v160ZM180-180h160v-160H180v160Zm440 0h160v-160H620v160Z\"/>\n",
              "  </svg>\n",
              "    </button>\n",
              "\n",
              "  <style>\n",
              "    .colab-df-container {\n",
              "      display:flex;\n",
              "      gap: 12px;\n",
              "    }\n",
              "\n",
              "    .colab-df-convert {\n",
              "      background-color: #E8F0FE;\n",
              "      border: none;\n",
              "      border-radius: 50%;\n",
              "      cursor: pointer;\n",
              "      display: none;\n",
              "      fill: #1967D2;\n",
              "      height: 32px;\n",
              "      padding: 0 0 0 0;\n",
              "      width: 32px;\n",
              "    }\n",
              "\n",
              "    .colab-df-convert:hover {\n",
              "      background-color: #E2EBFA;\n",
              "      box-shadow: 0px 1px 2px rgba(60, 64, 67, 0.3), 0px 1px 3px 1px rgba(60, 64, 67, 0.15);\n",
              "      fill: #174EA6;\n",
              "    }\n",
              "\n",
              "    .colab-df-buttons div {\n",
              "      margin-bottom: 4px;\n",
              "    }\n",
              "\n",
              "    [theme=dark] .colab-df-convert {\n",
              "      background-color: #3B4455;\n",
              "      fill: #D2E3FC;\n",
              "    }\n",
              "\n",
              "    [theme=dark] .colab-df-convert:hover {\n",
              "      background-color: #434B5C;\n",
              "      box-shadow: 0px 1px 3px 1px rgba(0, 0, 0, 0.15);\n",
              "      filter: drop-shadow(0px 1px 2px rgba(0, 0, 0, 0.3));\n",
              "      fill: #FFFFFF;\n",
              "    }\n",
              "  </style>\n",
              "\n",
              "    <script>\n",
              "      const buttonEl =\n",
              "        document.querySelector('#df-9331bb62-e6d5-42d6-bfb0-9c7042970db3 button.colab-df-convert');\n",
              "      buttonEl.style.display =\n",
              "        google.colab.kernel.accessAllowed ? 'block' : 'none';\n",
              "\n",
              "      async function convertToInteractive(key) {\n",
              "        const element = document.querySelector('#df-9331bb62-e6d5-42d6-bfb0-9c7042970db3');\n",
              "        const dataTable =\n",
              "          await google.colab.kernel.invokeFunction('convertToInteractive',\n",
              "                                                    [key], {});\n",
              "        if (!dataTable) return;\n",
              "\n",
              "        const docLinkHtml = 'Like what you see? Visit the ' +\n",
              "          '<a target=\"_blank\" href=https://colab.research.google.com/notebooks/data_table.ipynb>data table notebook</a>'\n",
              "          + ' to learn more about interactive tables.';\n",
              "        element.innerHTML = '';\n",
              "        dataTable['output_type'] = 'display_data';\n",
              "        await google.colab.output.renderOutput(dataTable, element);\n",
              "        const docLink = document.createElement('div');\n",
              "        docLink.innerHTML = docLinkHtml;\n",
              "        element.appendChild(docLink);\n",
              "      }\n",
              "    </script>\n",
              "  </div>\n",
              "\n",
              "\n",
              "<div id=\"df-bcef353c-62fd-4786-ada8-a170b87efc30\">\n",
              "  <button class=\"colab-df-quickchart\" onclick=\"quickchart('df-bcef353c-62fd-4786-ada8-a170b87efc30')\"\n",
              "            title=\"Suggest charts\"\n",
              "            style=\"display:none;\">\n",
              "\n",
              "<svg xmlns=\"http://www.w3.org/2000/svg\" height=\"24px\"viewBox=\"0 0 24 24\"\n",
              "     width=\"24px\">\n",
              "    <g>\n",
              "        <path d=\"M19 3H5c-1.1 0-2 .9-2 2v14c0 1.1.9 2 2 2h14c1.1 0 2-.9 2-2V5c0-1.1-.9-2-2-2zM9 17H7v-7h2v7zm4 0h-2V7h2v10zm4 0h-2v-4h2v4z\"/>\n",
              "    </g>\n",
              "</svg>\n",
              "  </button>\n",
              "\n",
              "<style>\n",
              "  .colab-df-quickchart {\n",
              "      --bg-color: #E8F0FE;\n",
              "      --fill-color: #1967D2;\n",
              "      --hover-bg-color: #E2EBFA;\n",
              "      --hover-fill-color: #174EA6;\n",
              "      --disabled-fill-color: #AAA;\n",
              "      --disabled-bg-color: #DDD;\n",
              "  }\n",
              "\n",
              "  [theme=dark] .colab-df-quickchart {\n",
              "      --bg-color: #3B4455;\n",
              "      --fill-color: #D2E3FC;\n",
              "      --hover-bg-color: #434B5C;\n",
              "      --hover-fill-color: #FFFFFF;\n",
              "      --disabled-bg-color: #3B4455;\n",
              "      --disabled-fill-color: #666;\n",
              "  }\n",
              "\n",
              "  .colab-df-quickchart {\n",
              "    background-color: var(--bg-color);\n",
              "    border: none;\n",
              "    border-radius: 50%;\n",
              "    cursor: pointer;\n",
              "    display: none;\n",
              "    fill: var(--fill-color);\n",
              "    height: 32px;\n",
              "    padding: 0;\n",
              "    width: 32px;\n",
              "  }\n",
              "\n",
              "  .colab-df-quickchart:hover {\n",
              "    background-color: var(--hover-bg-color);\n",
              "    box-shadow: 0 1px 2px rgba(60, 64, 67, 0.3), 0 1px 3px 1px rgba(60, 64, 67, 0.15);\n",
              "    fill: var(--button-hover-fill-color);\n",
              "  }\n",
              "\n",
              "  .colab-df-quickchart-complete:disabled,\n",
              "  .colab-df-quickchart-complete:disabled:hover {\n",
              "    background-color: var(--disabled-bg-color);\n",
              "    fill: var(--disabled-fill-color);\n",
              "    box-shadow: none;\n",
              "  }\n",
              "\n",
              "  .colab-df-spinner {\n",
              "    border: 2px solid var(--fill-color);\n",
              "    border-color: transparent;\n",
              "    border-bottom-color: var(--fill-color);\n",
              "    animation:\n",
              "      spin 1s steps(1) infinite;\n",
              "  }\n",
              "\n",
              "  @keyframes spin {\n",
              "    0% {\n",
              "      border-color: transparent;\n",
              "      border-bottom-color: var(--fill-color);\n",
              "      border-left-color: var(--fill-color);\n",
              "    }\n",
              "    20% {\n",
              "      border-color: transparent;\n",
              "      border-left-color: var(--fill-color);\n",
              "      border-top-color: var(--fill-color);\n",
              "    }\n",
              "    30% {\n",
              "      border-color: transparent;\n",
              "      border-left-color: var(--fill-color);\n",
              "      border-top-color: var(--fill-color);\n",
              "      border-right-color: var(--fill-color);\n",
              "    }\n",
              "    40% {\n",
              "      border-color: transparent;\n",
              "      border-right-color: var(--fill-color);\n",
              "      border-top-color: var(--fill-color);\n",
              "    }\n",
              "    60% {\n",
              "      border-color: transparent;\n",
              "      border-right-color: var(--fill-color);\n",
              "    }\n",
              "    80% {\n",
              "      border-color: transparent;\n",
              "      border-right-color: var(--fill-color);\n",
              "      border-bottom-color: var(--fill-color);\n",
              "    }\n",
              "    90% {\n",
              "      border-color: transparent;\n",
              "      border-bottom-color: var(--fill-color);\n",
              "    }\n",
              "  }\n",
              "</style>\n",
              "\n",
              "  <script>\n",
              "    async function quickchart(key) {\n",
              "      const quickchartButtonEl =\n",
              "        document.querySelector('#' + key + ' button');\n",
              "      quickchartButtonEl.disabled = true;  // To prevent multiple clicks.\n",
              "      quickchartButtonEl.classList.add('colab-df-spinner');\n",
              "      try {\n",
              "        const charts = await google.colab.kernel.invokeFunction(\n",
              "            'suggestCharts', [key], {});\n",
              "      } catch (error) {\n",
              "        console.error('Error during call to suggestCharts:', error);\n",
              "      }\n",
              "      quickchartButtonEl.classList.remove('colab-df-spinner');\n",
              "      quickchartButtonEl.classList.add('colab-df-quickchart-complete');\n",
              "    }\n",
              "    (() => {\n",
              "      let quickchartButtonEl =\n",
              "        document.querySelector('#df-bcef353c-62fd-4786-ada8-a170b87efc30 button');\n",
              "      quickchartButtonEl.style.display =\n",
              "        google.colab.kernel.accessAllowed ? 'block' : 'none';\n",
              "    })();\n",
              "  </script>\n",
              "</div>\n",
              "    </div>\n",
              "  </div>\n"
            ],
            "text/plain": [
              "     feature_1   feature_2      corr\n",
              "27   feature_3   feature_0 -0.949966\n",
              "26  feature_10   feature_3 -0.918852\n",
              "25   feature_1   feature_0 -0.779008\n",
              "24   feature_1  feature_10 -0.756166\n",
              "23   feature_1   feature_4 -0.701895\n",
              "22   feature_0  feature_11 -0.481502\n",
              "21  feature_11  feature_10 -0.468539\n",
              "20   feature_4  feature_11 -0.466714\n",
              "19   feature_3   feature_4 -0.405943\n",
              "18  feature_12  feature_10 -0.034292\n",
              "17  feature_12   feature_0 -0.030594\n",
              "16   feature_2  feature_10 -0.016511\n",
              "15   feature_0   feature_2 -0.014049\n",
              "14  feature_11  feature_12 -0.007769\n",
              "13   feature_4  feature_12 -0.006208\n",
              "12   feature_4   feature_2 -0.005804\n",
              "11   feature_2  feature_11  0.008958\n",
              "10   feature_2   feature_1  0.013715\n",
              "9    feature_2   feature_3  0.014726\n",
              "8    feature_1  feature_12  0.025814\n",
              "7   feature_12   feature_3  0.030050\n",
              "6    feature_4   feature_0  0.100172\n",
              "5    feature_4  feature_10  0.103823\n",
              "4    feature_3  feature_11  0.588786\n",
              "3    feature_1  feature_11  0.638814\n",
              "2   feature_12   feature_2  0.667044\n",
              "1    feature_3   feature_1  0.935882\n",
              "0   feature_10   feature_0  0.964878"
            ]
          },
          "execution_count": 40,
          "metadata": {},
          "output_type": "execute_result"
        }
      ],
      "source": [
        "corr_pairs = correlation_matrix.unstack()\n",
        "corr_pairs = corr_pairs[corr_pairs != 1].sort_values(ascending=False).drop_duplicates()\n",
        "df_corr_pairs = pd.DataFrame(corr_pairs).reset_index()\n",
        "df_corr_pairs.columns = ['feature_1', 'feature_2', 'corr']\n",
        "df_corr_pairs.sort_values('corr')"
      ]
    },
    {
      "cell_type": "code",
      "execution_count": 41,
      "metadata": {
        "id": "eaWd9svXtj20"
      },
      "outputs": [],
      "source": [
        "\n",
        "# Разделение на обучающую и тестовую выборки\n",
        "X_train, X_test, y_train, y_test = train_test_split(df, y, test_size=0.3, random_state=42)\n"
      ]
    },
    {
      "cell_type": "markdown",
      "metadata": {
        "id": "8Y7_pgOYt3Sa"
      },
      "source": [
        "## Логистическая регрессия без регуляризации"
      ]
    },
    {
      "cell_type": "code",
      "execution_count": 42,
      "metadata": {
        "colab": {
          "base_uri": "https://localhost:8080/"
        },
        "id": "jjwSVkDrt7Lk",
        "outputId": "bd0baff4-7004-4dca-bd4e-1cf78fc64459"
      },
      "outputs": [
        {
          "name": "stdout",
          "output_type": "stream",
          "text": [
            "Логистическая регрессия без регуляризации\n",
            "ROC AUC на трейне: 0.9185689559452663\n",
            "ROC AUC на тесте: 0.9540117416829745\n",
            "feature_0     1.479392\n",
            "feature_3     0.684700\n",
            "feature_4     0.551431\n",
            "feature_1     0.422194\n",
            "feature_12    0.155121\n",
            "feature_10    0.108058\n",
            "feature_2     0.101636\n",
            "feature_11    0.054009\n",
            "dtype: float64\n"
          ]
        }
      ],
      "source": [
        "# Логистическая регрессия без регуляризации\n",
        "log_reg = LogisticRegression(penalty=None, solver='saga', max_iter=10000)\n",
        "log_reg.fit(X_train, y_train)\n",
        "y_train_pred = log_reg.predict_proba(X_train)[:, 1]\n",
        "y_test_pred = log_reg.predict_proba(X_test)[:, 1]\n",
        "print(\"Логистическая регрессия без регуляризации\")\n",
        "print(\"ROC AUC на трейне:\", roc_auc_score(y_train, y_train_pred))\n",
        "print(\"ROC AUC на тесте:\", roc_auc_score(y_test, y_test_pred))\n",
        "\n",
        "print_feature_importance(log_reg, df.columns)"
      ]
    },
    {
      "cell_type": "markdown",
      "metadata": {
        "id": "c5OV-8BWugce"
      },
      "source": [
        "## Логистическая регрессия с L1-регуляризацией (Lasso)"
      ]
    },
    {
      "cell_type": "code",
      "execution_count": 43,
      "metadata": {
        "colab": {
          "base_uri": "https://localhost:8080/"
        },
        "id": "J7cYdmjBuh8e",
        "outputId": "e6d3f9c7-365a-4422-aeb0-9ddbc0aade92"
      },
      "outputs": [
        {
          "name": "stdout",
          "output_type": "stream",
          "text": [
            "Логистическая регрессия с L1-регуляризацией\n",
            "ROC AUC на трейне: 0.9176545507984717\n",
            "ROC AUC на тесте: 0.9557907845579079\n",
            "Значимость признаков (L1-регуляризация):\n",
            "feature_0     2.337366\n",
            "feature_4     0.136068\n",
            "feature_12    0.014547\n",
            "feature_1     0.000000\n",
            "feature_2     0.000000\n",
            "feature_3     0.000000\n",
            "feature_10    0.000000\n",
            "feature_11    0.000000\n",
            "dtype: float64\n"
          ]
        }
      ],
      "source": [
        "param_grid_l1 = {\n",
        "    'logreg__C': np.logspace(-1, 1, 20)\n",
        "}\n",
        "pipe_l1 = Pipeline([\n",
        "    ('scaler', StandardScaler()),\n",
        "    ('logreg', LogisticRegression(penalty='l1', solver='saga', max_iter=10000))\n",
        "])\n",
        "grid_l1 = GridSearchCV(pipe_l1, param_grid_l1, cv=5)\n",
        "grid_l1.fit(X_train, y_train)\n",
        "y_train_pred_l1 = grid_l1.predict_proba(X_train)[:, 1]\n",
        "y_test_pred_l1 = grid_l1.predict_proba(X_test)[:, 1]\n",
        "print(\"Логистическая регрессия с L1-регуляризацией\")\n",
        "print(\"ROC AUC на трейне:\", roc_auc_score(y_train, y_train_pred_l1))\n",
        "print(\"ROC AUC на тесте:\", roc_auc_score(y_test, y_test_pred_l1))\n",
        "\n",
        "print(\"Значимость признаков (L1-регуляризация):\")\n",
        "print_feature_importance(grid_l1.best_estimator_.named_steps['logreg'], df.columns)\n"
      ]
    },
    {
      "cell_type": "code",
      "execution_count": 44,
      "metadata": {
        "colab": {
          "base_uri": "https://localhost:8080/"
        },
        "id": "m8kG_W249r90",
        "outputId": "2dbe8f30-1eb6-4da4-9787-ccb8fe1a3f3b"
      },
      "outputs": [
        {
          "data": {
            "text/plain": [
              "{'logreg__C': 0.1}"
            ]
          },
          "execution_count": 44,
          "metadata": {},
          "output_type": "execute_result"
        }
      ],
      "source": [
        "grid_l1.best_params_"
      ]
    },
    {
      "cell_type": "markdown",
      "metadata": {
        "id": "Es0ZWovsux4R"
      },
      "source": [
        "## Логистическая регрессия с L2-регуляризацией (Ridge)"
      ]
    },
    {
      "cell_type": "code",
      "execution_count": 45,
      "metadata": {
        "colab": {
          "base_uri": "https://localhost:8080/"
        },
        "id": "FZ1Y2LjYu27S",
        "outputId": "eefb9b4d-a9df-457d-a90b-820acccbb910"
      },
      "outputs": [
        {
          "name": "stdout",
          "output_type": "stream",
          "text": [
            "Логистическая регрессия с L2-регуляризацией\n",
            "ROC AUC на трейне: 0.9186995852519512\n",
            "ROC AUC на тесте: 0.9539227895392278\n",
            "Значимость признаков (L2-регуляризация):\n",
            "feature_0     1.458965\n",
            "feature_3     1.036651\n",
            "feature_4     0.911530\n",
            "feature_1     0.460855\n",
            "feature_12    0.184593\n",
            "feature_2     0.093340\n",
            "feature_11    0.057762\n",
            "feature_10    0.020539\n",
            "dtype: float64\n"
          ]
        }
      ],
      "source": [
        "param_grid_l2 = {\n",
        "    'logreg__C': np.logspace(-20, 20, 50)\n",
        "}\n",
        "pipe_l2 = Pipeline([\n",
        "    ('scaler', StandardScaler()),\n",
        "    ('logreg', LogisticRegression(penalty='l2', solver='saga', max_iter=10000))\n",
        "])\n",
        "grid_l2 = GridSearchCV(pipe_l2, param_grid_l2, cv=5)\n",
        "grid_l2.fit(X_train, y_train)\n",
        "y_train_pred_l2 = grid_l2.predict_proba(X_train)[:, 1]\n",
        "y_test_pred_l2 = grid_l2.predict_proba(X_test)[:, 1]\n",
        "print(\"Логистическая регрессия с L2-регуляризацией\")\n",
        "print(\"ROC AUC на трейне:\", roc_auc_score(y_train, y_train_pred_l2))\n",
        "print(\"ROC AUC на тесте:\", roc_auc_score(y_test, y_test_pred_l2))\n",
        "\n",
        "print(\"Значимость признаков (L2-регуляризация):\")\n",
        "print_feature_importance(grid_l2.best_estimator_.named_steps['logreg'], df.columns)\n"
      ]
    },
    {
      "cell_type": "code",
      "execution_count": 46,
      "metadata": {
        "colab": {
          "base_uri": "https://localhost:8080/"
        },
        "id": "R733PVSA9oQR",
        "outputId": "df32a9df-dd87-4ebd-bdb6-286dff23c9e9"
      },
      "outputs": [
        {
          "data": {
            "text/plain": [
              "{'logreg__C': 2.559547922699533}"
            ]
          },
          "execution_count": 46,
          "metadata": {},
          "output_type": "execute_result"
        }
      ],
      "source": [
        "grid_l2.best_params_"
      ]
    },
    {
      "cell_type": "markdown",
      "metadata": {
        "id": "SFsOaZ7Dx1L7"
      },
      "source": [
        "## Логистическая регрессия с Elastic Net регуляризацией"
      ]
    },
    {
      "cell_type": "code",
      "execution_count": 47,
      "metadata": {
        "colab": {
          "base_uri": "https://localhost:8080/"
        },
        "id": "NNbTTcayx2YE",
        "outputId": "1013ae21-e04c-4391-8811-6d459caade26"
      },
      "outputs": [
        {
          "name": "stdout",
          "output_type": "stream",
          "text": [
            "Логистическая регрессия с Elastic Net регуляризацией\n",
            "ROC AUC на трейне: 0.9186097776036054\n",
            "ROC AUC на тесте: 0.9540117416829745\n",
            "Значимость признаков (Elastic Net регуляризация):\n",
            "feature_0     1.759859\n",
            "feature_3     0.919639\n",
            "feature_4     0.583032\n",
            "feature_12    0.157958\n",
            "feature_2     0.065232\n",
            "feature_10    0.049490\n",
            "feature_11    0.036301\n",
            "feature_1     0.000000\n",
            "dtype: float64\n"
          ]
        }
      ],
      "source": [
        "param_grid_elastic = {\n",
        "    'logreg__C': np.logspace(-1, 1, 10),\n",
        "    'logreg__l1_ratio': np.linspace(0, 1, 10)  # параметр смешивания L1 и L2\n",
        "}\n",
        "pipe_elastic = Pipeline([\n",
        "    ('scaler', StandardScaler()),\n",
        "    ('logreg', LogisticRegression(penalty='elasticnet', solver='saga', max_iter=10000))\n",
        "])\n",
        "grid_elastic = GridSearchCV(pipe_elastic, param_grid_elastic, cv=5)\n",
        "grid_elastic.fit(X_train, y_train)\n",
        "y_train_pred_elastic = grid_elastic.predict_proba(X_train)[:, 1]\n",
        "y_test_pred_elastic = grid_elastic.predict_proba(X_test)[:, 1]\n",
        "print(\"Логистическая регрессия с Elastic Net регуляризацией\")\n",
        "print(\"ROC AUC на трейне:\", roc_auc_score(y_train, y_train_pred_elastic))\n",
        "print(\"ROC AUC на тесте:\", roc_auc_score(y_test, y_test_pred_elastic))\n",
        "\n",
        "print(\"Значимость признаков (Elastic Net регуляризация):\")\n",
        "print_feature_importance(grid_elastic.best_estimator_.named_steps['logreg'], df.columns)\n"
      ]
    },
    {
      "cell_type": "code",
      "execution_count": 48,
      "metadata": {
        "colab": {
          "base_uri": "https://localhost:8080/"
        },
        "id": "08W3t1qe70uK",
        "outputId": "7b28eacb-0632-414a-807c-53cb9afb82cb"
      },
      "outputs": [
        {
          "data": {
            "text/plain": [
              "{'logreg__C': 0.774263682681127, 'logreg__l1_ratio': 0.5555555555555556}"
            ]
          },
          "execution_count": 48,
          "metadata": {},
          "output_type": "execute_result"
        }
      ],
      "source": [
        "grid_elastic.best_params_"
      ]
    }
  ],
  "metadata": {
    "colab": {
      "collapsed_sections": [
        "2IWAaxAqqUSo",
        "QOLXC9WFmouJ",
        "O5qvQ1iWgGkg",
        "LPzvhNLkqJjL",
        "JlpmI42QrCeU"
      ],
      "provenance": []
    },
    "kernelspec": {
      "display_name": "Python 3",
      "name": "python3"
    },
    "language_info": {
      "name": "python"
    }
  },
  "nbformat": 4,
  "nbformat_minor": 0
}
