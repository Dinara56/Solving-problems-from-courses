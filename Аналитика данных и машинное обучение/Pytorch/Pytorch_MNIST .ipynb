{
  "cells": [
    {
      "cell_type": "code",
      "execution_count": 27,
      "metadata": {
        "id": "sjiuCQaG7M--"
      },
      "outputs": [],
      "source": [
        "import torch\n",
        "import torchvision\n",
        "import torchvision.transforms as transforms\n",
        "import torch.nn.functional as F  # To use the functional version of relu\n",
        "from torchsummary import summary\n",
        "\n",
        "import torch.nn as nn\n",
        "import torch.optim as optim\n",
        "\n",
        "import matplotlib.pyplot as plt"
      ]
    },
    {
      "cell_type": "markdown",
      "metadata": {
        "id": "r7uCpOztGtxQ"
      },
      "source": [
        "#### Линейная модель"
      ]
    },
    {
      "cell_type": "code",
      "execution_count": 13,
      "metadata": {
        "id": "WRPKB3yw7mly"
      },
      "outputs": [],
      "source": [
        "class FCNet(nn.Module):\n",
        "    def __init__(self):\n",
        "        super().__init__()\n",
        "        self.fc1 = nn.Linear(in_features=28*28, out_features=64)\n",
        "        self.fc2 = nn.Linear(64, 10)\n",
        "        # self.sigmoid = nn.Sigmoid\n",
        "\n",
        "    def forward(self, x):         # x.size = (32, 1, 28, 28)\n",
        "        x = x.view(x.size(0), -1) # x.size = (32, 1 * 28 *28)\n",
        "        x = self.fc1(x)           # x.size = (32, 64)\n",
        "        x = F.relu(x)             # x.size = (32, 64)   #\n",
        "        x = self.fc2(x)           # x.size = (32, 10)\n",
        "        x = F.relu(x)             # x.size = (32, 10)\n",
        "        x = F.log_softmax(x,  dim=1)   # x.size = (32, 10)\n",
        "        return x"
      ]
    },
    {
      "cell_type": "markdown",
      "metadata": {
        "id": "VZvyTcD6GzEq"
      },
      "source": [
        "#### Сверточная модель"
      ]
    },
    {
      "cell_type": "code",
      "execution_count": 33,
      "metadata": {
        "id": "N7_ZwSFMD27q"
      },
      "outputs": [],
      "source": [
        "class ConvNet(nn.Module):\n",
        "    def __init__(self):\n",
        "        super().__init__()\n",
        "        self.conv1 = nn.Conv2d(1, 64, (3, 3), padding=1)\n",
        "        self.conv2 = nn.Conv2d(64, 64, (3, 3), padding=1)\n",
        "        self.max_pool = nn.MaxPool2d(2, stride=2)\n",
        "        self.fc = nn.Linear(in_features=64*7*7, out_features=10)\n",
        "\n",
        "    def forward(self, x):           # x.shape = 32 x 1 x 28 x 28\n",
        "        x = F.relu(self.conv1(x))   # x.shape = 32 x 64 x 28 x 28\n",
        "        x = self.max_pool(x)        # x.shape = 32 x 64 x 14 x 14\n",
        "        x = F.relu(self.conv2(x))   # x.shape = 32 x 64 x 14 x 14\n",
        "        x = self.max_pool(x)        # x.shape = 32 x 64 x 7 x 7\n",
        "\n",
        "        x = x.view(x.size(0), -1)   # x.shape = 32 x 64*7*7\n",
        "\n",
        "        x = self.fc(x)              # x.shape = 32 x 10\n",
        "        x = F.log_softmax(x, dim=1) # x.shape = 32 x 10\n",
        "        return x"
      ]
    },
    {
      "cell_type": "markdown",
      "metadata": {
        "id": "TOcASD54MmjZ"
      },
      "source": [
        "#### Загрузка данных"
      ]
    },
    {
      "cell_type": "code",
      "execution_count": 16,
      "metadata": {
        "id": "PDmjNVzF94JS"
      },
      "outputs": [],
      "source": [
        "# MNIST dataset\n",
        "train_dataset = torchvision.datasets.MNIST(root='data',\n",
        "                                           train=True,\n",
        "                                           transform=transforms.ToTensor(),\n",
        "                                           download=True)\n",
        "\n",
        "test_dataset = torchvision.datasets.MNIST(root='data',\n",
        "                                          train=False,\n",
        "                                          transform=transforms.ToTensor())\n",
        "\n",
        "# Data loader\n",
        "train_dataloader = torch.utils.data.DataLoader(dataset=train_dataset,\n",
        "                                               batch_size=batch_size,\n",
        "                                               shuffle=True)\n",
        "\n",
        "test_dataloader = torch.utils.data.DataLoader(dataset=test_dataset,\n",
        "                                              batch_size=batch_size,\n",
        "                                              shuffle=False)"
      ]
    },
    {
      "cell_type": "code",
      "execution_count": 7,
      "metadata": {
        "id": "XfFwxPZhMQwd"
      },
      "outputs": [],
      "source": [
        "item, label = next(iter(train_dataloader))"
      ]
    },
    {
      "cell_type": "code",
      "execution_count": 12,
      "metadata": {
        "colab": {
          "base_uri": "https://localhost:8080/",
          "height": 469
        },
        "id": "nsqWWyOkMbvo",
        "outputId": "cc29a9b7-0052-419d-c812-4d1e9d7a3b6d"
      },
      "outputs": [
        {
          "data": {
            "text/plain": [
              "Text(0.5, 1.0, 'tensor(6)')"
            ]
          },
          "execution_count": 12,
          "metadata": {},
          "output_type": "execute_result"
        },
        {
          "data": {
            "image/png": "[encoded data removed]",
            "text/plain": [
              "<Figure size 640x480 with 1 Axes>"
            ]
          },
          "metadata": {},
          "output_type": "display_data"
        }
      ],
      "source": [
        "plt.imshow(item[30][0], cmap='gray')\n",
        "plt.title(label[30])"
      ]
    },
    {
      "cell_type": "code",
      "execution_count": 19,
      "metadata": {
        "colab": {
          "base_uri": "https://localhost:8080/"
        },
        "id": "dszJ8beLukfT",
        "outputId": "337a1d56-be45-4e6b-da4c-2541e09698b3"
      },
      "outputs": [
        {
          "data": {
            "text/plain": [
              "60000"
            ]
          },
          "execution_count": 19,
          "metadata": {},
          "output_type": "execute_result"
        }
      ],
      "source": [
        "len(train_dataset)"
      ]
    },
    {
      "cell_type": "markdown",
      "metadata": {
        "id": "DcgJWCG_Mfl-"
      },
      "source": [
        "### Обучение моделей"
      ]
    },
    {
      "cell_type": "code",
      "execution_count": 17,
      "metadata": {
        "id": "cHddx2B474I1"
      },
      "outputs": [],
      "source": [
        "num_epochs = 2\n",
        "batch_size = 32\n",
        "device = torch.device('cuda' if torch.cuda.is_available() else 'cpu')"
      ]
    },
    {
      "cell_type": "code",
      "execution_count": 34,
      "metadata": {
        "id": "CK2y9QVnBOYD"
      },
      "outputs": [],
      "source": [
        "model = ConvNet()\n",
        "optimizer = torch.optim.SGD(model.parameters(), lr=0.001)\n",
        "loss_function = nn.CrossEntropyLoss()"
      ]
    },
    {
      "cell_type": "code",
      "execution_count": 35,
      "metadata": {
        "colab": {
          "base_uri": "https://localhost:8080/"
        },
        "id": "LrspSuvaDCuU",
        "outputId": "a6fd49a2-ee8e-4dde-ff68-1cec79f898d4"
      },
      "outputs": [
        {
          "data": {
            "text/plain": [
              "ConvNet(\n",
              "  (conv1): Conv2d(1, 64, kernel_size=(3, 3), stride=(1, 1), padding=(1, 1))\n",
              "  (conv2): Conv2d(64, 64, kernel_size=(3, 3), stride=(1, 1), padding=(1, 1))\n",
              "  (max_pool): MaxPool2d(kernel_size=2, stride=2, padding=0, dilation=1, ceil_mode=False)\n",
              "  (fc): Linear(in_features=3136, out_features=10, bias=True)\n",
              ")"
            ]
          },
          "execution_count": 35,
          "metadata": {},
          "output_type": "execute_result"
        }
      ],
      "source": [
        "model.to(device)"
      ]
    },
    {
      "cell_type": "code",
      "execution_count": 36,
      "metadata": {
        "colab": {
          "base_uri": "https://localhost:8080/"
        },
        "id": "lu4xil0n8HdW",
        "outputId": "57c7cceb-d05d-41d9-fdf8-2a5c29a236e4"
      },
      "outputs": [
        {
          "name": "stdout",
          "output_type": "stream",
          "text": [
            "----------------------------------------------------------------\n",
            "        Layer (type)               Output Shape         Param #\n",
            "================================================================\n",
            "            Conv2d-1           [-1, 64, 28, 28]             640\n",
            "         MaxPool2d-2           [-1, 64, 14, 14]               0\n",
            "            Conv2d-3           [-1, 64, 14, 14]          36,928\n",
            "         MaxPool2d-4             [-1, 64, 7, 7]               0\n",
            "            Linear-5                   [-1, 10]          31,370\n",
            "================================================================\n",
            "Total params: 68,938\n",
            "Trainable params: 68,938\n",
            "Non-trainable params: 0\n",
            "----------------------------------------------------------------\n",
            "Input size (MB): 0.00\n",
            "Forward/backward pass size (MB): 0.60\n",
            "Params size (MB): 0.26\n",
            "Estimated Total Size (MB): 0.86\n",
            "----------------------------------------------------------------\n"
          ]
        }
      ],
      "source": [
        "summary(model, (1, 28, 28))"
      ]
    },
    {
      "cell_type": "code",
      "execution_count": 38,
      "metadata": {
        "colab": {
          "base_uri": "https://localhost:8080/"
        },
        "id": "QbUEsrggDHyi",
        "outputId": "11f2175c-74b0-4b4a-b173-cbe15d27173a"
      },
      "outputs": [
        {
          "name": "stdout",
          "output_type": "stream",
          "text": [
            "Epoch [1/2], Step [1/1875], Loss: 2.2974\n",
            "Epoch [1/2], Step [101/1875], Loss: 2.2698\n",
            "Epoch [1/2], Step [201/1875], Loss: 2.2521\n",
            "Epoch [1/2], Step [301/1875], Loss: 2.1955\n",
            "Epoch [1/2], Step [401/1875], Loss: 2.1366\n",
            "Epoch [1/2], Step [501/1875], Loss: 2.0892\n",
            "Epoch [1/2], Step [601/1875], Loss: 2.0404\n",
            "Epoch [1/2], Step [701/1875], Loss: 1.9392\n",
            "Epoch [1/2], Step [801/1875], Loss: 1.8522\n",
            "Epoch [1/2], Step [901/1875], Loss: 1.5772\n",
            "Epoch [1/2], Step [1001/1875], Loss: 1.4355\n",
            "Epoch [1/2], Step [1101/1875], Loss: 1.2966\n",
            "Epoch [1/2], Step [1201/1875], Loss: 1.4222\n",
            "Epoch [1/2], Step [1301/1875], Loss: 0.9493\n",
            "Epoch [1/2], Step [1401/1875], Loss: 1.0043\n",
            "Epoch [1/2], Step [1501/1875], Loss: 0.7741\n",
            "Epoch [1/2], Step [1601/1875], Loss: 0.9331\n",
            "Epoch [1/2], Step [1701/1875], Loss: 0.6952\n",
            "Epoch [1/2], Step [1801/1875], Loss: 0.7800\n",
            "Epoch [2/2], Step [1/1875], Loss: 0.6472\n",
            "Epoch [2/2], Step [101/1875], Loss: 0.6023\n",
            "Epoch [2/2], Step [201/1875], Loss: 0.4171\n",
            "Epoch [2/2], Step [301/1875], Loss: 0.5753\n",
            "Epoch [2/2], Step [401/1875], Loss: 0.6232\n",
            "Epoch [2/2], Step [501/1875], Loss: 0.4376\n",
            "Epoch [2/2], Step [601/1875], Loss: 0.3837\n",
            "Epoch [2/2], Step [701/1875], Loss: 0.5578\n",
            "Epoch [2/2], Step [801/1875], Loss: 0.4293\n",
            "Epoch [2/2], Step [901/1875], Loss: 0.6885\n",
            "Epoch [2/2], Step [1001/1875], Loss: 0.3949\n",
            "Epoch [2/2], Step [1101/1875], Loss: 0.3766\n",
            "Epoch [2/2], Step [1201/1875], Loss: 0.5533\n",
            "Epoch [2/2], Step [1301/1875], Loss: 0.3942\n",
            "Epoch [2/2], Step [1401/1875], Loss: 0.3136\n",
            "Epoch [2/2], Step [1501/1875], Loss: 0.4409\n",
            "Epoch [2/2], Step [1601/1875], Loss: 0.5720\n",
            "Epoch [2/2], Step [1701/1875], Loss: 0.4014\n",
            "Epoch [2/2], Step [1801/1875], Loss: 0.4158\n",
            "Epoch [2/2], Step [1875/1875], Loss: 0.2310\n"
          ]
        }
      ],
      "source": [
        "# Train the model\n",
        "loss_list = []\n",
        "total_step = len(train_dataloader)\n",
        "\n",
        "for epoch in range(1, num_epochs + 1):\n",
        "    for i, (images, labels) in enumerate(train_dataloader):\n",
        "        # Move tensors to the configured device\n",
        "        images = images.to(device)\n",
        "        labels = labels.to(device)\n",
        "        labels = F.one_hot(labels, num_classes=10).float()  # labels to tensor\n",
        "\n",
        "        # Forward pass\n",
        "        outputs = model(images)\n",
        "        loss = loss_function(outputs, labels)\n",
        "\n",
        "        # Backward and optimize\n",
        "        optimizer.zero_grad()\n",
        "        loss.backward()\n",
        "        optimizer.step()\n",
        "\n",
        "        loss_list.append(loss.detach().cpu().numpy())\n",
        "        if (i) % 100 == 0:\n",
        "            print (f'Epoch [{epoch}/{num_epochs}], Step [{i+1}/{total_step}], Loss: {loss.item():.4f}')\n",
        "\n",
        "print (f'Epoch [{epoch}/{num_epochs}], Step [{i+1}/{total_step}], Loss: {loss.item():.4f}')"
      ]
    },
    {
      "cell_type": "markdown",
      "metadata": {
        "id": "9sDtwhv0M0QC"
      },
      "source": [
        "### Валидация моделей"
      ]
    },
    {
      "cell_type": "code",
      "execution_count": 39,
      "metadata": {
        "colab": {
          "base_uri": "https://localhost:8080/"
        },
        "id": "bds8z9LKEtpX",
        "outputId": "7af8a31b-0dbc-4954-a011-fd301369478e"
      },
      "outputs": [
        {
          "name": "stdout",
          "output_type": "stream",
          "text": [
            "Accuracy of the network on the MNIST test images: 88.96 %\n"
          ]
        }
      ],
      "source": [
        "# Test the model\n",
        "# In test phase, we don't need to compute gradients (for memory efficiency)\n",
        "with torch.no_grad():\n",
        "    correct = 0\n",
        "    total = 0\n",
        "    for images, labels in test_dataloader:\n",
        "        images = images.to(device)\n",
        "        labels = labels.to(device)\n",
        "        outputs = model(images)\n",
        "        _, predicted = torch.max(outputs.data, 1)\n",
        "        total += labels.size(0)\n",
        "        correct += (predicted == labels).sum().item()\n",
        "\n",
        "    print('Accuracy of the network on the MNIST test images: {} %'.format(100 * correct / total))\n"
      ]
    },
    {
      "cell_type": "code",
      "execution_count": 40,
      "metadata": {
        "colab": {
          "base_uri": "https://localhost:8080/",
          "height": 447
        },
        "id": "qvV0AVlIH2P3",
        "outputId": "78206035-061f-49f9-ac67-ad5ba4b1fecd"
      },
      "outputs": [
        {
          "data": {
            "text/plain": [
              "[<matplotlib.lines.Line2D at 0x7e3fa00a2e00>]"
            ]
          },
          "execution_count": 40,
          "metadata": {},
          "output_type": "execute_result"
        },
        {
          "data": {
            "image/png": "[encoded data removed]",
            "text/plain": [
              "<Figure size 640x480 with 1 Axes>"
            ]
          },
          "metadata": {},
          "output_type": "display_data"
        }
      ],
      "source": [
        "plt.plot(loss_list)"
      ]
    },
    {
      "cell_type": "code",
      "execution_count": null,
      "metadata": {
        "id": "8pwthP67Gw89"
      },
      "outputs": [],
      "source": [
        "torch.save(model.state_dict(), 'model.ckpt')"
      ]
    }
  ],
  "metadata": {
    "accelerator": "GPU",
    "colab": {
      "collapsed_sections": [
        "TOcASD54MmjZ"
      ],
      "gpuType": "T4",
      "provenance": []
    },
    "kernelspec": {
      "display_name": "Python 3",
      "name": "python3"
    },
    "language_info": {
      "name": "python"
    }
  },
  "nbformat": 4,
  "nbformat_minor": 0
}
