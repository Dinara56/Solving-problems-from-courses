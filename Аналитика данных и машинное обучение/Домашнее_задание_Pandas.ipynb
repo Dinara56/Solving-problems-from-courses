{
  "cells": [
    {
      "cell_type": "markdown",
      "metadata": {
        "id": "GiYQGjAL0zsp"
      },
      "source": [
        "# Работа с библиотекой Pandas"
      ]
    },
    {
      "cell_type": "markdown",
      "metadata": {
        "id": "7NRDKGYTNs2c"
      },
      "source": [
        "1. Загрузите набор данных из файла **car_data.csv** по примеру с лекции\n",
        "\n"
      ]
    },
    {
      "cell_type": "code",
      "execution_count": 1,
      "metadata": {
        "id": "MtdlsUmS01oi"
      },
      "outputs": [],
      "source": [
        "import pandas as pd\n",
        "import numpy as np\n",
        "\n",
        "# Загрузка данных из файла car_data.csv\n",
        "file_path = 'car_data.csv'\n",
        "df = pd.read_csv(file_path)"
      ]
    },
    {
      "cell_type": "markdown",
      "metadata": {
        "id": "Sjv3folGN2wg"
      },
      "source": [
        "2. Проведите анализ пропусков в данных. Удалите строки или столбцы, содержащие пропуски."
      ]
    },
    {
      "cell_type": "code",
      "execution_count": 2,
      "metadata": {
        "id": "_7kkMay-N28c"
      },
      "outputs": [
        {
          "name": "stdout",
          "output_type": "stream",
          "text": [
            "Проверка на наличие пропущенных значений:\n",
            "Unnamed: 0        0\n",
            "Car_id            0\n",
            "Date              0\n",
            "Customer Name     0\n",
            "Gender            0\n",
            "Annual Income     0\n",
            "Dealer_Name      72\n",
            "Company          72\n",
            "Model             0\n",
            "Engine            0\n",
            "Transmission      0\n",
            "Color             0\n",
            "Price ($)         0\n",
            "Dealer_No         0\n",
            "Body Style        0\n",
            "Phone             0\n",
            "Dealer_Region     0\n",
            "dtype: int64\n"
          ]
        }
      ],
      "source": [
        "# Анализ пропусков в данных\n",
        "print(\"Проверка на наличие пропущенных значений:\")\n",
        "print(df.isnull().sum())\n",
        "\n",
        "# Удаление строк, содержащих пропуски\n",
        "df_cleaned = df.dropna()\n",
        "\n",
        "# Удаление столбцов, содержащих пропуски\n",
        "df_cleaned = df_cleaned.dropna(axis=1)\n",
        "df_cleaned = df_cleaned.reset_index(drop=True)"
      ]
    },
    {
      "cell_type": "markdown",
      "metadata": {
        "id": "TJGWwvf5N7yW"
      },
      "source": [
        "3. Вычислите средний доход клиентов, купивших автомобиль марки Toyota Camry."
      ]
    },
    {
      "cell_type": "code",
      "execution_count": 3,
      "metadata": {
        "id": "04XMWts3N7yX"
      },
      "outputs": [
        {
          "name": "stdout",
          "output_type": "stream",
          "text": [
            "Средний доход клиентов, купивших автомобиль марки Toyota Camry: $776609.38\n"
          ]
        }
      ],
      "source": [
        "# Отфильтровка данных для модели \"Toyota Camry\"\n",
        "toyota_camry_df = df_cleaned[(df_cleaned['Company'] == 'Toyota') & (df_cleaned['Model'] == 'Camry')]\n",
        "\n",
        "# Вычисление среднего дохода клиентов\n",
        "average_income = toyota_camry_df['Annual Income'].mean()\n",
        "\n",
        "print(f\"Средний доход клиентов, купивших автомобиль марки Toyota Camry: ${average_income:.2f}\")"
      ]
    },
    {
      "cell_type": "markdown",
      "metadata": {
        "id": "6hjhGKJ_N_cY"
      },
      "source": [
        "4. Найдите топ 10 самых дорогих марок автомобилей за представленный период времени.\n"
      ]
    },
    {
      "cell_type": "code",
      "execution_count": 4,
      "metadata": {},
      "outputs": [
        {
          "name": "stdout",
          "output_type": "stream",
          "text": [
            "Топ 10 самых дорогих автомобилей:\n",
            "         Company     Model  Price ($)\n",
            "286       Toyota      RAV4      85600\n",
            "2589    Cadillac  Eldorado      85301\n",
            "1465  Mercedes-B   S-Class      85001\n",
            "626       Toyota      RAV4      85001\n",
            "1158      Toyota      RAV4      85000\n",
            "270     Cadillac  Eldorado      85000\n",
            "1355      Toyota      RAV4      85000\n",
            "1875      Toyota      RAV4      85000\n",
            "1482    Cadillac  Eldorado      85000\n",
            "4895        Audi        A6      85000\n"
          ]
        }
      ],
      "source": [
        "# Сортировка по 'Price ($)' в порядке убывания\n",
        "sorted_df = df_cleaned.sort_values(by='Price ($)', ascending=False)\n",
        "\n",
        "# Вывод топ 10 самых дорогих автомобилей\n",
        "top_10_expensive_cars = sorted_df[['Company', 'Model', 'Price ($)']].head(10)\n",
        "\n",
        "print(\"Топ 10 самых дорогих автомобилей:\")\n",
        "print(top_10_expensive_cars)"
      ]
    },
    {
      "cell_type": "markdown",
      "metadata": {
        "id": "87KfCTHKN_5V"
      },
      "source": [
        "5. Найдите среднюю стоимость автомобилей по типам кузова (Body Style), используя метод groupby."
      ]
    },
    {
      "cell_type": "code",
      "execution_count": 5,
      "metadata": {},
      "outputs": [
        {
          "name": "stdout",
          "output_type": "stream",
          "text": [
            "Средняя стоимость автомобилей по типам кузова: Body Style\n",
            "Passenger    29845.254130\n",
            "Sedan        29698.673056\n",
            "Hardtop      29575.564677\n",
            "Hatchback    27377.561126\n",
            "SUV          26729.765799\n",
            "Name: Price ($), dtype: float64\n"
          ]
        }
      ],
      "source": [
        "average_body = df_cleaned.groupby('Body Style')['Price ($)'].mean().sort_values(ascending=False)\n",
        "\n",
        "print(\"Средняя стоимость автомобилей по типам кузова:\", average_body)"
      ]
    },
    {
      "cell_type": "markdown",
      "metadata": {
        "id": "cqaRFHAjOAAs"
      },
      "source": [
        "6. Какие автомобили приобрели 10 клиентов с самым высоким доходом?"
      ]
    },
    {
      "cell_type": "code",
      "execution_count": 6,
      "metadata": {},
      "outputs": [
        {
          "data": {
            "text/html": [
              "<div>\n",
              "<style scoped>\n",
              "    .dataframe tbody tr th:only-of-type {\n",
              "        vertical-align: middle;\n",
              "    }\n",
              "\n",
              "    .dataframe tbody tr th {\n",
              "        vertical-align: top;\n",
              "    }\n",
              "\n",
              "    .dataframe thead th {\n",
              "        text-align: right;\n",
              "    }\n",
              "</style>\n",
              "<table border=\"1\" class=\"dataframe\">\n",
              "  <thead>\n",
              "    <tr style=\"text-align: right;\">\n",
              "      <th></th>\n",
              "      <th>Company</th>\n",
              "      <th>Model</th>\n",
              "    </tr>\n",
              "  </thead>\n",
              "  <tbody>\n",
              "    <tr>\n",
              "      <th>4683</th>\n",
              "      <td>Chrysler</td>\n",
              "      <td>Concorde</td>\n",
              "    </tr>\n",
              "    <tr>\n",
              "      <th>1155</th>\n",
              "      <td>Cadillac</td>\n",
              "      <td>Eldorado</td>\n",
              "    </tr>\n",
              "    <tr>\n",
              "      <th>1161</th>\n",
              "      <td>Volvo</td>\n",
              "      <td>C70</td>\n",
              "    </tr>\n",
              "    <tr>\n",
              "      <th>3257</th>\n",
              "      <td>Nissan</td>\n",
              "      <td>Pathfinder</td>\n",
              "    </tr>\n",
              "    <tr>\n",
              "      <th>2029</th>\n",
              "      <td>Volvo</td>\n",
              "      <td>S40</td>\n",
              "    </tr>\n",
              "    <tr>\n",
              "      <th>2729</th>\n",
              "      <td>Chevrolet</td>\n",
              "      <td>Corvette</td>\n",
              "    </tr>\n",
              "    <tr>\n",
              "      <th>2380</th>\n",
              "      <td>Porsche</td>\n",
              "      <td>Carrera Cabrio</td>\n",
              "    </tr>\n",
              "    <tr>\n",
              "      <th>2901</th>\n",
              "      <td>Volkswagen</td>\n",
              "      <td>GTI</td>\n",
              "    </tr>\n",
              "    <tr>\n",
              "      <th>3057</th>\n",
              "      <td>BMW</td>\n",
              "      <td>528i</td>\n",
              "    </tr>\n",
              "    <tr>\n",
              "      <th>3835</th>\n",
              "      <td>Ford</td>\n",
              "      <td>Ranger</td>\n",
              "    </tr>\n",
              "  </tbody>\n",
              "</table>\n",
              "</div>"
            ],
            "text/plain": [
              "         Company           Model\n",
              "4683    Chrysler        Concorde\n",
              "1155    Cadillac        Eldorado\n",
              "1161       Volvo             C70\n",
              "3257      Nissan      Pathfinder\n",
              "2029       Volvo             S40\n",
              "2729   Chevrolet        Corvette\n",
              "2380     Porsche  Carrera Cabrio\n",
              "2901  Volkswagen             GTI\n",
              "3057         BMW            528i\n",
              "3835        Ford          Ranger"
            ]
          },
          "execution_count": 6,
          "metadata": {},
          "output_type": "execute_result"
        }
      ],
      "source": [
        "custom = df_cleaned[['Company', 'Model', 'Annual Income']].sort_values(by='Annual Income', ascending=False)\n",
        "\n",
        "custom[['Company', 'Model']].head(10)"
      ]
    },
    {
      "cell_type": "markdown",
      "metadata": {
        "id": "4zAQjPb0OAPM"
      },
      "source": [
        "7. Какие автомобили приобрели 10 клиентов с самым низким доходом?\n"
      ]
    },
    {
      "cell_type": "code",
      "execution_count": 7,
      "metadata": {
        "id": "3hC7eRzCOAPN"
      },
      "outputs": [
        {
          "data": {
            "text/html": [
              "<div>\n",
              "<style scoped>\n",
              "    .dataframe tbody tr th:only-of-type {\n",
              "        vertical-align: middle;\n",
              "    }\n",
              "\n",
              "    .dataframe tbody tr th {\n",
              "        vertical-align: top;\n",
              "    }\n",
              "\n",
              "    .dataframe thead th {\n",
              "        text-align: right;\n",
              "    }\n",
              "</style>\n",
              "<table border=\"1\" class=\"dataframe\">\n",
              "  <thead>\n",
              "    <tr style=\"text-align: right;\">\n",
              "      <th></th>\n",
              "      <th>Company</th>\n",
              "      <th>Model</th>\n",
              "    </tr>\n",
              "  </thead>\n",
              "  <tbody>\n",
              "    <tr>\n",
              "      <th>0</th>\n",
              "      <td>Ford</td>\n",
              "      <td>Expedition</td>\n",
              "    </tr>\n",
              "    <tr>\n",
              "      <th>1637</th>\n",
              "      <td>BMW</td>\n",
              "      <td>323i</td>\n",
              "    </tr>\n",
              "    <tr>\n",
              "      <th>1635</th>\n",
              "      <td>BMW</td>\n",
              "      <td>528i</td>\n",
              "    </tr>\n",
              "    <tr>\n",
              "      <th>3887</th>\n",
              "      <td>Dodge</td>\n",
              "      <td>Stratus</td>\n",
              "    </tr>\n",
              "    <tr>\n",
              "      <th>1629</th>\n",
              "      <td>Volkswagen</td>\n",
              "      <td>GTI</td>\n",
              "    </tr>\n",
              "    <tr>\n",
              "      <th>1627</th>\n",
              "      <td>Volvo</td>\n",
              "      <td>S80</td>\n",
              "    </tr>\n",
              "    <tr>\n",
              "      <th>1623</th>\n",
              "      <td>Lexus</td>\n",
              "      <td>LS400</td>\n",
              "    </tr>\n",
              "    <tr>\n",
              "      <th>3893</th>\n",
              "      <td>Volkswagen</td>\n",
              "      <td>Cabrio</td>\n",
              "    </tr>\n",
              "    <tr>\n",
              "      <th>3895</th>\n",
              "      <td>Ford</td>\n",
              "      <td>Explorer</td>\n",
              "    </tr>\n",
              "    <tr>\n",
              "      <th>3896</th>\n",
              "      <td>Hyundai</td>\n",
              "      <td>Accent</td>\n",
              "    </tr>\n",
              "  </tbody>\n",
              "</table>\n",
              "</div>"
            ],
            "text/plain": [
              "         Company       Model\n",
              "0           Ford  Expedition\n",
              "1637         BMW        323i\n",
              "1635         BMW        528i\n",
              "3887       Dodge     Stratus\n",
              "1629  Volkswagen         GTI\n",
              "1627       Volvo         S80\n",
              "1623       Lexus       LS400\n",
              "3893  Volkswagen      Cabrio\n",
              "3895        Ford    Explorer\n",
              "3896     Hyundai      Accent"
            ]
          },
          "execution_count": 7,
          "metadata": {},
          "output_type": "execute_result"
        }
      ],
      "source": [
        "custom_ = df_cleaned[['Company', 'Model', 'Annual Income']].sort_values(by='Annual Income', ascending=True)\n",
        "\n",
        "custom_[['Company', 'Model']].head(10)"
      ]
    },
    {
      "cell_type": "markdown",
      "metadata": {
        "id": "JhhWfqdNOOd-"
      },
      "source": [
        "8. Создайте новый столбец, значения которого равны логарифму от величины дохода клиентов.\n"
      ]
    },
    {
      "cell_type": "code",
      "execution_count": 8,
      "metadata": {},
      "outputs": [
        {
          "data": {
            "text/html": [
              "<div>\n",
              "<style scoped>\n",
              "    .dataframe tbody tr th:only-of-type {\n",
              "        vertical-align: middle;\n",
              "    }\n",
              "\n",
              "    .dataframe tbody tr th {\n",
              "        vertical-align: top;\n",
              "    }\n",
              "\n",
              "    .dataframe thead th {\n",
              "        text-align: right;\n",
              "    }\n",
              "</style>\n",
              "<table border=\"1\" class=\"dataframe\">\n",
              "  <thead>\n",
              "    <tr style=\"text-align: right;\">\n",
              "      <th></th>\n",
              "      <th>Unnamed: 0</th>\n",
              "      <th>Car_id</th>\n",
              "      <th>Date</th>\n",
              "      <th>Customer Name</th>\n",
              "      <th>Gender</th>\n",
              "      <th>Annual Income</th>\n",
              "      <th>Dealer_Name</th>\n",
              "      <th>Company</th>\n",
              "      <th>Model</th>\n",
              "      <th>Engine</th>\n",
              "      <th>Transmission</th>\n",
              "      <th>Color</th>\n",
              "      <th>Price ($)</th>\n",
              "      <th>Dealer_No</th>\n",
              "      <th>Body Style</th>\n",
              "      <th>Phone</th>\n",
              "      <th>Dealer_Region</th>\n",
              "      <th>Log Annual Income</th>\n",
              "    </tr>\n",
              "  </thead>\n",
              "  <tbody>\n",
              "    <tr>\n",
              "      <th>0</th>\n",
              "      <td>0</td>\n",
              "      <td>C_CND_000001</td>\n",
              "      <td>1/2/2022</td>\n",
              "      <td>Geraldine</td>\n",
              "      <td>Male</td>\n",
              "      <td>13500</td>\n",
              "      <td>Buddy Storbeck's Diesel Service Inc</td>\n",
              "      <td>Ford</td>\n",
              "      <td>Expedition</td>\n",
              "      <td>DoubleÂ Overhead Camshaft</td>\n",
              "      <td>Auto</td>\n",
              "      <td>Black</td>\n",
              "      <td>26000</td>\n",
              "      <td>06457-3834</td>\n",
              "      <td>SUV</td>\n",
              "      <td>8264678</td>\n",
              "      <td>Middletown</td>\n",
              "      <td>9.510445</td>\n",
              "    </tr>\n",
              "    <tr>\n",
              "      <th>1</th>\n",
              "      <td>1</td>\n",
              "      <td>C_CND_000002</td>\n",
              "      <td>1/2/2022</td>\n",
              "      <td>Gia</td>\n",
              "      <td>Male</td>\n",
              "      <td>1480000</td>\n",
              "      <td>C &amp; M Motors Inc</td>\n",
              "      <td>Dodge</td>\n",
              "      <td>Durango</td>\n",
              "      <td>DoubleÂ Overhead Camshaft</td>\n",
              "      <td>Auto</td>\n",
              "      <td>Black</td>\n",
              "      <td>19000</td>\n",
              "      <td>60504-7114</td>\n",
              "      <td>SUV</td>\n",
              "      <td>6848189</td>\n",
              "      <td>Aurora</td>\n",
              "      <td>14.207553</td>\n",
              "    </tr>\n",
              "    <tr>\n",
              "      <th>2</th>\n",
              "      <td>2</td>\n",
              "      <td>C_CND_000003</td>\n",
              "      <td>1/2/2022</td>\n",
              "      <td>Gianna</td>\n",
              "      <td>Male</td>\n",
              "      <td>1035000</td>\n",
              "      <td>Capitol KIA</td>\n",
              "      <td>Cadillac</td>\n",
              "      <td>Eldorado</td>\n",
              "      <td>Overhead Camshaft</td>\n",
              "      <td>Manual</td>\n",
              "      <td>Red</td>\n",
              "      <td>31500</td>\n",
              "      <td>38701-8047</td>\n",
              "      <td>Passenger</td>\n",
              "      <td>7298798</td>\n",
              "      <td>Greenville</td>\n",
              "      <td>13.849912</td>\n",
              "    </tr>\n",
              "    <tr>\n",
              "      <th>3</th>\n",
              "      <td>3</td>\n",
              "      <td>C_CND_000004</td>\n",
              "      <td>1/2/2022</td>\n",
              "      <td>Giselle</td>\n",
              "      <td>Male</td>\n",
              "      <td>13500</td>\n",
              "      <td>Chrysler of Tri-Cities</td>\n",
              "      <td>Toyota</td>\n",
              "      <td>Celica</td>\n",
              "      <td>Overhead Camshaft</td>\n",
              "      <td>Manual</td>\n",
              "      <td>Pale White</td>\n",
              "      <td>14000</td>\n",
              "      <td>99301-3882</td>\n",
              "      <td>SUV</td>\n",
              "      <td>6257557</td>\n",
              "      <td>Pasco</td>\n",
              "      <td>9.510445</td>\n",
              "    </tr>\n",
              "    <tr>\n",
              "      <th>4</th>\n",
              "      <td>4</td>\n",
              "      <td>C_CND_000005</td>\n",
              "      <td>1/2/2022</td>\n",
              "      <td>Grace</td>\n",
              "      <td>Male</td>\n",
              "      <td>1465000</td>\n",
              "      <td>Chrysler Plymouth</td>\n",
              "      <td>Acura</td>\n",
              "      <td>TL</td>\n",
              "      <td>DoubleÂ Overhead Camshaft</td>\n",
              "      <td>Auto</td>\n",
              "      <td>Red</td>\n",
              "      <td>24500</td>\n",
              "      <td>53546-9427</td>\n",
              "      <td>Hatchback</td>\n",
              "      <td>7081483</td>\n",
              "      <td>Janesville</td>\n",
              "      <td>14.197366</td>\n",
              "    </tr>\n",
              "  </tbody>\n",
              "</table>\n",
              "</div>"
            ],
            "text/plain": [
              "   Unnamed: 0        Car_id      Date Customer Name Gender  Annual Income  \\\n",
              "0           0  C_CND_000001  1/2/2022     Geraldine   Male          13500   \n",
              "1           1  C_CND_000002  1/2/2022           Gia   Male        1480000   \n",
              "2           2  C_CND_000003  1/2/2022        Gianna   Male        1035000   \n",
              "3           3  C_CND_000004  1/2/2022       Giselle   Male          13500   \n",
              "4           4  C_CND_000005  1/2/2022         Grace   Male        1465000   \n",
              "\n",
              "                           Dealer_Name   Company       Model  \\\n",
              "0  Buddy Storbeck's Diesel Service Inc      Ford  Expedition   \n",
              "1                     C & M Motors Inc     Dodge     Durango   \n",
              "2                          Capitol KIA  Cadillac    Eldorado   \n",
              "3               Chrysler of Tri-Cities    Toyota      Celica   \n",
              "4                    Chrysler Plymouth     Acura          TL   \n",
              "\n",
              "                      Engine Transmission       Color  Price ($)  Dealer_No   \\\n",
              "0  DoubleÂ Overhead Camshaft         Auto       Black      26000  06457-3834   \n",
              "1  DoubleÂ Overhead Camshaft         Auto       Black      19000  60504-7114   \n",
              "2          Overhead Camshaft       Manual         Red      31500  38701-8047   \n",
              "3          Overhead Camshaft       Manual  Pale White      14000  99301-3882   \n",
              "4  DoubleÂ Overhead Camshaft         Auto         Red      24500  53546-9427   \n",
              "\n",
              "  Body Style    Phone Dealer_Region  Log Annual Income  \n",
              "0        SUV  8264678    Middletown           9.510445  \n",
              "1        SUV  6848189        Aurora          14.207553  \n",
              "2  Passenger  7298798    Greenville          13.849912  \n",
              "3        SUV  6257557         Pasco           9.510445  \n",
              "4  Hatchback  7081483    Janesville          14.197366  "
            ]
          },
          "execution_count": 8,
          "metadata": {},
          "output_type": "execute_result"
        }
      ],
      "source": [
        "df_cleaned['Log Annual Income'] = np.log(df_cleaned['Annual Income'])\n",
        "\n",
        "df_cleaned.head()"
      ]
    }
  ],
  "metadata": {
    "colab": {
      "provenance": []
    },
    "kernelspec": {
      "display_name": "Python 3",
      "name": "python3"
    },
    "language_info": {
      "codemirror_mode": {
        "name": "ipython",
        "version": 3
      },
      "file_extension": ".py",
      "mimetype": "text/x-python",
      "name": "python",
      "nbconvert_exporter": "python",
      "pygments_lexer": "ipython3",
      "version": "3.11.1"
    }
  },
  "nbformat": 4,
  "nbformat_minor": 0
}
