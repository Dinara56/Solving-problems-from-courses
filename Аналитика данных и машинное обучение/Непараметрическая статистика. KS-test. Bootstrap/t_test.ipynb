{
  "nbformat": 4,
  "nbformat_minor": 0,
  "metadata": {
    "colab": {
      "provenance": []
    },
    "kernelspec": {
      "name": "python3",
      "display_name": "Python 3"
    },
    "language_info": {
      "name": "python"
    }
  },
  "cells": [
    {
      "cell_type": "markdown",
      "source": [
        "Непараметрические тесты часто основаны на рангах или медианах, а не на конкретных значениях данных. Это означает, что они могут упускать детали, которые учитываются параметрическими тестами, работающими с точными значениями и предположениями о распределении."
      ],
      "metadata": {
        "id": "ax2qvb7g_ocQ"
      }
    },
    {
      "cell_type": "code",
      "source": [
        "import numpy as np\n",
        "from scipy import stats\n",
        "\n",
        "# Создание данных\n",
        "np.random.seed(42)  # Для воспроизводимости\n",
        "\n",
        "# Первая выборка из нормального распределения\n",
        "data1 = np.random.normal(loc=50, scale=5, size=100)\n",
        "\n",
        "# Вторая выборка из распределения с другим масштабом (например, логнормальное распределение)\n",
        "data2 = np.random.lognormal(mean=np.log(50), sigma=0.5, size=100)\n",
        "\n",
        "# Параметрический t-тест\n",
        "t_stat, p_value_ttest = stats.ttest_ind(data1, data2)\n",
        "print(\"Параметрический t-тест:\", p_value_ttest)\n",
        "\n",
        "# Непараметрический тест Манна-Уитни\n",
        "u_stat, p_value_mannwhitney = stats.mannwhitneyu(data1, data2)\n",
        "print(\"Непараметрический тест Манна-Уитни:\", p_value_mannwhitney)\n",
        "\n",
        "# Проверка гипотез\n",
        "alpha = 0.05\n",
        "print(\"Параметрический t-тест отвергает нулевую гипотезу?\" , p_value_ttest < alpha)\n",
        "print(\"Непараметрический тест Манна-Уитни отвергает нулевую гипотезу?\", p_value_mannwhitney < alpha)\n"
      ],
      "metadata": {
        "colab": {
          "base_uri": "https://localhost:8080/"
        },
        "id": "9kcV1IEQBQK1",
        "outputId": "23b71fd3-b6db-478a-e12c-03ae5da7d58d"
      },
      "execution_count": 1,
      "outputs": [
        {
          "output_type": "stream",
          "name": "stdout",
          "text": [
            "Параметрический t-тест: 0.01878748881021487\n",
            "Непараметрический тест Манна-Уитни: 0.2984969742960175\n",
            "Параметрический t-тест отвергает нулевую гипотезу? True\n",
            "Непараметрический тест Манна-Уитни отвергает нулевую гипотезу? False\n"
          ]
        }
      ]
    },
    {
      "cell_type": "code",
      "source": [
        "data1.mean(), data2.mean()"
      ],
      "metadata": {
        "colab": {
          "base_uri": "https://localhost:8080/"
        },
        "id": "VmfT_AiQDqkY",
        "outputId": "e2de400f-6314-4633-d093-51d1dceb06e9"
      },
      "execution_count": 2,
      "outputs": [
        {
          "output_type": "execute_result",
          "data": {
            "text/plain": [
              "(49.48076741302953, 56.96020736283199)"
            ]
          },
          "metadata": {},
          "execution_count": 2
        }
      ]
    },
    {
      "cell_type": "markdown",
      "source": [
        "В данном примере непараметрический тест скорее ошибся"
      ],
      "metadata": {
        "id": "A0QrajFcETIH"
      }
    },
    {
      "cell_type": "markdown",
      "source": [
        "Но при этом когда данных мало или данные распределены не по нормальному закону t-тест не работает"
      ],
      "metadata": {
        "id": "uc8lzPXIEkIw"
      }
    },
    {
      "cell_type": "code",
      "source": [
        "import numpy as np\n",
        "from scipy import stats\n",
        "\n",
        "# Устанавливаем seed для воспроизводимости\n",
        "np.random.seed(42)\n",
        "\n",
        "# Первая выборка из нормального распределения\n",
        "data1 = np.random.normal(loc=50, scale=5, size=100)\n",
        "\n",
        "# Вторая выборка из нормального распределения с несколькими выбросами\n",
        "data2 = np.random.normal(loc=50, scale=5, size=97)\n",
        "data2 = np.append(data2, [100, 100,100])  # Добавляем выбросы\n",
        "\n",
        "# Параметрический t-тест\n",
        "t_stat, p_value_ttest = stats.ttest_ind(data1, data2)\n",
        "print(\"Параметрический t-тест:\", p_value_ttest)\n",
        "\n",
        "# Непараметрический тест Манна-Уитни\n",
        "u_stat, p_value_mannwhitney = stats.mannwhitneyu(data1, data2)\n",
        "print(\"Непараметрический тест Манна-Уитни:\", p_value_mannwhitney)\n",
        "\n",
        "# Проверка гипотез\n",
        "alpha = 0.05\n",
        "print(\"Параметрический t-тест отвергает нулевую гипотезу?\", p_value_ttest < alpha)\n",
        "print(\"Непараметрический тест Манна-Уитни отвергает нулевую гипотезу?\", p_value_mannwhitney < alpha)\n"
      ],
      "metadata": {
        "colab": {
          "base_uri": "https://localhost:8080/"
        },
        "id": "fE_ewlx4Djo2",
        "outputId": "be3305d1-0a8c-4a69-8ca0-c9f83fb87d7c"
      },
      "execution_count": 3,
      "outputs": [
        {
          "output_type": "stream",
          "name": "stdout",
          "text": [
            "Параметрический t-тест: 0.04457750981305762\n",
            "Непараметрический тест Манна-Уитни: 0.2872845529734861\n",
            "Параметрический t-тест отвергает нулевую гипотезу? True\n",
            "Непараметрический тест Манна-Уитни отвергает нулевую гипотезу? False\n"
          ]
        }
      ]
    },
    {
      "cell_type": "code",
      "source": [
        "data1.mean(), data2.mean()"
      ],
      "metadata": {
        "colab": {
          "base_uri": "https://localhost:8080/"
        },
        "id": "hgn14YxlG8gW",
        "outputId": "b95e5282-d645-4626-9869-3b28b2f029d4"
      },
      "execution_count": 4,
      "outputs": [
        {
          "output_type": "execute_result",
          "data": {
            "text/plain": [
              "(49.48076741302953, 51.65807475892157)"
            ]
          },
          "metadata": {},
          "execution_count": 4
        }
      ]
    },
    {
      "cell_type": "markdown",
      "source": [
        "В этом примере скорее ошибся t-тест из-за того, что в данных выбросы и распределение не похоже на нормальное"
      ],
      "metadata": {
        "id": "KJWm_lO-GvNq"
      }
    },
    {
      "cell_type": "markdown",
      "source": [
        "# непараметрический тест (тест пермутаций)"
      ],
      "metadata": {
        "id": "lP_4O21kkL3T"
      }
    },
    {
      "cell_type": "markdown",
      "source": [
        "Основная идея теста пермутаций:\n",
        "\n",
        "Проверка нулевой гипотезы, которая предполагает, что наблюдаемые данные произошли из одного и того же распределения.\n",
        "\n",
        "Генерация всех возможных (или большого количества) перестановок данных.\n",
        "\n",
        "Вычисление статистики для каждой перестановки и сравнение ее с наблюдаемой статистикой."
      ],
      "metadata": {
        "id": "Z0JXGUrnkzwf"
      }
    },
    {
      "cell_type": "markdown",
      "source": [
        "Допустим, у нас есть две группы студентов, каждая из разных классов. Мы хотим проверить, отличается ли средний балл Класса 1 от Класса 2.\n",
        "\n",
        "**Шаг 1: Сформулируем гипотезу**\n",
        "\n",
        "Нулевая гипотеза, H0, заключается в том, что средние значения двух выборок не различаются, то есть средняя оценка в классе 1 такая же, как средняя оценка в классе 2.\n",
        "\n",
        "Альтернативная гипотеза, HA, состоит в том, что существует разница в средних значениях двух выборок — средняя оценка в классе 1 не совпадает со средней оценкой в классе 2.\n",
        "\n",
        "**Шаг 2: Рассчитаем наблюдаемую разницу в средних значениях**\n",
        "\n",
        "Подсчитайте среднюю оценку для каждого класса. Затем вычислите абсолютную разницу между двумя средними значениями. Это наша наблюдаемая разница.\n",
        "\n",
        "**Шаг 3: Объединим данные**\n",
        "\n",
        "Объедините оценки обоих классов в один большой пул. Это связано с тем, что в соответствии с нулевой гипотезой мы говорим, что не имеет значения, учится ли учащийся в классе 1 или в классе 2 — оценки исходят от одного и того же населения.\n",
        "\n",
        "**Шаг 4: Запустим тест перестановки**\n",
        "\n",
        "Вот суть теста перестановки:\n",
        "\n",
        "Перемешайте все оценки и случайным образом разделите их на две группы. Группы должны быть того же размера, что и исходные Класс 1 и Класс 2. Это моделирует нулевую гипотезу о том, что класс, в котором находится учащийся, не имеет значения.\n",
        "\n",
        "Вычислите среднее значение каждой группы, а затем абсолютную разницу между этими двумя средними значениями.\n",
        "\n",
        "Повторите шаги 1-2 большое количество раз (например, 10 000 раз), каждый раз записывая разницу в средствах.\n",
        "\n",
        "**Шаг 5: Рассчитаем p-value**\n",
        "\n",
        "Значение p представляет собой долю переставленных повторений, где абсолютная разница в средних значениях была больше или равна наблюдаемой разнице в средних значениях. Если эта пропорция (значение p) меньше установленного уровня значимости (часто выбираемого как 0,05), то мы отклоняем нулевую гипотезу.\n",
        "\n",
        "**Вывод **\n",
        "\n",
        "Если мы отклоним нулевую гипотезу, мы придем к выводу, что существует статистически значимая разница в средних оценках между классом 1 и классом 2. Если мы не отвергнем нулевую гипотезу, мы придем к выводу, что у нас недостаточно доказательств, чтобы сказать, что средние значения другой."
      ],
      "metadata": {
        "id": "6x-t9-CDkOvU"
      }
    },
    {
      "cell_type": "code",
      "source": [
        "import random"
      ],
      "metadata": {
        "id": "XhKwJwfAkQ6q"
      },
      "execution_count": 13,
      "outputs": []
    },
    {
      "cell_type": "code",
      "source": [
        "# sample data\n",
        "classroom_1_grades = [85, 88, 92, 78, 90, 88, 79, 91, 85, 87]\n",
        "# classroom_2_grades = [20, 22, 35, 29, 21, 28, 32, 44, 39, 53]\n",
        "\n",
        "# classroom_2_grades = [90, 88, 92, 78, 90, 88, 79, 91, 85, 87]\n",
        "classroom_2_grades = [70, 72, 85, 79, 81, 78, 82, 84, 79, 83]\n",
        "\n",
        "# function to calculate mean\n",
        "def mean(lst):\n",
        "    return sum(lst) / len(lst)\n",
        "\n",
        "# observed difference\n",
        "obs_diff = abs(mean(classroom_1_grades) - mean(classroom_2_grades))\n",
        "print(\"Mean of group 1: \", mean(classroom_1_grades))\n",
        "print(\"Mean of group 2: \", mean(classroom_2_grades))\n",
        "print(\"Delta: \", obs_diff)\n",
        "\n",
        "print(f'1 group = {classroom_1_grades}')\n",
        "print(f'2 group = {classroom_2_grades}')\n"
      ],
      "metadata": {
        "colab": {
          "base_uri": "https://localhost:8080/"
        },
        "id": "2EDnyXOLkSck",
        "outputId": "32fcf047-68f8-4180-dedc-1c4aaed0b654"
      },
      "execution_count": 14,
      "outputs": [
        {
          "output_type": "stream",
          "name": "stdout",
          "text": [
            "Mean of group 1:  86.3\n",
            "Mean of group 2:  79.3\n",
            "Delta:  7.0\n",
            "1 group = [85, 88, 92, 78, 90, 88, 79, 91, 85, 87]\n",
            "2 group = [70, 72, 85, 79, 81, 78, 82, 84, 79, 83]\n"
          ]
        }
      ]
    },
    {
      "cell_type": "code",
      "source": [
        "\n",
        "# combined data\n",
        "combined_grades = classroom_1_grades + classroom_2_grades\n",
        "combined_grades"
      ],
      "metadata": {
        "colab": {
          "base_uri": "https://localhost:8080/"
        },
        "id": "nNN72boU0iSd",
        "outputId": "5130d947-6c45-48aa-d3fd-85de997a4716"
      },
      "execution_count": 16,
      "outputs": [
        {
          "output_type": "execute_result",
          "data": {
            "text/plain": [
              "[85,\n",
              " 88,\n",
              " 92,\n",
              " 78,\n",
              " 90,\n",
              " 88,\n",
              " 79,\n",
              " 91,\n",
              " 85,\n",
              " 87,\n",
              " 70,\n",
              " 72,\n",
              " 85,\n",
              " 79,\n",
              " 81,\n",
              " 78,\n",
              " 82,\n",
              " 84,\n",
              " 79,\n",
              " 83]"
            ]
          },
          "metadata": {},
          "execution_count": 16
        }
      ]
    },
    {
      "cell_type": "code",
      "source": [
        "random.shuffle(combined_grades)\n",
        "combined_grades"
      ],
      "metadata": {
        "colab": {
          "base_uri": "https://localhost:8080/"
        },
        "id": "VwjVNXqV0iVl",
        "outputId": "f7e6039e-6ffb-40f8-8195-85a480ceedcd"
      },
      "execution_count": 21,
      "outputs": [
        {
          "output_type": "execute_result",
          "data": {
            "text/plain": [
              "[78,\n",
              " 79,\n",
              " 85,\n",
              " 72,\n",
              " 83,\n",
              " 92,\n",
              " 85,\n",
              " 81,\n",
              " 85,\n",
              " 79,\n",
              " 91,\n",
              " 78,\n",
              " 90,\n",
              " 87,\n",
              " 82,\n",
              " 84,\n",
              " 70,\n",
              " 79,\n",
              " 88,\n",
              " 88]"
            ]
          },
          "metadata": {},
          "execution_count": 21
        }
      ]
    },
    {
      "cell_type": "code",
      "source": [
        "mean(combined_grades[:len(classroom_1_grades)])"
      ],
      "metadata": {
        "colab": {
          "base_uri": "https://localhost:8080/"
        },
        "id": "etPrpXRl0iYp",
        "outputId": "048d2413-e2c2-4264-9c39-22bae1001c8a"
      },
      "execution_count": 24,
      "outputs": [
        {
          "output_type": "execute_result",
          "data": {
            "text/plain": [
              "81.9"
            ]
          },
          "metadata": {},
          "execution_count": 24
        }
      ]
    },
    {
      "cell_type": "code",
      "source": [
        "mean(combined_grades[len(classroom_1_grades):])"
      ],
      "metadata": {
        "colab": {
          "base_uri": "https://localhost:8080/"
        },
        "id": "O-gQBKhY04V-",
        "outputId": "0e1f6bdc-23e2-47cc-e74c-32d9a827aaab"
      },
      "execution_count": 25,
      "outputs": [
        {
          "output_type": "execute_result",
          "data": {
            "text/plain": [
              "83.7"
            ]
          },
          "metadata": {},
          "execution_count": 25
        }
      ]
    },
    {
      "cell_type": "code",
      "source": [
        "abs(mean(combined_grades[len(classroom_1_grades):]) - mean(combined_grades[:len(classroom_1_grades)]))"
      ],
      "metadata": {
        "colab": {
          "base_uri": "https://localhost:8080/"
        },
        "id": "DQuG7soJ0_Va",
        "outputId": "433fb48d-f953-41f7-e6a2-8f2247b39d34"
      },
      "execution_count": 27,
      "outputs": [
        {
          "output_type": "execute_result",
          "data": {
            "text/plain": [
              "1.7999999999999972"
            ]
          },
          "metadata": {},
          "execution_count": 27
        }
      ]
    },
    {
      "cell_type": "code",
      "source": [
        "\n",
        "# combined data\n",
        "combined_grades = classroom_1_grades + classroom_2_grades\n",
        "\n",
        "# permuation test\n",
        "num_permutations = 10000\n",
        "perm_diffs = []\n",
        "\n",
        "for _ in range(num_permutations):\n",
        "    random.shuffle(combined_grades)\n",
        "    perm_diffs.append(abs(mean(combined_grades[:len(classroom_1_grades)]) - mean(combined_grades[len(classroom_1_grades):])))\n",
        "\n",
        "print(\"permutation deltas: \", perm_diffs[:3])\n"
      ],
      "metadata": {
        "colab": {
          "base_uri": "https://localhost:8080/"
        },
        "id": "xVjhIEcPkU0S",
        "outputId": "6fb7c9c7-8107-4ded-b1bf-d4983a3bc3b5"
      },
      "execution_count": 28,
      "outputs": [
        {
          "output_type": "stream",
          "name": "stdout",
          "text": [
            "permutation deltas:  [2.799999999999997, 1.0, 2.5999999999999943]\n"
          ]
        }
      ]
    },
    {
      "cell_type": "code",
      "source": [
        "perm_diffs[:10]"
      ],
      "metadata": {
        "colab": {
          "base_uri": "https://localhost:8080/"
        },
        "id": "OeCmCi5M1OtN",
        "outputId": "ef85bdb3-6674-4d05-b4f9-88839bf33602"
      },
      "execution_count": 29,
      "outputs": [
        {
          "output_type": "execute_result",
          "data": {
            "text/plain": [
              "[2.799999999999997,\n",
              " 1.0,\n",
              " 2.5999999999999943,\n",
              " 6.799999999999997,\n",
              " 1.0,\n",
              " 3.799999999999997,\n",
              " 1.4000000000000057,\n",
              " 3.5999999999999943,\n",
              " 1.4000000000000057,\n",
              " 2.200000000000003]"
            ]
          },
          "metadata": {},
          "execution_count": 29
        }
      ]
    },
    {
      "cell_type": "code",
      "source": [
        "sum(perm_diff >= obs_diff for perm_diff in perm_diffs)"
      ],
      "metadata": {
        "colab": {
          "base_uri": "https://localhost:8080/"
        },
        "id": "xzjRVaKYkSfs",
        "outputId": "d404af8b-1478-4613-ce91-b0234272ad51"
      },
      "execution_count": 30,
      "outputs": [
        {
          "output_type": "execute_result",
          "data": {
            "text/plain": [
              "45"
            ]
          },
          "metadata": {},
          "execution_count": 30
        }
      ]
    },
    {
      "cell_type": "code",
      "source": [
        "len(perm_diffs)"
      ],
      "metadata": {
        "colab": {
          "base_uri": "https://localhost:8080/"
        },
        "id": "IgXgD_ITkSib",
        "outputId": "a4febd3d-7459-4db3-caf5-574488e94633"
      },
      "execution_count": 9,
      "outputs": [
        {
          "output_type": "execute_result",
          "data": {
            "text/plain": [
              "10000"
            ]
          },
          "metadata": {},
          "execution_count": 9
        }
      ]
    },
    {
      "cell_type": "code",
      "source": [
        "sum(perm_diff >= obs_diff for perm_diff in perm_diffs)/len(perm_diffs)"
      ],
      "metadata": {
        "colab": {
          "base_uri": "https://localhost:8080/"
        },
        "id": "jFL18DkykSlN",
        "outputId": "f50b542d-64dc-47ab-bb43-0ae97d9dcbdf"
      },
      "execution_count": 10,
      "outputs": [
        {
          "output_type": "execute_result",
          "data": {
            "text/plain": [
              "0.0054"
            ]
          },
          "metadata": {},
          "execution_count": 10
        }
      ]
    },
    {
      "cell_type": "markdown",
      "source": [
        "или тоже самое"
      ],
      "metadata": {
        "id": "YUXUrMakk7HN"
      }
    },
    {
      "cell_type": "code",
      "source": [
        "from scipy.stats import permutation_test"
      ],
      "metadata": {
        "id": "QXdFm_0Wk8V5"
      },
      "execution_count": 11,
      "outputs": []
    },
    {
      "cell_type": "code",
      "source": [
        "#  Определение статистики для теста\n",
        "def mean_diff(x, y):\n",
        "    return np.mean(x) - np.mean(y)\n",
        "\n",
        "# Проведение перестановочного теста\n",
        "res = permutation_test((classroom_1_grades, classroom_2_grades), mean_diff, n_resamples=10000, alternative='two-sided')\n",
        "\n",
        "# Вывод результатов\n",
        "print(f\"p-value: {res.pvalue}\")\n",
        "print(f\"Observed statistic: {res.statistic}\")"
      ],
      "metadata": {
        "colab": {
          "base_uri": "https://localhost:8080/"
        },
        "id": "_RBl_M5qk_gX",
        "outputId": "315c1b81-d7c8-4a0c-be03-cc1d91014dee"
      },
      "execution_count": 12,
      "outputs": [
        {
          "output_type": "stream",
          "name": "stdout",
          "text": [
            "p-value: 0.0053994600539946005\n",
            "Observed statistic: 7.0\n"
          ]
        }
      ]
    }
  ]
}