{
  "nbformat": 4,
  "nbformat_minor": 0,
  "metadata": {
    "colab": {
      "provenance": []
    },
    "kernelspec": {
      "name": "python3",
      "display_name": "Python 3"
    },
    "language_info": {
      "name": "python"
    }
  },
  "cells": [
    {
      "cell_type": "code",
      "execution_count": 12,
      "metadata": {
        "id": "8r5Mjf0mWlfS"
      },
      "outputs": [],
      "source": [
        "import numpy as np\n",
        "import matplotlib.pyplot as plt\n",
        "from scipy.stats import bootstrap"
      ]
    },
    {
      "cell_type": "code",
      "source": [
        "# Исходные данные\n",
        "data = np.array([3, 7, 2, 9, 5, 6, 4, 8, 1, 10])"
      ],
      "metadata": {
        "id": "dZP_UCFbaiXr"
      },
      "execution_count": 13,
      "outputs": []
    },
    {
      "cell_type": "code",
      "source": [
        "data.mean()"
      ],
      "metadata": {
        "colab": {
          "base_uri": "https://localhost:8080/"
        },
        "id": "BVaq0Q0paw82",
        "outputId": "0a66cbac-409c-4936-959b-0dbc956d62b7"
      },
      "execution_count": 14,
      "outputs": [
        {
          "output_type": "execute_result",
          "data": {
            "text/plain": [
              "5.5"
            ]
          },
          "metadata": {},
          "execution_count": 14
        }
      ]
    },
    {
      "cell_type": "code",
      "source": [
        "np.mean(np.random.choice(data, size=len(data), replace=True))"
      ],
      "metadata": {
        "colab": {
          "base_uri": "https://localhost:8080/"
        },
        "id": "m1qFKGH7513N",
        "outputId": "a4252017-48eb-4648-9cf5-675ab6c8b9be"
      },
      "execution_count": 23,
      "outputs": [
        {
          "output_type": "execute_result",
          "data": {
            "text/plain": [
              "5.4"
            ]
          },
          "metadata": {},
          "execution_count": 23
        }
      ]
    },
    {
      "cell_type": "code",
      "source": [
        "# Параметры бутстрапа\n",
        "n_iterations = 1000\n",
        "n_size = len(data)\n",
        "\n",
        "# Генерация бутстрап-выборок и вычисление средних значений\n",
        "means = []\n",
        "for _ in range(n_iterations):\n",
        "    sample = np.random.choice(data, size=n_size, replace=True)\n",
        "    means.append(np.mean(sample))\n",
        "\n"
      ],
      "metadata": {
        "id": "u-PorqwoadCS"
      },
      "execution_count": 24,
      "outputs": []
    },
    {
      "cell_type": "code",
      "source": [
        "means[:10]"
      ],
      "metadata": {
        "colab": {
          "base_uri": "https://localhost:8080/"
        },
        "id": "hzqDRrQTanw7",
        "outputId": "0be570fa-c378-4fcb-d850-081bed7bf72f"
      },
      "execution_count": 25,
      "outputs": [
        {
          "output_type": "execute_result",
          "data": {
            "text/plain": [
              "[5.7, 6.1, 5.1, 5.7, 4.4, 5.8, 5.9, 6.6, 6.4, 4.4]"
            ]
          },
          "metadata": {},
          "execution_count": 25
        }
      ]
    },
    {
      "cell_type": "code",
      "source": [
        "# Оценка среднего и доверительных интервалов\n",
        "bootstrap_mean = np.mean(means)\n",
        "lower_bound = np.percentile(means, 2.5)\n",
        "upper_bound = np.percentile(means, 97.5)\n",
        "\n",
        "print(f\"Бутстрап-оценка среднего: {bootstrap_mean}\")\n",
        "print(f\"95% доверительный интервал: ({lower_bound}, {upper_bound})\")\n"
      ],
      "metadata": {
        "colab": {
          "base_uri": "https://localhost:8080/"
        },
        "id": "MQkNHs8QadFg",
        "outputId": "1d8d9c86-c3b6-4ccc-cf06-9db9df43c1d8"
      },
      "execution_count": 26,
      "outputs": [
        {
          "output_type": "stream",
          "name": "stdout",
          "text": [
            "Бутстрап-оценка среднего: 5.4811\n",
            "95% доверительный интервал: (3.6, 7.2)\n"
          ]
        }
      ]
    },
    {
      "cell_type": "markdown",
      "source": [
        "## С помощью bootstrap из stats"
      ],
      "metadata": {
        "id": "judJw_OJe4At"
      }
    },
    {
      "cell_type": "markdown",
      "source": [
        "**Аргумент (data,):** Данные передаются в функцию в виде кортежа, так как функция bootstrap ожидает кортеж массивов. В нашем случае это кортеж, содержащий единственный массив data.\n",
        "\n",
        "\n",
        "**Аргумент np.mean:** Указываем функцию, которая будет применяться к каждой бутстрап-выборке. В данном случае это функция np.mean, которая вычисляет среднее значение выборки.\n",
        "\n",
        "\n",
        "**Аргумент n_resamples**=n_iterations: Задаем количество бутстрап-выборок, которые будут созданы. Это соответствует количеству итераций в бутстрап-процессе. В нашем случае это 1000 итераций.\n",
        "\n",
        "\n",
        "**Аргумент confidence_level**=0.95: Указываем уровень доверия для вычисления доверительного интервала. В данном случае это 95%, что означает, что мы хотим получить 95% доверительный интервал.\n"
      ],
      "metadata": {
        "id": "4m4v705de8xM"
      }
    },
    {
      "cell_type": "code",
      "source": [
        "# Параметры бутстрапа\n",
        "n_iterations = 1000\n",
        "\n",
        "# Бутстрап-оценка среднего и доверительных интервалов\n",
        "res = bootstrap((data,), np.mean, n_resamples=n_iterations, confidence_level=0.95)\n",
        "\n",
        "bootstrap_mean = np.mean(res.bootstrap_distribution)\n",
        "lower_bound, upper_bound = res.confidence_interval\n",
        "\n",
        "print(f\"Бутстрап-оценка среднего: {bootstrap_mean}\")\n",
        "print(f\"95% доверительный интервал: ({lower_bound}, {upper_bound})\")\n"
      ],
      "metadata": {
        "colab": {
          "base_uri": "https://localhost:8080/"
        },
        "id": "K9iJVjpBc_i9",
        "outputId": "ea22e39d-1e08-4e65-d4c5-8709afd6bca2"
      },
      "execution_count": 30,
      "outputs": [
        {
          "output_type": "stream",
          "name": "stdout",
          "text": [
            "Бутстрап-оценка среднего: 5.463100000000001\n",
            "95% доверительный интервал: (3.8, 7.2452847374913745)\n"
          ]
        }
      ]
    },
    {
      "cell_type": "code",
      "source": [
        "# Визуализация распределения бутстрап-оценок среднего\n",
        "plt.hist(res.bootstrap_distribution, bins=30, edgecolor='k', alpha=0.7)\n",
        "plt.axvline(bootstrap_mean, color='red', linestyle='dashed', linewidth=2, label='Среднее бутстрап-оценок')\n",
        "plt.axvline(lower_bound, color='blue', linestyle='dashed', linewidth=2, label='2.5-й перцентиль')\n",
        "plt.axvline(upper_bound, color='blue', linestyle='dashed', linewidth=2, label='97.5-й перцентиль')\n",
        "plt.xlabel('Средние значения бутстрап-выборок')\n",
        "plt.ylabel('Частота')\n",
        "plt.title('Распределение бутстрап-оценок среднего')\n",
        "plt.legend()\n",
        "plt.show()"
      ],
      "metadata": {
        "colab": {
          "base_uri": "https://localhost:8080/",
          "height": 472
        },
        "id": "9aDq6d2Kc_mK",
        "outputId": "d79ce05b-3b90-4ece-cd5f-2a847aebc7b1"
      },
      "execution_count": 31,
      "outputs": [
        {
          "output_type": "display_data",
          "data": {
            "text/plain": [
              "<Figure size 640x480 with 1 Axes>"
            ],
            "image/png": "[encoded data removed]"
          },
          "metadata": {}
        }
      ]
    }
  ]
}