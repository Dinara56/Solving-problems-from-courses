{
  "nbformat": 4,
  "nbformat_minor": 0,
  "metadata": {
    "colab": {
      "provenance": []
    },
    "kernelspec": {
      "name": "python3",
      "display_name": "Python 3"
    },
    "language_info": {
      "name": "python"
    }
  },
  "cells": [
    {
      "cell_type": "markdown",
      "source": [
        "**Тест Колмогорова-Смирнова для проверки формы распределения**\n",
        "\n",
        "При помощи этого теста по выбору можно проверить, соответствует ли реальное распределение переменной нормальному (Гауса), равномерному, экспоненциальному распределению или распределению Пуассона. Разумеется, самым распространённым видом проверки является проверка наличия нормального распределения.\n",
        "\n",
        "Теста Колмогорова-Смирнова можно использовать, если выборка независима и однородна\n",
        "\n",
        "\n",
        "\n",
        "H₀ (нулевая гипотеза): Распределение данных соответствует заданному теоретическому распределению.\n",
        "\n",
        "\n",
        "\n",
        "Статистика D = max|F(x) - F'(x)|,\n",
        "\n",
        "где F(x) - эмпирическая функция распределения по выборке данных,\n",
        "F'(x) - теоретическая функция распределения.\n",
        "\n",
        "\n",
        "значение D-статистики сравнивается с критическим значением, которое зависит от уровня значимости и размера выборки.\n",
        "\n",
        "\n",
        "Если значение D-статистики превышает критическое значение, то нулевая гипотеза о соответствии выборки теоретическому распределению отвергается."
      ],
      "metadata": {
        "id": "okWO8siEVR8c"
      }
    },
    {
      "cell_type": "code",
      "source": [
        "import numpy as np\n",
        "import matplotlib.pyplot as plt"
      ],
      "metadata": {
        "id": "3x1Ku-s1VRT8"
      },
      "execution_count": 1,
      "outputs": []
    },
    {
      "cell_type": "code",
      "source": [
        "np.random.seed(0)\n",
        "\n",
        "# y = np.random.normal(loc=0.0, scale=1.0, size=1000)\n",
        "y = np.random.uniform(low=0.0, high=1.0, size=1000)"
      ],
      "metadata": {
        "id": "4HQn3yVKVRYW"
      },
      "execution_count": 2,
      "outputs": []
    },
    {
      "cell_type": "code",
      "source": [
        "# 1. строим гистограмму\n",
        "plt.hist(y, bins=30)\n",
        "plt.show()"
      ],
      "metadata": {
        "colab": {
          "base_uri": "https://localhost:8080/",
          "height": 430
        },
        "id": "Y1eS8sWpU9Qa",
        "outputId": "83088121-6585-4ab8-859b-53e527c3d6bc"
      },
      "execution_count": 3,
      "outputs": [
        {
          "output_type": "display_data",
          "data": {
            "text/plain": [
              "<Figure size 640x480 with 1 Axes>"
            ],
            "image/png": "[encoded data removed]"
          },
          "metadata": {}
        }
      ]
    },
    {
      "cell_type": "code",
      "source": [
        "from scipy import stats\n",
        "\n",
        "\n",
        "# Проведение теста Колмогорова-Смирнова на нормальное распределение\n",
        "kstest_result = stats.kstest(y, 'norm')\n",
        "\n",
        "# Вывод результатов теста\n",
        "print('Статистика Колмогорова-Смирнова: ', kstest_result.statistic)\n",
        "print('p-value: ', kstest_result.pvalue)\n"
      ],
      "metadata": {
        "colab": {
          "base_uri": "https://localhost:8080/"
        },
        "id": "GMDJKzaiU9Tb",
        "outputId": "57f26353-e042-4ce8-c516-a666ed5bb3df"
      },
      "execution_count": 4,
      "outputs": [
        {
          "output_type": "stream",
          "name": "stdout",
          "text": [
            "Статистика Колмогорова-Смирнова:  0.5002178084702059\n",
            "p-value:  6.476534911418502e-232\n"
          ]
        }
      ]
    },
    {
      "cell_type": "code",
      "source": [
        "# Размер выборки\n",
        "n = len(y)\n",
        "\n",
        "# Уровень значимости\n",
        "alpha = 0.05\n",
        "\n",
        "# Вычисление критического значения\n",
        "critical_value = stats.ksone.ppf(1 - alpha, n)\n",
        "\n",
        "# Вывод критического значения\n",
        "print('Критическое значение:', critical_value)\n"
      ],
      "metadata": {
        "colab": {
          "base_uri": "https://localhost:8080/"
        },
        "id": "J5GT-z92U9WX",
        "outputId": "4d1b3d86-1db5-4bd4-9779-f017cc4c135f"
      },
      "execution_count": 5,
      "outputs": [
        {
          "output_type": "stream",
          "name": "stdout",
          "text": [
            "Критическое значение: 0.038533841268045536\n"
          ]
        }
      ]
    },
    {
      "cell_type": "code",
      "source": [
        "if kstest_result.statistic<critical_value:\n",
        "    print('Normal')\n",
        "else:\n",
        "    print('not Normal')"
      ],
      "metadata": {
        "colab": {
          "base_uri": "https://localhost:8080/"
        },
        "id": "9sWIHb_pU9ZV",
        "outputId": "4de75b01-800d-4804-f0d6-556304b5503d"
      },
      "execution_count": 6,
      "outputs": [
        {
          "output_type": "stream",
          "name": "stdout",
          "text": [
            "not Normal\n"
          ]
        }
      ]
    },
    {
      "cell_type": "code",
      "source": [],
      "metadata": {
        "id": "koyKjdjsVgh-"
      },
      "execution_count": null,
      "outputs": []
    },
    {
      "cell_type": "code",
      "source": [],
      "metadata": {
        "id": "tUjmVWTaVgk8"
      },
      "execution_count": null,
      "outputs": []
    },
    {
      "cell_type": "code",
      "source": [],
      "metadata": {
        "id": "zhXgOtK8VgoT"
      },
      "execution_count": null,
      "outputs": []
    }
  ]
}