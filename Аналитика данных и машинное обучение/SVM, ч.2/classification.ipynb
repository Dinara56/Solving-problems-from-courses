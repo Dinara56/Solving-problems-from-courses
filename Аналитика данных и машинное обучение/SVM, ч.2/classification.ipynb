{
  "cells": [
    {
      "cell_type": "markdown",
      "source": [
        "<font color='green' size=6>**Цель данного ноутбука**: сравнить методы классификации SVM, logistic regression и knn classification"
      ],
      "metadata": {
        "id": "PKjYQNt9aASd"
      }
    },
    {
      "cell_type": "code",
      "source": [
        "import numpy as np\n",
        "import pandas as pd\n",
        "\n",
        "\n",
        "from sklearn.neighbors import KNeighborsClassifier\n",
        "from sklearn.linear_model import LogisticRegression\n",
        "from sklearn.svm import SVC\n",
        "\n",
        "\n",
        "from sklearn.metrics import precision_score, recall_score, roc_auc_score, roc_curve, f1_score\n",
        "\n",
        "\n",
        "from sklearn.model_selection import cross_val_score\n",
        "from sklearn.model_selection import GridSearchCV\n",
        "from sklearn.model_selection import RandomizedSearchCV\n",
        "\n",
        "from sklearn.model_selection import train_test_split\n",
        "\n",
        "from sklearn.preprocessing import StandardScaler\n",
        "\n",
        "\n",
        "import matplotlib.pyplot as plt\n",
        "import seaborn as sns\n",
        "\n",
        "import zipfile"
      ],
      "metadata": {
        "id": "BikaImREZ-1S"
      },
      "execution_count": 1,
      "outputs": []
    },
    {
      "cell_type": "code",
      "execution_count": 2,
      "metadata": {
        "id": "78iFDZ0ZGrXs"
      },
      "outputs": [],
      "source": [
        "pd.set_option('display.max_columns', 50)\n",
        "pd.set_option('display.max_rows', 20)\n",
        "pd.options.display.float_format = '{:.5f}'.format\n",
        "pd.options.mode.use_inf_as_na = True\n",
        "\n",
        "\n",
        "\n",
        "%config InlineBackend.figure_format = 'svg'\n",
        "%matplotlib inline"
      ]
    },
    {
      "cell_type": "markdown",
      "metadata": {
        "id": "2Ta7i9dnFqPl"
      },
      "source": [
        "# Загрузка датасетов"
      ]
    },
    {
      "cell_type": "code",
      "source": [
        "from google.colab import drive\n",
        "import json\n",
        "drive.mount('/content/drive')"
      ],
      "metadata": {
        "colab": {
          "base_uri": "https://localhost:8080/"
        },
        "id": "Oetzjk6SXuMv",
        "outputId": "64c858a9-4d0d-41b8-aba2-45c27f97e438"
      },
      "execution_count": 3,
      "outputs": [
        {
          "output_type": "stream",
          "name": "stdout",
          "text": [
            "Mounted at /content/drive\n"
          ]
        }
      ]
    },
    {
      "cell_type": "code",
      "source": [
        "# установим kaggle\n",
        "!pip install kaggle -q"
      ],
      "metadata": {
        "id": "GfN-IQxPXwPo"
      },
      "execution_count": 4,
      "outputs": []
    },
    {
      "cell_type": "code",
      "source": [
        "!mkdir ~/.kaggle"
      ],
      "metadata": {
        "id": "zVdZSI3RXx3P"
      },
      "execution_count": 5,
      "outputs": []
    },
    {
      "cell_type": "code",
      "source": [
        "# копируем kaggle.json в папку ~/.kaggle/\n",
        "!cp \"/content/drive/MyDrive/Colab Notebooks/config/kaggle.json\" ~/.kaggle/"
      ],
      "metadata": {
        "id": "ZUVL6gTgXzsc"
      },
      "execution_count": 6,
      "outputs": []
    },
    {
      "cell_type": "code",
      "execution_count": 7,
      "metadata": {
        "id": "M0l6nB2yF1rm",
        "colab": {
          "base_uri": "https://localhost:8080/"
        },
        "outputId": "b9c92ab7-b4a3-478e-974d-4936c9eebef0"
      },
      "outputs": [
        {
          "output_type": "stream",
          "name": "stdout",
          "text": [
            "Downloading playground-series-s3e12.zip to /content\n",
            "\r  0% 0.00/9.06k [00:00<?, ?B/s]\n",
            "\r100% 9.06k/9.06k [00:00<00:00, 12.2MB/s]\n"
          ]
        }
      ],
      "source": [
        "# https://www.kaggle.com/competitions/playground-series-s3e12/data?s\n",
        "# elect=train.csv\n",
        "\n",
        "!kaggle competitions download -c playground-series-s3e12\n",
        "\n",
        "zip_ref = zipfile.ZipFile('playground-series-s3e12.zip', 'r')\n",
        "zip_ref.extractall()\n",
        "zip_ref.close()\n",
        "df = pd.read_csv('train.csv')\n",
        "X = df.drop(columns=['id', 'target'])\n",
        "y = df['target']"
      ]
    },
    {
      "cell_type": "code",
      "execution_count": 8,
      "metadata": {
        "id": "sGLEUWIpF43G"
      },
      "outputs": [],
      "source": [
        "# https://www.kaggle.com/competitions/playground-series-s3e10/data?s\n",
        "# elect=train.csv\n",
        "\n",
        "# !kaggle competitions download -c playground-series-s3e10\n",
        "# # разархивируем\n",
        "# print('а теперь будем разархивировать')\n",
        "# zip_ref = zipfile.ZipFile('playground-series-s3e10.zip', 'r')\n",
        "# zip_ref.extractall()\n",
        "# zip_ref.close()\n",
        "# # считаем данные\n",
        "# df = pd.read_csv('train.csv')\n",
        "# X = df.drop(columns=['id', 'Class'])\n",
        "# y = df['Class']\n"
      ]
    },
    {
      "cell_type": "code",
      "source": [
        "# # https://www.kaggle.com/competitions/playground-series-s4e7\n",
        "# !kaggle competitions download -c playground-series-s4e7\n",
        "# # разархивируем\n",
        "# print('а теперь будем разархивировать')\n",
        "# zip_ref = zipfile.ZipFile('playground-series-s4e7.zip', 'r')\n",
        "# zip_ref.extractall()\n",
        "# zip_ref.close()\n",
        "# # считаем данные\n",
        "# df = pd.read_csv('train.csv')\n",
        "# X = df.drop(columns=['id', 'Response'])\n",
        "# y = df['Response']"
      ],
      "metadata": {
        "id": "bJ-3GMm2b3Xs"
      },
      "execution_count": 9,
      "outputs": []
    },
    {
      "cell_type": "code",
      "source": [
        "X = X.select_dtypes(include='number')"
      ],
      "metadata": {
        "id": "QBhODdvulg-F"
      },
      "execution_count": 10,
      "outputs": []
    },
    {
      "cell_type": "markdown",
      "metadata": {
        "id": "UF6N-GeAmAq7"
      },
      "source": [
        "#EDA"
      ]
    },
    {
      "cell_type": "code",
      "execution_count": 11,
      "metadata": {
        "id": "COH1fAXPmAEl",
        "colab": {
          "base_uri": "https://localhost:8080/"
        },
        "outputId": "b26f0d0b-cd1d-41b0-a207-02c0acef2de8"
      },
      "outputs": [
        {
          "output_type": "stream",
          "name": "stdout",
          "text": [
            "В датасете: 414 строк\n",
            "\n",
            " В датасете 6 столбцов, из них :\n",
            "float64    4\n",
            "int64      2\n",
            "Name: count, dtype: int64\n"
          ]
        }
      ],
      "source": [
        "# Размер датасета\n",
        "print(f\"В датасете: {X.shape[0]} строк\")\n",
        "\n",
        "# Information about columns and data types\n",
        "print(f\"\\n В датасете {X.shape[1]} столбцов, из них :\")\n",
        "print(X.dtypes.value_counts())"
      ]
    },
    {
      "cell_type": "code",
      "source": [
        "X.dtypes"
      ],
      "metadata": {
        "id": "omsEbXHpdyBE",
        "colab": {
          "base_uri": "https://localhost:8080/"
        },
        "outputId": "82189afd-2f23-4bb9-9591-c80629cde9d7"
      },
      "execution_count": 12,
      "outputs": [
        {
          "output_type": "execute_result",
          "data": {
            "text/plain": [
              "gravity    float64\n",
              "ph         float64\n",
              "osmo         int64\n",
              "cond       float64\n",
              "urea         int64\n",
              "calc       float64\n",
              "dtype: object"
            ]
          },
          "metadata": {},
          "execution_count": 12
        }
      ]
    },
    {
      "cell_type": "code",
      "execution_count": 13,
      "metadata": {
        "id": "ZnE_XpwZtHHv",
        "colab": {
          "base_uri": "https://localhost:8080/",
          "height": 273
        },
        "outputId": "af20f1ed-03f3-4254-b6ad-12afc4d8342e"
      },
      "outputs": [
        {
          "output_type": "stream",
          "name": "stdout",
          "text": [
            "\n",
            " Статистика по столбцам:\n"
          ]
        },
        {
          "output_type": "execute_result",
          "data": {
            "text/plain": [
              "            count      mean       std       min       25%       50%       75%  \\\n",
              "gravity 414.00000   1.01789   0.00667   1.00500   1.01200   1.01800   1.02200   \n",
              "ph      414.00000   5.95546   0.64226   4.76000   5.53000   5.74000   6.28000   \n",
              "osmo    414.00000 651.54589 234.67657 187.00000 455.25000 679.50000 840.00000   \n",
              "cond    414.00000  21.43792   7.51475   5.10000  15.50000  22.20000  27.60000   \n",
              "urea    414.00000 278.65700 136.44225  10.00000 170.00000 277.00000 385.00000   \n",
              "calc    414.00000   4.11464   3.21764   0.17000   1.45000   3.13000   6.63000   \n",
              "\n",
              "               max  \n",
              "gravity    1.04000  \n",
              "ph         7.94000  \n",
              "osmo    1236.00000  \n",
              "cond      38.00000  \n",
              "urea     620.00000  \n",
              "calc      14.34000  "
            ],
            "text/html": [
              "\n",
              "  <div id=\"df-4815edb5-5194-41f3-9906-a32298f9cfc2\" class=\"colab-df-container\">\n",
              "    <div>\n",
              "<style scoped>\n",
              "    .dataframe tbody tr th:only-of-type {\n",
              "        vertical-align: middle;\n",
              "    }\n",
              "\n",
              "    .dataframe tbody tr th {\n",
              "        vertical-align: top;\n",
              "    }\n",
              "\n",
              "    .dataframe thead th {\n",
              "        text-align: right;\n",
              "    }\n",
              "</style>\n",
              "<table border=\"1\" class=\"dataframe\">\n",
              "  <thead>\n",
              "    <tr style=\"text-align: right;\">\n",
              "      <th></th>\n",
              "      <th>count</th>\n",
              "      <th>mean</th>\n",
              "      <th>std</th>\n",
              "      <th>min</th>\n",
              "      <th>25%</th>\n",
              "      <th>50%</th>\n",
              "      <th>75%</th>\n",
              "      <th>max</th>\n",
              "    </tr>\n",
              "  </thead>\n",
              "  <tbody>\n",
              "    <tr>\n",
              "      <th>gravity</th>\n",
              "      <td>414.00000</td>\n",
              "      <td>1.01789</td>\n",
              "      <td>0.00667</td>\n",
              "      <td>1.00500</td>\n",
              "      <td>1.01200</td>\n",
              "      <td>1.01800</td>\n",
              "      <td>1.02200</td>\n",
              "      <td>1.04000</td>\n",
              "    </tr>\n",
              "    <tr>\n",
              "      <th>ph</th>\n",
              "      <td>414.00000</td>\n",
              "      <td>5.95546</td>\n",
              "      <td>0.64226</td>\n",
              "      <td>4.76000</td>\n",
              "      <td>5.53000</td>\n",
              "      <td>5.74000</td>\n",
              "      <td>6.28000</td>\n",
              "      <td>7.94000</td>\n",
              "    </tr>\n",
              "    <tr>\n",
              "      <th>osmo</th>\n",
              "      <td>414.00000</td>\n",
              "      <td>651.54589</td>\n",
              "      <td>234.67657</td>\n",
              "      <td>187.00000</td>\n",
              "      <td>455.25000</td>\n",
              "      <td>679.50000</td>\n",
              "      <td>840.00000</td>\n",
              "      <td>1236.00000</td>\n",
              "    </tr>\n",
              "    <tr>\n",
              "      <th>cond</th>\n",
              "      <td>414.00000</td>\n",
              "      <td>21.43792</td>\n",
              "      <td>7.51475</td>\n",
              "      <td>5.10000</td>\n",
              "      <td>15.50000</td>\n",
              "      <td>22.20000</td>\n",
              "      <td>27.60000</td>\n",
              "      <td>38.00000</td>\n",
              "    </tr>\n",
              "    <tr>\n",
              "      <th>urea</th>\n",
              "      <td>414.00000</td>\n",
              "      <td>278.65700</td>\n",
              "      <td>136.44225</td>\n",
              "      <td>10.00000</td>\n",
              "      <td>170.00000</td>\n",
              "      <td>277.00000</td>\n",
              "      <td>385.00000</td>\n",
              "      <td>620.00000</td>\n",
              "    </tr>\n",
              "    <tr>\n",
              "      <th>calc</th>\n",
              "      <td>414.00000</td>\n",
              "      <td>4.11464</td>\n",
              "      <td>3.21764</td>\n",
              "      <td>0.17000</td>\n",
              "      <td>1.45000</td>\n",
              "      <td>3.13000</td>\n",
              "      <td>6.63000</td>\n",
              "      <td>14.34000</td>\n",
              "    </tr>\n",
              "  </tbody>\n",
              "</table>\n",
              "</div>\n",
              "    <div class=\"colab-df-buttons\">\n",
              "\n",
              "  <div class=\"colab-df-container\">\n",
              "    <button class=\"colab-df-convert\" onclick=\"convertToInteractive('df-4815edb5-5194-41f3-9906-a32298f9cfc2')\"\n",
              "            title=\"Convert this dataframe to an interactive table.\"\n",
              "            style=\"display:none;\">\n",
              "\n",
              "  <svg xmlns=\"http://www.w3.org/2000/svg\" height=\"24px\" viewBox=\"0 -960 960 960\">\n",
              "    <path d=\"M120-120v-720h720v720H120Zm60-500h600v-160H180v160Zm220 220h160v-160H400v160Zm0 220h160v-160H400v160ZM180-400h160v-160H180v160Zm440 0h160v-160H620v160ZM180-180h160v-160H180v160Zm440 0h160v-160H620v160Z\"/>\n",
              "  </svg>\n",
              "    </button>\n",
              "\n",
              "  <style>\n",
              "    .colab-df-container {\n",
              "      display:flex;\n",
              "      gap: 12px;\n",
              "    }\n",
              "\n",
              "    .colab-df-convert {\n",
              "      background-color: #E8F0FE;\n",
              "      border: none;\n",
              "      border-radius: 50%;\n",
              "      cursor: pointer;\n",
              "      display: none;\n",
              "      fill: #1967D2;\n",
              "      height: 32px;\n",
              "      padding: 0 0 0 0;\n",
              "      width: 32px;\n",
              "    }\n",
              "\n",
              "    .colab-df-convert:hover {\n",
              "      background-color: #E2EBFA;\n",
              "      box-shadow: 0px 1px 2px rgba(60, 64, 67, 0.3), 0px 1px 3px 1px rgba(60, 64, 67, 0.15);\n",
              "      fill: #174EA6;\n",
              "    }\n",
              "\n",
              "    .colab-df-buttons div {\n",
              "      margin-bottom: 4px;\n",
              "    }\n",
              "\n",
              "    [theme=dark] .colab-df-convert {\n",
              "      background-color: #3B4455;\n",
              "      fill: #D2E3FC;\n",
              "    }\n",
              "\n",
              "    [theme=dark] .colab-df-convert:hover {\n",
              "      background-color: #434B5C;\n",
              "      box-shadow: 0px 1px 3px 1px rgba(0, 0, 0, 0.15);\n",
              "      filter: drop-shadow(0px 1px 2px rgba(0, 0, 0, 0.3));\n",
              "      fill: #FFFFFF;\n",
              "    }\n",
              "  </style>\n",
              "\n",
              "    <script>\n",
              "      const buttonEl =\n",
              "        document.querySelector('#df-4815edb5-5194-41f3-9906-a32298f9cfc2 button.colab-df-convert');\n",
              "      buttonEl.style.display =\n",
              "        google.colab.kernel.accessAllowed ? 'block' : 'none';\n",
              "\n",
              "      async function convertToInteractive(key) {\n",
              "        const element = document.querySelector('#df-4815edb5-5194-41f3-9906-a32298f9cfc2');\n",
              "        const dataTable =\n",
              "          await google.colab.kernel.invokeFunction('convertToInteractive',\n",
              "                                                    [key], {});\n",
              "        if (!dataTable) return;\n",
              "\n",
              "        const docLinkHtml = 'Like what you see? Visit the ' +\n",
              "          '<a target=\"_blank\" href=https://colab.research.google.com/notebooks/data_table.ipynb>data table notebook</a>'\n",
              "          + ' to learn more about interactive tables.';\n",
              "        element.innerHTML = '';\n",
              "        dataTable['output_type'] = 'display_data';\n",
              "        await google.colab.output.renderOutput(dataTable, element);\n",
              "        const docLink = document.createElement('div');\n",
              "        docLink.innerHTML = docLinkHtml;\n",
              "        element.appendChild(docLink);\n",
              "      }\n",
              "    </script>\n",
              "  </div>\n",
              "\n",
              "\n",
              "<div id=\"df-1127194b-5b4b-4855-a90d-43ceb7af6e0e\">\n",
              "  <button class=\"colab-df-quickchart\" onclick=\"quickchart('df-1127194b-5b4b-4855-a90d-43ceb7af6e0e')\"\n",
              "            title=\"Suggest charts\"\n",
              "            style=\"display:none;\">\n",
              "\n",
              "<svg xmlns=\"http://www.w3.org/2000/svg\" height=\"24px\"viewBox=\"0 0 24 24\"\n",
              "     width=\"24px\">\n",
              "    <g>\n",
              "        <path d=\"M19 3H5c-1.1 0-2 .9-2 2v14c0 1.1.9 2 2 2h14c1.1 0 2-.9 2-2V5c0-1.1-.9-2-2-2zM9 17H7v-7h2v7zm4 0h-2V7h2v10zm4 0h-2v-4h2v4z\"/>\n",
              "    </g>\n",
              "</svg>\n",
              "  </button>\n",
              "\n",
              "<style>\n",
              "  .colab-df-quickchart {\n",
              "      --bg-color: #E8F0FE;\n",
              "      --fill-color: #1967D2;\n",
              "      --hover-bg-color: #E2EBFA;\n",
              "      --hover-fill-color: #174EA6;\n",
              "      --disabled-fill-color: #AAA;\n",
              "      --disabled-bg-color: #DDD;\n",
              "  }\n",
              "\n",
              "  [theme=dark] .colab-df-quickchart {\n",
              "      --bg-color: #3B4455;\n",
              "      --fill-color: #D2E3FC;\n",
              "      --hover-bg-color: #434B5C;\n",
              "      --hover-fill-color: #FFFFFF;\n",
              "      --disabled-bg-color: #3B4455;\n",
              "      --disabled-fill-color: #666;\n",
              "  }\n",
              "\n",
              "  .colab-df-quickchart {\n",
              "    background-color: var(--bg-color);\n",
              "    border: none;\n",
              "    border-radius: 50%;\n",
              "    cursor: pointer;\n",
              "    display: none;\n",
              "    fill: var(--fill-color);\n",
              "    height: 32px;\n",
              "    padding: 0;\n",
              "    width: 32px;\n",
              "  }\n",
              "\n",
              "  .colab-df-quickchart:hover {\n",
              "    background-color: var(--hover-bg-color);\n",
              "    box-shadow: 0 1px 2px rgba(60, 64, 67, 0.3), 0 1px 3px 1px rgba(60, 64, 67, 0.15);\n",
              "    fill: var(--button-hover-fill-color);\n",
              "  }\n",
              "\n",
              "  .colab-df-quickchart-complete:disabled,\n",
              "  .colab-df-quickchart-complete:disabled:hover {\n",
              "    background-color: var(--disabled-bg-color);\n",
              "    fill: var(--disabled-fill-color);\n",
              "    box-shadow: none;\n",
              "  }\n",
              "\n",
              "  .colab-df-spinner {\n",
              "    border: 2px solid var(--fill-color);\n",
              "    border-color: transparent;\n",
              "    border-bottom-color: var(--fill-color);\n",
              "    animation:\n",
              "      spin 1s steps(1) infinite;\n",
              "  }\n",
              "\n",
              "  @keyframes spin {\n",
              "    0% {\n",
              "      border-color: transparent;\n",
              "      border-bottom-color: var(--fill-color);\n",
              "      border-left-color: var(--fill-color);\n",
              "    }\n",
              "    20% {\n",
              "      border-color: transparent;\n",
              "      border-left-color: var(--fill-color);\n",
              "      border-top-color: var(--fill-color);\n",
              "    }\n",
              "    30% {\n",
              "      border-color: transparent;\n",
              "      border-left-color: var(--fill-color);\n",
              "      border-top-color: var(--fill-color);\n",
              "      border-right-color: var(--fill-color);\n",
              "    }\n",
              "    40% {\n",
              "      border-color: transparent;\n",
              "      border-right-color: var(--fill-color);\n",
              "      border-top-color: var(--fill-color);\n",
              "    }\n",
              "    60% {\n",
              "      border-color: transparent;\n",
              "      border-right-color: var(--fill-color);\n",
              "    }\n",
              "    80% {\n",
              "      border-color: transparent;\n",
              "      border-right-color: var(--fill-color);\n",
              "      border-bottom-color: var(--fill-color);\n",
              "    }\n",
              "    90% {\n",
              "      border-color: transparent;\n",
              "      border-bottom-color: var(--fill-color);\n",
              "    }\n",
              "  }\n",
              "</style>\n",
              "\n",
              "  <script>\n",
              "    async function quickchart(key) {\n",
              "      const quickchartButtonEl =\n",
              "        document.querySelector('#' + key + ' button');\n",
              "      quickchartButtonEl.disabled = true;  // To prevent multiple clicks.\n",
              "      quickchartButtonEl.classList.add('colab-df-spinner');\n",
              "      try {\n",
              "        const charts = await google.colab.kernel.invokeFunction(\n",
              "            'suggestCharts', [key], {});\n",
              "      } catch (error) {\n",
              "        console.error('Error during call to suggestCharts:', error);\n",
              "      }\n",
              "      quickchartButtonEl.classList.remove('colab-df-spinner');\n",
              "      quickchartButtonEl.classList.add('colab-df-quickchart-complete');\n",
              "    }\n",
              "    (() => {\n",
              "      let quickchartButtonEl =\n",
              "        document.querySelector('#df-1127194b-5b4b-4855-a90d-43ceb7af6e0e button');\n",
              "      quickchartButtonEl.style.display =\n",
              "        google.colab.kernel.accessAllowed ? 'block' : 'none';\n",
              "    })();\n",
              "  </script>\n",
              "</div>\n",
              "    </div>\n",
              "  </div>\n"
            ],
            "application/vnd.google.colaboratory.intrinsic+json": {
              "type": "dataframe",
              "summary": "{\n  \"name\": \"X\",\n  \"rows\": 6,\n  \"fields\": [\n    {\n      \"column\": \"count\",\n      \"properties\": {\n        \"dtype\": \"number\",\n        \"std\": 0.0,\n        \"min\": 414.0,\n        \"max\": 414.0,\n        \"num_unique_values\": 1,\n        \"samples\": [\n          414.0\n        ],\n        \"semantic_type\": \"\",\n        \"description\": \"\"\n      }\n    },\n    {\n      \"column\": \"mean\",\n      \"properties\": {\n        \"dtype\": \"number\",\n        \"std\": 263.8940452369066,\n        \"min\": 1.017893719806763,\n        \"max\": 651.5458937198067,\n        \"num_unique_values\": 6,\n        \"samples\": [\n          1.017893719806763\n        ],\n        \"semantic_type\": \"\",\n        \"description\": \"\"\n      }\n    },\n    {\n      \"column\": \"std\",\n      \"properties\": {\n        \"dtype\": \"number\",\n        \"std\": 99.37044094317943,\n        \"min\": 0.006674972893361655,\n        \"max\": 234.67656702151928,\n        \"num_unique_values\": 6,\n        \"samples\": [\n          0.006674972893361655\n        ],\n        \"semantic_type\": \"\",\n        \"description\": \"\"\n      }\n    },\n    {\n      \"column\": \"min\",\n      \"properties\": {\n        \"dtype\": \"number\",\n        \"std\": 74.70691131013248,\n        \"min\": 0.17,\n        \"max\": 187.0,\n        \"num_unique_values\": 6,\n        \"samples\": [\n          1.005\n        ],\n        \"semantic_type\": \"\",\n        \"description\": \"\"\n      }\n    },\n    {\n      \"column\": \"25%\",\n      \"properties\": {\n        \"dtype\": \"number\",\n        \"std\": 182.36345921446727,\n        \"min\": 1.012,\n        \"max\": 455.25,\n        \"num_unique_values\": 6,\n        \"samples\": [\n          1.012\n        ],\n        \"semantic_type\": \"\",\n        \"description\": \"\"\n      }\n    },\n    {\n      \"column\": \"50%\",\n      \"properties\": {\n        \"dtype\": \"number\",\n        \"std\": 274.2631942253037,\n        \"min\": 1.018,\n        \"max\": 679.5,\n        \"num_unique_values\": 6,\n        \"samples\": [\n          1.018\n        ],\n        \"semantic_type\": \"\",\n        \"description\": \"\"\n      }\n    },\n    {\n      \"column\": \"75%\",\n      \"properties\": {\n        \"dtype\": \"number\",\n        \"std\": 342.7304038492452,\n        \"min\": 1.022,\n        \"max\": 840.0,\n        \"num_unique_values\": 6,\n        \"samples\": [\n          1.022\n        ],\n        \"semantic_type\": \"\",\n        \"description\": \"\"\n      }\n    },\n    {\n      \"column\": \"max\",\n      \"properties\": {\n        \"dtype\": \"number\",\n        \"std\": 510.1222919522991,\n        \"min\": 1.04,\n        \"max\": 1236.0,\n        \"num_unique_values\": 6,\n        \"samples\": [\n          1.04\n        ],\n        \"semantic_type\": \"\",\n        \"description\": \"\"\n      }\n    }\n  ]\n}"
            }
          },
          "metadata": {},
          "execution_count": 13
        }
      ],
      "source": [
        "print(\"\\n Статистика по столбцам:\")\n",
        "X.describe().T"
      ]
    },
    {
      "cell_type": "code",
      "execution_count": 14,
      "metadata": {
        "id": "llAiD05eu2SQ",
        "colab": {
          "base_uri": "https://localhost:8080/",
          "height": 535
        },
        "outputId": "bc3bbc71-3e83-4418-d79d-01b636b0fdad"
      },
      "outputs": [
        {
          "output_type": "display_data",
          "data": {
            "text/plain": [
              "<Figure size 1000x600 with 1 Axes>"
            ],
            "image/svg+xml": "<?xml version=\"1.0\" encoding=\"utf-8\" standalone=\"no\"?>\n<!DOCTYPE svg PUBLIC \"-//W3C//DTD SVG 1.1//EN\"\n  \"http://www.w3.org/Graphics/SVG/1.1/DTD/svg11.dtd\">\n<svg xmlns:xlink=\"http://www.w3.org/1999/xlink\" width=\"604.85pt\" height=\"385.719489pt\" viewBox=\"0 0 604.85 385.719489\" xmlns=\"http://www.w3.org/2000/svg\" version=\"1.1\">\n <metadata>\n  <rdf:RDF xmlns:dc=\"http://purl.org/dc/elements/1.1/\" xmlns:cc=\"http://creativecommons.org/ns#\" xmlns:rdf=\"http://www.w3.org/1999/02/22-rdf-syntax-ns#\">\n   <cc:Work>\n    <dc:type rdf:resource=\"http://purl.org/dc/dcmitype/StillImage\"/>\n    <dc:date>2024-07-05T15:51:57.216151</dc:date>\n    <dc:format>image/svg+xml</dc:format>\n    <dc:creator>\n     <cc:Agent>\n      <dc:title>Matplotlib v3.7.1, https://matplotlib.org/</dc:title>\n     </cc:Agent>\n    </dc:creator>\n   </cc:Work>\n  </rdf:RDF>\n </metadata>\n <defs>\n  <style type=\"text/css\">*{stroke-linejoin: round; stroke-linecap: butt}</style>\n </defs>\n <g id=\"figure_1\">\n  <g id=\"patch_1\">\n   <path d=\"M 0 385.719489 \nL 604.85 385.719489 \nL 604.85 0 \nL 0 0 \nz\n\" style=\"fill: #ffffff\"/>\n  </g>\n  <g id=\"axes_1\">\n   <g id=\"patch_2\">\n    <path d=\"M 39.65 339.84 \nL 597.65 339.84 \nL 597.65 7.2 \nL 39.65 7.2 \nz\n\" style=\"fill: #ffffff\"/>\n   </g>\n   <g id=\"matplotlib.axis_1\">\n    <g id=\"xtick_1\">\n     <g id=\"line2d_1\">\n      <defs>\n       <path id=\"mfc702b6afd\" d=\"M 0 0 \nL 0 3.5 \n\" style=\"stroke: #000000; stroke-width: 0.8\"/>\n      </defs>\n      <g>\n       <use xlink:href=\"#mfc702b6afd\" x=\"86.15\" y=\"339.84\" style=\"stroke: #000000; stroke-width: 0.8\"/>\n      </g>\n     </g>\n     <g id=\"text_1\">\n      <!-- gravity -->\n      <g transform=\"translate(75.683162 377.048928) rotate(-45) scale(0.1 -0.1)\">\n       <defs>\n        <path id=\"DejaVuSans-67\" d=\"M 2906 1791 \nQ 2906 2416 2648 2759 \nQ 2391 3103 1925 3103 \nQ 1463 3103 1205 2759 \nQ 947 2416 947 1791 \nQ 947 1169 1205 825 \nQ 1463 481 1925 481 \nQ 2391 481 2648 825 \nQ 2906 1169 2906 1791 \nz\nM 3481 434 \nQ 3481 -459 3084 -895 \nQ 2688 -1331 1869 -1331 \nQ 1566 -1331 1297 -1286 \nQ 1028 -1241 775 -1147 \nL 775 -588 \nQ 1028 -725 1275 -790 \nQ 1522 -856 1778 -856 \nQ 2344 -856 2625 -561 \nQ 2906 -266 2906 331 \nL 2906 616 \nQ 2728 306 2450 153 \nQ 2172 0 1784 0 \nQ 1141 0 747 490 \nQ 353 981 353 1791 \nQ 353 2603 747 3093 \nQ 1141 3584 1784 3584 \nQ 2172 3584 2450 3431 \nQ 2728 3278 2906 2969 \nL 2906 3500 \nL 3481 3500 \nL 3481 434 \nz\n\" transform=\"scale(0.015625)\"/>\n        <path id=\"DejaVuSans-72\" d=\"M 2631 2963 \nQ 2534 3019 2420 3045 \nQ 2306 3072 2169 3072 \nQ 1681 3072 1420 2755 \nQ 1159 2438 1159 1844 \nL 1159 0 \nL 581 0 \nL 581 3500 \nL 1159 3500 \nL 1159 2956 \nQ 1341 3275 1631 3429 \nQ 1922 3584 2338 3584 \nQ 2397 3584 2469 3576 \nQ 2541 3569 2628 3553 \nL 2631 2963 \nz\n\" transform=\"scale(0.015625)\"/>\n        <path id=\"DejaVuSans-61\" d=\"M 2194 1759 \nQ 1497 1759 1228 1600 \nQ 959 1441 959 1056 \nQ 959 750 1161 570 \nQ 1363 391 1709 391 \nQ 2188 391 2477 730 \nQ 2766 1069 2766 1631 \nL 2766 1759 \nL 2194 1759 \nz\nM 3341 1997 \nL 3341 0 \nL 2766 0 \nL 2766 531 \nQ 2569 213 2275 61 \nQ 1981 -91 1556 -91 \nQ 1019 -91 701 211 \nQ 384 513 384 1019 \nQ 384 1609 779 1909 \nQ 1175 2209 1959 2209 \nL 2766 2209 \nL 2766 2266 \nQ 2766 2663 2505 2880 \nQ 2244 3097 1772 3097 \nQ 1472 3097 1187 3025 \nQ 903 2953 641 2809 \nL 641 3341 \nQ 956 3463 1253 3523 \nQ 1550 3584 1831 3584 \nQ 2591 3584 2966 3190 \nQ 3341 2797 3341 1997 \nz\n\" transform=\"scale(0.015625)\"/>\n        <path id=\"DejaVuSans-76\" d=\"M 191 3500 \nL 800 3500 \nL 1894 563 \nL 2988 3500 \nL 3597 3500 \nL 2284 0 \nL 1503 0 \nL 191 3500 \nz\n\" transform=\"scale(0.015625)\"/>\n        <path id=\"DejaVuSans-69\" d=\"M 603 3500 \nL 1178 3500 \nL 1178 0 \nL 603 0 \nL 603 3500 \nz\nM 603 4863 \nL 1178 4863 \nL 1178 4134 \nL 603 4134 \nL 603 4863 \nz\n\" transform=\"scale(0.015625)\"/>\n        <path id=\"DejaVuSans-74\" d=\"M 1172 4494 \nL 1172 3500 \nL 2356 3500 \nL 2356 3053 \nL 1172 3053 \nL 1172 1153 \nQ 1172 725 1289 603 \nQ 1406 481 1766 481 \nL 2356 481 \nL 2356 0 \nL 1766 0 \nQ 1100 0 847 248 \nQ 594 497 594 1153 \nL 594 3053 \nL 172 3053 \nL 172 3500 \nL 594 3500 \nL 594 4494 \nL 1172 4494 \nz\n\" transform=\"scale(0.015625)\"/>\n        <path id=\"DejaVuSans-79\" d=\"M 2059 -325 \nQ 1816 -950 1584 -1140 \nQ 1353 -1331 966 -1331 \nL 506 -1331 \nL 506 -850 \nL 844 -850 \nQ 1081 -850 1212 -737 \nQ 1344 -625 1503 -206 \nL 1606 56 \nL 191 3500 \nL 800 3500 \nL 1894 763 \nL 2988 3500 \nL 3597 3500 \nL 2059 -325 \nz\n\" transform=\"scale(0.015625)\"/>\n       </defs>\n       <use xlink:href=\"#DejaVuSans-67\"/>\n       <use xlink:href=\"#DejaVuSans-72\" x=\"63.476562\"/>\n       <use xlink:href=\"#DejaVuSans-61\" x=\"104.589844\"/>\n       <use xlink:href=\"#DejaVuSans-76\" x=\"165.869141\"/>\n       <use xlink:href=\"#DejaVuSans-69\" x=\"225.048828\"/>\n       <use xlink:href=\"#DejaVuSans-74\" x=\"252.832031\"/>\n       <use xlink:href=\"#DejaVuSans-79\" x=\"292.041016\"/>\n      </g>\n     </g>\n    </g>\n    <g id=\"xtick_2\">\n     <g id=\"line2d_2\">\n      <g>\n       <use xlink:href=\"#mfc702b6afd\" x=\"179.15\" y=\"339.84\" style=\"stroke: #000000; stroke-width: 0.8\"/>\n      </g>\n     </g>\n     <g id=\"text_2\">\n      <!-- ph -->\n      <g transform=\"translate(176.616017 361.183219) rotate(-45) scale(0.1 -0.1)\">\n       <defs>\n        <path id=\"DejaVuSans-70\" d=\"M 1159 525 \nL 1159 -1331 \nL 581 -1331 \nL 581 3500 \nL 1159 3500 \nL 1159 2969 \nQ 1341 3281 1617 3432 \nQ 1894 3584 2278 3584 \nQ 2916 3584 3314 3078 \nQ 3713 2572 3713 1747 \nQ 3713 922 3314 415 \nQ 2916 -91 2278 -91 \nQ 1894 -91 1617 61 \nQ 1341 213 1159 525 \nz\nM 3116 1747 \nQ 3116 2381 2855 2742 \nQ 2594 3103 2138 3103 \nQ 1681 3103 1420 2742 \nQ 1159 2381 1159 1747 \nQ 1159 1113 1420 752 \nQ 1681 391 2138 391 \nQ 2594 391 2855 752 \nQ 3116 1113 3116 1747 \nz\n\" transform=\"scale(0.015625)\"/>\n        <path id=\"DejaVuSans-68\" d=\"M 3513 2113 \nL 3513 0 \nL 2938 0 \nL 2938 2094 \nQ 2938 2591 2744 2837 \nQ 2550 3084 2163 3084 \nQ 1697 3084 1428 2787 \nQ 1159 2491 1159 1978 \nL 1159 0 \nL 581 0 \nL 581 4863 \nL 1159 4863 \nL 1159 2956 \nQ 1366 3272 1645 3428 \nQ 1925 3584 2291 3584 \nQ 2894 3584 3203 3211 \nQ 3513 2838 3513 2113 \nz\n\" transform=\"scale(0.015625)\"/>\n       </defs>\n       <use xlink:href=\"#DejaVuSans-70\"/>\n       <use xlink:href=\"#DejaVuSans-68\" x=\"63.476562\"/>\n      </g>\n     </g>\n    </g>\n    <g id=\"xtick_3\">\n     <g id=\"line2d_3\">\n      <g>\n       <use xlink:href=\"#mfc702b6afd\" x=\"272.15\" y=\"339.84\" style=\"stroke: #000000; stroke-width: 0.8\"/>\n      </g>\n     </g>\n     <g id=\"text_3\">\n      <!-- osmo -->\n      <g transform=\"translate(264.48894 371.437372) rotate(-45) scale(0.1 -0.1)\">\n       <defs>\n        <path id=\"DejaVuSans-6f\" d=\"M 1959 3097 \nQ 1497 3097 1228 2736 \nQ 959 2375 959 1747 \nQ 959 1119 1226 758 \nQ 1494 397 1959 397 \nQ 2419 397 2687 759 \nQ 2956 1122 2956 1747 \nQ 2956 2369 2687 2733 \nQ 2419 3097 1959 3097 \nz\nM 1959 3584 \nQ 2709 3584 3137 3096 \nQ 3566 2609 3566 1747 \nQ 3566 888 3137 398 \nQ 2709 -91 1959 -91 \nQ 1206 -91 779 398 \nQ 353 888 353 1747 \nQ 353 2609 779 3096 \nQ 1206 3584 1959 3584 \nz\n\" transform=\"scale(0.015625)\"/>\n        <path id=\"DejaVuSans-73\" d=\"M 2834 3397 \nL 2834 2853 \nQ 2591 2978 2328 3040 \nQ 2066 3103 1784 3103 \nQ 1356 3103 1142 2972 \nQ 928 2841 928 2578 \nQ 928 2378 1081 2264 \nQ 1234 2150 1697 2047 \nL 1894 2003 \nQ 2506 1872 2764 1633 \nQ 3022 1394 3022 966 \nQ 3022 478 2636 193 \nQ 2250 -91 1575 -91 \nQ 1294 -91 989 -36 \nQ 684 19 347 128 \nL 347 722 \nQ 666 556 975 473 \nQ 1284 391 1588 391 \nQ 1994 391 2212 530 \nQ 2431 669 2431 922 \nQ 2431 1156 2273 1281 \nQ 2116 1406 1581 1522 \nL 1381 1569 \nQ 847 1681 609 1914 \nQ 372 2147 372 2553 \nQ 372 3047 722 3315 \nQ 1072 3584 1716 3584 \nQ 2034 3584 2315 3537 \nQ 2597 3491 2834 3397 \nz\n\" transform=\"scale(0.015625)\"/>\n        <path id=\"DejaVuSans-6d\" d=\"M 3328 2828 \nQ 3544 3216 3844 3400 \nQ 4144 3584 4550 3584 \nQ 5097 3584 5394 3201 \nQ 5691 2819 5691 2113 \nL 5691 0 \nL 5113 0 \nL 5113 2094 \nQ 5113 2597 4934 2840 \nQ 4756 3084 4391 3084 \nQ 3944 3084 3684 2787 \nQ 3425 2491 3425 1978 \nL 3425 0 \nL 2847 0 \nL 2847 2094 \nQ 2847 2600 2669 2842 \nQ 2491 3084 2119 3084 \nQ 1678 3084 1418 2786 \nQ 1159 2488 1159 1978 \nL 1159 0 \nL 581 0 \nL 581 3500 \nL 1159 3500 \nL 1159 2956 \nQ 1356 3278 1631 3431 \nQ 1906 3584 2284 3584 \nQ 2666 3584 2933 3390 \nQ 3200 3197 3328 2828 \nz\n\" transform=\"scale(0.015625)\"/>\n       </defs>\n       <use xlink:href=\"#DejaVuSans-6f\"/>\n       <use xlink:href=\"#DejaVuSans-73\" x=\"61.181641\"/>\n       <use xlink:href=\"#DejaVuSans-6d\" x=\"113.28125\"/>\n       <use xlink:href=\"#DejaVuSans-6f\" x=\"210.693359\"/>\n      </g>\n     </g>\n    </g>\n    <g id=\"xtick_4\">\n     <g id=\"line2d_4\">\n      <g>\n       <use xlink:href=\"#mfc702b6afd\" x=\"365.15\" y=\"339.84\" style=\"stroke: #000000; stroke-width: 0.8\"/>\n      </g>\n     </g>\n     <g id=\"text_4\">\n      <!-- cond -->\n      <g transform=\"translate(358.508721 369.397811) rotate(-45) scale(0.1 -0.1)\">\n       <defs>\n        <path id=\"DejaVuSans-63\" d=\"M 3122 3366 \nL 3122 2828 \nQ 2878 2963 2633 3030 \nQ 2388 3097 2138 3097 \nQ 1578 3097 1268 2742 \nQ 959 2388 959 1747 \nQ 959 1106 1268 751 \nQ 1578 397 2138 397 \nQ 2388 397 2633 464 \nQ 2878 531 3122 666 \nL 3122 134 \nQ 2881 22 2623 -34 \nQ 2366 -91 2075 -91 \nQ 1284 -91 818 406 \nQ 353 903 353 1747 \nQ 353 2603 823 3093 \nQ 1294 3584 2113 3584 \nQ 2378 3584 2631 3529 \nQ 2884 3475 3122 3366 \nz\n\" transform=\"scale(0.015625)\"/>\n        <path id=\"DejaVuSans-6e\" d=\"M 3513 2113 \nL 3513 0 \nL 2938 0 \nL 2938 2094 \nQ 2938 2591 2744 2837 \nQ 2550 3084 2163 3084 \nQ 1697 3084 1428 2787 \nQ 1159 2491 1159 1978 \nL 1159 0 \nL 581 0 \nL 581 3500 \nL 1159 3500 \nL 1159 2956 \nQ 1366 3272 1645 3428 \nQ 1925 3584 2291 3584 \nQ 2894 3584 3203 3211 \nQ 3513 2838 3513 2113 \nz\n\" transform=\"scale(0.015625)\"/>\n        <path id=\"DejaVuSans-64\" d=\"M 2906 2969 \nL 2906 4863 \nL 3481 4863 \nL 3481 0 \nL 2906 0 \nL 2906 525 \nQ 2725 213 2448 61 \nQ 2172 -91 1784 -91 \nQ 1150 -91 751 415 \nQ 353 922 353 1747 \nQ 353 2572 751 3078 \nQ 1150 3584 1784 3584 \nQ 2172 3584 2448 3432 \nQ 2725 3281 2906 2969 \nz\nM 947 1747 \nQ 947 1113 1208 752 \nQ 1469 391 1925 391 \nQ 2381 391 2643 752 \nQ 2906 1113 2906 1747 \nQ 2906 2381 2643 2742 \nQ 2381 3103 1925 3103 \nQ 1469 3103 1208 2742 \nQ 947 2381 947 1747 \nz\n\" transform=\"scale(0.015625)\"/>\n       </defs>\n       <use xlink:href=\"#DejaVuSans-63\"/>\n       <use xlink:href=\"#DejaVuSans-6f\" x=\"54.980469\"/>\n       <use xlink:href=\"#DejaVuSans-6e\" x=\"116.162109\"/>\n       <use xlink:href=\"#DejaVuSans-64\" x=\"179.541016\"/>\n      </g>\n     </g>\n    </g>\n    <g id=\"xtick_5\">\n     <g id=\"line2d_5\">\n      <g>\n       <use xlink:href=\"#mfc702b6afd\" x=\"458.15\" y=\"339.84\" style=\"stroke: #000000; stroke-width: 0.8\"/>\n      </g>\n     </g>\n     <g id=\"text_5\">\n      <!-- urea -->\n      <g transform=\"translate(452.144564 368.126124) rotate(-45) scale(0.1 -0.1)\">\n       <defs>\n        <path id=\"DejaVuSans-75\" d=\"M 544 1381 \nL 544 3500 \nL 1119 3500 \nL 1119 1403 \nQ 1119 906 1312 657 \nQ 1506 409 1894 409 \nQ 2359 409 2629 706 \nQ 2900 1003 2900 1516 \nL 2900 3500 \nL 3475 3500 \nL 3475 0 \nL 2900 0 \nL 2900 538 \nQ 2691 219 2414 64 \nQ 2138 -91 1772 -91 \nQ 1169 -91 856 284 \nQ 544 659 544 1381 \nz\nM 1991 3584 \nL 1991 3584 \nz\n\" transform=\"scale(0.015625)\"/>\n        <path id=\"DejaVuSans-65\" d=\"M 3597 1894 \nL 3597 1613 \nL 953 1613 \nQ 991 1019 1311 708 \nQ 1631 397 2203 397 \nQ 2534 397 2845 478 \nQ 3156 559 3463 722 \nL 3463 178 \nQ 3153 47 2828 -22 \nQ 2503 -91 2169 -91 \nQ 1331 -91 842 396 \nQ 353 884 353 1716 \nQ 353 2575 817 3079 \nQ 1281 3584 2069 3584 \nQ 2775 3584 3186 3129 \nQ 3597 2675 3597 1894 \nz\nM 3022 2063 \nQ 3016 2534 2758 2815 \nQ 2500 3097 2075 3097 \nQ 1594 3097 1305 2825 \nQ 1016 2553 972 2059 \nL 3022 2063 \nz\n\" transform=\"scale(0.015625)\"/>\n       </defs>\n       <use xlink:href=\"#DejaVuSans-75\"/>\n       <use xlink:href=\"#DejaVuSans-72\" x=\"63.378906\"/>\n       <use xlink:href=\"#DejaVuSans-65\" x=\"102.242188\"/>\n       <use xlink:href=\"#DejaVuSans-61\" x=\"163.765625\"/>\n      </g>\n     </g>\n    </g>\n    <g id=\"xtick_6\">\n     <g id=\"line2d_6\">\n      <g>\n       <use xlink:href=\"#mfc702b6afd\" x=\"551.15\" y=\"339.84\" style=\"stroke: #000000; stroke-width: 0.8\"/>\n      </g>\n     </g>\n     <g id=\"text_6\">\n      <!-- calc -->\n      <g transform=\"translate(546.064355 366.286541) rotate(-45) scale(0.1 -0.1)\">\n       <defs>\n        <path id=\"DejaVuSans-6c\" d=\"M 603 4863 \nL 1178 4863 \nL 1178 0 \nL 603 0 \nL 603 4863 \nz\n\" transform=\"scale(0.015625)\"/>\n       </defs>\n       <use xlink:href=\"#DejaVuSans-63\"/>\n       <use xlink:href=\"#DejaVuSans-61\" x=\"54.980469\"/>\n       <use xlink:href=\"#DejaVuSans-6c\" x=\"116.259766\"/>\n       <use xlink:href=\"#DejaVuSans-63\" x=\"144.042969\"/>\n      </g>\n     </g>\n    </g>\n   </g>\n   <g id=\"matplotlib.axis_2\">\n    <g id=\"ytick_1\">\n     <g id=\"line2d_7\">\n      <defs>\n       <path id=\"mc2844c8fca\" d=\"M 0 0 \nL -3.5 0 \n\" style=\"stroke: #000000; stroke-width: 0.8\"/>\n      </defs>\n      <g>\n       <use xlink:href=\"#mc2844c8fca\" x=\"39.65\" y=\"324.761598\" style=\"stroke: #000000; stroke-width: 0.8\"/>\n      </g>\n     </g>\n     <g id=\"text_7\">\n      <!-- 0 -->\n      <g transform=\"translate(26.2875 328.560817) scale(0.1 -0.1)\">\n       <defs>\n        <path id=\"DejaVuSans-30\" d=\"M 2034 4250 \nQ 1547 4250 1301 3770 \nQ 1056 3291 1056 2328 \nQ 1056 1369 1301 889 \nQ 1547 409 2034 409 \nQ 2525 409 2770 889 \nQ 3016 1369 3016 2328 \nQ 3016 3291 2770 3770 \nQ 2525 4250 2034 4250 \nz\nM 2034 4750 \nQ 2819 4750 3233 4129 \nQ 3647 3509 3647 2328 \nQ 3647 1150 3233 529 \nQ 2819 -91 2034 -91 \nQ 1250 -91 836 529 \nQ 422 1150 422 2328 \nQ 422 3509 836 4129 \nQ 1250 4750 2034 4750 \nz\n\" transform=\"scale(0.015625)\"/>\n       </defs>\n       <use xlink:href=\"#DejaVuSans-30\"/>\n      </g>\n     </g>\n    </g>\n    <g id=\"ytick_2\">\n     <g id=\"line2d_8\">\n      <g>\n       <use xlink:href=\"#mc2844c8fca\" x=\"39.65\" y=\"275.822828\" style=\"stroke: #000000; stroke-width: 0.8\"/>\n      </g>\n     </g>\n     <g id=\"text_8\">\n      <!-- 200 -->\n      <g transform=\"translate(13.5625 279.622047) scale(0.1 -0.1)\">\n       <defs>\n        <path id=\"DejaVuSans-32\" d=\"M 1228 531 \nL 3431 531 \nL 3431 0 \nL 469 0 \nL 469 531 \nQ 828 903 1448 1529 \nQ 2069 2156 2228 2338 \nQ 2531 2678 2651 2914 \nQ 2772 3150 2772 3378 \nQ 2772 3750 2511 3984 \nQ 2250 4219 1831 4219 \nQ 1534 4219 1204 4116 \nQ 875 4013 500 3803 \nL 500 4441 \nQ 881 4594 1212 4672 \nQ 1544 4750 1819 4750 \nQ 2544 4750 2975 4387 \nQ 3406 4025 3406 3419 \nQ 3406 3131 3298 2873 \nQ 3191 2616 2906 2266 \nQ 2828 2175 2409 1742 \nQ 1991 1309 1228 531 \nz\n\" transform=\"scale(0.015625)\"/>\n       </defs>\n       <use xlink:href=\"#DejaVuSans-32\"/>\n       <use xlink:href=\"#DejaVuSans-30\" x=\"63.623047\"/>\n       <use xlink:href=\"#DejaVuSans-30\" x=\"127.246094\"/>\n      </g>\n     </g>\n    </g>\n    <g id=\"ytick_3\">\n     <g id=\"line2d_9\">\n      <g>\n       <use xlink:href=\"#mc2844c8fca\" x=\"39.65\" y=\"226.884058\" style=\"stroke: #000000; stroke-width: 0.8\"/>\n      </g>\n     </g>\n     <g id=\"text_9\">\n      <!-- 400 -->\n      <g transform=\"translate(13.5625 230.683277) scale(0.1 -0.1)\">\n       <defs>\n        <path id=\"DejaVuSans-34\" d=\"M 2419 4116 \nL 825 1625 \nL 2419 1625 \nL 2419 4116 \nz\nM 2253 4666 \nL 3047 4666 \nL 3047 1625 \nL 3713 1625 \nL 3713 1100 \nL 3047 1100 \nL 3047 0 \nL 2419 0 \nL 2419 1100 \nL 313 1100 \nL 313 1709 \nL 2253 4666 \nz\n\" transform=\"scale(0.015625)\"/>\n       </defs>\n       <use xlink:href=\"#DejaVuSans-34\"/>\n       <use xlink:href=\"#DejaVuSans-30\" x=\"63.623047\"/>\n       <use xlink:href=\"#DejaVuSans-30\" x=\"127.246094\"/>\n      </g>\n     </g>\n    </g>\n    <g id=\"ytick_4\">\n     <g id=\"line2d_10\">\n      <g>\n       <use xlink:href=\"#mc2844c8fca\" x=\"39.65\" y=\"177.945288\" style=\"stroke: #000000; stroke-width: 0.8\"/>\n      </g>\n     </g>\n     <g id=\"text_10\">\n      <!-- 600 -->\n      <g transform=\"translate(13.5625 181.744507) scale(0.1 -0.1)\">\n       <defs>\n        <path id=\"DejaVuSans-36\" d=\"M 2113 2584 \nQ 1688 2584 1439 2293 \nQ 1191 2003 1191 1497 \nQ 1191 994 1439 701 \nQ 1688 409 2113 409 \nQ 2538 409 2786 701 \nQ 3034 994 3034 1497 \nQ 3034 2003 2786 2293 \nQ 2538 2584 2113 2584 \nz\nM 3366 4563 \nL 3366 3988 \nQ 3128 4100 2886 4159 \nQ 2644 4219 2406 4219 \nQ 1781 4219 1451 3797 \nQ 1122 3375 1075 2522 \nQ 1259 2794 1537 2939 \nQ 1816 3084 2150 3084 \nQ 2853 3084 3261 2657 \nQ 3669 2231 3669 1497 \nQ 3669 778 3244 343 \nQ 2819 -91 2113 -91 \nQ 1303 -91 875 529 \nQ 447 1150 447 2328 \nQ 447 3434 972 4092 \nQ 1497 4750 2381 4750 \nQ 2619 4750 2861 4703 \nQ 3103 4656 3366 4563 \nz\n\" transform=\"scale(0.015625)\"/>\n       </defs>\n       <use xlink:href=\"#DejaVuSans-36\"/>\n       <use xlink:href=\"#DejaVuSans-30\" x=\"63.623047\"/>\n       <use xlink:href=\"#DejaVuSans-30\" x=\"127.246094\"/>\n      </g>\n     </g>\n    </g>\n    <g id=\"ytick_5\">\n     <g id=\"line2d_11\">\n      <g>\n       <use xlink:href=\"#mc2844c8fca\" x=\"39.65\" y=\"129.006518\" style=\"stroke: #000000; stroke-width: 0.8\"/>\n      </g>\n     </g>\n     <g id=\"text_11\">\n      <!-- 800 -->\n      <g transform=\"translate(13.5625 132.805737) scale(0.1 -0.1)\">\n       <defs>\n        <path id=\"DejaVuSans-38\" d=\"M 2034 2216 \nQ 1584 2216 1326 1975 \nQ 1069 1734 1069 1313 \nQ 1069 891 1326 650 \nQ 1584 409 2034 409 \nQ 2484 409 2743 651 \nQ 3003 894 3003 1313 \nQ 3003 1734 2745 1975 \nQ 2488 2216 2034 2216 \nz\nM 1403 2484 \nQ 997 2584 770 2862 \nQ 544 3141 544 3541 \nQ 544 4100 942 4425 \nQ 1341 4750 2034 4750 \nQ 2731 4750 3128 4425 \nQ 3525 4100 3525 3541 \nQ 3525 3141 3298 2862 \nQ 3072 2584 2669 2484 \nQ 3125 2378 3379 2068 \nQ 3634 1759 3634 1313 \nQ 3634 634 3220 271 \nQ 2806 -91 2034 -91 \nQ 1263 -91 848 271 \nQ 434 634 434 1313 \nQ 434 1759 690 2068 \nQ 947 2378 1403 2484 \nz\nM 1172 3481 \nQ 1172 3119 1398 2916 \nQ 1625 2713 2034 2713 \nQ 2441 2713 2670 2916 \nQ 2900 3119 2900 3481 \nQ 2900 3844 2670 4047 \nQ 2441 4250 2034 4250 \nQ 1625 4250 1398 4047 \nQ 1172 3844 1172 3481 \nz\n\" transform=\"scale(0.015625)\"/>\n       </defs>\n       <use xlink:href=\"#DejaVuSans-38\"/>\n       <use xlink:href=\"#DejaVuSans-30\" x=\"63.623047\"/>\n       <use xlink:href=\"#DejaVuSans-30\" x=\"127.246094\"/>\n      </g>\n     </g>\n    </g>\n    <g id=\"ytick_6\">\n     <g id=\"line2d_12\">\n      <g>\n       <use xlink:href=\"#mc2844c8fca\" x=\"39.65\" y=\"80.067748\" style=\"stroke: #000000; stroke-width: 0.8\"/>\n      </g>\n     </g>\n     <g id=\"text_12\">\n      <!-- 1000 -->\n      <g transform=\"translate(7.2 83.866967) scale(0.1 -0.1)\">\n       <defs>\n        <path id=\"DejaVuSans-31\" d=\"M 794 531 \nL 1825 531 \nL 1825 4091 \nL 703 3866 \nL 703 4441 \nL 1819 4666 \nL 2450 4666 \nL 2450 531 \nL 3481 531 \nL 3481 0 \nL 794 0 \nL 794 531 \nz\n\" transform=\"scale(0.015625)\"/>\n       </defs>\n       <use xlink:href=\"#DejaVuSans-31\"/>\n       <use xlink:href=\"#DejaVuSans-30\" x=\"63.623047\"/>\n       <use xlink:href=\"#DejaVuSans-30\" x=\"127.246094\"/>\n       <use xlink:href=\"#DejaVuSans-30\" x=\"190.869141\"/>\n      </g>\n     </g>\n    </g>\n    <g id=\"ytick_7\">\n     <g id=\"line2d_13\">\n      <g>\n       <use xlink:href=\"#mc2844c8fca\" x=\"39.65\" y=\"31.128979\" style=\"stroke: #000000; stroke-width: 0.8\"/>\n      </g>\n     </g>\n     <g id=\"text_13\">\n      <!-- 1200 -->\n      <g transform=\"translate(7.2 34.928197) scale(0.1 -0.1)\">\n       <use xlink:href=\"#DejaVuSans-31\"/>\n       <use xlink:href=\"#DejaVuSans-32\" x=\"63.623047\"/>\n       <use xlink:href=\"#DejaVuSans-30\" x=\"127.246094\"/>\n       <use xlink:href=\"#DejaVuSans-30\" x=\"190.869141\"/>\n      </g>\n     </g>\n    </g>\n   </g>\n   <g id=\"patch_3\">\n    <path d=\"M 48.95 324.513968 \nL 123.35 324.513968 \nL 123.35 324.511521 \nL 48.95 324.511521 \nL 48.95 324.513968 \nz\n\" clip-path=\"url(#pf7680fa336)\" style=\"fill: #3274a1; stroke: #3d3d3d; stroke-linejoin: miter\"/>\n   </g>\n   <g id=\"line2d_14\">\n    <path d=\"M 86.15 324.513968 \nL 86.15 324.515681 \n\" clip-path=\"url(#pf7680fa336)\" style=\"fill: none; stroke: #3d3d3d\"/>\n   </g>\n   <g id=\"line2d_15\">\n    <path d=\"M 86.15 324.511521 \nL 86.15 324.508585 \n\" clip-path=\"url(#pf7680fa336)\" style=\"fill: none; stroke: #3d3d3d\"/>\n   </g>\n   <g id=\"line2d_16\">\n    <path d=\"M 67.55 324.515681 \nL 104.75 324.515681 \n\" clip-path=\"url(#pf7680fa336)\" style=\"fill: none; stroke: #3d3d3d; stroke-linecap: square\"/>\n   </g>\n   <g id=\"line2d_17\">\n    <path d=\"M 67.55 324.508585 \nL 104.75 324.508585 \n\" clip-path=\"url(#pf7680fa336)\" style=\"fill: none; stroke: #3d3d3d; stroke-linecap: square\"/>\n   </g>\n   <g id=\"line2d_18\">\n    <defs>\n     <path id=\"m82d6a161f8\" d=\"M 0 3 \nC 0.795609 3 1.55874 2.683901 2.12132 2.12132 \nC 2.683901 1.55874 3 0.795609 3 0 \nC 3 -0.795609 2.683901 -1.55874 2.12132 -2.12132 \nC 1.55874 -2.683901 0.795609 -3 0 -3 \nC -0.795609 -3 -1.55874 -2.683901 -2.12132 -2.12132 \nC -2.683901 -1.55874 -3 -0.795609 -3 0 \nC -3 0.795609 -2.683901 1.55874 -2.12132 2.12132 \nC -1.55874 2.683901 -0.795609 3 0 3 \nz\n\" style=\"stroke: #3d3d3d\"/>\n    </defs>\n    <g clip-path=\"url(#pf7680fa336)\">\n     <use xlink:href=\"#m82d6a161f8\" x=\"86.15\" y=\"324.507116\" style=\"fill-opacity: 0; stroke: #3d3d3d\"/>\n     <use xlink:href=\"#m82d6a161f8\" x=\"86.15\" y=\"324.507116\" style=\"fill-opacity: 0; stroke: #3d3d3d\"/>\n     <use xlink:href=\"#m82d6a161f8\" x=\"86.15\" y=\"324.507116\" style=\"fill-opacity: 0; stroke: #3d3d3d\"/>\n    </g>\n   </g>\n   <g id=\"patch_4\">\n    <path d=\"M 141.95 323.408441 \nL 216.35 323.408441 \nL 216.35 323.224921 \nL 141.95 323.224921 \nL 141.95 323.408441 \nz\n\" clip-path=\"url(#pf7680fa336)\" style=\"fill: #e1812c; stroke: #3d3d3d; stroke-linejoin: miter\"/>\n   </g>\n   <g id=\"line2d_19\">\n    <path d=\"M 179.15 323.408441 \nL 179.15 323.596855 \n\" clip-path=\"url(#pf7680fa336)\" style=\"fill: none; stroke: #3d3d3d\"/>\n   </g>\n   <g id=\"line2d_20\">\n    <path d=\"M 179.15 323.224921 \nL 179.15 322.955757 \n\" clip-path=\"url(#pf7680fa336)\" style=\"fill: none; stroke: #3d3d3d\"/>\n   </g>\n   <g id=\"line2d_21\">\n    <path d=\"M 160.55 323.596855 \nL 197.75 323.596855 \n\" clip-path=\"url(#pf7680fa336)\" style=\"fill: none; stroke: #3d3d3d; stroke-linecap: square\"/>\n   </g>\n   <g id=\"line2d_22\">\n    <path d=\"M 160.55 322.955757 \nL 197.75 322.955757 \n\" clip-path=\"url(#pf7680fa336)\" style=\"fill: none; stroke: #3d3d3d; stroke-linecap: square\"/>\n   </g>\n   <g id=\"line2d_23\">\n    <g clip-path=\"url(#pf7680fa336)\">\n     <use xlink:href=\"#m82d6a161f8\" x=\"179.15\" y=\"322.899478\" style=\"fill-opacity: 0; stroke: #3d3d3d\"/>\n     <use xlink:href=\"#m82d6a161f8\" x=\"179.15\" y=\"322.823623\" style=\"fill-opacity: 0; stroke: #3d3d3d\"/>\n     <use xlink:href=\"#m82d6a161f8\" x=\"179.15\" y=\"322.899478\" style=\"fill-opacity: 0; stroke: #3d3d3d\"/>\n     <use xlink:href=\"#m82d6a161f8\" x=\"179.15\" y=\"322.828517\" style=\"fill-opacity: 0; stroke: #3d3d3d\"/>\n     <use xlink:href=\"#m82d6a161f8\" x=\"179.15\" y=\"322.899478\" style=\"fill-opacity: 0; stroke: #3d3d3d\"/>\n     <use xlink:href=\"#m82d6a161f8\" x=\"179.15\" y=\"322.818729\" style=\"fill-opacity: 0; stroke: #3d3d3d\"/>\n     <use xlink:href=\"#m82d6a161f8\" x=\"179.15\" y=\"322.828517\" style=\"fill-opacity: 0; stroke: #3d3d3d\"/>\n     <use xlink:href=\"#m82d6a161f8\" x=\"179.15\" y=\"322.899478\" style=\"fill-opacity: 0; stroke: #3d3d3d\"/>\n     <use xlink:href=\"#m82d6a161f8\" x=\"179.15\" y=\"322.823623\" style=\"fill-opacity: 0; stroke: #3d3d3d\"/>\n     <use xlink:href=\"#m82d6a161f8\" x=\"179.15\" y=\"322.823623\" style=\"fill-opacity: 0; stroke: #3d3d3d\"/>\n     <use xlink:href=\"#m82d6a161f8\" x=\"179.15\" y=\"322.899478\" style=\"fill-opacity: 0; stroke: #3d3d3d\"/>\n     <use xlink:href=\"#m82d6a161f8\" x=\"179.15\" y=\"322.828517\" style=\"fill-opacity: 0; stroke: #3d3d3d\"/>\n    </g>\n   </g>\n   <g id=\"patch_5\">\n    <path d=\"M 234.95 213.364723 \nL 309.35 213.364723 \nL 309.35 119.218764 \nL 234.95 119.218764 \nL 234.95 213.364723 \nz\n\" clip-path=\"url(#pf7680fa336)\" style=\"fill: #3a923a; stroke: #3d3d3d; stroke-linejoin: miter\"/>\n   </g>\n   <g id=\"line2d_24\">\n    <path d=\"M 272.15 213.364723 \nL 272.15 279.003848 \n\" clip-path=\"url(#pf7680fa336)\" style=\"fill: none; stroke: #3d3d3d\"/>\n   </g>\n   <g id=\"line2d_25\">\n    <path d=\"M 272.15 119.218764 \nL 272.15 22.32 \n\" clip-path=\"url(#pf7680fa336)\" style=\"fill: none; stroke: #3d3d3d\"/>\n   </g>\n   <g id=\"line2d_26\">\n    <path d=\"M 253.55 279.003848 \nL 290.75 279.003848 \n\" clip-path=\"url(#pf7680fa336)\" style=\"fill: none; stroke: #3d3d3d; stroke-linecap: square\"/>\n   </g>\n   <g id=\"line2d_27\">\n    <path d=\"M 253.55 22.32 \nL 290.75 22.32 \n\" clip-path=\"url(#pf7680fa336)\" style=\"fill: none; stroke: #3d3d3d; stroke-linecap: square\"/>\n   </g>\n   <g id=\"line2d_28\"/>\n   <g id=\"patch_6\">\n    <path d=\"M 327.95 320.968843 \nL 402.35 320.968843 \nL 402.35 318.008048 \nL 327.95 318.008048 \nL 327.95 320.968843 \nz\n\" clip-path=\"url(#pf7680fa336)\" style=\"fill: #c03d3e; stroke: #3d3d3d; stroke-linejoin: miter\"/>\n   </g>\n   <g id=\"line2d_29\">\n    <path d=\"M 365.15 320.968843 \nL 365.15 323.513659 \n\" clip-path=\"url(#pf7680fa336)\" style=\"fill: none; stroke: #3d3d3d\"/>\n   </g>\n   <g id=\"line2d_30\">\n    <path d=\"M 365.15 318.008048 \nL 365.15 315.463232 \n\" clip-path=\"url(#pf7680fa336)\" style=\"fill: none; stroke: #3d3d3d\"/>\n   </g>\n   <g id=\"line2d_31\">\n    <path d=\"M 346.55 323.513659 \nL 383.75 323.513659 \n\" clip-path=\"url(#pf7680fa336)\" style=\"fill: none; stroke: #3d3d3d; stroke-linecap: square\"/>\n   </g>\n   <g id=\"line2d_32\">\n    <path d=\"M 346.55 315.463232 \nL 383.75 315.463232 \n\" clip-path=\"url(#pf7680fa336)\" style=\"fill: none; stroke: #3d3d3d; stroke-linecap: square\"/>\n   </g>\n   <g id=\"line2d_33\"/>\n   <g id=\"patch_7\">\n    <path d=\"M 420.95 283.163644 \nL 495.35 283.163644 \nL 495.35 230.554466 \nL 420.95 230.554466 \nL 420.95 283.163644 \nz\n\" clip-path=\"url(#pf7680fa336)\" style=\"fill: #9372b2; stroke: #3d3d3d; stroke-linejoin: miter\"/>\n   </g>\n   <g id=\"line2d_34\">\n    <path d=\"M 458.15 283.163644 \nL 458.15 322.314659 \n\" clip-path=\"url(#pf7680fa336)\" style=\"fill: none; stroke: #3d3d3d\"/>\n   </g>\n   <g id=\"line2d_35\">\n    <path d=\"M 458.15 230.554466 \nL 458.15 173.051411 \n\" clip-path=\"url(#pf7680fa336)\" style=\"fill: none; stroke: #3d3d3d\"/>\n   </g>\n   <g id=\"line2d_36\">\n    <path d=\"M 439.55 322.314659 \nL 476.75 322.314659 \n\" clip-path=\"url(#pf7680fa336)\" style=\"fill: none; stroke: #3d3d3d; stroke-linecap: square\"/>\n   </g>\n   <g id=\"line2d_37\">\n    <path d=\"M 439.55 173.051411 \nL 476.75 173.051411 \n\" clip-path=\"url(#pf7680fa336)\" style=\"fill: none; stroke: #3d3d3d; stroke-linecap: square\"/>\n   </g>\n   <g id=\"line2d_38\"/>\n   <g id=\"patch_8\">\n    <path d=\"M 513.95 324.406792 \nL 588.35 324.406792 \nL 588.35 323.139278 \nL 513.95 323.139278 \nL 513.95 324.406792 \nz\n\" clip-path=\"url(#pf7680fa336)\" style=\"fill: #845b53; stroke: #3d3d3d; stroke-linejoin: miter\"/>\n   </g>\n   <g id=\"line2d_39\">\n    <path d=\"M 551.15 324.406792 \nL 551.15 324.72 \n\" clip-path=\"url(#pf7680fa336)\" style=\"fill: none; stroke: #3d3d3d\"/>\n   </g>\n   <g id=\"line2d_40\">\n    <path d=\"M 551.15 323.139278 \nL 551.15 321.252688 \n\" clip-path=\"url(#pf7680fa336)\" style=\"fill: none; stroke: #3d3d3d\"/>\n   </g>\n   <g id=\"line2d_41\">\n    <path d=\"M 532.55 324.72 \nL 569.75 324.72 \n\" clip-path=\"url(#pf7680fa336)\" style=\"fill: none; stroke: #3d3d3d; stroke-linecap: square\"/>\n   </g>\n   <g id=\"line2d_42\">\n    <path d=\"M 532.55 321.252688 \nL 569.75 321.252688 \n\" clip-path=\"url(#pf7680fa336)\" style=\"fill: none; stroke: #3d3d3d; stroke-linecap: square\"/>\n   </g>\n   <g id=\"line2d_43\"/>\n   <g id=\"line2d_44\">\n    <path d=\"M 48.95 324.5125 \nL 123.35 324.5125 \n\" clip-path=\"url(#pf7680fa336)\" style=\"fill: none; stroke: #3d3d3d\"/>\n   </g>\n   <g id=\"line2d_45\">\n    <path d=\"M 141.95 323.357055 \nL 216.35 323.357055 \n\" clip-path=\"url(#pf7680fa336)\" style=\"fill: none; stroke: #3d3d3d\"/>\n   </g>\n   <g id=\"line2d_46\">\n    <path d=\"M 234.95 158.492127 \nL 309.35 158.492127 \n\" clip-path=\"url(#pf7680fa336)\" style=\"fill: none; stroke: #3d3d3d\"/>\n   </g>\n   <g id=\"line2d_47\">\n    <path d=\"M 327.95 319.329394 \nL 402.35 319.329394 \n\" clip-path=\"url(#pf7680fa336)\" style=\"fill: none; stroke: #3d3d3d\"/>\n   </g>\n   <g id=\"line2d_48\">\n    <path d=\"M 420.95 256.981402 \nL 495.35 256.981402 \n\" clip-path=\"url(#pf7680fa336)\" style=\"fill: none; stroke: #3d3d3d\"/>\n   </g>\n   <g id=\"line2d_49\">\n    <path d=\"M 513.95 323.995706 \nL 588.35 323.995706 \n\" clip-path=\"url(#pf7680fa336)\" style=\"fill: none; stroke: #3d3d3d\"/>\n   </g>\n   <g id=\"patch_9\">\n    <path d=\"M 39.65 339.84 \nL 39.65 7.2 \n\" style=\"fill: none; stroke: #000000; stroke-width: 0.8; stroke-linejoin: miter; stroke-linecap: square\"/>\n   </g>\n   <g id=\"patch_10\">\n    <path d=\"M 597.65 339.84 \nL 597.65 7.2 \n\" style=\"fill: none; stroke: #000000; stroke-width: 0.8; stroke-linejoin: miter; stroke-linecap: square\"/>\n   </g>\n   <g id=\"patch_11\">\n    <path d=\"M 39.65 339.84 \nL 597.65 339.84 \n\" style=\"fill: none; stroke: #000000; stroke-width: 0.8; stroke-linejoin: miter; stroke-linecap: square\"/>\n   </g>\n   <g id=\"patch_12\">\n    <path d=\"M 39.65 7.2 \nL 597.65 7.2 \n\" style=\"fill: none; stroke: #000000; stroke-width: 0.8; stroke-linejoin: miter; stroke-linecap: square\"/>\n   </g>\n  </g>\n </g>\n <defs>\n  <clipPath id=\"pf7680fa336\">\n   <rect x=\"39.65\" y=\"7.2\" width=\"558\" height=\"332.64\"/>\n  </clipPath>\n </defs>\n</svg>\n"
          },
          "metadata": {}
        }
      ],
      "source": [
        "plt.figure(figsize=(10, 6))\n",
        "sns.boxplot(data=X)\n",
        "plt.xticks(rotation=45)\n",
        "plt.show()"
      ]
    },
    {
      "cell_type": "code",
      "execution_count": 15,
      "metadata": {
        "id": "z_Ad9tZNmM4J",
        "colab": {
          "base_uri": "https://localhost:8080/"
        },
        "outputId": "950a0080-a6b6-483f-e09d-ead2b0a7cba4"
      },
      "outputs": [
        {
          "output_type": "stream",
          "name": "stdout",
          "text": [
            "\n",
            "Target Class Distribution:\n"
          ]
        },
        {
          "output_type": "execute_result",
          "data": {
            "text/plain": [
              "target\n",
              "0    230\n",
              "1    184\n",
              "Name: count, dtype: int64"
            ]
          },
          "metadata": {},
          "execution_count": 15
        }
      ],
      "source": [
        "# распределение целевой\n",
        "print(\"\\nTarget Class Distribution:\")\n",
        "pd.Series(y).value_counts()\n"
      ]
    },
    {
      "cell_type": "code",
      "execution_count": 16,
      "metadata": {
        "id": "YadA-04fnHPP",
        "colab": {
          "base_uri": "https://localhost:8080/",
          "height": 396
        },
        "outputId": "608fa0a0-fee2-4291-d04d-b74414219932"
      },
      "outputs": [
        {
          "output_type": "display_data",
          "data": {
            "text/plain": [
              "<Figure size 600x400 with 1 Axes>"
            ],
            "image/svg+xml": "<?xml version=\"1.0\" encoding=\"utf-8\" standalone=\"no\"?>\n<!DOCTYPE svg PUBLIC \"-//W3C//DTD SVG 1.1//EN\"\n  \"http://www.w3.org/Graphics/SVG/1.1/DTD/svg11.dtd\">\n<svg xmlns:xlink=\"http://www.w3.org/1999/xlink\" width=\"388.965625pt\" height=\"281.634375pt\" viewBox=\"0 0 388.965625 281.634375\" xmlns=\"http://www.w3.org/2000/svg\" version=\"1.1\">\n <metadata>\n  <rdf:RDF xmlns:dc=\"http://purl.org/dc/elements/1.1/\" xmlns:cc=\"http://creativecommons.org/ns#\" xmlns:rdf=\"http://www.w3.org/1999/02/22-rdf-syntax-ns#\">\n   <cc:Work>\n    <dc:type rdf:resource=\"http://purl.org/dc/dcmitype/StillImage\"/>\n    <dc:date>2024-07-05T15:51:58.300896</dc:date>\n    <dc:format>image/svg+xml</dc:format>\n    <dc:creator>\n     <cc:Agent>\n      <dc:title>Matplotlib v3.7.1, https://matplotlib.org/</dc:title>\n     </cc:Agent>\n    </dc:creator>\n   </cc:Work>\n  </rdf:RDF>\n </metadata>\n <defs>\n  <style type=\"text/css\">*{stroke-linejoin: round; stroke-linecap: butt}</style>\n </defs>\n <g id=\"figure_1\">\n  <g id=\"patch_1\">\n   <path d=\"M 0 281.634375 \nL 388.965625 281.634375 \nL 388.965625 0 \nL 0 0 \nz\n\" style=\"fill: #ffffff\"/>\n  </g>\n  <g id=\"axes_1\">\n   <g id=\"patch_2\">\n    <path d=\"M 46.965625 244.078125 \nL 381.765625 244.078125 \nL 381.765625 22.318125 \nL 46.965625 22.318125 \nz\n\" style=\"fill: #ffffff\"/>\n   </g>\n   <g id=\"patch_3\">\n    <path d=\"M 63.705625 244.078125 \nL 197.625625 244.078125 \nL 197.625625 32.878125 \nL 63.705625 32.878125 \nz\n\" clip-path=\"url(#p26852c9fdf)\" style=\"fill: #3274a1\"/>\n   </g>\n   <g id=\"patch_4\">\n    <path d=\"M 231.105625 244.078125 \nL 365.025625 244.078125 \nL 365.025625 75.118125 \nL 231.105625 75.118125 \nz\n\" clip-path=\"url(#p26852c9fdf)\" style=\"fill: #3274a1\"/>\n   </g>\n   <g id=\"matplotlib.axis_1\">\n    <g id=\"xtick_1\">\n     <g id=\"line2d_1\">\n      <defs>\n       <path id=\"m6e3a69f3a4\" d=\"M 0 0 \nL 0 3.5 \n\" style=\"stroke: #000000; stroke-width: 0.8\"/>\n      </defs>\n      <g>\n       <use xlink:href=\"#m6e3a69f3a4\" x=\"130.665625\" y=\"244.078125\" style=\"stroke: #000000; stroke-width: 0.8\"/>\n      </g>\n     </g>\n     <g id=\"text_1\">\n      <!-- 0 -->\n      <g transform=\"translate(127.484375 258.676562) scale(0.1 -0.1)\">\n       <defs>\n        <path id=\"DejaVuSans-30\" d=\"M 2034 4250 \nQ 1547 4250 1301 3770 \nQ 1056 3291 1056 2328 \nQ 1056 1369 1301 889 \nQ 1547 409 2034 409 \nQ 2525 409 2770 889 \nQ 3016 1369 3016 2328 \nQ 3016 3291 2770 3770 \nQ 2525 4250 2034 4250 \nz\nM 2034 4750 \nQ 2819 4750 3233 4129 \nQ 3647 3509 3647 2328 \nQ 3647 1150 3233 529 \nQ 2819 -91 2034 -91 \nQ 1250 -91 836 529 \nQ 422 1150 422 2328 \nQ 422 3509 836 4129 \nQ 1250 4750 2034 4750 \nz\n\" transform=\"scale(0.015625)\"/>\n       </defs>\n       <use xlink:href=\"#DejaVuSans-30\"/>\n      </g>\n     </g>\n    </g>\n    <g id=\"xtick_2\">\n     <g id=\"line2d_2\">\n      <g>\n       <use xlink:href=\"#m6e3a69f3a4\" x=\"298.065625\" y=\"244.078125\" style=\"stroke: #000000; stroke-width: 0.8\"/>\n      </g>\n     </g>\n     <g id=\"text_2\">\n      <!-- 1 -->\n      <g transform=\"translate(294.884375 258.676562) scale(0.1 -0.1)\">\n       <defs>\n        <path id=\"DejaVuSans-31\" d=\"M 794 531 \nL 1825 531 \nL 1825 4091 \nL 703 3866 \nL 703 4441 \nL 1819 4666 \nL 2450 4666 \nL 2450 531 \nL 3481 531 \nL 3481 0 \nL 794 0 \nL 794 531 \nz\n\" transform=\"scale(0.015625)\"/>\n       </defs>\n       <use xlink:href=\"#DejaVuSans-31\"/>\n      </g>\n     </g>\n    </g>\n    <g id=\"text_3\">\n     <!-- Target Class -->\n     <g transform=\"translate(184.150781 272.354687) scale(0.1 -0.1)\">\n      <defs>\n       <path id=\"DejaVuSans-54\" d=\"M -19 4666 \nL 3928 4666 \nL 3928 4134 \nL 2272 4134 \nL 2272 0 \nL 1638 0 \nL 1638 4134 \nL -19 4134 \nL -19 4666 \nz\n\" transform=\"scale(0.015625)\"/>\n       <path id=\"DejaVuSans-61\" d=\"M 2194 1759 \nQ 1497 1759 1228 1600 \nQ 959 1441 959 1056 \nQ 959 750 1161 570 \nQ 1363 391 1709 391 \nQ 2188 391 2477 730 \nQ 2766 1069 2766 1631 \nL 2766 1759 \nL 2194 1759 \nz\nM 3341 1997 \nL 3341 0 \nL 2766 0 \nL 2766 531 \nQ 2569 213 2275 61 \nQ 1981 -91 1556 -91 \nQ 1019 -91 701 211 \nQ 384 513 384 1019 \nQ 384 1609 779 1909 \nQ 1175 2209 1959 2209 \nL 2766 2209 \nL 2766 2266 \nQ 2766 2663 2505 2880 \nQ 2244 3097 1772 3097 \nQ 1472 3097 1187 3025 \nQ 903 2953 641 2809 \nL 641 3341 \nQ 956 3463 1253 3523 \nQ 1550 3584 1831 3584 \nQ 2591 3584 2966 3190 \nQ 3341 2797 3341 1997 \nz\n\" transform=\"scale(0.015625)\"/>\n       <path id=\"DejaVuSans-72\" d=\"M 2631 2963 \nQ 2534 3019 2420 3045 \nQ 2306 3072 2169 3072 \nQ 1681 3072 1420 2755 \nQ 1159 2438 1159 1844 \nL 1159 0 \nL 581 0 \nL 581 3500 \nL 1159 3500 \nL 1159 2956 \nQ 1341 3275 1631 3429 \nQ 1922 3584 2338 3584 \nQ 2397 3584 2469 3576 \nQ 2541 3569 2628 3553 \nL 2631 2963 \nz\n\" transform=\"scale(0.015625)\"/>\n       <path id=\"DejaVuSans-67\" d=\"M 2906 1791 \nQ 2906 2416 2648 2759 \nQ 2391 3103 1925 3103 \nQ 1463 3103 1205 2759 \nQ 947 2416 947 1791 \nQ 947 1169 1205 825 \nQ 1463 481 1925 481 \nQ 2391 481 2648 825 \nQ 2906 1169 2906 1791 \nz\nM 3481 434 \nQ 3481 -459 3084 -895 \nQ 2688 -1331 1869 -1331 \nQ 1566 -1331 1297 -1286 \nQ 1028 -1241 775 -1147 \nL 775 -588 \nQ 1028 -725 1275 -790 \nQ 1522 -856 1778 -856 \nQ 2344 -856 2625 -561 \nQ 2906 -266 2906 331 \nL 2906 616 \nQ 2728 306 2450 153 \nQ 2172 0 1784 0 \nQ 1141 0 747 490 \nQ 353 981 353 1791 \nQ 353 2603 747 3093 \nQ 1141 3584 1784 3584 \nQ 2172 3584 2450 3431 \nQ 2728 3278 2906 2969 \nL 2906 3500 \nL 3481 3500 \nL 3481 434 \nz\n\" transform=\"scale(0.015625)\"/>\n       <path id=\"DejaVuSans-65\" d=\"M 3597 1894 \nL 3597 1613 \nL 953 1613 \nQ 991 1019 1311 708 \nQ 1631 397 2203 397 \nQ 2534 397 2845 478 \nQ 3156 559 3463 722 \nL 3463 178 \nQ 3153 47 2828 -22 \nQ 2503 -91 2169 -91 \nQ 1331 -91 842 396 \nQ 353 884 353 1716 \nQ 353 2575 817 3079 \nQ 1281 3584 2069 3584 \nQ 2775 3584 3186 3129 \nQ 3597 2675 3597 1894 \nz\nM 3022 2063 \nQ 3016 2534 2758 2815 \nQ 2500 3097 2075 3097 \nQ 1594 3097 1305 2825 \nQ 1016 2553 972 2059 \nL 3022 2063 \nz\n\" transform=\"scale(0.015625)\"/>\n       <path id=\"DejaVuSans-74\" d=\"M 1172 4494 \nL 1172 3500 \nL 2356 3500 \nL 2356 3053 \nL 1172 3053 \nL 1172 1153 \nQ 1172 725 1289 603 \nQ 1406 481 1766 481 \nL 2356 481 \nL 2356 0 \nL 1766 0 \nQ 1100 0 847 248 \nQ 594 497 594 1153 \nL 594 3053 \nL 172 3053 \nL 172 3500 \nL 594 3500 \nL 594 4494 \nL 1172 4494 \nz\n\" transform=\"scale(0.015625)\"/>\n       <path id=\"DejaVuSans-20\" transform=\"scale(0.015625)\"/>\n       <path id=\"DejaVuSans-43\" d=\"M 4122 4306 \nL 4122 3641 \nQ 3803 3938 3442 4084 \nQ 3081 4231 2675 4231 \nQ 1875 4231 1450 3742 \nQ 1025 3253 1025 2328 \nQ 1025 1406 1450 917 \nQ 1875 428 2675 428 \nQ 3081 428 3442 575 \nQ 3803 722 4122 1019 \nL 4122 359 \nQ 3791 134 3420 21 \nQ 3050 -91 2638 -91 \nQ 1578 -91 968 557 \nQ 359 1206 359 2328 \nQ 359 3453 968 4101 \nQ 1578 4750 2638 4750 \nQ 3056 4750 3426 4639 \nQ 3797 4528 4122 4306 \nz\n\" transform=\"scale(0.015625)\"/>\n       <path id=\"DejaVuSans-6c\" d=\"M 603 4863 \nL 1178 4863 \nL 1178 0 \nL 603 0 \nL 603 4863 \nz\n\" transform=\"scale(0.015625)\"/>\n       <path id=\"DejaVuSans-73\" d=\"M 2834 3397 \nL 2834 2853 \nQ 2591 2978 2328 3040 \nQ 2066 3103 1784 3103 \nQ 1356 3103 1142 2972 \nQ 928 2841 928 2578 \nQ 928 2378 1081 2264 \nQ 1234 2150 1697 2047 \nL 1894 2003 \nQ 2506 1872 2764 1633 \nQ 3022 1394 3022 966 \nQ 3022 478 2636 193 \nQ 2250 -91 1575 -91 \nQ 1294 -91 989 -36 \nQ 684 19 347 128 \nL 347 722 \nQ 666 556 975 473 \nQ 1284 391 1588 391 \nQ 1994 391 2212 530 \nQ 2431 669 2431 922 \nQ 2431 1156 2273 1281 \nQ 2116 1406 1581 1522 \nL 1381 1569 \nQ 847 1681 609 1914 \nQ 372 2147 372 2553 \nQ 372 3047 722 3315 \nQ 1072 3584 1716 3584 \nQ 2034 3584 2315 3537 \nQ 2597 3491 2834 3397 \nz\n\" transform=\"scale(0.015625)\"/>\n      </defs>\n      <use xlink:href=\"#DejaVuSans-54\"/>\n      <use xlink:href=\"#DejaVuSans-61\" x=\"44.583984\"/>\n      <use xlink:href=\"#DejaVuSans-72\" x=\"105.863281\"/>\n      <use xlink:href=\"#DejaVuSans-67\" x=\"145.226562\"/>\n      <use xlink:href=\"#DejaVuSans-65\" x=\"208.703125\"/>\n      <use xlink:href=\"#DejaVuSans-74\" x=\"270.226562\"/>\n      <use xlink:href=\"#DejaVuSans-20\" x=\"309.435547\"/>\n      <use xlink:href=\"#DejaVuSans-43\" x=\"341.222656\"/>\n      <use xlink:href=\"#DejaVuSans-6c\" x=\"411.046875\"/>\n      <use xlink:href=\"#DejaVuSans-61\" x=\"438.830078\"/>\n      <use xlink:href=\"#DejaVuSans-73\" x=\"500.109375\"/>\n      <use xlink:href=\"#DejaVuSans-73\" x=\"552.208984\"/>\n     </g>\n    </g>\n   </g>\n   <g id=\"matplotlib.axis_2\">\n    <g id=\"ytick_1\">\n     <g id=\"line2d_3\">\n      <defs>\n       <path id=\"m2cc72ad52c\" d=\"M 0 0 \nL -3.5 0 \n\" style=\"stroke: #000000; stroke-width: 0.8\"/>\n      </defs>\n      <g>\n       <use xlink:href=\"#m2cc72ad52c\" x=\"46.965625\" y=\"244.078125\" style=\"stroke: #000000; stroke-width: 0.8\"/>\n      </g>\n     </g>\n     <g id=\"text_4\">\n      <!-- 0 -->\n      <g transform=\"translate(33.603125 247.877344) scale(0.1 -0.1)\">\n       <use xlink:href=\"#DejaVuSans-30\"/>\n      </g>\n     </g>\n    </g>\n    <g id=\"ytick_2\">\n     <g id=\"line2d_4\">\n      <g>\n       <use xlink:href=\"#m2cc72ad52c\" x=\"46.965625\" y=\"198.165082\" style=\"stroke: #000000; stroke-width: 0.8\"/>\n      </g>\n     </g>\n     <g id=\"text_5\">\n      <!-- 50 -->\n      <g transform=\"translate(27.240625 201.9643) scale(0.1 -0.1)\">\n       <defs>\n        <path id=\"DejaVuSans-35\" d=\"M 691 4666 \nL 3169 4666 \nL 3169 4134 \nL 1269 4134 \nL 1269 2991 \nQ 1406 3038 1543 3061 \nQ 1681 3084 1819 3084 \nQ 2600 3084 3056 2656 \nQ 3513 2228 3513 1497 \nQ 3513 744 3044 326 \nQ 2575 -91 1722 -91 \nQ 1428 -91 1123 -41 \nQ 819 9 494 109 \nL 494 744 \nQ 775 591 1075 516 \nQ 1375 441 1709 441 \nQ 2250 441 2565 725 \nQ 2881 1009 2881 1497 \nQ 2881 1984 2565 2268 \nQ 2250 2553 1709 2553 \nQ 1456 2553 1204 2497 \nQ 953 2441 691 2322 \nL 691 4666 \nz\n\" transform=\"scale(0.015625)\"/>\n       </defs>\n       <use xlink:href=\"#DejaVuSans-35\"/>\n       <use xlink:href=\"#DejaVuSans-30\" x=\"63.623047\"/>\n      </g>\n     </g>\n    </g>\n    <g id=\"ytick_3\">\n     <g id=\"line2d_5\">\n      <g>\n       <use xlink:href=\"#m2cc72ad52c\" x=\"46.965625\" y=\"152.252038\" style=\"stroke: #000000; stroke-width: 0.8\"/>\n      </g>\n     </g>\n     <g id=\"text_6\">\n      <!-- 100 -->\n      <g transform=\"translate(20.878125 156.051257) scale(0.1 -0.1)\">\n       <use xlink:href=\"#DejaVuSans-31\"/>\n       <use xlink:href=\"#DejaVuSans-30\" x=\"63.623047\"/>\n       <use xlink:href=\"#DejaVuSans-30\" x=\"127.246094\"/>\n      </g>\n     </g>\n    </g>\n    <g id=\"ytick_4\">\n     <g id=\"line2d_6\">\n      <g>\n       <use xlink:href=\"#m2cc72ad52c\" x=\"46.965625\" y=\"106.338995\" style=\"stroke: #000000; stroke-width: 0.8\"/>\n      </g>\n     </g>\n     <g id=\"text_7\">\n      <!-- 150 -->\n      <g transform=\"translate(20.878125 110.138213) scale(0.1 -0.1)\">\n       <use xlink:href=\"#DejaVuSans-31\"/>\n       <use xlink:href=\"#DejaVuSans-35\" x=\"63.623047\"/>\n       <use xlink:href=\"#DejaVuSans-30\" x=\"127.246094\"/>\n      </g>\n     </g>\n    </g>\n    <g id=\"ytick_5\">\n     <g id=\"line2d_7\">\n      <g>\n       <use xlink:href=\"#m2cc72ad52c\" x=\"46.965625\" y=\"60.425951\" style=\"stroke: #000000; stroke-width: 0.8\"/>\n      </g>\n     </g>\n     <g id=\"text_8\">\n      <!-- 200 -->\n      <g transform=\"translate(20.878125 64.22517) scale(0.1 -0.1)\">\n       <defs>\n        <path id=\"DejaVuSans-32\" d=\"M 1228 531 \nL 3431 531 \nL 3431 0 \nL 469 0 \nL 469 531 \nQ 828 903 1448 1529 \nQ 2069 2156 2228 2338 \nQ 2531 2678 2651 2914 \nQ 2772 3150 2772 3378 \nQ 2772 3750 2511 3984 \nQ 2250 4219 1831 4219 \nQ 1534 4219 1204 4116 \nQ 875 4013 500 3803 \nL 500 4441 \nQ 881 4594 1212 4672 \nQ 1544 4750 1819 4750 \nQ 2544 4750 2975 4387 \nQ 3406 4025 3406 3419 \nQ 3406 3131 3298 2873 \nQ 3191 2616 2906 2266 \nQ 2828 2175 2409 1742 \nQ 1991 1309 1228 531 \nz\n\" transform=\"scale(0.015625)\"/>\n       </defs>\n       <use xlink:href=\"#DejaVuSans-32\"/>\n       <use xlink:href=\"#DejaVuSans-30\" x=\"63.623047\"/>\n       <use xlink:href=\"#DejaVuSans-30\" x=\"127.246094\"/>\n      </g>\n     </g>\n    </g>\n    <g id=\"text_9\">\n     <!-- Count -->\n     <g transform=\"translate(14.798438 148.046562) rotate(-90) scale(0.1 -0.1)\">\n      <defs>\n       <path id=\"DejaVuSans-6f\" d=\"M 1959 3097 \nQ 1497 3097 1228 2736 \nQ 959 2375 959 1747 \nQ 959 1119 1226 758 \nQ 1494 397 1959 397 \nQ 2419 397 2687 759 \nQ 2956 1122 2956 1747 \nQ 2956 2369 2687 2733 \nQ 2419 3097 1959 3097 \nz\nM 1959 3584 \nQ 2709 3584 3137 3096 \nQ 3566 2609 3566 1747 \nQ 3566 888 3137 398 \nQ 2709 -91 1959 -91 \nQ 1206 -91 779 398 \nQ 353 888 353 1747 \nQ 353 2609 779 3096 \nQ 1206 3584 1959 3584 \nz\n\" transform=\"scale(0.015625)\"/>\n       <path id=\"DejaVuSans-75\" d=\"M 544 1381 \nL 544 3500 \nL 1119 3500 \nL 1119 1403 \nQ 1119 906 1312 657 \nQ 1506 409 1894 409 \nQ 2359 409 2629 706 \nQ 2900 1003 2900 1516 \nL 2900 3500 \nL 3475 3500 \nL 3475 0 \nL 2900 0 \nL 2900 538 \nQ 2691 219 2414 64 \nQ 2138 -91 1772 -91 \nQ 1169 -91 856 284 \nQ 544 659 544 1381 \nz\nM 1991 3584 \nL 1991 3584 \nz\n\" transform=\"scale(0.015625)\"/>\n       <path id=\"DejaVuSans-6e\" d=\"M 3513 2113 \nL 3513 0 \nL 2938 0 \nL 2938 2094 \nQ 2938 2591 2744 2837 \nQ 2550 3084 2163 3084 \nQ 1697 3084 1428 2787 \nQ 1159 2491 1159 1978 \nL 1159 0 \nL 581 0 \nL 581 3500 \nL 1159 3500 \nL 1159 2956 \nQ 1366 3272 1645 3428 \nQ 1925 3584 2291 3584 \nQ 2894 3584 3203 3211 \nQ 3513 2838 3513 2113 \nz\n\" transform=\"scale(0.015625)\"/>\n      </defs>\n      <use xlink:href=\"#DejaVuSans-43\"/>\n      <use xlink:href=\"#DejaVuSans-6f\" x=\"69.824219\"/>\n      <use xlink:href=\"#DejaVuSans-75\" x=\"131.005859\"/>\n      <use xlink:href=\"#DejaVuSans-6e\" x=\"194.384766\"/>\n      <use xlink:href=\"#DejaVuSans-74\" x=\"257.763672\"/>\n     </g>\n    </g>\n   </g>\n   <g id=\"patch_5\">\n    <path d=\"M 46.965625 244.078125 \nL 46.965625 22.318125 \n\" style=\"fill: none; stroke: #000000; stroke-width: 0.8; stroke-linejoin: miter; stroke-linecap: square\"/>\n   </g>\n   <g id=\"patch_6\">\n    <path d=\"M 381.765625 244.078125 \nL 381.765625 22.318125 \n\" style=\"fill: none; stroke: #000000; stroke-width: 0.8; stroke-linejoin: miter; stroke-linecap: square\"/>\n   </g>\n   <g id=\"patch_7\">\n    <path d=\"M 46.965625 244.078125 \nL 381.765625 244.078125 \n\" style=\"fill: none; stroke: #000000; stroke-width: 0.8; stroke-linejoin: miter; stroke-linecap: square\"/>\n   </g>\n   <g id=\"patch_8\">\n    <path d=\"M 46.965625 22.318125 \nL 381.765625 22.318125 \n\" style=\"fill: none; stroke: #000000; stroke-width: 0.8; stroke-linejoin: miter; stroke-linecap: square\"/>\n   </g>\n   <g id=\"text_10\">\n    <!-- Target Class Distribution -->\n    <g transform=\"translate(141.198438 16.318125) scale(0.12 -0.12)\">\n     <defs>\n      <path id=\"DejaVuSans-44\" d=\"M 1259 4147 \nL 1259 519 \nL 2022 519 \nQ 2988 519 3436 956 \nQ 3884 1394 3884 2338 \nQ 3884 3275 3436 3711 \nQ 2988 4147 2022 4147 \nL 1259 4147 \nz\nM 628 4666 \nL 1925 4666 \nQ 3281 4666 3915 4102 \nQ 4550 3538 4550 2338 \nQ 4550 1131 3912 565 \nQ 3275 0 1925 0 \nL 628 0 \nL 628 4666 \nz\n\" transform=\"scale(0.015625)\"/>\n      <path id=\"DejaVuSans-69\" d=\"M 603 3500 \nL 1178 3500 \nL 1178 0 \nL 603 0 \nL 603 3500 \nz\nM 603 4863 \nL 1178 4863 \nL 1178 4134 \nL 603 4134 \nL 603 4863 \nz\n\" transform=\"scale(0.015625)\"/>\n      <path id=\"DejaVuSans-62\" d=\"M 3116 1747 \nQ 3116 2381 2855 2742 \nQ 2594 3103 2138 3103 \nQ 1681 3103 1420 2742 \nQ 1159 2381 1159 1747 \nQ 1159 1113 1420 752 \nQ 1681 391 2138 391 \nQ 2594 391 2855 752 \nQ 3116 1113 3116 1747 \nz\nM 1159 2969 \nQ 1341 3281 1617 3432 \nQ 1894 3584 2278 3584 \nQ 2916 3584 3314 3078 \nQ 3713 2572 3713 1747 \nQ 3713 922 3314 415 \nQ 2916 -91 2278 -91 \nQ 1894 -91 1617 61 \nQ 1341 213 1159 525 \nL 1159 0 \nL 581 0 \nL 581 4863 \nL 1159 4863 \nL 1159 2969 \nz\n\" transform=\"scale(0.015625)\"/>\n     </defs>\n     <use xlink:href=\"#DejaVuSans-54\"/>\n     <use xlink:href=\"#DejaVuSans-61\" x=\"44.583984\"/>\n     <use xlink:href=\"#DejaVuSans-72\" x=\"105.863281\"/>\n     <use xlink:href=\"#DejaVuSans-67\" x=\"145.226562\"/>\n     <use xlink:href=\"#DejaVuSans-65\" x=\"208.703125\"/>\n     <use xlink:href=\"#DejaVuSans-74\" x=\"270.226562\"/>\n     <use xlink:href=\"#DejaVuSans-20\" x=\"309.435547\"/>\n     <use xlink:href=\"#DejaVuSans-43\" x=\"341.222656\"/>\n     <use xlink:href=\"#DejaVuSans-6c\" x=\"411.046875\"/>\n     <use xlink:href=\"#DejaVuSans-61\" x=\"438.830078\"/>\n     <use xlink:href=\"#DejaVuSans-73\" x=\"500.109375\"/>\n     <use xlink:href=\"#DejaVuSans-73\" x=\"552.208984\"/>\n     <use xlink:href=\"#DejaVuSans-20\" x=\"604.308594\"/>\n     <use xlink:href=\"#DejaVuSans-44\" x=\"636.095703\"/>\n     <use xlink:href=\"#DejaVuSans-69\" x=\"713.097656\"/>\n     <use xlink:href=\"#DejaVuSans-73\" x=\"740.880859\"/>\n     <use xlink:href=\"#DejaVuSans-74\" x=\"792.980469\"/>\n     <use xlink:href=\"#DejaVuSans-72\" x=\"832.189453\"/>\n     <use xlink:href=\"#DejaVuSans-69\" x=\"873.302734\"/>\n     <use xlink:href=\"#DejaVuSans-62\" x=\"901.085938\"/>\n     <use xlink:href=\"#DejaVuSans-75\" x=\"964.5625\"/>\n     <use xlink:href=\"#DejaVuSans-74\" x=\"1027.941406\"/>\n     <use xlink:href=\"#DejaVuSans-69\" x=\"1067.150391\"/>\n     <use xlink:href=\"#DejaVuSans-6f\" x=\"1094.933594\"/>\n     <use xlink:href=\"#DejaVuSans-6e\" x=\"1156.115234\"/>\n    </g>\n   </g>\n  </g>\n </g>\n <defs>\n  <clipPath id=\"p26852c9fdf\">\n   <rect x=\"46.965625\" y=\"22.318125\" width=\"334.8\" height=\"221.76\"/>\n  </clipPath>\n </defs>\n</svg>\n"
          },
          "metadata": {}
        }
      ],
      "source": [
        "# Bar plot for target class distribution\n",
        "plt.figure(figsize=(6, 4))\n",
        "sns.countplot(x=pd.Series(y))\n",
        "plt.xlabel('Target Class')\n",
        "plt.ylabel('Count')\n",
        "plt.title('Target Class Distribution')\n",
        "plt.show()"
      ]
    },
    {
      "cell_type": "code",
      "execution_count": 17,
      "metadata": {
        "id": "gw8eYzOzmouR"
      },
      "outputs": [],
      "source": [
        "# Проанализируем взаимосвязи между переменными\n",
        "# sns.pairplot(X)\n",
        "# plt.show()"
      ]
    },
    {
      "cell_type": "code",
      "execution_count": 18,
      "metadata": {
        "id": "Ayw948DSncBy",
        "colab": {
          "base_uri": "https://localhost:8080/",
          "height": 526
        },
        "outputId": "f86c84ad-6a70-42d7-9cb9-71f09fc422b0"
      },
      "outputs": [
        {
          "output_type": "display_data",
          "data": {
            "text/plain": [
              "<Figure size 800x600 with 2 Axes>"
            ],
            "image/svg+xml": "<?xml version=\"1.0\" encoding=\"utf-8\" standalone=\"no\"?>\n<!DOCTYPE svg PUBLIC \"-//W3C//DTD SVG 1.1//EN\"\n  \"http://www.w3.org/Graphics/SVG/1.1/DTD/svg11.dtd\">\n<svg xmlns:xlink=\"http://www.w3.org/1999/xlink\" width=\"458.432938pt\" height=\"378.83625pt\" viewBox=\"0 0 458.432938 378.83625\" xmlns=\"http://www.w3.org/2000/svg\" version=\"1.1\">\n <metadata>\n  <rdf:RDF xmlns:dc=\"http://purl.org/dc/elements/1.1/\" xmlns:cc=\"http://creativecommons.org/ns#\" xmlns:rdf=\"http://www.w3.org/1999/02/22-rdf-syntax-ns#\">\n   <cc:Work>\n    <dc:type rdf:resource=\"http://purl.org/dc/dcmitype/StillImage\"/>\n    <dc:date>2024-07-05T15:52:00.643574</dc:date>\n    <dc:format>image/svg+xml</dc:format>\n    <dc:creator>\n     <cc:Agent>\n      <dc:title>Matplotlib v3.7.1, https://matplotlib.org/</dc:title>\n     </cc:Agent>\n    </dc:creator>\n   </cc:Work>\n  </rdf:RDF>\n </metadata>\n <defs>\n  <style type=\"text/css\">*{stroke-linejoin: round; stroke-linecap: butt}</style>\n </defs>\n <g id=\"figure_1\">\n  <g id=\"patch_1\">\n   <path d=\"M 0 378.83625 \nL 458.432938 378.83625 \nL 458.432938 0 \nL 0 0 \nz\n\" style=\"fill: #ffffff\"/>\n  </g>\n  <g id=\"axes_1\">\n   <g id=\"patch_2\">\n    <path d=\"M 23.878125 354.958125 \nL 380.998125 354.958125 \nL 380.998125 22.318125 \nL 23.878125 22.318125 \nz\n\" style=\"fill: #ffffff\"/>\n   </g>\n   <g id=\"QuadMesh_1\">\n    <path d=\"M 23.878125 22.318125 \nL 83.398125 22.318125 \nL 83.398125 77.758125 \nL 23.878125 77.758125 \nL 23.878125 22.318125 \n\" clip-path=\"url(#p7595017811)\" style=\"fill: #b40426; stroke: #ffffff; stroke-width: 0.5\"/>\n    <path d=\"M 83.398125 22.318125 \nL 142.918125 22.318125 \nL 142.918125 77.758125 \nL 83.398125 77.758125 \nL 83.398125 22.318125 \n\" clip-path=\"url(#p7595017811)\" style=\"fill: #3e51c5; stroke: #ffffff; stroke-width: 0.5\"/>\n    <path d=\"M 142.918125 22.318125 \nL 202.438125 22.318125 \nL 202.438125 77.758125 \nL 142.918125 77.758125 \nL 142.918125 22.318125 \n\" clip-path=\"url(#p7595017811)\" style=\"fill: #f39475; stroke: #ffffff; stroke-width: 0.5\"/>\n    <path d=\"M 202.438125 22.318125 \nL 261.958125 22.318125 \nL 261.958125 77.758125 \nL 202.438125 77.758125 \nL 202.438125 22.318125 \n\" clip-path=\"url(#p7595017811)\" style=\"fill: #f1ccb8; stroke: #ffffff; stroke-width: 0.5\"/>\n    <path d=\"M 261.958125 22.318125 \nL 321.478125 22.318125 \nL 321.478125 77.758125 \nL 261.958125 77.758125 \nL 261.958125 22.318125 \n\" clip-path=\"url(#p7595017811)\" style=\"fill: #f6a586; stroke: #ffffff; stroke-width: 0.5\"/>\n    <path d=\"M 321.478125 22.318125 \nL 380.998125 22.318125 \nL 380.998125 77.758125 \nL 321.478125 77.758125 \nL 321.478125 22.318125 \n\" clip-path=\"url(#p7595017811)\" style=\"fill: #f3c7b1; stroke: #ffffff; stroke-width: 0.5\"/>\n    <path d=\"M 23.878125 77.758125 \nL 83.398125 77.758125 \nL 83.398125 133.198125 \nL 23.878125 133.198125 \nL 23.878125 77.758125 \n\" clip-path=\"url(#p7595017811)\" style=\"fill: #3e51c5; stroke: #ffffff; stroke-width: 0.5\"/>\n    <path d=\"M 83.398125 77.758125 \nL 142.918125 77.758125 \nL 142.918125 133.198125 \nL 83.398125 133.198125 \nL 83.398125 77.758125 \n\" clip-path=\"url(#p7595017811)\" style=\"fill: #b40426; stroke: #ffffff; stroke-width: 0.5\"/>\n    <path d=\"M 142.918125 77.758125 \nL 202.438125 77.758125 \nL 202.438125 133.198125 \nL 142.918125 133.198125 \nL 142.918125 77.758125 \n\" clip-path=\"url(#p7595017811)\" style=\"fill: #3b4cc0; stroke: #ffffff; stroke-width: 0.5\"/>\n    <path d=\"M 202.438125 77.758125 \nL 261.958125 77.758125 \nL 261.958125 133.198125 \nL 202.438125 133.198125 \nL 202.438125 77.758125 \n\" clip-path=\"url(#p7595017811)\" style=\"fill: #5673e0; stroke: #ffffff; stroke-width: 0.5\"/>\n    <path d=\"M 261.958125 77.758125 \nL 321.478125 77.758125 \nL 321.478125 133.198125 \nL 261.958125 133.198125 \nL 261.958125 77.758125 \n\" clip-path=\"url(#p7595017811)\" style=\"fill: #4055c8; stroke: #ffffff; stroke-width: 0.5\"/>\n    <path d=\"M 321.478125 77.758125 \nL 380.998125 77.758125 \nL 380.998125 133.198125 \nL 321.478125 133.198125 \nL 321.478125 77.758125 \n\" clip-path=\"url(#p7595017811)\" style=\"fill: #506bda; stroke: #ffffff; stroke-width: 0.5\"/>\n    <path d=\"M 23.878125 133.198125 \nL 83.398125 133.198125 \nL 83.398125 188.638125 \nL 23.878125 188.638125 \nL 23.878125 133.198125 \n\" clip-path=\"url(#p7595017811)\" style=\"fill: #f39475; stroke: #ffffff; stroke-width: 0.5\"/>\n    <path d=\"M 83.398125 133.198125 \nL 142.918125 133.198125 \nL 142.918125 188.638125 \nL 83.398125 188.638125 \nL 83.398125 133.198125 \n\" clip-path=\"url(#p7595017811)\" style=\"fill: #3b4cc0; stroke: #ffffff; stroke-width: 0.5\"/>\n    <path d=\"M 142.918125 133.198125 \nL 202.438125 133.198125 \nL 202.438125 188.638125 \nL 142.918125 188.638125 \nL 142.918125 133.198125 \n\" clip-path=\"url(#p7595017811)\" style=\"fill: #b40426; stroke: #ffffff; stroke-width: 0.5\"/>\n    <path d=\"M 202.438125 133.198125 \nL 261.958125 133.198125 \nL 261.958125 188.638125 \nL 202.438125 188.638125 \nL 202.438125 133.198125 \n\" clip-path=\"url(#p7595017811)\" style=\"fill: #f18d6f; stroke: #ffffff; stroke-width: 0.5\"/>\n    <path d=\"M 261.958125 133.198125 \nL 321.478125 133.198125 \nL 321.478125 188.638125 \nL 261.958125 188.638125 \nL 261.958125 133.198125 \n\" clip-path=\"url(#p7595017811)\" style=\"fill: #e36b54; stroke: #ffffff; stroke-width: 0.5\"/>\n    <path d=\"M 321.478125 133.198125 \nL 380.998125 133.198125 \nL 380.998125 188.638125 \nL 321.478125 188.638125 \nL 321.478125 133.198125 \n\" clip-path=\"url(#p7595017811)\" style=\"fill: #f1ccb8; stroke: #ffffff; stroke-width: 0.5\"/>\n    <path d=\"M 23.878125 188.638125 \nL 83.398125 188.638125 \nL 83.398125 244.078125 \nL 23.878125 244.078125 \nL 23.878125 188.638125 \n\" clip-path=\"url(#p7595017811)\" style=\"fill: #f1ccb8; stroke: #ffffff; stroke-width: 0.5\"/>\n    <path d=\"M 83.398125 188.638125 \nL 142.918125 188.638125 \nL 142.918125 244.078125 \nL 83.398125 244.078125 \nL 83.398125 188.638125 \n\" clip-path=\"url(#p7595017811)\" style=\"fill: #5673e0; stroke: #ffffff; stroke-width: 0.5\"/>\n    <path d=\"M 142.918125 188.638125 \nL 202.438125 188.638125 \nL 202.438125 244.078125 \nL 142.918125 244.078125 \nL 142.918125 188.638125 \n\" clip-path=\"url(#p7595017811)\" style=\"fill: #f18d6f; stroke: #ffffff; stroke-width: 0.5\"/>\n    <path d=\"M 202.438125 188.638125 \nL 261.958125 188.638125 \nL 261.958125 244.078125 \nL 202.438125 244.078125 \nL 202.438125 188.638125 \n\" clip-path=\"url(#p7595017811)\" style=\"fill: #b40426; stroke: #ffffff; stroke-width: 0.5\"/>\n    <path d=\"M 261.958125 188.638125 \nL 321.478125 188.638125 \nL 321.478125 244.078125 \nL 261.958125 244.078125 \nL 261.958125 188.638125 \n\" clip-path=\"url(#p7595017811)\" style=\"fill: #f4c6af; stroke: #ffffff; stroke-width: 0.5\"/>\n    <path d=\"M 321.478125 188.638125 \nL 380.998125 188.638125 \nL 380.998125 244.078125 \nL 321.478125 244.078125 \nL 321.478125 188.638125 \n\" clip-path=\"url(#p7595017811)\" style=\"fill: #dadce0; stroke: #ffffff; stroke-width: 0.5\"/>\n    <path d=\"M 23.878125 244.078125 \nL 83.398125 244.078125 \nL 83.398125 299.518125 \nL 23.878125 299.518125 \nL 23.878125 244.078125 \n\" clip-path=\"url(#p7595017811)\" style=\"fill: #f6a586; stroke: #ffffff; stroke-width: 0.5\"/>\n    <path d=\"M 83.398125 244.078125 \nL 142.918125 244.078125 \nL 142.918125 299.518125 \nL 83.398125 299.518125 \nL 83.398125 244.078125 \n\" clip-path=\"url(#p7595017811)\" style=\"fill: #4055c8; stroke: #ffffff; stroke-width: 0.5\"/>\n    <path d=\"M 142.918125 244.078125 \nL 202.438125 244.078125 \nL 202.438125 299.518125 \nL 142.918125 299.518125 \nL 142.918125 244.078125 \n\" clip-path=\"url(#p7595017811)\" style=\"fill: #e36b54; stroke: #ffffff; stroke-width: 0.5\"/>\n    <path d=\"M 202.438125 244.078125 \nL 261.958125 244.078125 \nL 261.958125 299.518125 \nL 202.438125 299.518125 \nL 202.438125 244.078125 \n\" clip-path=\"url(#p7595017811)\" style=\"fill: #f4c6af; stroke: #ffffff; stroke-width: 0.5\"/>\n    <path d=\"M 261.958125 244.078125 \nL 321.478125 244.078125 \nL 321.478125 299.518125 \nL 261.958125 299.518125 \nL 261.958125 244.078125 \n\" clip-path=\"url(#p7595017811)\" style=\"fill: #b40426; stroke: #ffffff; stroke-width: 0.5\"/>\n    <path d=\"M 321.478125 244.078125 \nL 380.998125 244.078125 \nL 380.998125 299.518125 \nL 321.478125 299.518125 \nL 321.478125 244.078125 \n\" clip-path=\"url(#p7595017811)\" style=\"fill: #f3c8b2; stroke: #ffffff; stroke-width: 0.5\"/>\n    <path d=\"M 23.878125 299.518125 \nL 83.398125 299.518125 \nL 83.398125 354.958125 \nL 23.878125 354.958125 \nL 23.878125 299.518125 \n\" clip-path=\"url(#p7595017811)\" style=\"fill: #f3c7b1; stroke: #ffffff; stroke-width: 0.5\"/>\n    <path d=\"M 83.398125 299.518125 \nL 142.918125 299.518125 \nL 142.918125 354.958125 \nL 83.398125 354.958125 \nL 83.398125 299.518125 \n\" clip-path=\"url(#p7595017811)\" style=\"fill: #506bda; stroke: #ffffff; stroke-width: 0.5\"/>\n    <path d=\"M 142.918125 299.518125 \nL 202.438125 299.518125 \nL 202.438125 354.958125 \nL 142.918125 354.958125 \nL 142.918125 299.518125 \n\" clip-path=\"url(#p7595017811)\" style=\"fill: #f1ccb8; stroke: #ffffff; stroke-width: 0.5\"/>\n    <path d=\"M 202.438125 299.518125 \nL 261.958125 299.518125 \nL 261.958125 354.958125 \nL 202.438125 354.958125 \nL 202.438125 299.518125 \n\" clip-path=\"url(#p7595017811)\" style=\"fill: #dadce0; stroke: #ffffff; stroke-width: 0.5\"/>\n    <path d=\"M 261.958125 299.518125 \nL 321.478125 299.518125 \nL 321.478125 354.958125 \nL 261.958125 354.958125 \nL 261.958125 299.518125 \n\" clip-path=\"url(#p7595017811)\" style=\"fill: #f3c8b2; stroke: #ffffff; stroke-width: 0.5\"/>\n    <path d=\"M 321.478125 299.518125 \nL 380.998125 299.518125 \nL 380.998125 354.958125 \nL 321.478125 354.958125 \nL 321.478125 299.518125 \n\" clip-path=\"url(#p7595017811)\" style=\"fill: #b40426; stroke: #ffffff; stroke-width: 0.5\"/>\n   </g>\n   <g id=\"matplotlib.axis_1\">\n    <g id=\"xtick_1\">\n     <g id=\"line2d_1\">\n      <defs>\n       <path id=\"mc77d8cb5e2\" d=\"M 0 0 \nL 0 3.5 \n\" style=\"stroke: #000000; stroke-width: 0.8\"/>\n      </defs>\n      <g>\n       <use xlink:href=\"#mc77d8cb5e2\" x=\"53.638125\" y=\"354.958125\" style=\"stroke: #000000; stroke-width: 0.8\"/>\n      </g>\n     </g>\n     <g id=\"text_1\">\n      <!-- gravity -->\n      <g transform=\"translate(36.076406 369.556562) scale(0.1 -0.1)\">\n       <defs>\n        <path id=\"DejaVuSans-67\" d=\"M 2906 1791 \nQ 2906 2416 2648 2759 \nQ 2391 3103 1925 3103 \nQ 1463 3103 1205 2759 \nQ 947 2416 947 1791 \nQ 947 1169 1205 825 \nQ 1463 481 1925 481 \nQ 2391 481 2648 825 \nQ 2906 1169 2906 1791 \nz\nM 3481 434 \nQ 3481 -459 3084 -895 \nQ 2688 -1331 1869 -1331 \nQ 1566 -1331 1297 -1286 \nQ 1028 -1241 775 -1147 \nL 775 -588 \nQ 1028 -725 1275 -790 \nQ 1522 -856 1778 -856 \nQ 2344 -856 2625 -561 \nQ 2906 -266 2906 331 \nL 2906 616 \nQ 2728 306 2450 153 \nQ 2172 0 1784 0 \nQ 1141 0 747 490 \nQ 353 981 353 1791 \nQ 353 2603 747 3093 \nQ 1141 3584 1784 3584 \nQ 2172 3584 2450 3431 \nQ 2728 3278 2906 2969 \nL 2906 3500 \nL 3481 3500 \nL 3481 434 \nz\n\" transform=\"scale(0.015625)\"/>\n        <path id=\"DejaVuSans-72\" d=\"M 2631 2963 \nQ 2534 3019 2420 3045 \nQ 2306 3072 2169 3072 \nQ 1681 3072 1420 2755 \nQ 1159 2438 1159 1844 \nL 1159 0 \nL 581 0 \nL 581 3500 \nL 1159 3500 \nL 1159 2956 \nQ 1341 3275 1631 3429 \nQ 1922 3584 2338 3584 \nQ 2397 3584 2469 3576 \nQ 2541 3569 2628 3553 \nL 2631 2963 \nz\n\" transform=\"scale(0.015625)\"/>\n        <path id=\"DejaVuSans-61\" d=\"M 2194 1759 \nQ 1497 1759 1228 1600 \nQ 959 1441 959 1056 \nQ 959 750 1161 570 \nQ 1363 391 1709 391 \nQ 2188 391 2477 730 \nQ 2766 1069 2766 1631 \nL 2766 1759 \nL 2194 1759 \nz\nM 3341 1997 \nL 3341 0 \nL 2766 0 \nL 2766 531 \nQ 2569 213 2275 61 \nQ 1981 -91 1556 -91 \nQ 1019 -91 701 211 \nQ 384 513 384 1019 \nQ 384 1609 779 1909 \nQ 1175 2209 1959 2209 \nL 2766 2209 \nL 2766 2266 \nQ 2766 2663 2505 2880 \nQ 2244 3097 1772 3097 \nQ 1472 3097 1187 3025 \nQ 903 2953 641 2809 \nL 641 3341 \nQ 956 3463 1253 3523 \nQ 1550 3584 1831 3584 \nQ 2591 3584 2966 3190 \nQ 3341 2797 3341 1997 \nz\n\" transform=\"scale(0.015625)\"/>\n        <path id=\"DejaVuSans-76\" d=\"M 191 3500 \nL 800 3500 \nL 1894 563 \nL 2988 3500 \nL 3597 3500 \nL 2284 0 \nL 1503 0 \nL 191 3500 \nz\n\" transform=\"scale(0.015625)\"/>\n        <path id=\"DejaVuSans-69\" d=\"M 603 3500 \nL 1178 3500 \nL 1178 0 \nL 603 0 \nL 603 3500 \nz\nM 603 4863 \nL 1178 4863 \nL 1178 4134 \nL 603 4134 \nL 603 4863 \nz\n\" transform=\"scale(0.015625)\"/>\n        <path id=\"DejaVuSans-74\" d=\"M 1172 4494 \nL 1172 3500 \nL 2356 3500 \nL 2356 3053 \nL 1172 3053 \nL 1172 1153 \nQ 1172 725 1289 603 \nQ 1406 481 1766 481 \nL 2356 481 \nL 2356 0 \nL 1766 0 \nQ 1100 0 847 248 \nQ 594 497 594 1153 \nL 594 3053 \nL 172 3053 \nL 172 3500 \nL 594 3500 \nL 594 4494 \nL 1172 4494 \nz\n\" transform=\"scale(0.015625)\"/>\n        <path id=\"DejaVuSans-79\" d=\"M 2059 -325 \nQ 1816 -950 1584 -1140 \nQ 1353 -1331 966 -1331 \nL 506 -1331 \nL 506 -850 \nL 844 -850 \nQ 1081 -850 1212 -737 \nQ 1344 -625 1503 -206 \nL 1606 56 \nL 191 3500 \nL 800 3500 \nL 1894 763 \nL 2988 3500 \nL 3597 3500 \nL 2059 -325 \nz\n\" transform=\"scale(0.015625)\"/>\n       </defs>\n       <use xlink:href=\"#DejaVuSans-67\"/>\n       <use xlink:href=\"#DejaVuSans-72\" x=\"63.476562\"/>\n       <use xlink:href=\"#DejaVuSans-61\" x=\"104.589844\"/>\n       <use xlink:href=\"#DejaVuSans-76\" x=\"165.869141\"/>\n       <use xlink:href=\"#DejaVuSans-69\" x=\"225.048828\"/>\n       <use xlink:href=\"#DejaVuSans-74\" x=\"252.832031\"/>\n       <use xlink:href=\"#DejaVuSans-79\" x=\"292.041016\"/>\n      </g>\n     </g>\n    </g>\n    <g id=\"xtick_2\">\n     <g id=\"line2d_2\">\n      <g>\n       <use xlink:href=\"#mc77d8cb5e2\" x=\"113.158125\" y=\"354.958125\" style=\"stroke: #000000; stroke-width: 0.8\"/>\n      </g>\n     </g>\n     <g id=\"text_2\">\n      <!-- ph -->\n      <g transform=\"translate(106.815156 369.556562) scale(0.1 -0.1)\">\n       <defs>\n        <path id=\"DejaVuSans-70\" d=\"M 1159 525 \nL 1159 -1331 \nL 581 -1331 \nL 581 3500 \nL 1159 3500 \nL 1159 2969 \nQ 1341 3281 1617 3432 \nQ 1894 3584 2278 3584 \nQ 2916 3584 3314 3078 \nQ 3713 2572 3713 1747 \nQ 3713 922 3314 415 \nQ 2916 -91 2278 -91 \nQ 1894 -91 1617 61 \nQ 1341 213 1159 525 \nz\nM 3116 1747 \nQ 3116 2381 2855 2742 \nQ 2594 3103 2138 3103 \nQ 1681 3103 1420 2742 \nQ 1159 2381 1159 1747 \nQ 1159 1113 1420 752 \nQ 1681 391 2138 391 \nQ 2594 391 2855 752 \nQ 3116 1113 3116 1747 \nz\n\" transform=\"scale(0.015625)\"/>\n        <path id=\"DejaVuSans-68\" d=\"M 3513 2113 \nL 3513 0 \nL 2938 0 \nL 2938 2094 \nQ 2938 2591 2744 2837 \nQ 2550 3084 2163 3084 \nQ 1697 3084 1428 2787 \nQ 1159 2491 1159 1978 \nL 1159 0 \nL 581 0 \nL 581 4863 \nL 1159 4863 \nL 1159 2956 \nQ 1366 3272 1645 3428 \nQ 1925 3584 2291 3584 \nQ 2894 3584 3203 3211 \nQ 3513 2838 3513 2113 \nz\n\" transform=\"scale(0.015625)\"/>\n       </defs>\n       <use xlink:href=\"#DejaVuSans-70\"/>\n       <use xlink:href=\"#DejaVuSans-68\" x=\"63.476562\"/>\n      </g>\n     </g>\n    </g>\n    <g id=\"xtick_3\">\n     <g id=\"line2d_3\">\n      <g>\n       <use xlink:href=\"#mc77d8cb5e2\" x=\"172.678125\" y=\"354.958125\" style=\"stroke: #000000; stroke-width: 0.8\"/>\n      </g>\n     </g>\n     <g id=\"text_3\">\n      <!-- osmo -->\n      <g transform=\"translate(159.084375 369.556562) scale(0.1 -0.1)\">\n       <defs>\n        <path id=\"DejaVuSans-6f\" d=\"M 1959 3097 \nQ 1497 3097 1228 2736 \nQ 959 2375 959 1747 \nQ 959 1119 1226 758 \nQ 1494 397 1959 397 \nQ 2419 397 2687 759 \nQ 2956 1122 2956 1747 \nQ 2956 2369 2687 2733 \nQ 2419 3097 1959 3097 \nz\nM 1959 3584 \nQ 2709 3584 3137 3096 \nQ 3566 2609 3566 1747 \nQ 3566 888 3137 398 \nQ 2709 -91 1959 -91 \nQ 1206 -91 779 398 \nQ 353 888 353 1747 \nQ 353 2609 779 3096 \nQ 1206 3584 1959 3584 \nz\n\" transform=\"scale(0.015625)\"/>\n        <path id=\"DejaVuSans-73\" d=\"M 2834 3397 \nL 2834 2853 \nQ 2591 2978 2328 3040 \nQ 2066 3103 1784 3103 \nQ 1356 3103 1142 2972 \nQ 928 2841 928 2578 \nQ 928 2378 1081 2264 \nQ 1234 2150 1697 2047 \nL 1894 2003 \nQ 2506 1872 2764 1633 \nQ 3022 1394 3022 966 \nQ 3022 478 2636 193 \nQ 2250 -91 1575 -91 \nQ 1294 -91 989 -36 \nQ 684 19 347 128 \nL 347 722 \nQ 666 556 975 473 \nQ 1284 391 1588 391 \nQ 1994 391 2212 530 \nQ 2431 669 2431 922 \nQ 2431 1156 2273 1281 \nQ 2116 1406 1581 1522 \nL 1381 1569 \nQ 847 1681 609 1914 \nQ 372 2147 372 2553 \nQ 372 3047 722 3315 \nQ 1072 3584 1716 3584 \nQ 2034 3584 2315 3537 \nQ 2597 3491 2834 3397 \nz\n\" transform=\"scale(0.015625)\"/>\n        <path id=\"DejaVuSans-6d\" d=\"M 3328 2828 \nQ 3544 3216 3844 3400 \nQ 4144 3584 4550 3584 \nQ 5097 3584 5394 3201 \nQ 5691 2819 5691 2113 \nL 5691 0 \nL 5113 0 \nL 5113 2094 \nQ 5113 2597 4934 2840 \nQ 4756 3084 4391 3084 \nQ 3944 3084 3684 2787 \nQ 3425 2491 3425 1978 \nL 3425 0 \nL 2847 0 \nL 2847 2094 \nQ 2847 2600 2669 2842 \nQ 2491 3084 2119 3084 \nQ 1678 3084 1418 2786 \nQ 1159 2488 1159 1978 \nL 1159 0 \nL 581 0 \nL 581 3500 \nL 1159 3500 \nL 1159 2956 \nQ 1356 3278 1631 3431 \nQ 1906 3584 2284 3584 \nQ 2666 3584 2933 3390 \nQ 3200 3197 3328 2828 \nz\n\" transform=\"scale(0.015625)\"/>\n       </defs>\n       <use xlink:href=\"#DejaVuSans-6f\"/>\n       <use xlink:href=\"#DejaVuSans-73\" x=\"61.181641\"/>\n       <use xlink:href=\"#DejaVuSans-6d\" x=\"113.28125\"/>\n       <use xlink:href=\"#DejaVuSans-6f\" x=\"210.693359\"/>\n      </g>\n     </g>\n    </g>\n    <g id=\"xtick_4\">\n     <g id=\"line2d_4\">\n      <g>\n       <use xlink:href=\"#mc77d8cb5e2\" x=\"232.198125\" y=\"354.958125\" style=\"stroke: #000000; stroke-width: 0.8\"/>\n      </g>\n     </g>\n     <g id=\"text_4\">\n      <!-- cond -->\n      <g transform=\"translate(220.046563 369.556562) scale(0.1 -0.1)\">\n       <defs>\n        <path id=\"DejaVuSans-63\" d=\"M 3122 3366 \nL 3122 2828 \nQ 2878 2963 2633 3030 \nQ 2388 3097 2138 3097 \nQ 1578 3097 1268 2742 \nQ 959 2388 959 1747 \nQ 959 1106 1268 751 \nQ 1578 397 2138 397 \nQ 2388 397 2633 464 \nQ 2878 531 3122 666 \nL 3122 134 \nQ 2881 22 2623 -34 \nQ 2366 -91 2075 -91 \nQ 1284 -91 818 406 \nQ 353 903 353 1747 \nQ 353 2603 823 3093 \nQ 1294 3584 2113 3584 \nQ 2378 3584 2631 3529 \nQ 2884 3475 3122 3366 \nz\n\" transform=\"scale(0.015625)\"/>\n        <path id=\"DejaVuSans-6e\" d=\"M 3513 2113 \nL 3513 0 \nL 2938 0 \nL 2938 2094 \nQ 2938 2591 2744 2837 \nQ 2550 3084 2163 3084 \nQ 1697 3084 1428 2787 \nQ 1159 2491 1159 1978 \nL 1159 0 \nL 581 0 \nL 581 3500 \nL 1159 3500 \nL 1159 2956 \nQ 1366 3272 1645 3428 \nQ 1925 3584 2291 3584 \nQ 2894 3584 3203 3211 \nQ 3513 2838 3513 2113 \nz\n\" transform=\"scale(0.015625)\"/>\n        <path id=\"DejaVuSans-64\" d=\"M 2906 2969 \nL 2906 4863 \nL 3481 4863 \nL 3481 0 \nL 2906 0 \nL 2906 525 \nQ 2725 213 2448 61 \nQ 2172 -91 1784 -91 \nQ 1150 -91 751 415 \nQ 353 922 353 1747 \nQ 353 2572 751 3078 \nQ 1150 3584 1784 3584 \nQ 2172 3584 2448 3432 \nQ 2725 3281 2906 2969 \nz\nM 947 1747 \nQ 947 1113 1208 752 \nQ 1469 391 1925 391 \nQ 2381 391 2643 752 \nQ 2906 1113 2906 1747 \nQ 2906 2381 2643 2742 \nQ 2381 3103 1925 3103 \nQ 1469 3103 1208 2742 \nQ 947 2381 947 1747 \nz\n\" transform=\"scale(0.015625)\"/>\n       </defs>\n       <use xlink:href=\"#DejaVuSans-63\"/>\n       <use xlink:href=\"#DejaVuSans-6f\" x=\"54.980469\"/>\n       <use xlink:href=\"#DejaVuSans-6e\" x=\"116.162109\"/>\n       <use xlink:href=\"#DejaVuSans-64\" x=\"179.541016\"/>\n      </g>\n     </g>\n    </g>\n    <g id=\"xtick_5\">\n     <g id=\"line2d_5\">\n      <g>\n       <use xlink:href=\"#mc77d8cb5e2\" x=\"291.718125\" y=\"354.958125\" style=\"stroke: #000000; stroke-width: 0.8\"/>\n      </g>\n     </g>\n     <g id=\"text_5\">\n      <!-- urea -->\n      <g transform=\"translate(280.465781 369.556562) scale(0.1 -0.1)\">\n       <defs>\n        <path id=\"DejaVuSans-75\" d=\"M 544 1381 \nL 544 3500 \nL 1119 3500 \nL 1119 1403 \nQ 1119 906 1312 657 \nQ 1506 409 1894 409 \nQ 2359 409 2629 706 \nQ 2900 1003 2900 1516 \nL 2900 3500 \nL 3475 3500 \nL 3475 0 \nL 2900 0 \nL 2900 538 \nQ 2691 219 2414 64 \nQ 2138 -91 1772 -91 \nQ 1169 -91 856 284 \nQ 544 659 544 1381 \nz\nM 1991 3584 \nL 1991 3584 \nz\n\" transform=\"scale(0.015625)\"/>\n        <path id=\"DejaVuSans-65\" d=\"M 3597 1894 \nL 3597 1613 \nL 953 1613 \nQ 991 1019 1311 708 \nQ 1631 397 2203 397 \nQ 2534 397 2845 478 \nQ 3156 559 3463 722 \nL 3463 178 \nQ 3153 47 2828 -22 \nQ 2503 -91 2169 -91 \nQ 1331 -91 842 396 \nQ 353 884 353 1716 \nQ 353 2575 817 3079 \nQ 1281 3584 2069 3584 \nQ 2775 3584 3186 3129 \nQ 3597 2675 3597 1894 \nz\nM 3022 2063 \nQ 3016 2534 2758 2815 \nQ 2500 3097 2075 3097 \nQ 1594 3097 1305 2825 \nQ 1016 2553 972 2059 \nL 3022 2063 \nz\n\" transform=\"scale(0.015625)\"/>\n       </defs>\n       <use xlink:href=\"#DejaVuSans-75\"/>\n       <use xlink:href=\"#DejaVuSans-72\" x=\"63.378906\"/>\n       <use xlink:href=\"#DejaVuSans-65\" x=\"102.242188\"/>\n       <use xlink:href=\"#DejaVuSans-61\" x=\"163.765625\"/>\n      </g>\n     </g>\n    </g>\n    <g id=\"xtick_6\">\n     <g id=\"line2d_6\">\n      <g>\n       <use xlink:href=\"#mc77d8cb5e2\" x=\"351.238125\" y=\"354.958125\" style=\"stroke: #000000; stroke-width: 0.8\"/>\n      </g>\n     </g>\n     <g id=\"text_6\">\n      <!-- calc -->\n      <g transform=\"translate(341.286563 369.556562) scale(0.1 -0.1)\">\n       <defs>\n        <path id=\"DejaVuSans-6c\" d=\"M 603 4863 \nL 1178 4863 \nL 1178 0 \nL 603 0 \nL 603 4863 \nz\n\" transform=\"scale(0.015625)\"/>\n       </defs>\n       <use xlink:href=\"#DejaVuSans-63\"/>\n       <use xlink:href=\"#DejaVuSans-61\" x=\"54.980469\"/>\n       <use xlink:href=\"#DejaVuSans-6c\" x=\"116.259766\"/>\n       <use xlink:href=\"#DejaVuSans-63\" x=\"144.042969\"/>\n      </g>\n     </g>\n    </g>\n   </g>\n   <g id=\"matplotlib.axis_2\">\n    <g id=\"ytick_1\">\n     <g id=\"line2d_7\">\n      <defs>\n       <path id=\"m720c49b5c5\" d=\"M 0 0 \nL -3.5 0 \n\" style=\"stroke: #000000; stroke-width: 0.8\"/>\n      </defs>\n      <g>\n       <use xlink:href=\"#m720c49b5c5\" x=\"23.878125\" y=\"50.038125\" style=\"stroke: #000000; stroke-width: 0.8\"/>\n      </g>\n     </g>\n     <g id=\"text_7\">\n      <!-- gravity -->\n      <g transform=\"translate(14.798438 67.599844) rotate(-90) scale(0.1 -0.1)\">\n       <use xlink:href=\"#DejaVuSans-67\"/>\n       <use xlink:href=\"#DejaVuSans-72\" x=\"63.476562\"/>\n       <use xlink:href=\"#DejaVuSans-61\" x=\"104.589844\"/>\n       <use xlink:href=\"#DejaVuSans-76\" x=\"165.869141\"/>\n       <use xlink:href=\"#DejaVuSans-69\" x=\"225.048828\"/>\n       <use xlink:href=\"#DejaVuSans-74\" x=\"252.832031\"/>\n       <use xlink:href=\"#DejaVuSans-79\" x=\"292.041016\"/>\n      </g>\n     </g>\n    </g>\n    <g id=\"ytick_2\">\n     <g id=\"line2d_8\">\n      <g>\n       <use xlink:href=\"#m720c49b5c5\" x=\"23.878125\" y=\"105.478125\" style=\"stroke: #000000; stroke-width: 0.8\"/>\n      </g>\n     </g>\n     <g id=\"text_8\">\n      <!-- ph -->\n      <g transform=\"translate(14.798438 111.821094) rotate(-90) scale(0.1 -0.1)\">\n       <use xlink:href=\"#DejaVuSans-70\"/>\n       <use xlink:href=\"#DejaVuSans-68\" x=\"63.476562\"/>\n      </g>\n     </g>\n    </g>\n    <g id=\"ytick_3\">\n     <g id=\"line2d_9\">\n      <g>\n       <use xlink:href=\"#m720c49b5c5\" x=\"23.878125\" y=\"160.918125\" style=\"stroke: #000000; stroke-width: 0.8\"/>\n      </g>\n     </g>\n     <g id=\"text_9\">\n      <!-- osmo -->\n      <g transform=\"translate(14.798438 174.511875) rotate(-90) scale(0.1 -0.1)\">\n       <use xlink:href=\"#DejaVuSans-6f\"/>\n       <use xlink:href=\"#DejaVuSans-73\" x=\"61.181641\"/>\n       <use xlink:href=\"#DejaVuSans-6d\" x=\"113.28125\"/>\n       <use xlink:href=\"#DejaVuSans-6f\" x=\"210.693359\"/>\n      </g>\n     </g>\n    </g>\n    <g id=\"ytick_4\">\n     <g id=\"line2d_10\">\n      <g>\n       <use xlink:href=\"#m720c49b5c5\" x=\"23.878125\" y=\"216.358125\" style=\"stroke: #000000; stroke-width: 0.8\"/>\n      </g>\n     </g>\n     <g id=\"text_10\">\n      <!-- cond -->\n      <g transform=\"translate(14.798438 228.509687) rotate(-90) scale(0.1 -0.1)\">\n       <use xlink:href=\"#DejaVuSans-63\"/>\n       <use xlink:href=\"#DejaVuSans-6f\" x=\"54.980469\"/>\n       <use xlink:href=\"#DejaVuSans-6e\" x=\"116.162109\"/>\n       <use xlink:href=\"#DejaVuSans-64\" x=\"179.541016\"/>\n      </g>\n     </g>\n    </g>\n    <g id=\"ytick_5\">\n     <g id=\"line2d_11\">\n      <g>\n       <use xlink:href=\"#m720c49b5c5\" x=\"23.878125\" y=\"271.798125\" style=\"stroke: #000000; stroke-width: 0.8\"/>\n      </g>\n     </g>\n     <g id=\"text_11\">\n      <!-- urea -->\n      <g transform=\"translate(14.798438 283.050469) rotate(-90) scale(0.1 -0.1)\">\n       <use xlink:href=\"#DejaVuSans-75\"/>\n       <use xlink:href=\"#DejaVuSans-72\" x=\"63.378906\"/>\n       <use xlink:href=\"#DejaVuSans-65\" x=\"102.242188\"/>\n       <use xlink:href=\"#DejaVuSans-61\" x=\"163.765625\"/>\n      </g>\n     </g>\n    </g>\n    <g id=\"ytick_6\">\n     <g id=\"line2d_12\">\n      <g>\n       <use xlink:href=\"#m720c49b5c5\" x=\"23.878125\" y=\"327.238125\" style=\"stroke: #000000; stroke-width: 0.8\"/>\n      </g>\n     </g>\n     <g id=\"text_12\">\n      <!-- calc -->\n      <g transform=\"translate(14.798438 337.189687) rotate(-90) scale(0.1 -0.1)\">\n       <use xlink:href=\"#DejaVuSans-63\"/>\n       <use xlink:href=\"#DejaVuSans-61\" x=\"54.980469\"/>\n       <use xlink:href=\"#DejaVuSans-6c\" x=\"116.259766\"/>\n       <use xlink:href=\"#DejaVuSans-63\" x=\"144.042969\"/>\n      </g>\n     </g>\n    </g>\n   </g>\n   <g id=\"text_13\">\n    <!-- 1.00 -->\n    <g style=\"fill: #ffffff\" transform=\"translate(42.505313 52.7975) scale(0.1 -0.1)\">\n     <defs>\n      <path id=\"DejaVuSans-31\" d=\"M 794 531 \nL 1825 531 \nL 1825 4091 \nL 703 3866 \nL 703 4441 \nL 1819 4666 \nL 2450 4666 \nL 2450 531 \nL 3481 531 \nL 3481 0 \nL 794 0 \nL 794 531 \nz\n\" transform=\"scale(0.015625)\"/>\n      <path id=\"DejaVuSans-2e\" d=\"M 684 794 \nL 1344 794 \nL 1344 0 \nL 684 0 \nL 684 794 \nz\n\" transform=\"scale(0.015625)\"/>\n      <path id=\"DejaVuSans-30\" d=\"M 2034 4250 \nQ 1547 4250 1301 3770 \nQ 1056 3291 1056 2328 \nQ 1056 1369 1301 889 \nQ 1547 409 2034 409 \nQ 2525 409 2770 889 \nQ 3016 1369 3016 2328 \nQ 3016 3291 2770 3770 \nQ 2525 4250 2034 4250 \nz\nM 2034 4750 \nQ 2819 4750 3233 4129 \nQ 3647 3509 3647 2328 \nQ 3647 1150 3233 529 \nQ 2819 -91 2034 -91 \nQ 1250 -91 836 529 \nQ 422 1150 422 2328 \nQ 422 3509 836 4129 \nQ 1250 4750 2034 4750 \nz\n\" transform=\"scale(0.015625)\"/>\n     </defs>\n     <use xlink:href=\"#DejaVuSans-31\"/>\n     <use xlink:href=\"#DejaVuSans-2e\" x=\"63.623047\"/>\n     <use xlink:href=\"#DejaVuSans-30\" x=\"95.410156\"/>\n     <use xlink:href=\"#DejaVuSans-30\" x=\"159.033203\"/>\n    </g>\n   </g>\n   <g id=\"text_14\">\n    <!-- -0.29 -->\n    <g style=\"fill: #ffffff\" transform=\"translate(100.221406 52.7975) scale(0.1 -0.1)\">\n     <defs>\n      <path id=\"DejaVuSans-2d\" d=\"M 313 2009 \nL 1997 2009 \nL 1997 1497 \nL 313 1497 \nL 313 2009 \nz\n\" transform=\"scale(0.015625)\"/>\n      <path id=\"DejaVuSans-32\" d=\"M 1228 531 \nL 3431 531 \nL 3431 0 \nL 469 0 \nL 469 531 \nQ 828 903 1448 1529 \nQ 2069 2156 2228 2338 \nQ 2531 2678 2651 2914 \nQ 2772 3150 2772 3378 \nQ 2772 3750 2511 3984 \nQ 2250 4219 1831 4219 \nQ 1534 4219 1204 4116 \nQ 875 4013 500 3803 \nL 500 4441 \nQ 881 4594 1212 4672 \nQ 1544 4750 1819 4750 \nQ 2544 4750 2975 4387 \nQ 3406 4025 3406 3419 \nQ 3406 3131 3298 2873 \nQ 3191 2616 2906 2266 \nQ 2828 2175 2409 1742 \nQ 1991 1309 1228 531 \nz\n\" transform=\"scale(0.015625)\"/>\n      <path id=\"DejaVuSans-39\" d=\"M 703 97 \nL 703 672 \nQ 941 559 1184 500 \nQ 1428 441 1663 441 \nQ 2288 441 2617 861 \nQ 2947 1281 2994 2138 \nQ 2813 1869 2534 1725 \nQ 2256 1581 1919 1581 \nQ 1219 1581 811 2004 \nQ 403 2428 403 3163 \nQ 403 3881 828 4315 \nQ 1253 4750 1959 4750 \nQ 2769 4750 3195 4129 \nQ 3622 3509 3622 2328 \nQ 3622 1225 3098 567 \nQ 2575 -91 1691 -91 \nQ 1453 -91 1209 -44 \nQ 966 3 703 97 \nz\nM 1959 2075 \nQ 2384 2075 2632 2365 \nQ 2881 2656 2881 3163 \nQ 2881 3666 2632 3958 \nQ 2384 4250 1959 4250 \nQ 1534 4250 1286 3958 \nQ 1038 3666 1038 3163 \nQ 1038 2656 1286 2365 \nQ 1534 2075 1959 2075 \nz\n\" transform=\"scale(0.015625)\"/>\n     </defs>\n     <use xlink:href=\"#DejaVuSans-2d\"/>\n     <use xlink:href=\"#DejaVuSans-30\" x=\"36.083984\"/>\n     <use xlink:href=\"#DejaVuSans-2e\" x=\"99.707031\"/>\n     <use xlink:href=\"#DejaVuSans-32\" x=\"131.494141\"/>\n     <use xlink:href=\"#DejaVuSans-39\" x=\"195.117188\"/>\n    </g>\n   </g>\n   <g id=\"text_15\">\n    <!-- 0.69 -->\n    <g style=\"fill: #262626\" transform=\"translate(161.545313 52.7975) scale(0.1 -0.1)\">\n     <defs>\n      <path id=\"DejaVuSans-36\" d=\"M 2113 2584 \nQ 1688 2584 1439 2293 \nQ 1191 2003 1191 1497 \nQ 1191 994 1439 701 \nQ 1688 409 2113 409 \nQ 2538 409 2786 701 \nQ 3034 994 3034 1497 \nQ 3034 2003 2786 2293 \nQ 2538 2584 2113 2584 \nz\nM 3366 4563 \nL 3366 3988 \nQ 3128 4100 2886 4159 \nQ 2644 4219 2406 4219 \nQ 1781 4219 1451 3797 \nQ 1122 3375 1075 2522 \nQ 1259 2794 1537 2939 \nQ 1816 3084 2150 3084 \nQ 2853 3084 3261 2657 \nQ 3669 2231 3669 1497 \nQ 3669 778 3244 343 \nQ 2819 -91 2113 -91 \nQ 1303 -91 875 529 \nQ 447 1150 447 2328 \nQ 447 3434 972 4092 \nQ 1497 4750 2381 4750 \nQ 2619 4750 2861 4703 \nQ 3103 4656 3366 4563 \nz\n\" transform=\"scale(0.015625)\"/>\n     </defs>\n     <use xlink:href=\"#DejaVuSans-30\"/>\n     <use xlink:href=\"#DejaVuSans-2e\" x=\"63.623047\"/>\n     <use xlink:href=\"#DejaVuSans-36\" x=\"95.410156\"/>\n     <use xlink:href=\"#DejaVuSans-39\" x=\"159.033203\"/>\n    </g>\n   </g>\n   <g id=\"text_16\">\n    <!-- 0.47 -->\n    <g style=\"fill: #262626\" transform=\"translate(221.065313 52.7975) scale(0.1 -0.1)\">\n     <defs>\n      <path id=\"DejaVuSans-34\" d=\"M 2419 4116 \nL 825 1625 \nL 2419 1625 \nL 2419 4116 \nz\nM 2253 4666 \nL 3047 4666 \nL 3047 1625 \nL 3713 1625 \nL 3713 1100 \nL 3047 1100 \nL 3047 0 \nL 2419 0 \nL 2419 1100 \nL 313 1100 \nL 313 1709 \nL 2253 4666 \nz\n\" transform=\"scale(0.015625)\"/>\n      <path id=\"DejaVuSans-37\" d=\"M 525 4666 \nL 3525 4666 \nL 3525 4397 \nL 1831 0 \nL 1172 0 \nL 2766 4134 \nL 525 4134 \nL 525 4666 \nz\n\" transform=\"scale(0.015625)\"/>\n     </defs>\n     <use xlink:href=\"#DejaVuSans-30\"/>\n     <use xlink:href=\"#DejaVuSans-2e\" x=\"63.623047\"/>\n     <use xlink:href=\"#DejaVuSans-34\" x=\"95.410156\"/>\n     <use xlink:href=\"#DejaVuSans-37\" x=\"159.033203\"/>\n    </g>\n   </g>\n   <g id=\"text_17\">\n    <!-- 0.63 -->\n    <g style=\"fill: #262626\" transform=\"translate(280.585313 52.7975) scale(0.1 -0.1)\">\n     <defs>\n      <path id=\"DejaVuSans-33\" d=\"M 2597 2516 \nQ 3050 2419 3304 2112 \nQ 3559 1806 3559 1356 \nQ 3559 666 3084 287 \nQ 2609 -91 1734 -91 \nQ 1441 -91 1130 -33 \nQ 819 25 488 141 \nL 488 750 \nQ 750 597 1062 519 \nQ 1375 441 1716 441 \nQ 2309 441 2620 675 \nQ 2931 909 2931 1356 \nQ 2931 1769 2642 2001 \nQ 2353 2234 1838 2234 \nL 1294 2234 \nL 1294 2753 \nL 1863 2753 \nQ 2328 2753 2575 2939 \nQ 2822 3125 2822 3475 \nQ 2822 3834 2567 4026 \nQ 2313 4219 1838 4219 \nQ 1578 4219 1281 4162 \nQ 984 4106 628 3988 \nL 628 4550 \nQ 988 4650 1302 4700 \nQ 1616 4750 1894 4750 \nQ 2613 4750 3031 4423 \nQ 3450 4097 3450 3541 \nQ 3450 3153 3228 2886 \nQ 3006 2619 2597 2516 \nz\n\" transform=\"scale(0.015625)\"/>\n     </defs>\n     <use xlink:href=\"#DejaVuSans-30\"/>\n     <use xlink:href=\"#DejaVuSans-2e\" x=\"63.623047\"/>\n     <use xlink:href=\"#DejaVuSans-36\" x=\"95.410156\"/>\n     <use xlink:href=\"#DejaVuSans-33\" x=\"159.033203\"/>\n    </g>\n   </g>\n   <g id=\"text_18\">\n    <!-- 0.49 -->\n    <g style=\"fill: #262626\" transform=\"translate(340.105313 52.7975) scale(0.1 -0.1)\">\n     <use xlink:href=\"#DejaVuSans-30\"/>\n     <use xlink:href=\"#DejaVuSans-2e\" x=\"63.623047\"/>\n     <use xlink:href=\"#DejaVuSans-34\" x=\"95.410156\"/>\n     <use xlink:href=\"#DejaVuSans-39\" x=\"159.033203\"/>\n    </g>\n   </g>\n   <g id=\"text_19\">\n    <!-- -0.29 -->\n    <g style=\"fill: #ffffff\" transform=\"translate(40.701406 108.2375) scale(0.1 -0.1)\">\n     <use xlink:href=\"#DejaVuSans-2d\"/>\n     <use xlink:href=\"#DejaVuSans-30\" x=\"36.083984\"/>\n     <use xlink:href=\"#DejaVuSans-2e\" x=\"99.707031\"/>\n     <use xlink:href=\"#DejaVuSans-32\" x=\"131.494141\"/>\n     <use xlink:href=\"#DejaVuSans-39\" x=\"195.117188\"/>\n    </g>\n   </g>\n   <g id=\"text_20\">\n    <!-- 1.00 -->\n    <g style=\"fill: #ffffff\" transform=\"translate(102.025313 108.2375) scale(0.1 -0.1)\">\n     <use xlink:href=\"#DejaVuSans-31\"/>\n     <use xlink:href=\"#DejaVuSans-2e\" x=\"63.623047\"/>\n     <use xlink:href=\"#DejaVuSans-30\" x=\"95.410156\"/>\n     <use xlink:href=\"#DejaVuSans-30\" x=\"159.033203\"/>\n    </g>\n   </g>\n   <g id=\"text_21\">\n    <!-- -0.31 -->\n    <g style=\"fill: #ffffff\" transform=\"translate(159.741406 108.2375) scale(0.1 -0.1)\">\n     <use xlink:href=\"#DejaVuSans-2d\"/>\n     <use xlink:href=\"#DejaVuSans-30\" x=\"36.083984\"/>\n     <use xlink:href=\"#DejaVuSans-2e\" x=\"99.707031\"/>\n     <use xlink:href=\"#DejaVuSans-33\" x=\"131.494141\"/>\n     <use xlink:href=\"#DejaVuSans-31\" x=\"195.117188\"/>\n    </g>\n   </g>\n   <g id=\"text_22\">\n    <!-- -0.19 -->\n    <g style=\"fill: #ffffff\" transform=\"translate(219.261406 108.2375) scale(0.1 -0.1)\">\n     <use xlink:href=\"#DejaVuSans-2d\"/>\n     <use xlink:href=\"#DejaVuSans-30\" x=\"36.083984\"/>\n     <use xlink:href=\"#DejaVuSans-2e\" x=\"99.707031\"/>\n     <use xlink:href=\"#DejaVuSans-31\" x=\"131.494141\"/>\n     <use xlink:href=\"#DejaVuSans-39\" x=\"195.117188\"/>\n    </g>\n   </g>\n   <g id=\"text_23\">\n    <!-- -0.28 -->\n    <g style=\"fill: #ffffff\" transform=\"translate(278.781406 108.2375) scale(0.1 -0.1)\">\n     <defs>\n      <path id=\"DejaVuSans-38\" d=\"M 2034 2216 \nQ 1584 2216 1326 1975 \nQ 1069 1734 1069 1313 \nQ 1069 891 1326 650 \nQ 1584 409 2034 409 \nQ 2484 409 2743 651 \nQ 3003 894 3003 1313 \nQ 3003 1734 2745 1975 \nQ 2488 2216 2034 2216 \nz\nM 1403 2484 \nQ 997 2584 770 2862 \nQ 544 3141 544 3541 \nQ 544 4100 942 4425 \nQ 1341 4750 2034 4750 \nQ 2731 4750 3128 4425 \nQ 3525 4100 3525 3541 \nQ 3525 3141 3298 2862 \nQ 3072 2584 2669 2484 \nQ 3125 2378 3379 2068 \nQ 3634 1759 3634 1313 \nQ 3634 634 3220 271 \nQ 2806 -91 2034 -91 \nQ 1263 -91 848 271 \nQ 434 634 434 1313 \nQ 434 1759 690 2068 \nQ 947 2378 1403 2484 \nz\nM 1172 3481 \nQ 1172 3119 1398 2916 \nQ 1625 2713 2034 2713 \nQ 2441 2713 2670 2916 \nQ 2900 3119 2900 3481 \nQ 2900 3844 2670 4047 \nQ 2441 4250 2034 4250 \nQ 1625 4250 1398 4047 \nQ 1172 3844 1172 3481 \nz\n\" transform=\"scale(0.015625)\"/>\n     </defs>\n     <use xlink:href=\"#DejaVuSans-2d\"/>\n     <use xlink:href=\"#DejaVuSans-30\" x=\"36.083984\"/>\n     <use xlink:href=\"#DejaVuSans-2e\" x=\"99.707031\"/>\n     <use xlink:href=\"#DejaVuSans-32\" x=\"131.494141\"/>\n     <use xlink:href=\"#DejaVuSans-38\" x=\"195.117188\"/>\n    </g>\n   </g>\n   <g id=\"text_24\">\n    <!-- -0.21 -->\n    <g style=\"fill: #ffffff\" transform=\"translate(338.301406 108.2375) scale(0.1 -0.1)\">\n     <use xlink:href=\"#DejaVuSans-2d\"/>\n     <use xlink:href=\"#DejaVuSans-30\" x=\"36.083984\"/>\n     <use xlink:href=\"#DejaVuSans-2e\" x=\"99.707031\"/>\n     <use xlink:href=\"#DejaVuSans-32\" x=\"131.494141\"/>\n     <use xlink:href=\"#DejaVuSans-31\" x=\"195.117188\"/>\n    </g>\n   </g>\n   <g id=\"text_25\">\n    <!-- 0.69 -->\n    <g style=\"fill: #262626\" transform=\"translate(42.505313 163.6775) scale(0.1 -0.1)\">\n     <use xlink:href=\"#DejaVuSans-30\"/>\n     <use xlink:href=\"#DejaVuSans-2e\" x=\"63.623047\"/>\n     <use xlink:href=\"#DejaVuSans-36\" x=\"95.410156\"/>\n     <use xlink:href=\"#DejaVuSans-39\" x=\"159.033203\"/>\n    </g>\n   </g>\n   <g id=\"text_26\">\n    <!-- -0.31 -->\n    <g style=\"fill: #ffffff\" transform=\"translate(100.221406 163.6775) scale(0.1 -0.1)\">\n     <use xlink:href=\"#DejaVuSans-2d\"/>\n     <use xlink:href=\"#DejaVuSans-30\" x=\"36.083984\"/>\n     <use xlink:href=\"#DejaVuSans-2e\" x=\"99.707031\"/>\n     <use xlink:href=\"#DejaVuSans-33\" x=\"131.494141\"/>\n     <use xlink:href=\"#DejaVuSans-31\" x=\"195.117188\"/>\n    </g>\n   </g>\n   <g id=\"text_27\">\n    <!-- 1.00 -->\n    <g style=\"fill: #ffffff\" transform=\"translate(161.545313 163.6775) scale(0.1 -0.1)\">\n     <use xlink:href=\"#DejaVuSans-31\"/>\n     <use xlink:href=\"#DejaVuSans-2e\" x=\"63.623047\"/>\n     <use xlink:href=\"#DejaVuSans-30\" x=\"95.410156\"/>\n     <use xlink:href=\"#DejaVuSans-30\" x=\"159.033203\"/>\n    </g>\n   </g>\n   <g id=\"text_28\">\n    <!-- 0.71 -->\n    <g style=\"fill: #ffffff\" transform=\"translate(221.065313 163.6775) scale(0.1 -0.1)\">\n     <use xlink:href=\"#DejaVuSans-30\"/>\n     <use xlink:href=\"#DejaVuSans-2e\" x=\"63.623047\"/>\n     <use xlink:href=\"#DejaVuSans-37\" x=\"95.410156\"/>\n     <use xlink:href=\"#DejaVuSans-31\" x=\"159.033203\"/>\n    </g>\n   </g>\n   <g id=\"text_29\">\n    <!-- 0.81 -->\n    <g style=\"fill: #ffffff\" transform=\"translate(280.585313 163.6775) scale(0.1 -0.1)\">\n     <use xlink:href=\"#DejaVuSans-30\"/>\n     <use xlink:href=\"#DejaVuSans-2e\" x=\"63.623047\"/>\n     <use xlink:href=\"#DejaVuSans-38\" x=\"95.410156\"/>\n     <use xlink:href=\"#DejaVuSans-31\" x=\"159.033203\"/>\n    </g>\n   </g>\n   <g id=\"text_30\">\n    <!-- 0.47 -->\n    <g style=\"fill: #262626\" transform=\"translate(340.105313 163.6775) scale(0.1 -0.1)\">\n     <use xlink:href=\"#DejaVuSans-30\"/>\n     <use xlink:href=\"#DejaVuSans-2e\" x=\"63.623047\"/>\n     <use xlink:href=\"#DejaVuSans-34\" x=\"95.410156\"/>\n     <use xlink:href=\"#DejaVuSans-37\" x=\"159.033203\"/>\n    </g>\n   </g>\n   <g id=\"text_31\">\n    <!-- 0.47 -->\n    <g style=\"fill: #262626\" transform=\"translate(42.505313 219.1175) scale(0.1 -0.1)\">\n     <use xlink:href=\"#DejaVuSans-30\"/>\n     <use xlink:href=\"#DejaVuSans-2e\" x=\"63.623047\"/>\n     <use xlink:href=\"#DejaVuSans-34\" x=\"95.410156\"/>\n     <use xlink:href=\"#DejaVuSans-37\" x=\"159.033203\"/>\n    </g>\n   </g>\n   <g id=\"text_32\">\n    <!-- -0.19 -->\n    <g style=\"fill: #ffffff\" transform=\"translate(100.221406 219.1175) scale(0.1 -0.1)\">\n     <use xlink:href=\"#DejaVuSans-2d\"/>\n     <use xlink:href=\"#DejaVuSans-30\" x=\"36.083984\"/>\n     <use xlink:href=\"#DejaVuSans-2e\" x=\"99.707031\"/>\n     <use xlink:href=\"#DejaVuSans-31\" x=\"131.494141\"/>\n     <use xlink:href=\"#DejaVuSans-39\" x=\"195.117188\"/>\n    </g>\n   </g>\n   <g id=\"text_33\">\n    <!-- 0.71 -->\n    <g style=\"fill: #ffffff\" transform=\"translate(161.545313 219.1175) scale(0.1 -0.1)\">\n     <use xlink:href=\"#DejaVuSans-30\"/>\n     <use xlink:href=\"#DejaVuSans-2e\" x=\"63.623047\"/>\n     <use xlink:href=\"#DejaVuSans-37\" x=\"95.410156\"/>\n     <use xlink:href=\"#DejaVuSans-31\" x=\"159.033203\"/>\n    </g>\n   </g>\n   <g id=\"text_34\">\n    <!-- 1.00 -->\n    <g style=\"fill: #ffffff\" transform=\"translate(221.065313 219.1175) scale(0.1 -0.1)\">\n     <use xlink:href=\"#DejaVuSans-31\"/>\n     <use xlink:href=\"#DejaVuSans-2e\" x=\"63.623047\"/>\n     <use xlink:href=\"#DejaVuSans-30\" x=\"95.410156\"/>\n     <use xlink:href=\"#DejaVuSans-30\" x=\"159.033203\"/>\n    </g>\n   </g>\n   <g id=\"text_35\">\n    <!-- 0.50 -->\n    <g style=\"fill: #262626\" transform=\"translate(280.585313 219.1175) scale(0.1 -0.1)\">\n     <defs>\n      <path id=\"DejaVuSans-35\" d=\"M 691 4666 \nL 3169 4666 \nL 3169 4134 \nL 1269 4134 \nL 1269 2991 \nQ 1406 3038 1543 3061 \nQ 1681 3084 1819 3084 \nQ 2600 3084 3056 2656 \nQ 3513 2228 3513 1497 \nQ 3513 744 3044 326 \nQ 2575 -91 1722 -91 \nQ 1428 -91 1123 -41 \nQ 819 9 494 109 \nL 494 744 \nQ 775 591 1075 516 \nQ 1375 441 1709 441 \nQ 2250 441 2565 725 \nQ 2881 1009 2881 1497 \nQ 2881 1984 2565 2268 \nQ 2250 2553 1709 2553 \nQ 1456 2553 1204 2497 \nQ 953 2441 691 2322 \nL 691 4666 \nz\n\" transform=\"scale(0.015625)\"/>\n     </defs>\n     <use xlink:href=\"#DejaVuSans-30\"/>\n     <use xlink:href=\"#DejaVuSans-2e\" x=\"63.623047\"/>\n     <use xlink:href=\"#DejaVuSans-35\" x=\"95.410156\"/>\n     <use xlink:href=\"#DejaVuSans-30\" x=\"159.033203\"/>\n    </g>\n   </g>\n   <g id=\"text_36\">\n    <!-- 0.33 -->\n    <g style=\"fill: #262626\" transform=\"translate(340.105313 219.1175) scale(0.1 -0.1)\">\n     <use xlink:href=\"#DejaVuSans-30\"/>\n     <use xlink:href=\"#DejaVuSans-2e\" x=\"63.623047\"/>\n     <use xlink:href=\"#DejaVuSans-33\" x=\"95.410156\"/>\n     <use xlink:href=\"#DejaVuSans-33\" x=\"159.033203\"/>\n    </g>\n   </g>\n   <g id=\"text_37\">\n    <!-- 0.63 -->\n    <g style=\"fill: #262626\" transform=\"translate(42.505313 274.5575) scale(0.1 -0.1)\">\n     <use xlink:href=\"#DejaVuSans-30\"/>\n     <use xlink:href=\"#DejaVuSans-2e\" x=\"63.623047\"/>\n     <use xlink:href=\"#DejaVuSans-36\" x=\"95.410156\"/>\n     <use xlink:href=\"#DejaVuSans-33\" x=\"159.033203\"/>\n    </g>\n   </g>\n   <g id=\"text_38\">\n    <!-- -0.28 -->\n    <g style=\"fill: #ffffff\" transform=\"translate(100.221406 274.5575) scale(0.1 -0.1)\">\n     <use xlink:href=\"#DejaVuSans-2d\"/>\n     <use xlink:href=\"#DejaVuSans-30\" x=\"36.083984\"/>\n     <use xlink:href=\"#DejaVuSans-2e\" x=\"99.707031\"/>\n     <use xlink:href=\"#DejaVuSans-32\" x=\"131.494141\"/>\n     <use xlink:href=\"#DejaVuSans-38\" x=\"195.117188\"/>\n    </g>\n   </g>\n   <g id=\"text_39\">\n    <!-- 0.81 -->\n    <g style=\"fill: #ffffff\" transform=\"translate(161.545313 274.5575) scale(0.1 -0.1)\">\n     <use xlink:href=\"#DejaVuSans-30\"/>\n     <use xlink:href=\"#DejaVuSans-2e\" x=\"63.623047\"/>\n     <use xlink:href=\"#DejaVuSans-38\" x=\"95.410156\"/>\n     <use xlink:href=\"#DejaVuSans-31\" x=\"159.033203\"/>\n    </g>\n   </g>\n   <g id=\"text_40\">\n    <!-- 0.50 -->\n    <g style=\"fill: #262626\" transform=\"translate(221.065313 274.5575) scale(0.1 -0.1)\">\n     <use xlink:href=\"#DejaVuSans-30\"/>\n     <use xlink:href=\"#DejaVuSans-2e\" x=\"63.623047\"/>\n     <use xlink:href=\"#DejaVuSans-35\" x=\"95.410156\"/>\n     <use xlink:href=\"#DejaVuSans-30\" x=\"159.033203\"/>\n    </g>\n   </g>\n   <g id=\"text_41\">\n    <!-- 1.00 -->\n    <g style=\"fill: #ffffff\" transform=\"translate(280.585313 274.5575) scale(0.1 -0.1)\">\n     <use xlink:href=\"#DejaVuSans-31\"/>\n     <use xlink:href=\"#DejaVuSans-2e\" x=\"63.623047\"/>\n     <use xlink:href=\"#DejaVuSans-30\" x=\"95.410156\"/>\n     <use xlink:href=\"#DejaVuSans-30\" x=\"159.033203\"/>\n    </g>\n   </g>\n   <g id=\"text_42\">\n    <!-- 0.49 -->\n    <g style=\"fill: #262626\" transform=\"translate(340.105313 274.5575) scale(0.1 -0.1)\">\n     <use xlink:href=\"#DejaVuSans-30\"/>\n     <use xlink:href=\"#DejaVuSans-2e\" x=\"63.623047\"/>\n     <use xlink:href=\"#DejaVuSans-34\" x=\"95.410156\"/>\n     <use xlink:href=\"#DejaVuSans-39\" x=\"159.033203\"/>\n    </g>\n   </g>\n   <g id=\"text_43\">\n    <!-- 0.49 -->\n    <g style=\"fill: #262626\" transform=\"translate(42.505313 329.9975) scale(0.1 -0.1)\">\n     <use xlink:href=\"#DejaVuSans-30\"/>\n     <use xlink:href=\"#DejaVuSans-2e\" x=\"63.623047\"/>\n     <use xlink:href=\"#DejaVuSans-34\" x=\"95.410156\"/>\n     <use xlink:href=\"#DejaVuSans-39\" x=\"159.033203\"/>\n    </g>\n   </g>\n   <g id=\"text_44\">\n    <!-- -0.21 -->\n    <g style=\"fill: #ffffff\" transform=\"translate(100.221406 329.9975) scale(0.1 -0.1)\">\n     <use xlink:href=\"#DejaVuSans-2d\"/>\n     <use xlink:href=\"#DejaVuSans-30\" x=\"36.083984\"/>\n     <use xlink:href=\"#DejaVuSans-2e\" x=\"99.707031\"/>\n     <use xlink:href=\"#DejaVuSans-32\" x=\"131.494141\"/>\n     <use xlink:href=\"#DejaVuSans-31\" x=\"195.117188\"/>\n    </g>\n   </g>\n   <g id=\"text_45\">\n    <!-- 0.47 -->\n    <g style=\"fill: #262626\" transform=\"translate(161.545313 329.9975) scale(0.1 -0.1)\">\n     <use xlink:href=\"#DejaVuSans-30\"/>\n     <use xlink:href=\"#DejaVuSans-2e\" x=\"63.623047\"/>\n     <use xlink:href=\"#DejaVuSans-34\" x=\"95.410156\"/>\n     <use xlink:href=\"#DejaVuSans-37\" x=\"159.033203\"/>\n    </g>\n   </g>\n   <g id=\"text_46\">\n    <!-- 0.33 -->\n    <g style=\"fill: #262626\" transform=\"translate(221.065313 329.9975) scale(0.1 -0.1)\">\n     <use xlink:href=\"#DejaVuSans-30\"/>\n     <use xlink:href=\"#DejaVuSans-2e\" x=\"63.623047\"/>\n     <use xlink:href=\"#DejaVuSans-33\" x=\"95.410156\"/>\n     <use xlink:href=\"#DejaVuSans-33\" x=\"159.033203\"/>\n    </g>\n   </g>\n   <g id=\"text_47\">\n    <!-- 0.49 -->\n    <g style=\"fill: #262626\" transform=\"translate(280.585313 329.9975) scale(0.1 -0.1)\">\n     <use xlink:href=\"#DejaVuSans-30\"/>\n     <use xlink:href=\"#DejaVuSans-2e\" x=\"63.623047\"/>\n     <use xlink:href=\"#DejaVuSans-34\" x=\"95.410156\"/>\n     <use xlink:href=\"#DejaVuSans-39\" x=\"159.033203\"/>\n    </g>\n   </g>\n   <g id=\"text_48\">\n    <!-- 1.00 -->\n    <g style=\"fill: #ffffff\" transform=\"translate(340.105313 329.9975) scale(0.1 -0.1)\">\n     <use xlink:href=\"#DejaVuSans-31\"/>\n     <use xlink:href=\"#DejaVuSans-2e\" x=\"63.623047\"/>\n     <use xlink:href=\"#DejaVuSans-30\" x=\"95.410156\"/>\n     <use xlink:href=\"#DejaVuSans-30\" x=\"159.033203\"/>\n    </g>\n   </g>\n   <g id=\"text_49\">\n    <!-- Correlation Heatmap -->\n    <g transform=\"translate(139.885313 16.318125) scale(0.12 -0.12)\">\n     <defs>\n      <path id=\"DejaVuSans-43\" d=\"M 4122 4306 \nL 4122 3641 \nQ 3803 3938 3442 4084 \nQ 3081 4231 2675 4231 \nQ 1875 4231 1450 3742 \nQ 1025 3253 1025 2328 \nQ 1025 1406 1450 917 \nQ 1875 428 2675 428 \nQ 3081 428 3442 575 \nQ 3803 722 4122 1019 \nL 4122 359 \nQ 3791 134 3420 21 \nQ 3050 -91 2638 -91 \nQ 1578 -91 968 557 \nQ 359 1206 359 2328 \nQ 359 3453 968 4101 \nQ 1578 4750 2638 4750 \nQ 3056 4750 3426 4639 \nQ 3797 4528 4122 4306 \nz\n\" transform=\"scale(0.015625)\"/>\n      <path id=\"DejaVuSans-20\" transform=\"scale(0.015625)\"/>\n      <path id=\"DejaVuSans-48\" d=\"M 628 4666 \nL 1259 4666 \nL 1259 2753 \nL 3553 2753 \nL 3553 4666 \nL 4184 4666 \nL 4184 0 \nL 3553 0 \nL 3553 2222 \nL 1259 2222 \nL 1259 0 \nL 628 0 \nL 628 4666 \nz\n\" transform=\"scale(0.015625)\"/>\n     </defs>\n     <use xlink:href=\"#DejaVuSans-43\"/>\n     <use xlink:href=\"#DejaVuSans-6f\" x=\"69.824219\"/>\n     <use xlink:href=\"#DejaVuSans-72\" x=\"131.005859\"/>\n     <use xlink:href=\"#DejaVuSans-72\" x=\"170.369141\"/>\n     <use xlink:href=\"#DejaVuSans-65\" x=\"209.232422\"/>\n     <use xlink:href=\"#DejaVuSans-6c\" x=\"270.755859\"/>\n     <use xlink:href=\"#DejaVuSans-61\" x=\"298.539062\"/>\n     <use xlink:href=\"#DejaVuSans-74\" x=\"359.818359\"/>\n     <use xlink:href=\"#DejaVuSans-69\" x=\"399.027344\"/>\n     <use xlink:href=\"#DejaVuSans-6f\" x=\"426.810547\"/>\n     <use xlink:href=\"#DejaVuSans-6e\" x=\"487.992188\"/>\n     <use xlink:href=\"#DejaVuSans-20\" x=\"551.371094\"/>\n     <use xlink:href=\"#DejaVuSans-48\" x=\"583.158203\"/>\n     <use xlink:href=\"#DejaVuSans-65\" x=\"658.353516\"/>\n     <use xlink:href=\"#DejaVuSans-61\" x=\"719.876953\"/>\n     <use xlink:href=\"#DejaVuSans-74\" x=\"781.15625\"/>\n     <use xlink:href=\"#DejaVuSans-6d\" x=\"820.365234\"/>\n     <use xlink:href=\"#DejaVuSans-61\" x=\"917.777344\"/>\n     <use xlink:href=\"#DejaVuSans-70\" x=\"979.056641\"/>\n    </g>\n   </g>\n  </g>\n  <g id=\"axes_2\">\n   <g id=\"patch_3\">\n    <path d=\"M 403.318125 354.958125 \nL 419.950125 354.958125 \nL 419.950125 22.318125 \nL 403.318125 22.318125 \nz\n\" style=\"fill: #ffffff\"/>\n   </g>\n   <image xlink:href=\"data:image/png;base64,\niVBORw0KGgoAAAANSUhEUgAAABcAAAHOCAYAAABzbJLzAAACX0lEQVR4nO2b0W1DMQwDbcNbdYUO3b3SPHcAM58scMDdAIJAkZLzis6v758zSqxW4THG2HP16rc7n7Xi5c5nrz5ZFqwVF1fzohW58QdbkRv/pRUD3M7dLZH2JcJqPqmaly8RVRb3ecLOI9X4k9/n7vOAIYpUfe5AI+0bSu2cqzm4c29owMUVaS+uXnGu5uiBUjvnal6U3IdoxhBFdvFbjtc/0w5Rrbb7PEN+FIFDVCzOlYW7z8E3FBz/YnHyh4VecS9RBHz9uyHiDhTbefNpoeaR8idusCy94nYeMf4R7rsFLAu3c1duot157X+VHGjGziN7Fa3I1Rw90F7x8kCHVrzhuqV65hxoZC9DFPA5F3GfR7RihLu4HGjE+EdcuR+Ka8WA8Y/sZnWu5loxYvwjah5BP0SpsnAHaucJ7uIiy2LnATuP7DmeYnHuJTrYzrlWPD0rcjVXlohWjKA1N0Q36IFiNQdf/+JzbnBl4VrR+Ae6nTd9DpaFuxUHWHNs583fROSBGqIb7j43/hFvaAQcIvDieqiaV0OkFRPGPwLuvPpd0d2S0IoRsuZFnzvQCHegah6p+nyPR1luDFHEEH0ojg3RAYeIqjl3cZ3ucw47UPd5gGtF7uJyn0fc55F9uJo3L9HBbkXuJQJb0fgHuNcffIm4159rRVfuh+JYWbz+Aa4VuZ2TQwQeqJrfcD9DOdCIIYqgNTdEN+CBPm9q57rl34tzZdGKEbDmzcUFlkUrJrhW5GpOtiJ2oFoxoeaRfd7NP3A70ICLK7KfX2rn51W8ocqS0IqRfV7UF1dTc64V/wCVOVmGPQJlpwAAAABJRU5ErkJggg==\" id=\"image8088dc97b4\" transform=\"scale(1 -1) translate(0 -332.64)\" x=\"403.2\" y=\"-22.32\" width=\"16.56\" height=\"332.64\"/>\n   <g id=\"matplotlib.axis_3\"/>\n   <g id=\"matplotlib.axis_4\">\n    <g id=\"ytick_7\">\n     <g id=\"line2d_13\">\n      <defs>\n       <path id=\"me6f55fb8f7\" d=\"M 0 0 \nL 3.5 0 \n\" style=\"stroke: #000000; stroke-width: 0.8\"/>\n      </defs>\n      <g>\n       <use xlink:href=\"#me6f55fb8f7\" x=\"419.950125\" y=\"327.144052\" style=\"stroke: #000000; stroke-width: 0.8\"/>\n      </g>\n     </g>\n     <g id=\"text_50\">\n      <!-- −0.2 -->\n      <g transform=\"translate(426.950125 330.94327) scale(0.1 -0.1)\">\n       <defs>\n        <path id=\"DejaVuSans-2212\" d=\"M 678 2272 \nL 4684 2272 \nL 4684 1741 \nL 678 1741 \nL 678 2272 \nz\n\" transform=\"scale(0.015625)\"/>\n       </defs>\n       <use xlink:href=\"#DejaVuSans-2212\"/>\n       <use xlink:href=\"#DejaVuSans-30\" x=\"83.789062\"/>\n       <use xlink:href=\"#DejaVuSans-2e\" x=\"147.412109\"/>\n       <use xlink:href=\"#DejaVuSans-32\" x=\"179.199219\"/>\n      </g>\n     </g>\n    </g>\n    <g id=\"ytick_8\">\n     <g id=\"line2d_14\">\n      <g>\n       <use xlink:href=\"#me6f55fb8f7\" x=\"419.950125\" y=\"276.339731\" style=\"stroke: #000000; stroke-width: 0.8\"/>\n      </g>\n     </g>\n     <g id=\"text_51\">\n      <!-- 0.0 -->\n      <g transform=\"translate(426.950125 280.138949) scale(0.1 -0.1)\">\n       <use xlink:href=\"#DejaVuSans-30\"/>\n       <use xlink:href=\"#DejaVuSans-2e\" x=\"63.623047\"/>\n       <use xlink:href=\"#DejaVuSans-30\" x=\"95.410156\"/>\n      </g>\n     </g>\n    </g>\n    <g id=\"ytick_9\">\n     <g id=\"line2d_15\">\n      <g>\n       <use xlink:href=\"#me6f55fb8f7\" x=\"419.950125\" y=\"225.535409\" style=\"stroke: #000000; stroke-width: 0.8\"/>\n      </g>\n     </g>\n     <g id=\"text_52\">\n      <!-- 0.2 -->\n      <g transform=\"translate(426.950125 229.334628) scale(0.1 -0.1)\">\n       <use xlink:href=\"#DejaVuSans-30\"/>\n       <use xlink:href=\"#DejaVuSans-2e\" x=\"63.623047\"/>\n       <use xlink:href=\"#DejaVuSans-32\" x=\"95.410156\"/>\n      </g>\n     </g>\n    </g>\n    <g id=\"ytick_10\">\n     <g id=\"line2d_16\">\n      <g>\n       <use xlink:href=\"#me6f55fb8f7\" x=\"419.950125\" y=\"174.731088\" style=\"stroke: #000000; stroke-width: 0.8\"/>\n      </g>\n     </g>\n     <g id=\"text_53\">\n      <!-- 0.4 -->\n      <g transform=\"translate(426.950125 178.530307) scale(0.1 -0.1)\">\n       <use xlink:href=\"#DejaVuSans-30\"/>\n       <use xlink:href=\"#DejaVuSans-2e\" x=\"63.623047\"/>\n       <use xlink:href=\"#DejaVuSans-34\" x=\"95.410156\"/>\n      </g>\n     </g>\n    </g>\n    <g id=\"ytick_11\">\n     <g id=\"line2d_17\">\n      <g>\n       <use xlink:href=\"#me6f55fb8f7\" x=\"419.950125\" y=\"123.926767\" style=\"stroke: #000000; stroke-width: 0.8\"/>\n      </g>\n     </g>\n     <g id=\"text_54\">\n      <!-- 0.6 -->\n      <g transform=\"translate(426.950125 127.725986) scale(0.1 -0.1)\">\n       <use xlink:href=\"#DejaVuSans-30\"/>\n       <use xlink:href=\"#DejaVuSans-2e\" x=\"63.623047\"/>\n       <use xlink:href=\"#DejaVuSans-36\" x=\"95.410156\"/>\n      </g>\n     </g>\n    </g>\n    <g id=\"ytick_12\">\n     <g id=\"line2d_18\">\n      <g>\n       <use xlink:href=\"#me6f55fb8f7\" x=\"419.950125\" y=\"73.122446\" style=\"stroke: #000000; stroke-width: 0.8\"/>\n      </g>\n     </g>\n     <g id=\"text_55\">\n      <!-- 0.8 -->\n      <g transform=\"translate(426.950125 76.921665) scale(0.1 -0.1)\">\n       <use xlink:href=\"#DejaVuSans-30\"/>\n       <use xlink:href=\"#DejaVuSans-2e\" x=\"63.623047\"/>\n       <use xlink:href=\"#DejaVuSans-38\" x=\"95.410156\"/>\n      </g>\n     </g>\n    </g>\n    <g id=\"ytick_13\">\n     <g id=\"line2d_19\">\n      <g>\n       <use xlink:href=\"#me6f55fb8f7\" x=\"419.950125\" y=\"22.318125\" style=\"stroke: #000000; stroke-width: 0.8\"/>\n      </g>\n     </g>\n     <g id=\"text_56\">\n      <!-- 1.0 -->\n      <g transform=\"translate(426.950125 26.117344) scale(0.1 -0.1)\">\n       <use xlink:href=\"#DejaVuSans-31\"/>\n       <use xlink:href=\"#DejaVuSans-2e\" x=\"63.623047\"/>\n       <use xlink:href=\"#DejaVuSans-30\" x=\"95.410156\"/>\n      </g>\n     </g>\n    </g>\n   </g>\n   <g id=\"LineCollection_1\"/>\n   <g id=\"patch_4\">\n    <path d=\"M 403.318125 354.958125 \nL 411.634125 354.958125 \nL 419.950125 354.958125 \nL 419.950125 22.318125 \nL 411.634125 22.318125 \nL 403.318125 22.318125 \nL 403.318125 354.958125 \nz\n\" style=\"fill: none\"/>\n   </g>\n  </g>\n </g>\n <defs>\n  <clipPath id=\"p7595017811\">\n   <rect x=\"23.878125\" y=\"22.318125\" width=\"357.12\" height=\"332.64\"/>\n  </clipPath>\n </defs>\n</svg>\n"
          },
          "metadata": {}
        }
      ],
      "source": [
        "# Построим матрицу корреляций\n",
        "plt.figure(figsize=(8, 6))\n",
        "sns.heatmap(X.corr(), annot=True, cmap='coolwarm', fmt='.2f', linewidths=0.5)\n",
        "plt.title(\"Correlation Heatmap\")\n",
        "plt.show()\n"
      ]
    },
    {
      "cell_type": "code",
      "execution_count": 19,
      "metadata": {
        "id": "dOj-bb-TvKza",
        "colab": {
          "base_uri": "https://localhost:8080/"
        },
        "outputId": "d3d5a6f5-f515-426d-84c7-3e022bdf072b"
      },
      "outputs": [
        {
          "output_type": "execute_result",
          "data": {
            "text/plain": [
              "Index(['gravity', 'ph', 'osmo', 'cond', 'urea', 'calc'], dtype='object')"
            ]
          },
          "metadata": {},
          "execution_count": 19
        }
      ],
      "source": [
        "X.columns"
      ]
    },
    {
      "cell_type": "code",
      "execution_count": 20,
      "metadata": {
        "id": "_PU9p_qgf3eI"
      },
      "outputs": [],
      "source": [
        "# Перекодировка\n",
        "y_bin = y\n",
        "#  (data[\"target\"] == 1).astype(int)"
      ]
    },
    {
      "cell_type": "code",
      "execution_count": 21,
      "metadata": {
        "id": "TWY3vvCTIYI-",
        "colab": {
          "base_uri": "https://localhost:8080/",
          "height": 424
        },
        "outputId": "cf082173-c0cf-4932-93a9-bcd10bfea088"
      },
      "outputs": [
        {
          "output_type": "execute_result",
          "data": {
            "text/plain": [
              "     gravity      ph  osmo     cond  urea    calc\n",
              "0    1.01300 6.19000   443 14.80000   124 1.45000\n",
              "1    1.02500 5.40000   703 23.60000   394 4.18000\n",
              "2    1.00900 6.13000   371 24.50000   159 9.04000\n",
              "3    1.02100 4.91000   442 20.80000   398 6.63000\n",
              "4    1.02100 5.53000   874 17.80000   385 2.21000\n",
              "..       ...     ...   ...      ...   ...     ...\n",
              "409  1.01100 5.21000   527 21.40000    75 1.53000\n",
              "410  1.02400 5.53000   577 19.70000   224 0.77000\n",
              "411  1.01800 6.28000   455 22.20000   270 7.68000\n",
              "412  1.00800 7.12000   325 12.60000    75 1.03000\n",
              "413  1.01100 6.13000   364  9.90000   159 0.27000\n",
              "\n",
              "[414 rows x 6 columns]"
            ],
            "text/html": [
              "\n",
              "  <div id=\"df-4dfe4ea2-a276-4aa8-9dcd-fd1b1a69d777\" class=\"colab-df-container\">\n",
              "    <div>\n",
              "<style scoped>\n",
              "    .dataframe tbody tr th:only-of-type {\n",
              "        vertical-align: middle;\n",
              "    }\n",
              "\n",
              "    .dataframe tbody tr th {\n",
              "        vertical-align: top;\n",
              "    }\n",
              "\n",
              "    .dataframe thead th {\n",
              "        text-align: right;\n",
              "    }\n",
              "</style>\n",
              "<table border=\"1\" class=\"dataframe\">\n",
              "  <thead>\n",
              "    <tr style=\"text-align: right;\">\n",
              "      <th></th>\n",
              "      <th>gravity</th>\n",
              "      <th>ph</th>\n",
              "      <th>osmo</th>\n",
              "      <th>cond</th>\n",
              "      <th>urea</th>\n",
              "      <th>calc</th>\n",
              "    </tr>\n",
              "  </thead>\n",
              "  <tbody>\n",
              "    <tr>\n",
              "      <th>0</th>\n",
              "      <td>1.01300</td>\n",
              "      <td>6.19000</td>\n",
              "      <td>443</td>\n",
              "      <td>14.80000</td>\n",
              "      <td>124</td>\n",
              "      <td>1.45000</td>\n",
              "    </tr>\n",
              "    <tr>\n",
              "      <th>1</th>\n",
              "      <td>1.02500</td>\n",
              "      <td>5.40000</td>\n",
              "      <td>703</td>\n",
              "      <td>23.60000</td>\n",
              "      <td>394</td>\n",
              "      <td>4.18000</td>\n",
              "    </tr>\n",
              "    <tr>\n",
              "      <th>2</th>\n",
              "      <td>1.00900</td>\n",
              "      <td>6.13000</td>\n",
              "      <td>371</td>\n",
              "      <td>24.50000</td>\n",
              "      <td>159</td>\n",
              "      <td>9.04000</td>\n",
              "    </tr>\n",
              "    <tr>\n",
              "      <th>3</th>\n",
              "      <td>1.02100</td>\n",
              "      <td>4.91000</td>\n",
              "      <td>442</td>\n",
              "      <td>20.80000</td>\n",
              "      <td>398</td>\n",
              "      <td>6.63000</td>\n",
              "    </tr>\n",
              "    <tr>\n",
              "      <th>4</th>\n",
              "      <td>1.02100</td>\n",
              "      <td>5.53000</td>\n",
              "      <td>874</td>\n",
              "      <td>17.80000</td>\n",
              "      <td>385</td>\n",
              "      <td>2.21000</td>\n",
              "    </tr>\n",
              "    <tr>\n",
              "      <th>...</th>\n",
              "      <td>...</td>\n",
              "      <td>...</td>\n",
              "      <td>...</td>\n",
              "      <td>...</td>\n",
              "      <td>...</td>\n",
              "      <td>...</td>\n",
              "    </tr>\n",
              "    <tr>\n",
              "      <th>409</th>\n",
              "      <td>1.01100</td>\n",
              "      <td>5.21000</td>\n",
              "      <td>527</td>\n",
              "      <td>21.40000</td>\n",
              "      <td>75</td>\n",
              "      <td>1.53000</td>\n",
              "    </tr>\n",
              "    <tr>\n",
              "      <th>410</th>\n",
              "      <td>1.02400</td>\n",
              "      <td>5.53000</td>\n",
              "      <td>577</td>\n",
              "      <td>19.70000</td>\n",
              "      <td>224</td>\n",
              "      <td>0.77000</td>\n",
              "    </tr>\n",
              "    <tr>\n",
              "      <th>411</th>\n",
              "      <td>1.01800</td>\n",
              "      <td>6.28000</td>\n",
              "      <td>455</td>\n",
              "      <td>22.20000</td>\n",
              "      <td>270</td>\n",
              "      <td>7.68000</td>\n",
              "    </tr>\n",
              "    <tr>\n",
              "      <th>412</th>\n",
              "      <td>1.00800</td>\n",
              "      <td>7.12000</td>\n",
              "      <td>325</td>\n",
              "      <td>12.60000</td>\n",
              "      <td>75</td>\n",
              "      <td>1.03000</td>\n",
              "    </tr>\n",
              "    <tr>\n",
              "      <th>413</th>\n",
              "      <td>1.01100</td>\n",
              "      <td>6.13000</td>\n",
              "      <td>364</td>\n",
              "      <td>9.90000</td>\n",
              "      <td>159</td>\n",
              "      <td>0.27000</td>\n",
              "    </tr>\n",
              "  </tbody>\n",
              "</table>\n",
              "<p>414 rows × 6 columns</p>\n",
              "</div>\n",
              "    <div class=\"colab-df-buttons\">\n",
              "\n",
              "  <div class=\"colab-df-container\">\n",
              "    <button class=\"colab-df-convert\" onclick=\"convertToInteractive('df-4dfe4ea2-a276-4aa8-9dcd-fd1b1a69d777')\"\n",
              "            title=\"Convert this dataframe to an interactive table.\"\n",
              "            style=\"display:none;\">\n",
              "\n",
              "  <svg xmlns=\"http://www.w3.org/2000/svg\" height=\"24px\" viewBox=\"0 -960 960 960\">\n",
              "    <path d=\"M120-120v-720h720v720H120Zm60-500h600v-160H180v160Zm220 220h160v-160H400v160Zm0 220h160v-160H400v160ZM180-400h160v-160H180v160Zm440 0h160v-160H620v160ZM180-180h160v-160H180v160Zm440 0h160v-160H620v160Z\"/>\n",
              "  </svg>\n",
              "    </button>\n",
              "\n",
              "  <style>\n",
              "    .colab-df-container {\n",
              "      display:flex;\n",
              "      gap: 12px;\n",
              "    }\n",
              "\n",
              "    .colab-df-convert {\n",
              "      background-color: #E8F0FE;\n",
              "      border: none;\n",
              "      border-radius: 50%;\n",
              "      cursor: pointer;\n",
              "      display: none;\n",
              "      fill: #1967D2;\n",
              "      height: 32px;\n",
              "      padding: 0 0 0 0;\n",
              "      width: 32px;\n",
              "    }\n",
              "\n",
              "    .colab-df-convert:hover {\n",
              "      background-color: #E2EBFA;\n",
              "      box-shadow: 0px 1px 2px rgba(60, 64, 67, 0.3), 0px 1px 3px 1px rgba(60, 64, 67, 0.15);\n",
              "      fill: #174EA6;\n",
              "    }\n",
              "\n",
              "    .colab-df-buttons div {\n",
              "      margin-bottom: 4px;\n",
              "    }\n",
              "\n",
              "    [theme=dark] .colab-df-convert {\n",
              "      background-color: #3B4455;\n",
              "      fill: #D2E3FC;\n",
              "    }\n",
              "\n",
              "    [theme=dark] .colab-df-convert:hover {\n",
              "      background-color: #434B5C;\n",
              "      box-shadow: 0px 1px 3px 1px rgba(0, 0, 0, 0.15);\n",
              "      filter: drop-shadow(0px 1px 2px rgba(0, 0, 0, 0.3));\n",
              "      fill: #FFFFFF;\n",
              "    }\n",
              "  </style>\n",
              "\n",
              "    <script>\n",
              "      const buttonEl =\n",
              "        document.querySelector('#df-4dfe4ea2-a276-4aa8-9dcd-fd1b1a69d777 button.colab-df-convert');\n",
              "      buttonEl.style.display =\n",
              "        google.colab.kernel.accessAllowed ? 'block' : 'none';\n",
              "\n",
              "      async function convertToInteractive(key) {\n",
              "        const element = document.querySelector('#df-4dfe4ea2-a276-4aa8-9dcd-fd1b1a69d777');\n",
              "        const dataTable =\n",
              "          await google.colab.kernel.invokeFunction('convertToInteractive',\n",
              "                                                    [key], {});\n",
              "        if (!dataTable) return;\n",
              "\n",
              "        const docLinkHtml = 'Like what you see? Visit the ' +\n",
              "          '<a target=\"_blank\" href=https://colab.research.google.com/notebooks/data_table.ipynb>data table notebook</a>'\n",
              "          + ' to learn more about interactive tables.';\n",
              "        element.innerHTML = '';\n",
              "        dataTable['output_type'] = 'display_data';\n",
              "        await google.colab.output.renderOutput(dataTable, element);\n",
              "        const docLink = document.createElement('div');\n",
              "        docLink.innerHTML = docLinkHtml;\n",
              "        element.appendChild(docLink);\n",
              "      }\n",
              "    </script>\n",
              "  </div>\n",
              "\n",
              "\n",
              "<div id=\"df-9e9e439a-4e31-4261-8441-776754e07b0e\">\n",
              "  <button class=\"colab-df-quickchart\" onclick=\"quickchart('df-9e9e439a-4e31-4261-8441-776754e07b0e')\"\n",
              "            title=\"Suggest charts\"\n",
              "            style=\"display:none;\">\n",
              "\n",
              "<svg xmlns=\"http://www.w3.org/2000/svg\" height=\"24px\"viewBox=\"0 0 24 24\"\n",
              "     width=\"24px\">\n",
              "    <g>\n",
              "        <path d=\"M19 3H5c-1.1 0-2 .9-2 2v14c0 1.1.9 2 2 2h14c1.1 0 2-.9 2-2V5c0-1.1-.9-2-2-2zM9 17H7v-7h2v7zm4 0h-2V7h2v10zm4 0h-2v-4h2v4z\"/>\n",
              "    </g>\n",
              "</svg>\n",
              "  </button>\n",
              "\n",
              "<style>\n",
              "  .colab-df-quickchart {\n",
              "      --bg-color: #E8F0FE;\n",
              "      --fill-color: #1967D2;\n",
              "      --hover-bg-color: #E2EBFA;\n",
              "      --hover-fill-color: #174EA6;\n",
              "      --disabled-fill-color: #AAA;\n",
              "      --disabled-bg-color: #DDD;\n",
              "  }\n",
              "\n",
              "  [theme=dark] .colab-df-quickchart {\n",
              "      --bg-color: #3B4455;\n",
              "      --fill-color: #D2E3FC;\n",
              "      --hover-bg-color: #434B5C;\n",
              "      --hover-fill-color: #FFFFFF;\n",
              "      --disabled-bg-color: #3B4455;\n",
              "      --disabled-fill-color: #666;\n",
              "  }\n",
              "\n",
              "  .colab-df-quickchart {\n",
              "    background-color: var(--bg-color);\n",
              "    border: none;\n",
              "    border-radius: 50%;\n",
              "    cursor: pointer;\n",
              "    display: none;\n",
              "    fill: var(--fill-color);\n",
              "    height: 32px;\n",
              "    padding: 0;\n",
              "    width: 32px;\n",
              "  }\n",
              "\n",
              "  .colab-df-quickchart:hover {\n",
              "    background-color: var(--hover-bg-color);\n",
              "    box-shadow: 0 1px 2px rgba(60, 64, 67, 0.3), 0 1px 3px 1px rgba(60, 64, 67, 0.15);\n",
              "    fill: var(--button-hover-fill-color);\n",
              "  }\n",
              "\n",
              "  .colab-df-quickchart-complete:disabled,\n",
              "  .colab-df-quickchart-complete:disabled:hover {\n",
              "    background-color: var(--disabled-bg-color);\n",
              "    fill: var(--disabled-fill-color);\n",
              "    box-shadow: none;\n",
              "  }\n",
              "\n",
              "  .colab-df-spinner {\n",
              "    border: 2px solid var(--fill-color);\n",
              "    border-color: transparent;\n",
              "    border-bottom-color: var(--fill-color);\n",
              "    animation:\n",
              "      spin 1s steps(1) infinite;\n",
              "  }\n",
              "\n",
              "  @keyframes spin {\n",
              "    0% {\n",
              "      border-color: transparent;\n",
              "      border-bottom-color: var(--fill-color);\n",
              "      border-left-color: var(--fill-color);\n",
              "    }\n",
              "    20% {\n",
              "      border-color: transparent;\n",
              "      border-left-color: var(--fill-color);\n",
              "      border-top-color: var(--fill-color);\n",
              "    }\n",
              "    30% {\n",
              "      border-color: transparent;\n",
              "      border-left-color: var(--fill-color);\n",
              "      border-top-color: var(--fill-color);\n",
              "      border-right-color: var(--fill-color);\n",
              "    }\n",
              "    40% {\n",
              "      border-color: transparent;\n",
              "      border-right-color: var(--fill-color);\n",
              "      border-top-color: var(--fill-color);\n",
              "    }\n",
              "    60% {\n",
              "      border-color: transparent;\n",
              "      border-right-color: var(--fill-color);\n",
              "    }\n",
              "    80% {\n",
              "      border-color: transparent;\n",
              "      border-right-color: var(--fill-color);\n",
              "      border-bottom-color: var(--fill-color);\n",
              "    }\n",
              "    90% {\n",
              "      border-color: transparent;\n",
              "      border-bottom-color: var(--fill-color);\n",
              "    }\n",
              "  }\n",
              "</style>\n",
              "\n",
              "  <script>\n",
              "    async function quickchart(key) {\n",
              "      const quickchartButtonEl =\n",
              "        document.querySelector('#' + key + ' button');\n",
              "      quickchartButtonEl.disabled = true;  // To prevent multiple clicks.\n",
              "      quickchartButtonEl.classList.add('colab-df-spinner');\n",
              "      try {\n",
              "        const charts = await google.colab.kernel.invokeFunction(\n",
              "            'suggestCharts', [key], {});\n",
              "      } catch (error) {\n",
              "        console.error('Error during call to suggestCharts:', error);\n",
              "      }\n",
              "      quickchartButtonEl.classList.remove('colab-df-spinner');\n",
              "      quickchartButtonEl.classList.add('colab-df-quickchart-complete');\n",
              "    }\n",
              "    (() => {\n",
              "      let quickchartButtonEl =\n",
              "        document.querySelector('#df-9e9e439a-4e31-4261-8441-776754e07b0e button');\n",
              "      quickchartButtonEl.style.display =\n",
              "        google.colab.kernel.accessAllowed ? 'block' : 'none';\n",
              "    })();\n",
              "  </script>\n",
              "</div>\n",
              "    </div>\n",
              "  </div>\n"
            ],
            "application/vnd.google.colaboratory.intrinsic+json": {
              "type": "dataframe",
              "variable_name": "X",
              "summary": "{\n  \"name\": \"X\",\n  \"rows\": 414,\n  \"fields\": [\n    {\n      \"column\": \"gravity\",\n      \"properties\": {\n        \"dtype\": \"number\",\n        \"std\": 0.006674972893361655,\n        \"min\": 1.005,\n        \"max\": 1.04,\n        \"num_unique_values\": 28,\n        \"samples\": [\n          1.01,\n          1.04,\n          1.011\n        ],\n        \"semantic_type\": \"\",\n        \"description\": \"\"\n      }\n    },\n    {\n      \"column\": \"ph\",\n      \"properties\": {\n        \"dtype\": \"number\",\n        \"std\": 0.6422600508252361,\n        \"min\": 4.76,\n        \"max\": 7.94,\n        \"num_unique_values\": 71,\n        \"samples\": [\n          5.58,\n          6.19,\n          5.67\n        ],\n        \"semantic_type\": \"\",\n        \"description\": \"\"\n      }\n    },\n    {\n      \"column\": \"osmo\",\n      \"properties\": {\n        \"dtype\": \"number\",\n        \"std\": 234,\n        \"min\": 187,\n        \"max\": 1236,\n        \"num_unique_values\": 80,\n        \"samples\": [\n          907,\n          443,\n          341\n        ],\n        \"semantic_type\": \"\",\n        \"description\": \"\"\n      }\n    },\n    {\n      \"column\": \"cond\",\n      \"properties\": {\n        \"dtype\": \"number\",\n        \"std\": 7.514749759990025,\n        \"min\": 5.1,\n        \"max\": 38.0,\n        \"num_unique_values\": 65,\n        \"samples\": [\n          14.6,\n          27.5,\n          14.8\n        ],\n        \"semantic_type\": \"\",\n        \"description\": \"\"\n      }\n    },\n    {\n      \"column\": \"urea\",\n      \"properties\": {\n        \"dtype\": \"number\",\n        \"std\": 136,\n        \"min\": 10,\n        \"max\": 620,\n        \"num_unique_values\": 73,\n        \"samples\": [\n          385,\n          325,\n          457\n        ],\n        \"semantic_type\": \"\",\n        \"description\": \"\"\n      }\n    },\n    {\n      \"column\": \"calc\",\n      \"properties\": {\n        \"dtype\": \"number\",\n        \"std\": 3.2176405021529133,\n        \"min\": 0.17,\n        \"max\": 14.34,\n        \"num_unique_values\": 85,\n        \"samples\": [\n          1.58,\n          1.45,\n          8.53\n        ],\n        \"semantic_type\": \"\",\n        \"description\": \"\"\n      }\n    }\n  ]\n}"
            }
          },
          "metadata": {},
          "execution_count": 21
        }
      ],
      "source": [
        "X"
      ]
    },
    {
      "cell_type": "code",
      "execution_count": 22,
      "metadata": {
        "id": "rZVaSiKWRrf9"
      },
      "outputs": [],
      "source": [
        "np.random.seed(123)\n",
        "X_train, X_test, y_train, y_test = train_test_split(X, y_bin, train_size=0.6, stratify=y_bin)\n",
        "\n",
        "\n"
      ]
    },
    {
      "cell_type": "code",
      "source": [
        "# Нормировка признаков\n",
        "ss = StandardScaler() # (x-m)/sigma\n",
        "\n",
        "X_train = ss.fit_transform(X_train)\n",
        "\n",
        "X_test = ss.transform(X_test)"
      ],
      "metadata": {
        "id": "y7bDv_qpZY9T"
      },
      "execution_count": 23,
      "outputs": []
    },
    {
      "cell_type": "code",
      "execution_count": 24,
      "metadata": {
        "id": "wfmBCZEDlPpA",
        "colab": {
          "base_uri": "https://localhost:8080/",
          "height": 417
        },
        "outputId": "06818372-5998-4a4c-e242-f07a5f4e2f29"
      },
      "outputs": [
        {
          "output_type": "display_data",
          "data": {
            "text/plain": [
              "<Figure size 640x480 with 1 Axes>"
            ],
            "image/svg+xml": "<?xml version=\"1.0\" encoding=\"utf-8\" standalone=\"no\"?>\n<!DOCTYPE svg PUBLIC \"-//W3C//DTD SVG 1.1//EN\"\n  \"http://www.w3.org/Graphics/SVG/1.1/DTD/svg11.dtd\">\n<svg xmlns:xlink=\"http://www.w3.org/1999/xlink\" width=\"393.262187pt\" height=\"297.190125pt\" viewBox=\"0 0 393.262187 297.190125\" xmlns=\"http://www.w3.org/2000/svg\" version=\"1.1\">\n <metadata>\n  <rdf:RDF xmlns:dc=\"http://purl.org/dc/elements/1.1/\" xmlns:cc=\"http://creativecommons.org/ns#\" xmlns:rdf=\"http://www.w3.org/1999/02/22-rdf-syntax-ns#\">\n   <cc:Work>\n    <dc:type rdf:resource=\"http://purl.org/dc/dcmitype/StillImage\"/>\n    <dc:date>2024-07-05T15:52:02.438022</dc:date>\n    <dc:format>image/svg+xml</dc:format>\n    <dc:creator>\n     <cc:Agent>\n      <dc:title>Matplotlib v3.7.1, https://matplotlib.org/</dc:title>\n     </cc:Agent>\n    </dc:creator>\n   </cc:Work>\n  </rdf:RDF>\n </metadata>\n <defs>\n  <style type=\"text/css\">*{stroke-linejoin: round; stroke-linecap: butt}</style>\n </defs>\n <g id=\"figure_1\">\n  <g id=\"patch_1\">\n   <path d=\"M 0 297.190125 \nL 393.262187 297.190125 \nL 393.262187 0 \nL 0 0 \nz\n\" style=\"fill: #ffffff\"/>\n  </g>\n  <g id=\"axes_1\">\n   <g id=\"patch_2\">\n    <path d=\"M 28.942188 273.312 \nL 386.062188 273.312 \nL 386.062188 7.2 \nL 28.942188 7.2 \nz\n\" style=\"fill: #ffffff\"/>\n   </g>\n   <g id=\"PathCollection_1\">\n    <defs>\n     <path id=\"C0_0_758ad424d2\" d=\"M 0 3 \nC 0.795609 3 1.55874 2.683901 2.12132 2.12132 \nC 2.683901 1.55874 3 0.795609 3 -0 \nC 3 -0.795609 2.683901 -1.55874 2.12132 -2.12132 \nC 1.55874 -2.683901 0.795609 -3 0 -3 \nC -0.795609 -3 -1.55874 -2.683901 -2.12132 -2.12132 \nC -2.683901 -1.55874 -3 -0.795609 -3 0 \nC -3 0.795609 -2.683901 1.55874 -2.12132 2.12132 \nC -1.55874 2.683901 -0.795609 3 0 3 \nz\n\"/>\n    </defs>\n    <g clip-path=\"url(#p9a665b5f49)\">\n     <use xlink:href=\"#C0_0_758ad424d2\" x=\"150.210209\" y=\"43.028658\" style=\"fill: #440154; stroke: #440154\"/>\n    </g>\n    <g clip-path=\"url(#p9a665b5f49)\">\n     <use xlink:href=\"#C0_0_758ad424d2\" x=\"150.210209\" y=\"43.028658\" style=\"fill: #440154; stroke: #440154\"/>\n    </g>\n    <g clip-path=\"url(#p9a665b5f49)\">\n     <use xlink:href=\"#C0_0_758ad424d2\" x=\"102.466893\" y=\"195.377013\" style=\"fill: #440154; stroke: #440154\"/>\n    </g>\n    <g clip-path=\"url(#p9a665b5f49)\">\n     <use xlink:href=\"#C0_0_758ad424d2\" x=\"226.599514\" y=\"108.867646\" style=\"fill: #440154; stroke: #440154\"/>\n    </g>\n    <g clip-path=\"url(#p9a665b5f49)\">\n     <use xlink:href=\"#C0_0_758ad424d2\" x=\"159.758872\" y=\"177.768911\" style=\"fill: #440154; stroke: #440154\"/>\n    </g>\n    <g clip-path=\"url(#p9a665b5f49)\">\n     <use xlink:href=\"#C0_0_758ad424d2\" x=\"197.953524\" y=\"19.296\" style=\"fill: #440154; stroke: #440154\"/>\n    </g>\n    <g clip-path=\"url(#p9a665b5f49)\">\n     <use xlink:href=\"#C0_0_758ad424d2\" x=\"112.015556\" y=\"170.878785\" style=\"fill: #440154; stroke: #440154\"/>\n    </g>\n    <g clip-path=\"url(#p9a665b5f49)\">\n     <use xlink:href=\"#C0_0_758ad424d2\" x=\"255.245503\" y=\"108.102076\" style=\"fill: #fde725; stroke: #fde725\"/>\n    </g>\n    <g clip-path=\"url(#p9a665b5f49)\">\n     <use xlink:href=\"#C0_0_758ad424d2\" x=\"188.404861\" y=\"202.267139\" style=\"fill: #fde725; stroke: #fde725\"/>\n    </g>\n    <g clip-path=\"url(#p9a665b5f49)\">\n     <use xlink:href=\"#C0_0_758ad424d2\" x=\"207.502187\" y=\"195.377013\" style=\"fill: #fde725; stroke: #fde725\"/>\n    </g>\n    <g clip-path=\"url(#p9a665b5f49)\">\n     <use xlink:href=\"#C0_0_758ad424d2\" x=\"54.723578\" y=\"88.962835\" style=\"fill: #440154; stroke: #440154\"/>\n    </g>\n    <g clip-path=\"url(#p9a665b5f49)\">\n     <use xlink:href=\"#C0_0_758ad424d2\" x=\"64.272241\" y=\"144.849418\" style=\"fill: #440154; stroke: #440154\"/>\n    </g>\n    <g clip-path=\"url(#p9a665b5f49)\">\n     <use xlink:href=\"#C0_0_758ad424d2\" x=\"255.245503\" y=\"198.439291\" style=\"fill: #fde725; stroke: #fde725\"/>\n    </g>\n    <g clip-path=\"url(#p9a665b5f49)\">\n     <use xlink:href=\"#C0_0_758ad424d2\" x=\"150.210209\" y=\"186.190177\" style=\"fill: #440154; stroke: #440154\"/>\n    </g>\n    <g clip-path=\"url(#p9a665b5f49)\">\n     <use xlink:href=\"#C0_0_758ad424d2\" x=\"92.91823\" y=\"203.798278\" style=\"fill: #440154; stroke: #440154\"/>\n    </g>\n    <g clip-path=\"url(#p9a665b5f49)\">\n     <use xlink:href=\"#C0_0_758ad424d2\" x=\"92.91823\" y=\"104.274228\" style=\"fill: #fde725; stroke: #fde725\"/>\n    </g>\n    <g clip-path=\"url(#p9a665b5f49)\">\n     <use xlink:href=\"#C0_0_758ad424d2\" x=\"178.856198\" y=\"163.988658\" style=\"fill: #440154; stroke: #440154\"/>\n    </g>\n    <g clip-path=\"url(#p9a665b5f49)\">\n     <use xlink:href=\"#C0_0_758ad424d2\" x=\"302.988819\" y=\"202.267139\" style=\"fill: #440154; stroke: #440154\"/>\n    </g>\n    <g clip-path=\"url(#p9a665b5f49)\">\n     <use xlink:href=\"#C0_0_758ad424d2\" x=\"312.537482\" y=\"186.955747\" style=\"fill: #fde725; stroke: #fde725\"/>\n    </g>\n    <g clip-path=\"url(#p9a665b5f49)\">\n     <use xlink:href=\"#C0_0_758ad424d2\" x=\"150.210209\" y=\"105.805367\" style=\"fill: #fde725; stroke: #fde725\"/>\n    </g>\n    <g clip-path=\"url(#p9a665b5f49)\">\n     <use xlink:href=\"#C0_0_758ad424d2\" x=\"169.307535\" y=\"105.805367\" style=\"fill: #440154; stroke: #440154\"/>\n    </g>\n    <g clip-path=\"url(#p9a665b5f49)\">\n     <use xlink:href=\"#C0_0_758ad424d2\" x=\"45.174915\" y=\"202.267139\" style=\"fill: #440154; stroke: #440154\"/>\n    </g>\n    <g clip-path=\"url(#p9a665b5f49)\">\n     <use xlink:href=\"#C0_0_758ad424d2\" x=\"73.820904\" y=\"118.054481\" style=\"fill: #440154; stroke: #440154\"/>\n    </g>\n    <g clip-path=\"url(#p9a665b5f49)\">\n     <use xlink:href=\"#C0_0_758ad424d2\" x=\"150.210209\" y=\"74.417013\" style=\"fill: #440154; stroke: #440154\"/>\n    </g>\n    <g clip-path=\"url(#p9a665b5f49)\">\n     <use xlink:href=\"#C0_0_758ad424d2\" x=\"188.404861\" y=\"170.878785\" style=\"fill: #fde725; stroke: #fde725\"/>\n    </g>\n    <g clip-path=\"url(#p9a665b5f49)\">\n     <use xlink:href=\"#C0_0_758ad424d2\" x=\"159.758872\" y=\"188.486886\" style=\"fill: #440154; stroke: #440154\"/>\n    </g>\n    <g clip-path=\"url(#p9a665b5f49)\">\n     <use xlink:href=\"#C0_0_758ad424d2\" x=\"236.148177\" y=\"144.083848\" style=\"fill: #fde725; stroke: #fde725\"/>\n    </g>\n    <g clip-path=\"url(#p9a665b5f49)\">\n     <use xlink:href=\"#C0_0_758ad424d2\" x=\"102.466893\" y=\"104.274228\" style=\"fill: #fde725; stroke: #fde725\"/>\n    </g>\n    <g clip-path=\"url(#p9a665b5f49)\">\n     <use xlink:href=\"#C0_0_758ad424d2\" x=\"131.112883\" y=\"216.047392\" style=\"fill: #440154; stroke: #440154\"/>\n    </g>\n    <g clip-path=\"url(#p9a665b5f49)\">\n     <use xlink:href=\"#C0_0_758ad424d2\" x=\"92.91823\" y=\"118.054481\" style=\"fill: #fde725; stroke: #fde725\"/>\n    </g>\n    <g clip-path=\"url(#p9a665b5f49)\">\n     <use xlink:href=\"#C0_0_758ad424d2\" x=\"236.148177\" y=\"192.314734\" style=\"fill: #fde725; stroke: #fde725\"/>\n    </g>\n    <g clip-path=\"url(#p9a665b5f49)\">\n     <use xlink:href=\"#C0_0_758ad424d2\" x=\"73.820904\" y=\"211.453975\" style=\"fill: #440154; stroke: #440154\"/>\n    </g>\n    <g clip-path=\"url(#p9a665b5f49)\">\n     <use xlink:href=\"#C0_0_758ad424d2\" x=\"150.210209\" y=\"108.102076\" style=\"fill: #440154; stroke: #440154\"/>\n    </g>\n    <g clip-path=\"url(#p9a665b5f49)\">\n     <use xlink:href=\"#C0_0_758ad424d2\" x=\"150.210209\" y=\"188.486886\" style=\"fill: #440154; stroke: #440154\"/>\n    </g>\n    <g clip-path=\"url(#p9a665b5f49)\">\n     <use xlink:href=\"#C0_0_758ad424d2\" x=\"121.56422\" y=\"155.567392\" style=\"fill: #440154; stroke: #440154\"/>\n    </g>\n    <g clip-path=\"url(#p9a665b5f49)\">\n     <use xlink:href=\"#C0_0_758ad424d2\" x=\"226.599514\" y=\"199.97043\" style=\"fill: #440154; stroke: #440154\"/>\n    </g>\n    <g clip-path=\"url(#p9a665b5f49)\">\n     <use xlink:href=\"#C0_0_758ad424d2\" x=\"226.599514\" y=\"143.318278\" style=\"fill: #440154; stroke: #440154\"/>\n    </g>\n    <g clip-path=\"url(#p9a665b5f49)\">\n     <use xlink:href=\"#C0_0_758ad424d2\" x=\"217.050851\" y=\"224.468658\" style=\"fill: #440154; stroke: #440154\"/>\n    </g>\n    <g clip-path=\"url(#p9a665b5f49)\">\n     <use xlink:href=\"#C0_0_758ad424d2\" x=\"54.723578\" y=\"176.237772\" style=\"fill: #440154; stroke: #440154\"/>\n    </g>\n    <g clip-path=\"url(#p9a665b5f49)\">\n     <use xlink:href=\"#C0_0_758ad424d2\" x=\"188.404861\" y=\"230.593215\" style=\"fill: #fde725; stroke: #fde725\"/>\n    </g>\n    <g clip-path=\"url(#p9a665b5f49)\">\n     <use xlink:href=\"#C0_0_758ad424d2\" x=\"188.404861\" y=\"202.267139\" style=\"fill: #440154; stroke: #440154\"/>\n    </g>\n    <g clip-path=\"url(#p9a665b5f49)\">\n     <use xlink:href=\"#C0_0_758ad424d2\" x=\"150.210209\" y=\"156.332962\" style=\"fill: #440154; stroke: #440154\"/>\n    </g>\n    <g clip-path=\"url(#p9a665b5f49)\">\n     <use xlink:href=\"#C0_0_758ad424d2\" x=\"131.112883\" y=\"211.453975\" style=\"fill: #440154; stroke: #440154\"/>\n    </g>\n    <g clip-path=\"url(#p9a665b5f49)\">\n     <use xlink:href=\"#C0_0_758ad424d2\" x=\"64.272241\" y=\"105.805367\" style=\"fill: #440154; stroke: #440154\"/>\n    </g>\n    <g clip-path=\"url(#p9a665b5f49)\">\n     <use xlink:href=\"#C0_0_758ad424d2\" x=\"159.758872\" y=\"209.157266\" style=\"fill: #fde725; stroke: #fde725\"/>\n    </g>\n    <g clip-path=\"url(#p9a665b5f49)\">\n     <use xlink:href=\"#C0_0_758ad424d2\" x=\"92.91823\" y=\"88.962835\" style=\"fill: #fde725; stroke: #fde725\"/>\n    </g>\n    <g clip-path=\"url(#p9a665b5f49)\">\n     <use xlink:href=\"#C0_0_758ad424d2\" x=\"217.050851\" y=\"186.190177\" style=\"fill: #fde725; stroke: #fde725\"/>\n    </g>\n    <g clip-path=\"url(#p9a665b5f49)\">\n     <use xlink:href=\"#C0_0_758ad424d2\" x=\"83.369567\" y=\"126.475747\" style=\"fill: #440154; stroke: #440154\"/>\n    </g>\n    <g clip-path=\"url(#p9a665b5f49)\">\n     <use xlink:href=\"#C0_0_758ad424d2\" x=\"83.369567\" y=\"167.816506\" style=\"fill: #440154; stroke: #440154\"/>\n    </g>\n    <g clip-path=\"url(#p9a665b5f49)\">\n     <use xlink:href=\"#C0_0_758ad424d2\" x=\"121.56422\" y=\"167.816506\" style=\"fill: #fde725; stroke: #fde725\"/>\n    </g>\n    <g clip-path=\"url(#p9a665b5f49)\">\n     <use xlink:href=\"#C0_0_758ad424d2\" x=\"226.599514\" y=\"105.805367\" style=\"fill: #fde725; stroke: #fde725\"/>\n    </g>\n    <g clip-path=\"url(#p9a665b5f49)\">\n     <use xlink:href=\"#C0_0_758ad424d2\" x=\"150.210209\" y=\"249.732456\" style=\"fill: #fde725; stroke: #fde725\"/>\n    </g>\n    <g clip-path=\"url(#p9a665b5f49)\">\n     <use xlink:href=\"#C0_0_758ad424d2\" x=\"178.856198\" y=\"190.783595\" style=\"fill: #440154; stroke: #440154\"/>\n    </g>\n    <g clip-path=\"url(#p9a665b5f49)\">\n     <use xlink:href=\"#C0_0_758ad424d2\" x=\"226.599514\" y=\"163.988658\" style=\"fill: #fde725; stroke: #fde725\"/>\n    </g>\n    <g clip-path=\"url(#p9a665b5f49)\">\n     <use xlink:href=\"#C0_0_758ad424d2\" x=\"102.466893\" y=\"60.636759\" style=\"fill: #440154; stroke: #440154\"/>\n    </g>\n    <g clip-path=\"url(#p9a665b5f49)\">\n     <use xlink:href=\"#C0_0_758ad424d2\" x=\"217.050851\" y=\"190.783595\" style=\"fill: #fde725; stroke: #fde725\"/>\n    </g>\n    <g clip-path=\"url(#p9a665b5f49)\">\n     <use xlink:href=\"#C0_0_758ad424d2\" x=\"83.369567\" y=\"60.636759\" style=\"fill: #440154; stroke: #440154\"/>\n    </g>\n    <g clip-path=\"url(#p9a665b5f49)\">\n     <use xlink:href=\"#C0_0_758ad424d2\" x=\"150.210209\" y=\"188.486886\" style=\"fill: #440154; stroke: #440154\"/>\n    </g>\n    <g clip-path=\"url(#p9a665b5f49)\">\n     <use xlink:href=\"#C0_0_758ad424d2\" x=\"150.210209\" y=\"105.805367\" style=\"fill: #fde725; stroke: #fde725\"/>\n    </g>\n    <g clip-path=\"url(#p9a665b5f49)\">\n     <use xlink:href=\"#C0_0_758ad424d2\" x=\"312.537482\" y=\"198.439291\" style=\"fill: #440154; stroke: #440154\"/>\n    </g>\n    <g clip-path=\"url(#p9a665b5f49)\">\n     <use xlink:href=\"#C0_0_758ad424d2\" x=\"226.599514\" y=\"151.739544\" style=\"fill: #fde725; stroke: #fde725\"/>\n    </g>\n    <g clip-path=\"url(#p9a665b5f49)\">\n     <use xlink:href=\"#C0_0_758ad424d2\" x=\"83.369567\" y=\"43.028658\" style=\"fill: #440154; stroke: #440154\"/>\n    </g>\n    <g clip-path=\"url(#p9a665b5f49)\">\n     <use xlink:href=\"#C0_0_758ad424d2\" x=\"226.599514\" y=\"190.783595\" style=\"fill: #fde725; stroke: #fde725\"/>\n    </g>\n    <g clip-path=\"url(#p9a665b5f49)\">\n     <use xlink:href=\"#C0_0_758ad424d2\" x=\"178.856198\" y=\"177.003342\" style=\"fill: #440154; stroke: #440154\"/>\n    </g>\n    <g clip-path=\"url(#p9a665b5f49)\">\n     <use xlink:href=\"#C0_0_758ad424d2\" x=\"217.050851\" y=\"215.281823\" style=\"fill: #fde725; stroke: #fde725\"/>\n    </g>\n    <g clip-path=\"url(#p9a665b5f49)\">\n     <use xlink:href=\"#C0_0_758ad424d2\" x=\"150.210209\" y=\"104.274228\" style=\"fill: #440154; stroke: #440154\"/>\n    </g>\n    <g clip-path=\"url(#p9a665b5f49)\">\n     <use xlink:href=\"#C0_0_758ad424d2\" x=\"188.404861\" y=\"217.578532\" style=\"fill: #440154; stroke: #440154\"/>\n    </g>\n    <g clip-path=\"url(#p9a665b5f49)\">\n     <use xlink:href=\"#C0_0_758ad424d2\" x=\"64.272241\" y=\"118.054481\" style=\"fill: #440154; stroke: #440154\"/>\n    </g>\n    <g clip-path=\"url(#p9a665b5f49)\">\n     <use xlink:href=\"#C0_0_758ad424d2\" x=\"188.404861\" y=\"203.798278\" style=\"fill: #fde725; stroke: #fde725\"/>\n    </g>\n    <g clip-path=\"url(#p9a665b5f49)\">\n     <use xlink:href=\"#C0_0_758ad424d2\" x=\"73.820904\" y=\"177.003342\" style=\"fill: #440154; stroke: #440154\"/>\n    </g>\n    <g clip-path=\"url(#p9a665b5f49)\">\n     <use xlink:href=\"#C0_0_758ad424d2\" x=\"236.148177\" y=\"151.739544\" style=\"fill: #fde725; stroke: #fde725\"/>\n    </g>\n    <g clip-path=\"url(#p9a665b5f49)\">\n     <use xlink:href=\"#C0_0_758ad424d2\" x=\"226.599514\" y=\"191.549165\" style=\"fill: #fde725; stroke: #fde725\"/>\n    </g>\n    <g clip-path=\"url(#p9a665b5f49)\">\n     <use xlink:href=\"#C0_0_758ad424d2\" x=\"54.723578\" y=\"176.237772\" style=\"fill: #440154; stroke: #440154\"/>\n    </g>\n    <g clip-path=\"url(#p9a665b5f49)\">\n     <use xlink:href=\"#C0_0_758ad424d2\" x=\"178.856198\" y=\"222.171949\" style=\"fill: #fde725; stroke: #fde725\"/>\n    </g>\n    <g clip-path=\"url(#p9a665b5f49)\">\n     <use xlink:href=\"#C0_0_758ad424d2\" x=\"226.599514\" y=\"217.578532\" style=\"fill: #440154; stroke: #440154\"/>\n    </g>\n    <g clip-path=\"url(#p9a665b5f49)\">\n     <use xlink:href=\"#C0_0_758ad424d2\" x=\"150.210209\" y=\"170.878785\" style=\"fill: #fde725; stroke: #fde725\"/>\n    </g>\n    <g clip-path=\"url(#p9a665b5f49)\">\n     <use xlink:href=\"#C0_0_758ad424d2\" x=\"131.112883\" y=\"105.805367\" style=\"fill: #fde725; stroke: #fde725\"/>\n    </g>\n    <g clip-path=\"url(#p9a665b5f49)\">\n     <use xlink:href=\"#C0_0_758ad424d2\" x=\"197.953524\" y=\"144.083848\" style=\"fill: #fde725; stroke: #fde725\"/>\n    </g>\n    <g clip-path=\"url(#p9a665b5f49)\">\n     <use xlink:href=\"#C0_0_758ad424d2\" x=\"92.91823\" y=\"209.157266\" style=\"fill: #440154; stroke: #440154\"/>\n    </g>\n    <g clip-path=\"url(#p9a665b5f49)\">\n     <use xlink:href=\"#C0_0_758ad424d2\" x=\"73.820904\" y=\"74.417013\" style=\"fill: #440154; stroke: #440154\"/>\n    </g>\n    <g clip-path=\"url(#p9a665b5f49)\">\n     <use xlink:href=\"#C0_0_758ad424d2\" x=\"169.307535\" y=\"202.267139\" style=\"fill: #fde725; stroke: #fde725\"/>\n    </g>\n    <g clip-path=\"url(#p9a665b5f49)\">\n     <use xlink:href=\"#C0_0_758ad424d2\" x=\"159.758872\" y=\"216.047392\" style=\"fill: #fde725; stroke: #fde725\"/>\n    </g>\n    <g clip-path=\"url(#p9a665b5f49)\">\n     <use xlink:href=\"#C0_0_758ad424d2\" x=\"226.599514\" y=\"224.468658\" style=\"fill: #fde725; stroke: #fde725\"/>\n    </g>\n    <g clip-path=\"url(#p9a665b5f49)\">\n     <use xlink:href=\"#C0_0_758ad424d2\" x=\"64.272241\" y=\"98.915241\" style=\"fill: #440154; stroke: #440154\"/>\n    </g>\n    <g clip-path=\"url(#p9a665b5f49)\">\n     <use xlink:href=\"#C0_0_758ad424d2\" x=\"226.599514\" y=\"202.267139\" style=\"fill: #fde725; stroke: #fde725\"/>\n    </g>\n    <g clip-path=\"url(#p9a665b5f49)\">\n     <use xlink:href=\"#C0_0_758ad424d2\" x=\"217.050851\" y=\"235.952203\" style=\"fill: #fde725; stroke: #fde725\"/>\n    </g>\n    <g clip-path=\"url(#p9a665b5f49)\">\n     <use xlink:href=\"#C0_0_758ad424d2\" x=\"64.272241\" y=\"168.582076\" style=\"fill: #440154; stroke: #440154\"/>\n    </g>\n    <g clip-path=\"url(#p9a665b5f49)\">\n     <use xlink:href=\"#C0_0_758ad424d2\" x=\"207.502187\" y=\"193.845873\" style=\"fill: #fde725; stroke: #fde725\"/>\n    </g>\n    <g clip-path=\"url(#p9a665b5f49)\">\n     <use xlink:href=\"#C0_0_758ad424d2\" x=\"178.856198\" y=\"177.768911\" style=\"fill: #fde725; stroke: #fde725\"/>\n    </g>\n    <g clip-path=\"url(#p9a665b5f49)\">\n     <use xlink:href=\"#C0_0_758ad424d2\" x=\"226.599514\" y=\"60.636759\" style=\"fill: #440154; stroke: #440154\"/>\n    </g>\n    <g clip-path=\"url(#p9a665b5f49)\">\n     <use xlink:href=\"#C0_0_758ad424d2\" x=\"188.404861\" y=\"235.952203\" style=\"fill: #fde725; stroke: #fde725\"/>\n    </g>\n    <g clip-path=\"url(#p9a665b5f49)\">\n     <use xlink:href=\"#C0_0_758ad424d2\" x=\"92.91823\" y=\"230.593215\" style=\"fill: #fde725; stroke: #fde725\"/>\n    </g>\n    <g clip-path=\"url(#p9a665b5f49)\">\n     <use xlink:href=\"#C0_0_758ad424d2\" x=\"150.210209\" y=\"123.413468\" style=\"fill: #fde725; stroke: #fde725\"/>\n    </g>\n    <g clip-path=\"url(#p9a665b5f49)\">\n     <use xlink:href=\"#C0_0_758ad424d2\" x=\"64.272241\" y=\"80.54157\" style=\"fill: #fde725; stroke: #fde725\"/>\n    </g>\n    <g clip-path=\"url(#p9a665b5f49)\">\n     <use xlink:href=\"#C0_0_758ad424d2\" x=\"150.210209\" y=\"190.783595\" style=\"fill: #440154; stroke: #440154\"/>\n    </g>\n    <g clip-path=\"url(#p9a665b5f49)\">\n     <use xlink:href=\"#C0_0_758ad424d2\" x=\"226.599514\" y=\"230.593215\" style=\"fill: #fde725; stroke: #fde725\"/>\n    </g>\n    <g clip-path=\"url(#p9a665b5f49)\">\n     <use xlink:href=\"#C0_0_758ad424d2\" x=\"264.794166\" y=\"108.102076\" style=\"fill: #440154; stroke: #440154\"/>\n    </g>\n    <g clip-path=\"url(#p9a665b5f49)\">\n     <use xlink:href=\"#C0_0_758ad424d2\" x=\"131.112883\" y=\"196.142582\" style=\"fill: #440154; stroke: #440154\"/>\n    </g>\n    <g clip-path=\"url(#p9a665b5f49)\">\n     <use xlink:href=\"#C0_0_758ad424d2\" x=\"197.953524\" y=\"212.219544\" style=\"fill: #440154; stroke: #440154\"/>\n    </g>\n    <g clip-path=\"url(#p9a665b5f49)\">\n     <use xlink:href=\"#C0_0_758ad424d2\" x=\"188.404861\" y=\"202.267139\" style=\"fill: #440154; stroke: #440154\"/>\n    </g>\n    <g clip-path=\"url(#p9a665b5f49)\">\n     <use xlink:href=\"#C0_0_758ad424d2\" x=\"112.015556\" y=\"151.739544\" style=\"fill: #440154; stroke: #440154\"/>\n    </g>\n    <g clip-path=\"url(#p9a665b5f49)\">\n     <use xlink:href=\"#C0_0_758ad424d2\" x=\"226.599514\" y=\"198.439291\" style=\"fill: #440154; stroke: #440154\"/>\n    </g>\n    <g clip-path=\"url(#p9a665b5f49)\">\n     <use xlink:href=\"#C0_0_758ad424d2\" x=\"150.210209\" y=\"104.274228\" style=\"fill: #440154; stroke: #440154\"/>\n    </g>\n    <g clip-path=\"url(#p9a665b5f49)\">\n     <use xlink:href=\"#C0_0_758ad424d2\" x=\"64.272241\" y=\"98.915241\" style=\"fill: #440154; stroke: #440154\"/>\n    </g>\n    <g clip-path=\"url(#p9a665b5f49)\">\n     <use xlink:href=\"#C0_0_758ad424d2\" x=\"178.856198\" y=\"192.314734\" style=\"fill: #440154; stroke: #440154\"/>\n    </g>\n    <g clip-path=\"url(#p9a665b5f49)\">\n     <use xlink:href=\"#C0_0_758ad424d2\" x=\"188.404861\" y=\"188.486886\" style=\"fill: #fde725; stroke: #fde725\"/>\n    </g>\n    <g clip-path=\"url(#p9a665b5f49)\">\n     <use xlink:href=\"#C0_0_758ad424d2\" x=\"283.891492\" y=\"202.267139\" style=\"fill: #440154; stroke: #440154\"/>\n    </g>\n    <g clip-path=\"url(#p9a665b5f49)\">\n     <use xlink:href=\"#C0_0_758ad424d2\" x=\"207.502187\" y=\"206.860557\" style=\"fill: #440154; stroke: #440154\"/>\n    </g>\n    <g clip-path=\"url(#p9a665b5f49)\">\n     <use xlink:href=\"#C0_0_758ad424d2\" x=\"226.599514\" y=\"202.267139\" style=\"fill: #fde725; stroke: #fde725\"/>\n    </g>\n    <g clip-path=\"url(#p9a665b5f49)\">\n     <use xlink:href=\"#C0_0_758ad424d2\" x=\"150.210209\" y=\"202.267139\" style=\"fill: #440154; stroke: #440154\"/>\n    </g>\n    <g clip-path=\"url(#p9a665b5f49)\">\n     <use xlink:href=\"#C0_0_758ad424d2\" x=\"83.369567\" y=\"168.582076\" style=\"fill: #440154; stroke: #440154\"/>\n    </g>\n    <g clip-path=\"url(#p9a665b5f49)\">\n     <use xlink:href=\"#C0_0_758ad424d2\" x=\"64.272241\" y=\"176.237772\" style=\"fill: #440154; stroke: #440154\"/>\n    </g>\n    <g clip-path=\"url(#p9a665b5f49)\">\n     <use xlink:href=\"#C0_0_758ad424d2\" x=\"178.856198\" y=\"230.593215\" style=\"fill: #440154; stroke: #440154\"/>\n    </g>\n    <g clip-path=\"url(#p9a665b5f49)\">\n     <use xlink:href=\"#C0_0_758ad424d2\" x=\"83.369567\" y=\"145.614987\" style=\"fill: #440154; stroke: #440154\"/>\n    </g>\n    <g clip-path=\"url(#p9a665b5f49)\">\n     <use xlink:href=\"#C0_0_758ad424d2\" x=\"54.723578\" y=\"211.453975\" style=\"fill: #fde725; stroke: #fde725\"/>\n    </g>\n    <g clip-path=\"url(#p9a665b5f49)\">\n     <use xlink:href=\"#C0_0_758ad424d2\" x=\"64.272241\" y=\"235.952203\" style=\"fill: #fde725; stroke: #fde725\"/>\n    </g>\n    <g clip-path=\"url(#p9a665b5f49)\">\n     <use xlink:href=\"#C0_0_758ad424d2\" x=\"236.148177\" y=\"163.988658\" style=\"fill: #fde725; stroke: #fde725\"/>\n    </g>\n    <g clip-path=\"url(#p9a665b5f49)\">\n     <use xlink:href=\"#C0_0_758ad424d2\" x=\"188.404861\" y=\"226.765367\" style=\"fill: #fde725; stroke: #fde725\"/>\n    </g>\n    <g clip-path=\"url(#p9a665b5f49)\">\n     <use xlink:href=\"#C0_0_758ad424d2\" x=\"188.404861\" y=\"217.578532\" style=\"fill: #440154; stroke: #440154\"/>\n    </g>\n    <g clip-path=\"url(#p9a665b5f49)\">\n     <use xlink:href=\"#C0_0_758ad424d2\" x=\"159.758872\" y=\"156.332962\" style=\"fill: #440154; stroke: #440154\"/>\n    </g>\n    <g clip-path=\"url(#p9a665b5f49)\">\n     <use xlink:href=\"#C0_0_758ad424d2\" x=\"150.210209\" y=\"43.028658\" style=\"fill: #440154; stroke: #440154\"/>\n    </g>\n    <g clip-path=\"url(#p9a665b5f49)\">\n     <use xlink:href=\"#C0_0_758ad424d2\" x=\"150.210209\" y=\"211.453975\" style=\"fill: #fde725; stroke: #fde725\"/>\n    </g>\n    <g clip-path=\"url(#p9a665b5f49)\">\n     <use xlink:href=\"#C0_0_758ad424d2\" x=\"121.56422\" y=\"190.783595\" style=\"fill: #fde725; stroke: #fde725\"/>\n    </g>\n    <g clip-path=\"url(#p9a665b5f49)\">\n     <use xlink:href=\"#C0_0_758ad424d2\" x=\"150.210209\" y=\"151.739544\" style=\"fill: #440154; stroke: #440154\"/>\n    </g>\n    <g clip-path=\"url(#p9a665b5f49)\">\n     <use xlink:href=\"#C0_0_758ad424d2\" x=\"131.112883\" y=\"176.237772\" style=\"fill: #440154; stroke: #440154\"/>\n    </g>\n    <g clip-path=\"url(#p9a665b5f49)\">\n     <use xlink:href=\"#C0_0_758ad424d2\" x=\"92.91823\" y=\"88.962835\" style=\"fill: #440154; stroke: #440154\"/>\n    </g>\n    <g clip-path=\"url(#p9a665b5f49)\">\n     <use xlink:href=\"#C0_0_758ad424d2\" x=\"283.891492\" y=\"176.237772\" style=\"fill: #fde725; stroke: #fde725\"/>\n    </g>\n    <g clip-path=\"url(#p9a665b5f49)\">\n     <use xlink:href=\"#C0_0_758ad424d2\" x=\"131.112883\" y=\"19.296\" style=\"fill: #fde725; stroke: #fde725\"/>\n    </g>\n    <g clip-path=\"url(#p9a665b5f49)\">\n     <use xlink:href=\"#C0_0_758ad424d2\" x=\"312.537482\" y=\"190.783595\" style=\"fill: #440154; stroke: #440154\"/>\n    </g>\n    <g clip-path=\"url(#p9a665b5f49)\">\n     <use xlink:href=\"#C0_0_758ad424d2\" x=\"369.82946\" y=\"186.190177\" style=\"fill: #440154; stroke: #440154\"/>\n    </g>\n    <g clip-path=\"url(#p9a665b5f49)\">\n     <use xlink:href=\"#C0_0_758ad424d2\" x=\"150.210209\" y=\"176.237772\" style=\"fill: #440154; stroke: #440154\"/>\n    </g>\n    <g clip-path=\"url(#p9a665b5f49)\">\n     <use xlink:href=\"#C0_0_758ad424d2\" x=\"207.502187\" y=\"156.332962\" style=\"fill: #fde725; stroke: #fde725\"/>\n    </g>\n    <g clip-path=\"url(#p9a665b5f49)\">\n     <use xlink:href=\"#C0_0_758ad424d2\" x=\"112.015556\" y=\"211.453975\" style=\"fill: #fde725; stroke: #fde725\"/>\n    </g>\n    <g clip-path=\"url(#p9a665b5f49)\">\n     <use xlink:href=\"#C0_0_758ad424d2\" x=\"178.856198\" y=\"190.783595\" style=\"fill: #440154; stroke: #440154\"/>\n    </g>\n    <g clip-path=\"url(#p9a665b5f49)\">\n     <use xlink:href=\"#C0_0_758ad424d2\" x=\"217.050851\" y=\"212.219544\" style=\"fill: #fde725; stroke: #fde725\"/>\n    </g>\n    <g clip-path=\"url(#p9a665b5f49)\">\n     <use xlink:href=\"#C0_0_758ad424d2\" x=\"169.307535\" y=\"206.860557\" style=\"fill: #440154; stroke: #440154\"/>\n    </g>\n    <g clip-path=\"url(#p9a665b5f49)\">\n     <use xlink:href=\"#C0_0_758ad424d2\" x=\"131.112883\" y=\"105.805367\" style=\"fill: #440154; stroke: #440154\"/>\n    </g>\n    <g clip-path=\"url(#p9a665b5f49)\">\n     <use xlink:href=\"#C0_0_758ad424d2\" x=\"150.210209\" y=\"105.805367\" style=\"fill: #fde725; stroke: #fde725\"/>\n    </g>\n    <g clip-path=\"url(#p9a665b5f49)\">\n     <use xlink:href=\"#C0_0_758ad424d2\" x=\"217.050851\" y=\"202.267139\" style=\"fill: #fde725; stroke: #fde725\"/>\n    </g>\n    <g clip-path=\"url(#p9a665b5f49)\">\n     <use xlink:href=\"#C0_0_758ad424d2\" x=\"197.953524\" y=\"188.486886\" style=\"fill: #fde725; stroke: #fde725\"/>\n    </g>\n    <g clip-path=\"url(#p9a665b5f49)\">\n     <use xlink:href=\"#C0_0_758ad424d2\" x=\"188.404861\" y=\"144.083848\" style=\"fill: #fde725; stroke: #fde725\"/>\n    </g>\n    <g clip-path=\"url(#p9a665b5f49)\">\n     <use xlink:href=\"#C0_0_758ad424d2\" x=\"197.953524\" y=\"215.281823\" style=\"fill: #440154; stroke: #440154\"/>\n    </g>\n    <g clip-path=\"url(#p9a665b5f49)\">\n     <use xlink:href=\"#C0_0_758ad424d2\" x=\"188.404861\" y=\"226.765367\" style=\"fill: #fde725; stroke: #fde725\"/>\n    </g>\n    <g clip-path=\"url(#p9a665b5f49)\">\n     <use xlink:href=\"#C0_0_758ad424d2\" x=\"112.015556\" y=\"143.318278\" style=\"fill: #440154; stroke: #440154\"/>\n    </g>\n    <g clip-path=\"url(#p9a665b5f49)\">\n     <use xlink:href=\"#C0_0_758ad424d2\" x=\"217.050851\" y=\"209.157266\" style=\"fill: #fde725; stroke: #fde725\"/>\n    </g>\n    <g clip-path=\"url(#p9a665b5f49)\">\n     <use xlink:href=\"#C0_0_758ad424d2\" x=\"54.723578\" y=\"98.915241\" style=\"fill: #fde725; stroke: #fde725\"/>\n    </g>\n    <g clip-path=\"url(#p9a665b5f49)\">\n     <use xlink:href=\"#C0_0_758ad424d2\" x=\"92.91823\" y=\"20.827139\" style=\"fill: #440154; stroke: #440154\"/>\n    </g>\n    <g clip-path=\"url(#p9a665b5f49)\">\n     <use xlink:href=\"#C0_0_758ad424d2\" x=\"178.856198\" y=\"177.003342\" style=\"fill: #fde725; stroke: #fde725\"/>\n    </g>\n    <g clip-path=\"url(#p9a665b5f49)\">\n     <use xlink:href=\"#C0_0_758ad424d2\" x=\"92.91823\" y=\"105.805367\" style=\"fill: #fde725; stroke: #fde725\"/>\n    </g>\n    <g clip-path=\"url(#p9a665b5f49)\">\n     <use xlink:href=\"#C0_0_758ad424d2\" x=\"64.272241\" y=\"202.267139\" style=\"fill: #fde725; stroke: #fde725\"/>\n    </g>\n    <g clip-path=\"url(#p9a665b5f49)\">\n     <use xlink:href=\"#C0_0_758ad424d2\" x=\"226.599514\" y=\"145.614987\" style=\"fill: #fde725; stroke: #fde725\"/>\n    </g>\n    <g clip-path=\"url(#p9a665b5f49)\">\n     <use xlink:href=\"#C0_0_758ad424d2\" x=\"83.369567\" y=\"118.054481\" style=\"fill: #440154; stroke: #440154\"/>\n    </g>\n    <g clip-path=\"url(#p9a665b5f49)\">\n     <use xlink:href=\"#C0_0_758ad424d2\" x=\"150.210209\" y=\"198.439291\" style=\"fill: #440154; stroke: #440154\"/>\n    </g>\n    <g clip-path=\"url(#p9a665b5f49)\">\n     <use xlink:href=\"#C0_0_758ad424d2\" x=\"150.210209\" y=\"168.582076\" style=\"fill: #440154; stroke: #440154\"/>\n    </g>\n    <g clip-path=\"url(#p9a665b5f49)\">\n     <use xlink:href=\"#C0_0_758ad424d2\" x=\"159.758872\" y=\"43.028658\" style=\"fill: #fde725; stroke: #fde725\"/>\n    </g>\n    <g clip-path=\"url(#p9a665b5f49)\">\n     <use xlink:href=\"#C0_0_758ad424d2\" x=\"217.050851\" y=\"199.97043\" style=\"fill: #440154; stroke: #440154\"/>\n    </g>\n    <g clip-path=\"url(#p9a665b5f49)\">\n     <use xlink:href=\"#C0_0_758ad424d2\" x=\"150.210209\" y=\"177.003342\" style=\"fill: #fde725; stroke: #fde725\"/>\n    </g>\n    <g clip-path=\"url(#p9a665b5f49)\">\n     <use xlink:href=\"#C0_0_758ad424d2\" x=\"64.272241\" y=\"121.882329\" style=\"fill: #440154; stroke: #440154\"/>\n    </g>\n    <g clip-path=\"url(#p9a665b5f49)\">\n     <use xlink:href=\"#C0_0_758ad424d2\" x=\"64.272241\" y=\"60.636759\" style=\"fill: #440154; stroke: #440154\"/>\n    </g>\n    <g clip-path=\"url(#p9a665b5f49)\">\n     <use xlink:href=\"#C0_0_758ad424d2\" x=\"150.210209\" y=\"177.003342\" style=\"fill: #440154; stroke: #440154\"/>\n    </g>\n    <g clip-path=\"url(#p9a665b5f49)\">\n     <use xlink:href=\"#C0_0_758ad424d2\" x=\"92.91823\" y=\"202.267139\" style=\"fill: #440154; stroke: #440154\"/>\n    </g>\n    <g clip-path=\"url(#p9a665b5f49)\">\n     <use xlink:href=\"#C0_0_758ad424d2\" x=\"178.856198\" y=\"215.281823\" style=\"fill: #440154; stroke: #440154\"/>\n    </g>\n    <g clip-path=\"url(#p9a665b5f49)\">\n     <use xlink:href=\"#C0_0_758ad424d2\" x=\"283.891492\" y=\"224.468658\" style=\"fill: #fde725; stroke: #fde725\"/>\n    </g>\n    <g clip-path=\"url(#p9a665b5f49)\">\n     <use xlink:href=\"#C0_0_758ad424d2\" x=\"131.112883\" y=\"202.267139\" style=\"fill: #440154; stroke: #440154\"/>\n    </g>\n    <g clip-path=\"url(#p9a665b5f49)\">\n     <use xlink:href=\"#C0_0_758ad424d2\" x=\"197.953524\" y=\"193.845873\" style=\"fill: #fde725; stroke: #fde725\"/>\n    </g>\n    <g clip-path=\"url(#p9a665b5f49)\">\n     <use xlink:href=\"#C0_0_758ad424d2\" x=\"178.856198\" y=\"198.439291\" style=\"fill: #440154; stroke: #440154\"/>\n    </g>\n    <g clip-path=\"url(#p9a665b5f49)\">\n     <use xlink:href=\"#C0_0_758ad424d2\" x=\"159.758872\" y=\"202.267139\" style=\"fill: #440154; stroke: #440154\"/>\n    </g>\n    <g clip-path=\"url(#p9a665b5f49)\">\n     <use xlink:href=\"#C0_0_758ad424d2\" x=\"188.404861\" y=\"170.878785\" style=\"fill: #440154; stroke: #440154\"/>\n    </g>\n    <g clip-path=\"url(#p9a665b5f49)\">\n     <use xlink:href=\"#C0_0_758ad424d2\" x=\"236.148177\" y=\"235.952203\" style=\"fill: #fde725; stroke: #fde725\"/>\n    </g>\n    <g clip-path=\"url(#p9a665b5f49)\">\n     <use xlink:href=\"#C0_0_758ad424d2\" x=\"226.599514\" y=\"230.593215\" style=\"fill: #fde725; stroke: #fde725\"/>\n    </g>\n    <g clip-path=\"url(#p9a665b5f49)\">\n     <use xlink:href=\"#C0_0_758ad424d2\" x=\"150.210209\" y=\"151.739544\" style=\"fill: #fde725; stroke: #fde725\"/>\n    </g>\n    <g clip-path=\"url(#p9a665b5f49)\">\n     <use xlink:href=\"#C0_0_758ad424d2\" x=\"178.856198\" y=\"261.216\" style=\"fill: #440154; stroke: #440154\"/>\n    </g>\n    <g clip-path=\"url(#p9a665b5f49)\">\n     <use xlink:href=\"#C0_0_758ad424d2\" x=\"92.91823\" y=\"193.845873\" style=\"fill: #440154; stroke: #440154\"/>\n    </g>\n    <g clip-path=\"url(#p9a665b5f49)\">\n     <use xlink:href=\"#C0_0_758ad424d2\" x=\"150.210209\" y=\"108.102076\" style=\"fill: #fde725; stroke: #fde725\"/>\n    </g>\n    <g clip-path=\"url(#p9a665b5f49)\">\n     <use xlink:href=\"#C0_0_758ad424d2\" x=\"159.758872\" y=\"98.915241\" style=\"fill: #fde725; stroke: #fde725\"/>\n    </g>\n    <g clip-path=\"url(#p9a665b5f49)\">\n     <use xlink:href=\"#C0_0_758ad424d2\" x=\"92.91823\" y=\"203.798278\" style=\"fill: #440154; stroke: #440154\"/>\n    </g>\n    <g clip-path=\"url(#p9a665b5f49)\">\n     <use xlink:href=\"#C0_0_758ad424d2\" x=\"150.210209\" y=\"202.267139\" style=\"fill: #fde725; stroke: #fde725\"/>\n    </g>\n    <g clip-path=\"url(#p9a665b5f49)\">\n     <use xlink:href=\"#C0_0_758ad424d2\" x=\"226.599514\" y=\"190.783595\" style=\"fill: #fde725; stroke: #fde725\"/>\n    </g>\n    <g clip-path=\"url(#p9a665b5f49)\">\n     <use xlink:href=\"#C0_0_758ad424d2\" x=\"369.82946\" y=\"186.955747\" style=\"fill: #440154; stroke: #440154\"/>\n    </g>\n    <g clip-path=\"url(#p9a665b5f49)\">\n     <use xlink:href=\"#C0_0_758ad424d2\" x=\"197.953524\" y=\"250.498025\" style=\"fill: #440154; stroke: #440154\"/>\n    </g>\n    <g clip-path=\"url(#p9a665b5f49)\">\n     <use xlink:href=\"#C0_0_758ad424d2\" x=\"217.050851\" y=\"195.377013\" style=\"fill: #fde725; stroke: #fde725\"/>\n    </g>\n    <g clip-path=\"url(#p9a665b5f49)\">\n     <use xlink:href=\"#C0_0_758ad424d2\" x=\"217.050851\" y=\"196.908152\" style=\"fill: #fde725; stroke: #fde725\"/>\n    </g>\n    <g clip-path=\"url(#p9a665b5f49)\">\n     <use xlink:href=\"#C0_0_758ad424d2\" x=\"121.56422\" y=\"155.567392\" style=\"fill: #fde725; stroke: #fde725\"/>\n    </g>\n    <g clip-path=\"url(#p9a665b5f49)\">\n     <use xlink:href=\"#C0_0_758ad424d2\" x=\"121.56422\" y=\"177.768911\" style=\"fill: #440154; stroke: #440154\"/>\n    </g>\n    <g clip-path=\"url(#p9a665b5f49)\">\n     <use xlink:href=\"#C0_0_758ad424d2\" x=\"207.502187\" y=\"215.281823\" style=\"fill: #440154; stroke: #440154\"/>\n    </g>\n    <g clip-path=\"url(#p9a665b5f49)\">\n     <use xlink:href=\"#C0_0_758ad424d2\" x=\"64.272241\" y=\"156.332962\" style=\"fill: #440154; stroke: #440154\"/>\n    </g>\n    <g clip-path=\"url(#p9a665b5f49)\">\n     <use xlink:href=\"#C0_0_758ad424d2\" x=\"178.856198\" y=\"215.281823\" style=\"fill: #440154; stroke: #440154\"/>\n    </g>\n    <g clip-path=\"url(#p9a665b5f49)\">\n     <use xlink:href=\"#C0_0_758ad424d2\" x=\"188.404861\" y=\"202.267139\" style=\"fill: #440154; stroke: #440154\"/>\n    </g>\n    <g clip-path=\"url(#p9a665b5f49)\">\n     <use xlink:href=\"#C0_0_758ad424d2\" x=\"83.369567\" y=\"156.332962\" style=\"fill: #440154; stroke: #440154\"/>\n    </g>\n    <g clip-path=\"url(#p9a665b5f49)\">\n     <use xlink:href=\"#C0_0_758ad424d2\" x=\"207.502187\" y=\"198.439291\" style=\"fill: #440154; stroke: #440154\"/>\n    </g>\n    <g clip-path=\"url(#p9a665b5f49)\">\n     <use xlink:href=\"#C0_0_758ad424d2\" x=\"64.272241\" y=\"98.915241\" style=\"fill: #440154; stroke: #440154\"/>\n    </g>\n    <g clip-path=\"url(#p9a665b5f49)\">\n     <use xlink:href=\"#C0_0_758ad424d2\" x=\"188.404861\" y=\"209.157266\" style=\"fill: #fde725; stroke: #fde725\"/>\n    </g>\n    <g clip-path=\"url(#p9a665b5f49)\">\n     <use xlink:href=\"#C0_0_758ad424d2\" x=\"188.404861\" y=\"202.267139\" style=\"fill: #fde725; stroke: #fde725\"/>\n    </g>\n    <g clip-path=\"url(#p9a665b5f49)\">\n     <use xlink:href=\"#C0_0_758ad424d2\" x=\"64.272241\" y=\"203.798278\" style=\"fill: #fde725; stroke: #fde725\"/>\n    </g>\n    <g clip-path=\"url(#p9a665b5f49)\">\n     <use xlink:href=\"#C0_0_758ad424d2\" x=\"92.91823\" y=\"145.614987\" style=\"fill: #440154; stroke: #440154\"/>\n    </g>\n    <g clip-path=\"url(#p9a665b5f49)\">\n     <use xlink:href=\"#C0_0_758ad424d2\" x=\"217.050851\" y=\"212.219544\" style=\"fill: #fde725; stroke: #fde725\"/>\n    </g>\n    <g clip-path=\"url(#p9a665b5f49)\">\n     <use xlink:href=\"#C0_0_758ad424d2\" x=\"159.758872\" y=\"192.314734\" style=\"fill: #440154; stroke: #440154\"/>\n    </g>\n    <g clip-path=\"url(#p9a665b5f49)\">\n     <use xlink:href=\"#C0_0_758ad424d2\" x=\"92.91823\" y=\"60.636759\" style=\"fill: #440154; stroke: #440154\"/>\n    </g>\n    <g clip-path=\"url(#p9a665b5f49)\">\n     <use xlink:href=\"#C0_0_758ad424d2\" x=\"255.245503\" y=\"108.102076\" style=\"fill: #fde725; stroke: #fde725\"/>\n    </g>\n    <g clip-path=\"url(#p9a665b5f49)\">\n     <use xlink:href=\"#C0_0_758ad424d2\" x=\"236.148177\" y=\"222.171949\" style=\"fill: #440154; stroke: #440154\"/>\n    </g>\n    <g clip-path=\"url(#p9a665b5f49)\">\n     <use xlink:href=\"#C0_0_758ad424d2\" x=\"150.210209\" y=\"176.237772\" style=\"fill: #fde725; stroke: #fde725\"/>\n    </g>\n    <g clip-path=\"url(#p9a665b5f49)\">\n     <use xlink:href=\"#C0_0_758ad424d2\" x=\"178.856198\" y=\"170.878785\" style=\"fill: #440154; stroke: #440154\"/>\n    </g>\n    <g clip-path=\"url(#p9a665b5f49)\">\n     <use xlink:href=\"#C0_0_758ad424d2\" x=\"73.820904\" y=\"144.083848\" style=\"fill: #440154; stroke: #440154\"/>\n    </g>\n    <g clip-path=\"url(#p9a665b5f49)\">\n     <use xlink:href=\"#C0_0_758ad424d2\" x=\"188.404861\" y=\"188.486886\" style=\"fill: #440154; stroke: #440154\"/>\n    </g>\n    <g clip-path=\"url(#p9a665b5f49)\">\n     <use xlink:href=\"#C0_0_758ad424d2\" x=\"169.307535\" y=\"167.816506\" style=\"fill: #440154; stroke: #440154\"/>\n    </g>\n    <g clip-path=\"url(#p9a665b5f49)\">\n     <use xlink:href=\"#C0_0_758ad424d2\" x=\"207.502187\" y=\"190.783595\" style=\"fill: #440154; stroke: #440154\"/>\n    </g>\n    <g clip-path=\"url(#p9a665b5f49)\">\n     <use xlink:href=\"#C0_0_758ad424d2\" x=\"150.210209\" y=\"19.296\" style=\"fill: #fde725; stroke: #fde725\"/>\n    </g>\n    <g clip-path=\"url(#p9a665b5f49)\">\n     <use xlink:href=\"#C0_0_758ad424d2\" x=\"236.148177\" y=\"177.768911\" style=\"fill: #fde725; stroke: #fde725\"/>\n    </g>\n    <g clip-path=\"url(#p9a665b5f49)\">\n     <use xlink:href=\"#C0_0_758ad424d2\" x=\"188.404861\" y=\"211.453975\" style=\"fill: #440154; stroke: #440154\"/>\n    </g>\n    <g clip-path=\"url(#p9a665b5f49)\">\n     <use xlink:href=\"#C0_0_758ad424d2\" x=\"159.758872\" y=\"144.849418\" style=\"fill: #fde725; stroke: #fde725\"/>\n    </g>\n    <g clip-path=\"url(#p9a665b5f49)\">\n     <use xlink:href=\"#C0_0_758ad424d2\" x=\"188.404861\" y=\"183.893468\" style=\"fill: #fde725; stroke: #fde725\"/>\n    </g>\n    <g clip-path=\"url(#p9a665b5f49)\">\n     <use xlink:href=\"#C0_0_758ad424d2\" x=\"112.015556\" y=\"226.765367\" style=\"fill: #fde725; stroke: #fde725\"/>\n    </g>\n    <g clip-path=\"url(#p9a665b5f49)\">\n     <use xlink:href=\"#C0_0_758ad424d2\" x=\"64.272241\" y=\"108.102076\" style=\"fill: #440154; stroke: #440154\"/>\n    </g>\n    <g clip-path=\"url(#p9a665b5f49)\">\n     <use xlink:href=\"#C0_0_758ad424d2\" x=\"131.112883\" y=\"108.102076\" style=\"fill: #fde725; stroke: #fde725\"/>\n    </g>\n    <g clip-path=\"url(#p9a665b5f49)\">\n     <use xlink:href=\"#C0_0_758ad424d2\" x=\"178.856198\" y=\"183.893468\" style=\"fill: #440154; stroke: #440154\"/>\n    </g>\n    <g clip-path=\"url(#p9a665b5f49)\">\n     <use xlink:href=\"#C0_0_758ad424d2\" x=\"150.210209\" y=\"226.765367\" style=\"fill: #440154; stroke: #440154\"/>\n    </g>\n    <g clip-path=\"url(#p9a665b5f49)\">\n     <use xlink:href=\"#C0_0_758ad424d2\" x=\"121.56422\" y=\"144.849418\" style=\"fill: #fde725; stroke: #fde725\"/>\n    </g>\n    <g clip-path=\"url(#p9a665b5f49)\">\n     <use xlink:href=\"#C0_0_758ad424d2\" x=\"188.404861\" y=\"150.208405\" style=\"fill: #fde725; stroke: #fde725\"/>\n    </g>\n    <g clip-path=\"url(#p9a665b5f49)\">\n     <use xlink:href=\"#C0_0_758ad424d2\" x=\"226.599514\" y=\"163.988658\" style=\"fill: #fde725; stroke: #fde725\"/>\n    </g>\n    <g clip-path=\"url(#p9a665b5f49)\">\n     <use xlink:href=\"#C0_0_758ad424d2\" x=\"131.112883\" y=\"195.377013\" style=\"fill: #440154; stroke: #440154\"/>\n    </g>\n    <g clip-path=\"url(#p9a665b5f49)\">\n     <use xlink:href=\"#C0_0_758ad424d2\" x=\"150.210209\" y=\"176.237772\" style=\"fill: #fde725; stroke: #fde725\"/>\n    </g>\n    <g clip-path=\"url(#p9a665b5f49)\">\n     <use xlink:href=\"#C0_0_758ad424d2\" x=\"188.404861\" y=\"226.765367\" style=\"fill: #fde725; stroke: #fde725\"/>\n    </g>\n    <g clip-path=\"url(#p9a665b5f49)\">\n     <use xlink:href=\"#C0_0_758ad424d2\" x=\"45.174915\" y=\"123.413468\" style=\"fill: #440154; stroke: #440154\"/>\n    </g>\n    <g clip-path=\"url(#p9a665b5f49)\">\n     <use xlink:href=\"#C0_0_758ad424d2\" x=\"178.856198\" y=\"183.893468\" style=\"fill: #440154; stroke: #440154\"/>\n    </g>\n    <g clip-path=\"url(#p9a665b5f49)\">\n     <use xlink:href=\"#C0_0_758ad424d2\" x=\"102.466893\" y=\"257.388152\" style=\"fill: #440154; stroke: #440154\"/>\n    </g>\n    <g clip-path=\"url(#p9a665b5f49)\">\n     <use xlink:href=\"#C0_0_758ad424d2\" x=\"188.404861\" y=\"209.157266\" style=\"fill: #440154; stroke: #440154\"/>\n    </g>\n    <g clip-path=\"url(#p9a665b5f49)\">\n     <use xlink:href=\"#C0_0_758ad424d2\" x=\"83.369567\" y=\"98.915241\" style=\"fill: #440154; stroke: #440154\"/>\n    </g>\n    <g clip-path=\"url(#p9a665b5f49)\">\n     <use xlink:href=\"#C0_0_758ad424d2\" x=\"188.404861\" y=\"191.549165\" style=\"fill: #fde725; stroke: #fde725\"/>\n    </g>\n    <g clip-path=\"url(#p9a665b5f49)\">\n     <use xlink:href=\"#C0_0_758ad424d2\" x=\"188.404861\" y=\"192.314734\" style=\"fill: #fde725; stroke: #fde725\"/>\n    </g>\n    <g clip-path=\"url(#p9a665b5f49)\">\n     <use xlink:href=\"#C0_0_758ad424d2\" x=\"131.112883\" y=\"119.58562\" style=\"fill: #440154; stroke: #440154\"/>\n    </g>\n    <g clip-path=\"url(#p9a665b5f49)\">\n     <use xlink:href=\"#C0_0_758ad424d2\" x=\"131.112883\" y=\"186.955747\" style=\"fill: #440154; stroke: #440154\"/>\n    </g>\n    <g clip-path=\"url(#p9a665b5f49)\">\n     <use xlink:href=\"#C0_0_758ad424d2\" x=\"188.404861\" y=\"123.413468\" style=\"fill: #fde725; stroke: #fde725\"/>\n    </g>\n    <g clip-path=\"url(#p9a665b5f49)\">\n     <use xlink:href=\"#C0_0_758ad424d2\" x=\"245.69684\" y=\"224.468658\" style=\"fill: #440154; stroke: #440154\"/>\n    </g>\n    <g clip-path=\"url(#p9a665b5f49)\">\n     <use xlink:href=\"#C0_0_758ad424d2\" x=\"102.466893\" y=\"176.237772\" style=\"fill: #440154; stroke: #440154\"/>\n    </g>\n    <g clip-path=\"url(#p9a665b5f49)\">\n     <use xlink:href=\"#C0_0_758ad424d2\" x=\"197.953524\" y=\"169.347646\" style=\"fill: #440154; stroke: #440154\"/>\n    </g>\n    <g clip-path=\"url(#p9a665b5f49)\">\n     <use xlink:href=\"#C0_0_758ad424d2\" x=\"188.404861\" y=\"249.732456\" style=\"fill: #fde725; stroke: #fde725\"/>\n    </g>\n    <g clip-path=\"url(#p9a665b5f49)\">\n     <use xlink:href=\"#C0_0_758ad424d2\" x=\"169.307535\" y=\"202.267139\" style=\"fill: #440154; stroke: #440154\"/>\n    </g>\n    <g clip-path=\"url(#p9a665b5f49)\">\n     <use xlink:href=\"#C0_0_758ad424d2\" x=\"226.599514\" y=\"97.384101\" style=\"fill: #fde725; stroke: #fde725\"/>\n    </g>\n    <g clip-path=\"url(#p9a665b5f49)\">\n     <use xlink:href=\"#C0_0_758ad424d2\" x=\"188.404861\" y=\"192.314734\" style=\"fill: #fde725; stroke: #fde725\"/>\n    </g>\n    <g clip-path=\"url(#p9a665b5f49)\">\n     <use xlink:href=\"#C0_0_758ad424d2\" x=\"178.856198\" y=\"188.486886\" style=\"fill: #fde725; stroke: #fde725\"/>\n    </g>\n    <g clip-path=\"url(#p9a665b5f49)\">\n     <use xlink:href=\"#C0_0_758ad424d2\" x=\"188.404861\" y=\"202.267139\" style=\"fill: #fde725; stroke: #fde725\"/>\n    </g>\n    <g clip-path=\"url(#p9a665b5f49)\">\n     <use xlink:href=\"#C0_0_758ad424d2\" x=\"92.91823\" y=\"173.941063\" style=\"fill: #fde725; stroke: #fde725\"/>\n    </g>\n    <g clip-path=\"url(#p9a665b5f49)\">\n     <use xlink:href=\"#C0_0_758ad424d2\" x=\"217.050851\" y=\"215.281823\" style=\"fill: #fde725; stroke: #fde725\"/>\n    </g>\n    <g clip-path=\"url(#p9a665b5f49)\">\n     <use xlink:href=\"#C0_0_758ad424d2\" x=\"150.210209\" y=\"60.636759\" style=\"fill: #440154; stroke: #440154\"/>\n    </g>\n    <g clip-path=\"url(#p9a665b5f49)\">\n     <use xlink:href=\"#C0_0_758ad424d2\" x=\"73.820904\" y=\"137.959291\" style=\"fill: #440154; stroke: #440154\"/>\n    </g>\n    <g clip-path=\"url(#p9a665b5f49)\">\n     <use xlink:href=\"#C0_0_758ad424d2\" x=\"150.210209\" y=\"206.860557\" style=\"fill: #440154; stroke: #440154\"/>\n    </g>\n    <g clip-path=\"url(#p9a665b5f49)\">\n     <use xlink:href=\"#C0_0_758ad424d2\" x=\"188.404861\" y=\"188.486886\" style=\"fill: #fde725; stroke: #fde725\"/>\n    </g>\n    <g clip-path=\"url(#p9a665b5f49)\">\n     <use xlink:href=\"#C0_0_758ad424d2\" x=\"64.272241\" y=\"192.314734\" style=\"fill: #440154; stroke: #440154\"/>\n    </g>\n   </g>\n   <g id=\"matplotlib.axis_1\">\n    <g id=\"xtick_1\">\n     <g id=\"line2d_1\">\n      <defs>\n       <path id=\"mfb4caec0d3\" d=\"M 0 0 \nL 0 3.5 \n\" style=\"stroke: #000000; stroke-width: 0.8\"/>\n      </defs>\n      <g>\n       <use xlink:href=\"#mfb4caec0d3\" x=\"37.233051\" y=\"273.312\" style=\"stroke: #000000; stroke-width: 0.8\"/>\n      </g>\n     </g>\n     <g id=\"text_1\">\n      <!-- −2 -->\n      <g transform=\"translate(29.861957 287.910437) scale(0.1 -0.1)\">\n       <defs>\n        <path id=\"DejaVuSans-2212\" d=\"M 678 2272 \nL 4684 2272 \nL 4684 1741 \nL 678 1741 \nL 678 2272 \nz\n\" transform=\"scale(0.015625)\"/>\n        <path id=\"DejaVuSans-32\" d=\"M 1228 531 \nL 3431 531 \nL 3431 0 \nL 469 0 \nL 469 531 \nQ 828 903 1448 1529 \nQ 2069 2156 2228 2338 \nQ 2531 2678 2651 2914 \nQ 2772 3150 2772 3378 \nQ 2772 3750 2511 3984 \nQ 2250 4219 1831 4219 \nQ 1534 4219 1204 4116 \nQ 875 4013 500 3803 \nL 500 4441 \nQ 881 4594 1212 4672 \nQ 1544 4750 1819 4750 \nQ 2544 4750 2975 4387 \nQ 3406 4025 3406 3419 \nQ 3406 3131 3298 2873 \nQ 3191 2616 2906 2266 \nQ 2828 2175 2409 1742 \nQ 1991 1309 1228 531 \nz\n\" transform=\"scale(0.015625)\"/>\n       </defs>\n       <use xlink:href=\"#DejaVuSans-2212\"/>\n       <use xlink:href=\"#DejaVuSans-32\" x=\"83.789062\"/>\n      </g>\n     </g>\n    </g>\n    <g id=\"xtick_2\">\n     <g id=\"line2d_2\">\n      <g>\n       <use xlink:href=\"#mfb4caec0d3\" x=\"99.18901\" y=\"273.312\" style=\"stroke: #000000; stroke-width: 0.8\"/>\n      </g>\n     </g>\n     <g id=\"text_2\">\n      <!-- −1 -->\n      <g transform=\"translate(91.817916 287.910437) scale(0.1 -0.1)\">\n       <defs>\n        <path id=\"DejaVuSans-31\" d=\"M 794 531 \nL 1825 531 \nL 1825 4091 \nL 703 3866 \nL 703 4441 \nL 1819 4666 \nL 2450 4666 \nL 2450 531 \nL 3481 531 \nL 3481 0 \nL 794 0 \nL 794 531 \nz\n\" transform=\"scale(0.015625)\"/>\n       </defs>\n       <use xlink:href=\"#DejaVuSans-2212\"/>\n       <use xlink:href=\"#DejaVuSans-31\" x=\"83.789062\"/>\n      </g>\n     </g>\n    </g>\n    <g id=\"xtick_3\">\n     <g id=\"line2d_3\">\n      <g>\n       <use xlink:href=\"#mfb4caec0d3\" x=\"161.144968\" y=\"273.312\" style=\"stroke: #000000; stroke-width: 0.8\"/>\n      </g>\n     </g>\n     <g id=\"text_3\">\n      <!-- 0 -->\n      <g transform=\"translate(157.963718 287.910437) scale(0.1 -0.1)\">\n       <defs>\n        <path id=\"DejaVuSans-30\" d=\"M 2034 4250 \nQ 1547 4250 1301 3770 \nQ 1056 3291 1056 2328 \nQ 1056 1369 1301 889 \nQ 1547 409 2034 409 \nQ 2525 409 2770 889 \nQ 3016 1369 3016 2328 \nQ 3016 3291 2770 3770 \nQ 2525 4250 2034 4250 \nz\nM 2034 4750 \nQ 2819 4750 3233 4129 \nQ 3647 3509 3647 2328 \nQ 3647 1150 3233 529 \nQ 2819 -91 2034 -91 \nQ 1250 -91 836 529 \nQ 422 1150 422 2328 \nQ 422 3509 836 4129 \nQ 1250 4750 2034 4750 \nz\n\" transform=\"scale(0.015625)\"/>\n       </defs>\n       <use xlink:href=\"#DejaVuSans-30\"/>\n      </g>\n     </g>\n    </g>\n    <g id=\"xtick_4\">\n     <g id=\"line2d_4\">\n      <g>\n       <use xlink:href=\"#mfb4caec0d3\" x=\"223.100927\" y=\"273.312\" style=\"stroke: #000000; stroke-width: 0.8\"/>\n      </g>\n     </g>\n     <g id=\"text_4\">\n      <!-- 1 -->\n      <g transform=\"translate(219.919677 287.910437) scale(0.1 -0.1)\">\n       <use xlink:href=\"#DejaVuSans-31\"/>\n      </g>\n     </g>\n    </g>\n    <g id=\"xtick_5\">\n     <g id=\"line2d_5\">\n      <g>\n       <use xlink:href=\"#mfb4caec0d3\" x=\"285.056886\" y=\"273.312\" style=\"stroke: #000000; stroke-width: 0.8\"/>\n      </g>\n     </g>\n     <g id=\"text_5\">\n      <!-- 2 -->\n      <g transform=\"translate(281.875636 287.910437) scale(0.1 -0.1)\">\n       <use xlink:href=\"#DejaVuSans-32\"/>\n      </g>\n     </g>\n    </g>\n    <g id=\"xtick_6\">\n     <g id=\"line2d_6\">\n      <g>\n       <use xlink:href=\"#mfb4caec0d3\" x=\"347.012844\" y=\"273.312\" style=\"stroke: #000000; stroke-width: 0.8\"/>\n      </g>\n     </g>\n     <g id=\"text_6\">\n      <!-- 3 -->\n      <g transform=\"translate(343.831594 287.910437) scale(0.1 -0.1)\">\n       <defs>\n        <path id=\"DejaVuSans-33\" d=\"M 2597 2516 \nQ 3050 2419 3304 2112 \nQ 3559 1806 3559 1356 \nQ 3559 666 3084 287 \nQ 2609 -91 1734 -91 \nQ 1441 -91 1130 -33 \nQ 819 25 488 141 \nL 488 750 \nQ 750 597 1062 519 \nQ 1375 441 1716 441 \nQ 2309 441 2620 675 \nQ 2931 909 2931 1356 \nQ 2931 1769 2642 2001 \nQ 2353 2234 1838 2234 \nL 1294 2234 \nL 1294 2753 \nL 1863 2753 \nQ 2328 2753 2575 2939 \nQ 2822 3125 2822 3475 \nQ 2822 3834 2567 4026 \nQ 2313 4219 1838 4219 \nQ 1578 4219 1281 4162 \nQ 984 4106 628 3988 \nL 628 4550 \nQ 988 4650 1302 4700 \nQ 1616 4750 1894 4750 \nQ 2613 4750 3031 4423 \nQ 3450 4097 3450 3541 \nQ 3450 3153 3228 2886 \nQ 3006 2619 2597 2516 \nz\n\" transform=\"scale(0.015625)\"/>\n       </defs>\n       <use xlink:href=\"#DejaVuSans-33\"/>\n      </g>\n     </g>\n    </g>\n   </g>\n   <g id=\"matplotlib.axis_2\">\n    <g id=\"ytick_1\">\n     <g id=\"line2d_7\">\n      <defs>\n       <path id=\"m00da8c69bd\" d=\"M 0 0 \nL -3.5 0 \n\" style=\"stroke: #000000; stroke-width: 0.8\"/>\n      </defs>\n      <g>\n       <use xlink:href=\"#m00da8c69bd\" x=\"28.942188\" y=\"270.371305\" style=\"stroke: #000000; stroke-width: 0.8\"/>\n      </g>\n     </g>\n     <g id=\"text_7\">\n      <!-- −2 -->\n      <g transform=\"translate(7.2 274.170524) scale(0.1 -0.1)\">\n       <use xlink:href=\"#DejaVuSans-2212\"/>\n       <use xlink:href=\"#DejaVuSans-32\" x=\"83.789062\"/>\n      </g>\n     </g>\n    </g>\n    <g id=\"ytick_2\">\n     <g id=\"line2d_8\">\n      <g>\n       <use xlink:href=\"#m00da8c69bd\" x=\"28.942188\" y=\"219.13558\" style=\"stroke: #000000; stroke-width: 0.8\"/>\n      </g>\n     </g>\n     <g id=\"text_8\">\n      <!-- −1 -->\n      <g transform=\"translate(7.2 222.934799) scale(0.1 -0.1)\">\n       <use xlink:href=\"#DejaVuSans-2212\"/>\n       <use xlink:href=\"#DejaVuSans-31\" x=\"83.789062\"/>\n      </g>\n     </g>\n    </g>\n    <g id=\"ytick_3\">\n     <g id=\"line2d_9\">\n      <g>\n       <use xlink:href=\"#m00da8c69bd\" x=\"28.942188\" y=\"167.899855\" style=\"stroke: #000000; stroke-width: 0.8\"/>\n      </g>\n     </g>\n     <g id=\"text_9\">\n      <!-- 0 -->\n      <g transform=\"translate(15.579688 171.699073) scale(0.1 -0.1)\">\n       <use xlink:href=\"#DejaVuSans-30\"/>\n      </g>\n     </g>\n    </g>\n    <g id=\"ytick_4\">\n     <g id=\"line2d_10\">\n      <g>\n       <use xlink:href=\"#m00da8c69bd\" x=\"28.942188\" y=\"116.664129\" style=\"stroke: #000000; stroke-width: 0.8\"/>\n      </g>\n     </g>\n     <g id=\"text_10\">\n      <!-- 1 -->\n      <g transform=\"translate(15.579688 120.463348) scale(0.1 -0.1)\">\n       <use xlink:href=\"#DejaVuSans-31\"/>\n      </g>\n     </g>\n    </g>\n    <g id=\"ytick_5\">\n     <g id=\"line2d_11\">\n      <g>\n       <use xlink:href=\"#m00da8c69bd\" x=\"28.942188\" y=\"65.428404\" style=\"stroke: #000000; stroke-width: 0.8\"/>\n      </g>\n     </g>\n     <g id=\"text_11\">\n      <!-- 2 -->\n      <g transform=\"translate(15.579688 69.227623) scale(0.1 -0.1)\">\n       <use xlink:href=\"#DejaVuSans-32\"/>\n      </g>\n     </g>\n    </g>\n    <g id=\"ytick_6\">\n     <g id=\"line2d_12\">\n      <g>\n       <use xlink:href=\"#m00da8c69bd\" x=\"28.942188\" y=\"14.192679\" style=\"stroke: #000000; stroke-width: 0.8\"/>\n      </g>\n     </g>\n     <g id=\"text_12\">\n      <!-- 3 -->\n      <g transform=\"translate(15.579688 17.991898) scale(0.1 -0.1)\">\n       <use xlink:href=\"#DejaVuSans-33\"/>\n      </g>\n     </g>\n    </g>\n   </g>\n   <g id=\"patch_3\">\n    <path d=\"M 28.942188 273.312 \nL 28.942188 7.2 \n\" style=\"fill: none; stroke: #000000; stroke-width: 0.8; stroke-linejoin: miter; stroke-linecap: square\"/>\n   </g>\n   <g id=\"patch_4\">\n    <path d=\"M 386.062188 273.312 \nL 386.062188 7.2 \n\" style=\"fill: none; stroke: #000000; stroke-width: 0.8; stroke-linejoin: miter; stroke-linecap: square\"/>\n   </g>\n   <g id=\"patch_5\">\n    <path d=\"M 28.942188 273.312 \nL 386.062188 273.312 \n\" style=\"fill: none; stroke: #000000; stroke-width: 0.8; stroke-linejoin: miter; stroke-linecap: square\"/>\n   </g>\n   <g id=\"patch_6\">\n    <path d=\"M 28.942188 7.2 \nL 386.062188 7.2 \n\" style=\"fill: none; stroke: #000000; stroke-width: 0.8; stroke-linejoin: miter; stroke-linecap: square\"/>\n   </g>\n  </g>\n </g>\n <defs>\n  <clipPath id=\"p9a665b5f49\">\n   <rect x=\"28.942188\" y=\"7.2\" width=\"357.12\" height=\"266.112\"/>\n  </clipPath>\n </defs>\n</svg>\n"
          },
          "metadata": {}
        }
      ],
      "source": [
        "plt.scatter(X_train[:, 0], X_train[:, 1], c=y_train);"
      ]
    },
    {
      "cell_type": "code",
      "execution_count": 25,
      "metadata": {
        "id": "duSGNp2Iw_5e",
        "colab": {
          "base_uri": "https://localhost:8080/",
          "height": 417
        },
        "outputId": "0f2b81b3-864f-4526-9321-522bc4db3acc"
      },
      "outputs": [
        {
          "output_type": "display_data",
          "data": {
            "text/plain": [
              "<Figure size 640x480 with 1 Axes>"
            ],
            "image/svg+xml": "<?xml version=\"1.0\" encoding=\"utf-8\" standalone=\"no\"?>\n<!DOCTYPE svg PUBLIC \"-//W3C//DTD SVG 1.1//EN\"\n  \"http://www.w3.org/Graphics/SVG/1.1/DTD/svg11.dtd\">\n<svg xmlns:xlink=\"http://www.w3.org/1999/xlink\" width=\"393.262187pt\" height=\"297.190125pt\" viewBox=\"0 0 393.262187 297.190125\" xmlns=\"http://www.w3.org/2000/svg\" version=\"1.1\">\n <metadata>\n  <rdf:RDF xmlns:dc=\"http://purl.org/dc/elements/1.1/\" xmlns:cc=\"http://creativecommons.org/ns#\" xmlns:rdf=\"http://www.w3.org/1999/02/22-rdf-syntax-ns#\">\n   <cc:Work>\n    <dc:type rdf:resource=\"http://purl.org/dc/dcmitype/StillImage\"/>\n    <dc:date>2024-07-05T15:52:03.424323</dc:date>\n    <dc:format>image/svg+xml</dc:format>\n    <dc:creator>\n     <cc:Agent>\n      <dc:title>Matplotlib v3.7.1, https://matplotlib.org/</dc:title>\n     </cc:Agent>\n    </dc:creator>\n   </cc:Work>\n  </rdf:RDF>\n </metadata>\n <defs>\n  <style type=\"text/css\">*{stroke-linejoin: round; stroke-linecap: butt}</style>\n </defs>\n <g id=\"figure_1\">\n  <g id=\"patch_1\">\n   <path d=\"M 0 297.190125 \nL 393.262187 297.190125 \nL 393.262187 0 \nL 0 0 \nz\n\" style=\"fill: #ffffff\"/>\n  </g>\n  <g id=\"axes_1\">\n   <g id=\"patch_2\">\n    <path d=\"M 28.942188 273.312 \nL 386.062188 273.312 \nL 386.062188 7.2 \nL 28.942188 7.2 \nz\n\" style=\"fill: #ffffff\"/>\n   </g>\n   <g id=\"PathCollection_1\">\n    <defs>\n     <path id=\"C0_0_3c5e96c27d\" d=\"M 0 3 \nC 0.795609 3 1.55874 2.683901 2.12132 2.12132 \nC 2.683901 1.55874 3 0.795609 3 -0 \nC 3 -0.795609 2.683901 -1.55874 2.12132 -2.12132 \nC 1.55874 -2.683901 0.795609 -3 0 -3 \nC -0.795609 -3 -1.55874 -2.683901 -2.12132 -2.12132 \nC -2.683901 -1.55874 -3 -0.795609 -3 0 \nC -3 0.795609 -2.683901 1.55874 -2.12132 2.12132 \nC -1.55874 2.683901 -0.795609 3 0 3 \nz\n\"/>\n    </defs>\n    <g clip-path=\"url(#p8a586e3eca)\">\n     <use xlink:href=\"#C0_0_3c5e96c27d\" x=\"193.588421\" y=\"168.403925\" style=\"fill: #440154; stroke: #440154\"/>\n    </g>\n    <g clip-path=\"url(#p8a586e3eca)\">\n     <use xlink:href=\"#C0_0_3c5e96c27d\" x=\"156.485045\" y=\"198.834113\" style=\"fill: #440154; stroke: #440154\"/>\n    </g>\n    <g clip-path=\"url(#p8a586e3eca)\">\n     <use xlink:href=\"#C0_0_3c5e96c27d\" x=\"110.105824\" y=\"184.379774\" style=\"fill: #440154; stroke: #440154\"/>\n    </g>\n    <g clip-path=\"url(#p8a586e3eca)\">\n     <use xlink:href=\"#C0_0_3c5e96c27d\" x=\"91.554136\" y=\"127.32317\" style=\"fill: #440154; stroke: #440154\"/>\n    </g>\n    <g clip-path=\"url(#p8a586e3eca)\">\n     <use xlink:href=\"#C0_0_3c5e96c27d\" x=\"193.588421\" y=\"202.637887\" style=\"fill: #440154; stroke: #440154\"/>\n    </g>\n    <g clip-path=\"url(#p8a586e3eca)\">\n     <use xlink:href=\"#C0_0_3c5e96c27d\" x=\"119.381668\" y=\"152.428075\" style=\"fill: #fde725; stroke: #fde725\"/>\n    </g>\n    <g clip-path=\"url(#p8a586e3eca)\">\n     <use xlink:href=\"#C0_0_3c5e96c27d\" x=\"230.691798\" y=\"224.699774\" style=\"fill: #fde725; stroke: #fde725\"/>\n    </g>\n    <g clip-path=\"url(#p8a586e3eca)\">\n     <use xlink:href=\"#C0_0_3c5e96c27d\" x=\"221.415954\" y=\"197.312604\" style=\"fill: #440154; stroke: #440154\"/>\n    </g>\n    <g clip-path=\"url(#p8a586e3eca)\">\n     <use xlink:href=\"#C0_0_3c5e96c27d\" x=\"165.760889\" y=\"156.231849\" style=\"fill: #440154; stroke: #440154\"/>\n    </g>\n    <g clip-path=\"url(#p8a586e3eca)\">\n     <use xlink:href=\"#C0_0_3c5e96c27d\" x=\"128.657512\" y=\"178.293736\" style=\"fill: #440154; stroke: #440154\"/>\n    </g>\n    <g clip-path=\"url(#p8a586e3eca)\">\n     <use xlink:href=\"#C0_0_3c5e96c27d\" x=\"230.691798\" y=\"197.312604\" style=\"fill: #fde725; stroke: #fde725\"/>\n    </g>\n    <g clip-path=\"url(#p8a586e3eca)\">\n     <use xlink:href=\"#C0_0_3c5e96c27d\" x=\"314.174395\" y=\"191.987321\" style=\"fill: #440154; stroke: #440154\"/>\n    </g>\n    <g clip-path=\"url(#p8a586e3eca)\">\n     <use xlink:href=\"#C0_0_3c5e96c27d\" x=\"258.51933\" y=\"168.403925\" style=\"fill: #440154; stroke: #440154\"/>\n    </g>\n    <g clip-path=\"url(#p8a586e3eca)\">\n     <use xlink:href=\"#C0_0_3c5e96c27d\" x=\"230.691798\" y=\"198.834113\" style=\"fill: #fde725; stroke: #fde725\"/>\n    </g>\n    <g clip-path=\"url(#p8a586e3eca)\">\n     <use xlink:href=\"#C0_0_3c5e96c27d\" x=\"137.933356\" y=\"171.446943\" style=\"fill: #440154; stroke: #440154\"/>\n    </g>\n    <g clip-path=\"url(#p8a586e3eca)\">\n     <use xlink:href=\"#C0_0_3c5e96c27d\" x=\"212.14011\" y=\"152.428075\" style=\"fill: #440154; stroke: #440154\"/>\n    </g>\n    <g clip-path=\"url(#p8a586e3eca)\">\n     <use xlink:href=\"#C0_0_3c5e96c27d\" x=\"73.002447\" y=\"168.403925\" style=\"fill: #fde725; stroke: #fde725\"/>\n    </g>\n    <g clip-path=\"url(#p8a586e3eca)\">\n     <use xlink:href=\"#C0_0_3c5e96c27d\" x=\"73.002447\" y=\"156.992604\" style=\"fill: #440154; stroke: #440154\"/>\n    </g>\n    <g clip-path=\"url(#p8a586e3eca)\">\n     <use xlink:href=\"#C0_0_3c5e96c27d\" x=\"100.82998\" y=\"146.342038\" style=\"fill: #440154; stroke: #440154\"/>\n    </g>\n    <g clip-path=\"url(#p8a586e3eca)\">\n     <use xlink:href=\"#C0_0_3c5e96c27d\" x=\"184.312577\" y=\"186.662038\" style=\"fill: #440154; stroke: #440154\"/>\n    </g>\n    <g clip-path=\"url(#p8a586e3eca)\">\n     <use xlink:href=\"#C0_0_3c5e96c27d\" x=\"91.554136\" y=\"204.159396\" style=\"fill: #440154; stroke: #440154\"/>\n    </g>\n    <g clip-path=\"url(#p8a586e3eca)\">\n     <use xlink:href=\"#C0_0_3c5e96c27d\" x=\"137.933356\" y=\"202.637887\" style=\"fill: #440154; stroke: #440154\"/>\n    </g>\n    <g clip-path=\"url(#p8a586e3eca)\">\n     <use xlink:href=\"#C0_0_3c5e96c27d\" x=\"100.82998\" y=\"152.428075\" style=\"fill: #440154; stroke: #440154\"/>\n    </g>\n    <g clip-path=\"url(#p8a586e3eca)\">\n     <use xlink:href=\"#C0_0_3c5e96c27d\" x=\"73.002447\" y=\"186.662038\" style=\"fill: #440154; stroke: #440154\"/>\n    </g>\n    <g clip-path=\"url(#p8a586e3eca)\">\n     <use xlink:href=\"#C0_0_3c5e96c27d\" x=\"91.554136\" y=\"211.766943\" style=\"fill: #fde725; stroke: #fde725\"/>\n    </g>\n    <g clip-path=\"url(#p8a586e3eca)\">\n     <use xlink:href=\"#C0_0_3c5e96c27d\" x=\"175.036733\" y=\"156.992604\" style=\"fill: #440154; stroke: #440154\"/>\n    </g>\n    <g clip-path=\"url(#p8a586e3eca)\">\n     <use xlink:href=\"#C0_0_3c5e96c27d\" x=\"184.312577\" y=\"106.782792\" style=\"fill: #fde725; stroke: #fde725\"/>\n    </g>\n    <g clip-path=\"url(#p8a586e3eca)\">\n     <use xlink:href=\"#C0_0_3c5e96c27d\" x=\"193.588421\" y=\"144.820528\" style=\"fill: #fde725; stroke: #fde725\"/>\n    </g>\n    <g clip-path=\"url(#p8a586e3eca)\">\n     <use xlink:href=\"#C0_0_3c5e96c27d\" x=\"128.657512\" y=\"61.898264\" style=\"fill: #fde725; stroke: #fde725\"/>\n    </g>\n    <g clip-path=\"url(#p8a586e3eca)\">\n     <use xlink:href=\"#C0_0_3c5e96c27d\" x=\"239.967642\" y=\"67.984302\" style=\"fill: #fde725; stroke: #fde725\"/>\n    </g>\n    <g clip-path=\"url(#p8a586e3eca)\">\n     <use xlink:href=\"#C0_0_3c5e96c27d\" x=\"156.485045\" y=\"146.342038\" style=\"fill: #440154; stroke: #440154\"/>\n    </g>\n    <g clip-path=\"url(#p8a586e3eca)\">\n     <use xlink:href=\"#C0_0_3c5e96c27d\" x=\"221.415954\" y=\"195.791094\" style=\"fill: #fde725; stroke: #fde725\"/>\n    </g>\n    <g clip-path=\"url(#p8a586e3eca)\">\n     <use xlink:href=\"#C0_0_3c5e96c27d\" x=\"184.312577\" y=\"209.484679\" style=\"fill: #fde725; stroke: #fde725\"/>\n    </g>\n    <g clip-path=\"url(#p8a586e3eca)\">\n     <use xlink:href=\"#C0_0_3c5e96c27d\" x=\"128.657512\" y=\"191.226566\" style=\"fill: #440154; stroke: #440154\"/>\n    </g>\n    <g clip-path=\"url(#p8a586e3eca)\">\n     <use xlink:href=\"#C0_0_3c5e96c27d\" x=\"221.415954\" y=\"202.637887\" style=\"fill: #fde725; stroke: #fde725\"/>\n    </g>\n    <g clip-path=\"url(#p8a586e3eca)\">\n     <use xlink:href=\"#C0_0_3c5e96c27d\" x=\"221.415954\" y=\"200.355623\" style=\"fill: #fde725; stroke: #fde725\"/>\n    </g>\n    <g clip-path=\"url(#p8a586e3eca)\">\n     <use xlink:href=\"#C0_0_3c5e96c27d\" x=\"137.933356\" y=\"168.403925\" style=\"fill: #440154; stroke: #440154\"/>\n    </g>\n    <g clip-path=\"url(#p8a586e3eca)\">\n     <use xlink:href=\"#C0_0_3c5e96c27d\" x=\"221.415954\" y=\"197.312604\" style=\"fill: #440154; stroke: #440154\"/>\n    </g>\n    <g clip-path=\"url(#p8a586e3eca)\">\n     <use xlink:href=\"#C0_0_3c5e96c27d\" x=\"91.554136\" y=\"146.342038\" style=\"fill: #fde725; stroke: #fde725\"/>\n    </g>\n    <g clip-path=\"url(#p8a586e3eca)\">\n     <use xlink:href=\"#C0_0_3c5e96c27d\" x=\"369.82946\" y=\"145.581283\" style=\"fill: #fde725; stroke: #fde725\"/>\n    </g>\n    <g clip-path=\"url(#p8a586e3eca)\">\n     <use xlink:href=\"#C0_0_3c5e96c27d\" x=\"175.036733\" y=\"150.906566\" style=\"fill: #fde725; stroke: #fde725\"/>\n    </g>\n    <g clip-path=\"url(#p8a586e3eca)\">\n     <use xlink:href=\"#C0_0_3c5e96c27d\" x=\"230.691798\" y=\"22.339019\" style=\"fill: #440154; stroke: #440154\"/>\n    </g>\n    <g clip-path=\"url(#p8a586e3eca)\">\n     <use xlink:href=\"#C0_0_3c5e96c27d\" x=\"91.554136\" y=\"75.591849\" style=\"fill: #440154; stroke: #440154\"/>\n    </g>\n    <g clip-path=\"url(#p8a586e3eca)\">\n     <use xlink:href=\"#C0_0_3c5e96c27d\" x=\"165.760889\" y=\"152.428075\" style=\"fill: #fde725; stroke: #fde725\"/>\n    </g>\n    <g clip-path=\"url(#p8a586e3eca)\">\n     <use xlink:href=\"#C0_0_3c5e96c27d\" x=\"73.002447\" y=\"176.772226\" style=\"fill: #440154; stroke: #440154\"/>\n    </g>\n    <g clip-path=\"url(#p8a586e3eca)\">\n     <use xlink:href=\"#C0_0_3c5e96c27d\" x=\"193.588421\" y=\"156.992604\" style=\"fill: #fde725; stroke: #fde725\"/>\n    </g>\n    <g clip-path=\"url(#p8a586e3eca)\">\n     <use xlink:href=\"#C0_0_3c5e96c27d\" x=\"156.485045\" y=\"109.065057\" style=\"fill: #fde725; stroke: #fde725\"/>\n    </g>\n    <g clip-path=\"url(#p8a586e3eca)\">\n     <use xlink:href=\"#C0_0_3c5e96c27d\" x=\"100.82998\" y=\"169.164679\" style=\"fill: #440154; stroke: #440154\"/>\n    </g>\n    <g clip-path=\"url(#p8a586e3eca)\">\n     <use xlink:href=\"#C0_0_3c5e96c27d\" x=\"184.312577\" y=\"198.834113\" style=\"fill: #fde725; stroke: #fde725\"/>\n    </g>\n    <g clip-path=\"url(#p8a586e3eca)\">\n     <use xlink:href=\"#C0_0_3c5e96c27d\" x=\"91.554136\" y=\"146.342038\" style=\"fill: #440154; stroke: #440154\"/>\n    </g>\n    <g clip-path=\"url(#p8a586e3eca)\">\n     <use xlink:href=\"#C0_0_3c5e96c27d\" x=\"100.82998\" y=\"226.982038\" style=\"fill: #440154; stroke: #440154\"/>\n    </g>\n    <g clip-path=\"url(#p8a586e3eca)\">\n     <use xlink:href=\"#C0_0_3c5e96c27d\" x=\"193.588421\" y=\"216.331472\" style=\"fill: #fde725; stroke: #fde725\"/>\n    </g>\n    <g clip-path=\"url(#p8a586e3eca)\">\n     <use xlink:href=\"#C0_0_3c5e96c27d\" x=\"110.105824\" y=\"216.331472\" style=\"fill: #440154; stroke: #440154\"/>\n    </g>\n    <g clip-path=\"url(#p8a586e3eca)\">\n     <use xlink:href=\"#C0_0_3c5e96c27d\" x=\"193.588421\" y=\"202.637887\" style=\"fill: #fde725; stroke: #fde725\"/>\n    </g>\n    <g clip-path=\"url(#p8a586e3eca)\">\n     <use xlink:href=\"#C0_0_3c5e96c27d\" x=\"156.485045\" y=\"176.772226\" style=\"fill: #fde725; stroke: #fde725\"/>\n    </g>\n    <g clip-path=\"url(#p8a586e3eca)\">\n     <use xlink:href=\"#C0_0_3c5e96c27d\" x=\"230.691798\" y=\"164.600151\" style=\"fill: #fde725; stroke: #fde725\"/>\n    </g>\n    <g clip-path=\"url(#p8a586e3eca)\">\n     <use xlink:href=\"#C0_0_3c5e96c27d\" x=\"73.002447\" y=\"90.046189\" style=\"fill: #440154; stroke: #440154\"/>\n    </g>\n    <g clip-path=\"url(#p8a586e3eca)\">\n     <use xlink:href=\"#C0_0_3c5e96c27d\" x=\"73.002447\" y=\"156.992604\" style=\"fill: #440154; stroke: #440154\"/>\n    </g>\n    <g clip-path=\"url(#p8a586e3eca)\">\n     <use xlink:href=\"#C0_0_3c5e96c27d\" x=\"128.657512\" y=\"144.820528\" style=\"fill: #440154; stroke: #440154\"/>\n    </g>\n    <g clip-path=\"url(#p8a586e3eca)\">\n     <use xlink:href=\"#C0_0_3c5e96c27d\" x=\"175.036733\" y=\"212.527698\" style=\"fill: #fde725; stroke: #fde725\"/>\n    </g>\n    <g clip-path=\"url(#p8a586e3eca)\">\n     <use xlink:href=\"#C0_0_3c5e96c27d\" x=\"193.588421\" y=\"257.412226\" style=\"fill: #440154; stroke: #440154\"/>\n    </g>\n    <g clip-path=\"url(#p8a586e3eca)\">\n     <use xlink:href=\"#C0_0_3c5e96c27d\" x=\"91.554136\" y=\"118.954868\" style=\"fill: #440154; stroke: #440154\"/>\n    </g>\n    <g clip-path=\"url(#p8a586e3eca)\">\n     <use xlink:href=\"#C0_0_3c5e96c27d\" x=\"239.967642\" y=\"222.417509\" style=\"fill: #440154; stroke: #440154\"/>\n    </g>\n    <g clip-path=\"url(#p8a586e3eca)\">\n     <use xlink:href=\"#C0_0_3c5e96c27d\" x=\"221.415954\" y=\"202.637887\" style=\"fill: #440154; stroke: #440154\"/>\n    </g>\n    <g clip-path=\"url(#p8a586e3eca)\">\n     <use xlink:href=\"#C0_0_3c5e96c27d\" x=\"156.485045\" y=\"145.581283\" style=\"fill: #440154; stroke: #440154\"/>\n    </g>\n    <g clip-path=\"url(#p8a586e3eca)\">\n     <use xlink:href=\"#C0_0_3c5e96c27d\" x=\"100.82998\" y=\"90.046189\" style=\"fill: #440154; stroke: #440154\"/>\n    </g>\n    <g clip-path=\"url(#p8a586e3eca)\">\n     <use xlink:href=\"#C0_0_3c5e96c27d\" x=\"45.174915\" y=\"124.280151\" style=\"fill: #440154; stroke: #440154\"/>\n    </g>\n    <g clip-path=\"url(#p8a586e3eca)\">\n     <use xlink:href=\"#C0_0_3c5e96c27d\" x=\"82.278291\" y=\"138.734491\" style=\"fill: #440154; stroke: #440154\"/>\n    </g>\n    <g clip-path=\"url(#p8a586e3eca)\">\n     <use xlink:href=\"#C0_0_3c5e96c27d\" x=\"156.485045\" y=\"188.944302\" style=\"fill: #fde725; stroke: #fde725\"/>\n    </g>\n    <g clip-path=\"url(#p8a586e3eca)\">\n     <use xlink:href=\"#C0_0_3c5e96c27d\" x=\"63.726603\" y=\"118.954868\" style=\"fill: #440154; stroke: #440154\"/>\n    </g>\n    <g clip-path=\"url(#p8a586e3eca)\">\n     <use xlink:href=\"#C0_0_3c5e96c27d\" x=\"184.312577\" y=\"195.03034\" style=\"fill: #fde725; stroke: #fde725\"/>\n    </g>\n    <g clip-path=\"url(#p8a586e3eca)\">\n     <use xlink:href=\"#C0_0_3c5e96c27d\" x=\"165.760889\" y=\"61.898264\" style=\"fill: #440154; stroke: #440154\"/>\n    </g>\n    <g clip-path=\"url(#p8a586e3eca)\">\n     <use xlink:href=\"#C0_0_3c5e96c27d\" x=\"230.691798\" y=\"191.226566\" style=\"fill: #fde725; stroke: #fde725\"/>\n    </g>\n    <g clip-path=\"url(#p8a586e3eca)\">\n     <use xlink:href=\"#C0_0_3c5e96c27d\" x=\"193.588421\" y=\"217.852981\" style=\"fill: #440154; stroke: #440154\"/>\n    </g>\n    <g clip-path=\"url(#p8a586e3eca)\">\n     <use xlink:href=\"#C0_0_3c5e96c27d\" x=\"73.002447\" y=\"191.987321\" style=\"fill: #440154; stroke: #440154\"/>\n    </g>\n    <g clip-path=\"url(#p8a586e3eca)\">\n     <use xlink:href=\"#C0_0_3c5e96c27d\" x=\"314.174395\" y=\"224.699774\" style=\"fill: #fde725; stroke: #fde725\"/>\n    </g>\n    <g clip-path=\"url(#p8a586e3eca)\">\n     <use xlink:href=\"#C0_0_3c5e96c27d\" x=\"156.485045\" y=\"109.065057\" style=\"fill: #440154; stroke: #440154\"/>\n    </g>\n    <g clip-path=\"url(#p8a586e3eca)\">\n     <use xlink:href=\"#C0_0_3c5e96c27d\" x=\"193.588421\" y=\"202.637887\" style=\"fill: #fde725; stroke: #fde725\"/>\n    </g>\n    <g clip-path=\"url(#p8a586e3eca)\">\n     <use xlink:href=\"#C0_0_3c5e96c27d\" x=\"193.588421\" y=\"144.820528\" style=\"fill: #440154; stroke: #440154\"/>\n    </g>\n    <g clip-path=\"url(#p8a586e3eca)\">\n     <use xlink:href=\"#C0_0_3c5e96c27d\" x=\"100.82998\" y=\"106.782792\" style=\"fill: #440154; stroke: #440154\"/>\n    </g>\n    <g clip-path=\"url(#p8a586e3eca)\">\n     <use xlink:href=\"#C0_0_3c5e96c27d\" x=\"193.588421\" y=\"144.820528\" style=\"fill: #440154; stroke: #440154\"/>\n    </g>\n    <g clip-path=\"url(#p8a586e3eca)\">\n     <use xlink:href=\"#C0_0_3c5e96c27d\" x=\"175.036733\" y=\"200.355623\" style=\"fill: #440154; stroke: #440154\"/>\n    </g>\n    <g clip-path=\"url(#p8a586e3eca)\">\n     <use xlink:href=\"#C0_0_3c5e96c27d\" x=\"100.82998\" y=\"156.992604\" style=\"fill: #440154; stroke: #440154\"/>\n    </g>\n    <g clip-path=\"url(#p8a586e3eca)\">\n     <use xlink:href=\"#C0_0_3c5e96c27d\" x=\"175.036733\" y=\"202.637887\" style=\"fill: #fde725; stroke: #fde725\"/>\n    </g>\n    <g clip-path=\"url(#p8a586e3eca)\">\n     <use xlink:href=\"#C0_0_3c5e96c27d\" x=\"91.554136\" y=\"75.591849\" style=\"fill: #440154; stroke: #440154\"/>\n    </g>\n    <g clip-path=\"url(#p8a586e3eca)\">\n     <use xlink:href=\"#C0_0_3c5e96c27d\" x=\"184.312577\" y=\"19.296\" style=\"fill: #440154; stroke: #440154\"/>\n    </g>\n    <g clip-path=\"url(#p8a586e3eca)\">\n     <use xlink:href=\"#C0_0_3c5e96c27d\" x=\"63.726603\" y=\"191.226566\" style=\"fill: #440154; stroke: #440154\"/>\n    </g>\n    <g clip-path=\"url(#p8a586e3eca)\">\n     <use xlink:href=\"#C0_0_3c5e96c27d\" x=\"193.588421\" y=\"195.791094\" style=\"fill: #fde725; stroke: #fde725\"/>\n    </g>\n    <g clip-path=\"url(#p8a586e3eca)\">\n     <use xlink:href=\"#C0_0_3c5e96c27d\" x=\"193.588421\" y=\"209.484679\" style=\"fill: #fde725; stroke: #fde725\"/>\n    </g>\n    <g clip-path=\"url(#p8a586e3eca)\">\n     <use xlink:href=\"#C0_0_3c5e96c27d\" x=\"100.82998\" y=\"156.992604\" style=\"fill: #440154; stroke: #440154\"/>\n    </g>\n    <g clip-path=\"url(#p8a586e3eca)\">\n     <use xlink:href=\"#C0_0_3c5e96c27d\" x=\"193.588421\" y=\"207.202415\" style=\"fill: #fde725; stroke: #fde725\"/>\n    </g>\n    <g clip-path=\"url(#p8a586e3eca)\">\n     <use xlink:href=\"#C0_0_3c5e96c27d\" x=\"230.691798\" y=\"192.748075\" style=\"fill: #fde725; stroke: #fde725\"/>\n    </g>\n    <g clip-path=\"url(#p8a586e3eca)\">\n     <use xlink:href=\"#C0_0_3c5e96c27d\" x=\"230.691798\" y=\"202.637887\" style=\"fill: #fde725; stroke: #fde725\"/>\n    </g>\n    <g clip-path=\"url(#p8a586e3eca)\">\n     <use xlink:href=\"#C0_0_3c5e96c27d\" x=\"193.588421\" y=\"224.699774\" style=\"fill: #fde725; stroke: #fde725\"/>\n    </g>\n    <g clip-path=\"url(#p8a586e3eca)\">\n     <use xlink:href=\"#C0_0_3c5e96c27d\" x=\"314.174395\" y=\"224.699774\" style=\"fill: #440154; stroke: #440154\"/>\n    </g>\n    <g clip-path=\"url(#p8a586e3eca)\">\n     <use xlink:href=\"#C0_0_3c5e96c27d\" x=\"230.691798\" y=\"212.527698\" style=\"fill: #440154; stroke: #440154\"/>\n    </g>\n    <g clip-path=\"url(#p8a586e3eca)\">\n     <use xlink:href=\"#C0_0_3c5e96c27d\" x=\"73.002447\" y=\"138.734491\" style=\"fill: #fde725; stroke: #fde725\"/>\n    </g>\n    <g clip-path=\"url(#p8a586e3eca)\">\n     <use xlink:href=\"#C0_0_3c5e96c27d\" x=\"73.002447\" y=\"207.202415\" style=\"fill: #fde725; stroke: #fde725\"/>\n    </g>\n    <g clip-path=\"url(#p8a586e3eca)\">\n     <use xlink:href=\"#C0_0_3c5e96c27d\" x=\"137.933356\" y=\"226.982038\" style=\"fill: #440154; stroke: #440154\"/>\n    </g>\n    <g clip-path=\"url(#p8a586e3eca)\">\n     <use xlink:href=\"#C0_0_3c5e96c27d\" x=\"221.415954\" y=\"184.379774\" style=\"fill: #440154; stroke: #440154\"/>\n    </g>\n    <g clip-path=\"url(#p8a586e3eca)\">\n     <use xlink:href=\"#C0_0_3c5e96c27d\" x=\"110.105824\" y=\"195.791094\" style=\"fill: #fde725; stroke: #fde725\"/>\n    </g>\n    <g clip-path=\"url(#p8a586e3eca)\">\n     <use xlink:href=\"#C0_0_3c5e96c27d\" x=\"258.51933\" y=\"145.581283\" style=\"fill: #440154; stroke: #440154\"/>\n    </g>\n    <g clip-path=\"url(#p8a586e3eca)\">\n     <use xlink:href=\"#C0_0_3c5e96c27d\" x=\"128.657512\" y=\"152.428075\" style=\"fill: #440154; stroke: #440154\"/>\n    </g>\n    <g clip-path=\"url(#p8a586e3eca)\">\n     <use xlink:href=\"#C0_0_3c5e96c27d\" x=\"63.726603\" y=\"171.446943\" style=\"fill: #440154; stroke: #440154\"/>\n    </g>\n    <g clip-path=\"url(#p8a586e3eca)\">\n     <use xlink:href=\"#C0_0_3c5e96c27d\" x=\"100.82998\" y=\"226.982038\" style=\"fill: #440154; stroke: #440154\"/>\n    </g>\n    <g clip-path=\"url(#p8a586e3eca)\">\n     <use xlink:href=\"#C0_0_3c5e96c27d\" x=\"119.381668\" y=\"195.791094\" style=\"fill: #440154; stroke: #440154\"/>\n    </g>\n    <g clip-path=\"url(#p8a586e3eca)\">\n     <use xlink:href=\"#C0_0_3c5e96c27d\" x=\"184.312577\" y=\"209.484679\" style=\"fill: #440154; stroke: #440154\"/>\n    </g>\n    <g clip-path=\"url(#p8a586e3eca)\">\n     <use xlink:href=\"#C0_0_3c5e96c27d\" x=\"156.485045\" y=\"200.355623\" style=\"fill: #fde725; stroke: #fde725\"/>\n    </g>\n    <g clip-path=\"url(#p8a586e3eca)\">\n     <use xlink:href=\"#C0_0_3c5e96c27d\" x=\"184.312577\" y=\"202.637887\" style=\"fill: #440154; stroke: #440154\"/>\n    </g>\n    <g clip-path=\"url(#p8a586e3eca)\">\n     <use xlink:href=\"#C0_0_3c5e96c27d\" x=\"165.760889\" y=\"196.551849\" style=\"fill: #440154; stroke: #440154\"/>\n    </g>\n    <g clip-path=\"url(#p8a586e3eca)\">\n     <use xlink:href=\"#C0_0_3c5e96c27d\" x=\"184.312577\" y=\"222.417509\" style=\"fill: #fde725; stroke: #fde725\"/>\n    </g>\n    <g clip-path=\"url(#p8a586e3eca)\">\n     <use xlink:href=\"#C0_0_3c5e96c27d\" x=\"110.105824\" y=\"202.637887\" style=\"fill: #440154; stroke: #440154\"/>\n    </g>\n    <g clip-path=\"url(#p8a586e3eca)\">\n     <use xlink:href=\"#C0_0_3c5e96c27d\" x=\"221.415954\" y=\"168.403925\" style=\"fill: #fde725; stroke: #fde725\"/>\n    </g>\n    <g clip-path=\"url(#p8a586e3eca)\">\n     <use xlink:href=\"#C0_0_3c5e96c27d\" x=\"45.174915\" y=\"138.734491\" style=\"fill: #440154; stroke: #440154\"/>\n    </g>\n    <g clip-path=\"url(#p8a586e3eca)\">\n     <use xlink:href=\"#C0_0_3c5e96c27d\" x=\"184.312577\" y=\"171.446943\" style=\"fill: #fde725; stroke: #fde725\"/>\n    </g>\n    <g clip-path=\"url(#p8a586e3eca)\">\n     <use xlink:href=\"#C0_0_3c5e96c27d\" x=\"137.933356\" y=\"145.581283\" style=\"fill: #fde725; stroke: #fde725\"/>\n    </g>\n    <g clip-path=\"url(#p8a586e3eca)\">\n     <use xlink:href=\"#C0_0_3c5e96c27d\" x=\"91.554136\" y=\"191.226566\" style=\"fill: #440154; stroke: #440154\"/>\n    </g>\n    <g clip-path=\"url(#p8a586e3eca)\">\n     <use xlink:href=\"#C0_0_3c5e96c27d\" x=\"193.588421\" y=\"249.804679\" style=\"fill: #440154; stroke: #440154\"/>\n    </g>\n    <g clip-path=\"url(#p8a586e3eca)\">\n     <use xlink:href=\"#C0_0_3c5e96c27d\" x=\"193.588421\" y=\"257.412226\" style=\"fill: #fde725; stroke: #fde725\"/>\n    </g>\n    <g clip-path=\"url(#p8a586e3eca)\">\n     <use xlink:href=\"#C0_0_3c5e96c27d\" x=\"73.002447\" y=\"109.825811\" style=\"fill: #440154; stroke: #440154\"/>\n    </g>\n    <g clip-path=\"url(#p8a586e3eca)\">\n     <use xlink:href=\"#C0_0_3c5e96c27d\" x=\"91.554136\" y=\"204.159396\" style=\"fill: #440154; stroke: #440154\"/>\n    </g>\n    <g clip-path=\"url(#p8a586e3eca)\">\n     <use xlink:href=\"#C0_0_3c5e96c27d\" x=\"184.312577\" y=\"188.944302\" style=\"fill: #fde725; stroke: #fde725\"/>\n    </g>\n    <g clip-path=\"url(#p8a586e3eca)\">\n     <use xlink:href=\"#C0_0_3c5e96c27d\" x=\"221.415954\" y=\"191.226566\" style=\"fill: #fde725; stroke: #fde725\"/>\n    </g>\n    <g clip-path=\"url(#p8a586e3eca)\">\n     <use xlink:href=\"#C0_0_3c5e96c27d\" x=\"63.726603\" y=\"250.565434\" style=\"fill: #440154; stroke: #440154\"/>\n    </g>\n    <g clip-path=\"url(#p8a586e3eca)\">\n     <use xlink:href=\"#C0_0_3c5e96c27d\" x=\"100.82998\" y=\"202.637887\" style=\"fill: #fde725; stroke: #fde725\"/>\n    </g>\n    <g clip-path=\"url(#p8a586e3eca)\">\n     <use xlink:href=\"#C0_0_3c5e96c27d\" x=\"100.82998\" y=\"144.820528\" style=\"fill: #fde725; stroke: #fde725\"/>\n    </g>\n    <g clip-path=\"url(#p8a586e3eca)\">\n     <use xlink:href=\"#C0_0_3c5e96c27d\" x=\"100.82998\" y=\"152.428075\" style=\"fill: #fde725; stroke: #fde725\"/>\n    </g>\n    <g clip-path=\"url(#p8a586e3eca)\">\n     <use xlink:href=\"#C0_0_3c5e96c27d\" x=\"156.485045\" y=\"148.624302\" style=\"fill: #440154; stroke: #440154\"/>\n    </g>\n    <g clip-path=\"url(#p8a586e3eca)\">\n     <use xlink:href=\"#C0_0_3c5e96c27d\" x=\"128.657512\" y=\"191.226566\" style=\"fill: #fde725; stroke: #fde725\"/>\n    </g>\n    <g clip-path=\"url(#p8a586e3eca)\">\n     <use xlink:href=\"#C0_0_3c5e96c27d\" x=\"184.312577\" y=\"22.339019\" style=\"fill: #fde725; stroke: #fde725\"/>\n    </g>\n    <g clip-path=\"url(#p8a586e3eca)\">\n     <use xlink:href=\"#C0_0_3c5e96c27d\" x=\"100.82998\" y=\"152.428075\" style=\"fill: #440154; stroke: #440154\"/>\n    </g>\n    <g clip-path=\"url(#p8a586e3eca)\">\n     <use xlink:href=\"#C0_0_3c5e96c27d\" x=\"156.485045\" y=\"192.748075\" style=\"fill: #fde725; stroke: #fde725\"/>\n    </g>\n    <g clip-path=\"url(#p8a586e3eca)\">\n     <use xlink:href=\"#C0_0_3c5e96c27d\" x=\"184.312577\" y=\"145.581283\" style=\"fill: #fde725; stroke: #fde725\"/>\n    </g>\n    <g clip-path=\"url(#p8a586e3eca)\">\n     <use xlink:href=\"#C0_0_3c5e96c27d\" x=\"156.485045\" y=\"120.476377\" style=\"fill: #fde725; stroke: #fde725\"/>\n    </g>\n    <g clip-path=\"url(#p8a586e3eca)\">\n     <use xlink:href=\"#C0_0_3c5e96c27d\" x=\"137.933356\" y=\"164.600151\" style=\"fill: #fde725; stroke: #fde725\"/>\n    </g>\n    <g clip-path=\"url(#p8a586e3eca)\">\n     <use xlink:href=\"#C0_0_3c5e96c27d\" x=\"212.14011\" y=\"198.834113\" style=\"fill: #440154; stroke: #440154\"/>\n    </g>\n    <g clip-path=\"url(#p8a586e3eca)\">\n     <use xlink:href=\"#C0_0_3c5e96c27d\" x=\"91.554136\" y=\"138.734491\" style=\"fill: #440154; stroke: #440154\"/>\n    </g>\n    <g clip-path=\"url(#p8a586e3eca)\">\n     <use xlink:href=\"#C0_0_3c5e96c27d\" x=\"202.864265\" y=\"75.591849\" style=\"fill: #fde725; stroke: #fde725\"/>\n    </g>\n    <g clip-path=\"url(#p8a586e3eca)\">\n     <use xlink:href=\"#C0_0_3c5e96c27d\" x=\"304.898551\" y=\"224.699774\" style=\"fill: #440154; stroke: #440154\"/>\n    </g>\n    <g clip-path=\"url(#p8a586e3eca)\">\n     <use xlink:href=\"#C0_0_3c5e96c27d\" x=\"137.933356\" y=\"191.226566\" style=\"fill: #fde725; stroke: #fde725\"/>\n    </g>\n    <g clip-path=\"url(#p8a586e3eca)\">\n     <use xlink:href=\"#C0_0_3c5e96c27d\" x=\"137.933356\" y=\"204.159396\" style=\"fill: #440154; stroke: #440154\"/>\n    </g>\n    <g clip-path=\"url(#p8a586e3eca)\">\n     <use xlink:href=\"#C0_0_3c5e96c27d\" x=\"239.967642\" y=\"202.637887\" style=\"fill: #440154; stroke: #440154\"/>\n    </g>\n    <g clip-path=\"url(#p8a586e3eca)\">\n     <use xlink:href=\"#C0_0_3c5e96c27d\" x=\"156.485045\" y=\"230.785811\" style=\"fill: #440154; stroke: #440154\"/>\n    </g>\n    <g clip-path=\"url(#p8a586e3eca)\">\n     <use xlink:href=\"#C0_0_3c5e96c27d\" x=\"221.415954\" y=\"184.379774\" style=\"fill: #fde725; stroke: #fde725\"/>\n    </g>\n    <g clip-path=\"url(#p8a586e3eca)\">\n     <use xlink:href=\"#C0_0_3c5e96c27d\" x=\"193.588421\" y=\"217.852981\" style=\"fill: #440154; stroke: #440154\"/>\n    </g>\n    <g clip-path=\"url(#p8a586e3eca)\">\n     <use xlink:href=\"#C0_0_3c5e96c27d\" x=\"304.898551\" y=\"200.355623\" style=\"fill: #fde725; stroke: #fde725\"/>\n    </g>\n    <g clip-path=\"url(#p8a586e3eca)\">\n     <use xlink:href=\"#C0_0_3c5e96c27d\" x=\"128.657512\" y=\"211.766943\" style=\"fill: #fde725; stroke: #fde725\"/>\n    </g>\n    <g clip-path=\"url(#p8a586e3eca)\">\n     <use xlink:href=\"#C0_0_3c5e96c27d\" x=\"184.312577\" y=\"198.834113\" style=\"fill: #440154; stroke: #440154\"/>\n    </g>\n    <g clip-path=\"url(#p8a586e3eca)\">\n     <use xlink:href=\"#C0_0_3c5e96c27d\" x=\"193.588421\" y=\"204.159396\" style=\"fill: #fde725; stroke: #fde725\"/>\n    </g>\n    <g clip-path=\"url(#p8a586e3eca)\">\n     <use xlink:href=\"#C0_0_3c5e96c27d\" x=\"230.691798\" y=\"202.637887\" style=\"fill: #fde725; stroke: #fde725\"/>\n    </g>\n    <g clip-path=\"url(#p8a586e3eca)\">\n     <use xlink:href=\"#C0_0_3c5e96c27d\" x=\"193.588421\" y=\"202.637887\" style=\"fill: #fde725; stroke: #fde725\"/>\n    </g>\n    <g clip-path=\"url(#p8a586e3eca)\">\n     <use xlink:href=\"#C0_0_3c5e96c27d\" x=\"221.415954\" y=\"204.159396\" style=\"fill: #440154; stroke: #440154\"/>\n    </g>\n    <g clip-path=\"url(#p8a586e3eca)\">\n     <use xlink:href=\"#C0_0_3c5e96c27d\" x=\"156.485045\" y=\"105.261283\" style=\"fill: #fde725; stroke: #fde725\"/>\n    </g>\n    <g clip-path=\"url(#p8a586e3eca)\">\n     <use xlink:href=\"#C0_0_3c5e96c27d\" x=\"212.14011\" y=\"184.379774\" style=\"fill: #fde725; stroke: #fde725\"/>\n    </g>\n    <g clip-path=\"url(#p8a586e3eca)\">\n     <use xlink:href=\"#C0_0_3c5e96c27d\" x=\"286.346863\" y=\"194.269585\" style=\"fill: #fde725; stroke: #fde725\"/>\n    </g>\n    <g clip-path=\"url(#p8a586e3eca)\">\n     <use xlink:href=\"#C0_0_3c5e96c27d\" x=\"73.002447\" y=\"81.677887\" style=\"fill: #440154; stroke: #440154\"/>\n    </g>\n    <g clip-path=\"url(#p8a586e3eca)\">\n     <use xlink:href=\"#C0_0_3c5e96c27d\" x=\"119.381668\" y=\"164.600151\" style=\"fill: #fde725; stroke: #fde725\"/>\n    </g>\n    <g clip-path=\"url(#p8a586e3eca)\">\n     <use xlink:href=\"#C0_0_3c5e96c27d\" x=\"73.002447\" y=\"105.261283\" style=\"fill: #440154; stroke: #440154\"/>\n    </g>\n    <g clip-path=\"url(#p8a586e3eca)\">\n     <use xlink:href=\"#C0_0_3c5e96c27d\" x=\"258.51933\" y=\"198.834113\" style=\"fill: #fde725; stroke: #fde725\"/>\n    </g>\n    <g clip-path=\"url(#p8a586e3eca)\">\n     <use xlink:href=\"#C0_0_3c5e96c27d\" x=\"156.485045\" y=\"261.216\" style=\"fill: #440154; stroke: #440154\"/>\n    </g>\n    <g clip-path=\"url(#p8a586e3eca)\">\n     <use xlink:href=\"#C0_0_3c5e96c27d\" x=\"137.933356\" y=\"186.662038\" style=\"fill: #440154; stroke: #440154\"/>\n    </g>\n    <g clip-path=\"url(#p8a586e3eca)\">\n     <use xlink:href=\"#C0_0_3c5e96c27d\" x=\"82.278291\" y=\"156.992604\" style=\"fill: #440154; stroke: #440154\"/>\n    </g>\n    <g clip-path=\"url(#p8a586e3eca)\">\n     <use xlink:href=\"#C0_0_3c5e96c27d\" x=\"119.381668\" y=\"195.791094\" style=\"fill: #fde725; stroke: #fde725\"/>\n    </g>\n    <g clip-path=\"url(#p8a586e3eca)\">\n     <use xlink:href=\"#C0_0_3c5e96c27d\" x=\"193.588421\" y=\"171.446943\" style=\"fill: #fde725; stroke: #fde725\"/>\n    </g>\n    <g clip-path=\"url(#p8a586e3eca)\">\n     <use xlink:href=\"#C0_0_3c5e96c27d\" x=\"45.174915\" y=\"156.992604\" style=\"fill: #440154; stroke: #440154\"/>\n    </g>\n    <g clip-path=\"url(#p8a586e3eca)\">\n     <use xlink:href=\"#C0_0_3c5e96c27d\" x=\"304.898551\" y=\"198.834113\" style=\"fill: #fde725; stroke: #fde725\"/>\n    </g>\n   </g>\n   <g id=\"matplotlib.axis_1\">\n    <g id=\"xtick_1\">\n     <g id=\"line2d_1\">\n      <defs>\n       <path id=\"m7168e8a0ba\" d=\"M 0 0 \nL 0 3.5 \n\" style=\"stroke: #000000; stroke-width: 0.8\"/>\n      </defs>\n      <g>\n       <use xlink:href=\"#m7168e8a0ba\" x=\"46.735805\" y=\"273.312\" style=\"stroke: #000000; stroke-width: 0.8\"/>\n      </g>\n     </g>\n     <g id=\"text_1\">\n      <!-- −2 -->\n      <g transform=\"translate(39.364712 287.910437) scale(0.1 -0.1)\">\n       <defs>\n        <path id=\"DejaVuSans-2212\" d=\"M 678 2272 \nL 4684 2272 \nL 4684 1741 \nL 678 1741 \nL 678 2272 \nz\n\" transform=\"scale(0.015625)\"/>\n        <path id=\"DejaVuSans-32\" d=\"M 1228 531 \nL 3431 531 \nL 3431 0 \nL 469 0 \nL 469 531 \nQ 828 903 1448 1529 \nQ 2069 2156 2228 2338 \nQ 2531 2678 2651 2914 \nQ 2772 3150 2772 3378 \nQ 2772 3750 2511 3984 \nQ 2250 4219 1831 4219 \nQ 1534 4219 1204 4116 \nQ 875 4013 500 3803 \nL 500 4441 \nQ 881 4594 1212 4672 \nQ 1544 4750 1819 4750 \nQ 2544 4750 2975 4387 \nQ 3406 4025 3406 3419 \nQ 3406 3131 3298 2873 \nQ 3191 2616 2906 2266 \nQ 2828 2175 2409 1742 \nQ 1991 1309 1228 531 \nz\n\" transform=\"scale(0.015625)\"/>\n       </defs>\n       <use xlink:href=\"#DejaVuSans-2212\"/>\n       <use xlink:href=\"#DejaVuSans-32\" x=\"83.789062\"/>\n      </g>\n     </g>\n    </g>\n    <g id=\"xtick_2\">\n     <g id=\"line2d_2\">\n      <g>\n       <use xlink:href=\"#m7168e8a0ba\" x=\"106.921594\" y=\"273.312\" style=\"stroke: #000000; stroke-width: 0.8\"/>\n      </g>\n     </g>\n     <g id=\"text_2\">\n      <!-- −1 -->\n      <g transform=\"translate(99.5505 287.910437) scale(0.1 -0.1)\">\n       <defs>\n        <path id=\"DejaVuSans-31\" d=\"M 794 531 \nL 1825 531 \nL 1825 4091 \nL 703 3866 \nL 703 4441 \nL 1819 4666 \nL 2450 4666 \nL 2450 531 \nL 3481 531 \nL 3481 0 \nL 794 0 \nL 794 531 \nz\n\" transform=\"scale(0.015625)\"/>\n       </defs>\n       <use xlink:href=\"#DejaVuSans-2212\"/>\n       <use xlink:href=\"#DejaVuSans-31\" x=\"83.789062\"/>\n      </g>\n     </g>\n    </g>\n    <g id=\"xtick_3\">\n     <g id=\"line2d_3\">\n      <g>\n       <use xlink:href=\"#m7168e8a0ba\" x=\"167.107382\" y=\"273.312\" style=\"stroke: #000000; stroke-width: 0.8\"/>\n      </g>\n     </g>\n     <g id=\"text_3\">\n      <!-- 0 -->\n      <g transform=\"translate(163.926132 287.910437) scale(0.1 -0.1)\">\n       <defs>\n        <path id=\"DejaVuSans-30\" d=\"M 2034 4250 \nQ 1547 4250 1301 3770 \nQ 1056 3291 1056 2328 \nQ 1056 1369 1301 889 \nQ 1547 409 2034 409 \nQ 2525 409 2770 889 \nQ 3016 1369 3016 2328 \nQ 3016 3291 2770 3770 \nQ 2525 4250 2034 4250 \nz\nM 2034 4750 \nQ 2819 4750 3233 4129 \nQ 3647 3509 3647 2328 \nQ 3647 1150 3233 529 \nQ 2819 -91 2034 -91 \nQ 1250 -91 836 529 \nQ 422 1150 422 2328 \nQ 422 3509 836 4129 \nQ 1250 4750 2034 4750 \nz\n\" transform=\"scale(0.015625)\"/>\n       </defs>\n       <use xlink:href=\"#DejaVuSans-30\"/>\n      </g>\n     </g>\n    </g>\n    <g id=\"xtick_4\">\n     <g id=\"line2d_4\">\n      <g>\n       <use xlink:href=\"#m7168e8a0ba\" x=\"227.293171\" y=\"273.312\" style=\"stroke: #000000; stroke-width: 0.8\"/>\n      </g>\n     </g>\n     <g id=\"text_4\">\n      <!-- 1 -->\n      <g transform=\"translate(224.111921 287.910437) scale(0.1 -0.1)\">\n       <use xlink:href=\"#DejaVuSans-31\"/>\n      </g>\n     </g>\n    </g>\n    <g id=\"xtick_5\">\n     <g id=\"line2d_5\">\n      <g>\n       <use xlink:href=\"#m7168e8a0ba\" x=\"287.478959\" y=\"273.312\" style=\"stroke: #000000; stroke-width: 0.8\"/>\n      </g>\n     </g>\n     <g id=\"text_5\">\n      <!-- 2 -->\n      <g transform=\"translate(284.297709 287.910437) scale(0.1 -0.1)\">\n       <use xlink:href=\"#DejaVuSans-32\"/>\n      </g>\n     </g>\n    </g>\n    <g id=\"xtick_6\">\n     <g id=\"line2d_6\">\n      <g>\n       <use xlink:href=\"#m7168e8a0ba\" x=\"347.664748\" y=\"273.312\" style=\"stroke: #000000; stroke-width: 0.8\"/>\n      </g>\n     </g>\n     <g id=\"text_6\">\n      <!-- 3 -->\n      <g transform=\"translate(344.483498 287.910437) scale(0.1 -0.1)\">\n       <defs>\n        <path id=\"DejaVuSans-33\" d=\"M 2597 2516 \nQ 3050 2419 3304 2112 \nQ 3559 1806 3559 1356 \nQ 3559 666 3084 287 \nQ 2609 -91 1734 -91 \nQ 1441 -91 1130 -33 \nQ 819 25 488 141 \nL 488 750 \nQ 750 597 1062 519 \nQ 1375 441 1716 441 \nQ 2309 441 2620 675 \nQ 2931 909 2931 1356 \nQ 2931 1769 2642 2001 \nQ 2353 2234 1838 2234 \nL 1294 2234 \nL 1294 2753 \nL 1863 2753 \nQ 2328 2753 2575 2939 \nQ 2822 3125 2822 3475 \nQ 2822 3834 2567 4026 \nQ 2313 4219 1838 4219 \nQ 1578 4219 1281 4162 \nQ 984 4106 628 3988 \nL 628 4550 \nQ 988 4650 1302 4700 \nQ 1616 4750 1894 4750 \nQ 2613 4750 3031 4423 \nQ 3450 4097 3450 3541 \nQ 3450 3153 3228 2886 \nQ 3006 2619 2597 2516 \nz\n\" transform=\"scale(0.015625)\"/>\n       </defs>\n       <use xlink:href=\"#DejaVuSans-33\"/>\n      </g>\n     </g>\n    </g>\n   </g>\n   <g id=\"matplotlib.axis_2\">\n    <g id=\"ytick_1\">\n     <g id=\"line2d_7\">\n      <defs>\n       <path id=\"me5f4982a50\" d=\"M 0 0 \nL -3.5 0 \n\" style=\"stroke: #000000; stroke-width: 0.8\"/>\n      </defs>\n      <g>\n       <use xlink:href=\"#me5f4982a50\" x=\"28.942188\" y=\"270.313725\" style=\"stroke: #000000; stroke-width: 0.8\"/>\n      </g>\n     </g>\n     <g id=\"text_7\">\n      <!-- −2 -->\n      <g transform=\"translate(7.2 274.112943) scale(0.1 -0.1)\">\n       <use xlink:href=\"#DejaVuSans-2212\"/>\n       <use xlink:href=\"#DejaVuSans-32\" x=\"83.789062\"/>\n      </g>\n     </g>\n    </g>\n    <g id=\"ytick_2\">\n     <g id=\"line2d_8\">\n      <g>\n       <use xlink:href=\"#me5f4982a50\" x=\"28.942188\" y=\"219.400237\" style=\"stroke: #000000; stroke-width: 0.8\"/>\n      </g>\n     </g>\n     <g id=\"text_8\">\n      <!-- −1 -->\n      <g transform=\"translate(7.2 223.199455) scale(0.1 -0.1)\">\n       <use xlink:href=\"#DejaVuSans-2212\"/>\n       <use xlink:href=\"#DejaVuSans-31\" x=\"83.789062\"/>\n      </g>\n     </g>\n    </g>\n    <g id=\"ytick_3\">\n     <g id=\"line2d_9\">\n      <g>\n       <use xlink:href=\"#me5f4982a50\" x=\"28.942188\" y=\"168.486749\" style=\"stroke: #000000; stroke-width: 0.8\"/>\n      </g>\n     </g>\n     <g id=\"text_9\">\n      <!-- 0 -->\n      <g transform=\"translate(15.579688 172.285967) scale(0.1 -0.1)\">\n       <use xlink:href=\"#DejaVuSans-30\"/>\n      </g>\n     </g>\n    </g>\n    <g id=\"ytick_4\">\n     <g id=\"line2d_10\">\n      <g>\n       <use xlink:href=\"#me5f4982a50\" x=\"28.942188\" y=\"117.573261\" style=\"stroke: #000000; stroke-width: 0.8\"/>\n      </g>\n     </g>\n     <g id=\"text_10\">\n      <!-- 1 -->\n      <g transform=\"translate(15.579688 121.372479) scale(0.1 -0.1)\">\n       <use xlink:href=\"#DejaVuSans-31\"/>\n      </g>\n     </g>\n    </g>\n    <g id=\"ytick_5\">\n     <g id=\"line2d_11\">\n      <g>\n       <use xlink:href=\"#me5f4982a50\" x=\"28.942188\" y=\"66.659773\" style=\"stroke: #000000; stroke-width: 0.8\"/>\n      </g>\n     </g>\n     <g id=\"text_11\">\n      <!-- 2 -->\n      <g transform=\"translate(15.579688 70.458991) scale(0.1 -0.1)\">\n       <use xlink:href=\"#DejaVuSans-32\"/>\n      </g>\n     </g>\n    </g>\n    <g id=\"ytick_6\">\n     <g id=\"line2d_12\">\n      <g>\n       <use xlink:href=\"#me5f4982a50\" x=\"28.942188\" y=\"15.746285\" style=\"stroke: #000000; stroke-width: 0.8\"/>\n      </g>\n     </g>\n     <g id=\"text_12\">\n      <!-- 3 -->\n      <g transform=\"translate(15.579688 19.545503) scale(0.1 -0.1)\">\n       <use xlink:href=\"#DejaVuSans-33\"/>\n      </g>\n     </g>\n    </g>\n   </g>\n   <g id=\"patch_3\">\n    <path d=\"M 28.942188 273.312 \nL 28.942188 7.2 \n\" style=\"fill: none; stroke: #000000; stroke-width: 0.8; stroke-linejoin: miter; stroke-linecap: square\"/>\n   </g>\n   <g id=\"patch_4\">\n    <path d=\"M 386.062188 273.312 \nL 386.062188 7.2 \n\" style=\"fill: none; stroke: #000000; stroke-width: 0.8; stroke-linejoin: miter; stroke-linecap: square\"/>\n   </g>\n   <g id=\"patch_5\">\n    <path d=\"M 28.942188 273.312 \nL 386.062188 273.312 \n\" style=\"fill: none; stroke: #000000; stroke-width: 0.8; stroke-linejoin: miter; stroke-linecap: square\"/>\n   </g>\n   <g id=\"patch_6\">\n    <path d=\"M 28.942188 7.2 \nL 386.062188 7.2 \n\" style=\"fill: none; stroke: #000000; stroke-width: 0.8; stroke-linejoin: miter; stroke-linecap: square\"/>\n   </g>\n  </g>\n </g>\n <defs>\n  <clipPath id=\"p8a586e3eca\">\n   <rect x=\"28.942188\" y=\"7.2\" width=\"357.12\" height=\"266.112\"/>\n  </clipPath>\n </defs>\n</svg>\n"
          },
          "metadata": {}
        }
      ],
      "source": [
        "plt.scatter(X_test[:, 0], X_test[:, 1], c=y_test);"
      ]
    },
    {
      "cell_type": "code",
      "execution_count": 26,
      "metadata": {
        "id": "445gPdpKOxEa"
      },
      "outputs": [],
      "source": [
        "\n",
        "\n",
        "def calculate_metrics_and_plot_roc(model, X_train, y_train, X_test, y_test):\n",
        "    # Обучение модели\n",
        "    model.fit(X_train, y_train)\n",
        "\n",
        "    # Предсказание вероятностей на обучающей и тестовой выборке\n",
        "    y_train_proba = model.predict_proba(X_train)[:, 1]\n",
        "    y_test_proba = model.predict_proba(X_test)[:, 1]\n",
        "\n",
        "    # Расчет AUC-ROC\n",
        "    roc_auc_train = roc_auc_score(y_train, y_train_proba)\n",
        "    roc_auc_test = roc_auc_score(y_test, y_test_proba)\n",
        "    print(f\"ROC-AUC Train: {roc_auc_train:.2f}\")\n",
        "    print(f\"ROC-AUC Test: {roc_auc_test:.2f}\")\n",
        "\n",
        "    # Построение ROC-кривой\n",
        "    fpr_train, tpr_train, _ = roc_curve(y_train, y_train_proba)\n",
        "    fpr_test, tpr_test, _ = roc_curve(y_test, y_test_proba)\n",
        "    plt.figure()\n",
        "    plt.plot(fpr_train, tpr_train, color='blue', lw=2, label='ROC Curve Train')\n",
        "    plt.plot(fpr_test, tpr_test, color='darkorange', lw=2, label='ROC Curve Test')\n",
        "    plt.plot([0, 1], [0, 1], color='navy', lw=2, linestyle='--')\n",
        "    plt.xlabel('False Positive Rate')\n",
        "    plt.ylabel('True Positive Rate')\n",
        "    plt.title(f'ROC Curve ({type(model).__name__})')\n",
        "    plt.legend()\n",
        "    plt.show()\n",
        "\n",
        "    # Поиск порога, максимизирующего F1-score\n",
        "    thresholds = np.arange(0.0, 1.0, 0.01)\n",
        "    f1_scores = [f1_score(y_test, y_test_proba >= t) for t in thresholds]\n",
        "    optimal_threshold = thresholds[np.argmax(f1_scores)]\n",
        "    print(f\"Optimal Threshold: {optimal_threshold:.2f}\")\n",
        "\n",
        "    # Пересчет метрик с учетом оптимального порога\n",
        "    y_train_pred_optimal = (y_train_proba >= optimal_threshold).astype(int)\n",
        "    y_test_pred_optimal = (y_test_proba >= optimal_threshold).astype(int)\n",
        "\n",
        "    train_precision = precision_score(y_train, y_train_pred_optimal)\n",
        "    train_recall = recall_score(y_train, y_train_pred_optimal)\n",
        "    test_precision = precision_score(y_test, y_test_pred_optimal)\n",
        "    test_recall = recall_score(y_test, y_test_pred_optimal)\n",
        "\n",
        "    print(f\"Optimal Training Precision: {train_precision:.2f}\")\n",
        "    print(f\"Optimal Training Recall: {train_recall:.2f}\")\n",
        "    print(f\"Optimal Test Precision: {test_precision:.2f}\")\n",
        "    print(f\"Optimal Test Recall: {test_recall:.2f}\")\n",
        "\n",
        "    metrics = {\n",
        "        'params': [\n",
        "            'Training_Precision', 'Test_Precision',\n",
        "            'Training_Recall', 'Test_Recall',\n",
        "            'ROC_AUC_Train', 'ROC_AUC_Test'\n",
        "        ],\n",
        "        'values': [\n",
        "            train_precision, test_precision,\n",
        "            train_recall, test_recall,\n",
        "            roc_auc_train, roc_auc_test\n",
        "        ]\n",
        "    }\n",
        "\n",
        "    return metrics\n"
      ]
    },
    {
      "cell_type": "markdown",
      "source": [
        "# Models"
      ],
      "metadata": {
        "id": "_epv5LpB0_Kf"
      }
    },
    {
      "cell_type": "code",
      "execution_count": 27,
      "metadata": {
        "id": "IGHyfgXQk40p"
      },
      "outputs": [],
      "source": [
        "# Построение модели k-Nearest Neighbors (kNN)\n",
        "knn_model = KNeighborsClassifier()"
      ]
    },
    {
      "cell_type": "code",
      "execution_count": 28,
      "metadata": {
        "id": "y6hMGWZUlHlg",
        "colab": {
          "base_uri": "https://localhost:8080/"
        },
        "outputId": "4c72978f-e08b-4073-8ecc-112aa975533f"
      },
      "outputs": [
        {
          "output_type": "stream",
          "name": "stdout",
          "text": [
            "best_n_neighbors = 11\n"
          ]
        }
      ],
      "source": [
        "# Задаем сетку параметров для значения \"n_neighbors\", которое мы хотим исследовать\n",
        "param_grid = {'n_neighbors': [1, 3, 5, 7, 9, 11, 14]}  # Пример значений, можно изменить диапазон по необходимости\n",
        "\n",
        "# Создаем объект GridSearchCV с моделью KNN и сеткой параметров\n",
        "grid_search = GridSearchCV(knn_model, param_grid, cv=5, scoring='roc_auc')  # Параметр cv определяет количество фолдов в кросс-валидации\n",
        "\n",
        "# Обучаем модель на данных с помощью кросс-валидации\n",
        "grid_search.fit(X_train, y_train)\n",
        "\n",
        "# Получаем лучшее найденное значение параметра \"n_neighbors\" в результате кросс-валидации\n",
        "best_n_neighbors = grid_search.best_params_['n_neighbors']\n",
        "print('best_n_neighbors =', best_n_neighbors)\n"
      ]
    },
    {
      "cell_type": "code",
      "execution_count": 29,
      "metadata": {
        "id": "uiqO2WLxk-nQ"
      },
      "outputs": [],
      "source": [
        "best_knn_model = KNeighborsClassifier(n_neighbors=best_n_neighbors)"
      ]
    },
    {
      "cell_type": "code",
      "source": [
        "best_knn_model.fit(X_train, y_train)"
      ],
      "metadata": {
        "colab": {
          "base_uri": "https://localhost:8080/",
          "height": 75
        },
        "id": "au6zz1nDPnL7",
        "outputId": "9df3e74c-13c5-4097-dbfa-cbabccc6a089"
      },
      "execution_count": 30,
      "outputs": [
        {
          "output_type": "execute_result",
          "data": {
            "text/plain": [
              "KNeighborsClassifier(n_neighbors=11)"
            ],
            "text/html": [
              "<style>#sk-container-id-1 {color: black;background-color: white;}#sk-container-id-1 pre{padding: 0;}#sk-container-id-1 div.sk-toggleable {background-color: white;}#sk-container-id-1 label.sk-toggleable__label {cursor: pointer;display: block;width: 100%;margin-bottom: 0;padding: 0.3em;box-sizing: border-box;text-align: center;}#sk-container-id-1 label.sk-toggleable__label-arrow:before {content: \"▸\";float: left;margin-right: 0.25em;color: #696969;}#sk-container-id-1 label.sk-toggleable__label-arrow:hover:before {color: black;}#sk-container-id-1 div.sk-estimator:hover label.sk-toggleable__label-arrow:before {color: black;}#sk-container-id-1 div.sk-toggleable__content {max-height: 0;max-width: 0;overflow: hidden;text-align: left;background-color: #f0f8ff;}#sk-container-id-1 div.sk-toggleable__content pre {margin: 0.2em;color: black;border-radius: 0.25em;background-color: #f0f8ff;}#sk-container-id-1 input.sk-toggleable__control:checked~div.sk-toggleable__content {max-height: 200px;max-width: 100%;overflow: auto;}#sk-container-id-1 input.sk-toggleable__control:checked~label.sk-toggleable__label-arrow:before {content: \"▾\";}#sk-container-id-1 div.sk-estimator input.sk-toggleable__control:checked~label.sk-toggleable__label {background-color: #d4ebff;}#sk-container-id-1 div.sk-label input.sk-toggleable__control:checked~label.sk-toggleable__label {background-color: #d4ebff;}#sk-container-id-1 input.sk-hidden--visually {border: 0;clip: rect(1px 1px 1px 1px);clip: rect(1px, 1px, 1px, 1px);height: 1px;margin: -1px;overflow: hidden;padding: 0;position: absolute;width: 1px;}#sk-container-id-1 div.sk-estimator {font-family: monospace;background-color: #f0f8ff;border: 1px dotted black;border-radius: 0.25em;box-sizing: border-box;margin-bottom: 0.5em;}#sk-container-id-1 div.sk-estimator:hover {background-color: #d4ebff;}#sk-container-id-1 div.sk-parallel-item::after {content: \"\";width: 100%;border-bottom: 1px solid gray;flex-grow: 1;}#sk-container-id-1 div.sk-label:hover label.sk-toggleable__label {background-color: #d4ebff;}#sk-container-id-1 div.sk-serial::before {content: \"\";position: absolute;border-left: 1px solid gray;box-sizing: border-box;top: 0;bottom: 0;left: 50%;z-index: 0;}#sk-container-id-1 div.sk-serial {display: flex;flex-direction: column;align-items: center;background-color: white;padding-right: 0.2em;padding-left: 0.2em;position: relative;}#sk-container-id-1 div.sk-item {position: relative;z-index: 1;}#sk-container-id-1 div.sk-parallel {display: flex;align-items: stretch;justify-content: center;background-color: white;position: relative;}#sk-container-id-1 div.sk-item::before, #sk-container-id-1 div.sk-parallel-item::before {content: \"\";position: absolute;border-left: 1px solid gray;box-sizing: border-box;top: 0;bottom: 0;left: 50%;z-index: -1;}#sk-container-id-1 div.sk-parallel-item {display: flex;flex-direction: column;z-index: 1;position: relative;background-color: white;}#sk-container-id-1 div.sk-parallel-item:first-child::after {align-self: flex-end;width: 50%;}#sk-container-id-1 div.sk-parallel-item:last-child::after {align-self: flex-start;width: 50%;}#sk-container-id-1 div.sk-parallel-item:only-child::after {width: 0;}#sk-container-id-1 div.sk-dashed-wrapped {border: 1px dashed gray;margin: 0 0.4em 0.5em 0.4em;box-sizing: border-box;padding-bottom: 0.4em;background-color: white;}#sk-container-id-1 div.sk-label label {font-family: monospace;font-weight: bold;display: inline-block;line-height: 1.2em;}#sk-container-id-1 div.sk-label-container {text-align: center;}#sk-container-id-1 div.sk-container {/* jupyter's `normalize.less` sets `[hidden] { display: none; }` but bootstrap.min.css set `[hidden] { display: none !important; }` so we also need the `!important` here to be able to override the default hidden behavior on the sphinx rendered scikit-learn.org. See: https://github.com/scikit-learn/scikit-learn/issues/21755 */display: inline-block !important;position: relative;}#sk-container-id-1 div.sk-text-repr-fallback {display: none;}</style><div id=\"sk-container-id-1\" class=\"sk-top-container\"><div class=\"sk-text-repr-fallback\"><pre>KNeighborsClassifier(n_neighbors=11)</pre><b>In a Jupyter environment, please rerun this cell to show the HTML representation or trust the notebook. <br />On GitHub, the HTML representation is unable to render, please try loading this page with nbviewer.org.</b></div><div class=\"sk-container\" hidden><div class=\"sk-item\"><div class=\"sk-estimator sk-toggleable\"><input class=\"sk-toggleable__control sk-hidden--visually\" id=\"sk-estimator-id-1\" type=\"checkbox\" checked><label for=\"sk-estimator-id-1\" class=\"sk-toggleable__label sk-toggleable__label-arrow\">KNeighborsClassifier</label><div class=\"sk-toggleable__content\"><pre>KNeighborsClassifier(n_neighbors=11)</pre></div></div></div></div></div>"
            ]
          },
          "metadata": {},
          "execution_count": 30
        }
      ]
    },
    {
      "cell_type": "code",
      "execution_count": 31,
      "metadata": {
        "id": "5n6mz2AqO13Y",
        "colab": {
          "base_uri": "https://localhost:8080/",
          "height": 581
        },
        "outputId": "52044c28-0e5f-4aa5-cacf-af8cec8d7743"
      },
      "outputs": [
        {
          "output_type": "stream",
          "name": "stdout",
          "text": [
            "ROC-AUC Train: 0.81\n",
            "ROC-AUC Test: 0.79\n"
          ]
        },
        {
          "output_type": "display_data",
          "data": {
            "text/plain": [
              "<Figure size 640x480 with 1 Axes>"
            ],
            "image/svg+xml": "<?xml version=\"1.0\" encoding=\"utf-8\" standalone=\"no\"?>\n<!DOCTYPE svg PUBLIC \"-//W3C//DTD SVG 1.1//EN\"\n  \"http://www.w3.org/Graphics/SVG/1.1/DTD/svg11.dtd\">\n<svg xmlns:xlink=\"http://www.w3.org/1999/xlink\" width=\"408.10125pt\" height=\"325.986375pt\" viewBox=\"0 0 408.10125 325.986375\" xmlns=\"http://www.w3.org/2000/svg\" version=\"1.1\">\n <metadata>\n  <rdf:RDF xmlns:dc=\"http://purl.org/dc/elements/1.1/\" xmlns:cc=\"http://creativecommons.org/ns#\" xmlns:rdf=\"http://www.w3.org/1999/02/22-rdf-syntax-ns#\">\n   <cc:Work>\n    <dc:type rdf:resource=\"http://purl.org/dc/dcmitype/StillImage\"/>\n    <dc:date>2024-07-05T15:52:06.013845</dc:date>\n    <dc:format>image/svg+xml</dc:format>\n    <dc:creator>\n     <cc:Agent>\n      <dc:title>Matplotlib v3.7.1, https://matplotlib.org/</dc:title>\n     </cc:Agent>\n    </dc:creator>\n   </cc:Work>\n  </rdf:RDF>\n </metadata>\n <defs>\n  <style type=\"text/css\">*{stroke-linejoin: round; stroke-linecap: butt}</style>\n </defs>\n <g id=\"figure_1\">\n  <g id=\"patch_1\">\n   <path d=\"M 0 325.986375 \nL 408.10125 325.986375 \nL 408.10125 0 \nL 0 0 \nz\n\" style=\"fill: #ffffff\"/>\n  </g>\n  <g id=\"axes_1\">\n   <g id=\"patch_2\">\n    <path d=\"M 43.78125 288.430125 \nL 400.90125 288.430125 \nL 400.90125 22.318125 \nL 43.78125 22.318125 \nz\n\" style=\"fill: #ffffff\"/>\n   </g>\n   <g id=\"matplotlib.axis_1\">\n    <g id=\"xtick_1\">\n     <g id=\"line2d_1\">\n      <defs>\n       <path id=\"m92c6f2027e\" d=\"M 0 0 \nL 0 3.5 \n\" style=\"stroke: #000000; stroke-width: 0.8\"/>\n      </defs>\n      <g>\n       <use xlink:href=\"#m92c6f2027e\" x=\"60.013977\" y=\"288.430125\" style=\"stroke: #000000; stroke-width: 0.8\"/>\n      </g>\n     </g>\n     <g id=\"text_1\">\n      <!-- 0.0 -->\n      <g transform=\"translate(52.062415 303.028562) scale(0.1 -0.1)\">\n       <defs>\n        <path id=\"DejaVuSans-30\" d=\"M 2034 4250 \nQ 1547 4250 1301 3770 \nQ 1056 3291 1056 2328 \nQ 1056 1369 1301 889 \nQ 1547 409 2034 409 \nQ 2525 409 2770 889 \nQ 3016 1369 3016 2328 \nQ 3016 3291 2770 3770 \nQ 2525 4250 2034 4250 \nz\nM 2034 4750 \nQ 2819 4750 3233 4129 \nQ 3647 3509 3647 2328 \nQ 3647 1150 3233 529 \nQ 2819 -91 2034 -91 \nQ 1250 -91 836 529 \nQ 422 1150 422 2328 \nQ 422 3509 836 4129 \nQ 1250 4750 2034 4750 \nz\n\" transform=\"scale(0.015625)\"/>\n        <path id=\"DejaVuSans-2e\" d=\"M 684 794 \nL 1344 794 \nL 1344 0 \nL 684 0 \nL 684 794 \nz\n\" transform=\"scale(0.015625)\"/>\n       </defs>\n       <use xlink:href=\"#DejaVuSans-30\"/>\n       <use xlink:href=\"#DejaVuSans-2e\" x=\"63.623047\"/>\n       <use xlink:href=\"#DejaVuSans-30\" x=\"95.410156\"/>\n      </g>\n     </g>\n    </g>\n    <g id=\"xtick_2\">\n     <g id=\"line2d_2\">\n      <g>\n       <use xlink:href=\"#m92c6f2027e\" x=\"124.944886\" y=\"288.430125\" style=\"stroke: #000000; stroke-width: 0.8\"/>\n      </g>\n     </g>\n     <g id=\"text_2\">\n      <!-- 0.2 -->\n      <g transform=\"translate(116.993324 303.028562) scale(0.1 -0.1)\">\n       <defs>\n        <path id=\"DejaVuSans-32\" d=\"M 1228 531 \nL 3431 531 \nL 3431 0 \nL 469 0 \nL 469 531 \nQ 828 903 1448 1529 \nQ 2069 2156 2228 2338 \nQ 2531 2678 2651 2914 \nQ 2772 3150 2772 3378 \nQ 2772 3750 2511 3984 \nQ 2250 4219 1831 4219 \nQ 1534 4219 1204 4116 \nQ 875 4013 500 3803 \nL 500 4441 \nQ 881 4594 1212 4672 \nQ 1544 4750 1819 4750 \nQ 2544 4750 2975 4387 \nQ 3406 4025 3406 3419 \nQ 3406 3131 3298 2873 \nQ 3191 2616 2906 2266 \nQ 2828 2175 2409 1742 \nQ 1991 1309 1228 531 \nz\n\" transform=\"scale(0.015625)\"/>\n       </defs>\n       <use xlink:href=\"#DejaVuSans-30\"/>\n       <use xlink:href=\"#DejaVuSans-2e\" x=\"63.623047\"/>\n       <use xlink:href=\"#DejaVuSans-32\" x=\"95.410156\"/>\n      </g>\n     </g>\n    </g>\n    <g id=\"xtick_3\">\n     <g id=\"line2d_3\">\n      <g>\n       <use xlink:href=\"#m92c6f2027e\" x=\"189.875795\" y=\"288.430125\" style=\"stroke: #000000; stroke-width: 0.8\"/>\n      </g>\n     </g>\n     <g id=\"text_3\">\n      <!-- 0.4 -->\n      <g transform=\"translate(181.924233 303.028562) scale(0.1 -0.1)\">\n       <defs>\n        <path id=\"DejaVuSans-34\" d=\"M 2419 4116 \nL 825 1625 \nL 2419 1625 \nL 2419 4116 \nz\nM 2253 4666 \nL 3047 4666 \nL 3047 1625 \nL 3713 1625 \nL 3713 1100 \nL 3047 1100 \nL 3047 0 \nL 2419 0 \nL 2419 1100 \nL 313 1100 \nL 313 1709 \nL 2253 4666 \nz\n\" transform=\"scale(0.015625)\"/>\n       </defs>\n       <use xlink:href=\"#DejaVuSans-30\"/>\n       <use xlink:href=\"#DejaVuSans-2e\" x=\"63.623047\"/>\n       <use xlink:href=\"#DejaVuSans-34\" x=\"95.410156\"/>\n      </g>\n     </g>\n    </g>\n    <g id=\"xtick_4\">\n     <g id=\"line2d_4\">\n      <g>\n       <use xlink:href=\"#m92c6f2027e\" x=\"254.806705\" y=\"288.430125\" style=\"stroke: #000000; stroke-width: 0.8\"/>\n      </g>\n     </g>\n     <g id=\"text_4\">\n      <!-- 0.6 -->\n      <g transform=\"translate(246.855142 303.028562) scale(0.1 -0.1)\">\n       <defs>\n        <path id=\"DejaVuSans-36\" d=\"M 2113 2584 \nQ 1688 2584 1439 2293 \nQ 1191 2003 1191 1497 \nQ 1191 994 1439 701 \nQ 1688 409 2113 409 \nQ 2538 409 2786 701 \nQ 3034 994 3034 1497 \nQ 3034 2003 2786 2293 \nQ 2538 2584 2113 2584 \nz\nM 3366 4563 \nL 3366 3988 \nQ 3128 4100 2886 4159 \nQ 2644 4219 2406 4219 \nQ 1781 4219 1451 3797 \nQ 1122 3375 1075 2522 \nQ 1259 2794 1537 2939 \nQ 1816 3084 2150 3084 \nQ 2853 3084 3261 2657 \nQ 3669 2231 3669 1497 \nQ 3669 778 3244 343 \nQ 2819 -91 2113 -91 \nQ 1303 -91 875 529 \nQ 447 1150 447 2328 \nQ 447 3434 972 4092 \nQ 1497 4750 2381 4750 \nQ 2619 4750 2861 4703 \nQ 3103 4656 3366 4563 \nz\n\" transform=\"scale(0.015625)\"/>\n       </defs>\n       <use xlink:href=\"#DejaVuSans-30\"/>\n       <use xlink:href=\"#DejaVuSans-2e\" x=\"63.623047\"/>\n       <use xlink:href=\"#DejaVuSans-36\" x=\"95.410156\"/>\n      </g>\n     </g>\n    </g>\n    <g id=\"xtick_5\">\n     <g id=\"line2d_5\">\n      <g>\n       <use xlink:href=\"#m92c6f2027e\" x=\"319.737614\" y=\"288.430125\" style=\"stroke: #000000; stroke-width: 0.8\"/>\n      </g>\n     </g>\n     <g id=\"text_5\">\n      <!-- 0.8 -->\n      <g transform=\"translate(311.786051 303.028562) scale(0.1 -0.1)\">\n       <defs>\n        <path id=\"DejaVuSans-38\" d=\"M 2034 2216 \nQ 1584 2216 1326 1975 \nQ 1069 1734 1069 1313 \nQ 1069 891 1326 650 \nQ 1584 409 2034 409 \nQ 2484 409 2743 651 \nQ 3003 894 3003 1313 \nQ 3003 1734 2745 1975 \nQ 2488 2216 2034 2216 \nz\nM 1403 2484 \nQ 997 2584 770 2862 \nQ 544 3141 544 3541 \nQ 544 4100 942 4425 \nQ 1341 4750 2034 4750 \nQ 2731 4750 3128 4425 \nQ 3525 4100 3525 3541 \nQ 3525 3141 3298 2862 \nQ 3072 2584 2669 2484 \nQ 3125 2378 3379 2068 \nQ 3634 1759 3634 1313 \nQ 3634 634 3220 271 \nQ 2806 -91 2034 -91 \nQ 1263 -91 848 271 \nQ 434 634 434 1313 \nQ 434 1759 690 2068 \nQ 947 2378 1403 2484 \nz\nM 1172 3481 \nQ 1172 3119 1398 2916 \nQ 1625 2713 2034 2713 \nQ 2441 2713 2670 2916 \nQ 2900 3119 2900 3481 \nQ 2900 3844 2670 4047 \nQ 2441 4250 2034 4250 \nQ 1625 4250 1398 4047 \nQ 1172 3844 1172 3481 \nz\n\" transform=\"scale(0.015625)\"/>\n       </defs>\n       <use xlink:href=\"#DejaVuSans-30\"/>\n       <use xlink:href=\"#DejaVuSans-2e\" x=\"63.623047\"/>\n       <use xlink:href=\"#DejaVuSans-38\" x=\"95.410156\"/>\n      </g>\n     </g>\n    </g>\n    <g id=\"xtick_6\">\n     <g id=\"line2d_6\">\n      <g>\n       <use xlink:href=\"#m92c6f2027e\" x=\"384.668523\" y=\"288.430125\" style=\"stroke: #000000; stroke-width: 0.8\"/>\n      </g>\n     </g>\n     <g id=\"text_6\">\n      <!-- 1.0 -->\n      <g transform=\"translate(376.71696 303.028562) scale(0.1 -0.1)\">\n       <defs>\n        <path id=\"DejaVuSans-31\" d=\"M 794 531 \nL 1825 531 \nL 1825 4091 \nL 703 3866 \nL 703 4441 \nL 1819 4666 \nL 2450 4666 \nL 2450 531 \nL 3481 531 \nL 3481 0 \nL 794 0 \nL 794 531 \nz\n\" transform=\"scale(0.015625)\"/>\n       </defs>\n       <use xlink:href=\"#DejaVuSans-31\"/>\n       <use xlink:href=\"#DejaVuSans-2e\" x=\"63.623047\"/>\n       <use xlink:href=\"#DejaVuSans-30\" x=\"95.410156\"/>\n      </g>\n     </g>\n    </g>\n    <g id=\"text_7\">\n     <!-- False Positive Rate -->\n     <g transform=\"translate(175.874844 316.706687) scale(0.1 -0.1)\">\n      <defs>\n       <path id=\"DejaVuSans-46\" d=\"M 628 4666 \nL 3309 4666 \nL 3309 4134 \nL 1259 4134 \nL 1259 2759 \nL 3109 2759 \nL 3109 2228 \nL 1259 2228 \nL 1259 0 \nL 628 0 \nL 628 4666 \nz\n\" transform=\"scale(0.015625)\"/>\n       <path id=\"DejaVuSans-61\" d=\"M 2194 1759 \nQ 1497 1759 1228 1600 \nQ 959 1441 959 1056 \nQ 959 750 1161 570 \nQ 1363 391 1709 391 \nQ 2188 391 2477 730 \nQ 2766 1069 2766 1631 \nL 2766 1759 \nL 2194 1759 \nz\nM 3341 1997 \nL 3341 0 \nL 2766 0 \nL 2766 531 \nQ 2569 213 2275 61 \nQ 1981 -91 1556 -91 \nQ 1019 -91 701 211 \nQ 384 513 384 1019 \nQ 384 1609 779 1909 \nQ 1175 2209 1959 2209 \nL 2766 2209 \nL 2766 2266 \nQ 2766 2663 2505 2880 \nQ 2244 3097 1772 3097 \nQ 1472 3097 1187 3025 \nQ 903 2953 641 2809 \nL 641 3341 \nQ 956 3463 1253 3523 \nQ 1550 3584 1831 3584 \nQ 2591 3584 2966 3190 \nQ 3341 2797 3341 1997 \nz\n\" transform=\"scale(0.015625)\"/>\n       <path id=\"DejaVuSans-6c\" d=\"M 603 4863 \nL 1178 4863 \nL 1178 0 \nL 603 0 \nL 603 4863 \nz\n\" transform=\"scale(0.015625)\"/>\n       <path id=\"DejaVuSans-73\" d=\"M 2834 3397 \nL 2834 2853 \nQ 2591 2978 2328 3040 \nQ 2066 3103 1784 3103 \nQ 1356 3103 1142 2972 \nQ 928 2841 928 2578 \nQ 928 2378 1081 2264 \nQ 1234 2150 1697 2047 \nL 1894 2003 \nQ 2506 1872 2764 1633 \nQ 3022 1394 3022 966 \nQ 3022 478 2636 193 \nQ 2250 -91 1575 -91 \nQ 1294 -91 989 -36 \nQ 684 19 347 128 \nL 347 722 \nQ 666 556 975 473 \nQ 1284 391 1588 391 \nQ 1994 391 2212 530 \nQ 2431 669 2431 922 \nQ 2431 1156 2273 1281 \nQ 2116 1406 1581 1522 \nL 1381 1569 \nQ 847 1681 609 1914 \nQ 372 2147 372 2553 \nQ 372 3047 722 3315 \nQ 1072 3584 1716 3584 \nQ 2034 3584 2315 3537 \nQ 2597 3491 2834 3397 \nz\n\" transform=\"scale(0.015625)\"/>\n       <path id=\"DejaVuSans-65\" d=\"M 3597 1894 \nL 3597 1613 \nL 953 1613 \nQ 991 1019 1311 708 \nQ 1631 397 2203 397 \nQ 2534 397 2845 478 \nQ 3156 559 3463 722 \nL 3463 178 \nQ 3153 47 2828 -22 \nQ 2503 -91 2169 -91 \nQ 1331 -91 842 396 \nQ 353 884 353 1716 \nQ 353 2575 817 3079 \nQ 1281 3584 2069 3584 \nQ 2775 3584 3186 3129 \nQ 3597 2675 3597 1894 \nz\nM 3022 2063 \nQ 3016 2534 2758 2815 \nQ 2500 3097 2075 3097 \nQ 1594 3097 1305 2825 \nQ 1016 2553 972 2059 \nL 3022 2063 \nz\n\" transform=\"scale(0.015625)\"/>\n       <path id=\"DejaVuSans-20\" transform=\"scale(0.015625)\"/>\n       <path id=\"DejaVuSans-50\" d=\"M 1259 4147 \nL 1259 2394 \nL 2053 2394 \nQ 2494 2394 2734 2622 \nQ 2975 2850 2975 3272 \nQ 2975 3691 2734 3919 \nQ 2494 4147 2053 4147 \nL 1259 4147 \nz\nM 628 4666 \nL 2053 4666 \nQ 2838 4666 3239 4311 \nQ 3641 3956 3641 3272 \nQ 3641 2581 3239 2228 \nQ 2838 1875 2053 1875 \nL 1259 1875 \nL 1259 0 \nL 628 0 \nL 628 4666 \nz\n\" transform=\"scale(0.015625)\"/>\n       <path id=\"DejaVuSans-6f\" d=\"M 1959 3097 \nQ 1497 3097 1228 2736 \nQ 959 2375 959 1747 \nQ 959 1119 1226 758 \nQ 1494 397 1959 397 \nQ 2419 397 2687 759 \nQ 2956 1122 2956 1747 \nQ 2956 2369 2687 2733 \nQ 2419 3097 1959 3097 \nz\nM 1959 3584 \nQ 2709 3584 3137 3096 \nQ 3566 2609 3566 1747 \nQ 3566 888 3137 398 \nQ 2709 -91 1959 -91 \nQ 1206 -91 779 398 \nQ 353 888 353 1747 \nQ 353 2609 779 3096 \nQ 1206 3584 1959 3584 \nz\n\" transform=\"scale(0.015625)\"/>\n       <path id=\"DejaVuSans-69\" d=\"M 603 3500 \nL 1178 3500 \nL 1178 0 \nL 603 0 \nL 603 3500 \nz\nM 603 4863 \nL 1178 4863 \nL 1178 4134 \nL 603 4134 \nL 603 4863 \nz\n\" transform=\"scale(0.015625)\"/>\n       <path id=\"DejaVuSans-74\" d=\"M 1172 4494 \nL 1172 3500 \nL 2356 3500 \nL 2356 3053 \nL 1172 3053 \nL 1172 1153 \nQ 1172 725 1289 603 \nQ 1406 481 1766 481 \nL 2356 481 \nL 2356 0 \nL 1766 0 \nQ 1100 0 847 248 \nQ 594 497 594 1153 \nL 594 3053 \nL 172 3053 \nL 172 3500 \nL 594 3500 \nL 594 4494 \nL 1172 4494 \nz\n\" transform=\"scale(0.015625)\"/>\n       <path id=\"DejaVuSans-76\" d=\"M 191 3500 \nL 800 3500 \nL 1894 563 \nL 2988 3500 \nL 3597 3500 \nL 2284 0 \nL 1503 0 \nL 191 3500 \nz\n\" transform=\"scale(0.015625)\"/>\n       <path id=\"DejaVuSans-52\" d=\"M 2841 2188 \nQ 3044 2119 3236 1894 \nQ 3428 1669 3622 1275 \nL 4263 0 \nL 3584 0 \nL 2988 1197 \nQ 2756 1666 2539 1819 \nQ 2322 1972 1947 1972 \nL 1259 1972 \nL 1259 0 \nL 628 0 \nL 628 4666 \nL 2053 4666 \nQ 2853 4666 3247 4331 \nQ 3641 3997 3641 3322 \nQ 3641 2881 3436 2590 \nQ 3231 2300 2841 2188 \nz\nM 1259 4147 \nL 1259 2491 \nL 2053 2491 \nQ 2509 2491 2742 2702 \nQ 2975 2913 2975 3322 \nQ 2975 3731 2742 3939 \nQ 2509 4147 2053 4147 \nL 1259 4147 \nz\n\" transform=\"scale(0.015625)\"/>\n      </defs>\n      <use xlink:href=\"#DejaVuSans-46\"/>\n      <use xlink:href=\"#DejaVuSans-61\" x=\"48.394531\"/>\n      <use xlink:href=\"#DejaVuSans-6c\" x=\"109.673828\"/>\n      <use xlink:href=\"#DejaVuSans-73\" x=\"137.457031\"/>\n      <use xlink:href=\"#DejaVuSans-65\" x=\"189.556641\"/>\n      <use xlink:href=\"#DejaVuSans-20\" x=\"251.080078\"/>\n      <use xlink:href=\"#DejaVuSans-50\" x=\"282.867188\"/>\n      <use xlink:href=\"#DejaVuSans-6f\" x=\"339.544922\"/>\n      <use xlink:href=\"#DejaVuSans-73\" x=\"400.726562\"/>\n      <use xlink:href=\"#DejaVuSans-69\" x=\"452.826172\"/>\n      <use xlink:href=\"#DejaVuSans-74\" x=\"480.609375\"/>\n      <use xlink:href=\"#DejaVuSans-69\" x=\"519.818359\"/>\n      <use xlink:href=\"#DejaVuSans-76\" x=\"547.601562\"/>\n      <use xlink:href=\"#DejaVuSans-65\" x=\"606.78125\"/>\n      <use xlink:href=\"#DejaVuSans-20\" x=\"668.304688\"/>\n      <use xlink:href=\"#DejaVuSans-52\" x=\"700.091797\"/>\n      <use xlink:href=\"#DejaVuSans-61\" x=\"767.324219\"/>\n      <use xlink:href=\"#DejaVuSans-74\" x=\"828.603516\"/>\n      <use xlink:href=\"#DejaVuSans-65\" x=\"867.8125\"/>\n     </g>\n    </g>\n   </g>\n   <g id=\"matplotlib.axis_2\">\n    <g id=\"ytick_1\">\n     <g id=\"line2d_7\">\n      <defs>\n       <path id=\"mf6391d7f9b\" d=\"M 0 0 \nL -3.5 0 \n\" style=\"stroke: #000000; stroke-width: 0.8\"/>\n      </defs>\n      <g>\n       <use xlink:href=\"#mf6391d7f9b\" x=\"43.78125\" y=\"276.334125\" style=\"stroke: #000000; stroke-width: 0.8\"/>\n      </g>\n     </g>\n     <g id=\"text_8\">\n      <!-- 0.0 -->\n      <g transform=\"translate(20.878125 280.133344) scale(0.1 -0.1)\">\n       <use xlink:href=\"#DejaVuSans-30\"/>\n       <use xlink:href=\"#DejaVuSans-2e\" x=\"63.623047\"/>\n       <use xlink:href=\"#DejaVuSans-30\" x=\"95.410156\"/>\n      </g>\n     </g>\n    </g>\n    <g id=\"ytick_2\">\n     <g id=\"line2d_8\">\n      <g>\n       <use xlink:href=\"#mf6391d7f9b\" x=\"43.78125\" y=\"227.950125\" style=\"stroke: #000000; stroke-width: 0.8\"/>\n      </g>\n     </g>\n     <g id=\"text_9\">\n      <!-- 0.2 -->\n      <g transform=\"translate(20.878125 231.749344) scale(0.1 -0.1)\">\n       <use xlink:href=\"#DejaVuSans-30\"/>\n       <use xlink:href=\"#DejaVuSans-2e\" x=\"63.623047\"/>\n       <use xlink:href=\"#DejaVuSans-32\" x=\"95.410156\"/>\n      </g>\n     </g>\n    </g>\n    <g id=\"ytick_3\">\n     <g id=\"line2d_9\">\n      <g>\n       <use xlink:href=\"#mf6391d7f9b\" x=\"43.78125\" y=\"179.566125\" style=\"stroke: #000000; stroke-width: 0.8\"/>\n      </g>\n     </g>\n     <g id=\"text_10\">\n      <!-- 0.4 -->\n      <g transform=\"translate(20.878125 183.365344) scale(0.1 -0.1)\">\n       <use xlink:href=\"#DejaVuSans-30\"/>\n       <use xlink:href=\"#DejaVuSans-2e\" x=\"63.623047\"/>\n       <use xlink:href=\"#DejaVuSans-34\" x=\"95.410156\"/>\n      </g>\n     </g>\n    </g>\n    <g id=\"ytick_4\">\n     <g id=\"line2d_10\">\n      <g>\n       <use xlink:href=\"#mf6391d7f9b\" x=\"43.78125\" y=\"131.182125\" style=\"stroke: #000000; stroke-width: 0.8\"/>\n      </g>\n     </g>\n     <g id=\"text_11\">\n      <!-- 0.6 -->\n      <g transform=\"translate(20.878125 134.981344) scale(0.1 -0.1)\">\n       <use xlink:href=\"#DejaVuSans-30\"/>\n       <use xlink:href=\"#DejaVuSans-2e\" x=\"63.623047\"/>\n       <use xlink:href=\"#DejaVuSans-36\" x=\"95.410156\"/>\n      </g>\n     </g>\n    </g>\n    <g id=\"ytick_5\">\n     <g id=\"line2d_11\">\n      <g>\n       <use xlink:href=\"#mf6391d7f9b\" x=\"43.78125\" y=\"82.798125\" style=\"stroke: #000000; stroke-width: 0.8\"/>\n      </g>\n     </g>\n     <g id=\"text_12\">\n      <!-- 0.8 -->\n      <g transform=\"translate(20.878125 86.597344) scale(0.1 -0.1)\">\n       <use xlink:href=\"#DejaVuSans-30\"/>\n       <use xlink:href=\"#DejaVuSans-2e\" x=\"63.623047\"/>\n       <use xlink:href=\"#DejaVuSans-38\" x=\"95.410156\"/>\n      </g>\n     </g>\n    </g>\n    <g id=\"ytick_6\">\n     <g id=\"line2d_12\">\n      <g>\n       <use xlink:href=\"#mf6391d7f9b\" x=\"43.78125\" y=\"34.414125\" style=\"stroke: #000000; stroke-width: 0.8\"/>\n      </g>\n     </g>\n     <g id=\"text_13\">\n      <!-- 1.0 -->\n      <g transform=\"translate(20.878125 38.213344) scale(0.1 -0.1)\">\n       <use xlink:href=\"#DejaVuSans-31\"/>\n       <use xlink:href=\"#DejaVuSans-2e\" x=\"63.623047\"/>\n       <use xlink:href=\"#DejaVuSans-30\" x=\"95.410156\"/>\n      </g>\n     </g>\n    </g>\n    <g id=\"text_14\">\n     <!-- True Positive Rate -->\n     <g transform=\"translate(14.798438 199.903812) rotate(-90) scale(0.1 -0.1)\">\n      <defs>\n       <path id=\"DejaVuSans-54\" d=\"M -19 4666 \nL 3928 4666 \nL 3928 4134 \nL 2272 4134 \nL 2272 0 \nL 1638 0 \nL 1638 4134 \nL -19 4134 \nL -19 4666 \nz\n\" transform=\"scale(0.015625)\"/>\n       <path id=\"DejaVuSans-72\" d=\"M 2631 2963 \nQ 2534 3019 2420 3045 \nQ 2306 3072 2169 3072 \nQ 1681 3072 1420 2755 \nQ 1159 2438 1159 1844 \nL 1159 0 \nL 581 0 \nL 581 3500 \nL 1159 3500 \nL 1159 2956 \nQ 1341 3275 1631 3429 \nQ 1922 3584 2338 3584 \nQ 2397 3584 2469 3576 \nQ 2541 3569 2628 3553 \nL 2631 2963 \nz\n\" transform=\"scale(0.015625)\"/>\n       <path id=\"DejaVuSans-75\" d=\"M 544 1381 \nL 544 3500 \nL 1119 3500 \nL 1119 1403 \nQ 1119 906 1312 657 \nQ 1506 409 1894 409 \nQ 2359 409 2629 706 \nQ 2900 1003 2900 1516 \nL 2900 3500 \nL 3475 3500 \nL 3475 0 \nL 2900 0 \nL 2900 538 \nQ 2691 219 2414 64 \nQ 2138 -91 1772 -91 \nQ 1169 -91 856 284 \nQ 544 659 544 1381 \nz\nM 1991 3584 \nL 1991 3584 \nz\n\" transform=\"scale(0.015625)\"/>\n      </defs>\n      <use xlink:href=\"#DejaVuSans-54\"/>\n      <use xlink:href=\"#DejaVuSans-72\" x=\"46.333984\"/>\n      <use xlink:href=\"#DejaVuSans-75\" x=\"87.447266\"/>\n      <use xlink:href=\"#DejaVuSans-65\" x=\"150.826172\"/>\n      <use xlink:href=\"#DejaVuSans-20\" x=\"212.349609\"/>\n      <use xlink:href=\"#DejaVuSans-50\" x=\"244.136719\"/>\n      <use xlink:href=\"#DejaVuSans-6f\" x=\"300.814453\"/>\n      <use xlink:href=\"#DejaVuSans-73\" x=\"361.996094\"/>\n      <use xlink:href=\"#DejaVuSans-69\" x=\"414.095703\"/>\n      <use xlink:href=\"#DejaVuSans-74\" x=\"441.878906\"/>\n      <use xlink:href=\"#DejaVuSans-69\" x=\"481.087891\"/>\n      <use xlink:href=\"#DejaVuSans-76\" x=\"508.871094\"/>\n      <use xlink:href=\"#DejaVuSans-65\" x=\"568.050781\"/>\n      <use xlink:href=\"#DejaVuSans-20\" x=\"629.574219\"/>\n      <use xlink:href=\"#DejaVuSans-52\" x=\"661.361328\"/>\n      <use xlink:href=\"#DejaVuSans-61\" x=\"728.59375\"/>\n      <use xlink:href=\"#DejaVuSans-74\" x=\"789.873047\"/>\n      <use xlink:href=\"#DejaVuSans-65\" x=\"829.082031\"/>\n     </g>\n    </g>\n   </g>\n   <g id=\"line2d_13\">\n    <path d=\"M 60.013977 276.334125 \nL 60.013977 267.537034 \nL 62.366546 225.750852 \nL 78.834531 190.562489 \nL 88.244807 157.573398 \nL 107.065361 133.381398 \nL 118.828207 111.38867 \nL 132.943622 104.790852 \nL 187.052712 71.801761 \nL 252.924649 56.406852 \nL 314.091448 38.81267 \nL 370.553108 34.414125 \nL 384.668523 34.414125 \n\" clip-path=\"url(#p9a096f778b)\" style=\"fill: none; stroke: #0000ff; stroke-width: 2; stroke-linecap: square\"/>\n   </g>\n   <g id=\"line2d_14\">\n    <path d=\"M 60.013977 276.334125 \nL 67.071685 269.795747 \nL 74.129392 230.565476 \nL 84.715954 181.527639 \nL 102.360222 158.643314 \nL 120.004491 145.566557 \nL 127.062199 132.489801 \nL 137.64876 106.336287 \nL 179.995005 76.913584 \nL 247.043226 50.760071 \nL 314.091448 40.952503 \nL 367.024254 34.414125 \nL 384.668523 34.414125 \n\" clip-path=\"url(#p9a096f778b)\" style=\"fill: none; stroke: #ff8c00; stroke-width: 2; stroke-linecap: square\"/>\n   </g>\n   <g id=\"line2d_15\">\n    <path d=\"M 60.013977 276.334125 \nL 384.668523 34.414125 \n\" clip-path=\"url(#p9a096f778b)\" style=\"fill: none; stroke-dasharray: 7.4,3.2; stroke-dashoffset: 0; stroke: #000080; stroke-width: 2\"/>\n   </g>\n   <g id=\"patch_3\">\n    <path d=\"M 43.78125 288.430125 \nL 43.78125 22.318125 \n\" style=\"fill: none; stroke: #000000; stroke-width: 0.8; stroke-linejoin: miter; stroke-linecap: square\"/>\n   </g>\n   <g id=\"patch_4\">\n    <path d=\"M 400.90125 288.430125 \nL 400.90125 22.318125 \n\" style=\"fill: none; stroke: #000000; stroke-width: 0.8; stroke-linejoin: miter; stroke-linecap: square\"/>\n   </g>\n   <g id=\"patch_5\">\n    <path d=\"M 43.78125 288.430125 \nL 400.90125 288.430125 \n\" style=\"fill: none; stroke: #000000; stroke-width: 0.8; stroke-linejoin: miter; stroke-linecap: square\"/>\n   </g>\n   <g id=\"patch_6\">\n    <path d=\"M 43.78125 22.318125 \nL 400.90125 22.318125 \n\" style=\"fill: none; stroke: #000000; stroke-width: 0.8; stroke-linejoin: miter; stroke-linecap: square\"/>\n   </g>\n   <g id=\"text_15\">\n    <!-- ROC Curve (KNeighborsClassifier) -->\n    <g transform=\"translate(121.206563 16.318125) scale(0.12 -0.12)\">\n     <defs>\n      <path id=\"DejaVuSans-4f\" d=\"M 2522 4238 \nQ 1834 4238 1429 3725 \nQ 1025 3213 1025 2328 \nQ 1025 1447 1429 934 \nQ 1834 422 2522 422 \nQ 3209 422 3611 934 \nQ 4013 1447 4013 2328 \nQ 4013 3213 3611 3725 \nQ 3209 4238 2522 4238 \nz\nM 2522 4750 \nQ 3503 4750 4090 4092 \nQ 4678 3434 4678 2328 \nQ 4678 1225 4090 567 \nQ 3503 -91 2522 -91 \nQ 1538 -91 948 565 \nQ 359 1222 359 2328 \nQ 359 3434 948 4092 \nQ 1538 4750 2522 4750 \nz\n\" transform=\"scale(0.015625)\"/>\n      <path id=\"DejaVuSans-43\" d=\"M 4122 4306 \nL 4122 3641 \nQ 3803 3938 3442 4084 \nQ 3081 4231 2675 4231 \nQ 1875 4231 1450 3742 \nQ 1025 3253 1025 2328 \nQ 1025 1406 1450 917 \nQ 1875 428 2675 428 \nQ 3081 428 3442 575 \nQ 3803 722 4122 1019 \nL 4122 359 \nQ 3791 134 3420 21 \nQ 3050 -91 2638 -91 \nQ 1578 -91 968 557 \nQ 359 1206 359 2328 \nQ 359 3453 968 4101 \nQ 1578 4750 2638 4750 \nQ 3056 4750 3426 4639 \nQ 3797 4528 4122 4306 \nz\n\" transform=\"scale(0.015625)\"/>\n      <path id=\"DejaVuSans-28\" d=\"M 1984 4856 \nQ 1566 4138 1362 3434 \nQ 1159 2731 1159 2009 \nQ 1159 1288 1364 580 \nQ 1569 -128 1984 -844 \nL 1484 -844 \nQ 1016 -109 783 600 \nQ 550 1309 550 2009 \nQ 550 2706 781 3412 \nQ 1013 4119 1484 4856 \nL 1984 4856 \nz\n\" transform=\"scale(0.015625)\"/>\n      <path id=\"DejaVuSans-4b\" d=\"M 628 4666 \nL 1259 4666 \nL 1259 2694 \nL 3353 4666 \nL 4166 4666 \nL 1850 2491 \nL 4331 0 \nL 3500 0 \nL 1259 2247 \nL 1259 0 \nL 628 0 \nL 628 4666 \nz\n\" transform=\"scale(0.015625)\"/>\n      <path id=\"DejaVuSans-4e\" d=\"M 628 4666 \nL 1478 4666 \nL 3547 763 \nL 3547 4666 \nL 4159 4666 \nL 4159 0 \nL 3309 0 \nL 1241 3903 \nL 1241 0 \nL 628 0 \nL 628 4666 \nz\n\" transform=\"scale(0.015625)\"/>\n      <path id=\"DejaVuSans-67\" d=\"M 2906 1791 \nQ 2906 2416 2648 2759 \nQ 2391 3103 1925 3103 \nQ 1463 3103 1205 2759 \nQ 947 2416 947 1791 \nQ 947 1169 1205 825 \nQ 1463 481 1925 481 \nQ 2391 481 2648 825 \nQ 2906 1169 2906 1791 \nz\nM 3481 434 \nQ 3481 -459 3084 -895 \nQ 2688 -1331 1869 -1331 \nQ 1566 -1331 1297 -1286 \nQ 1028 -1241 775 -1147 \nL 775 -588 \nQ 1028 -725 1275 -790 \nQ 1522 -856 1778 -856 \nQ 2344 -856 2625 -561 \nQ 2906 -266 2906 331 \nL 2906 616 \nQ 2728 306 2450 153 \nQ 2172 0 1784 0 \nQ 1141 0 747 490 \nQ 353 981 353 1791 \nQ 353 2603 747 3093 \nQ 1141 3584 1784 3584 \nQ 2172 3584 2450 3431 \nQ 2728 3278 2906 2969 \nL 2906 3500 \nL 3481 3500 \nL 3481 434 \nz\n\" transform=\"scale(0.015625)\"/>\n      <path id=\"DejaVuSans-68\" d=\"M 3513 2113 \nL 3513 0 \nL 2938 0 \nL 2938 2094 \nQ 2938 2591 2744 2837 \nQ 2550 3084 2163 3084 \nQ 1697 3084 1428 2787 \nQ 1159 2491 1159 1978 \nL 1159 0 \nL 581 0 \nL 581 4863 \nL 1159 4863 \nL 1159 2956 \nQ 1366 3272 1645 3428 \nQ 1925 3584 2291 3584 \nQ 2894 3584 3203 3211 \nQ 3513 2838 3513 2113 \nz\n\" transform=\"scale(0.015625)\"/>\n      <path id=\"DejaVuSans-62\" d=\"M 3116 1747 \nQ 3116 2381 2855 2742 \nQ 2594 3103 2138 3103 \nQ 1681 3103 1420 2742 \nQ 1159 2381 1159 1747 \nQ 1159 1113 1420 752 \nQ 1681 391 2138 391 \nQ 2594 391 2855 752 \nQ 3116 1113 3116 1747 \nz\nM 1159 2969 \nQ 1341 3281 1617 3432 \nQ 1894 3584 2278 3584 \nQ 2916 3584 3314 3078 \nQ 3713 2572 3713 1747 \nQ 3713 922 3314 415 \nQ 2916 -91 2278 -91 \nQ 1894 -91 1617 61 \nQ 1341 213 1159 525 \nL 1159 0 \nL 581 0 \nL 581 4863 \nL 1159 4863 \nL 1159 2969 \nz\n\" transform=\"scale(0.015625)\"/>\n      <path id=\"DejaVuSans-66\" d=\"M 2375 4863 \nL 2375 4384 \nL 1825 4384 \nQ 1516 4384 1395 4259 \nQ 1275 4134 1275 3809 \nL 1275 3500 \nL 2222 3500 \nL 2222 3053 \nL 1275 3053 \nL 1275 0 \nL 697 0 \nL 697 3053 \nL 147 3053 \nL 147 3500 \nL 697 3500 \nL 697 3744 \nQ 697 4328 969 4595 \nQ 1241 4863 1831 4863 \nL 2375 4863 \nz\n\" transform=\"scale(0.015625)\"/>\n      <path id=\"DejaVuSans-29\" d=\"M 513 4856 \nL 1013 4856 \nQ 1481 4119 1714 3412 \nQ 1947 2706 1947 2009 \nQ 1947 1309 1714 600 \nQ 1481 -109 1013 -844 \nL 513 -844 \nQ 928 -128 1133 580 \nQ 1338 1288 1338 2009 \nQ 1338 2731 1133 3434 \nQ 928 4138 513 4856 \nz\n\" transform=\"scale(0.015625)\"/>\n     </defs>\n     <use xlink:href=\"#DejaVuSans-52\"/>\n     <use xlink:href=\"#DejaVuSans-4f\" x=\"69.482422\"/>\n     <use xlink:href=\"#DejaVuSans-43\" x=\"148.193359\"/>\n     <use xlink:href=\"#DejaVuSans-20\" x=\"218.017578\"/>\n     <use xlink:href=\"#DejaVuSans-43\" x=\"249.804688\"/>\n     <use xlink:href=\"#DejaVuSans-75\" x=\"319.628906\"/>\n     <use xlink:href=\"#DejaVuSans-72\" x=\"383.007812\"/>\n     <use xlink:href=\"#DejaVuSans-76\" x=\"424.121094\"/>\n     <use xlink:href=\"#DejaVuSans-65\" x=\"483.300781\"/>\n     <use xlink:href=\"#DejaVuSans-20\" x=\"544.824219\"/>\n     <use xlink:href=\"#DejaVuSans-28\" x=\"576.611328\"/>\n     <use xlink:href=\"#DejaVuSans-4b\" x=\"615.625\"/>\n     <use xlink:href=\"#DejaVuSans-4e\" x=\"681.201172\"/>\n     <use xlink:href=\"#DejaVuSans-65\" x=\"756.005859\"/>\n     <use xlink:href=\"#DejaVuSans-69\" x=\"817.529297\"/>\n     <use xlink:href=\"#DejaVuSans-67\" x=\"845.3125\"/>\n     <use xlink:href=\"#DejaVuSans-68\" x=\"908.789062\"/>\n     <use xlink:href=\"#DejaVuSans-62\" x=\"972.167969\"/>\n     <use xlink:href=\"#DejaVuSans-6f\" x=\"1035.644531\"/>\n     <use xlink:href=\"#DejaVuSans-72\" x=\"1096.826172\"/>\n     <use xlink:href=\"#DejaVuSans-73\" x=\"1137.939453\"/>\n     <use xlink:href=\"#DejaVuSans-43\" x=\"1190.039062\"/>\n     <use xlink:href=\"#DejaVuSans-6c\" x=\"1259.863281\"/>\n     <use xlink:href=\"#DejaVuSans-61\" x=\"1287.646484\"/>\n     <use xlink:href=\"#DejaVuSans-73\" x=\"1348.925781\"/>\n     <use xlink:href=\"#DejaVuSans-73\" x=\"1401.025391\"/>\n     <use xlink:href=\"#DejaVuSans-69\" x=\"1453.125\"/>\n     <use xlink:href=\"#DejaVuSans-66\" x=\"1480.908203\"/>\n     <use xlink:href=\"#DejaVuSans-69\" x=\"1516.113281\"/>\n     <use xlink:href=\"#DejaVuSans-65\" x=\"1543.896484\"/>\n     <use xlink:href=\"#DejaVuSans-72\" x=\"1605.419922\"/>\n     <use xlink:href=\"#DejaVuSans-29\" x=\"1646.533203\"/>\n    </g>\n   </g>\n   <g id=\"legend_1\">\n    <g id=\"patch_7\">\n     <path d=\"M 50.78125 59.674375 \nL 164.43125 59.674375 \nQ 166.43125 59.674375 166.43125 57.674375 \nL 166.43125 29.318125 \nQ 166.43125 27.318125 164.43125 27.318125 \nL 50.78125 27.318125 \nQ 48.78125 27.318125 48.78125 29.318125 \nL 48.78125 57.674375 \nQ 48.78125 59.674375 50.78125 59.674375 \nz\n\" style=\"fill: #ffffff; opacity: 0.8; stroke: #cccccc; stroke-linejoin: miter\"/>\n    </g>\n    <g id=\"line2d_16\">\n     <path d=\"M 52.78125 35.416562 \nL 62.78125 35.416562 \nL 72.78125 35.416562 \n\" style=\"fill: none; stroke: #0000ff; stroke-width: 2; stroke-linecap: square\"/>\n    </g>\n    <g id=\"text_16\">\n     <!-- ROC Curve Train -->\n     <g transform=\"translate(80.78125 38.916562) scale(0.1 -0.1)\">\n      <defs>\n       <path id=\"DejaVuSans-6e\" d=\"M 3513 2113 \nL 3513 0 \nL 2938 0 \nL 2938 2094 \nQ 2938 2591 2744 2837 \nQ 2550 3084 2163 3084 \nQ 1697 3084 1428 2787 \nQ 1159 2491 1159 1978 \nL 1159 0 \nL 581 0 \nL 581 3500 \nL 1159 3500 \nL 1159 2956 \nQ 1366 3272 1645 3428 \nQ 1925 3584 2291 3584 \nQ 2894 3584 3203 3211 \nQ 3513 2838 3513 2113 \nz\n\" transform=\"scale(0.015625)\"/>\n      </defs>\n      <use xlink:href=\"#DejaVuSans-52\"/>\n      <use xlink:href=\"#DejaVuSans-4f\" x=\"69.482422\"/>\n      <use xlink:href=\"#DejaVuSans-43\" x=\"148.193359\"/>\n      <use xlink:href=\"#DejaVuSans-20\" x=\"218.017578\"/>\n      <use xlink:href=\"#DejaVuSans-43\" x=\"249.804688\"/>\n      <use xlink:href=\"#DejaVuSans-75\" x=\"319.628906\"/>\n      <use xlink:href=\"#DejaVuSans-72\" x=\"383.007812\"/>\n      <use xlink:href=\"#DejaVuSans-76\" x=\"424.121094\"/>\n      <use xlink:href=\"#DejaVuSans-65\" x=\"483.300781\"/>\n      <use xlink:href=\"#DejaVuSans-20\" x=\"544.824219\"/>\n      <use xlink:href=\"#DejaVuSans-54\" x=\"576.611328\"/>\n      <use xlink:href=\"#DejaVuSans-72\" x=\"622.945312\"/>\n      <use xlink:href=\"#DejaVuSans-61\" x=\"664.058594\"/>\n      <use xlink:href=\"#DejaVuSans-69\" x=\"725.337891\"/>\n      <use xlink:href=\"#DejaVuSans-6e\" x=\"753.121094\"/>\n     </g>\n    </g>\n    <g id=\"line2d_17\">\n     <path d=\"M 52.78125 50.094687 \nL 62.78125 50.094687 \nL 72.78125 50.094687 \n\" style=\"fill: none; stroke: #ff8c00; stroke-width: 2; stroke-linecap: square\"/>\n    </g>\n    <g id=\"text_17\">\n     <!-- ROC Curve Test -->\n     <g transform=\"translate(80.78125 53.594687) scale(0.1 -0.1)\">\n      <use xlink:href=\"#DejaVuSans-52\"/>\n      <use xlink:href=\"#DejaVuSans-4f\" x=\"69.482422\"/>\n      <use xlink:href=\"#DejaVuSans-43\" x=\"148.193359\"/>\n      <use xlink:href=\"#DejaVuSans-20\" x=\"218.017578\"/>\n      <use xlink:href=\"#DejaVuSans-43\" x=\"249.804688\"/>\n      <use xlink:href=\"#DejaVuSans-75\" x=\"319.628906\"/>\n      <use xlink:href=\"#DejaVuSans-72\" x=\"383.007812\"/>\n      <use xlink:href=\"#DejaVuSans-76\" x=\"424.121094\"/>\n      <use xlink:href=\"#DejaVuSans-65\" x=\"483.300781\"/>\n      <use xlink:href=\"#DejaVuSans-20\" x=\"544.824219\"/>\n      <use xlink:href=\"#DejaVuSans-54\" x=\"576.611328\"/>\n      <use xlink:href=\"#DejaVuSans-65\" x=\"620.695312\"/>\n      <use xlink:href=\"#DejaVuSans-73\" x=\"682.21875\"/>\n      <use xlink:href=\"#DejaVuSans-74\" x=\"734.318359\"/>\n     </g>\n    </g>\n   </g>\n  </g>\n </g>\n <defs>\n  <clipPath id=\"p9a096f778b\">\n   <rect x=\"43.78125\" y=\"22.318125\" width=\"357.12\" height=\"266.112\"/>\n  </clipPath>\n </defs>\n</svg>\n"
          },
          "metadata": {}
        },
        {
          "output_type": "stream",
          "name": "stdout",
          "text": [
            "Optimal Threshold: 0.28\n",
            "Optimal Training Precision: 0.63\n",
            "Optimal Training Recall: 0.85\n",
            "Optimal Test Precision: 0.64\n",
            "Optimal Test Recall: 0.82\n"
          ]
        }
      ],
      "source": [
        "metrics_knn = calculate_metrics_and_plot_roc(best_knn_model, X_train, y_train, X_test, y_test)"
      ]
    },
    {
      "cell_type": "markdown",
      "source": [
        "## поиск параметров"
      ],
      "metadata": {
        "id": "BF04SWhsuUwc"
      }
    },
    {
      "cell_type": "code",
      "execution_count": 32,
      "metadata": {
        "id": "75KAko-JXVnK",
        "colab": {
          "base_uri": "https://localhost:8080/"
        },
        "outputId": "e44f91da-7d69-4958-e693-860566c6b99f"
      },
      "outputs": [
        {
          "output_type": "stream",
          "name": "stdout",
          "text": [
            "Лучшее значение параметра: {'C': 0.1, 'penalty': 'l1'}\n",
            "CPU times: user 695 ms, sys: 14 ms, total: 709 ms\n",
            "Wall time: 1.97 s\n"
          ]
        }
      ],
      "source": [
        "%%time\n",
        "# Определяем сетку параметров для C, которые мы хотим проверить\n",
        "param_grid = {'C': [0.01, 0.1, 1, 10, 20, 30, 50, 100],\n",
        "              'penalty': ['l2','l1',],\n",
        "              }\n",
        "\n",
        "# Создаем модель логистической регрессии\n",
        "logreg_model = LogisticRegression(solver='saga', max_iter = 100000)\n",
        "\n",
        "# Создаем объект GridSearchCV с моделью логистической регрессии и сеткой параметров\n",
        "grid_search = GridSearchCV(logreg_model,\n",
        "                           param_grid,\n",
        "                           cv=5, # cv указывает количество блоков для кросс-валидации\n",
        "                           scoring='roc_auc')\n",
        "\n",
        "# Обучаем модель на данных с использованием кросс-валидации\n",
        "grid_search.fit(X_train, y_train)\n",
        "\n",
        "# Получаем лучшее значение параметра C, найденное в процессе кросс-валидации\n",
        "# best_params = grid_search.best_params_[param_grid]\n",
        "print('Лучшее значение параметра:', grid_search.best_params_)\n"
      ]
    },
    {
      "cell_type": "code",
      "source": [
        "%%time\n",
        "# Определяем сетку параметров для C, которые мы хотим проверить\n",
        "param_grid = {'C': [0.01, 0.1, 1, 10, 20, 30, 50, 100],\n",
        "              'penalty': ['l2', 'l1'],\n",
        "              }\n",
        "\n",
        "# Создаем модель логистической регрессии\n",
        "logreg_model = LogisticRegression(solver='saga', max_iter=100000)\n",
        "\n",
        "# Создаем объект RandomizedSearchCV с моделью логистической регрессии и сеткой параметров\n",
        "random_search = RandomizedSearchCV(logreg_model,\n",
        "                                   param_distributions=param_grid,\n",
        "                                   n_iter=10,\n",
        "                                   cv=5, scoring='roc_auc')\n",
        "\n",
        "# Обучаем модель на данных с использованием кросс-валидации\n",
        "random_search.fit(X_train, y_train)\n",
        "\n",
        "# Получаем лучшее значение параметров, найденных в процессе кросс-валидации\n",
        "print('Лучшие значения параметров:', random_search.best_params_)\n"
      ],
      "metadata": {
        "colab": {
          "base_uri": "https://localhost:8080/"
        },
        "id": "JUY4Tfu52AWO",
        "outputId": "29375f76-af62-46e9-f29d-f9537386e1dd"
      },
      "execution_count": 33,
      "outputs": [
        {
          "output_type": "stream",
          "name": "stdout",
          "text": [
            "Лучшие значения параметров: {'penalty': 'l1', 'C': 0.1}\n",
            "CPU times: user 412 ms, sys: 14.2 ms, total: 426 ms\n",
            "Wall time: 1.03 s\n"
          ]
        }
      ]
    },
    {
      "cell_type": "code",
      "execution_count": 34,
      "metadata": {
        "id": "L7vx-wH1LDiu"
      },
      "outputs": [],
      "source": [
        "\n",
        "# Построение модели логистической регрессии\n",
        "logreg_model = LogisticRegression(solver='saga',  max_iter=1000, **grid_search.best_params_)\n",
        "# plot_decision_boundary(logreg_model, X_train, y_train)"
      ]
    },
    {
      "cell_type": "code",
      "execution_count": 35,
      "metadata": {
        "id": "4aXdbgq5Mm0n",
        "colab": {
          "base_uri": "https://localhost:8080/",
          "height": 75
        },
        "outputId": "36126707-2640-4665-98c2-cde8e48789f5"
      },
      "outputs": [
        {
          "output_type": "execute_result",
          "data": {
            "text/plain": [
              "LogisticRegression(C=0.1, max_iter=1000, penalty='l1', solver='saga')"
            ],
            "text/html": [
              "<style>#sk-container-id-2 {color: black;background-color: white;}#sk-container-id-2 pre{padding: 0;}#sk-container-id-2 div.sk-toggleable {background-color: white;}#sk-container-id-2 label.sk-toggleable__label {cursor: pointer;display: block;width: 100%;margin-bottom: 0;padding: 0.3em;box-sizing: border-box;text-align: center;}#sk-container-id-2 label.sk-toggleable__label-arrow:before {content: \"▸\";float: left;margin-right: 0.25em;color: #696969;}#sk-container-id-2 label.sk-toggleable__label-arrow:hover:before {color: black;}#sk-container-id-2 div.sk-estimator:hover label.sk-toggleable__label-arrow:before {color: black;}#sk-container-id-2 div.sk-toggleable__content {max-height: 0;max-width: 0;overflow: hidden;text-align: left;background-color: #f0f8ff;}#sk-container-id-2 div.sk-toggleable__content pre {margin: 0.2em;color: black;border-radius: 0.25em;background-color: #f0f8ff;}#sk-container-id-2 input.sk-toggleable__control:checked~div.sk-toggleable__content {max-height: 200px;max-width: 100%;overflow: auto;}#sk-container-id-2 input.sk-toggleable__control:checked~label.sk-toggleable__label-arrow:before {content: \"▾\";}#sk-container-id-2 div.sk-estimator input.sk-toggleable__control:checked~label.sk-toggleable__label {background-color: #d4ebff;}#sk-container-id-2 div.sk-label input.sk-toggleable__control:checked~label.sk-toggleable__label {background-color: #d4ebff;}#sk-container-id-2 input.sk-hidden--visually {border: 0;clip: rect(1px 1px 1px 1px);clip: rect(1px, 1px, 1px, 1px);height: 1px;margin: -1px;overflow: hidden;padding: 0;position: absolute;width: 1px;}#sk-container-id-2 div.sk-estimator {font-family: monospace;background-color: #f0f8ff;border: 1px dotted black;border-radius: 0.25em;box-sizing: border-box;margin-bottom: 0.5em;}#sk-container-id-2 div.sk-estimator:hover {background-color: #d4ebff;}#sk-container-id-2 div.sk-parallel-item::after {content: \"\";width: 100%;border-bottom: 1px solid gray;flex-grow: 1;}#sk-container-id-2 div.sk-label:hover label.sk-toggleable__label {background-color: #d4ebff;}#sk-container-id-2 div.sk-serial::before {content: \"\";position: absolute;border-left: 1px solid gray;box-sizing: border-box;top: 0;bottom: 0;left: 50%;z-index: 0;}#sk-container-id-2 div.sk-serial {display: flex;flex-direction: column;align-items: center;background-color: white;padding-right: 0.2em;padding-left: 0.2em;position: relative;}#sk-container-id-2 div.sk-item {position: relative;z-index: 1;}#sk-container-id-2 div.sk-parallel {display: flex;align-items: stretch;justify-content: center;background-color: white;position: relative;}#sk-container-id-2 div.sk-item::before, #sk-container-id-2 div.sk-parallel-item::before {content: \"\";position: absolute;border-left: 1px solid gray;box-sizing: border-box;top: 0;bottom: 0;left: 50%;z-index: -1;}#sk-container-id-2 div.sk-parallel-item {display: flex;flex-direction: column;z-index: 1;position: relative;background-color: white;}#sk-container-id-2 div.sk-parallel-item:first-child::after {align-self: flex-end;width: 50%;}#sk-container-id-2 div.sk-parallel-item:last-child::after {align-self: flex-start;width: 50%;}#sk-container-id-2 div.sk-parallel-item:only-child::after {width: 0;}#sk-container-id-2 div.sk-dashed-wrapped {border: 1px dashed gray;margin: 0 0.4em 0.5em 0.4em;box-sizing: border-box;padding-bottom: 0.4em;background-color: white;}#sk-container-id-2 div.sk-label label {font-family: monospace;font-weight: bold;display: inline-block;line-height: 1.2em;}#sk-container-id-2 div.sk-label-container {text-align: center;}#sk-container-id-2 div.sk-container {/* jupyter's `normalize.less` sets `[hidden] { display: none; }` but bootstrap.min.css set `[hidden] { display: none !important; }` so we also need the `!important` here to be able to override the default hidden behavior on the sphinx rendered scikit-learn.org. See: https://github.com/scikit-learn/scikit-learn/issues/21755 */display: inline-block !important;position: relative;}#sk-container-id-2 div.sk-text-repr-fallback {display: none;}</style><div id=\"sk-container-id-2\" class=\"sk-top-container\"><div class=\"sk-text-repr-fallback\"><pre>LogisticRegression(C=0.1, max_iter=1000, penalty=&#x27;l1&#x27;, solver=&#x27;saga&#x27;)</pre><b>In a Jupyter environment, please rerun this cell to show the HTML representation or trust the notebook. <br />On GitHub, the HTML representation is unable to render, please try loading this page with nbviewer.org.</b></div><div class=\"sk-container\" hidden><div class=\"sk-item\"><div class=\"sk-estimator sk-toggleable\"><input class=\"sk-toggleable__control sk-hidden--visually\" id=\"sk-estimator-id-2\" type=\"checkbox\" checked><label for=\"sk-estimator-id-2\" class=\"sk-toggleable__label sk-toggleable__label-arrow\">LogisticRegression</label><div class=\"sk-toggleable__content\"><pre>LogisticRegression(C=0.1, max_iter=1000, penalty=&#x27;l1&#x27;, solver=&#x27;saga&#x27;)</pre></div></div></div></div></div>"
            ]
          },
          "metadata": {},
          "execution_count": 35
        }
      ],
      "source": [
        "logreg_model.fit(X_train, y_train)"
      ]
    },
    {
      "cell_type": "code",
      "execution_count": 36,
      "metadata": {
        "id": "M8_3JnV8L3DM",
        "colab": {
          "base_uri": "https://localhost:8080/"
        },
        "outputId": "77c40f75-7d80-44b0-dca7-9a7dcb54f9c7"
      },
      "outputs": [
        {
          "output_type": "execute_result",
          "data": {
            "text/plain": [
              "array([[0.        , 0.        , 0.        , 0.        , 0.        ,\n",
              "        0.95262318]])"
            ]
          },
          "metadata": {},
          "execution_count": 36
        }
      ],
      "source": [
        "logreg_model.coef_"
      ]
    },
    {
      "cell_type": "code",
      "execution_count": 37,
      "metadata": {
        "id": "H4o_1thlhIlw",
        "colab": {
          "base_uri": "https://localhost:8080/",
          "height": 581
        },
        "outputId": "f858770f-0d92-436f-ca45-31f28dcd4d4b"
      },
      "outputs": [
        {
          "output_type": "stream",
          "name": "stdout",
          "text": [
            "ROC-AUC Train: 0.79\n",
            "ROC-AUC Test: 0.79\n"
          ]
        },
        {
          "output_type": "display_data",
          "data": {
            "text/plain": [
              "<Figure size 640x480 with 1 Axes>"
            ],
            "image/svg+xml": "<?xml version=\"1.0\" encoding=\"utf-8\" standalone=\"no\"?>\n<!DOCTYPE svg PUBLIC \"-//W3C//DTD SVG 1.1//EN\"\n  \"http://www.w3.org/Graphics/SVG/1.1/DTD/svg11.dtd\">\n<svg xmlns:xlink=\"http://www.w3.org/1999/xlink\" width=\"408.10125pt\" height=\"325.986375pt\" viewBox=\"0 0 408.10125 325.986375\" xmlns=\"http://www.w3.org/2000/svg\" version=\"1.1\">\n <metadata>\n  <rdf:RDF xmlns:dc=\"http://purl.org/dc/elements/1.1/\" xmlns:cc=\"http://creativecommons.org/ns#\" xmlns:rdf=\"http://www.w3.org/1999/02/22-rdf-syntax-ns#\">\n   <cc:Work>\n    <dc:type rdf:resource=\"http://purl.org/dc/dcmitype/StillImage\"/>\n    <dc:date>2024-07-05T15:52:10.708041</dc:date>\n    <dc:format>image/svg+xml</dc:format>\n    <dc:creator>\n     <cc:Agent>\n      <dc:title>Matplotlib v3.7.1, https://matplotlib.org/</dc:title>\n     </cc:Agent>\n    </dc:creator>\n   </cc:Work>\n  </rdf:RDF>\n </metadata>\n <defs>\n  <style type=\"text/css\">*{stroke-linejoin: round; stroke-linecap: butt}</style>\n </defs>\n <g id=\"figure_1\">\n  <g id=\"patch_1\">\n   <path d=\"M 0 325.986375 \nL 408.10125 325.986375 \nL 408.10125 0 \nL 0 0 \nz\n\" style=\"fill: #ffffff\"/>\n  </g>\n  <g id=\"axes_1\">\n   <g id=\"patch_2\">\n    <path d=\"M 43.78125 288.430125 \nL 400.90125 288.430125 \nL 400.90125 22.318125 \nL 43.78125 22.318125 \nz\n\" style=\"fill: #ffffff\"/>\n   </g>\n   <g id=\"matplotlib.axis_1\">\n    <g id=\"xtick_1\">\n     <g id=\"line2d_1\">\n      <defs>\n       <path id=\"m33fa03d6ef\" d=\"M 0 0 \nL 0 3.5 \n\" style=\"stroke: #000000; stroke-width: 0.8\"/>\n      </defs>\n      <g>\n       <use xlink:href=\"#m33fa03d6ef\" x=\"60.013977\" y=\"288.430125\" style=\"stroke: #000000; stroke-width: 0.8\"/>\n      </g>\n     </g>\n     <g id=\"text_1\">\n      <!-- 0.0 -->\n      <g transform=\"translate(52.062415 303.028562) scale(0.1 -0.1)\">\n       <defs>\n        <path id=\"DejaVuSans-30\" d=\"M 2034 4250 \nQ 1547 4250 1301 3770 \nQ 1056 3291 1056 2328 \nQ 1056 1369 1301 889 \nQ 1547 409 2034 409 \nQ 2525 409 2770 889 \nQ 3016 1369 3016 2328 \nQ 3016 3291 2770 3770 \nQ 2525 4250 2034 4250 \nz\nM 2034 4750 \nQ 2819 4750 3233 4129 \nQ 3647 3509 3647 2328 \nQ 3647 1150 3233 529 \nQ 2819 -91 2034 -91 \nQ 1250 -91 836 529 \nQ 422 1150 422 2328 \nQ 422 3509 836 4129 \nQ 1250 4750 2034 4750 \nz\n\" transform=\"scale(0.015625)\"/>\n        <path id=\"DejaVuSans-2e\" d=\"M 684 794 \nL 1344 794 \nL 1344 0 \nL 684 0 \nL 684 794 \nz\n\" transform=\"scale(0.015625)\"/>\n       </defs>\n       <use xlink:href=\"#DejaVuSans-30\"/>\n       <use xlink:href=\"#DejaVuSans-2e\" x=\"63.623047\"/>\n       <use xlink:href=\"#DejaVuSans-30\" x=\"95.410156\"/>\n      </g>\n     </g>\n    </g>\n    <g id=\"xtick_2\">\n     <g id=\"line2d_2\">\n      <g>\n       <use xlink:href=\"#m33fa03d6ef\" x=\"124.944886\" y=\"288.430125\" style=\"stroke: #000000; stroke-width: 0.8\"/>\n      </g>\n     </g>\n     <g id=\"text_2\">\n      <!-- 0.2 -->\n      <g transform=\"translate(116.993324 303.028562) scale(0.1 -0.1)\">\n       <defs>\n        <path id=\"DejaVuSans-32\" d=\"M 1228 531 \nL 3431 531 \nL 3431 0 \nL 469 0 \nL 469 531 \nQ 828 903 1448 1529 \nQ 2069 2156 2228 2338 \nQ 2531 2678 2651 2914 \nQ 2772 3150 2772 3378 \nQ 2772 3750 2511 3984 \nQ 2250 4219 1831 4219 \nQ 1534 4219 1204 4116 \nQ 875 4013 500 3803 \nL 500 4441 \nQ 881 4594 1212 4672 \nQ 1544 4750 1819 4750 \nQ 2544 4750 2975 4387 \nQ 3406 4025 3406 3419 \nQ 3406 3131 3298 2873 \nQ 3191 2616 2906 2266 \nQ 2828 2175 2409 1742 \nQ 1991 1309 1228 531 \nz\n\" transform=\"scale(0.015625)\"/>\n       </defs>\n       <use xlink:href=\"#DejaVuSans-30\"/>\n       <use xlink:href=\"#DejaVuSans-2e\" x=\"63.623047\"/>\n       <use xlink:href=\"#DejaVuSans-32\" x=\"95.410156\"/>\n      </g>\n     </g>\n    </g>\n    <g id=\"xtick_3\">\n     <g id=\"line2d_3\">\n      <g>\n       <use xlink:href=\"#m33fa03d6ef\" x=\"189.875795\" y=\"288.430125\" style=\"stroke: #000000; stroke-width: 0.8\"/>\n      </g>\n     </g>\n     <g id=\"text_3\">\n      <!-- 0.4 -->\n      <g transform=\"translate(181.924233 303.028562) scale(0.1 -0.1)\">\n       <defs>\n        <path id=\"DejaVuSans-34\" d=\"M 2419 4116 \nL 825 1625 \nL 2419 1625 \nL 2419 4116 \nz\nM 2253 4666 \nL 3047 4666 \nL 3047 1625 \nL 3713 1625 \nL 3713 1100 \nL 3047 1100 \nL 3047 0 \nL 2419 0 \nL 2419 1100 \nL 313 1100 \nL 313 1709 \nL 2253 4666 \nz\n\" transform=\"scale(0.015625)\"/>\n       </defs>\n       <use xlink:href=\"#DejaVuSans-30\"/>\n       <use xlink:href=\"#DejaVuSans-2e\" x=\"63.623047\"/>\n       <use xlink:href=\"#DejaVuSans-34\" x=\"95.410156\"/>\n      </g>\n     </g>\n    </g>\n    <g id=\"xtick_4\">\n     <g id=\"line2d_4\">\n      <g>\n       <use xlink:href=\"#m33fa03d6ef\" x=\"254.806705\" y=\"288.430125\" style=\"stroke: #000000; stroke-width: 0.8\"/>\n      </g>\n     </g>\n     <g id=\"text_4\">\n      <!-- 0.6 -->\n      <g transform=\"translate(246.855142 303.028562) scale(0.1 -0.1)\">\n       <defs>\n        <path id=\"DejaVuSans-36\" d=\"M 2113 2584 \nQ 1688 2584 1439 2293 \nQ 1191 2003 1191 1497 \nQ 1191 994 1439 701 \nQ 1688 409 2113 409 \nQ 2538 409 2786 701 \nQ 3034 994 3034 1497 \nQ 3034 2003 2786 2293 \nQ 2538 2584 2113 2584 \nz\nM 3366 4563 \nL 3366 3988 \nQ 3128 4100 2886 4159 \nQ 2644 4219 2406 4219 \nQ 1781 4219 1451 3797 \nQ 1122 3375 1075 2522 \nQ 1259 2794 1537 2939 \nQ 1816 3084 2150 3084 \nQ 2853 3084 3261 2657 \nQ 3669 2231 3669 1497 \nQ 3669 778 3244 343 \nQ 2819 -91 2113 -91 \nQ 1303 -91 875 529 \nQ 447 1150 447 2328 \nQ 447 3434 972 4092 \nQ 1497 4750 2381 4750 \nQ 2619 4750 2861 4703 \nQ 3103 4656 3366 4563 \nz\n\" transform=\"scale(0.015625)\"/>\n       </defs>\n       <use xlink:href=\"#DejaVuSans-30\"/>\n       <use xlink:href=\"#DejaVuSans-2e\" x=\"63.623047\"/>\n       <use xlink:href=\"#DejaVuSans-36\" x=\"95.410156\"/>\n      </g>\n     </g>\n    </g>\n    <g id=\"xtick_5\">\n     <g id=\"line2d_5\">\n      <g>\n       <use xlink:href=\"#m33fa03d6ef\" x=\"319.737614\" y=\"288.430125\" style=\"stroke: #000000; stroke-width: 0.8\"/>\n      </g>\n     </g>\n     <g id=\"text_5\">\n      <!-- 0.8 -->\n      <g transform=\"translate(311.786051 303.028562) scale(0.1 -0.1)\">\n       <defs>\n        <path id=\"DejaVuSans-38\" d=\"M 2034 2216 \nQ 1584 2216 1326 1975 \nQ 1069 1734 1069 1313 \nQ 1069 891 1326 650 \nQ 1584 409 2034 409 \nQ 2484 409 2743 651 \nQ 3003 894 3003 1313 \nQ 3003 1734 2745 1975 \nQ 2488 2216 2034 2216 \nz\nM 1403 2484 \nQ 997 2584 770 2862 \nQ 544 3141 544 3541 \nQ 544 4100 942 4425 \nQ 1341 4750 2034 4750 \nQ 2731 4750 3128 4425 \nQ 3525 4100 3525 3541 \nQ 3525 3141 3298 2862 \nQ 3072 2584 2669 2484 \nQ 3125 2378 3379 2068 \nQ 3634 1759 3634 1313 \nQ 3634 634 3220 271 \nQ 2806 -91 2034 -91 \nQ 1263 -91 848 271 \nQ 434 634 434 1313 \nQ 434 1759 690 2068 \nQ 947 2378 1403 2484 \nz\nM 1172 3481 \nQ 1172 3119 1398 2916 \nQ 1625 2713 2034 2713 \nQ 2441 2713 2670 2916 \nQ 2900 3119 2900 3481 \nQ 2900 3844 2670 4047 \nQ 2441 4250 2034 4250 \nQ 1625 4250 1398 4047 \nQ 1172 3844 1172 3481 \nz\n\" transform=\"scale(0.015625)\"/>\n       </defs>\n       <use xlink:href=\"#DejaVuSans-30\"/>\n       <use xlink:href=\"#DejaVuSans-2e\" x=\"63.623047\"/>\n       <use xlink:href=\"#DejaVuSans-38\" x=\"95.410156\"/>\n      </g>\n     </g>\n    </g>\n    <g id=\"xtick_6\">\n     <g id=\"line2d_6\">\n      <g>\n       <use xlink:href=\"#m33fa03d6ef\" x=\"384.668523\" y=\"288.430125\" style=\"stroke: #000000; stroke-width: 0.8\"/>\n      </g>\n     </g>\n     <g id=\"text_6\">\n      <!-- 1.0 -->\n      <g transform=\"translate(376.71696 303.028562) scale(0.1 -0.1)\">\n       <defs>\n        <path id=\"DejaVuSans-31\" d=\"M 794 531 \nL 1825 531 \nL 1825 4091 \nL 703 3866 \nL 703 4441 \nL 1819 4666 \nL 2450 4666 \nL 2450 531 \nL 3481 531 \nL 3481 0 \nL 794 0 \nL 794 531 \nz\n\" transform=\"scale(0.015625)\"/>\n       </defs>\n       <use xlink:href=\"#DejaVuSans-31\"/>\n       <use xlink:href=\"#DejaVuSans-2e\" x=\"63.623047\"/>\n       <use xlink:href=\"#DejaVuSans-30\" x=\"95.410156\"/>\n      </g>\n     </g>\n    </g>\n    <g id=\"text_7\">\n     <!-- False Positive Rate -->\n     <g transform=\"translate(175.874844 316.706687) scale(0.1 -0.1)\">\n      <defs>\n       <path id=\"DejaVuSans-46\" d=\"M 628 4666 \nL 3309 4666 \nL 3309 4134 \nL 1259 4134 \nL 1259 2759 \nL 3109 2759 \nL 3109 2228 \nL 1259 2228 \nL 1259 0 \nL 628 0 \nL 628 4666 \nz\n\" transform=\"scale(0.015625)\"/>\n       <path id=\"DejaVuSans-61\" d=\"M 2194 1759 \nQ 1497 1759 1228 1600 \nQ 959 1441 959 1056 \nQ 959 750 1161 570 \nQ 1363 391 1709 391 \nQ 2188 391 2477 730 \nQ 2766 1069 2766 1631 \nL 2766 1759 \nL 2194 1759 \nz\nM 3341 1997 \nL 3341 0 \nL 2766 0 \nL 2766 531 \nQ 2569 213 2275 61 \nQ 1981 -91 1556 -91 \nQ 1019 -91 701 211 \nQ 384 513 384 1019 \nQ 384 1609 779 1909 \nQ 1175 2209 1959 2209 \nL 2766 2209 \nL 2766 2266 \nQ 2766 2663 2505 2880 \nQ 2244 3097 1772 3097 \nQ 1472 3097 1187 3025 \nQ 903 2953 641 2809 \nL 641 3341 \nQ 956 3463 1253 3523 \nQ 1550 3584 1831 3584 \nQ 2591 3584 2966 3190 \nQ 3341 2797 3341 1997 \nz\n\" transform=\"scale(0.015625)\"/>\n       <path id=\"DejaVuSans-6c\" d=\"M 603 4863 \nL 1178 4863 \nL 1178 0 \nL 603 0 \nL 603 4863 \nz\n\" transform=\"scale(0.015625)\"/>\n       <path id=\"DejaVuSans-73\" d=\"M 2834 3397 \nL 2834 2853 \nQ 2591 2978 2328 3040 \nQ 2066 3103 1784 3103 \nQ 1356 3103 1142 2972 \nQ 928 2841 928 2578 \nQ 928 2378 1081 2264 \nQ 1234 2150 1697 2047 \nL 1894 2003 \nQ 2506 1872 2764 1633 \nQ 3022 1394 3022 966 \nQ 3022 478 2636 193 \nQ 2250 -91 1575 -91 \nQ 1294 -91 989 -36 \nQ 684 19 347 128 \nL 347 722 \nQ 666 556 975 473 \nQ 1284 391 1588 391 \nQ 1994 391 2212 530 \nQ 2431 669 2431 922 \nQ 2431 1156 2273 1281 \nQ 2116 1406 1581 1522 \nL 1381 1569 \nQ 847 1681 609 1914 \nQ 372 2147 372 2553 \nQ 372 3047 722 3315 \nQ 1072 3584 1716 3584 \nQ 2034 3584 2315 3537 \nQ 2597 3491 2834 3397 \nz\n\" transform=\"scale(0.015625)\"/>\n       <path id=\"DejaVuSans-65\" d=\"M 3597 1894 \nL 3597 1613 \nL 953 1613 \nQ 991 1019 1311 708 \nQ 1631 397 2203 397 \nQ 2534 397 2845 478 \nQ 3156 559 3463 722 \nL 3463 178 \nQ 3153 47 2828 -22 \nQ 2503 -91 2169 -91 \nQ 1331 -91 842 396 \nQ 353 884 353 1716 \nQ 353 2575 817 3079 \nQ 1281 3584 2069 3584 \nQ 2775 3584 3186 3129 \nQ 3597 2675 3597 1894 \nz\nM 3022 2063 \nQ 3016 2534 2758 2815 \nQ 2500 3097 2075 3097 \nQ 1594 3097 1305 2825 \nQ 1016 2553 972 2059 \nL 3022 2063 \nz\n\" transform=\"scale(0.015625)\"/>\n       <path id=\"DejaVuSans-20\" transform=\"scale(0.015625)\"/>\n       <path id=\"DejaVuSans-50\" d=\"M 1259 4147 \nL 1259 2394 \nL 2053 2394 \nQ 2494 2394 2734 2622 \nQ 2975 2850 2975 3272 \nQ 2975 3691 2734 3919 \nQ 2494 4147 2053 4147 \nL 1259 4147 \nz\nM 628 4666 \nL 2053 4666 \nQ 2838 4666 3239 4311 \nQ 3641 3956 3641 3272 \nQ 3641 2581 3239 2228 \nQ 2838 1875 2053 1875 \nL 1259 1875 \nL 1259 0 \nL 628 0 \nL 628 4666 \nz\n\" transform=\"scale(0.015625)\"/>\n       <path id=\"DejaVuSans-6f\" d=\"M 1959 3097 \nQ 1497 3097 1228 2736 \nQ 959 2375 959 1747 \nQ 959 1119 1226 758 \nQ 1494 397 1959 397 \nQ 2419 397 2687 759 \nQ 2956 1122 2956 1747 \nQ 2956 2369 2687 2733 \nQ 2419 3097 1959 3097 \nz\nM 1959 3584 \nQ 2709 3584 3137 3096 \nQ 3566 2609 3566 1747 \nQ 3566 888 3137 398 \nQ 2709 -91 1959 -91 \nQ 1206 -91 779 398 \nQ 353 888 353 1747 \nQ 353 2609 779 3096 \nQ 1206 3584 1959 3584 \nz\n\" transform=\"scale(0.015625)\"/>\n       <path id=\"DejaVuSans-69\" d=\"M 603 3500 \nL 1178 3500 \nL 1178 0 \nL 603 0 \nL 603 3500 \nz\nM 603 4863 \nL 1178 4863 \nL 1178 4134 \nL 603 4134 \nL 603 4863 \nz\n\" transform=\"scale(0.015625)\"/>\n       <path id=\"DejaVuSans-74\" d=\"M 1172 4494 \nL 1172 3500 \nL 2356 3500 \nL 2356 3053 \nL 1172 3053 \nL 1172 1153 \nQ 1172 725 1289 603 \nQ 1406 481 1766 481 \nL 2356 481 \nL 2356 0 \nL 1766 0 \nQ 1100 0 847 248 \nQ 594 497 594 1153 \nL 594 3053 \nL 172 3053 \nL 172 3500 \nL 594 3500 \nL 594 4494 \nL 1172 4494 \nz\n\" transform=\"scale(0.015625)\"/>\n       <path id=\"DejaVuSans-76\" d=\"M 191 3500 \nL 800 3500 \nL 1894 563 \nL 2988 3500 \nL 3597 3500 \nL 2284 0 \nL 1503 0 \nL 191 3500 \nz\n\" transform=\"scale(0.015625)\"/>\n       <path id=\"DejaVuSans-52\" d=\"M 2841 2188 \nQ 3044 2119 3236 1894 \nQ 3428 1669 3622 1275 \nL 4263 0 \nL 3584 0 \nL 2988 1197 \nQ 2756 1666 2539 1819 \nQ 2322 1972 1947 1972 \nL 1259 1972 \nL 1259 0 \nL 628 0 \nL 628 4666 \nL 2053 4666 \nQ 2853 4666 3247 4331 \nQ 3641 3997 3641 3322 \nQ 3641 2881 3436 2590 \nQ 3231 2300 2841 2188 \nz\nM 1259 4147 \nL 1259 2491 \nL 2053 2491 \nQ 2509 2491 2742 2702 \nQ 2975 2913 2975 3322 \nQ 2975 3731 2742 3939 \nQ 2509 4147 2053 4147 \nL 1259 4147 \nz\n\" transform=\"scale(0.015625)\"/>\n      </defs>\n      <use xlink:href=\"#DejaVuSans-46\"/>\n      <use xlink:href=\"#DejaVuSans-61\" x=\"48.394531\"/>\n      <use xlink:href=\"#DejaVuSans-6c\" x=\"109.673828\"/>\n      <use xlink:href=\"#DejaVuSans-73\" x=\"137.457031\"/>\n      <use xlink:href=\"#DejaVuSans-65\" x=\"189.556641\"/>\n      <use xlink:href=\"#DejaVuSans-20\" x=\"251.080078\"/>\n      <use xlink:href=\"#DejaVuSans-50\" x=\"282.867188\"/>\n      <use xlink:href=\"#DejaVuSans-6f\" x=\"339.544922\"/>\n      <use xlink:href=\"#DejaVuSans-73\" x=\"400.726562\"/>\n      <use xlink:href=\"#DejaVuSans-69\" x=\"452.826172\"/>\n      <use xlink:href=\"#DejaVuSans-74\" x=\"480.609375\"/>\n      <use xlink:href=\"#DejaVuSans-69\" x=\"519.818359\"/>\n      <use xlink:href=\"#DejaVuSans-76\" x=\"547.601562\"/>\n      <use xlink:href=\"#DejaVuSans-65\" x=\"606.78125\"/>\n      <use xlink:href=\"#DejaVuSans-20\" x=\"668.304688\"/>\n      <use xlink:href=\"#DejaVuSans-52\" x=\"700.091797\"/>\n      <use xlink:href=\"#DejaVuSans-61\" x=\"767.324219\"/>\n      <use xlink:href=\"#DejaVuSans-74\" x=\"828.603516\"/>\n      <use xlink:href=\"#DejaVuSans-65\" x=\"867.8125\"/>\n     </g>\n    </g>\n   </g>\n   <g id=\"matplotlib.axis_2\">\n    <g id=\"ytick_1\">\n     <g id=\"line2d_7\">\n      <defs>\n       <path id=\"mea12145608\" d=\"M 0 0 \nL -3.5 0 \n\" style=\"stroke: #000000; stroke-width: 0.8\"/>\n      </defs>\n      <g>\n       <use xlink:href=\"#mea12145608\" x=\"43.78125\" y=\"276.334125\" style=\"stroke: #000000; stroke-width: 0.8\"/>\n      </g>\n     </g>\n     <g id=\"text_8\">\n      <!-- 0.0 -->\n      <g transform=\"translate(20.878125 280.133344) scale(0.1 -0.1)\">\n       <use xlink:href=\"#DejaVuSans-30\"/>\n       <use xlink:href=\"#DejaVuSans-2e\" x=\"63.623047\"/>\n       <use xlink:href=\"#DejaVuSans-30\" x=\"95.410156\"/>\n      </g>\n     </g>\n    </g>\n    <g id=\"ytick_2\">\n     <g id=\"line2d_8\">\n      <g>\n       <use xlink:href=\"#mea12145608\" x=\"43.78125\" y=\"227.950125\" style=\"stroke: #000000; stroke-width: 0.8\"/>\n      </g>\n     </g>\n     <g id=\"text_9\">\n      <!-- 0.2 -->\n      <g transform=\"translate(20.878125 231.749344) scale(0.1 -0.1)\">\n       <use xlink:href=\"#DejaVuSans-30\"/>\n       <use xlink:href=\"#DejaVuSans-2e\" x=\"63.623047\"/>\n       <use xlink:href=\"#DejaVuSans-32\" x=\"95.410156\"/>\n      </g>\n     </g>\n    </g>\n    <g id=\"ytick_3\">\n     <g id=\"line2d_9\">\n      <g>\n       <use xlink:href=\"#mea12145608\" x=\"43.78125\" y=\"179.566125\" style=\"stroke: #000000; stroke-width: 0.8\"/>\n      </g>\n     </g>\n     <g id=\"text_10\">\n      <!-- 0.4 -->\n      <g transform=\"translate(20.878125 183.365344) scale(0.1 -0.1)\">\n       <use xlink:href=\"#DejaVuSans-30\"/>\n       <use xlink:href=\"#DejaVuSans-2e\" x=\"63.623047\"/>\n       <use xlink:href=\"#DejaVuSans-34\" x=\"95.410156\"/>\n      </g>\n     </g>\n    </g>\n    <g id=\"ytick_4\">\n     <g id=\"line2d_10\">\n      <g>\n       <use xlink:href=\"#mea12145608\" x=\"43.78125\" y=\"131.182125\" style=\"stroke: #000000; stroke-width: 0.8\"/>\n      </g>\n     </g>\n     <g id=\"text_11\">\n      <!-- 0.6 -->\n      <g transform=\"translate(20.878125 134.981344) scale(0.1 -0.1)\">\n       <use xlink:href=\"#DejaVuSans-30\"/>\n       <use xlink:href=\"#DejaVuSans-2e\" x=\"63.623047\"/>\n       <use xlink:href=\"#DejaVuSans-36\" x=\"95.410156\"/>\n      </g>\n     </g>\n    </g>\n    <g id=\"ytick_5\">\n     <g id=\"line2d_11\">\n      <g>\n       <use xlink:href=\"#mea12145608\" x=\"43.78125\" y=\"82.798125\" style=\"stroke: #000000; stroke-width: 0.8\"/>\n      </g>\n     </g>\n     <g id=\"text_12\">\n      <!-- 0.8 -->\n      <g transform=\"translate(20.878125 86.597344) scale(0.1 -0.1)\">\n       <use xlink:href=\"#DejaVuSans-30\"/>\n       <use xlink:href=\"#DejaVuSans-2e\" x=\"63.623047\"/>\n       <use xlink:href=\"#DejaVuSans-38\" x=\"95.410156\"/>\n      </g>\n     </g>\n    </g>\n    <g id=\"ytick_6\">\n     <g id=\"line2d_12\">\n      <g>\n       <use xlink:href=\"#mea12145608\" x=\"43.78125\" y=\"34.414125\" style=\"stroke: #000000; stroke-width: 0.8\"/>\n      </g>\n     </g>\n     <g id=\"text_13\">\n      <!-- 1.0 -->\n      <g transform=\"translate(20.878125 38.213344) scale(0.1 -0.1)\">\n       <use xlink:href=\"#DejaVuSans-31\"/>\n       <use xlink:href=\"#DejaVuSans-2e\" x=\"63.623047\"/>\n       <use xlink:href=\"#DejaVuSans-30\" x=\"95.410156\"/>\n      </g>\n     </g>\n    </g>\n    <g id=\"text_14\">\n     <!-- True Positive Rate -->\n     <g transform=\"translate(14.798438 199.903812) rotate(-90) scale(0.1 -0.1)\">\n      <defs>\n       <path id=\"DejaVuSans-54\" d=\"M -19 4666 \nL 3928 4666 \nL 3928 4134 \nL 2272 4134 \nL 2272 0 \nL 1638 0 \nL 1638 4134 \nL -19 4134 \nL -19 4666 \nz\n\" transform=\"scale(0.015625)\"/>\n       <path id=\"DejaVuSans-72\" d=\"M 2631 2963 \nQ 2534 3019 2420 3045 \nQ 2306 3072 2169 3072 \nQ 1681 3072 1420 2755 \nQ 1159 2438 1159 1844 \nL 1159 0 \nL 581 0 \nL 581 3500 \nL 1159 3500 \nL 1159 2956 \nQ 1341 3275 1631 3429 \nQ 1922 3584 2338 3584 \nQ 2397 3584 2469 3576 \nQ 2541 3569 2628 3553 \nL 2631 2963 \nz\n\" transform=\"scale(0.015625)\"/>\n       <path id=\"DejaVuSans-75\" d=\"M 544 1381 \nL 544 3500 \nL 1119 3500 \nL 1119 1403 \nQ 1119 906 1312 657 \nQ 1506 409 1894 409 \nQ 2359 409 2629 706 \nQ 2900 1003 2900 1516 \nL 2900 3500 \nL 3475 3500 \nL 3475 0 \nL 2900 0 \nL 2900 538 \nQ 2691 219 2414 64 \nQ 2138 -91 1772 -91 \nQ 1169 -91 856 284 \nQ 544 659 544 1381 \nz\nM 1991 3584 \nL 1991 3584 \nz\n\" transform=\"scale(0.015625)\"/>\n      </defs>\n      <use xlink:href=\"#DejaVuSans-54\"/>\n      <use xlink:href=\"#DejaVuSans-72\" x=\"46.333984\"/>\n      <use xlink:href=\"#DejaVuSans-75\" x=\"87.447266\"/>\n      <use xlink:href=\"#DejaVuSans-65\" x=\"150.826172\"/>\n      <use xlink:href=\"#DejaVuSans-20\" x=\"212.349609\"/>\n      <use xlink:href=\"#DejaVuSans-50\" x=\"244.136719\"/>\n      <use xlink:href=\"#DejaVuSans-6f\" x=\"300.814453\"/>\n      <use xlink:href=\"#DejaVuSans-73\" x=\"361.996094\"/>\n      <use xlink:href=\"#DejaVuSans-69\" x=\"414.095703\"/>\n      <use xlink:href=\"#DejaVuSans-74\" x=\"441.878906\"/>\n      <use xlink:href=\"#DejaVuSans-69\" x=\"481.087891\"/>\n      <use xlink:href=\"#DejaVuSans-76\" x=\"508.871094\"/>\n      <use xlink:href=\"#DejaVuSans-65\" x=\"568.050781\"/>\n      <use xlink:href=\"#DejaVuSans-20\" x=\"629.574219\"/>\n      <use xlink:href=\"#DejaVuSans-52\" x=\"661.361328\"/>\n      <use xlink:href=\"#DejaVuSans-61\" x=\"728.59375\"/>\n      <use xlink:href=\"#DejaVuSans-74\" x=\"789.873047\"/>\n      <use xlink:href=\"#DejaVuSans-65\" x=\"829.082031\"/>\n     </g>\n    </g>\n   </g>\n   <g id=\"line2d_13\">\n    <path d=\"M 60.013977 276.334125 \nL 60.013977 267.537034 \nL 60.013977 263.138489 \nL 67.071685 254.341398 \nL 67.071685 241.145761 \nL 67.071685 238.946489 \nL 69.424254 230.149398 \nL 69.424254 227.950125 \nL 71.776823 227.950125 \nL 71.776823 225.750852 \nL 74.129392 221.352307 \nL 74.129392 208.15667 \nL 78.834531 205.957398 \nL 78.834531 199.35958 \nL 78.834531 190.562489 \nL 78.834531 175.16758 \nL 83.539669 168.569761 \nL 83.539669 166.370489 \nL 88.244807 166.370489 \nL 88.244807 161.971943 \nL 88.244807 153.174852 \nL 95.302515 150.97558 \nL 97.655084 148.776307 \nL 102.360222 144.377761 \nL 116.475637 128.982852 \nL 116.475637 124.584307 \nL 116.475637 111.38867 \nL 130.591052 109.189398 \nL 132.943622 106.990125 \nL 135.296191 102.59158 \nL 140.001329 95.993761 \nL 158.821882 93.794489 \nL 158.821882 91.595216 \nL 163.527021 82.798125 \nL 175.289867 82.798125 \nL 177.642436 80.598852 \nL 184.700143 76.200307 \nL 187.052712 74.001034 \nL 187.052712 71.801761 \nL 196.462989 69.602489 \nL 198.815558 69.602489 \nL 205.873266 69.602489 \nL 217.636112 65.203943 \nL 227.046388 63.00467 \nL 238.809234 60.805398 \nL 238.809234 58.606125 \nL 243.514373 58.606125 \nL 248.219511 56.406852 \nL 262.334926 56.406852 \nL 267.040064 56.406852 \nL 274.097772 54.20758 \nL 278.80291 52.008307 \nL 283.508048 52.008307 \nL 304.681171 52.008307 \nL 311.738878 52.008307 \nL 316.444017 52.008307 \nL 339.969708 49.809034 \nL 347.027416 49.809034 \nL 349.379985 49.809034 \nL 356.437693 47.609761 \nL 358.790262 47.609761 \nL 368.200539 45.410489 \nL 372.905677 43.211216 \nL 375.258246 43.211216 \nL 379.963384 38.81267 \nL 379.963384 36.613398 \nL 382.315954 36.613398 \nL 384.668523 34.414125 \n\" clip-path=\"url(#pfcb3319622)\" style=\"fill: none; stroke: #0000ff; stroke-width: 2; stroke-linecap: square\"/>\n   </g>\n   <g id=\"line2d_14\">\n    <path d=\"M 60.013977 276.334125 \nL 63.542831 276.334125 \nL 67.071685 269.795747 \nL 74.129392 269.795747 \nL 74.129392 259.988179 \nL 77.658246 259.988179 \nL 77.658246 243.642233 \nL 77.658246 240.373044 \nL 81.1871 214.21953 \nL 81.1871 207.681152 \nL 84.715954 207.681152 \nL 84.715954 201.142774 \nL 91.773661 194.604395 \nL 91.773661 191.335206 \nL 91.773661 181.527639 \nL 91.773661 165.181693 \nL 91.773661 155.374125 \nL 95.302515 155.374125 \nL 95.302515 145.566557 \nL 98.831369 139.028179 \nL 98.831369 135.75899 \nL 116.475637 119.413044 \nL 123.533345 119.413044 \nL 127.062199 109.605476 \nL 137.64876 106.336287 \nL 137.64876 99.797909 \nL 141.177614 96.52872 \nL 141.177614 93.25953 \nL 144.706467 93.25953 \nL 144.706467 89.990341 \nL 148.235321 86.721152 \nL 158.821882 86.721152 \nL 169.408444 73.644395 \nL 172.937297 70.375206 \nL 179.995005 70.375206 \nL 187.052712 67.106017 \nL 194.11042 57.298449 \nL 211.754689 57.298449 \nL 229.398958 57.298449 \nL 236.456665 57.298449 \nL 239.985519 57.298449 \nL 247.043226 57.298449 \nL 257.629788 57.298449 \nL 261.158641 57.298449 \nL 278.80291 50.760071 \nL 285.860618 50.760071 \nL 292.918325 50.760071 \nL 296.447179 47.490882 \nL 317.620301 47.490882 \nL 331.735716 47.490882 \nL 342.322278 47.490882 \nL 345.851131 47.490882 \nL 356.437693 47.490882 \nL 359.966546 44.221693 \nL 367.024254 44.221693 \nL 377.610815 40.952503 \nL 381.139669 40.952503 \nL 384.668523 34.414125 \n\" clip-path=\"url(#pfcb3319622)\" style=\"fill: none; stroke: #ff8c00; stroke-width: 2; stroke-linecap: square\"/>\n   </g>\n   <g id=\"line2d_15\">\n    <path d=\"M 60.013977 276.334125 \nL 384.668523 34.414125 \n\" clip-path=\"url(#pfcb3319622)\" style=\"fill: none; stroke-dasharray: 7.4,3.2; stroke-dashoffset: 0; stroke: #000080; stroke-width: 2\"/>\n   </g>\n   <g id=\"patch_3\">\n    <path d=\"M 43.78125 288.430125 \nL 43.78125 22.318125 \n\" style=\"fill: none; stroke: #000000; stroke-width: 0.8; stroke-linejoin: miter; stroke-linecap: square\"/>\n   </g>\n   <g id=\"patch_4\">\n    <path d=\"M 400.90125 288.430125 \nL 400.90125 22.318125 \n\" style=\"fill: none; stroke: #000000; stroke-width: 0.8; stroke-linejoin: miter; stroke-linecap: square\"/>\n   </g>\n   <g id=\"patch_5\">\n    <path d=\"M 43.78125 288.430125 \nL 400.90125 288.430125 \n\" style=\"fill: none; stroke: #000000; stroke-width: 0.8; stroke-linejoin: miter; stroke-linecap: square\"/>\n   </g>\n   <g id=\"patch_6\">\n    <path d=\"M 43.78125 22.318125 \nL 400.90125 22.318125 \n\" style=\"fill: none; stroke: #000000; stroke-width: 0.8; stroke-linejoin: miter; stroke-linecap: square\"/>\n   </g>\n   <g id=\"text_15\">\n    <!-- ROC Curve (LogisticRegression) -->\n    <g transform=\"translate(127.4175 16.318125) scale(0.12 -0.12)\">\n     <defs>\n      <path id=\"DejaVuSans-4f\" d=\"M 2522 4238 \nQ 1834 4238 1429 3725 \nQ 1025 3213 1025 2328 \nQ 1025 1447 1429 934 \nQ 1834 422 2522 422 \nQ 3209 422 3611 934 \nQ 4013 1447 4013 2328 \nQ 4013 3213 3611 3725 \nQ 3209 4238 2522 4238 \nz\nM 2522 4750 \nQ 3503 4750 4090 4092 \nQ 4678 3434 4678 2328 \nQ 4678 1225 4090 567 \nQ 3503 -91 2522 -91 \nQ 1538 -91 948 565 \nQ 359 1222 359 2328 \nQ 359 3434 948 4092 \nQ 1538 4750 2522 4750 \nz\n\" transform=\"scale(0.015625)\"/>\n      <path id=\"DejaVuSans-43\" d=\"M 4122 4306 \nL 4122 3641 \nQ 3803 3938 3442 4084 \nQ 3081 4231 2675 4231 \nQ 1875 4231 1450 3742 \nQ 1025 3253 1025 2328 \nQ 1025 1406 1450 917 \nQ 1875 428 2675 428 \nQ 3081 428 3442 575 \nQ 3803 722 4122 1019 \nL 4122 359 \nQ 3791 134 3420 21 \nQ 3050 -91 2638 -91 \nQ 1578 -91 968 557 \nQ 359 1206 359 2328 \nQ 359 3453 968 4101 \nQ 1578 4750 2638 4750 \nQ 3056 4750 3426 4639 \nQ 3797 4528 4122 4306 \nz\n\" transform=\"scale(0.015625)\"/>\n      <path id=\"DejaVuSans-28\" d=\"M 1984 4856 \nQ 1566 4138 1362 3434 \nQ 1159 2731 1159 2009 \nQ 1159 1288 1364 580 \nQ 1569 -128 1984 -844 \nL 1484 -844 \nQ 1016 -109 783 600 \nQ 550 1309 550 2009 \nQ 550 2706 781 3412 \nQ 1013 4119 1484 4856 \nL 1984 4856 \nz\n\" transform=\"scale(0.015625)\"/>\n      <path id=\"DejaVuSans-4c\" d=\"M 628 4666 \nL 1259 4666 \nL 1259 531 \nL 3531 531 \nL 3531 0 \nL 628 0 \nL 628 4666 \nz\n\" transform=\"scale(0.015625)\"/>\n      <path id=\"DejaVuSans-67\" d=\"M 2906 1791 \nQ 2906 2416 2648 2759 \nQ 2391 3103 1925 3103 \nQ 1463 3103 1205 2759 \nQ 947 2416 947 1791 \nQ 947 1169 1205 825 \nQ 1463 481 1925 481 \nQ 2391 481 2648 825 \nQ 2906 1169 2906 1791 \nz\nM 3481 434 \nQ 3481 -459 3084 -895 \nQ 2688 -1331 1869 -1331 \nQ 1566 -1331 1297 -1286 \nQ 1028 -1241 775 -1147 \nL 775 -588 \nQ 1028 -725 1275 -790 \nQ 1522 -856 1778 -856 \nQ 2344 -856 2625 -561 \nQ 2906 -266 2906 331 \nL 2906 616 \nQ 2728 306 2450 153 \nQ 2172 0 1784 0 \nQ 1141 0 747 490 \nQ 353 981 353 1791 \nQ 353 2603 747 3093 \nQ 1141 3584 1784 3584 \nQ 2172 3584 2450 3431 \nQ 2728 3278 2906 2969 \nL 2906 3500 \nL 3481 3500 \nL 3481 434 \nz\n\" transform=\"scale(0.015625)\"/>\n      <path id=\"DejaVuSans-63\" d=\"M 3122 3366 \nL 3122 2828 \nQ 2878 2963 2633 3030 \nQ 2388 3097 2138 3097 \nQ 1578 3097 1268 2742 \nQ 959 2388 959 1747 \nQ 959 1106 1268 751 \nQ 1578 397 2138 397 \nQ 2388 397 2633 464 \nQ 2878 531 3122 666 \nL 3122 134 \nQ 2881 22 2623 -34 \nQ 2366 -91 2075 -91 \nQ 1284 -91 818 406 \nQ 353 903 353 1747 \nQ 353 2603 823 3093 \nQ 1294 3584 2113 3584 \nQ 2378 3584 2631 3529 \nQ 2884 3475 3122 3366 \nz\n\" transform=\"scale(0.015625)\"/>\n      <path id=\"DejaVuSans-6e\" d=\"M 3513 2113 \nL 3513 0 \nL 2938 0 \nL 2938 2094 \nQ 2938 2591 2744 2837 \nQ 2550 3084 2163 3084 \nQ 1697 3084 1428 2787 \nQ 1159 2491 1159 1978 \nL 1159 0 \nL 581 0 \nL 581 3500 \nL 1159 3500 \nL 1159 2956 \nQ 1366 3272 1645 3428 \nQ 1925 3584 2291 3584 \nQ 2894 3584 3203 3211 \nQ 3513 2838 3513 2113 \nz\n\" transform=\"scale(0.015625)\"/>\n      <path id=\"DejaVuSans-29\" d=\"M 513 4856 \nL 1013 4856 \nQ 1481 4119 1714 3412 \nQ 1947 2706 1947 2009 \nQ 1947 1309 1714 600 \nQ 1481 -109 1013 -844 \nL 513 -844 \nQ 928 -128 1133 580 \nQ 1338 1288 1338 2009 \nQ 1338 2731 1133 3434 \nQ 928 4138 513 4856 \nz\n\" transform=\"scale(0.015625)\"/>\n     </defs>\n     <use xlink:href=\"#DejaVuSans-52\"/>\n     <use xlink:href=\"#DejaVuSans-4f\" x=\"69.482422\"/>\n     <use xlink:href=\"#DejaVuSans-43\" x=\"148.193359\"/>\n     <use xlink:href=\"#DejaVuSans-20\" x=\"218.017578\"/>\n     <use xlink:href=\"#DejaVuSans-43\" x=\"249.804688\"/>\n     <use xlink:href=\"#DejaVuSans-75\" x=\"319.628906\"/>\n     <use xlink:href=\"#DejaVuSans-72\" x=\"383.007812\"/>\n     <use xlink:href=\"#DejaVuSans-76\" x=\"424.121094\"/>\n     <use xlink:href=\"#DejaVuSans-65\" x=\"483.300781\"/>\n     <use xlink:href=\"#DejaVuSans-20\" x=\"544.824219\"/>\n     <use xlink:href=\"#DejaVuSans-28\" x=\"576.611328\"/>\n     <use xlink:href=\"#DejaVuSans-4c\" x=\"615.625\"/>\n     <use xlink:href=\"#DejaVuSans-6f\" x=\"669.587891\"/>\n     <use xlink:href=\"#DejaVuSans-67\" x=\"730.769531\"/>\n     <use xlink:href=\"#DejaVuSans-69\" x=\"794.246094\"/>\n     <use xlink:href=\"#DejaVuSans-73\" x=\"822.029297\"/>\n     <use xlink:href=\"#DejaVuSans-74\" x=\"874.128906\"/>\n     <use xlink:href=\"#DejaVuSans-69\" x=\"913.337891\"/>\n     <use xlink:href=\"#DejaVuSans-63\" x=\"941.121094\"/>\n     <use xlink:href=\"#DejaVuSans-52\" x=\"996.101562\"/>\n     <use xlink:href=\"#DejaVuSans-65\" x=\"1061.083984\"/>\n     <use xlink:href=\"#DejaVuSans-67\" x=\"1122.607422\"/>\n     <use xlink:href=\"#DejaVuSans-72\" x=\"1186.083984\"/>\n     <use xlink:href=\"#DejaVuSans-65\" x=\"1224.947266\"/>\n     <use xlink:href=\"#DejaVuSans-73\" x=\"1286.470703\"/>\n     <use xlink:href=\"#DejaVuSans-73\" x=\"1338.570312\"/>\n     <use xlink:href=\"#DejaVuSans-69\" x=\"1390.669922\"/>\n     <use xlink:href=\"#DejaVuSans-6f\" x=\"1418.453125\"/>\n     <use xlink:href=\"#DejaVuSans-6e\" x=\"1479.634766\"/>\n     <use xlink:href=\"#DejaVuSans-29\" x=\"1543.013672\"/>\n    </g>\n   </g>\n   <g id=\"legend_1\">\n    <g id=\"patch_7\">\n     <path d=\"M 50.78125 59.674375 \nL 164.43125 59.674375 \nQ 166.43125 59.674375 166.43125 57.674375 \nL 166.43125 29.318125 \nQ 166.43125 27.318125 164.43125 27.318125 \nL 50.78125 27.318125 \nQ 48.78125 27.318125 48.78125 29.318125 \nL 48.78125 57.674375 \nQ 48.78125 59.674375 50.78125 59.674375 \nz\n\" style=\"fill: #ffffff; opacity: 0.8; stroke: #cccccc; stroke-linejoin: miter\"/>\n    </g>\n    <g id=\"line2d_16\">\n     <path d=\"M 52.78125 35.416562 \nL 62.78125 35.416562 \nL 72.78125 35.416562 \n\" style=\"fill: none; stroke: #0000ff; stroke-width: 2; stroke-linecap: square\"/>\n    </g>\n    <g id=\"text_16\">\n     <!-- ROC Curve Train -->\n     <g transform=\"translate(80.78125 38.916562) scale(0.1 -0.1)\">\n      <use xlink:href=\"#DejaVuSans-52\"/>\n      <use xlink:href=\"#DejaVuSans-4f\" x=\"69.482422\"/>\n      <use xlink:href=\"#DejaVuSans-43\" x=\"148.193359\"/>\n      <use xlink:href=\"#DejaVuSans-20\" x=\"218.017578\"/>\n      <use xlink:href=\"#DejaVuSans-43\" x=\"249.804688\"/>\n      <use xlink:href=\"#DejaVuSans-75\" x=\"319.628906\"/>\n      <use xlink:href=\"#DejaVuSans-72\" x=\"383.007812\"/>\n      <use xlink:href=\"#DejaVuSans-76\" x=\"424.121094\"/>\n      <use xlink:href=\"#DejaVuSans-65\" x=\"483.300781\"/>\n      <use xlink:href=\"#DejaVuSans-20\" x=\"544.824219\"/>\n      <use xlink:href=\"#DejaVuSans-54\" x=\"576.611328\"/>\n      <use xlink:href=\"#DejaVuSans-72\" x=\"622.945312\"/>\n      <use xlink:href=\"#DejaVuSans-61\" x=\"664.058594\"/>\n      <use xlink:href=\"#DejaVuSans-69\" x=\"725.337891\"/>\n      <use xlink:href=\"#DejaVuSans-6e\" x=\"753.121094\"/>\n     </g>\n    </g>\n    <g id=\"line2d_17\">\n     <path d=\"M 52.78125 50.094687 \nL 62.78125 50.094687 \nL 72.78125 50.094687 \n\" style=\"fill: none; stroke: #ff8c00; stroke-width: 2; stroke-linecap: square\"/>\n    </g>\n    <g id=\"text_17\">\n     <!-- ROC Curve Test -->\n     <g transform=\"translate(80.78125 53.594687) scale(0.1 -0.1)\">\n      <use xlink:href=\"#DejaVuSans-52\"/>\n      <use xlink:href=\"#DejaVuSans-4f\" x=\"69.482422\"/>\n      <use xlink:href=\"#DejaVuSans-43\" x=\"148.193359\"/>\n      <use xlink:href=\"#DejaVuSans-20\" x=\"218.017578\"/>\n      <use xlink:href=\"#DejaVuSans-43\" x=\"249.804688\"/>\n      <use xlink:href=\"#DejaVuSans-75\" x=\"319.628906\"/>\n      <use xlink:href=\"#DejaVuSans-72\" x=\"383.007812\"/>\n      <use xlink:href=\"#DejaVuSans-76\" x=\"424.121094\"/>\n      <use xlink:href=\"#DejaVuSans-65\" x=\"483.300781\"/>\n      <use xlink:href=\"#DejaVuSans-20\" x=\"544.824219\"/>\n      <use xlink:href=\"#DejaVuSans-54\" x=\"576.611328\"/>\n      <use xlink:href=\"#DejaVuSans-65\" x=\"620.695312\"/>\n      <use xlink:href=\"#DejaVuSans-73\" x=\"682.21875\"/>\n      <use xlink:href=\"#DejaVuSans-74\" x=\"734.318359\"/>\n     </g>\n    </g>\n   </g>\n  </g>\n </g>\n <defs>\n  <clipPath id=\"pfcb3319622\">\n   <rect x=\"43.78125\" y=\"22.318125\" width=\"357.12\" height=\"266.112\"/>\n  </clipPath>\n </defs>\n</svg>\n"
          },
          "metadata": {}
        },
        {
          "output_type": "stream",
          "name": "stdout",
          "text": [
            "Optimal Threshold: 0.30\n",
            "Optimal Training Precision: 0.56\n",
            "Optimal Training Recall: 0.90\n",
            "Optimal Test Precision: 0.63\n",
            "Optimal Test Recall: 0.91\n"
          ]
        }
      ],
      "source": [
        "metrics_logreg  = calculate_metrics_and_plot_roc(logreg_model, X_train, y_train, X_test, y_test)"
      ]
    },
    {
      "cell_type": "code",
      "execution_count": 38,
      "metadata": {
        "id": "JE_2Odqqbukl",
        "colab": {
          "base_uri": "https://localhost:8080/"
        },
        "outputId": "16f28d7a-25c4-4f64-b431-950cea0ebce7"
      },
      "outputs": [
        {
          "output_type": "stream",
          "name": "stdout",
          "text": [
            "Лучшее значение параметра: {'C': 1}\n"
          ]
        }
      ],
      "source": [
        "from sklearn.svm import SVC\n",
        "# Определяем сетку параметров для C, которые мы хотим проверить\n",
        "param_grid = {'C': [0.01, 0.1, 1, 10, 100],\n",
        "              }\n",
        "\n",
        "# Создаем модель логистической регрессии\n",
        "svm_model = SVC(kernel='linear', C=0.0)\n",
        "\n",
        "# Создаем объект GridSearchCV с моделью логистической регрессии и сеткой параметров\n",
        "grid_search = GridSearchCV(svm_model, param_grid, cv=5)  # cv указывает количество блоков для кросс-валидации\n",
        "\n",
        "# Обучаем модель на данных с использованием кросс-валидации\n",
        "grid_search.fit(X_train, y_train)\n",
        "\n",
        "# Получаем лучшее значение параметра C, найденное в процессе кросс-валидации\n",
        "# best_params = grid_search.best_params_[param_grid]\n",
        "print('Лучшее значение параметра:', grid_search.best_params_)\n",
        "\n",
        "\n",
        "# Создаем модель логистической регрессии с лучшим значением C\n",
        "best_svm_model = SVC(kernel='linear',probability=True, **grid_search.best_params_)"
      ]
    },
    {
      "cell_type": "code",
      "execution_count": 39,
      "metadata": {
        "id": "U0mMIjt1hLSQ",
        "colab": {
          "base_uri": "https://localhost:8080/",
          "height": 581
        },
        "outputId": "b8640aa3-48cf-40fc-f5b1-19067bb3582f"
      },
      "outputs": [
        {
          "output_type": "stream",
          "name": "stdout",
          "text": [
            "ROC-AUC Train: 0.80\n",
            "ROC-AUC Test: 0.79\n"
          ]
        },
        {
          "output_type": "display_data",
          "data": {
            "text/plain": [
              "<Figure size 640x480 with 1 Axes>"
            ],
            "image/svg+xml": "<?xml version=\"1.0\" encoding=\"utf-8\" standalone=\"no\"?>\n<!DOCTYPE svg PUBLIC \"-//W3C//DTD SVG 1.1//EN\"\n  \"http://www.w3.org/Graphics/SVG/1.1/DTD/svg11.dtd\">\n<svg xmlns:xlink=\"http://www.w3.org/1999/xlink\" width=\"408.10125pt\" height=\"325.986375pt\" viewBox=\"0 0 408.10125 325.986375\" xmlns=\"http://www.w3.org/2000/svg\" version=\"1.1\">\n <metadata>\n  <rdf:RDF xmlns:dc=\"http://purl.org/dc/elements/1.1/\" xmlns:cc=\"http://creativecommons.org/ns#\" xmlns:rdf=\"http://www.w3.org/1999/02/22-rdf-syntax-ns#\">\n   <cc:Work>\n    <dc:type rdf:resource=\"http://purl.org/dc/dcmitype/StillImage\"/>\n    <dc:date>2024-07-05T15:52:13.385213</dc:date>\n    <dc:format>image/svg+xml</dc:format>\n    <dc:creator>\n     <cc:Agent>\n      <dc:title>Matplotlib v3.7.1, https://matplotlib.org/</dc:title>\n     </cc:Agent>\n    </dc:creator>\n   </cc:Work>\n  </rdf:RDF>\n </metadata>\n <defs>\n  <style type=\"text/css\">*{stroke-linejoin: round; stroke-linecap: butt}</style>\n </defs>\n <g id=\"figure_1\">\n  <g id=\"patch_1\">\n   <path d=\"M 0 325.986375 \nL 408.10125 325.986375 \nL 408.10125 0 \nL 0 0 \nz\n\" style=\"fill: #ffffff\"/>\n  </g>\n  <g id=\"axes_1\">\n   <g id=\"patch_2\">\n    <path d=\"M 43.78125 288.430125 \nL 400.90125 288.430125 \nL 400.90125 22.318125 \nL 43.78125 22.318125 \nz\n\" style=\"fill: #ffffff\"/>\n   </g>\n   <g id=\"matplotlib.axis_1\">\n    <g id=\"xtick_1\">\n     <g id=\"line2d_1\">\n      <defs>\n       <path id=\"m31a3d19e71\" d=\"M 0 0 \nL 0 3.5 \n\" style=\"stroke: #000000; stroke-width: 0.8\"/>\n      </defs>\n      <g>\n       <use xlink:href=\"#m31a3d19e71\" x=\"60.013977\" y=\"288.430125\" style=\"stroke: #000000; stroke-width: 0.8\"/>\n      </g>\n     </g>\n     <g id=\"text_1\">\n      <!-- 0.0 -->\n      <g transform=\"translate(52.062415 303.028562) scale(0.1 -0.1)\">\n       <defs>\n        <path id=\"DejaVuSans-30\" d=\"M 2034 4250 \nQ 1547 4250 1301 3770 \nQ 1056 3291 1056 2328 \nQ 1056 1369 1301 889 \nQ 1547 409 2034 409 \nQ 2525 409 2770 889 \nQ 3016 1369 3016 2328 \nQ 3016 3291 2770 3770 \nQ 2525 4250 2034 4250 \nz\nM 2034 4750 \nQ 2819 4750 3233 4129 \nQ 3647 3509 3647 2328 \nQ 3647 1150 3233 529 \nQ 2819 -91 2034 -91 \nQ 1250 -91 836 529 \nQ 422 1150 422 2328 \nQ 422 3509 836 4129 \nQ 1250 4750 2034 4750 \nz\n\" transform=\"scale(0.015625)\"/>\n        <path id=\"DejaVuSans-2e\" d=\"M 684 794 \nL 1344 794 \nL 1344 0 \nL 684 0 \nL 684 794 \nz\n\" transform=\"scale(0.015625)\"/>\n       </defs>\n       <use xlink:href=\"#DejaVuSans-30\"/>\n       <use xlink:href=\"#DejaVuSans-2e\" x=\"63.623047\"/>\n       <use xlink:href=\"#DejaVuSans-30\" x=\"95.410156\"/>\n      </g>\n     </g>\n    </g>\n    <g id=\"xtick_2\">\n     <g id=\"line2d_2\">\n      <g>\n       <use xlink:href=\"#m31a3d19e71\" x=\"124.944886\" y=\"288.430125\" style=\"stroke: #000000; stroke-width: 0.8\"/>\n      </g>\n     </g>\n     <g id=\"text_2\">\n      <!-- 0.2 -->\n      <g transform=\"translate(116.993324 303.028562) scale(0.1 -0.1)\">\n       <defs>\n        <path id=\"DejaVuSans-32\" d=\"M 1228 531 \nL 3431 531 \nL 3431 0 \nL 469 0 \nL 469 531 \nQ 828 903 1448 1529 \nQ 2069 2156 2228 2338 \nQ 2531 2678 2651 2914 \nQ 2772 3150 2772 3378 \nQ 2772 3750 2511 3984 \nQ 2250 4219 1831 4219 \nQ 1534 4219 1204 4116 \nQ 875 4013 500 3803 \nL 500 4441 \nQ 881 4594 1212 4672 \nQ 1544 4750 1819 4750 \nQ 2544 4750 2975 4387 \nQ 3406 4025 3406 3419 \nQ 3406 3131 3298 2873 \nQ 3191 2616 2906 2266 \nQ 2828 2175 2409 1742 \nQ 1991 1309 1228 531 \nz\n\" transform=\"scale(0.015625)\"/>\n       </defs>\n       <use xlink:href=\"#DejaVuSans-30\"/>\n       <use xlink:href=\"#DejaVuSans-2e\" x=\"63.623047\"/>\n       <use xlink:href=\"#DejaVuSans-32\" x=\"95.410156\"/>\n      </g>\n     </g>\n    </g>\n    <g id=\"xtick_3\">\n     <g id=\"line2d_3\">\n      <g>\n       <use xlink:href=\"#m31a3d19e71\" x=\"189.875795\" y=\"288.430125\" style=\"stroke: #000000; stroke-width: 0.8\"/>\n      </g>\n     </g>\n     <g id=\"text_3\">\n      <!-- 0.4 -->\n      <g transform=\"translate(181.924233 303.028562) scale(0.1 -0.1)\">\n       <defs>\n        <path id=\"DejaVuSans-34\" d=\"M 2419 4116 \nL 825 1625 \nL 2419 1625 \nL 2419 4116 \nz\nM 2253 4666 \nL 3047 4666 \nL 3047 1625 \nL 3713 1625 \nL 3713 1100 \nL 3047 1100 \nL 3047 0 \nL 2419 0 \nL 2419 1100 \nL 313 1100 \nL 313 1709 \nL 2253 4666 \nz\n\" transform=\"scale(0.015625)\"/>\n       </defs>\n       <use xlink:href=\"#DejaVuSans-30\"/>\n       <use xlink:href=\"#DejaVuSans-2e\" x=\"63.623047\"/>\n       <use xlink:href=\"#DejaVuSans-34\" x=\"95.410156\"/>\n      </g>\n     </g>\n    </g>\n    <g id=\"xtick_4\">\n     <g id=\"line2d_4\">\n      <g>\n       <use xlink:href=\"#m31a3d19e71\" x=\"254.806705\" y=\"288.430125\" style=\"stroke: #000000; stroke-width: 0.8\"/>\n      </g>\n     </g>\n     <g id=\"text_4\">\n      <!-- 0.6 -->\n      <g transform=\"translate(246.855142 303.028562) scale(0.1 -0.1)\">\n       <defs>\n        <path id=\"DejaVuSans-36\" d=\"M 2113 2584 \nQ 1688 2584 1439 2293 \nQ 1191 2003 1191 1497 \nQ 1191 994 1439 701 \nQ 1688 409 2113 409 \nQ 2538 409 2786 701 \nQ 3034 994 3034 1497 \nQ 3034 2003 2786 2293 \nQ 2538 2584 2113 2584 \nz\nM 3366 4563 \nL 3366 3988 \nQ 3128 4100 2886 4159 \nQ 2644 4219 2406 4219 \nQ 1781 4219 1451 3797 \nQ 1122 3375 1075 2522 \nQ 1259 2794 1537 2939 \nQ 1816 3084 2150 3084 \nQ 2853 3084 3261 2657 \nQ 3669 2231 3669 1497 \nQ 3669 778 3244 343 \nQ 2819 -91 2113 -91 \nQ 1303 -91 875 529 \nQ 447 1150 447 2328 \nQ 447 3434 972 4092 \nQ 1497 4750 2381 4750 \nQ 2619 4750 2861 4703 \nQ 3103 4656 3366 4563 \nz\n\" transform=\"scale(0.015625)\"/>\n       </defs>\n       <use xlink:href=\"#DejaVuSans-30\"/>\n       <use xlink:href=\"#DejaVuSans-2e\" x=\"63.623047\"/>\n       <use xlink:href=\"#DejaVuSans-36\" x=\"95.410156\"/>\n      </g>\n     </g>\n    </g>\n    <g id=\"xtick_5\">\n     <g id=\"line2d_5\">\n      <g>\n       <use xlink:href=\"#m31a3d19e71\" x=\"319.737614\" y=\"288.430125\" style=\"stroke: #000000; stroke-width: 0.8\"/>\n      </g>\n     </g>\n     <g id=\"text_5\">\n      <!-- 0.8 -->\n      <g transform=\"translate(311.786051 303.028562) scale(0.1 -0.1)\">\n       <defs>\n        <path id=\"DejaVuSans-38\" d=\"M 2034 2216 \nQ 1584 2216 1326 1975 \nQ 1069 1734 1069 1313 \nQ 1069 891 1326 650 \nQ 1584 409 2034 409 \nQ 2484 409 2743 651 \nQ 3003 894 3003 1313 \nQ 3003 1734 2745 1975 \nQ 2488 2216 2034 2216 \nz\nM 1403 2484 \nQ 997 2584 770 2862 \nQ 544 3141 544 3541 \nQ 544 4100 942 4425 \nQ 1341 4750 2034 4750 \nQ 2731 4750 3128 4425 \nQ 3525 4100 3525 3541 \nQ 3525 3141 3298 2862 \nQ 3072 2584 2669 2484 \nQ 3125 2378 3379 2068 \nQ 3634 1759 3634 1313 \nQ 3634 634 3220 271 \nQ 2806 -91 2034 -91 \nQ 1263 -91 848 271 \nQ 434 634 434 1313 \nQ 434 1759 690 2068 \nQ 947 2378 1403 2484 \nz\nM 1172 3481 \nQ 1172 3119 1398 2916 \nQ 1625 2713 2034 2713 \nQ 2441 2713 2670 2916 \nQ 2900 3119 2900 3481 \nQ 2900 3844 2670 4047 \nQ 2441 4250 2034 4250 \nQ 1625 4250 1398 4047 \nQ 1172 3844 1172 3481 \nz\n\" transform=\"scale(0.015625)\"/>\n       </defs>\n       <use xlink:href=\"#DejaVuSans-30\"/>\n       <use xlink:href=\"#DejaVuSans-2e\" x=\"63.623047\"/>\n       <use xlink:href=\"#DejaVuSans-38\" x=\"95.410156\"/>\n      </g>\n     </g>\n    </g>\n    <g id=\"xtick_6\">\n     <g id=\"line2d_6\">\n      <g>\n       <use xlink:href=\"#m31a3d19e71\" x=\"384.668523\" y=\"288.430125\" style=\"stroke: #000000; stroke-width: 0.8\"/>\n      </g>\n     </g>\n     <g id=\"text_6\">\n      <!-- 1.0 -->\n      <g transform=\"translate(376.71696 303.028562) scale(0.1 -0.1)\">\n       <defs>\n        <path id=\"DejaVuSans-31\" d=\"M 794 531 \nL 1825 531 \nL 1825 4091 \nL 703 3866 \nL 703 4441 \nL 1819 4666 \nL 2450 4666 \nL 2450 531 \nL 3481 531 \nL 3481 0 \nL 794 0 \nL 794 531 \nz\n\" transform=\"scale(0.015625)\"/>\n       </defs>\n       <use xlink:href=\"#DejaVuSans-31\"/>\n       <use xlink:href=\"#DejaVuSans-2e\" x=\"63.623047\"/>\n       <use xlink:href=\"#DejaVuSans-30\" x=\"95.410156\"/>\n      </g>\n     </g>\n    </g>\n    <g id=\"text_7\">\n     <!-- False Positive Rate -->\n     <g transform=\"translate(175.874844 316.706687) scale(0.1 -0.1)\">\n      <defs>\n       <path id=\"DejaVuSans-46\" d=\"M 628 4666 \nL 3309 4666 \nL 3309 4134 \nL 1259 4134 \nL 1259 2759 \nL 3109 2759 \nL 3109 2228 \nL 1259 2228 \nL 1259 0 \nL 628 0 \nL 628 4666 \nz\n\" transform=\"scale(0.015625)\"/>\n       <path id=\"DejaVuSans-61\" d=\"M 2194 1759 \nQ 1497 1759 1228 1600 \nQ 959 1441 959 1056 \nQ 959 750 1161 570 \nQ 1363 391 1709 391 \nQ 2188 391 2477 730 \nQ 2766 1069 2766 1631 \nL 2766 1759 \nL 2194 1759 \nz\nM 3341 1997 \nL 3341 0 \nL 2766 0 \nL 2766 531 \nQ 2569 213 2275 61 \nQ 1981 -91 1556 -91 \nQ 1019 -91 701 211 \nQ 384 513 384 1019 \nQ 384 1609 779 1909 \nQ 1175 2209 1959 2209 \nL 2766 2209 \nL 2766 2266 \nQ 2766 2663 2505 2880 \nQ 2244 3097 1772 3097 \nQ 1472 3097 1187 3025 \nQ 903 2953 641 2809 \nL 641 3341 \nQ 956 3463 1253 3523 \nQ 1550 3584 1831 3584 \nQ 2591 3584 2966 3190 \nQ 3341 2797 3341 1997 \nz\n\" transform=\"scale(0.015625)\"/>\n       <path id=\"DejaVuSans-6c\" d=\"M 603 4863 \nL 1178 4863 \nL 1178 0 \nL 603 0 \nL 603 4863 \nz\n\" transform=\"scale(0.015625)\"/>\n       <path id=\"DejaVuSans-73\" d=\"M 2834 3397 \nL 2834 2853 \nQ 2591 2978 2328 3040 \nQ 2066 3103 1784 3103 \nQ 1356 3103 1142 2972 \nQ 928 2841 928 2578 \nQ 928 2378 1081 2264 \nQ 1234 2150 1697 2047 \nL 1894 2003 \nQ 2506 1872 2764 1633 \nQ 3022 1394 3022 966 \nQ 3022 478 2636 193 \nQ 2250 -91 1575 -91 \nQ 1294 -91 989 -36 \nQ 684 19 347 128 \nL 347 722 \nQ 666 556 975 473 \nQ 1284 391 1588 391 \nQ 1994 391 2212 530 \nQ 2431 669 2431 922 \nQ 2431 1156 2273 1281 \nQ 2116 1406 1581 1522 \nL 1381 1569 \nQ 847 1681 609 1914 \nQ 372 2147 372 2553 \nQ 372 3047 722 3315 \nQ 1072 3584 1716 3584 \nQ 2034 3584 2315 3537 \nQ 2597 3491 2834 3397 \nz\n\" transform=\"scale(0.015625)\"/>\n       <path id=\"DejaVuSans-65\" d=\"M 3597 1894 \nL 3597 1613 \nL 953 1613 \nQ 991 1019 1311 708 \nQ 1631 397 2203 397 \nQ 2534 397 2845 478 \nQ 3156 559 3463 722 \nL 3463 178 \nQ 3153 47 2828 -22 \nQ 2503 -91 2169 -91 \nQ 1331 -91 842 396 \nQ 353 884 353 1716 \nQ 353 2575 817 3079 \nQ 1281 3584 2069 3584 \nQ 2775 3584 3186 3129 \nQ 3597 2675 3597 1894 \nz\nM 3022 2063 \nQ 3016 2534 2758 2815 \nQ 2500 3097 2075 3097 \nQ 1594 3097 1305 2825 \nQ 1016 2553 972 2059 \nL 3022 2063 \nz\n\" transform=\"scale(0.015625)\"/>\n       <path id=\"DejaVuSans-20\" transform=\"scale(0.015625)\"/>\n       <path id=\"DejaVuSans-50\" d=\"M 1259 4147 \nL 1259 2394 \nL 2053 2394 \nQ 2494 2394 2734 2622 \nQ 2975 2850 2975 3272 \nQ 2975 3691 2734 3919 \nQ 2494 4147 2053 4147 \nL 1259 4147 \nz\nM 628 4666 \nL 2053 4666 \nQ 2838 4666 3239 4311 \nQ 3641 3956 3641 3272 \nQ 3641 2581 3239 2228 \nQ 2838 1875 2053 1875 \nL 1259 1875 \nL 1259 0 \nL 628 0 \nL 628 4666 \nz\n\" transform=\"scale(0.015625)\"/>\n       <path id=\"DejaVuSans-6f\" d=\"M 1959 3097 \nQ 1497 3097 1228 2736 \nQ 959 2375 959 1747 \nQ 959 1119 1226 758 \nQ 1494 397 1959 397 \nQ 2419 397 2687 759 \nQ 2956 1122 2956 1747 \nQ 2956 2369 2687 2733 \nQ 2419 3097 1959 3097 \nz\nM 1959 3584 \nQ 2709 3584 3137 3096 \nQ 3566 2609 3566 1747 \nQ 3566 888 3137 398 \nQ 2709 -91 1959 -91 \nQ 1206 -91 779 398 \nQ 353 888 353 1747 \nQ 353 2609 779 3096 \nQ 1206 3584 1959 3584 \nz\n\" transform=\"scale(0.015625)\"/>\n       <path id=\"DejaVuSans-69\" d=\"M 603 3500 \nL 1178 3500 \nL 1178 0 \nL 603 0 \nL 603 3500 \nz\nM 603 4863 \nL 1178 4863 \nL 1178 4134 \nL 603 4134 \nL 603 4863 \nz\n\" transform=\"scale(0.015625)\"/>\n       <path id=\"DejaVuSans-74\" d=\"M 1172 4494 \nL 1172 3500 \nL 2356 3500 \nL 2356 3053 \nL 1172 3053 \nL 1172 1153 \nQ 1172 725 1289 603 \nQ 1406 481 1766 481 \nL 2356 481 \nL 2356 0 \nL 1766 0 \nQ 1100 0 847 248 \nQ 594 497 594 1153 \nL 594 3053 \nL 172 3053 \nL 172 3500 \nL 594 3500 \nL 594 4494 \nL 1172 4494 \nz\n\" transform=\"scale(0.015625)\"/>\n       <path id=\"DejaVuSans-76\" d=\"M 191 3500 \nL 800 3500 \nL 1894 563 \nL 2988 3500 \nL 3597 3500 \nL 2284 0 \nL 1503 0 \nL 191 3500 \nz\n\" transform=\"scale(0.015625)\"/>\n       <path id=\"DejaVuSans-52\" d=\"M 2841 2188 \nQ 3044 2119 3236 1894 \nQ 3428 1669 3622 1275 \nL 4263 0 \nL 3584 0 \nL 2988 1197 \nQ 2756 1666 2539 1819 \nQ 2322 1972 1947 1972 \nL 1259 1972 \nL 1259 0 \nL 628 0 \nL 628 4666 \nL 2053 4666 \nQ 2853 4666 3247 4331 \nQ 3641 3997 3641 3322 \nQ 3641 2881 3436 2590 \nQ 3231 2300 2841 2188 \nz\nM 1259 4147 \nL 1259 2491 \nL 2053 2491 \nQ 2509 2491 2742 2702 \nQ 2975 2913 2975 3322 \nQ 2975 3731 2742 3939 \nQ 2509 4147 2053 4147 \nL 1259 4147 \nz\n\" transform=\"scale(0.015625)\"/>\n      </defs>\n      <use xlink:href=\"#DejaVuSans-46\"/>\n      <use xlink:href=\"#DejaVuSans-61\" x=\"48.394531\"/>\n      <use xlink:href=\"#DejaVuSans-6c\" x=\"109.673828\"/>\n      <use xlink:href=\"#DejaVuSans-73\" x=\"137.457031\"/>\n      <use xlink:href=\"#DejaVuSans-65\" x=\"189.556641\"/>\n      <use xlink:href=\"#DejaVuSans-20\" x=\"251.080078\"/>\n      <use xlink:href=\"#DejaVuSans-50\" x=\"282.867188\"/>\n      <use xlink:href=\"#DejaVuSans-6f\" x=\"339.544922\"/>\n      <use xlink:href=\"#DejaVuSans-73\" x=\"400.726562\"/>\n      <use xlink:href=\"#DejaVuSans-69\" x=\"452.826172\"/>\n      <use xlink:href=\"#DejaVuSans-74\" x=\"480.609375\"/>\n      <use xlink:href=\"#DejaVuSans-69\" x=\"519.818359\"/>\n      <use xlink:href=\"#DejaVuSans-76\" x=\"547.601562\"/>\n      <use xlink:href=\"#DejaVuSans-65\" x=\"606.78125\"/>\n      <use xlink:href=\"#DejaVuSans-20\" x=\"668.304688\"/>\n      <use xlink:href=\"#DejaVuSans-52\" x=\"700.091797\"/>\n      <use xlink:href=\"#DejaVuSans-61\" x=\"767.324219\"/>\n      <use xlink:href=\"#DejaVuSans-74\" x=\"828.603516\"/>\n      <use xlink:href=\"#DejaVuSans-65\" x=\"867.8125\"/>\n     </g>\n    </g>\n   </g>\n   <g id=\"matplotlib.axis_2\">\n    <g id=\"ytick_1\">\n     <g id=\"line2d_7\">\n      <defs>\n       <path id=\"mb5114b497c\" d=\"M 0 0 \nL -3.5 0 \n\" style=\"stroke: #000000; stroke-width: 0.8\"/>\n      </defs>\n      <g>\n       <use xlink:href=\"#mb5114b497c\" x=\"43.78125\" y=\"276.334125\" style=\"stroke: #000000; stroke-width: 0.8\"/>\n      </g>\n     </g>\n     <g id=\"text_8\">\n      <!-- 0.0 -->\n      <g transform=\"translate(20.878125 280.133344) scale(0.1 -0.1)\">\n       <use xlink:href=\"#DejaVuSans-30\"/>\n       <use xlink:href=\"#DejaVuSans-2e\" x=\"63.623047\"/>\n       <use xlink:href=\"#DejaVuSans-30\" x=\"95.410156\"/>\n      </g>\n     </g>\n    </g>\n    <g id=\"ytick_2\">\n     <g id=\"line2d_8\">\n      <g>\n       <use xlink:href=\"#mb5114b497c\" x=\"43.78125\" y=\"227.950125\" style=\"stroke: #000000; stroke-width: 0.8\"/>\n      </g>\n     </g>\n     <g id=\"text_9\">\n      <!-- 0.2 -->\n      <g transform=\"translate(20.878125 231.749344) scale(0.1 -0.1)\">\n       <use xlink:href=\"#DejaVuSans-30\"/>\n       <use xlink:href=\"#DejaVuSans-2e\" x=\"63.623047\"/>\n       <use xlink:href=\"#DejaVuSans-32\" x=\"95.410156\"/>\n      </g>\n     </g>\n    </g>\n    <g id=\"ytick_3\">\n     <g id=\"line2d_9\">\n      <g>\n       <use xlink:href=\"#mb5114b497c\" x=\"43.78125\" y=\"179.566125\" style=\"stroke: #000000; stroke-width: 0.8\"/>\n      </g>\n     </g>\n     <g id=\"text_10\">\n      <!-- 0.4 -->\n      <g transform=\"translate(20.878125 183.365344) scale(0.1 -0.1)\">\n       <use xlink:href=\"#DejaVuSans-30\"/>\n       <use xlink:href=\"#DejaVuSans-2e\" x=\"63.623047\"/>\n       <use xlink:href=\"#DejaVuSans-34\" x=\"95.410156\"/>\n      </g>\n     </g>\n    </g>\n    <g id=\"ytick_4\">\n     <g id=\"line2d_10\">\n      <g>\n       <use xlink:href=\"#mb5114b497c\" x=\"43.78125\" y=\"131.182125\" style=\"stroke: #000000; stroke-width: 0.8\"/>\n      </g>\n     </g>\n     <g id=\"text_11\">\n      <!-- 0.6 -->\n      <g transform=\"translate(20.878125 134.981344) scale(0.1 -0.1)\">\n       <use xlink:href=\"#DejaVuSans-30\"/>\n       <use xlink:href=\"#DejaVuSans-2e\" x=\"63.623047\"/>\n       <use xlink:href=\"#DejaVuSans-36\" x=\"95.410156\"/>\n      </g>\n     </g>\n    </g>\n    <g id=\"ytick_5\">\n     <g id=\"line2d_11\">\n      <g>\n       <use xlink:href=\"#mb5114b497c\" x=\"43.78125\" y=\"82.798125\" style=\"stroke: #000000; stroke-width: 0.8\"/>\n      </g>\n     </g>\n     <g id=\"text_12\">\n      <!-- 0.8 -->\n      <g transform=\"translate(20.878125 86.597344) scale(0.1 -0.1)\">\n       <use xlink:href=\"#DejaVuSans-30\"/>\n       <use xlink:href=\"#DejaVuSans-2e\" x=\"63.623047\"/>\n       <use xlink:href=\"#DejaVuSans-38\" x=\"95.410156\"/>\n      </g>\n     </g>\n    </g>\n    <g id=\"ytick_6\">\n     <g id=\"line2d_12\">\n      <g>\n       <use xlink:href=\"#mb5114b497c\" x=\"43.78125\" y=\"34.414125\" style=\"stroke: #000000; stroke-width: 0.8\"/>\n      </g>\n     </g>\n     <g id=\"text_13\">\n      <!-- 1.0 -->\n      <g transform=\"translate(20.878125 38.213344) scale(0.1 -0.1)\">\n       <use xlink:href=\"#DejaVuSans-31\"/>\n       <use xlink:href=\"#DejaVuSans-2e\" x=\"63.623047\"/>\n       <use xlink:href=\"#DejaVuSans-30\" x=\"95.410156\"/>\n      </g>\n     </g>\n    </g>\n    <g id=\"text_14\">\n     <!-- True Positive Rate -->\n     <g transform=\"translate(14.798438 199.903812) rotate(-90) scale(0.1 -0.1)\">\n      <defs>\n       <path id=\"DejaVuSans-54\" d=\"M -19 4666 \nL 3928 4666 \nL 3928 4134 \nL 2272 4134 \nL 2272 0 \nL 1638 0 \nL 1638 4134 \nL -19 4134 \nL -19 4666 \nz\n\" transform=\"scale(0.015625)\"/>\n       <path id=\"DejaVuSans-72\" d=\"M 2631 2963 \nQ 2534 3019 2420 3045 \nQ 2306 3072 2169 3072 \nQ 1681 3072 1420 2755 \nQ 1159 2438 1159 1844 \nL 1159 0 \nL 581 0 \nL 581 3500 \nL 1159 3500 \nL 1159 2956 \nQ 1341 3275 1631 3429 \nQ 1922 3584 2338 3584 \nQ 2397 3584 2469 3576 \nQ 2541 3569 2628 3553 \nL 2631 2963 \nz\n\" transform=\"scale(0.015625)\"/>\n       <path id=\"DejaVuSans-75\" d=\"M 544 1381 \nL 544 3500 \nL 1119 3500 \nL 1119 1403 \nQ 1119 906 1312 657 \nQ 1506 409 1894 409 \nQ 2359 409 2629 706 \nQ 2900 1003 2900 1516 \nL 2900 3500 \nL 3475 3500 \nL 3475 0 \nL 2900 0 \nL 2900 538 \nQ 2691 219 2414 64 \nQ 2138 -91 1772 -91 \nQ 1169 -91 856 284 \nQ 544 659 544 1381 \nz\nM 1991 3584 \nL 1991 3584 \nz\n\" transform=\"scale(0.015625)\"/>\n      </defs>\n      <use xlink:href=\"#DejaVuSans-54\"/>\n      <use xlink:href=\"#DejaVuSans-72\" x=\"46.333984\"/>\n      <use xlink:href=\"#DejaVuSans-75\" x=\"87.447266\"/>\n      <use xlink:href=\"#DejaVuSans-65\" x=\"150.826172\"/>\n      <use xlink:href=\"#DejaVuSans-20\" x=\"212.349609\"/>\n      <use xlink:href=\"#DejaVuSans-50\" x=\"244.136719\"/>\n      <use xlink:href=\"#DejaVuSans-6f\" x=\"300.814453\"/>\n      <use xlink:href=\"#DejaVuSans-73\" x=\"361.996094\"/>\n      <use xlink:href=\"#DejaVuSans-69\" x=\"414.095703\"/>\n      <use xlink:href=\"#DejaVuSans-74\" x=\"441.878906\"/>\n      <use xlink:href=\"#DejaVuSans-69\" x=\"481.087891\"/>\n      <use xlink:href=\"#DejaVuSans-76\" x=\"508.871094\"/>\n      <use xlink:href=\"#DejaVuSans-65\" x=\"568.050781\"/>\n      <use xlink:href=\"#DejaVuSans-20\" x=\"629.574219\"/>\n      <use xlink:href=\"#DejaVuSans-52\" x=\"661.361328\"/>\n      <use xlink:href=\"#DejaVuSans-61\" x=\"728.59375\"/>\n      <use xlink:href=\"#DejaVuSans-74\" x=\"789.873047\"/>\n      <use xlink:href=\"#DejaVuSans-65\" x=\"829.082031\"/>\n     </g>\n    </g>\n   </g>\n   <g id=\"line2d_13\">\n    <path d=\"M 60.013977 276.334125 \nL 60.013977 274.134852 \nL 60.013977 260.939216 \nL 64.719116 260.939216 \nL 64.719116 256.54067 \nL 67.071685 256.54067 \nL 67.071685 238.946489 \nL 69.424254 238.946489 \nL 69.424254 234.547943 \nL 71.776823 234.547943 \nL 71.776823 205.957398 \nL 74.129392 205.957398 \nL 74.129392 199.35958 \nL 78.834531 199.35958 \nL 78.834531 181.765398 \nL 81.1871 181.765398 \nL 81.1871 170.769034 \nL 83.539669 170.769034 \nL 83.539669 164.171216 \nL 85.892238 164.171216 \nL 85.892238 157.573398 \nL 88.244807 157.573398 \nL 88.244807 155.374125 \nL 90.597376 155.374125 \nL 90.597376 153.174852 \nL 92.949946 153.174852 \nL 92.949946 150.97558 \nL 97.655084 150.97558 \nL 97.655084 146.577034 \nL 100.007653 137.779943 \nL 102.360222 137.779943 \nL 102.360222 133.381398 \nL 109.41793 133.381398 \nL 109.41793 131.182125 \nL 111.770499 131.182125 \nL 111.770499 128.982852 \nL 114.123068 128.982852 \nL 114.123068 124.584307 \nL 116.475637 124.584307 \nL 116.475637 117.986489 \nL 121.180776 117.986489 \nL 121.180776 113.587943 \nL 123.533345 113.587943 \nL 123.533345 111.38867 \nL 128.238483 111.38867 \nL 128.238483 106.990125 \nL 130.591052 106.990125 \nL 130.591052 104.790852 \nL 132.943622 104.790852 \nL 132.943622 100.392307 \nL 142.353898 100.392307 \nL 142.353898 98.193034 \nL 144.706467 98.193034 \nL 144.706467 95.993761 \nL 147.059037 95.993761 \nL 147.059037 91.595216 \nL 154.116744 91.595216 \nL 154.116744 89.395943 \nL 161.174452 89.395943 \nL 161.174452 87.19667 \nL 172.937297 87.19667 \nL 172.937297 76.200307 \nL 194.11042 76.200307 \nL 194.11042 74.001034 \nL 196.462989 74.001034 \nL 196.462989 71.801761 \nL 203.520697 71.801761 \nL 203.520697 69.602489 \nL 208.225835 69.602489 \nL 208.225835 67.403216 \nL 215.283542 67.403216 \nL 215.283542 65.203943 \nL 222.34125 65.203943 \nL 222.34125 56.406852 \nL 250.57208 56.406852 \nL 250.57208 54.20758 \nL 274.097772 54.20758 \nL 274.097772 52.008307 \nL 290.565756 52.008307 \nL 290.565756 49.809034 \nL 311.738878 49.809034 \nL 311.738878 47.609761 \nL 361.142831 47.609761 \nL 361.142831 45.410489 \nL 372.905677 45.410489 \nL 372.905677 43.211216 \nL 377.610815 43.211216 \nL 377.610815 38.81267 \nL 382.315954 38.81267 \nL 382.315954 34.414125 \nL 384.668523 34.414125 \n\" clip-path=\"url(#p7e749ac0c1)\" style=\"fill: none; stroke: #0000ff; stroke-width: 2; stroke-linecap: square\"/>\n   </g>\n   <g id=\"line2d_14\">\n    <path d=\"M 60.013977 276.334125 \nL 63.542831 276.334125 \nL 63.542831 273.064936 \nL 74.129392 273.064936 \nL 74.129392 266.526557 \nL 77.658246 266.526557 \nL 77.658246 237.103855 \nL 81.1871 237.103855 \nL 81.1871 207.681152 \nL 88.244807 207.681152 \nL 88.244807 204.411963 \nL 91.773661 204.411963 \nL 91.773661 158.643314 \nL 95.302515 158.643314 \nL 95.302515 139.028179 \nL 98.831369 139.028179 \nL 98.831369 132.489801 \nL 102.360222 129.220611 \nL 102.360222 122.682233 \nL 112.946784 122.682233 \nL 112.946784 116.143855 \nL 120.004491 116.143855 \nL 120.004491 106.336287 \nL 130.591052 106.336287 \nL 130.591052 103.067098 \nL 134.119906 103.067098 \nL 134.119906 99.797909 \nL 137.64876 99.797909 \nL 137.64876 96.52872 \nL 141.177614 96.52872 \nL 141.177614 89.990341 \nL 148.235321 89.990341 \nL 148.235321 86.721152 \nL 151.764175 86.721152 \nL 151.764175 83.451963 \nL 155.293029 83.451963 \nL 155.293029 76.913584 \nL 158.821882 76.913584 \nL 158.821882 73.644395 \nL 162.350736 73.644395 \nL 162.350736 70.375206 \nL 190.581566 70.375206 \nL 190.581566 67.106017 \nL 197.639274 67.106017 \nL 197.639274 63.836828 \nL 218.812396 63.836828 \nL 218.812396 60.567639 \nL 225.870104 60.567639 \nL 225.870104 57.298449 \nL 268.216349 57.298449 \nL 268.216349 54.02926 \nL 314.091448 54.02926 \nL 314.091448 50.760071 \nL 352.908839 50.760071 \nL 352.908839 47.490882 \nL 374.081961 47.490882 \nL 374.081961 44.221693 \nL 381.139669 44.221693 \nL 381.139669 34.414125 \nL 384.668523 34.414125 \n\" clip-path=\"url(#p7e749ac0c1)\" style=\"fill: none; stroke: #ff8c00; stroke-width: 2; stroke-linecap: square\"/>\n   </g>\n   <g id=\"line2d_15\">\n    <path d=\"M 60.013977 276.334125 \nL 384.668523 34.414125 \n\" clip-path=\"url(#p7e749ac0c1)\" style=\"fill: none; stroke-dasharray: 7.4,3.2; stroke-dashoffset: 0; stroke: #000080; stroke-width: 2\"/>\n   </g>\n   <g id=\"patch_3\">\n    <path d=\"M 43.78125 288.430125 \nL 43.78125 22.318125 \n\" style=\"fill: none; stroke: #000000; stroke-width: 0.8; stroke-linejoin: miter; stroke-linecap: square\"/>\n   </g>\n   <g id=\"patch_4\">\n    <path d=\"M 400.90125 288.430125 \nL 400.90125 22.318125 \n\" style=\"fill: none; stroke: #000000; stroke-width: 0.8; stroke-linejoin: miter; stroke-linecap: square\"/>\n   </g>\n   <g id=\"patch_5\">\n    <path d=\"M 43.78125 288.430125 \nL 400.90125 288.430125 \n\" style=\"fill: none; stroke: #000000; stroke-width: 0.8; stroke-linejoin: miter; stroke-linecap: square\"/>\n   </g>\n   <g id=\"patch_6\">\n    <path d=\"M 43.78125 22.318125 \nL 400.90125 22.318125 \n\" style=\"fill: none; stroke: #000000; stroke-width: 0.8; stroke-linejoin: miter; stroke-linecap: square\"/>\n   </g>\n   <g id=\"text_15\">\n    <!-- ROC Curve (SVC) -->\n    <g transform=\"translate(170.95875 16.318125) scale(0.12 -0.12)\">\n     <defs>\n      <path id=\"DejaVuSans-4f\" d=\"M 2522 4238 \nQ 1834 4238 1429 3725 \nQ 1025 3213 1025 2328 \nQ 1025 1447 1429 934 \nQ 1834 422 2522 422 \nQ 3209 422 3611 934 \nQ 4013 1447 4013 2328 \nQ 4013 3213 3611 3725 \nQ 3209 4238 2522 4238 \nz\nM 2522 4750 \nQ 3503 4750 4090 4092 \nQ 4678 3434 4678 2328 \nQ 4678 1225 4090 567 \nQ 3503 -91 2522 -91 \nQ 1538 -91 948 565 \nQ 359 1222 359 2328 \nQ 359 3434 948 4092 \nQ 1538 4750 2522 4750 \nz\n\" transform=\"scale(0.015625)\"/>\n      <path id=\"DejaVuSans-43\" d=\"M 4122 4306 \nL 4122 3641 \nQ 3803 3938 3442 4084 \nQ 3081 4231 2675 4231 \nQ 1875 4231 1450 3742 \nQ 1025 3253 1025 2328 \nQ 1025 1406 1450 917 \nQ 1875 428 2675 428 \nQ 3081 428 3442 575 \nQ 3803 722 4122 1019 \nL 4122 359 \nQ 3791 134 3420 21 \nQ 3050 -91 2638 -91 \nQ 1578 -91 968 557 \nQ 359 1206 359 2328 \nQ 359 3453 968 4101 \nQ 1578 4750 2638 4750 \nQ 3056 4750 3426 4639 \nQ 3797 4528 4122 4306 \nz\n\" transform=\"scale(0.015625)\"/>\n      <path id=\"DejaVuSans-28\" d=\"M 1984 4856 \nQ 1566 4138 1362 3434 \nQ 1159 2731 1159 2009 \nQ 1159 1288 1364 580 \nQ 1569 -128 1984 -844 \nL 1484 -844 \nQ 1016 -109 783 600 \nQ 550 1309 550 2009 \nQ 550 2706 781 3412 \nQ 1013 4119 1484 4856 \nL 1984 4856 \nz\n\" transform=\"scale(0.015625)\"/>\n      <path id=\"DejaVuSans-53\" d=\"M 3425 4513 \nL 3425 3897 \nQ 3066 4069 2747 4153 \nQ 2428 4238 2131 4238 \nQ 1616 4238 1336 4038 \nQ 1056 3838 1056 3469 \nQ 1056 3159 1242 3001 \nQ 1428 2844 1947 2747 \nL 2328 2669 \nQ 3034 2534 3370 2195 \nQ 3706 1856 3706 1288 \nQ 3706 609 3251 259 \nQ 2797 -91 1919 -91 \nQ 1588 -91 1214 -16 \nQ 841 59 441 206 \nL 441 856 \nQ 825 641 1194 531 \nQ 1563 422 1919 422 \nQ 2459 422 2753 634 \nQ 3047 847 3047 1241 \nQ 3047 1584 2836 1778 \nQ 2625 1972 2144 2069 \nL 1759 2144 \nQ 1053 2284 737 2584 \nQ 422 2884 422 3419 \nQ 422 4038 858 4394 \nQ 1294 4750 2059 4750 \nQ 2388 4750 2728 4690 \nQ 3069 4631 3425 4513 \nz\n\" transform=\"scale(0.015625)\"/>\n      <path id=\"DejaVuSans-56\" d=\"M 1831 0 \nL 50 4666 \nL 709 4666 \nL 2188 738 \nL 3669 4666 \nL 4325 4666 \nL 2547 0 \nL 1831 0 \nz\n\" transform=\"scale(0.015625)\"/>\n      <path id=\"DejaVuSans-29\" d=\"M 513 4856 \nL 1013 4856 \nQ 1481 4119 1714 3412 \nQ 1947 2706 1947 2009 \nQ 1947 1309 1714 600 \nQ 1481 -109 1013 -844 \nL 513 -844 \nQ 928 -128 1133 580 \nQ 1338 1288 1338 2009 \nQ 1338 2731 1133 3434 \nQ 928 4138 513 4856 \nz\n\" transform=\"scale(0.015625)\"/>\n     </defs>\n     <use xlink:href=\"#DejaVuSans-52\"/>\n     <use xlink:href=\"#DejaVuSans-4f\" x=\"69.482422\"/>\n     <use xlink:href=\"#DejaVuSans-43\" x=\"148.193359\"/>\n     <use xlink:href=\"#DejaVuSans-20\" x=\"218.017578\"/>\n     <use xlink:href=\"#DejaVuSans-43\" x=\"249.804688\"/>\n     <use xlink:href=\"#DejaVuSans-75\" x=\"319.628906\"/>\n     <use xlink:href=\"#DejaVuSans-72\" x=\"383.007812\"/>\n     <use xlink:href=\"#DejaVuSans-76\" x=\"424.121094\"/>\n     <use xlink:href=\"#DejaVuSans-65\" x=\"483.300781\"/>\n     <use xlink:href=\"#DejaVuSans-20\" x=\"544.824219\"/>\n     <use xlink:href=\"#DejaVuSans-28\" x=\"576.611328\"/>\n     <use xlink:href=\"#DejaVuSans-53\" x=\"615.625\"/>\n     <use xlink:href=\"#DejaVuSans-56\" x=\"679.101562\"/>\n     <use xlink:href=\"#DejaVuSans-43\" x=\"747.509766\"/>\n     <use xlink:href=\"#DejaVuSans-29\" x=\"817.333984\"/>\n    </g>\n   </g>\n   <g id=\"legend_1\">\n    <g id=\"patch_7\">\n     <path d=\"M 50.78125 59.674375 \nL 164.43125 59.674375 \nQ 166.43125 59.674375 166.43125 57.674375 \nL 166.43125 29.318125 \nQ 166.43125 27.318125 164.43125 27.318125 \nL 50.78125 27.318125 \nQ 48.78125 27.318125 48.78125 29.318125 \nL 48.78125 57.674375 \nQ 48.78125 59.674375 50.78125 59.674375 \nz\n\" style=\"fill: #ffffff; opacity: 0.8; stroke: #cccccc; stroke-linejoin: miter\"/>\n    </g>\n    <g id=\"line2d_16\">\n     <path d=\"M 52.78125 35.416562 \nL 62.78125 35.416562 \nL 72.78125 35.416562 \n\" style=\"fill: none; stroke: #0000ff; stroke-width: 2; stroke-linecap: square\"/>\n    </g>\n    <g id=\"text_16\">\n     <!-- ROC Curve Train -->\n     <g transform=\"translate(80.78125 38.916562) scale(0.1 -0.1)\">\n      <defs>\n       <path id=\"DejaVuSans-6e\" d=\"M 3513 2113 \nL 3513 0 \nL 2938 0 \nL 2938 2094 \nQ 2938 2591 2744 2837 \nQ 2550 3084 2163 3084 \nQ 1697 3084 1428 2787 \nQ 1159 2491 1159 1978 \nL 1159 0 \nL 581 0 \nL 581 3500 \nL 1159 3500 \nL 1159 2956 \nQ 1366 3272 1645 3428 \nQ 1925 3584 2291 3584 \nQ 2894 3584 3203 3211 \nQ 3513 2838 3513 2113 \nz\n\" transform=\"scale(0.015625)\"/>\n      </defs>\n      <use xlink:href=\"#DejaVuSans-52\"/>\n      <use xlink:href=\"#DejaVuSans-4f\" x=\"69.482422\"/>\n      <use xlink:href=\"#DejaVuSans-43\" x=\"148.193359\"/>\n      <use xlink:href=\"#DejaVuSans-20\" x=\"218.017578\"/>\n      <use xlink:href=\"#DejaVuSans-43\" x=\"249.804688\"/>\n      <use xlink:href=\"#DejaVuSans-75\" x=\"319.628906\"/>\n      <use xlink:href=\"#DejaVuSans-72\" x=\"383.007812\"/>\n      <use xlink:href=\"#DejaVuSans-76\" x=\"424.121094\"/>\n      <use xlink:href=\"#DejaVuSans-65\" x=\"483.300781\"/>\n      <use xlink:href=\"#DejaVuSans-20\" x=\"544.824219\"/>\n      <use xlink:href=\"#DejaVuSans-54\" x=\"576.611328\"/>\n      <use xlink:href=\"#DejaVuSans-72\" x=\"622.945312\"/>\n      <use xlink:href=\"#DejaVuSans-61\" x=\"664.058594\"/>\n      <use xlink:href=\"#DejaVuSans-69\" x=\"725.337891\"/>\n      <use xlink:href=\"#DejaVuSans-6e\" x=\"753.121094\"/>\n     </g>\n    </g>\n    <g id=\"line2d_17\">\n     <path d=\"M 52.78125 50.094687 \nL 62.78125 50.094687 \nL 72.78125 50.094687 \n\" style=\"fill: none; stroke: #ff8c00; stroke-width: 2; stroke-linecap: square\"/>\n    </g>\n    <g id=\"text_17\">\n     <!-- ROC Curve Test -->\n     <g transform=\"translate(80.78125 53.594687) scale(0.1 -0.1)\">\n      <use xlink:href=\"#DejaVuSans-52\"/>\n      <use xlink:href=\"#DejaVuSans-4f\" x=\"69.482422\"/>\n      <use xlink:href=\"#DejaVuSans-43\" x=\"148.193359\"/>\n      <use xlink:href=\"#DejaVuSans-20\" x=\"218.017578\"/>\n      <use xlink:href=\"#DejaVuSans-43\" x=\"249.804688\"/>\n      <use xlink:href=\"#DejaVuSans-75\" x=\"319.628906\"/>\n      <use xlink:href=\"#DejaVuSans-72\" x=\"383.007812\"/>\n      <use xlink:href=\"#DejaVuSans-76\" x=\"424.121094\"/>\n      <use xlink:href=\"#DejaVuSans-65\" x=\"483.300781\"/>\n      <use xlink:href=\"#DejaVuSans-20\" x=\"544.824219\"/>\n      <use xlink:href=\"#DejaVuSans-54\" x=\"576.611328\"/>\n      <use xlink:href=\"#DejaVuSans-65\" x=\"620.695312\"/>\n      <use xlink:href=\"#DejaVuSans-73\" x=\"682.21875\"/>\n      <use xlink:href=\"#DejaVuSans-74\" x=\"734.318359\"/>\n     </g>\n    </g>\n   </g>\n  </g>\n </g>\n <defs>\n  <clipPath id=\"p7e749ac0c1\">\n   <rect x=\"43.78125\" y=\"22.318125\" width=\"357.12\" height=\"266.112\"/>\n  </clipPath>\n </defs>\n</svg>\n"
          },
          "metadata": {}
        },
        {
          "output_type": "stream",
          "name": "stdout",
          "text": [
            "Optimal Threshold: 0.31\n",
            "Optimal Training Precision: 0.61\n",
            "Optimal Training Recall: 0.85\n",
            "Optimal Test Precision: 0.69\n",
            "Optimal Test Recall: 0.84\n"
          ]
        }
      ],
      "source": [
        "metrics_svm_linear  = calculate_metrics_and_plot_roc(best_svm_model, X_train, y_train, X_test, y_test)"
      ]
    },
    {
      "cell_type": "code",
      "execution_count": 40,
      "metadata": {
        "id": "V35Ov8PJjItr",
        "colab": {
          "base_uri": "https://localhost:8080/"
        },
        "outputId": "45abc4da-ac9a-4486-c516-6c0c805dca4a"
      },
      "outputs": [
        {
          "output_type": "stream",
          "name": "stdout",
          "text": [
            "Лучшее значение параметра: {'C': 1, 'kernel': 'rbf'}\n"
          ]
        }
      ],
      "source": [
        "from sklearn.svm import SVC\n",
        "# Определяем сетку параметров для C, которые мы хотим проверить\n",
        "param_grid = {'C': [0.01, 0.1, 1],\n",
        "              'kernel':['linear', 'poly', 'rbf', 'sigmoid',]\n",
        "              }\n",
        "\n",
        "svm_model = SVC(kernel='linear')\n",
        "\n",
        "# Создаем объект GridSearchCV с моделью логистической регрессии и сеткой параметров\n",
        "grid_search = GridSearchCV(svm_model, param_grid, cv=5)  # cv указывает количество блоков для кросс-валидации\n",
        "\n",
        "# Обучаем модель на данных с использованием кросс-валидации\n",
        "grid_search.fit(X_train, y_train)\n",
        "\n",
        "# Получаем лучшее значение параметра C, найденное в процессе кросс-валидации\n",
        "# best_params = grid_search.best_params_[param_grid]\n",
        "print('Лучшее значение параметра:', grid_search.best_params_)\n",
        "\n",
        "\n",
        "# Создаем модель с лучшим значением C\n",
        "best_svm_model = SVC(**grid_search.best_params_, probability=True)"
      ]
    },
    {
      "cell_type": "code",
      "execution_count": 41,
      "metadata": {
        "id": "aKVdPpvLj0uH",
        "colab": {
          "base_uri": "https://localhost:8080/",
          "height": 581
        },
        "outputId": "2503f914-26c8-425b-a2e1-d4e476d84ac0"
      },
      "outputs": [
        {
          "output_type": "stream",
          "name": "stdout",
          "text": [
            "ROC-AUC Train: 0.84\n",
            "ROC-AUC Test: 0.81\n"
          ]
        },
        {
          "output_type": "display_data",
          "data": {
            "text/plain": [
              "<Figure size 640x480 with 1 Axes>"
            ],
            "image/svg+xml": "<?xml version=\"1.0\" encoding=\"utf-8\" standalone=\"no\"?>\n<!DOCTYPE svg PUBLIC \"-//W3C//DTD SVG 1.1//EN\"\n  \"http://www.w3.org/Graphics/SVG/1.1/DTD/svg11.dtd\">\n<svg xmlns:xlink=\"http://www.w3.org/1999/xlink\" width=\"408.10125pt\" height=\"325.986375pt\" viewBox=\"0 0 408.10125 325.986375\" xmlns=\"http://www.w3.org/2000/svg\" version=\"1.1\">\n <metadata>\n  <rdf:RDF xmlns:dc=\"http://purl.org/dc/elements/1.1/\" xmlns:cc=\"http://creativecommons.org/ns#\" xmlns:rdf=\"http://www.w3.org/1999/02/22-rdf-syntax-ns#\">\n   <cc:Work>\n    <dc:type rdf:resource=\"http://purl.org/dc/dcmitype/StillImage\"/>\n    <dc:date>2024-07-05T15:52:15.267020</dc:date>\n    <dc:format>image/svg+xml</dc:format>\n    <dc:creator>\n     <cc:Agent>\n      <dc:title>Matplotlib v3.7.1, https://matplotlib.org/</dc:title>\n     </cc:Agent>\n    </dc:creator>\n   </cc:Work>\n  </rdf:RDF>\n </metadata>\n <defs>\n  <style type=\"text/css\">*{stroke-linejoin: round; stroke-linecap: butt}</style>\n </defs>\n <g id=\"figure_1\">\n  <g id=\"patch_1\">\n   <path d=\"M 0 325.986375 \nL 408.10125 325.986375 \nL 408.10125 0 \nL 0 0 \nz\n\" style=\"fill: #ffffff\"/>\n  </g>\n  <g id=\"axes_1\">\n   <g id=\"patch_2\">\n    <path d=\"M 43.78125 288.430125 \nL 400.90125 288.430125 \nL 400.90125 22.318125 \nL 43.78125 22.318125 \nz\n\" style=\"fill: #ffffff\"/>\n   </g>\n   <g id=\"matplotlib.axis_1\">\n    <g id=\"xtick_1\">\n     <g id=\"line2d_1\">\n      <defs>\n       <path id=\"m9a9dbe162b\" d=\"M 0 0 \nL 0 3.5 \n\" style=\"stroke: #000000; stroke-width: 0.8\"/>\n      </defs>\n      <g>\n       <use xlink:href=\"#m9a9dbe162b\" x=\"60.013977\" y=\"288.430125\" style=\"stroke: #000000; stroke-width: 0.8\"/>\n      </g>\n     </g>\n     <g id=\"text_1\">\n      <!-- 0.0 -->\n      <g transform=\"translate(52.062415 303.028562) scale(0.1 -0.1)\">\n       <defs>\n        <path id=\"DejaVuSans-30\" d=\"M 2034 4250 \nQ 1547 4250 1301 3770 \nQ 1056 3291 1056 2328 \nQ 1056 1369 1301 889 \nQ 1547 409 2034 409 \nQ 2525 409 2770 889 \nQ 3016 1369 3016 2328 \nQ 3016 3291 2770 3770 \nQ 2525 4250 2034 4250 \nz\nM 2034 4750 \nQ 2819 4750 3233 4129 \nQ 3647 3509 3647 2328 \nQ 3647 1150 3233 529 \nQ 2819 -91 2034 -91 \nQ 1250 -91 836 529 \nQ 422 1150 422 2328 \nQ 422 3509 836 4129 \nQ 1250 4750 2034 4750 \nz\n\" transform=\"scale(0.015625)\"/>\n        <path id=\"DejaVuSans-2e\" d=\"M 684 794 \nL 1344 794 \nL 1344 0 \nL 684 0 \nL 684 794 \nz\n\" transform=\"scale(0.015625)\"/>\n       </defs>\n       <use xlink:href=\"#DejaVuSans-30\"/>\n       <use xlink:href=\"#DejaVuSans-2e\" x=\"63.623047\"/>\n       <use xlink:href=\"#DejaVuSans-30\" x=\"95.410156\"/>\n      </g>\n     </g>\n    </g>\n    <g id=\"xtick_2\">\n     <g id=\"line2d_2\">\n      <g>\n       <use xlink:href=\"#m9a9dbe162b\" x=\"124.944886\" y=\"288.430125\" style=\"stroke: #000000; stroke-width: 0.8\"/>\n      </g>\n     </g>\n     <g id=\"text_2\">\n      <!-- 0.2 -->\n      <g transform=\"translate(116.993324 303.028562) scale(0.1 -0.1)\">\n       <defs>\n        <path id=\"DejaVuSans-32\" d=\"M 1228 531 \nL 3431 531 \nL 3431 0 \nL 469 0 \nL 469 531 \nQ 828 903 1448 1529 \nQ 2069 2156 2228 2338 \nQ 2531 2678 2651 2914 \nQ 2772 3150 2772 3378 \nQ 2772 3750 2511 3984 \nQ 2250 4219 1831 4219 \nQ 1534 4219 1204 4116 \nQ 875 4013 500 3803 \nL 500 4441 \nQ 881 4594 1212 4672 \nQ 1544 4750 1819 4750 \nQ 2544 4750 2975 4387 \nQ 3406 4025 3406 3419 \nQ 3406 3131 3298 2873 \nQ 3191 2616 2906 2266 \nQ 2828 2175 2409 1742 \nQ 1991 1309 1228 531 \nz\n\" transform=\"scale(0.015625)\"/>\n       </defs>\n       <use xlink:href=\"#DejaVuSans-30\"/>\n       <use xlink:href=\"#DejaVuSans-2e\" x=\"63.623047\"/>\n       <use xlink:href=\"#DejaVuSans-32\" x=\"95.410156\"/>\n      </g>\n     </g>\n    </g>\n    <g id=\"xtick_3\">\n     <g id=\"line2d_3\">\n      <g>\n       <use xlink:href=\"#m9a9dbe162b\" x=\"189.875795\" y=\"288.430125\" style=\"stroke: #000000; stroke-width: 0.8\"/>\n      </g>\n     </g>\n     <g id=\"text_3\">\n      <!-- 0.4 -->\n      <g transform=\"translate(181.924233 303.028562) scale(0.1 -0.1)\">\n       <defs>\n        <path id=\"DejaVuSans-34\" d=\"M 2419 4116 \nL 825 1625 \nL 2419 1625 \nL 2419 4116 \nz\nM 2253 4666 \nL 3047 4666 \nL 3047 1625 \nL 3713 1625 \nL 3713 1100 \nL 3047 1100 \nL 3047 0 \nL 2419 0 \nL 2419 1100 \nL 313 1100 \nL 313 1709 \nL 2253 4666 \nz\n\" transform=\"scale(0.015625)\"/>\n       </defs>\n       <use xlink:href=\"#DejaVuSans-30\"/>\n       <use xlink:href=\"#DejaVuSans-2e\" x=\"63.623047\"/>\n       <use xlink:href=\"#DejaVuSans-34\" x=\"95.410156\"/>\n      </g>\n     </g>\n    </g>\n    <g id=\"xtick_4\">\n     <g id=\"line2d_4\">\n      <g>\n       <use xlink:href=\"#m9a9dbe162b\" x=\"254.806705\" y=\"288.430125\" style=\"stroke: #000000; stroke-width: 0.8\"/>\n      </g>\n     </g>\n     <g id=\"text_4\">\n      <!-- 0.6 -->\n      <g transform=\"translate(246.855142 303.028562) scale(0.1 -0.1)\">\n       <defs>\n        <path id=\"DejaVuSans-36\" d=\"M 2113 2584 \nQ 1688 2584 1439 2293 \nQ 1191 2003 1191 1497 \nQ 1191 994 1439 701 \nQ 1688 409 2113 409 \nQ 2538 409 2786 701 \nQ 3034 994 3034 1497 \nQ 3034 2003 2786 2293 \nQ 2538 2584 2113 2584 \nz\nM 3366 4563 \nL 3366 3988 \nQ 3128 4100 2886 4159 \nQ 2644 4219 2406 4219 \nQ 1781 4219 1451 3797 \nQ 1122 3375 1075 2522 \nQ 1259 2794 1537 2939 \nQ 1816 3084 2150 3084 \nQ 2853 3084 3261 2657 \nQ 3669 2231 3669 1497 \nQ 3669 778 3244 343 \nQ 2819 -91 2113 -91 \nQ 1303 -91 875 529 \nQ 447 1150 447 2328 \nQ 447 3434 972 4092 \nQ 1497 4750 2381 4750 \nQ 2619 4750 2861 4703 \nQ 3103 4656 3366 4563 \nz\n\" transform=\"scale(0.015625)\"/>\n       </defs>\n       <use xlink:href=\"#DejaVuSans-30\"/>\n       <use xlink:href=\"#DejaVuSans-2e\" x=\"63.623047\"/>\n       <use xlink:href=\"#DejaVuSans-36\" x=\"95.410156\"/>\n      </g>\n     </g>\n    </g>\n    <g id=\"xtick_5\">\n     <g id=\"line2d_5\">\n      <g>\n       <use xlink:href=\"#m9a9dbe162b\" x=\"319.737614\" y=\"288.430125\" style=\"stroke: #000000; stroke-width: 0.8\"/>\n      </g>\n     </g>\n     <g id=\"text_5\">\n      <!-- 0.8 -->\n      <g transform=\"translate(311.786051 303.028562) scale(0.1 -0.1)\">\n       <defs>\n        <path id=\"DejaVuSans-38\" d=\"M 2034 2216 \nQ 1584 2216 1326 1975 \nQ 1069 1734 1069 1313 \nQ 1069 891 1326 650 \nQ 1584 409 2034 409 \nQ 2484 409 2743 651 \nQ 3003 894 3003 1313 \nQ 3003 1734 2745 1975 \nQ 2488 2216 2034 2216 \nz\nM 1403 2484 \nQ 997 2584 770 2862 \nQ 544 3141 544 3541 \nQ 544 4100 942 4425 \nQ 1341 4750 2034 4750 \nQ 2731 4750 3128 4425 \nQ 3525 4100 3525 3541 \nQ 3525 3141 3298 2862 \nQ 3072 2584 2669 2484 \nQ 3125 2378 3379 2068 \nQ 3634 1759 3634 1313 \nQ 3634 634 3220 271 \nQ 2806 -91 2034 -91 \nQ 1263 -91 848 271 \nQ 434 634 434 1313 \nQ 434 1759 690 2068 \nQ 947 2378 1403 2484 \nz\nM 1172 3481 \nQ 1172 3119 1398 2916 \nQ 1625 2713 2034 2713 \nQ 2441 2713 2670 2916 \nQ 2900 3119 2900 3481 \nQ 2900 3844 2670 4047 \nQ 2441 4250 2034 4250 \nQ 1625 4250 1398 4047 \nQ 1172 3844 1172 3481 \nz\n\" transform=\"scale(0.015625)\"/>\n       </defs>\n       <use xlink:href=\"#DejaVuSans-30\"/>\n       <use xlink:href=\"#DejaVuSans-2e\" x=\"63.623047\"/>\n       <use xlink:href=\"#DejaVuSans-38\" x=\"95.410156\"/>\n      </g>\n     </g>\n    </g>\n    <g id=\"xtick_6\">\n     <g id=\"line2d_6\">\n      <g>\n       <use xlink:href=\"#m9a9dbe162b\" x=\"384.668523\" y=\"288.430125\" style=\"stroke: #000000; stroke-width: 0.8\"/>\n      </g>\n     </g>\n     <g id=\"text_6\">\n      <!-- 1.0 -->\n      <g transform=\"translate(376.71696 303.028562) scale(0.1 -0.1)\">\n       <defs>\n        <path id=\"DejaVuSans-31\" d=\"M 794 531 \nL 1825 531 \nL 1825 4091 \nL 703 3866 \nL 703 4441 \nL 1819 4666 \nL 2450 4666 \nL 2450 531 \nL 3481 531 \nL 3481 0 \nL 794 0 \nL 794 531 \nz\n\" transform=\"scale(0.015625)\"/>\n       </defs>\n       <use xlink:href=\"#DejaVuSans-31\"/>\n       <use xlink:href=\"#DejaVuSans-2e\" x=\"63.623047\"/>\n       <use xlink:href=\"#DejaVuSans-30\" x=\"95.410156\"/>\n      </g>\n     </g>\n    </g>\n    <g id=\"text_7\">\n     <!-- False Positive Rate -->\n     <g transform=\"translate(175.874844 316.706687) scale(0.1 -0.1)\">\n      <defs>\n       <path id=\"DejaVuSans-46\" d=\"M 628 4666 \nL 3309 4666 \nL 3309 4134 \nL 1259 4134 \nL 1259 2759 \nL 3109 2759 \nL 3109 2228 \nL 1259 2228 \nL 1259 0 \nL 628 0 \nL 628 4666 \nz\n\" transform=\"scale(0.015625)\"/>\n       <path id=\"DejaVuSans-61\" d=\"M 2194 1759 \nQ 1497 1759 1228 1600 \nQ 959 1441 959 1056 \nQ 959 750 1161 570 \nQ 1363 391 1709 391 \nQ 2188 391 2477 730 \nQ 2766 1069 2766 1631 \nL 2766 1759 \nL 2194 1759 \nz\nM 3341 1997 \nL 3341 0 \nL 2766 0 \nL 2766 531 \nQ 2569 213 2275 61 \nQ 1981 -91 1556 -91 \nQ 1019 -91 701 211 \nQ 384 513 384 1019 \nQ 384 1609 779 1909 \nQ 1175 2209 1959 2209 \nL 2766 2209 \nL 2766 2266 \nQ 2766 2663 2505 2880 \nQ 2244 3097 1772 3097 \nQ 1472 3097 1187 3025 \nQ 903 2953 641 2809 \nL 641 3341 \nQ 956 3463 1253 3523 \nQ 1550 3584 1831 3584 \nQ 2591 3584 2966 3190 \nQ 3341 2797 3341 1997 \nz\n\" transform=\"scale(0.015625)\"/>\n       <path id=\"DejaVuSans-6c\" d=\"M 603 4863 \nL 1178 4863 \nL 1178 0 \nL 603 0 \nL 603 4863 \nz\n\" transform=\"scale(0.015625)\"/>\n       <path id=\"DejaVuSans-73\" d=\"M 2834 3397 \nL 2834 2853 \nQ 2591 2978 2328 3040 \nQ 2066 3103 1784 3103 \nQ 1356 3103 1142 2972 \nQ 928 2841 928 2578 \nQ 928 2378 1081 2264 \nQ 1234 2150 1697 2047 \nL 1894 2003 \nQ 2506 1872 2764 1633 \nQ 3022 1394 3022 966 \nQ 3022 478 2636 193 \nQ 2250 -91 1575 -91 \nQ 1294 -91 989 -36 \nQ 684 19 347 128 \nL 347 722 \nQ 666 556 975 473 \nQ 1284 391 1588 391 \nQ 1994 391 2212 530 \nQ 2431 669 2431 922 \nQ 2431 1156 2273 1281 \nQ 2116 1406 1581 1522 \nL 1381 1569 \nQ 847 1681 609 1914 \nQ 372 2147 372 2553 \nQ 372 3047 722 3315 \nQ 1072 3584 1716 3584 \nQ 2034 3584 2315 3537 \nQ 2597 3491 2834 3397 \nz\n\" transform=\"scale(0.015625)\"/>\n       <path id=\"DejaVuSans-65\" d=\"M 3597 1894 \nL 3597 1613 \nL 953 1613 \nQ 991 1019 1311 708 \nQ 1631 397 2203 397 \nQ 2534 397 2845 478 \nQ 3156 559 3463 722 \nL 3463 178 \nQ 3153 47 2828 -22 \nQ 2503 -91 2169 -91 \nQ 1331 -91 842 396 \nQ 353 884 353 1716 \nQ 353 2575 817 3079 \nQ 1281 3584 2069 3584 \nQ 2775 3584 3186 3129 \nQ 3597 2675 3597 1894 \nz\nM 3022 2063 \nQ 3016 2534 2758 2815 \nQ 2500 3097 2075 3097 \nQ 1594 3097 1305 2825 \nQ 1016 2553 972 2059 \nL 3022 2063 \nz\n\" transform=\"scale(0.015625)\"/>\n       <path id=\"DejaVuSans-20\" transform=\"scale(0.015625)\"/>\n       <path id=\"DejaVuSans-50\" d=\"M 1259 4147 \nL 1259 2394 \nL 2053 2394 \nQ 2494 2394 2734 2622 \nQ 2975 2850 2975 3272 \nQ 2975 3691 2734 3919 \nQ 2494 4147 2053 4147 \nL 1259 4147 \nz\nM 628 4666 \nL 2053 4666 \nQ 2838 4666 3239 4311 \nQ 3641 3956 3641 3272 \nQ 3641 2581 3239 2228 \nQ 2838 1875 2053 1875 \nL 1259 1875 \nL 1259 0 \nL 628 0 \nL 628 4666 \nz\n\" transform=\"scale(0.015625)\"/>\n       <path id=\"DejaVuSans-6f\" d=\"M 1959 3097 \nQ 1497 3097 1228 2736 \nQ 959 2375 959 1747 \nQ 959 1119 1226 758 \nQ 1494 397 1959 397 \nQ 2419 397 2687 759 \nQ 2956 1122 2956 1747 \nQ 2956 2369 2687 2733 \nQ 2419 3097 1959 3097 \nz\nM 1959 3584 \nQ 2709 3584 3137 3096 \nQ 3566 2609 3566 1747 \nQ 3566 888 3137 398 \nQ 2709 -91 1959 -91 \nQ 1206 -91 779 398 \nQ 353 888 353 1747 \nQ 353 2609 779 3096 \nQ 1206 3584 1959 3584 \nz\n\" transform=\"scale(0.015625)\"/>\n       <path id=\"DejaVuSans-69\" d=\"M 603 3500 \nL 1178 3500 \nL 1178 0 \nL 603 0 \nL 603 3500 \nz\nM 603 4863 \nL 1178 4863 \nL 1178 4134 \nL 603 4134 \nL 603 4863 \nz\n\" transform=\"scale(0.015625)\"/>\n       <path id=\"DejaVuSans-74\" d=\"M 1172 4494 \nL 1172 3500 \nL 2356 3500 \nL 2356 3053 \nL 1172 3053 \nL 1172 1153 \nQ 1172 725 1289 603 \nQ 1406 481 1766 481 \nL 2356 481 \nL 2356 0 \nL 1766 0 \nQ 1100 0 847 248 \nQ 594 497 594 1153 \nL 594 3053 \nL 172 3053 \nL 172 3500 \nL 594 3500 \nL 594 4494 \nL 1172 4494 \nz\n\" transform=\"scale(0.015625)\"/>\n       <path id=\"DejaVuSans-76\" d=\"M 191 3500 \nL 800 3500 \nL 1894 563 \nL 2988 3500 \nL 3597 3500 \nL 2284 0 \nL 1503 0 \nL 191 3500 \nz\n\" transform=\"scale(0.015625)\"/>\n       <path id=\"DejaVuSans-52\" d=\"M 2841 2188 \nQ 3044 2119 3236 1894 \nQ 3428 1669 3622 1275 \nL 4263 0 \nL 3584 0 \nL 2988 1197 \nQ 2756 1666 2539 1819 \nQ 2322 1972 1947 1972 \nL 1259 1972 \nL 1259 0 \nL 628 0 \nL 628 4666 \nL 2053 4666 \nQ 2853 4666 3247 4331 \nQ 3641 3997 3641 3322 \nQ 3641 2881 3436 2590 \nQ 3231 2300 2841 2188 \nz\nM 1259 4147 \nL 1259 2491 \nL 2053 2491 \nQ 2509 2491 2742 2702 \nQ 2975 2913 2975 3322 \nQ 2975 3731 2742 3939 \nQ 2509 4147 2053 4147 \nL 1259 4147 \nz\n\" transform=\"scale(0.015625)\"/>\n      </defs>\n      <use xlink:href=\"#DejaVuSans-46\"/>\n      <use xlink:href=\"#DejaVuSans-61\" x=\"48.394531\"/>\n      <use xlink:href=\"#DejaVuSans-6c\" x=\"109.673828\"/>\n      <use xlink:href=\"#DejaVuSans-73\" x=\"137.457031\"/>\n      <use xlink:href=\"#DejaVuSans-65\" x=\"189.556641\"/>\n      <use xlink:href=\"#DejaVuSans-20\" x=\"251.080078\"/>\n      <use xlink:href=\"#DejaVuSans-50\" x=\"282.867188\"/>\n      <use xlink:href=\"#DejaVuSans-6f\" x=\"339.544922\"/>\n      <use xlink:href=\"#DejaVuSans-73\" x=\"400.726562\"/>\n      <use xlink:href=\"#DejaVuSans-69\" x=\"452.826172\"/>\n      <use xlink:href=\"#DejaVuSans-74\" x=\"480.609375\"/>\n      <use xlink:href=\"#DejaVuSans-69\" x=\"519.818359\"/>\n      <use xlink:href=\"#DejaVuSans-76\" x=\"547.601562\"/>\n      <use xlink:href=\"#DejaVuSans-65\" x=\"606.78125\"/>\n      <use xlink:href=\"#DejaVuSans-20\" x=\"668.304688\"/>\n      <use xlink:href=\"#DejaVuSans-52\" x=\"700.091797\"/>\n      <use xlink:href=\"#DejaVuSans-61\" x=\"767.324219\"/>\n      <use xlink:href=\"#DejaVuSans-74\" x=\"828.603516\"/>\n      <use xlink:href=\"#DejaVuSans-65\" x=\"867.8125\"/>\n     </g>\n    </g>\n   </g>\n   <g id=\"matplotlib.axis_2\">\n    <g id=\"ytick_1\">\n     <g id=\"line2d_7\">\n      <defs>\n       <path id=\"ma7e6aac0b3\" d=\"M 0 0 \nL -3.5 0 \n\" style=\"stroke: #000000; stroke-width: 0.8\"/>\n      </defs>\n      <g>\n       <use xlink:href=\"#ma7e6aac0b3\" x=\"43.78125\" y=\"276.334125\" style=\"stroke: #000000; stroke-width: 0.8\"/>\n      </g>\n     </g>\n     <g id=\"text_8\">\n      <!-- 0.0 -->\n      <g transform=\"translate(20.878125 280.133344) scale(0.1 -0.1)\">\n       <use xlink:href=\"#DejaVuSans-30\"/>\n       <use xlink:href=\"#DejaVuSans-2e\" x=\"63.623047\"/>\n       <use xlink:href=\"#DejaVuSans-30\" x=\"95.410156\"/>\n      </g>\n     </g>\n    </g>\n    <g id=\"ytick_2\">\n     <g id=\"line2d_8\">\n      <g>\n       <use xlink:href=\"#ma7e6aac0b3\" x=\"43.78125\" y=\"227.950125\" style=\"stroke: #000000; stroke-width: 0.8\"/>\n      </g>\n     </g>\n     <g id=\"text_9\">\n      <!-- 0.2 -->\n      <g transform=\"translate(20.878125 231.749344) scale(0.1 -0.1)\">\n       <use xlink:href=\"#DejaVuSans-30\"/>\n       <use xlink:href=\"#DejaVuSans-2e\" x=\"63.623047\"/>\n       <use xlink:href=\"#DejaVuSans-32\" x=\"95.410156\"/>\n      </g>\n     </g>\n    </g>\n    <g id=\"ytick_3\">\n     <g id=\"line2d_9\">\n      <g>\n       <use xlink:href=\"#ma7e6aac0b3\" x=\"43.78125\" y=\"179.566125\" style=\"stroke: #000000; stroke-width: 0.8\"/>\n      </g>\n     </g>\n     <g id=\"text_10\">\n      <!-- 0.4 -->\n      <g transform=\"translate(20.878125 183.365344) scale(0.1 -0.1)\">\n       <use xlink:href=\"#DejaVuSans-30\"/>\n       <use xlink:href=\"#DejaVuSans-2e\" x=\"63.623047\"/>\n       <use xlink:href=\"#DejaVuSans-34\" x=\"95.410156\"/>\n      </g>\n     </g>\n    </g>\n    <g id=\"ytick_4\">\n     <g id=\"line2d_10\">\n      <g>\n       <use xlink:href=\"#ma7e6aac0b3\" x=\"43.78125\" y=\"131.182125\" style=\"stroke: #000000; stroke-width: 0.8\"/>\n      </g>\n     </g>\n     <g id=\"text_11\">\n      <!-- 0.6 -->\n      <g transform=\"translate(20.878125 134.981344) scale(0.1 -0.1)\">\n       <use xlink:href=\"#DejaVuSans-30\"/>\n       <use xlink:href=\"#DejaVuSans-2e\" x=\"63.623047\"/>\n       <use xlink:href=\"#DejaVuSans-36\" x=\"95.410156\"/>\n      </g>\n     </g>\n    </g>\n    <g id=\"ytick_5\">\n     <g id=\"line2d_11\">\n      <g>\n       <use xlink:href=\"#ma7e6aac0b3\" x=\"43.78125\" y=\"82.798125\" style=\"stroke: #000000; stroke-width: 0.8\"/>\n      </g>\n     </g>\n     <g id=\"text_12\">\n      <!-- 0.8 -->\n      <g transform=\"translate(20.878125 86.597344) scale(0.1 -0.1)\">\n       <use xlink:href=\"#DejaVuSans-30\"/>\n       <use xlink:href=\"#DejaVuSans-2e\" x=\"63.623047\"/>\n       <use xlink:href=\"#DejaVuSans-38\" x=\"95.410156\"/>\n      </g>\n     </g>\n    </g>\n    <g id=\"ytick_6\">\n     <g id=\"line2d_12\">\n      <g>\n       <use xlink:href=\"#ma7e6aac0b3\" x=\"43.78125\" y=\"34.414125\" style=\"stroke: #000000; stroke-width: 0.8\"/>\n      </g>\n     </g>\n     <g id=\"text_13\">\n      <!-- 1.0 -->\n      <g transform=\"translate(20.878125 38.213344) scale(0.1 -0.1)\">\n       <use xlink:href=\"#DejaVuSans-31\"/>\n       <use xlink:href=\"#DejaVuSans-2e\" x=\"63.623047\"/>\n       <use xlink:href=\"#DejaVuSans-30\" x=\"95.410156\"/>\n      </g>\n     </g>\n    </g>\n    <g id=\"text_14\">\n     <!-- True Positive Rate -->\n     <g transform=\"translate(14.798438 199.903812) rotate(-90) scale(0.1 -0.1)\">\n      <defs>\n       <path id=\"DejaVuSans-54\" d=\"M -19 4666 \nL 3928 4666 \nL 3928 4134 \nL 2272 4134 \nL 2272 0 \nL 1638 0 \nL 1638 4134 \nL -19 4134 \nL -19 4666 \nz\n\" transform=\"scale(0.015625)\"/>\n       <path id=\"DejaVuSans-72\" d=\"M 2631 2963 \nQ 2534 3019 2420 3045 \nQ 2306 3072 2169 3072 \nQ 1681 3072 1420 2755 \nQ 1159 2438 1159 1844 \nL 1159 0 \nL 581 0 \nL 581 3500 \nL 1159 3500 \nL 1159 2956 \nQ 1341 3275 1631 3429 \nQ 1922 3584 2338 3584 \nQ 2397 3584 2469 3576 \nQ 2541 3569 2628 3553 \nL 2631 2963 \nz\n\" transform=\"scale(0.015625)\"/>\n       <path id=\"DejaVuSans-75\" d=\"M 544 1381 \nL 544 3500 \nL 1119 3500 \nL 1119 1403 \nQ 1119 906 1312 657 \nQ 1506 409 1894 409 \nQ 2359 409 2629 706 \nQ 2900 1003 2900 1516 \nL 2900 3500 \nL 3475 3500 \nL 3475 0 \nL 2900 0 \nL 2900 538 \nQ 2691 219 2414 64 \nQ 2138 -91 1772 -91 \nQ 1169 -91 856 284 \nQ 544 659 544 1381 \nz\nM 1991 3584 \nL 1991 3584 \nz\n\" transform=\"scale(0.015625)\"/>\n      </defs>\n      <use xlink:href=\"#DejaVuSans-54\"/>\n      <use xlink:href=\"#DejaVuSans-72\" x=\"46.333984\"/>\n      <use xlink:href=\"#DejaVuSans-75\" x=\"87.447266\"/>\n      <use xlink:href=\"#DejaVuSans-65\" x=\"150.826172\"/>\n      <use xlink:href=\"#DejaVuSans-20\" x=\"212.349609\"/>\n      <use xlink:href=\"#DejaVuSans-50\" x=\"244.136719\"/>\n      <use xlink:href=\"#DejaVuSans-6f\" x=\"300.814453\"/>\n      <use xlink:href=\"#DejaVuSans-73\" x=\"361.996094\"/>\n      <use xlink:href=\"#DejaVuSans-69\" x=\"414.095703\"/>\n      <use xlink:href=\"#DejaVuSans-74\" x=\"441.878906\"/>\n      <use xlink:href=\"#DejaVuSans-69\" x=\"481.087891\"/>\n      <use xlink:href=\"#DejaVuSans-76\" x=\"508.871094\"/>\n      <use xlink:href=\"#DejaVuSans-65\" x=\"568.050781\"/>\n      <use xlink:href=\"#DejaVuSans-20\" x=\"629.574219\"/>\n      <use xlink:href=\"#DejaVuSans-52\" x=\"661.361328\"/>\n      <use xlink:href=\"#DejaVuSans-61\" x=\"728.59375\"/>\n      <use xlink:href=\"#DejaVuSans-74\" x=\"789.873047\"/>\n      <use xlink:href=\"#DejaVuSans-65\" x=\"829.082031\"/>\n     </g>\n    </g>\n   </g>\n   <g id=\"line2d_13\">\n    <path d=\"M 60.013977 276.334125 \nL 60.013977 274.134852 \nL 60.013977 232.34867 \nL 62.366546 232.34867 \nL 62.366546 223.55158 \nL 64.719116 223.55158 \nL 64.719116 219.153034 \nL 67.071685 219.153034 \nL 67.071685 216.953761 \nL 69.424254 216.953761 \nL 69.424254 214.754489 \nL 71.776823 214.754489 \nL 71.776823 188.363216 \nL 74.129392 188.363216 \nL 74.129392 161.971943 \nL 76.481961 161.971943 \nL 76.481961 157.573398 \nL 78.834531 157.573398 \nL 78.834531 155.374125 \nL 81.1871 155.374125 \nL 81.1871 153.174852 \nL 83.539669 153.174852 \nL 83.539669 150.97558 \nL 85.892238 150.97558 \nL 85.892238 133.381398 \nL 90.597376 133.381398 \nL 90.597376 124.584307 \nL 95.302515 124.584307 \nL 95.302515 122.385034 \nL 97.655084 122.385034 \nL 97.655084 117.986489 \nL 102.360222 117.986489 \nL 102.360222 113.587943 \nL 104.712792 113.587943 \nL 104.712792 106.990125 \nL 107.065361 106.990125 \nL 107.065361 104.790852 \nL 109.41793 104.790852 \nL 109.41793 98.193034 \nL 118.828207 98.193034 \nL 118.828207 91.595216 \nL 125.885914 91.595216 \nL 125.885914 89.395943 \nL 128.238483 89.395943 \nL 128.238483 87.19667 \nL 130.591052 87.19667 \nL 130.591052 84.997398 \nL 132.943622 84.997398 \nL 132.943622 82.798125 \nL 135.296191 82.798125 \nL 135.296191 80.598852 \nL 154.116744 80.598852 \nL 154.116744 78.39958 \nL 158.821882 78.39958 \nL 158.821882 76.200307 \nL 161.174452 76.200307 \nL 161.174452 74.001034 \nL 163.527021 74.001034 \nL 163.527021 71.801761 \nL 172.937297 71.801761 \nL 172.937297 67.403216 \nL 175.289867 67.403216 \nL 175.289867 65.203943 \nL 179.995005 65.203943 \nL 179.995005 63.00467 \nL 198.815558 63.00467 \nL 198.815558 60.805398 \nL 201.168127 60.805398 \nL 201.168127 58.606125 \nL 203.520697 58.606125 \nL 203.520697 56.406852 \nL 281.155479 56.406852 \nL 281.155479 54.20758 \nL 285.860618 54.20758 \nL 285.860618 52.008307 \nL 292.918325 52.008307 \nL 292.918325 49.809034 \nL 299.976033 49.809034 \nL 299.976033 47.609761 \nL 309.386309 47.609761 \nL 309.386309 43.211216 \nL 318.796586 43.211216 \nL 318.796586 41.011943 \nL 325.854293 41.011943 \nL 325.854293 38.81267 \nL 332.912001 38.81267 \nL 332.912001 36.613398 \nL 372.905677 36.613398 \nL 372.905677 34.414125 \nL 384.668523 34.414125 \n\" clip-path=\"url(#p2ad3214a26)\" style=\"fill: none; stroke: #0000ff; stroke-width: 2; stroke-linecap: square\"/>\n   </g>\n   <g id=\"line2d_14\">\n    <path d=\"M 60.013977 276.334125 \nL 60.013977 273.064936 \nL 63.542831 273.064936 \nL 63.542831 256.71899 \nL 70.600539 256.71899 \nL 70.600539 204.411963 \nL 74.129392 204.411963 \nL 74.129392 194.604395 \nL 77.658246 194.604395 \nL 77.658246 178.258449 \nL 81.1871 178.258449 \nL 81.1871 171.720071 \nL 88.244807 171.720071 \nL 88.244807 155.374125 \nL 95.302515 155.374125 \nL 95.302515 152.104936 \nL 98.831369 152.104936 \nL 98.831369 142.297368 \nL 105.889076 142.297368 \nL 105.889076 139.028179 \nL 109.41793 139.028179 \nL 109.41793 116.143855 \nL 112.946784 116.143855 \nL 112.946784 112.874666 \nL 116.475637 112.874666 \nL 116.475637 109.605476 \nL 120.004491 109.605476 \nL 120.004491 106.336287 \nL 123.533345 106.336287 \nL 123.533345 103.067098 \nL 137.64876 103.067098 \nL 137.64876 99.797909 \nL 141.177614 99.797909 \nL 141.177614 96.52872 \nL 148.235321 96.52872 \nL 148.235321 93.25953 \nL 151.764175 93.25953 \nL 151.764175 83.451963 \nL 155.293029 83.451963 \nL 155.293029 80.182774 \nL 169.408444 80.182774 \nL 169.408444 73.644395 \nL 172.937297 73.644395 \nL 172.937297 70.375206 \nL 204.696981 70.375206 \nL 204.696981 63.836828 \nL 222.34125 63.836828 \nL 222.34125 57.298449 \nL 261.158641 57.298449 \nL 261.158641 50.760071 \nL 264.687495 50.760071 \nL 264.687495 47.490882 \nL 338.793424 47.490882 \nL 338.793424 40.952503 \nL 374.081961 40.952503 \nL 374.081961 37.683314 \nL 377.610815 37.683314 \nL 377.610815 34.414125 \nL 384.668523 34.414125 \n\" clip-path=\"url(#p2ad3214a26)\" style=\"fill: none; stroke: #ff8c00; stroke-width: 2; stroke-linecap: square\"/>\n   </g>\n   <g id=\"line2d_15\">\n    <path d=\"M 60.013977 276.334125 \nL 384.668523 34.414125 \n\" clip-path=\"url(#p2ad3214a26)\" style=\"fill: none; stroke-dasharray: 7.4,3.2; stroke-dashoffset: 0; stroke: #000080; stroke-width: 2\"/>\n   </g>\n   <g id=\"patch_3\">\n    <path d=\"M 43.78125 288.430125 \nL 43.78125 22.318125 \n\" style=\"fill: none; stroke: #000000; stroke-width: 0.8; stroke-linejoin: miter; stroke-linecap: square\"/>\n   </g>\n   <g id=\"patch_4\">\n    <path d=\"M 400.90125 288.430125 \nL 400.90125 22.318125 \n\" style=\"fill: none; stroke: #000000; stroke-width: 0.8; stroke-linejoin: miter; stroke-linecap: square\"/>\n   </g>\n   <g id=\"patch_5\">\n    <path d=\"M 43.78125 288.430125 \nL 400.90125 288.430125 \n\" style=\"fill: none; stroke: #000000; stroke-width: 0.8; stroke-linejoin: miter; stroke-linecap: square\"/>\n   </g>\n   <g id=\"patch_6\">\n    <path d=\"M 43.78125 22.318125 \nL 400.90125 22.318125 \n\" style=\"fill: none; stroke: #000000; stroke-width: 0.8; stroke-linejoin: miter; stroke-linecap: square\"/>\n   </g>\n   <g id=\"text_15\">\n    <!-- ROC Curve (SVC) -->\n    <g transform=\"translate(170.95875 16.318125) scale(0.12 -0.12)\">\n     <defs>\n      <path id=\"DejaVuSans-4f\" d=\"M 2522 4238 \nQ 1834 4238 1429 3725 \nQ 1025 3213 1025 2328 \nQ 1025 1447 1429 934 \nQ 1834 422 2522 422 \nQ 3209 422 3611 934 \nQ 4013 1447 4013 2328 \nQ 4013 3213 3611 3725 \nQ 3209 4238 2522 4238 \nz\nM 2522 4750 \nQ 3503 4750 4090 4092 \nQ 4678 3434 4678 2328 \nQ 4678 1225 4090 567 \nQ 3503 -91 2522 -91 \nQ 1538 -91 948 565 \nQ 359 1222 359 2328 \nQ 359 3434 948 4092 \nQ 1538 4750 2522 4750 \nz\n\" transform=\"scale(0.015625)\"/>\n      <path id=\"DejaVuSans-43\" d=\"M 4122 4306 \nL 4122 3641 \nQ 3803 3938 3442 4084 \nQ 3081 4231 2675 4231 \nQ 1875 4231 1450 3742 \nQ 1025 3253 1025 2328 \nQ 1025 1406 1450 917 \nQ 1875 428 2675 428 \nQ 3081 428 3442 575 \nQ 3803 722 4122 1019 \nL 4122 359 \nQ 3791 134 3420 21 \nQ 3050 -91 2638 -91 \nQ 1578 -91 968 557 \nQ 359 1206 359 2328 \nQ 359 3453 968 4101 \nQ 1578 4750 2638 4750 \nQ 3056 4750 3426 4639 \nQ 3797 4528 4122 4306 \nz\n\" transform=\"scale(0.015625)\"/>\n      <path id=\"DejaVuSans-28\" d=\"M 1984 4856 \nQ 1566 4138 1362 3434 \nQ 1159 2731 1159 2009 \nQ 1159 1288 1364 580 \nQ 1569 -128 1984 -844 \nL 1484 -844 \nQ 1016 -109 783 600 \nQ 550 1309 550 2009 \nQ 550 2706 781 3412 \nQ 1013 4119 1484 4856 \nL 1984 4856 \nz\n\" transform=\"scale(0.015625)\"/>\n      <path id=\"DejaVuSans-53\" d=\"M 3425 4513 \nL 3425 3897 \nQ 3066 4069 2747 4153 \nQ 2428 4238 2131 4238 \nQ 1616 4238 1336 4038 \nQ 1056 3838 1056 3469 \nQ 1056 3159 1242 3001 \nQ 1428 2844 1947 2747 \nL 2328 2669 \nQ 3034 2534 3370 2195 \nQ 3706 1856 3706 1288 \nQ 3706 609 3251 259 \nQ 2797 -91 1919 -91 \nQ 1588 -91 1214 -16 \nQ 841 59 441 206 \nL 441 856 \nQ 825 641 1194 531 \nQ 1563 422 1919 422 \nQ 2459 422 2753 634 \nQ 3047 847 3047 1241 \nQ 3047 1584 2836 1778 \nQ 2625 1972 2144 2069 \nL 1759 2144 \nQ 1053 2284 737 2584 \nQ 422 2884 422 3419 \nQ 422 4038 858 4394 \nQ 1294 4750 2059 4750 \nQ 2388 4750 2728 4690 \nQ 3069 4631 3425 4513 \nz\n\" transform=\"scale(0.015625)\"/>\n      <path id=\"DejaVuSans-56\" d=\"M 1831 0 \nL 50 4666 \nL 709 4666 \nL 2188 738 \nL 3669 4666 \nL 4325 4666 \nL 2547 0 \nL 1831 0 \nz\n\" transform=\"scale(0.015625)\"/>\n      <path id=\"DejaVuSans-29\" d=\"M 513 4856 \nL 1013 4856 \nQ 1481 4119 1714 3412 \nQ 1947 2706 1947 2009 \nQ 1947 1309 1714 600 \nQ 1481 -109 1013 -844 \nL 513 -844 \nQ 928 -128 1133 580 \nQ 1338 1288 1338 2009 \nQ 1338 2731 1133 3434 \nQ 928 4138 513 4856 \nz\n\" transform=\"scale(0.015625)\"/>\n     </defs>\n     <use xlink:href=\"#DejaVuSans-52\"/>\n     <use xlink:href=\"#DejaVuSans-4f\" x=\"69.482422\"/>\n     <use xlink:href=\"#DejaVuSans-43\" x=\"148.193359\"/>\n     <use xlink:href=\"#DejaVuSans-20\" x=\"218.017578\"/>\n     <use xlink:href=\"#DejaVuSans-43\" x=\"249.804688\"/>\n     <use xlink:href=\"#DejaVuSans-75\" x=\"319.628906\"/>\n     <use xlink:href=\"#DejaVuSans-72\" x=\"383.007812\"/>\n     <use xlink:href=\"#DejaVuSans-76\" x=\"424.121094\"/>\n     <use xlink:href=\"#DejaVuSans-65\" x=\"483.300781\"/>\n     <use xlink:href=\"#DejaVuSans-20\" x=\"544.824219\"/>\n     <use xlink:href=\"#DejaVuSans-28\" x=\"576.611328\"/>\n     <use xlink:href=\"#DejaVuSans-53\" x=\"615.625\"/>\n     <use xlink:href=\"#DejaVuSans-56\" x=\"679.101562\"/>\n     <use xlink:href=\"#DejaVuSans-43\" x=\"747.509766\"/>\n     <use xlink:href=\"#DejaVuSans-29\" x=\"817.333984\"/>\n    </g>\n   </g>\n   <g id=\"legend_1\">\n    <g id=\"patch_7\">\n     <path d=\"M 50.78125 59.674375 \nL 164.43125 59.674375 \nQ 166.43125 59.674375 166.43125 57.674375 \nL 166.43125 29.318125 \nQ 166.43125 27.318125 164.43125 27.318125 \nL 50.78125 27.318125 \nQ 48.78125 27.318125 48.78125 29.318125 \nL 48.78125 57.674375 \nQ 48.78125 59.674375 50.78125 59.674375 \nz\n\" style=\"fill: #ffffff; opacity: 0.8; stroke: #cccccc; stroke-linejoin: miter\"/>\n    </g>\n    <g id=\"line2d_16\">\n     <path d=\"M 52.78125 35.416562 \nL 62.78125 35.416562 \nL 72.78125 35.416562 \n\" style=\"fill: none; stroke: #0000ff; stroke-width: 2; stroke-linecap: square\"/>\n    </g>\n    <g id=\"text_16\">\n     <!-- ROC Curve Train -->\n     <g transform=\"translate(80.78125 38.916562) scale(0.1 -0.1)\">\n      <defs>\n       <path id=\"DejaVuSans-6e\" d=\"M 3513 2113 \nL 3513 0 \nL 2938 0 \nL 2938 2094 \nQ 2938 2591 2744 2837 \nQ 2550 3084 2163 3084 \nQ 1697 3084 1428 2787 \nQ 1159 2491 1159 1978 \nL 1159 0 \nL 581 0 \nL 581 3500 \nL 1159 3500 \nL 1159 2956 \nQ 1366 3272 1645 3428 \nQ 1925 3584 2291 3584 \nQ 2894 3584 3203 3211 \nQ 3513 2838 3513 2113 \nz\n\" transform=\"scale(0.015625)\"/>\n      </defs>\n      <use xlink:href=\"#DejaVuSans-52\"/>\n      <use xlink:href=\"#DejaVuSans-4f\" x=\"69.482422\"/>\n      <use xlink:href=\"#DejaVuSans-43\" x=\"148.193359\"/>\n      <use xlink:href=\"#DejaVuSans-20\" x=\"218.017578\"/>\n      <use xlink:href=\"#DejaVuSans-43\" x=\"249.804688\"/>\n      <use xlink:href=\"#DejaVuSans-75\" x=\"319.628906\"/>\n      <use xlink:href=\"#DejaVuSans-72\" x=\"383.007812\"/>\n      <use xlink:href=\"#DejaVuSans-76\" x=\"424.121094\"/>\n      <use xlink:href=\"#DejaVuSans-65\" x=\"483.300781\"/>\n      <use xlink:href=\"#DejaVuSans-20\" x=\"544.824219\"/>\n      <use xlink:href=\"#DejaVuSans-54\" x=\"576.611328\"/>\n      <use xlink:href=\"#DejaVuSans-72\" x=\"622.945312\"/>\n      <use xlink:href=\"#DejaVuSans-61\" x=\"664.058594\"/>\n      <use xlink:href=\"#DejaVuSans-69\" x=\"725.337891\"/>\n      <use xlink:href=\"#DejaVuSans-6e\" x=\"753.121094\"/>\n     </g>\n    </g>\n    <g id=\"line2d_17\">\n     <path d=\"M 52.78125 50.094687 \nL 62.78125 50.094687 \nL 72.78125 50.094687 \n\" style=\"fill: none; stroke: #ff8c00; stroke-width: 2; stroke-linecap: square\"/>\n    </g>\n    <g id=\"text_17\">\n     <!-- ROC Curve Test -->\n     <g transform=\"translate(80.78125 53.594687) scale(0.1 -0.1)\">\n      <use xlink:href=\"#DejaVuSans-52\"/>\n      <use xlink:href=\"#DejaVuSans-4f\" x=\"69.482422\"/>\n      <use xlink:href=\"#DejaVuSans-43\" x=\"148.193359\"/>\n      <use xlink:href=\"#DejaVuSans-20\" x=\"218.017578\"/>\n      <use xlink:href=\"#DejaVuSans-43\" x=\"249.804688\"/>\n      <use xlink:href=\"#DejaVuSans-75\" x=\"319.628906\"/>\n      <use xlink:href=\"#DejaVuSans-72\" x=\"383.007812\"/>\n      <use xlink:href=\"#DejaVuSans-76\" x=\"424.121094\"/>\n      <use xlink:href=\"#DejaVuSans-65\" x=\"483.300781\"/>\n      <use xlink:href=\"#DejaVuSans-20\" x=\"544.824219\"/>\n      <use xlink:href=\"#DejaVuSans-54\" x=\"576.611328\"/>\n      <use xlink:href=\"#DejaVuSans-65\" x=\"620.695312\"/>\n      <use xlink:href=\"#DejaVuSans-73\" x=\"682.21875\"/>\n      <use xlink:href=\"#DejaVuSans-74\" x=\"734.318359\"/>\n     </g>\n    </g>\n   </g>\n  </g>\n </g>\n <defs>\n  <clipPath id=\"p2ad3214a26\">\n   <rect x=\"43.78125\" y=\"22.318125\" width=\"357.12\" height=\"266.112\"/>\n  </clipPath>\n </defs>\n</svg>\n"
          },
          "metadata": {}
        },
        {
          "output_type": "stream",
          "name": "stdout",
          "text": [
            "Optimal Threshold: 0.30\n",
            "Optimal Training Precision: 0.68\n",
            "Optimal Training Recall: 0.83\n",
            "Optimal Test Precision: 0.69\n",
            "Optimal Test Recall: 0.81\n"
          ]
        }
      ],
      "source": [
        "metrics_svm_not_linear  = calculate_metrics_and_plot_roc(best_svm_model, X_train, y_train, X_test, y_test)"
      ]
    },
    {
      "cell_type": "markdown",
      "metadata": {
        "id": "3jVP1cnIBVqN"
      },
      "source": [
        "**Соберем все результаты в одну таблицу, чтобы было проще сравнивать алгоритмы**"
      ]
    },
    {
      "cell_type": "code",
      "execution_count": 42,
      "metadata": {
        "id": "wvhYN6AT9vPm"
      },
      "outputs": [],
      "source": [
        "metrics_svm_not_linear['metrics'] = ['metrics_svm_not_linear' for i in range(6)]\n",
        "\n",
        "metrics_svm_linear['metrics'] = ['metrics_svm_linear' for i in range(6)]\n",
        "\n",
        "metrics_logreg['metrics'] = ['metrics_logreg' for i in range(6)]\n",
        "metrics_knn['metrics'] = ['metrics_knn' for i in range(6)]"
      ]
    },
    {
      "cell_type": "code",
      "execution_count": 43,
      "metadata": {
        "id": "tZ3k5ziL-Jlq"
      },
      "outputs": [],
      "source": [
        "df_stat = pd.concat([pd.DataFrame(metrics_svm_not_linear),\n",
        "                    pd.DataFrame(metrics_svm_linear),\n",
        "                    pd.DataFrame(metrics_logreg),\n",
        "                    pd.DataFrame(metrics_knn)])"
      ]
    },
    {
      "cell_type": "code",
      "execution_count": 44,
      "metadata": {
        "id": "lFXmaWSa-caM",
        "colab": {
          "base_uri": "https://localhost:8080/",
          "height": 195
        },
        "outputId": "dd7af52e-af2d-4ebc-925c-0c1c2c32b102"
      },
      "outputs": [
        {
          "output_type": "execute_result",
          "data": {
            "text/plain": [
              "params                 metrics  Test_Precision  Training_Precision  \\\n",
              "0                  metrics_knn         0.64211             0.63265   \n",
              "1               metrics_logreg         0.62617             0.55932   \n",
              "2           metrics_svm_linear         0.68889             0.61184   \n",
              "3       metrics_svm_not_linear         0.68966             0.68421   \n",
              "\n",
              "params  Test_Recall  Training_Recall  ROC_AUC_Train  ROC_AUC_Test  \\\n",
              "0           0.82432          0.84545        0.81357       0.79032   \n",
              "1           0.90541          0.90000        0.79147       0.79150   \n",
              "2           0.83784          0.84545        0.79677       0.78621   \n",
              "3           0.81081          0.82727        0.84216       0.80699   \n",
              "\n",
              "params  dif_Precision  dif_Recall  \n",
              "0             0.01000    -0.02000  \n",
              "1             0.12000     0.01000  \n",
              "2             0.13000    -0.01000  \n",
              "3             0.01000    -0.02000  "
            ],
            "text/html": [
              "\n",
              "  <div id=\"df-a34d311b-f2cc-4fd8-9569-a93d0f855739\" class=\"colab-df-container\">\n",
              "    <div>\n",
              "<style scoped>\n",
              "    .dataframe tbody tr th:only-of-type {\n",
              "        vertical-align: middle;\n",
              "    }\n",
              "\n",
              "    .dataframe tbody tr th {\n",
              "        vertical-align: top;\n",
              "    }\n",
              "\n",
              "    .dataframe thead th {\n",
              "        text-align: right;\n",
              "    }\n",
              "</style>\n",
              "<table border=\"1\" class=\"dataframe\">\n",
              "  <thead>\n",
              "    <tr style=\"text-align: right;\">\n",
              "      <th>params</th>\n",
              "      <th>metrics</th>\n",
              "      <th>Test_Precision</th>\n",
              "      <th>Training_Precision</th>\n",
              "      <th>Test_Recall</th>\n",
              "      <th>Training_Recall</th>\n",
              "      <th>ROC_AUC_Train</th>\n",
              "      <th>ROC_AUC_Test</th>\n",
              "      <th>dif_Precision</th>\n",
              "      <th>dif_Recall</th>\n",
              "    </tr>\n",
              "  </thead>\n",
              "  <tbody>\n",
              "    <tr>\n",
              "      <th>0</th>\n",
              "      <td>metrics_knn</td>\n",
              "      <td>0.64211</td>\n",
              "      <td>0.63265</td>\n",
              "      <td>0.82432</td>\n",
              "      <td>0.84545</td>\n",
              "      <td>0.81357</td>\n",
              "      <td>0.79032</td>\n",
              "      <td>0.01000</td>\n",
              "      <td>-0.02000</td>\n",
              "    </tr>\n",
              "    <tr>\n",
              "      <th>1</th>\n",
              "      <td>metrics_logreg</td>\n",
              "      <td>0.62617</td>\n",
              "      <td>0.55932</td>\n",
              "      <td>0.90541</td>\n",
              "      <td>0.90000</td>\n",
              "      <td>0.79147</td>\n",
              "      <td>0.79150</td>\n",
              "      <td>0.12000</td>\n",
              "      <td>0.01000</td>\n",
              "    </tr>\n",
              "    <tr>\n",
              "      <th>2</th>\n",
              "      <td>metrics_svm_linear</td>\n",
              "      <td>0.68889</td>\n",
              "      <td>0.61184</td>\n",
              "      <td>0.83784</td>\n",
              "      <td>0.84545</td>\n",
              "      <td>0.79677</td>\n",
              "      <td>0.78621</td>\n",
              "      <td>0.13000</td>\n",
              "      <td>-0.01000</td>\n",
              "    </tr>\n",
              "    <tr>\n",
              "      <th>3</th>\n",
              "      <td>metrics_svm_not_linear</td>\n",
              "      <td>0.68966</td>\n",
              "      <td>0.68421</td>\n",
              "      <td>0.81081</td>\n",
              "      <td>0.82727</td>\n",
              "      <td>0.84216</td>\n",
              "      <td>0.80699</td>\n",
              "      <td>0.01000</td>\n",
              "      <td>-0.02000</td>\n",
              "    </tr>\n",
              "  </tbody>\n",
              "</table>\n",
              "</div>\n",
              "    <div class=\"colab-df-buttons\">\n",
              "\n",
              "  <div class=\"colab-df-container\">\n",
              "    <button class=\"colab-df-convert\" onclick=\"convertToInteractive('df-a34d311b-f2cc-4fd8-9569-a93d0f855739')\"\n",
              "            title=\"Convert this dataframe to an interactive table.\"\n",
              "            style=\"display:none;\">\n",
              "\n",
              "  <svg xmlns=\"http://www.w3.org/2000/svg\" height=\"24px\" viewBox=\"0 -960 960 960\">\n",
              "    <path d=\"M120-120v-720h720v720H120Zm60-500h600v-160H180v160Zm220 220h160v-160H400v160Zm0 220h160v-160H400v160ZM180-400h160v-160H180v160Zm440 0h160v-160H620v160ZM180-180h160v-160H180v160Zm440 0h160v-160H620v160Z\"/>\n",
              "  </svg>\n",
              "    </button>\n",
              "\n",
              "  <style>\n",
              "    .colab-df-container {\n",
              "      display:flex;\n",
              "      gap: 12px;\n",
              "    }\n",
              "\n",
              "    .colab-df-convert {\n",
              "      background-color: #E8F0FE;\n",
              "      border: none;\n",
              "      border-radius: 50%;\n",
              "      cursor: pointer;\n",
              "      display: none;\n",
              "      fill: #1967D2;\n",
              "      height: 32px;\n",
              "      padding: 0 0 0 0;\n",
              "      width: 32px;\n",
              "    }\n",
              "\n",
              "    .colab-df-convert:hover {\n",
              "      background-color: #E2EBFA;\n",
              "      box-shadow: 0px 1px 2px rgba(60, 64, 67, 0.3), 0px 1px 3px 1px rgba(60, 64, 67, 0.15);\n",
              "      fill: #174EA6;\n",
              "    }\n",
              "\n",
              "    .colab-df-buttons div {\n",
              "      margin-bottom: 4px;\n",
              "    }\n",
              "\n",
              "    [theme=dark] .colab-df-convert {\n",
              "      background-color: #3B4455;\n",
              "      fill: #D2E3FC;\n",
              "    }\n",
              "\n",
              "    [theme=dark] .colab-df-convert:hover {\n",
              "      background-color: #434B5C;\n",
              "      box-shadow: 0px 1px 3px 1px rgba(0, 0, 0, 0.15);\n",
              "      filter: drop-shadow(0px 1px 2px rgba(0, 0, 0, 0.3));\n",
              "      fill: #FFFFFF;\n",
              "    }\n",
              "  </style>\n",
              "\n",
              "    <script>\n",
              "      const buttonEl =\n",
              "        document.querySelector('#df-a34d311b-f2cc-4fd8-9569-a93d0f855739 button.colab-df-convert');\n",
              "      buttonEl.style.display =\n",
              "        google.colab.kernel.accessAllowed ? 'block' : 'none';\n",
              "\n",
              "      async function convertToInteractive(key) {\n",
              "        const element = document.querySelector('#df-a34d311b-f2cc-4fd8-9569-a93d0f855739');\n",
              "        const dataTable =\n",
              "          await google.colab.kernel.invokeFunction('convertToInteractive',\n",
              "                                                    [key], {});\n",
              "        if (!dataTable) return;\n",
              "\n",
              "        const docLinkHtml = 'Like what you see? Visit the ' +\n",
              "          '<a target=\"_blank\" href=https://colab.research.google.com/notebooks/data_table.ipynb>data table notebook</a>'\n",
              "          + ' to learn more about interactive tables.';\n",
              "        element.innerHTML = '';\n",
              "        dataTable['output_type'] = 'display_data';\n",
              "        await google.colab.output.renderOutput(dataTable, element);\n",
              "        const docLink = document.createElement('div');\n",
              "        docLink.innerHTML = docLinkHtml;\n",
              "        element.appendChild(docLink);\n",
              "      }\n",
              "    </script>\n",
              "  </div>\n",
              "\n",
              "\n",
              "<div id=\"df-78ceebe5-23a8-48b6-8de5-8537ed1f97fb\">\n",
              "  <button class=\"colab-df-quickchart\" onclick=\"quickchart('df-78ceebe5-23a8-48b6-8de5-8537ed1f97fb')\"\n",
              "            title=\"Suggest charts\"\n",
              "            style=\"display:none;\">\n",
              "\n",
              "<svg xmlns=\"http://www.w3.org/2000/svg\" height=\"24px\"viewBox=\"0 0 24 24\"\n",
              "     width=\"24px\">\n",
              "    <g>\n",
              "        <path d=\"M19 3H5c-1.1 0-2 .9-2 2v14c0 1.1.9 2 2 2h14c1.1 0 2-.9 2-2V5c0-1.1-.9-2-2-2zM9 17H7v-7h2v7zm4 0h-2V7h2v10zm4 0h-2v-4h2v4z\"/>\n",
              "    </g>\n",
              "</svg>\n",
              "  </button>\n",
              "\n",
              "<style>\n",
              "  .colab-df-quickchart {\n",
              "      --bg-color: #E8F0FE;\n",
              "      --fill-color: #1967D2;\n",
              "      --hover-bg-color: #E2EBFA;\n",
              "      --hover-fill-color: #174EA6;\n",
              "      --disabled-fill-color: #AAA;\n",
              "      --disabled-bg-color: #DDD;\n",
              "  }\n",
              "\n",
              "  [theme=dark] .colab-df-quickchart {\n",
              "      --bg-color: #3B4455;\n",
              "      --fill-color: #D2E3FC;\n",
              "      --hover-bg-color: #434B5C;\n",
              "      --hover-fill-color: #FFFFFF;\n",
              "      --disabled-bg-color: #3B4455;\n",
              "      --disabled-fill-color: #666;\n",
              "  }\n",
              "\n",
              "  .colab-df-quickchart {\n",
              "    background-color: var(--bg-color);\n",
              "    border: none;\n",
              "    border-radius: 50%;\n",
              "    cursor: pointer;\n",
              "    display: none;\n",
              "    fill: var(--fill-color);\n",
              "    height: 32px;\n",
              "    padding: 0;\n",
              "    width: 32px;\n",
              "  }\n",
              "\n",
              "  .colab-df-quickchart:hover {\n",
              "    background-color: var(--hover-bg-color);\n",
              "    box-shadow: 0 1px 2px rgba(60, 64, 67, 0.3), 0 1px 3px 1px rgba(60, 64, 67, 0.15);\n",
              "    fill: var(--button-hover-fill-color);\n",
              "  }\n",
              "\n",
              "  .colab-df-quickchart-complete:disabled,\n",
              "  .colab-df-quickchart-complete:disabled:hover {\n",
              "    background-color: var(--disabled-bg-color);\n",
              "    fill: var(--disabled-fill-color);\n",
              "    box-shadow: none;\n",
              "  }\n",
              "\n",
              "  .colab-df-spinner {\n",
              "    border: 2px solid var(--fill-color);\n",
              "    border-color: transparent;\n",
              "    border-bottom-color: var(--fill-color);\n",
              "    animation:\n",
              "      spin 1s steps(1) infinite;\n",
              "  }\n",
              "\n",
              "  @keyframes spin {\n",
              "    0% {\n",
              "      border-color: transparent;\n",
              "      border-bottom-color: var(--fill-color);\n",
              "      border-left-color: var(--fill-color);\n",
              "    }\n",
              "    20% {\n",
              "      border-color: transparent;\n",
              "      border-left-color: var(--fill-color);\n",
              "      border-top-color: var(--fill-color);\n",
              "    }\n",
              "    30% {\n",
              "      border-color: transparent;\n",
              "      border-left-color: var(--fill-color);\n",
              "      border-top-color: var(--fill-color);\n",
              "      border-right-color: var(--fill-color);\n",
              "    }\n",
              "    40% {\n",
              "      border-color: transparent;\n",
              "      border-right-color: var(--fill-color);\n",
              "      border-top-color: var(--fill-color);\n",
              "    }\n",
              "    60% {\n",
              "      border-color: transparent;\n",
              "      border-right-color: var(--fill-color);\n",
              "    }\n",
              "    80% {\n",
              "      border-color: transparent;\n",
              "      border-right-color: var(--fill-color);\n",
              "      border-bottom-color: var(--fill-color);\n",
              "    }\n",
              "    90% {\n",
              "      border-color: transparent;\n",
              "      border-bottom-color: var(--fill-color);\n",
              "    }\n",
              "  }\n",
              "</style>\n",
              "\n",
              "  <script>\n",
              "    async function quickchart(key) {\n",
              "      const quickchartButtonEl =\n",
              "        document.querySelector('#' + key + ' button');\n",
              "      quickchartButtonEl.disabled = true;  // To prevent multiple clicks.\n",
              "      quickchartButtonEl.classList.add('colab-df-spinner');\n",
              "      try {\n",
              "        const charts = await google.colab.kernel.invokeFunction(\n",
              "            'suggestCharts', [key], {});\n",
              "      } catch (error) {\n",
              "        console.error('Error during call to suggestCharts:', error);\n",
              "      }\n",
              "      quickchartButtonEl.classList.remove('colab-df-spinner');\n",
              "      quickchartButtonEl.classList.add('colab-df-quickchart-complete');\n",
              "    }\n",
              "    (() => {\n",
              "      let quickchartButtonEl =\n",
              "        document.querySelector('#df-78ceebe5-23a8-48b6-8de5-8537ed1f97fb button');\n",
              "      quickchartButtonEl.style.display =\n",
              "        google.colab.kernel.accessAllowed ? 'block' : 'none';\n",
              "    })();\n",
              "  </script>\n",
              "</div>\n",
              "    </div>\n",
              "  </div>\n"
            ],
            "application/vnd.google.colaboratory.intrinsic+json": {
              "type": "dataframe",
              "variable_name": "df_stat",
              "summary": "{\n  \"name\": \"df_stat\",\n  \"rows\": 4,\n  \"fields\": [\n    {\n      \"column\": \"metrics\",\n      \"properties\": {\n        \"dtype\": \"string\",\n        \"num_unique_values\": 4,\n        \"samples\": [\n          \"metrics_logreg\",\n          \"metrics_svm_not_linear\",\n          \"metrics_knn\"\n        ],\n        \"semantic_type\": \"\",\n        \"description\": \"\"\n      }\n    },\n    {\n      \"column\": \"Test_Precision\",\n      \"properties\": {\n        \"dtype\": \"number\",\n        \"std\": 0.03249198907977365,\n        \"min\": 0.6261682242990654,\n        \"max\": 0.6896551724137931,\n        \"num_unique_values\": 4,\n        \"samples\": [\n          0.6261682242990654,\n          0.6896551724137931,\n          0.6421052631578947\n        ],\n        \"semantic_type\": \"\",\n        \"description\": \"\"\n      }\n    },\n    {\n      \"column\": \"Training_Precision\",\n      \"properties\": {\n        \"dtype\": \"number\",\n        \"std\": 0.05168928762608927,\n        \"min\": 0.559322033898305,\n        \"max\": 0.6842105263157895,\n        \"num_unique_values\": 4,\n        \"samples\": [\n          0.559322033898305,\n          0.6842105263157895,\n          0.6326530612244898\n        ],\n        \"semantic_type\": \"\",\n        \"description\": \"\"\n      }\n    },\n    {\n      \"column\": \"Test_Recall\",\n      \"properties\": {\n        \"dtype\": \"number\",\n        \"std\": 0.042015220959859496,\n        \"min\": 0.8108108108108109,\n        \"max\": 0.9054054054054054,\n        \"num_unique_values\": 4,\n        \"samples\": [\n          0.9054054054054054,\n          0.8108108108108109,\n          0.8243243243243243\n        ],\n        \"semantic_type\": \"\",\n        \"description\": \"\"\n      }\n    },\n    {\n      \"column\": \"Training_Recall\",\n      \"properties\": {\n        \"dtype\": \"number\",\n        \"std\": 0.03149183286488869,\n        \"min\": 0.8272727272727273,\n        \"max\": 0.9,\n        \"num_unique_values\": 3,\n        \"samples\": [\n          0.8454545454545455,\n          0.9,\n          0.8272727272727273\n        ],\n        \"semantic_type\": \"\",\n        \"description\": \"\"\n      }\n    },\n    {\n      \"column\": \"ROC_AUC_Train\",\n      \"properties\": {\n        \"dtype\": \"number\",\n        \"std\": 0.022814405526133914,\n        \"min\": 0.7914690382081686,\n        \"max\": 0.8421607378129117,\n        \"num_unique_values\": 4,\n        \"samples\": [\n          0.7914690382081686,\n          0.8421607378129117,\n          0.8135704874835309\n        ],\n        \"semantic_type\": \"\",\n        \"description\": \"\"\n      }\n    },\n    {\n      \"column\": \"ROC_AUC_Test\",\n      \"properties\": {\n        \"dtype\": \"number\",\n        \"std\": 0.00911194136413799,\n        \"min\": 0.7862074030552292,\n        \"max\": 0.8069917743830787,\n        \"num_unique_values\": 4,\n        \"samples\": [\n          0.7914952996474736,\n          0.8069917743830787,\n          0.7903202115158637\n        ],\n        \"semantic_type\": \"\",\n        \"description\": \"\"\n      }\n    },\n    {\n      \"column\": \"dif_Precision\",\n      \"properties\": {\n        \"dtype\": \"number\",\n        \"std\": 0.06652067347825034,\n        \"min\": 0.01,\n        \"max\": 0.13,\n        \"num_unique_values\": 3,\n        \"samples\": [\n          0.01,\n          0.12,\n          0.13\n        ],\n        \"semantic_type\": \"\",\n        \"description\": \"\"\n      }\n    },\n    {\n      \"column\": \"dif_Recall\",\n      \"properties\": {\n        \"dtype\": \"number\",\n        \"std\": 0.01414213562373095,\n        \"min\": -0.02,\n        \"max\": 0.01,\n        \"num_unique_values\": 3,\n        \"samples\": [\n          -0.02,\n          0.01,\n          -0.01\n        ],\n        \"semantic_type\": \"\",\n        \"description\": \"\"\n      }\n    }\n  ]\n}"
            }
          },
          "metadata": {},
          "execution_count": 44
        }
      ],
      "source": [
        "df_stat = df_stat.pivot_table(columns = 'params',\n",
        "                            index='metrics',\n",
        "                            values='values').reset_index()[['metrics','Test_Precision',\t'Training_Precision',\n",
        "                                                            'Test_Recall',\t'Training_Recall', 'ROC_AUC_Train', 'ROC_AUC_Test']]\n",
        "df_stat['dif_Precision'] = round((df_stat['Test_Precision'] - df_stat['Training_Precision'])/df_stat['Training_Precision'],2)\n",
        "\n",
        "df_stat['dif_Recall'] = round((df_stat['Test_Recall'] - df_stat['Training_Recall'])/df_stat['Training_Recall'],2)\n",
        "df_stat"
      ]
    },
    {
      "cell_type": "code",
      "source": [
        "df_stat['abs_dif_precision'] = abs(df_stat['dif_Precision'])"
      ],
      "metadata": {
        "id": "vJQYJY7LMIAJ"
      },
      "execution_count": 45,
      "outputs": []
    },
    {
      "cell_type": "code",
      "source": [
        "df_stat.sort_values('abs_dif_precision', ascending=True).T"
      ],
      "metadata": {
        "colab": {
          "base_uri": "https://localhost:8080/",
          "height": 394
        },
        "id": "5VJh31diL79U",
        "outputId": "649c4929-4e08-450a-8b68-caac71b5f704"
      },
      "execution_count": 46,
      "outputs": [
        {
          "output_type": "execute_result",
          "data": {
            "text/plain": [
              "                              0                       3               1  \\\n",
              "params                                                                    \n",
              "metrics             metrics_knn  metrics_svm_not_linear  metrics_logreg   \n",
              "Test_Precision          0.64211                 0.68966         0.62617   \n",
              "Training_Precision      0.63265                 0.68421         0.55932   \n",
              "Test_Recall             0.82432                 0.81081         0.90541   \n",
              "Training_Recall         0.84545                 0.82727         0.90000   \n",
              "ROC_AUC_Train           0.81357                 0.84216         0.79147   \n",
              "ROC_AUC_Test            0.79032                 0.80699         0.79150   \n",
              "dif_Precision           0.01000                 0.01000         0.12000   \n",
              "dif_Recall             -0.02000                -0.02000         0.01000   \n",
              "abs_dif_precision       0.01000                 0.01000         0.12000   \n",
              "\n",
              "                                     2  \n",
              "params                                  \n",
              "metrics             metrics_svm_linear  \n",
              "Test_Precision                 0.68889  \n",
              "Training_Precision             0.61184  \n",
              "Test_Recall                    0.83784  \n",
              "Training_Recall                0.84545  \n",
              "ROC_AUC_Train                  0.79677  \n",
              "ROC_AUC_Test                   0.78621  \n",
              "dif_Precision                  0.13000  \n",
              "dif_Recall                    -0.01000  \n",
              "abs_dif_precision              0.13000  "
            ],
            "text/html": [
              "\n",
              "  <div id=\"df-24515a80-72ac-44d9-8e16-05bd7825ec16\" class=\"colab-df-container\">\n",
              "    <div>\n",
              "<style scoped>\n",
              "    .dataframe tbody tr th:only-of-type {\n",
              "        vertical-align: middle;\n",
              "    }\n",
              "\n",
              "    .dataframe tbody tr th {\n",
              "        vertical-align: top;\n",
              "    }\n",
              "\n",
              "    .dataframe thead th {\n",
              "        text-align: right;\n",
              "    }\n",
              "</style>\n",
              "<table border=\"1\" class=\"dataframe\">\n",
              "  <thead>\n",
              "    <tr style=\"text-align: right;\">\n",
              "      <th></th>\n",
              "      <th>0</th>\n",
              "      <th>3</th>\n",
              "      <th>1</th>\n",
              "      <th>2</th>\n",
              "    </tr>\n",
              "    <tr>\n",
              "      <th>params</th>\n",
              "      <th></th>\n",
              "      <th></th>\n",
              "      <th></th>\n",
              "      <th></th>\n",
              "    </tr>\n",
              "  </thead>\n",
              "  <tbody>\n",
              "    <tr>\n",
              "      <th>metrics</th>\n",
              "      <td>metrics_knn</td>\n",
              "      <td>metrics_svm_not_linear</td>\n",
              "      <td>metrics_logreg</td>\n",
              "      <td>metrics_svm_linear</td>\n",
              "    </tr>\n",
              "    <tr>\n",
              "      <th>Test_Precision</th>\n",
              "      <td>0.64211</td>\n",
              "      <td>0.68966</td>\n",
              "      <td>0.62617</td>\n",
              "      <td>0.68889</td>\n",
              "    </tr>\n",
              "    <tr>\n",
              "      <th>Training_Precision</th>\n",
              "      <td>0.63265</td>\n",
              "      <td>0.68421</td>\n",
              "      <td>0.55932</td>\n",
              "      <td>0.61184</td>\n",
              "    </tr>\n",
              "    <tr>\n",
              "      <th>Test_Recall</th>\n",
              "      <td>0.82432</td>\n",
              "      <td>0.81081</td>\n",
              "      <td>0.90541</td>\n",
              "      <td>0.83784</td>\n",
              "    </tr>\n",
              "    <tr>\n",
              "      <th>Training_Recall</th>\n",
              "      <td>0.84545</td>\n",
              "      <td>0.82727</td>\n",
              "      <td>0.90000</td>\n",
              "      <td>0.84545</td>\n",
              "    </tr>\n",
              "    <tr>\n",
              "      <th>ROC_AUC_Train</th>\n",
              "      <td>0.81357</td>\n",
              "      <td>0.84216</td>\n",
              "      <td>0.79147</td>\n",
              "      <td>0.79677</td>\n",
              "    </tr>\n",
              "    <tr>\n",
              "      <th>ROC_AUC_Test</th>\n",
              "      <td>0.79032</td>\n",
              "      <td>0.80699</td>\n",
              "      <td>0.79150</td>\n",
              "      <td>0.78621</td>\n",
              "    </tr>\n",
              "    <tr>\n",
              "      <th>dif_Precision</th>\n",
              "      <td>0.01000</td>\n",
              "      <td>0.01000</td>\n",
              "      <td>0.12000</td>\n",
              "      <td>0.13000</td>\n",
              "    </tr>\n",
              "    <tr>\n",
              "      <th>dif_Recall</th>\n",
              "      <td>-0.02000</td>\n",
              "      <td>-0.02000</td>\n",
              "      <td>0.01000</td>\n",
              "      <td>-0.01000</td>\n",
              "    </tr>\n",
              "    <tr>\n",
              "      <th>abs_dif_precision</th>\n",
              "      <td>0.01000</td>\n",
              "      <td>0.01000</td>\n",
              "      <td>0.12000</td>\n",
              "      <td>0.13000</td>\n",
              "    </tr>\n",
              "  </tbody>\n",
              "</table>\n",
              "</div>\n",
              "    <div class=\"colab-df-buttons\">\n",
              "\n",
              "  <div class=\"colab-df-container\">\n",
              "    <button class=\"colab-df-convert\" onclick=\"convertToInteractive('df-24515a80-72ac-44d9-8e16-05bd7825ec16')\"\n",
              "            title=\"Convert this dataframe to an interactive table.\"\n",
              "            style=\"display:none;\">\n",
              "\n",
              "  <svg xmlns=\"http://www.w3.org/2000/svg\" height=\"24px\" viewBox=\"0 -960 960 960\">\n",
              "    <path d=\"M120-120v-720h720v720H120Zm60-500h600v-160H180v160Zm220 220h160v-160H400v160Zm0 220h160v-160H400v160ZM180-400h160v-160H180v160Zm440 0h160v-160H620v160ZM180-180h160v-160H180v160Zm440 0h160v-160H620v160Z\"/>\n",
              "  </svg>\n",
              "    </button>\n",
              "\n",
              "  <style>\n",
              "    .colab-df-container {\n",
              "      display:flex;\n",
              "      gap: 12px;\n",
              "    }\n",
              "\n",
              "    .colab-df-convert {\n",
              "      background-color: #E8F0FE;\n",
              "      border: none;\n",
              "      border-radius: 50%;\n",
              "      cursor: pointer;\n",
              "      display: none;\n",
              "      fill: #1967D2;\n",
              "      height: 32px;\n",
              "      padding: 0 0 0 0;\n",
              "      width: 32px;\n",
              "    }\n",
              "\n",
              "    .colab-df-convert:hover {\n",
              "      background-color: #E2EBFA;\n",
              "      box-shadow: 0px 1px 2px rgba(60, 64, 67, 0.3), 0px 1px 3px 1px rgba(60, 64, 67, 0.15);\n",
              "      fill: #174EA6;\n",
              "    }\n",
              "\n",
              "    .colab-df-buttons div {\n",
              "      margin-bottom: 4px;\n",
              "    }\n",
              "\n",
              "    [theme=dark] .colab-df-convert {\n",
              "      background-color: #3B4455;\n",
              "      fill: #D2E3FC;\n",
              "    }\n",
              "\n",
              "    [theme=dark] .colab-df-convert:hover {\n",
              "      background-color: #434B5C;\n",
              "      box-shadow: 0px 1px 3px 1px rgba(0, 0, 0, 0.15);\n",
              "      filter: drop-shadow(0px 1px 2px rgba(0, 0, 0, 0.3));\n",
              "      fill: #FFFFFF;\n",
              "    }\n",
              "  </style>\n",
              "\n",
              "    <script>\n",
              "      const buttonEl =\n",
              "        document.querySelector('#df-24515a80-72ac-44d9-8e16-05bd7825ec16 button.colab-df-convert');\n",
              "      buttonEl.style.display =\n",
              "        google.colab.kernel.accessAllowed ? 'block' : 'none';\n",
              "\n",
              "      async function convertToInteractive(key) {\n",
              "        const element = document.querySelector('#df-24515a80-72ac-44d9-8e16-05bd7825ec16');\n",
              "        const dataTable =\n",
              "          await google.colab.kernel.invokeFunction('convertToInteractive',\n",
              "                                                    [key], {});\n",
              "        if (!dataTable) return;\n",
              "\n",
              "        const docLinkHtml = 'Like what you see? Visit the ' +\n",
              "          '<a target=\"_blank\" href=https://colab.research.google.com/notebooks/data_table.ipynb>data table notebook</a>'\n",
              "          + ' to learn more about interactive tables.';\n",
              "        element.innerHTML = '';\n",
              "        dataTable['output_type'] = 'display_data';\n",
              "        await google.colab.output.renderOutput(dataTable, element);\n",
              "        const docLink = document.createElement('div');\n",
              "        docLink.innerHTML = docLinkHtml;\n",
              "        element.appendChild(docLink);\n",
              "      }\n",
              "    </script>\n",
              "  </div>\n",
              "\n",
              "\n",
              "<div id=\"df-85326337-3332-4bc6-aa4f-b72a0acbec30\">\n",
              "  <button class=\"colab-df-quickchart\" onclick=\"quickchart('df-85326337-3332-4bc6-aa4f-b72a0acbec30')\"\n",
              "            title=\"Suggest charts\"\n",
              "            style=\"display:none;\">\n",
              "\n",
              "<svg xmlns=\"http://www.w3.org/2000/svg\" height=\"24px\"viewBox=\"0 0 24 24\"\n",
              "     width=\"24px\">\n",
              "    <g>\n",
              "        <path d=\"M19 3H5c-1.1 0-2 .9-2 2v14c0 1.1.9 2 2 2h14c1.1 0 2-.9 2-2V5c0-1.1-.9-2-2-2zM9 17H7v-7h2v7zm4 0h-2V7h2v10zm4 0h-2v-4h2v4z\"/>\n",
              "    </g>\n",
              "</svg>\n",
              "  </button>\n",
              "\n",
              "<style>\n",
              "  .colab-df-quickchart {\n",
              "      --bg-color: #E8F0FE;\n",
              "      --fill-color: #1967D2;\n",
              "      --hover-bg-color: #E2EBFA;\n",
              "      --hover-fill-color: #174EA6;\n",
              "      --disabled-fill-color: #AAA;\n",
              "      --disabled-bg-color: #DDD;\n",
              "  }\n",
              "\n",
              "  [theme=dark] .colab-df-quickchart {\n",
              "      --bg-color: #3B4455;\n",
              "      --fill-color: #D2E3FC;\n",
              "      --hover-bg-color: #434B5C;\n",
              "      --hover-fill-color: #FFFFFF;\n",
              "      --disabled-bg-color: #3B4455;\n",
              "      --disabled-fill-color: #666;\n",
              "  }\n",
              "\n",
              "  .colab-df-quickchart {\n",
              "    background-color: var(--bg-color);\n",
              "    border: none;\n",
              "    border-radius: 50%;\n",
              "    cursor: pointer;\n",
              "    display: none;\n",
              "    fill: var(--fill-color);\n",
              "    height: 32px;\n",
              "    padding: 0;\n",
              "    width: 32px;\n",
              "  }\n",
              "\n",
              "  .colab-df-quickchart:hover {\n",
              "    background-color: var(--hover-bg-color);\n",
              "    box-shadow: 0 1px 2px rgba(60, 64, 67, 0.3), 0 1px 3px 1px rgba(60, 64, 67, 0.15);\n",
              "    fill: var(--button-hover-fill-color);\n",
              "  }\n",
              "\n",
              "  .colab-df-quickchart-complete:disabled,\n",
              "  .colab-df-quickchart-complete:disabled:hover {\n",
              "    background-color: var(--disabled-bg-color);\n",
              "    fill: var(--disabled-fill-color);\n",
              "    box-shadow: none;\n",
              "  }\n",
              "\n",
              "  .colab-df-spinner {\n",
              "    border: 2px solid var(--fill-color);\n",
              "    border-color: transparent;\n",
              "    border-bottom-color: var(--fill-color);\n",
              "    animation:\n",
              "      spin 1s steps(1) infinite;\n",
              "  }\n",
              "\n",
              "  @keyframes spin {\n",
              "    0% {\n",
              "      border-color: transparent;\n",
              "      border-bottom-color: var(--fill-color);\n",
              "      border-left-color: var(--fill-color);\n",
              "    }\n",
              "    20% {\n",
              "      border-color: transparent;\n",
              "      border-left-color: var(--fill-color);\n",
              "      border-top-color: var(--fill-color);\n",
              "    }\n",
              "    30% {\n",
              "      border-color: transparent;\n",
              "      border-left-color: var(--fill-color);\n",
              "      border-top-color: var(--fill-color);\n",
              "      border-right-color: var(--fill-color);\n",
              "    }\n",
              "    40% {\n",
              "      border-color: transparent;\n",
              "      border-right-color: var(--fill-color);\n",
              "      border-top-color: var(--fill-color);\n",
              "    }\n",
              "    60% {\n",
              "      border-color: transparent;\n",
              "      border-right-color: var(--fill-color);\n",
              "    }\n",
              "    80% {\n",
              "      border-color: transparent;\n",
              "      border-right-color: var(--fill-color);\n",
              "      border-bottom-color: var(--fill-color);\n",
              "    }\n",
              "    90% {\n",
              "      border-color: transparent;\n",
              "      border-bottom-color: var(--fill-color);\n",
              "    }\n",
              "  }\n",
              "</style>\n",
              "\n",
              "  <script>\n",
              "    async function quickchart(key) {\n",
              "      const quickchartButtonEl =\n",
              "        document.querySelector('#' + key + ' button');\n",
              "      quickchartButtonEl.disabled = true;  // To prevent multiple clicks.\n",
              "      quickchartButtonEl.classList.add('colab-df-spinner');\n",
              "      try {\n",
              "        const charts = await google.colab.kernel.invokeFunction(\n",
              "            'suggestCharts', [key], {});\n",
              "      } catch (error) {\n",
              "        console.error('Error during call to suggestCharts:', error);\n",
              "      }\n",
              "      quickchartButtonEl.classList.remove('colab-df-spinner');\n",
              "      quickchartButtonEl.classList.add('colab-df-quickchart-complete');\n",
              "    }\n",
              "    (() => {\n",
              "      let quickchartButtonEl =\n",
              "        document.querySelector('#df-85326337-3332-4bc6-aa4f-b72a0acbec30 button');\n",
              "      quickchartButtonEl.style.display =\n",
              "        google.colab.kernel.accessAllowed ? 'block' : 'none';\n",
              "    })();\n",
              "  </script>\n",
              "</div>\n",
              "    </div>\n",
              "  </div>\n"
            ],
            "application/vnd.google.colaboratory.intrinsic+json": {
              "type": "dataframe",
              "summary": "{\n  \"name\": \"df_stat\",\n  \"rows\": 10,\n  \"fields\": [\n    {\n      \"column\": \"params\",\n      \"properties\": {\n        \"dtype\": \"string\",\n        \"num_unique_values\": 10,\n        \"samples\": [\n          \"dif_Recall\",\n          \"Test_Precision\",\n          \"ROC_AUC_Train\"\n        ],\n        \"semantic_type\": \"\",\n        \"description\": \"\"\n      }\n    },\n    {\n      \"column\": 0,\n      \"properties\": {\n        \"dtype\": \"string\",\n        \"num_unique_values\": 9,\n        \"samples\": [\n          0.01,\n          0.6421052631578947,\n          0.8135704874835309\n        ],\n        \"semantic_type\": \"\",\n        \"description\": \"\"\n      }\n    },\n    {\n      \"column\": 3,\n      \"properties\": {\n        \"dtype\": \"string\",\n        \"num_unique_values\": 9,\n        \"samples\": [\n          0.01,\n          0.6896551724137931,\n          0.8421607378129117\n        ],\n        \"semantic_type\": \"\",\n        \"description\": \"\"\n      }\n    },\n    {\n      \"column\": 1,\n      \"properties\": {\n        \"dtype\": \"string\",\n        \"num_unique_values\": 9,\n        \"samples\": [\n          0.12,\n          0.6261682242990654,\n          0.7914690382081686\n        ],\n        \"semantic_type\": \"\",\n        \"description\": \"\"\n      }\n    },\n    {\n      \"column\": 2,\n      \"properties\": {\n        \"dtype\": \"string\",\n        \"num_unique_values\": 9,\n        \"samples\": [\n          0.13,\n          0.6888888888888889,\n          0.796772068511199\n        ],\n        \"semantic_type\": \"\",\n        \"description\": \"\"\n      }\n    }\n  ]\n}"
            }
          },
          "metadata": {},
          "execution_count": 46
        }
      ]
    }
  ],
  "metadata": {
    "colab": {
      "provenance": []
    },
    "kernelspec": {
      "display_name": "Python 3",
      "name": "python3"
    },
    "language_info": {
      "name": "python"
    }
  },
  "nbformat": 4,
  "nbformat_minor": 0
}