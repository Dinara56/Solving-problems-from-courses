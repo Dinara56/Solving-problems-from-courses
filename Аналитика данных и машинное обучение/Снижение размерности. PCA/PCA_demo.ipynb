{
  "nbformat": 4,
  "nbformat_minor": 0,
  "metadata": {
    "colab": {
      "provenance": []
    },
    "kernelspec": {
      "name": "python3",
      "display_name": "Python 3"
    },
    "language_info": {
      "name": "python"
    }
  },
  "cells": [
    {
      "cell_type": "markdown",
      "source": [
        " <font color='744fdb' size=6> **Метод главных компонент (principal component analysis, PCA)**\n"
      ],
      "metadata": {
        "id": "IDXQB-9mglBR"
      }
    },
    {
      "cell_type": "code",
      "source": [
        "import numpy as np\n",
        "\n",
        "from sklearn.decomposition import PCA\n",
        "\n",
        "import matplotlib.pyplot as plt\n",
        "import seaborn as sns"
      ],
      "metadata": {
        "id": "SB-oPNwu8pTs"
      },
      "execution_count": 1,
      "outputs": []
    },
    {
      "cell_type": "code",
      "source": [
        "x = np.arange(1,21)\n",
        "y = 2 * x + np.random.randn(20)*2"
      ],
      "metadata": {
        "id": "PyN6oQFK8pWz"
      },
      "execution_count": 2,
      "outputs": []
    },
    {
      "cell_type": "code",
      "source": [
        "plt.figure(figsize=(5,5))\n",
        "sns.scatterplot(x=x, y=y)\n",
        "plt.grid(True)\n",
        "plt.show()"
      ],
      "metadata": {
        "colab": {
          "base_uri": "https://localhost:8080/",
          "height": 445
        },
        "id": "Ay9yIft38ykW",
        "outputId": "bbeb8609-1263-4ebe-9563-b19fc660fe3d"
      },
      "execution_count": 3,
      "outputs": [
        {
          "output_type": "display_data",
          "data": {
            "text/plain": [
              "<Figure size 500x500 with 1 Axes>"
            ],
            "image/png": "[encoded data removed]"
          },
          "metadata": {}
        }
      ]
    },
    {
      "cell_type": "code",
      "source": [
        "# центрируем\n",
        "x_centr = x - x.mean()\n",
        "y_centr = y - y.mean()"
      ],
      "metadata": {
        "id": "6b3sJYiP9nji"
      },
      "execution_count": 4,
      "outputs": []
    },
    {
      "cell_type": "code",
      "source": [
        "plt.figure(figsize=(5,5))\n",
        "sns.scatterplot(x=x_centr, y=y_centr)\n",
        "plt.grid(True)\n",
        "plt.show()"
      ],
      "metadata": {
        "colab": {
          "base_uri": "https://localhost:8080/",
          "height": 445
        },
        "id": "GzZl2hrR97YP",
        "outputId": "b28e8aac-95b8-40de-d473-13f38aee8f00"
      },
      "execution_count": 5,
      "outputs": [
        {
          "output_type": "display_data",
          "data": {
            "text/plain": [
              "<Figure size 500x500 with 1 Axes>"
            ],
            "image/png": "[encoded data removed]"
          },
          "metadata": {}
        }
      ]
    },
    {
      "cell_type": "markdown",
      "source": [
        "Ковариационная матрица - это матрица, у которой $ (i,j) $-элемент является корреляцией признаков $(X_i, X_j)$. Вспомним формулу ковариации:\n",
        "$$\n",
        "Cov(X_i, X_j) = E \\left[ (X_i - E(X_i)) \\cdot (X_j - E(X_j)) \\right] = E(X_i X_j) - E(X_i) \\cdot E(X_j)\n",
        "$$\n",
        "\n",
        "В нашем случае она упрощается, так как $E(X_i) = E(X_j) = 0$:\n",
        "$$\n",
        "Cov(X_i, X_j) = E(X_i X_j)\n",
        "$$\n",
        "\n",
        "Заметим, что когда $X_i = X_j$:\n",
        "$$\n",
        "Cov(X_i, X_i) = Var(X_i)\n",
        "$$\n",
        "\n",
        "и это справедливо для любых случайных величин.\n"
      ],
      "metadata": {
        "id": "hBNLS--tFMcC"
      }
    },
    {
      "cell_type": "markdown",
      "source": [
        "Замечание: Ковариационная матрица является обобщением дисперсии на случай многомерных случайных величин – она так же описывает форму (разброс) случайной величины, как и дисперсия."
      ],
      "metadata": {
        "id": "a1mHUjiSFpPW"
      }
    },
    {
      "cell_type": "code",
      "source": [
        "X_centr = np.vstack((x_centr, y_centr))"
      ],
      "metadata": {
        "id": "Tkyr82tPQJR5"
      },
      "execution_count": 6,
      "outputs": []
    },
    {
      "cell_type": "code",
      "source": [
        "covmat = np.cov(X_centr)"
      ],
      "metadata": {
        "id": "4hF5ylyN-H2a"
      },
      "execution_count": 7,
      "outputs": []
    },
    {
      "cell_type": "code",
      "source": [
        "covmat"
      ],
      "metadata": {
        "colab": {
          "base_uri": "https://localhost:8080/"
        },
        "id": "4KrULB33-aVE",
        "outputId": "a11aa030-063a-4475-eafb-709c9e536423"
      },
      "execution_count": 8,
      "outputs": [
        {
          "output_type": "execute_result",
          "data": {
            "text/plain": [
              "array([[ 35.        ,  69.64844832],\n",
              "       [ 69.64844832, 142.80615794]])"
            ]
          },
          "metadata": {},
          "execution_count": 8
        }
      ]
    },
    {
      "cell_type": "markdown",
      "source": [
        "Найдем вектор, при котором максимизировался бы  размер (дисперсия) проекции нашей выборки на него"
      ],
      "metadata": {
        "id": "Ynk5HLDeHiLE"
      }
    },
    {
      "cell_type": "markdown",
      "source": [
        "Рассмотрим выборку данных $X$ и вектор направления $w$. Проекция данных $X$ на $w$ определяется как $Xw$. Нам нужно максимизировать дисперсию этой проекции, которая вычисляется как:\n",
        "$$\n",
        "\\text{Var}(Xw) = w^T Q w\n",
        "$$\n",
        "\n",
        "Для нахождения $w$, которое максимизирует дисперсию, необходимо нормировать $w$ так, чтобы $w^T w = 1$.\n",
        "\n",
        "Формулируем задачу оптимизации:\n",
        "$$\n",
        "\\max_{w} \\, w^T Q w \\quad \\text{при условии} \\quad w^T w = 1\n",
        "$$\n",
        "\n",
        "Для решения этой задачи используем метод Лагранжа. Записываем лагранжиан:\n",
        "$$\n",
        "L(w, \\lambda) = w^T Q w - \\lambda (w^T w - 1)\n",
        "$$\n",
        "\n",
        "Находим производные по $w$ и $\\lambda$ и приравниваем их к нулю:\n",
        "$$\n",
        "\\frac{\\partial L}{\\partial w} = 2Q w - 2\\lambda w = 0\n",
        "$$\n",
        "$$\n",
        "Q w = \\lambda w\n",
        "$$\n",
        "\n",
        "Это и есть определение собственного вектора и собственного значения.\n",
        "\n",
        "Собственные значения $\\lambda$ представляют дисперсии вдоль направлений, определяемых соответствующими собственными векторами. Для максимизации дисперсии нужно выбрать вектор, соответствующий наибольшему собственному значению.\n",
        "\n",
        "\n",
        "Таким образом, направление максимальной дисперсии у проекции всегда совпадает с собственным вектором, имеющим максимальное собственное значение."
      ],
      "metadata": {
        "id": "VLASKEMkKuR-"
      }
    },
    {
      "cell_type": "markdown",
      "source": [
        "###Пример расчета собственнх значений"
      ],
      "metadata": {
        "id": "ewcJCXO_PtQ5"
      }
    },
    {
      "cell_type": "markdown",
      "source": [
        "\n",
        "\n",
        "Предположим, у нас есть ковариационная матрица:\n",
        "$$\n",
        "Q = \\begin{pmatrix}\n",
        "4 & 2 \\\\\n",
        "2 & 3\n",
        "\\end{pmatrix}\n",
        "$$\n",
        "\n",
        "Найдём собственные значения и векторы:\n",
        "\n",
        "1. Решаем характеристическое уравнение:\n",
        "$$\n",
        "\\det(Q - \\lambda I) = 0\n",
        "$$\n",
        "\n",
        "$$\n",
        "\\begin{vmatrix}\n",
        "4 - \\lambda & 2 \\\\\n",
        "2 & 3 - \\lambda\n",
        "\\end{vmatrix} = 0\n",
        "$$\n",
        "$$\n",
        "(4 - \\lambda)(3 - \\lambda) - 4 = \\lambda^2 - 7\\lambda + 8 = 0\n",
        "$$\n",
        "Собственные значения: $\\lambda_1 = \\frac{1+\\sqrt{17}}{2}$, $\\lambda_2 = \\frac{1-\\sqrt{17}}{2}$.\n"
      ],
      "metadata": {
        "id": "atqW7TDULTLm"
      }
    },
    {
      "cell_type": "markdown",
      "source": [
        "### продолжим"
      ],
      "metadata": {
        "id": "7F2INzSAQBE_"
      }
    },
    {
      "cell_type": "markdown",
      "source": [
        "Функция `np.linalg.eig` из библиотеки NumPy вычисляет собственные значения и собственные векторы квадратной матрицы."
      ],
      "metadata": {
        "id": "6OEf0aCGQnxi"
      }
    },
    {
      "cell_type": "code",
      "source": [
        "X_centr"
      ],
      "metadata": {
        "colab": {
          "base_uri": "https://localhost:8080/"
        },
        "id": "Wi9Aen90Q-UV",
        "outputId": "5b17b075-574d-443a-fb76-9f575cfb3647"
      },
      "execution_count": 9,
      "outputs": [
        {
          "output_type": "execute_result",
          "data": {
            "text/plain": [
              "array([[ -9.5       ,  -8.5       ,  -7.5       ,  -6.5       ,\n",
              "         -5.5       ,  -4.5       ,  -3.5       ,  -2.5       ,\n",
              "         -1.5       ,  -0.5       ,   0.5       ,   1.5       ,\n",
              "          2.5       ,   3.5       ,   4.5       ,   5.5       ,\n",
              "          6.5       ,   7.5       ,   8.5       ,   9.5       ],\n",
              "       [-15.28872186, -18.76595398, -13.35682024, -12.33965416,\n",
              "        -14.23761068,  -8.59339962,  -8.74250565,  -2.2785878 ,\n",
              "         -3.21499286,   0.48451099,  -0.51343821,   1.16678513,\n",
              "          5.2282634 ,   4.89153458,   6.09285907,   9.86374277,\n",
              "         12.94753345,  18.88460233,  17.64851325,  20.12334009]])"
            ]
          },
          "metadata": {},
          "execution_count": 9
        }
      ]
    },
    {
      "cell_type": "code",
      "source": [
        "a, vecs = np.linalg.eig(covmat)"
      ],
      "metadata": {
        "id": "eej6w59qRDnD"
      },
      "execution_count": 10,
      "outputs": []
    },
    {
      "cell_type": "code",
      "source": [
        "a"
      ],
      "metadata": {
        "colab": {
          "base_uri": "https://localhost:8080/"
        },
        "id": "pYIVG2b6XRrD",
        "outputId": "8f44b8e8-fc75-4afc-be6e-0a3011c8dd4d"
      },
      "execution_count": 11,
      "outputs": [
        {
          "output_type": "execute_result",
          "data": {
            "text/plain": [
              "array([  0.83237854, 176.97377941])"
            ]
          },
          "metadata": {},
          "execution_count": 11
        }
      ]
    },
    {
      "cell_type": "code",
      "source": [
        "vecs"
      ],
      "metadata": {
        "colab": {
          "base_uri": "https://localhost:8080/"
        },
        "id": "AUzOZRuIXSYu",
        "outputId": "445d0ec1-dcdf-4cb1-a0fc-24d7f2b6a747"
      },
      "execution_count": 12,
      "outputs": [
        {
          "output_type": "execute_result",
          "data": {
            "text/plain": [
              "array([[-0.89778708, -0.44042975],\n",
              "       [ 0.44042975, -0.89778708]])"
            ]
          },
          "metadata": {},
          "execution_count": 12
        }
      ]
    },
    {
      "cell_type": "code",
      "source": [
        "vecs[1,1]"
      ],
      "metadata": {
        "colab": {
          "base_uri": "https://localhost:8080/"
        },
        "id": "ZfRnXRZx7iOv",
        "outputId": "8b54d5fa-9826-448d-dfac-4e9d69e420ba"
      },
      "execution_count": 36,
      "outputs": [
        {
          "output_type": "execute_result",
          "data": {
            "text/plain": [
              "-0.8977870750246617"
            ]
          },
          "metadata": {},
          "execution_count": 36
        }
      ]
    },
    {
      "cell_type": "code",
      "source": [
        "X_centr[1]"
      ],
      "metadata": {
        "colab": {
          "base_uri": "https://localhost:8080/"
        },
        "id": "gaYAYoZH6_1l",
        "outputId": "fe791e08-42a7-44dd-a93f-a1719225ea9c"
      },
      "execution_count": 34,
      "outputs": [
        {
          "output_type": "execute_result",
          "data": {
            "text/plain": [
              "array([-15.28872186, -18.76595398, -13.35682024, -12.33965416,\n",
              "       -14.23761068,  -8.59339962,  -8.74250565,  -2.2785878 ,\n",
              "        -3.21499286,   0.48451099,  -0.51343821,   1.16678513,\n",
              "         5.2282634 ,   4.89153458,   6.09285907,   9.86374277,\n",
              "        12.94753345,  18.88460233,  17.64851325,  20.12334009])"
            ]
          },
          "metadata": {},
          "execution_count": 34
        }
      ]
    },
    {
      "cell_type": "code",
      "source": [
        "X_centr[0]"
      ],
      "metadata": {
        "colab": {
          "base_uri": "https://localhost:8080/"
        },
        "id": "Lc66NIdy7baX",
        "outputId": "86d24951-3124-417d-83dc-f9e45807e5eb"
      },
      "execution_count": 35,
      "outputs": [
        {
          "output_type": "execute_result",
          "data": {
            "text/plain": [
              "array([-9.5, -8.5, -7.5, -6.5, -5.5, -4.5, -3.5, -2.5, -1.5, -0.5,  0.5,\n",
              "        1.5,  2.5,  3.5,  4.5,  5.5,  6.5,  7.5,  8.5,  9.5])"
            ]
          },
          "metadata": {},
          "execution_count": 35
        }
      ]
    },
    {
      "cell_type": "code",
      "source": [
        "X_centr[0] * vecs[0,1] + X_centr[1] * vecs[1,1]"
      ],
      "metadata": {
        "colab": {
          "base_uri": "https://localhost:8080/"
        },
        "id": "O-1A1dnX7fFd",
        "outputId": "14e915cf-d2b2-4956-f29f-9a98c4885e19"
      },
      "execution_count": 37,
      "outputs": [
        {
          "output_type": "execute_result",
          "data": {
            "text/plain": [
              "array([ 17.91009954,  20.59148384,  15.29480373,  13.94117542,\n",
              "        15.2047065 ,   9.696977  ,   9.39041271,   3.14676106,\n",
              "         3.54702366,  -0.21477283,   0.24074331,  -1.70816924,\n",
              "        -5.79494169,  -5.93306066,  -7.45202402, -11.27790441,\n",
              "       -14.48692158, -20.25757504, -19.58825999, -22.2505573 ])"
            ]
          },
          "metadata": {},
          "execution_count": 37
        }
      ]
    },
    {
      "cell_type": "code",
      "source": [
        "_, vecs = np.linalg.eig(covmat)\n",
        "v = -vecs[:,1]\n",
        "Xnew = np.dot(v,X_centr)"
      ],
      "metadata": {
        "id": "PGd_l24GcC24"
      },
      "execution_count": 30,
      "outputs": []
    },
    {
      "cell_type": "code",
      "source": [
        "Xnew"
      ],
      "metadata": {
        "colab": {
          "base_uri": "https://localhost:8080/"
        },
        "id": "8ob4zH0LdUEj",
        "outputId": "51982798-8f9f-45a9-faa3-74426200851a"
      },
      "execution_count": 31,
      "outputs": [
        {
          "output_type": "execute_result",
          "data": {
            "text/plain": [
              "array([-17.91009954, -20.59148384, -15.29480373, -13.94117542,\n",
              "       -15.2047065 ,  -9.696977  ,  -9.39041271,  -3.14676106,\n",
              "        -3.54702366,   0.21477283,  -0.24074331,   1.70816924,\n",
              "         5.79494169,   5.93306066,   7.45202402,  11.27790441,\n",
              "        14.48692158,  20.25757504,  19.58825999,  22.2505573 ])"
            ]
          },
          "metadata": {},
          "execution_count": 31
        }
      ]
    },
    {
      "cell_type": "markdown",
      "source": [
        ">найдем через библиотеку"
      ],
      "metadata": {
        "id": "UXAylk4Id2YX"
      }
    },
    {
      "cell_type": "code",
      "source": [
        "from sklearn.decomposition import PCA\n",
        "pca = PCA(n_components = 1)\n",
        "XPCAreduced = pca.fit_transform(X_centr.T)"
      ],
      "metadata": {
        "id": "zzPsnKoCXgcf"
      },
      "execution_count": 25,
      "outputs": []
    },
    {
      "cell_type": "code",
      "source": [
        "XPCAreduced"
      ],
      "metadata": {
        "colab": {
          "base_uri": "https://localhost:8080/"
        },
        "id": "MsbzZs03XgfW",
        "outputId": "44283ced-c1ce-4464-b727-7289a47b4e78"
      },
      "execution_count": 26,
      "outputs": [
        {
          "output_type": "execute_result",
          "data": {
            "text/plain": [
              "array([[-17.91009954],\n",
              "       [-20.59148384],\n",
              "       [-15.29480373],\n",
              "       [-13.94117542],\n",
              "       [-15.2047065 ],\n",
              "       [ -9.696977  ],\n",
              "       [ -9.39041271],\n",
              "       [ -3.14676106],\n",
              "       [ -3.54702366],\n",
              "       [  0.21477283],\n",
              "       [ -0.24074331],\n",
              "       [  1.70816924],\n",
              "       [  5.79494169],\n",
              "       [  5.93306066],\n",
              "       [  7.45202402],\n",
              "       [ 11.27790441],\n",
              "       [ 14.48692158],\n",
              "       [ 20.25757504],\n",
              "       [ 19.58825999],\n",
              "       [ 22.2505573 ]])"
            ]
          },
          "metadata": {},
          "execution_count": 26
        }
      ]
    },
    {
      "cell_type": "code",
      "source": [
        "pca.explained_variance_ratio_"
      ],
      "metadata": {
        "colab": {
          "base_uri": "https://localhost:8080/"
        },
        "id": "f87mpc9BXgiB",
        "outputId": "f13547d9-e2d9-4dbb-9d3b-63733f0134e2"
      },
      "execution_count": 27,
      "outputs": [
        {
          "output_type": "execute_result",
          "data": {
            "text/plain": [
              "array([0.99531862])"
            ]
          },
          "metadata": {},
          "execution_count": 27
        }
      ]
    },
    {
      "cell_type": "markdown",
      "source": [
        "пример применения для графиков"
      ],
      "metadata": {
        "id": "Z__VBgC8d-xx"
      }
    },
    {
      "cell_type": "code",
      "source": [
        "import numpy as np\n",
        "import matplotlib.pyplot as plt\n",
        "from sklearn.decomposition import PCA\n",
        "\n",
        "# Создание набора данных с размерностью 10\n",
        "np.random.seed(42)\n",
        "data = np.random.rand(100, 3)  # 100 образцов с 10 признаками\n",
        "\n",
        "# Применение PCA для снижения размерности до 2\n",
        "pca = PCA(n_components=2)\n",
        "reduced_data = pca.fit_transform(data)\n",
        "\n",
        "# Построение графика\n",
        "plt.figure(figsize=(8, 6))\n",
        "plt.scatter(reduced_data[:, 0], reduced_data[:, 1], c='blue', edgecolor='k', s=50)\n",
        "plt.title('PCA Reduction to 2 Dimensions')\n",
        "plt.xlabel('Principal Component 1')\n",
        "plt.ylabel('Principal Component 2')\n",
        "plt.grid(True)\n",
        "plt.show()\n"
      ],
      "metadata": {
        "colab": {
          "base_uri": "https://localhost:8080/",
          "height": 564
        },
        "id": "UxvKOcDSZN0k",
        "outputId": "6f6793f8-48b8-4619-d844-950ae7922ed9"
      },
      "execution_count": 21,
      "outputs": [
        {
          "output_type": "display_data",
          "data": {
            "text/plain": [
              "<Figure size 800x600 with 1 Axes>"
            ],
            "image/png": "[encoded data removed]"
          },
          "metadata": {}
        }
      ]
    },
    {
      "cell_type": "code",
      "source": [
        "# Расчет сохраненной и потерянной дисперсии\n",
        "explained_variance_ratio = pca.explained_variance_ratio_\n",
        "total_explained_variance = np.sum(explained_variance_ratio)\n",
        "lost_variance = 1 - total_explained_variance"
      ],
      "metadata": {
        "id": "Cx572iuuf06M"
      },
      "execution_count": 22,
      "outputs": []
    },
    {
      "cell_type": "code",
      "source": [
        "total_explained_variance"
      ],
      "metadata": {
        "colab": {
          "base_uri": "https://localhost:8080/"
        },
        "id": "OaO2_jTpZN3W",
        "outputId": "76893a9a-2767-43f6-b6d3-a07a97acf0ea"
      },
      "execution_count": 23,
      "outputs": [
        {
          "output_type": "execute_result",
          "data": {
            "text/plain": [
              "0.713895191661746"
            ]
          },
          "metadata": {},
          "execution_count": 23
        }
      ]
    },
    {
      "cell_type": "code",
      "source": [
        "lost_variance"
      ],
      "metadata": {
        "colab": {
          "base_uri": "https://localhost:8080/"
        },
        "id": "a1jpat1pZN6M",
        "outputId": "6d14abc3-a786-444d-eb1d-b74bae698a1e"
      },
      "execution_count": 24,
      "outputs": [
        {
          "output_type": "execute_result",
          "data": {
            "text/plain": [
              "0.286104808338254"
            ]
          },
          "metadata": {},
          "execution_count": 24
        }
      ]
    }
  ]
}