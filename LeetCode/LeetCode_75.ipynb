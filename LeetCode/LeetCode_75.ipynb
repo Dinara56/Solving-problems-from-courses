{
 "cells": [
  {
   "cell_type": "markdown",
   "metadata": {},
   "source": [
    "**Problems:**\n",
    "\n",
    "You are given two strings word1 and word2. Merge the strings by adding letters in alternating order, starting with word1. If a string is longer than the other, append the additional letters onto the end of the merged string.\n",
    "\n",
    "Return the merged string."
   ]
  },
  {
   "cell_type": "code",
   "execution_count": 23,
   "metadata": {},
   "outputs": [],
   "source": [
    "class Solution:\n",
    "\n",
    "    def __init__(self, word1: str, word2: str):\n",
    "\n",
    "        self.word1 = word1\n",
    "        self.word2 = word2\n",
    "\n",
    "    def mergeAlternately(self):\n",
    "        \n",
    "        merged = ''\n",
    "        i, j = 0, 0\n",
    "\n",
    "        while i < len(self.word1) and j < len(self.word2):\n",
    "            merged += self.word1[i] + self.word2[j]\n",
    "            i += 1\n",
    "            j += 1\n",
    "\n",
    "        merged += self.word1[i:] + self.word2[j:]\n",
    "\n",
    "        return merged"
   ]
  },
  {
   "cell_type": "code",
   "execution_count": 24,
   "metadata": {},
   "outputs": [
    {
     "name": "stdout",
     "output_type": "stream",
     "text": [
      "abbncv\n"
     ]
    }
   ],
   "source": [
    "merge = Solution('abc', 'bnv')\n",
    "\n",
    "print(merge.mergeAlternately())"
   ]
  },
  {
   "cell_type": "markdown",
   "metadata": {},
   "source": [
    "**Problems:**\n",
    "\n",
    "For two strings s and t, we say \"t divides s\" if and only if s = t + ... + t (i.e., t is concatenated with itself one or more times).\n",
    "\n",
    "Given two strings str1 and str2, return the largest string x such that x divides both str1 and str2.\n",
    "\n",
    "Example 1:\n",
    "\n",
    "Input: str1 = \"ABCABC\", str2 = \"ABC\"\n",
    "Output: \"ABC\"\n",
    "\n",
    "Example 2:\n",
    "\n",
    "Input: str1 = \"ABABAB\", str2 = \"ABAB\"\n",
    "Output: \"AB\"\n",
    "\n",
    "Example 3:\n",
    "\n",
    "Input: str1 = \"LEET\", str2 = \"CODE\"\n",
    "Output: \"\""
   ]
  },
  {
   "cell_type": "code",
   "execution_count": null,
   "metadata": {},
   "outputs": [],
   "source": [
    "from functools import reduce\n",
    "\n",
    "class Solution:\n",
    "\n",
    "    def __init__(self, str1: str, str2: str):\n",
    "\n",
    "        self.str1 = str1\n",
    "        self.str2 = str2\n",
    "\n",
    "    def gcdOfStrings(self):\n",
    "\n",
    "        new_str = reduce(lambda x, y: x + y, list(set(self.str1) & set(self.str2)), '')\n",
    "        \n",
    "        return new_str"
   ]
  }
 ],
 "metadata": {
  "kernelspec": {
   "display_name": "Python 3",
   "language": "python",
   "name": "python3"
  },
  "language_info": {
   "codemirror_mode": {
    "name": "ipython",
    "version": 3
   },
   "file_extension": ".py",
   "mimetype": "text/x-python",
   "name": "python",
   "nbconvert_exporter": "python",
   "pygments_lexer": "ipython3",
   "version": "3.11.1"
  }
 },
 "nbformat": 4,
 "nbformat_minor": 2
}
