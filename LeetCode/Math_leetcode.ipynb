{
 "cells": [
  {
   "cell_type": "code",
   "execution_count": 169,
   "metadata": {},
   "outputs": [],
   "source": [
    "import pandas as pd\n",
    "from functools import reduce"
   ]
  },
  {
   "cell_type": "markdown",
   "metadata": {},
   "source": [
    "**Task:** write a solution to delete all duplicate emails, keeping only one unique email with the smallest id."
   ]
  },
  {
   "cell_type": "code",
   "execution_count": 34,
   "metadata": {},
   "outputs": [],
   "source": [
    "def delete_duplicate_emails(person: pd.DataFrame) -> None:\n",
    "    person.sort_values('id', inplace=True)\n",
    "    person.drop_duplicates('email', keep='first', inplace=True)"
   ]
  },
  {
   "cell_type": "markdown",
   "metadata": {},
   "source": [
    "**Task:** write a solution to find the nth highest salary from the Employee table. If there is no nth highest salary, return null. The result format is in the following example."
   ]
  },
  {
   "cell_type": "code",
   "execution_count": 86,
   "metadata": {},
   "outputs": [],
   "source": [
    "def nth_highest_salary(employee: pd.DataFrame, N: int) -> pd.DataFrame:\n",
    "    employee.drop_duplicates('salary', inplace=True)\n",
    "    if N <= len(employee):\n",
    "        df = employee.sort_values(by=['salary'], ascending=False).reset_index(drop=True)\n",
    "        df['id'] = range(1, len(df)+1)\n",
    "        value = df[df['id'] == N]['salary'].values\n",
    "        df = pd.DataFrame([value], columns=['getNthHighestSalary'+'('+str(N)+')'])\n",
    "    else:\n",
    "        df = pd.DataFrame([None], columns=['getNthHighestSalary'+'('+str(N)+')'])\n",
    "    return df"
   ]
  },
  {
   "cell_type": "markdown",
   "metadata": {},
   "source": [
    "**Task:** Write a solution to find the rank of the scores. The ranking should be calculated according to the following rules:\n",
    "\n",
    "The scores should be ranked from the highest to the lowest.\n",
    "If there is a tie between two scores, both should have the same ranking.\n",
    "After a tie, the next ranking number should be the next consecutive integer value. In other words, there should be no holes between ranks.\n",
    "Return the result table ordered by score in descending order.\n",
    "\n",
    "The result format is in the following example."
   ]
  },
  {
   "cell_type": "code",
   "execution_count": 142,
   "metadata": {},
   "outputs": [],
   "source": [
    "def order_scores(scores: pd.DataFrame) -> pd.DataFrame:\n",
    "\n",
    "    if len(scores) == 0:\n",
    "\n",
    "        scores = pd.DataFrame(None, columns=['score', 'rank'])\n",
    "        \n",
    "        return scores\n",
    "    \n",
    "    else:\n",
    "        scores.sort_values(by=['score'], ascending=False, inplace=True)\n",
    "        scores = scores.rename(columns={'id':'rank'}).reset_index(drop=True)\n",
    "\n",
    "        first_value = scores['score'][0]\n",
    "        first_index = [1]\n",
    "\n",
    "        for i in range(1, len(scores)):\n",
    "\n",
    "            if first_value == scores['score'][i]:\n",
    "                first_index.append(len(set(first_index)))\n",
    "                first_value = scores['score'][i]\n",
    "            else:\n",
    "                first_index.append(len(set(first_index))+1)\n",
    "                first_value = scores['score'][i]\n",
    "\n",
    "        scores['rank'] = first_index   \n",
    "\n",
    "        return  scores[['score', 'rank']]"
   ]
  },
  {
   "cell_type": "markdown",
   "metadata": {},
   "source": [
    "**Task:** given an array of integers nums, return the number of good pairs. A pair (i, j) is called good if nums[i] == nums[j] and i < j."
   ]
  },
  {
   "cell_type": "code",
   "execution_count": 168,
   "metadata": {},
   "outputs": [],
   "source": [
    "class Solution:\n",
    "    def numIdenticalPairs(self, nums) -> int:\n",
    "        cnt = 0\n",
    "        for i in range(len(nums)):\n",
    "            for j in range(len(nums)):\n",
    "                if nums[i] == nums[j] and i < j:\n",
    "                    cnt += 1\n",
    "        return cnt"
   ]
  },
  {
   "cell_type": "markdown",
   "metadata": {},
   "source": [
    "**Task:** given an integer number n, return the difference between the product of its digits and the sum of its digits."
   ]
  },
  {
   "cell_type": "code",
   "execution_count": 184,
   "metadata": {},
   "outputs": [],
   "source": [
    "class Solution:\n",
    "    def subtractProductAndSum(self, n: int) -> int:\n",
    "        n = [int(i) for i in list(str(n))]\n",
    "        mult_reduce = reduce(lambda x, y: x * y, n, 1)\n",
    "        sum_reduce = reduce(lambda x, y: x + y, n, 0)\n",
    "        return mult_reduce - sum_reduce"
   ]
  },
  {
   "cell_type": "markdown",
   "metadata": {},
   "source": [
    "**Task:** given an integer num, return the number of steps to reduce it to zero. In one step, if the current number is even, you have to divide it by 2, otherwise, you have to subtract 1 from it."
   ]
  },
  {
   "cell_type": "code",
   "execution_count": 211,
   "metadata": {},
   "outputs": [],
   "source": [
    "class Solution:\n",
    "    def numberOfSteps(self, num: int) -> int:\n",
    "        new_num = num\n",
    "        cnt = 0\n",
    "        while new_num > 0:\n",
    "            if new_num % 2 == 0:\n",
    "                new_num //= 2\n",
    "                cnt += 1\n",
    "            else:\n",
    "                new_num -= 1\n",
    "                cnt += 1\n",
    "        return cnt"
   ]
  },
  {
   "cell_type": "markdown",
   "metadata": {},
   "source": [
    "**Task:** A self-dividing number is a number that is divisible by every digit it contains.\n",
    "\n",
    "For example, 128 is a self-dividing number because 128 % 1 == 0, 128 % 2 == 0, and 128 % 8 == 0.\n",
    "A self-dividing number is not allowed to contain the digit zero.\n",
    "\n",
    "Given two integers left and right, return a list of all the self-dividing numbers in the range [left, right]."
   ]
  },
  {
   "cell_type": "code",
   "execution_count": 74,
   "metadata": {},
   "outputs": [],
   "source": [
    "def selfDividingNumbers(left: int, right: int):\n",
    "    def is_self_dividing(num):\n",
    "        return '0' not in str(num) and all(num % int(digit) == 0 for digit in str(num))\n",
    "\n",
    "    result = []\n",
    "    \n",
    "    for num in range(left, right + 1):\n",
    "        if is_self_dividing(num):\n",
    "            result.append(num)\n",
    "    \n",
    "    return result"
   ]
  },
  {
   "cell_type": "markdown",
   "metadata": {},
   "source": [
    "**Task:** You are given a positive integer num consisting of exactly four digits. Split num into two new integers new1 and new2 by using the digits found in num. Leading zeros are allowed in new1 and new2, and all the digits found in num must be used.\n",
    "\n",
    "For example, given num = 2932, you have the following digits: two 2's, one 9 and one 3. Some of the possible pairs [new1, new2] are [22, 93], [23, 92], [223, 9] and [2, 329].\n",
    "\n",
    "Return the minimum possible sum of new1 and new2."
   ]
  },
  {
   "cell_type": "code",
   "execution_count": 48,
   "metadata": {},
   "outputs": [],
   "source": [
    "def minimumSum(num: int) -> int:\n",
    "        num_lst = sorted([int(x) for x in str(num)])\n",
    "        num1, num2 = list(), list()\n",
    "        num_boolean = True\n",
    "        for i in num_lst:\n",
    "                if num_boolean == True:\n",
    "                        num1.append(i)\n",
    "                        num_boolean = False\n",
    "                else:\n",
    "                        num2.append(i)\n",
    "                        num_boolean = True\n",
    "        num1, num2 = [str(x) for x in num1], [str(x) for x in num2]\n",
    "        num1, num2 = int(''.join(num1)), int(''.join(num2))\n",
    "        return num1 + num2"
   ]
  },
  {
   "cell_type": "markdown",
   "metadata": {},
   "source": [
    "**Task:** Hercy wants to save money for his first car. He puts money in the Leetcode bank every day.\n",
    "\n",
    "He starts by putting in $1 on Monday, the first day. Every day from Tuesday to Sunday, he will put in $1 more than the day before. On every subsequent Monday, he will put in $1 more than the previous Monday.\n",
    "\n",
    "Given n, return the total amount of money he will have in the Leetcode bank at the end of the nth day."
   ]
  },
  {
   "cell_type": "code",
   "execution_count": 127,
   "metadata": {},
   "outputs": [],
   "source": [
    "class Solution:\n",
    "    def totalMoney(self, n: int) -> int:\n",
    "        cnt = 0\n",
    "        list_cnt = list()\n",
    "\n",
    "        for i in range(n):\n",
    "            list_cnt.append((i % 7 + i // 7) + 1)\n",
    "            cnt += (i % 7 + i // 7) + 1\n",
    "        return cnt"
   ]
  },
  {
   "cell_type": "markdown",
   "metadata": {},
   "source": [
    "**Task:** You are given coordinates, a string that represents the coordinates of a square of the chessboard. Below is a chessboard for your reference.\n",
    "\n",
    "Return true if the square is white, and false if the square is black.\n",
    "\n",
    "The coordinate will always represent a valid chessboard square. The coordinate will always have the letter first, and the number second."
   ]
  },
  {
   "cell_type": "code",
   "execution_count": null,
   "metadata": {},
   "outputs": [],
   "source": [
    "class Solution:\n",
    "    def squareIsWhite(self, coordinates: str) -> bool:\n",
    "        if coordinates[0] in ['a', 'c', 'e', 'g'] and int(coordinates[1]) % 2 == 0:\n",
    "            return True\n",
    "        elif coordinates[0] in ['b', 'd', 'f', 'h'] and int(coordinates[1]) % 2 != 0:\n",
    "            return True\n",
    "        else:\n",
    "            return False"
   ]
  },
  {
   "cell_type": "markdown",
   "metadata": {},
   "source": [
    "**Task:** Given an array of positive integers arr, return the sum of all possible odd-length subarrays of arr.\n",
    "\n",
    "A subarray is a contiguous subsequence of the array.\n",
    "\n"
   ]
  },
  {
   "cell_type": "code",
   "execution_count": 143,
   "metadata": {},
   "outputs": [],
   "source": [
    "class Solution:\n",
    "    def sumOddLengthSubarrays(self, arr) -> int:\n",
    "        result = 0\n",
    "        for i in range(len(arr)):\n",
    "            for j in range(i, len(arr)):\n",
    "                subarray = arr[i:j+1]\n",
    "                if len(subarray) % 2 != 0:\n",
    "                    result += sum(subarray)    \n",
    "        return result"
   ]
  },
  {
   "cell_type": "markdown",
   "metadata": {},
   "source": [
    "**Task:** You are given an integer n, the number of teams in a tournament that has strange rules:\n",
    "\n",
    "- If the current number of teams is even, each team gets paired with another team. A total of n / 2 matches are played, and n / 2 teams advance to the next round.\n",
    "- If the current number of teams is odd, one team randomly advances in the tournament, and the rest gets paired. A total of (n - 1) / 2 matches are played, and (n - 1) / 2 + 1 teams advance to the next round.\n",
    "\n",
    "Return the number of matches played in the tournament until a winner is decided."
   ]
  },
  {
   "cell_type": "code",
   "execution_count": 34,
   "metadata": {},
   "outputs": [],
   "source": [
    "class Solution:\n",
    "    def numberOfMatches(self, n: int) -> int:\n",
    "        list_for_sum = []\n",
    "        while n > 0:\n",
    "            cnt_matches = n // 2\n",
    "            list_for_sum.append(cnt_matches)\n",
    "            cnt_in_teams = cnt_matches + 1\n",
    "            n = n - cnt_matches\n",
    "            if n == 1:\n",
    "                break\n",
    "        return sum(list_for_sum)"
   ]
  },
  {
   "cell_type": "markdown",
   "metadata": {},
   "source": [
    "**Task:** You are given an integer n and an integer start.\n",
    "\n",
    "Define an array nums where nums[i] = start + 2 * i (0-indexed) and n == nums.length.\n",
    "\n",
    "Return the bitwise XOR of all elements of nums."
   ]
  },
  {
   "cell_type": "code",
   "execution_count": 73,
   "metadata": {},
   "outputs": [],
   "source": [
    "class Solution:\n",
    "    def xorOperation(self, n: int, start: int) -> int:\n",
    "        result = start\n",
    "        for i in range(1, n):\n",
    "            result ^= (start + 2 * i)\n",
    "        return result   "
   ]
  },
  {
   "cell_type": "markdown",
   "metadata": {},
   "source": [
    "**Task:** Given an integer num, return the number of digits in num that divide num.\n",
    "\n",
    "An integer val divides nums if nums % val == 0."
   ]
  },
  {
   "cell_type": "code",
   "execution_count": null,
   "metadata": {},
   "outputs": [],
   "source": [
    "class Solution:\n",
    "    def countDigits(self, num: int) -> int:\n",
    "        cnt = 0\n",
    "        for i in list(str(num)):\n",
    "            if num % int(i) == 0:\n",
    "                cnt += 1\n",
    "        return cnt"
   ]
  },
  {
   "cell_type": "markdown",
   "metadata": {},
   "source": [
    "**Task:** Given head which is a reference node to a singly-linked list. The value of each node in the linked list is either 0 or 1. The linked list holds the binary representation of a number.\n",
    "\n",
    "Return the decimal value of the number in the linked list.\n",
    "\n",
    "The most significant bit is at the head of the linked list."
   ]
  },
  {
   "cell_type": "code",
   "execution_count": null,
   "metadata": {},
   "outputs": [],
   "source": [
    "class ListNode:\n",
    "    def __init__(self, val=0, next=None):\n",
    "        self.val = val\n",
    "        self.next = next\n",
    "\n",
    "class Solution:\n",
    "    def getDecimalValue(self, head: ListNode) -> int:\n",
    "        decimal_value = 0\n",
    "        current = head\n",
    "\n",
    "        while current is not None:\n",
    "            decimal_value = (decimal_value << 1) | current.val\n",
    "            current = current.next\n",
    "\n",
    "        return decimal_value"
   ]
  },
  {
   "cell_type": "markdown",
   "metadata": {},
   "source": [
    "**Task:** \n",
    "\n",
    "**English:** Alice and Bob take turns playing a game, with Alice starting first.\n",
    "Initially, there is a number n on the chalkboard. On each player's turn, that player makes a move consisting of:\n",
    "Choosing any x with 0 < x < n and n % x == 0.\n",
    "Replacing the number n on the chalkboard with n - x.\n",
    "Also, if a player cannot make a move, they lose the game.\n",
    "Return true if and only if Alice wins the game, assuming both players play optimally.\n",
    "\n",
    "**Русский:** Алиса и Боб по очереди играют в игру, причем Алиса начинает первой. Изначально на доске написано число n. В свой ход каждый игрок делает ход, состоящий из:\n",
    "Выбор любого x с 0 < x < n и n % x == 0. Замена числа n на доске на n – x. Кроме того, если игрок не может сделать ход, он проигрывает игру.\n",
    "Возвращает true тогда и только тогда, когда Алиса выиграет игру, предполагая, что оба игрока играют оптимально."
   ]
  },
  {
   "cell_type": "code",
   "execution_count": null,
   "metadata": {},
   "outputs": [],
   "source": [
    "class Solution:\n",
    "    def divisorGame(self, n: int) -> bool:\n",
    "        return not n % 2"
   ]
  },
  {
   "cell_type": "markdown",
   "metadata": {},
   "source": [
    "**Task:** \n",
    "\n",
    "**English:** You are given two positive integers low and high. An integer x consisting of 2 * n digits is symmetric if the sum of the first n digits of x is equal to the sum of the last n digits of x. Numbers with an odd number of digits are never symmetric.\n",
    "\n",
    "Return the number of symmetric integers in the range [low, high].\n",
    "\n",
    "**Русский:** Вам даны два положительных целых числа, младшее и старшее. Целое число x, состоящее из 2 * n цифр, является симметричным, если сумма первых n цифр x равна сумме последних n цифр x. Числа с нечетным количеством цифр никогда не являются симметричными.\n",
    "\n",
    "Возвращает количество симметричных целых чисел в диапазоне [низкий, высокий]."
   ]
  },
  {
   "cell_type": "code",
   "execution_count": 24,
   "metadata": {},
   "outputs": [
    {
     "name": "stdout",
     "output_type": "stream",
     "text": [
      "[1203, 1212, 1221, 1230]\n"
     ]
    }
   ],
   "source": [
    "low = 1200 # входные данные\n",
    "high = 1230 # входные данные\n",
    "\n",
    "avg_n = 0\n",
    "first_sum = 0\n",
    "list_for_result = []\n",
    "\n",
    "for i in range(low, high+1):\n",
    "    avg_n = len(str(i)) // 2\n",
    "    if len(str(i)) % 2 == 0:\n",
    "        first_sum, second_sum = sum([int(i) for i in str(i)[:avg_n]]), sum([int(i) for i in str(i)[avg_n:]])\n",
    "        if first_sum == second_sum:\n",
    "            list_for_result.append(i)\n",
    "\n",
    "print(list_for_result)\n"
   ]
  }
 ],
 "metadata": {
  "kernelspec": {
   "display_name": "Python 3",
   "language": "python",
   "name": "python3"
  },
  "language_info": {
   "codemirror_mode": {
    "name": "ipython",
    "version": 3
   },
   "file_extension": ".py",
   "mimetype": "text/x-python",
   "name": "python",
   "nbconvert_exporter": "python",
   "pygments_lexer": "ipython3",
   "version": "3.11.1"
  }
 },
 "nbformat": 4,
 "nbformat_minor": 2
}
