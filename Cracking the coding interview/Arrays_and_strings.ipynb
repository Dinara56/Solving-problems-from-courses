{
 "cells": [
  {
   "cell_type": "markdown",
   "metadata": {},
   "source": [
    "**Задача 1.1.** Реализуйте алгоритм, определяющий, все ли символы в строке встречаются только один раз, если при этом запрещено использование дополнительных стуктур данных."
   ]
  },
  {
   "cell_type": "code",
   "execution_count": 27,
   "metadata": {},
   "outputs": [],
   "source": [
    "def solution_1_1(str_for_check):\n",
    "    for i in str_for_check: \n",
    "        if i not in str_for_check[1:]:\n",
    "            str_for_check = str_for_check[1:]\n",
    "            if str_for_check == '':\n",
    "                return 'Нет повторяющихся элементов'\n",
    "        else:\n",
    "            return 'Есть повторяющиеся элементы'"
   ]
  },
  {
   "cell_type": "code",
   "execution_count": 28,
   "metadata": {},
   "outputs": [
    {
     "data": {
      "text/plain": [
       "'Есть повторяющиеся элементы'"
      ]
     },
     "execution_count": 28,
     "metadata": {},
     "output_type": "execute_result"
    }
   ],
   "source": [
    "str_for_check = '123456fdsvvvv'\n",
    "\n",
    "solution_1_1(str_for_check)"
   ]
  },
  {
   "cell_type": "markdown",
   "metadata": {},
   "source": [
    "**Задача 1.2.** Для двух строк напишите метод, определяющий, является ли одна строка перестановкой второй. Регистр символов учитывается, а пробелы являются существуенными."
   ]
  },
  {
   "cell_type": "code",
   "execution_count": 29,
   "metadata": {},
   "outputs": [],
   "source": [
    "def solution_1_2(first_str, second_str):\n",
    "\n",
    "    first_str = first_str.lower()\n",
    "    second_str = second_str.lower()[::-1]\n",
    "\n",
    "    if first_str == second_str:\n",
    "        return True\n",
    "    else:\n",
    "        return False"
   ]
  },
  {
   "cell_type": "code",
   "execution_count": 32,
   "metadata": {},
   "outputs": [
    {
     "data": {
      "text/plain": [
       "True"
      ]
     },
     "execution_count": 32,
     "metadata": {},
     "output_type": "execute_result"
    }
   ],
   "source": [
    "first_str = '1234AA'\n",
    "second_str = 'aa4321'\n",
    "\n",
    "solution_1_2(first_str, second_str)"
   ]
  },
  {
   "cell_type": "markdown",
   "metadata": {},
   "source": [
    "**Задача 1.3.** Напишите метод, заменяющий все пробелы в строке символами '%20'. Можете считать, что длина строки позволяет сохранить дополнительные символы, а фактическая длина строки известна заранее.\n",
    "\n",
    "- Ввод: \"Mr John Smith    \"\n",
    "- Вывод: \"Mr%20Joh%n20Smith%20%20%20%20\""
   ]
  },
  {
   "cell_type": "code",
   "execution_count": 33,
   "metadata": {},
   "outputs": [],
   "source": [
    "first_str = \"Mr John Smith    \"\n",
    "first_str.replace(\" \", \"$20\")"
   ]
  },
  {
   "cell_type": "code",
   "execution_count": 36,
   "metadata": {},
   "outputs": [
    {
     "data": {
      "text/plain": [
       "14"
      ]
     },
     "execution_count": 36,
     "metadata": {},
     "output_type": "execute_result"
    }
   ],
   "source": [
    "len(\"Mr John Smith \")\n",
    "\n",
    "..."
   ]
  }
 ],
 "metadata": {
  "kernelspec": {
   "display_name": "Python 3",
   "language": "python",
   "name": "python3"
  },
  "language_info": {
   "codemirror_mode": {
    "name": "ipython",
    "version": 3
   },
   "file_extension": ".py",
   "mimetype": "text/x-python",
   "name": "python",
   "nbconvert_exporter": "python",
   "pygments_lexer": "ipython3",
   "version": "3.11.1"
  }
 },
 "nbformat": 4,
 "nbformat_minor": 2
}
