{
 "cells": [
  {
   "cell_type": "markdown",
   "metadata": {},
   "source": [
    "**Условия**:\n",
    "\n",
    "- В этом задании вам предстоит реализовать решение для поиска контактов в объявлениях\n",
    "- Таргет is_bad. Если is_bad = 1 - контакты в объявлении есть, иначе нет\n",
    "- В train.csv разметка может быть неточная\n",
    "- Задача показать результат ROC AUC >= 0.8\n",
    "- ROC AUC будет усредняться по каждой категории: оценка сначала в разрезе каждой категории, а потом усреднение\n",
    "\n",
    "Поля в тренировочном train.csv и проверочном датасетах:\n",
    "- title - заголовок,\n",
    "- description - описание,\n",
    "- subcategory - подкатегория,\n",
    "- category - категория,\n",
    "- price - цена,\n",
    "- region - регион,\n",
    "- city - город,\n",
    "- datetime_submitted - дата размещения"
   ]
  },
  {
   "cell_type": "code",
   "execution_count": null,
   "metadata": {},
   "outputs": [],
   "source": []
  }
 ],
 "metadata": {
  "language_info": {
   "name": "python"
  }
 },
 "nbformat": 4,
 "nbformat_minor": 2
}
