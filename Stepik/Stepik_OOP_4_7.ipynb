{
 "cells": [
  {
   "cell_type": "markdown",
   "metadata": {},
   "source": [
    "#### Тема урока: **декораторы @classmethod и @staticmethod**\n",
    "\n",
    "1) Методы экземпляра\n",
    "2) Методы класса, декоратор @classmethod\n",
    "3) Статические методы, декоратор @staticmethod"
   ]
  },
  {
   "cell_type": "markdown",
   "metadata": {},
   "source": [
    "**Задача:** Реализуйте класс Circle, описывающий круг. При создании экземпляра класс должен принимать один аргумент:\n",
    "\n",
    "- radius — радиус круга\n",
    "\n",
    "Экземпляр класса Circle должен иметь один атрибут:\n",
    "\n",
    "- radius — радиус круга\n",
    "\n",
    "Класс Circle должен иметь один метод класса:\n",
    "\n",
    "- from_diameter() — метод, принимающий в качестве аргумента диаметр круга и возвращающий экземпляр класса Circle, созданный на основе переданного диаметра"
   ]
  },
  {
   "cell_type": "code",
   "execution_count": 1,
   "metadata": {},
   "outputs": [],
   "source": [
    "class Circle:\n",
    "    def __init__(self, radius):\n",
    "        self.radius = radius\n",
    "        self.diameter = radius * 2\n",
    "    \n",
    "    @classmethod    \n",
    "    def from_diameter(cls, diametr):\n",
    "        return cls(diametr/2)"
   ]
  },
  {
   "cell_type": "code",
   "execution_count": 2,
   "metadata": {},
   "outputs": [
    {
     "name": "stdout",
     "output_type": "stream",
     "text": [
      "5.0\n"
     ]
    }
   ],
   "source": [
    "circle = Circle.from_diameter(10)\n",
    "\n",
    "print(circle.radius)"
   ]
  },
  {
   "cell_type": "markdown",
   "metadata": {},
   "source": [
    "**Задача:** Реализуйте класс Rectangle, описывающий прямоугольник. При создании экземпляра класс должен принимать два аргумента в следующем порядке:\n",
    "\n",
    "- length — длина прямоугольника\n",
    "- width — ширина прямоугольника\n",
    "\n",
    "Экземпляр класса Rectangle должен иметь два атрибута:\n",
    "\n",
    "- length — длина прямоугольника\n",
    "- width — ширина прямоугольника\n",
    "\n",
    "Класс Rectangle должен иметь один метод класса:\n",
    "\n",
    "- square() — метод, принимающий в качестве аргумента число side и возвращающий экземпляр класса Rectangle c длиной и шириной, равными side"
   ]
  },
  {
   "cell_type": "code",
   "execution_count": 3,
   "metadata": {},
   "outputs": [],
   "source": [
    "class Rectangle:\n",
    "    def __init__(self, length, width):\n",
    "        self.length = length\n",
    "        self.width = width\n",
    "    \n",
    "    @classmethod   \n",
    "    def square(cls, side):\n",
    "        cls.length = side\n",
    "        cls.width = side\n",
    "        return cls(side, side)"
   ]
  },
  {
   "cell_type": "code",
   "execution_count": 4,
   "metadata": {},
   "outputs": [
    {
     "name": "stdout",
     "output_type": "stream",
     "text": [
      "5\n",
      "5\n"
     ]
    }
   ],
   "source": [
    "rectangle = Rectangle.square(5)\n",
    "\n",
    "print(rectangle.length)\n",
    "print(rectangle.width)"
   ]
  },
  {
   "cell_type": "markdown",
   "metadata": {},
   "source": [
    "**Задача:** Реализуйте класс QuadraticPolynomial, описывающий квадратный трехчлен. При создании экземпляра класс должен принимать три аргумента в следующем порядке:\n",
    "\n",
    "- a — коэффициент a квадратного трехчлена\n",
    "- b — коэффициент b квадратного трехчлена\n",
    "- c — коэффициент c квадратного трехчлена\n",
    "\n",
    "Класс QuadraticPolynomial должен иметь два метода класса:\n",
    "\n",
    "- from_iterable() — метод, принимающий в качестве аргумента итерируемый объект из трех элементов a, b и c, которые представляют коэффициенты квадратного трехчлена, и возвращающий экземпляр класса QuadraticPolynomial, созданный на основе переданных коэффициентов\n",
    "- from_str() — метод, принимающий в качестве аргумента строку, которая содержит коэффициенты a, b и c квадратного трехчлена, записанные через пробел. Метод должен возвращать экземпляр класса QuadraticPolynomial, созданный на основе переданных коэффициентов, предварительно преобразованных в экземпляры класса float "
   ]
  },
  {
   "cell_type": "code",
   "execution_count": 5,
   "metadata": {},
   "outputs": [],
   "source": [
    "class QuadraticPolynomial:\n",
    "    def __init__(self, a, b, c):\n",
    "        self.a = a\n",
    "        self.b = b\n",
    "        self.c = c\n",
    "    \n",
    "    @classmethod\n",
    "    def from_iterable(cls, iter_object):\n",
    "        cls.a = iter_object[0]\n",
    "        cls.b = iter_object[1]\n",
    "        cls.c = iter_object[2]\n",
    "        return cls(iter_object[0], iter_object[1], iter_object[2])\n",
    "        \n",
    "    @classmethod\n",
    "    def from_str(cls, str_):\n",
    "        list_for_str = str_.split()\n",
    "        cls.a = float(list_for_str[0])\n",
    "        cls.b = float(list_for_str[1])\n",
    "        cls.c = float(list_for_str[2])\n",
    "        return cls(float(list_for_str[0]), float(list_for_str[1]), float(list_for_str[2]))"
   ]
  },
  {
   "cell_type": "code",
   "execution_count": 6,
   "metadata": {},
   "outputs": [
    {
     "name": "stdout",
     "output_type": "stream",
     "text": [
      "-1.5\n",
      "4.0\n",
      "14.8\n",
      "17.3\n"
     ]
    }
   ],
   "source": [
    "polynom = QuadraticPolynomial.from_str('-1.5 4 14.8')\n",
    "\n",
    "print(polynom.a)\n",
    "print(polynom.b)\n",
    "print(polynom.c)\n",
    "print(polynom.a + polynom.b + polynom.c)"
   ]
  },
  {
   "cell_type": "markdown",
   "metadata": {},
   "source": [
    "**Задача:** Реализуйте класс Pet, описывающий домашнее животное. При создании экземпляра класс должен принимать один аргумент:\n",
    "\n",
    "- name — имя домашнего животного\n",
    "\n",
    "Экземпляр класса Pet должен иметь один атрибут:\n",
    "\n",
    "- name — имя домашнего животного\n",
    "\n",
    "Класс Pet должен иметь три метода класса:\n",
    "\n",
    "- first_pet() — метод, возвращающий самый первый созданный экземпляр класса Pet. Если ни одного экземпляра еще не было создано, метод должен вернуть значение None\n",
    "- last_pet() — метод, возвращающий самый последний созданный экземпляр класса Pet. Если ни одного экземпляра еще не было создано, метод должен вернуть значение None\n",
    "- num_of_pets() — метод, возвращающий количество созданных экземпляров класса Pet"
   ]
  },
  {
   "cell_type": "code",
   "execution_count": 7,
   "metadata": {},
   "outputs": [],
   "source": [
    "class Pet:\n",
    "    all_pets = []\n",
    "    def __init__(self, name):\n",
    "        self.name = name\n",
    "        Pet.all_pets.append(self)\n",
    "\n",
    "    @classmethod\n",
    "    def first_pet(cls):\n",
    "        if cls.all_pets:\n",
    "            return cls.all_pets[0]\n",
    "        else:\n",
    "            return None\n",
    "\n",
    "    @classmethod\n",
    "    def last_pet(cls):\n",
    "        if cls.all_pets:\n",
    "            return cls.all_pets[-1]\n",
    "        else:\n",
    "            return None\n",
    "\n",
    "    @classmethod\n",
    "    def num_of_pets(cls):\n",
    "        return len(cls.all_pets)"
   ]
  },
  {
   "cell_type": "code",
   "execution_count": 8,
   "metadata": {},
   "outputs": [
    {
     "name": "stdout",
     "output_type": "stream",
     "text": [
      "Ratchet\n",
      "Rivet\n",
      "3\n"
     ]
    }
   ],
   "source": [
    "pet1 = Pet('Ratchet')\n",
    "pet2 = Pet('Clank')\n",
    "pet3 = Pet('Rivet')\n",
    "\n",
    "print(Pet.first_pet().name)\n",
    "print(Pet.last_pet().name)\n",
    "print(Pet.num_of_pets())"
   ]
  },
  {
   "cell_type": "markdown",
   "metadata": {},
   "source": [
    "**Задача:** Реализуйте класс StrExtension, описывающий набор функций для работы со строками. При создании экземпляра класс не должен принимать никаких аргументов.\n",
    "\n",
    "Класс StrExtension должен иметь три статических метода:\n",
    "\n",
    "- remove_vowels() — метод, который принимает в качестве аргумента строку, удаляет из нее все гласные латинские буквы без учета регистра и возвращает полученный результат\n",
    "- leave_alpha() — метод, который принимает в качестве аргумента строку, удаляет из нее все символы, не являющиеся латинскими буквами, и возвращает полученный результат\n",
    "- replace_all() — метод, который принимает три строковых аргумента string, chars и char, заменяет в строке string все символы из chars на char с учетом регистра и возвращает полученный результат."
   ]
  },
  {
   "cell_type": "code",
   "execution_count": 9,
   "metadata": {},
   "outputs": [],
   "source": [
    "class StrExtension:\n",
    "    @staticmethod\n",
    "    def remove_vowels(string):\n",
    "        return ''.join(i for i in string if i.lower() not in 'aeiouy')\n",
    "    \n",
    "    @staticmethod\n",
    "    def leave_alpha(string):\n",
    "        return ''.join(i for i in string if i.isalpha())\n",
    "    \n",
    "    @staticmethod\n",
    "    def replace_all(string, chars, char):\n",
    "        return ''.join(char if i in chars else i for i in string)"
   ]
  },
  {
   "cell_type": "code",
   "execution_count": 10,
   "metadata": {},
   "outputs": [
    {
     "name": "stdout",
     "output_type": "stream",
     "text": [
      "-y-ho-\n",
      "S#epi#\n"
     ]
    }
   ],
   "source": [
    "print(StrExtension.replace_all('Python', 'Ptn', '-'))\n",
    "print(StrExtension.replace_all('Stepik', 'stk', '#'))"
   ]
  }
 ],
 "metadata": {
  "kernelspec": {
   "display_name": "Python 3",
   "language": "python",
   "name": "python3"
  },
  "language_info": {
   "codemirror_mode": {
    "name": "ipython",
    "version": 3
   },
   "file_extension": ".py",
   "mimetype": "text/x-python",
   "name": "python",
   "nbconvert_exporter": "python",
   "pygments_lexer": "ipython3",
   "version": "3.11.1"
  }
 },
 "nbformat": 4,
 "nbformat_minor": 2
}
