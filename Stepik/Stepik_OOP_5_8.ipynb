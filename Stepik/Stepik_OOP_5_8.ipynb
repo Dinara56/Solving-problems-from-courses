{
 "cells": [
  {
   "cell_type": "markdown",
   "metadata": {},
   "source": [
    "#### Тема урока: **работа с атрибутами объектов**\n",
    "\n",
    "Операции с атрибутами\n",
    "\n",
    "1) Магические методы __getattribute__() и __getattr__()\n",
    "2) Магический метод __setattr__()\n",
    "3) Магический метод __delattr__()"
   ]
  },
  {
   "cell_type": "markdown",
   "metadata": {},
   "source": [
    "Задача: Требовалось реализовать класс Item, описывающий предмет. При создании экземпляра класс должен был принимать три аргумента в следующем порядке:\n",
    "\n",
    "- name — название предмета\n",
    "- price — цена предмета в рублях\n",
    "- quantity — количество предметов\n",
    "\n",
    "Предполагалось, что при обращении к атрибуту name экземпляра класса Item будет возвращаться его название с заглавной буквы, а при обращении к атрибуту total — произведение цены предмета на его количество."
   ]
  },
  {
   "cell_type": "code",
   "execution_count": 1,
   "metadata": {},
   "outputs": [],
   "source": [
    "class Item:\n",
    "    def __init__(self, name, price, quantity):\n",
    "        self.name = name\n",
    "        self.price = price\n",
    "        self.quantity = quantity\n",
    "\n",
    "    def __getattribute__(self, attr):\n",
    "        if attr == 'total': \n",
    "            return self.price * self.quantity\n",
    "        elif attr == 'name':\n",
    "            return object.__getattribute__(self, attr).title()\n",
    "        return object.__getattribute__(self, attr)"
   ]
  },
  {
   "cell_type": "markdown",
   "metadata": {},
   "source": [
    "Задача: Требовалось реализовать класс Logger. При создании экземпляра класс не должен был принимать никаких аргументов.\n",
    "\n",
    "Предполагалось, что при установке или изменении значения атрибута экземпляра класса Logger будет выводиться текст:\n",
    "- Изменение значения атрибута <имя атрибута> на <новое значение атрибута>\n",
    "\n",
    "Также планировалось, что при удалении атрибута будет выводиться текст:\n",
    "- Удаление атрибута <имя атрибута>"
   ]
  },
  {
   "cell_type": "code",
   "execution_count": 2,
   "metadata": {},
   "outputs": [],
   "source": [
    "class Logger:\n",
    "    def __setattr__(self, name, value):\n",
    "        print(f'Изменение значения атрибута {name} на {value}')\n",
    "        self.__dict__[name] = value\n",
    "        \n",
    "    def __delattr__(self, name):\n",
    "        print(f'Удаление атрибута {name}')\n",
    "        del self.__dict__[name]"
   ]
  },
  {
   "cell_type": "markdown",
   "metadata": {},
   "source": [
    "Задача: Реализуйте класс Ord. При создании экземпляра класс не должен принимать никаких аргументов.\n",
    "\n",
    "Экземпляр класса Ord должен выступать в качестве альтернативы функции ord(). При обращении к атрибуту экземпляра, именем которого является одиночный символ, должна возвращаться его позиция в таблице символов Unicode."
   ]
  },
  {
   "cell_type": "code",
   "execution_count": 3,
   "metadata": {},
   "outputs": [],
   "source": [
    "class Ord:\n",
    "    def __getattr__(self, attr):\n",
    "        return ord(attr)"
   ]
  },
  {
   "cell_type": "markdown",
   "metadata": {},
   "source": [
    "Задача: Реализуйте класс DefaultObject. При создании экземпляра класс должен принимать один именованный аргумент default, имеющий значение по умолчанию None, а после произвольное количество именованных аргументов. Аргументы, передаваемые после default, должны устанавливаться создаваемому экземпляру в качестве атрибутов.\n",
    "\n",
    "При обращении к несуществующему атрибуту экземпляра класса DefaultObject должно возвращаться значение default."
   ]
  },
  {
   "cell_type": "code",
   "execution_count": 16,
   "metadata": {},
   "outputs": [],
   "source": [
    "class DefaultObject:\n",
    "    def __init__(self, default=None, **kwargs):\n",
    "        self.default = default\n",
    "        for key, value in kwargs.items():\n",
    "            setattr(self, key, value)\n",
    "    def __getattr__(self, attr):\n",
    "        return self.default\n",
    "        "
   ]
  },
  {
   "cell_type": "markdown",
   "metadata": {},
   "source": [
    "Задача: Реализуйте класс NonNegativeObject. При создании экземпляра класс должен принимать произвольное количество именованных аргументов. Все передаваемые аргументы должны устанавливаться создаваемому экземпляру в качестве атрибутов, причем если значением атрибута является отрицательное число, оно должно быть взято с противоположным знаком."
   ]
  },
  {
   "cell_type": "code",
   "execution_count": 23,
   "metadata": {},
   "outputs": [],
   "source": [
    "class NonNegativeObject:\n",
    "    def __init__(self, **kwargs):\n",
    "        for key, value in kwargs.items():\n",
    "            if (type(value) == int or type(value) == float) and value < 0:\n",
    "                setattr(self, key, -value)\n",
    "            else:\n",
    "                setattr(self, key, value)"
   ]
  },
  {
   "cell_type": "markdown",
   "metadata": {},
   "source": [
    "Задача: Реализуйте класс AttrsNumberObject. При создании экземпляра класс должен принимать произвольное количество именованных аргументов. Все передаваемые аргументы должны устанавливаться создаваемому экземпляру в качестве атрибутов.\n",
    "\n",
    "Экземпляр класса AttrsNumberObject должен иметь один атрибут:\n",
    "\n",
    "- attrs_num — количество атрибутов, которыми обладает экземпляр класса AttrsNumberObject на данный момент, включая сам атрибут attrs_num"
   ]
  },
  {
   "cell_type": "code",
   "execution_count": 43,
   "metadata": {},
   "outputs": [],
   "source": [
    "class AttrsNumberObject:\n",
    "\n",
    "    def __init__(self, **kwargs):\n",
    "        for key, value in kwargs.items():\n",
    "            setattr(self, key, value)\n",
    "\n",
    "    def __getattr__(self, attr):\n",
    "        if attr == 'attrs_num':\n",
    "            return len(self.__dict__) + 1"
   ]
  },
  {
   "cell_type": "markdown",
   "metadata": {},
   "source": [
    "Задача: Реализуйте класс Const. При создании экземпляра класс должен принимать произвольное количество именованных аргументов. Все передаваемые аргументы должны устанавливаться создаваемому экземпляру в качестве атрибутов.\n",
    "\n",
    "Класс Const должен разрешать устанавливать атрибуты своим экземплярам и получать их значения, но не разрешать изменять значения этих атрибутов, а также удалять их. При попытке изменить значение атрибута должно возбуждаться исключение AttributeError с текстом:\n",
    "\n",
    "- Изменение значения атрибута невозможно\n",
    "\n",
    "При попытке удалить атрибут должно возбуждаться исключение AttributeError с текстом:\n",
    "\n",
    "- Удаление атрибута невозможно"
   ]
  },
  {
   "cell_type": "code",
   "execution_count": 57,
   "metadata": {},
   "outputs": [],
   "source": [
    "class Const:\n",
    "    def __init__(self, **kwargs):\n",
    "        self.__dict__.update(kwargs)\n",
    "\n",
    "    def __setattr__(self, key, value):\n",
    "        if key in self.__dict__:\n",
    "            raise AttributeError('Изменение значения атрибута невозможно')\n",
    "        object.__setattr__(self, key, value)\n",
    "\n",
    "    def __delattr__(self, item):\n",
    "        raise AttributeError('Удаление атрибута невозможно')"
   ]
  }
 ],
 "metadata": {
  "kernelspec": {
   "display_name": "Python 3",
   "language": "python",
   "name": "python3"
  },
  "language_info": {
   "codemirror_mode": {
    "name": "ipython",
    "version": 3
   },
   "file_extension": ".py",
   "mimetype": "text/x-python",
   "name": "python",
   "nbconvert_exporter": "python",
   "pygments_lexer": "ipython3",
   "version": "3.11.1"
  }
 },
 "nbformat": 4,
 "nbformat_minor": 2
}
