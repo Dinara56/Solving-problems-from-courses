{
 "cells": [
  {
   "cell_type": "markdown",
   "metadata": {},
   "source": [
    "#### Тема урока: **строковое представление объектов**\n",
    "\n",
    "- Магические методы __str__() и __repr__()"
   ]
  },
  {
   "cell_type": "markdown",
   "metadata": {},
   "source": [
    "Задача: Требовалось реализовать класс Book, описывающий книгу. При создании экземпляра класс должен был принимать три аргумента в следующем порядке:\n",
    "\n",
    "- title — название книги\n",
    "- author — автор книги\n",
    "- year — год выпуска книги\n",
    "\n",
    "Предполагалось, что экземпляры класса Book будут иметь следующее формальное строковое представление:\n",
    "\n",
    "- Book('<название книги>', '<автор книги>', <год выпуска книги>)\n",
    "\n",
    "И следующее неформальное строковое представление:\n",
    "\n",
    "- <название книги> (<автор книги>, <год выпуска книги>)"
   ]
  },
  {
   "cell_type": "code",
   "execution_count": 8,
   "metadata": {},
   "outputs": [],
   "source": [
    "class Book:\n",
    "    def __init__(self, title, author, year):\n",
    "        self.title = title\n",
    "        self.author = author\n",
    "        self.year = year\n",
    "\n",
    "    def __str__(self):\n",
    "        return f'{self.title} ({self.author}, {self.year})' \n",
    "\n",
    "    def __repr__(self):\n",
    "        return f\"Book('{self.title}', '{self.author}', {self.year})\""
   ]
  },
  {
   "cell_type": "code",
   "execution_count": 9,
   "metadata": {},
   "outputs": [
    {
     "name": "stdout",
     "output_type": "stream",
     "text": [
      "Изучаем Python (Марк Лутц, 2021)\n",
      "Book('Изучаем Python', 'Марк Лутц', 2021)\n"
     ]
    }
   ],
   "source": [
    "book = Book('Изучаем Python', 'Марк Лутц', 2021)\n",
    "\n",
    "print(book)\n",
    "print(repr(book))"
   ]
  },
  {
   "cell_type": "markdown",
   "metadata": {},
   "source": [
    "Задача: Вам доступен класс Rectangle, описывающий прямоугольник. При создании экземпляра класс принимает два аргумента в следующем порядке:\n",
    "\n",
    "- length — длина прямоугольника\n",
    "- width — ширина прямоугольника\n",
    "\n",
    "Реализуйте для экземпляров класса Rectangle следующее формальное и неформальное строковое представление:\n",
    "\n",
    "- Rectangle(<длина прямоугольника>, <ширина прямоугольника>)"
   ]
  },
  {
   "cell_type": "code",
   "execution_count": 6,
   "metadata": {},
   "outputs": [],
   "source": [
    "class Rectangle:\n",
    "    def __init__(self, length, width):\n",
    "        self.length = length\n",
    "        self.width = width\n",
    "\n",
    "    def __str__(self):\n",
    "        return f'Rectangle({self.length}, {self.width})' \n",
    "\n",
    "    def __repr__(self):\n",
    "        return f'Rectangle({self.length}, {self.width})' "
   ]
  },
  {
   "cell_type": "code",
   "execution_count": 7,
   "metadata": {},
   "outputs": [
    {
     "name": "stdout",
     "output_type": "stream",
     "text": [
      "Rectangle(1, 2)\n",
      "Rectangle(3, 4)\n"
     ]
    }
   ],
   "source": [
    "rectangle1 = Rectangle(1, 2)\n",
    "rectangle2 = Rectangle(3, 4)\n",
    "\n",
    "print(rectangle1)\n",
    "print(repr(rectangle2))"
   ]
  },
  {
   "cell_type": "markdown",
   "metadata": {},
   "source": [
    "Задача: Реализуйте класс Vector, описывающий вектор на плоскости. При создании экземпляра класс должен принимать два аргумента в следующем порядке:\n",
    "\n",
    "- x — координата вектора по оси x\n",
    "- y — координата вектора по оси y\n",
    "\n",
    "Экземпляр класса Vector должен иметь следующее формальное строковое представление:\n",
    "\n",
    "- Vector(<координата x>, <координата y>)\n",
    "\n",
    "И следующее неформальное строковое представление:\n",
    "\n",
    "- Вектор на плоскости с координатами (<координата x>, <координата y>)"
   ]
  },
  {
   "cell_type": "code",
   "execution_count": 2,
   "metadata": {},
   "outputs": [],
   "source": [
    "class Vector:\n",
    "    def __init__(self, x, y):\n",
    "        self.x = x\n",
    "        self.y = y\n",
    "\n",
    "    def __str__(self):\n",
    "        return f'Вектор на плоскости с координатами ({self.x}, {self.y})' \n",
    "\n",
    "    def __repr__(self):\n",
    "        return f'Vector({self.x}, {self.y})' "
   ]
  },
  {
   "cell_type": "code",
   "execution_count": 3,
   "metadata": {},
   "outputs": [
    {
     "name": "stdout",
     "output_type": "stream",
     "text": [
      "Вектор на плоскости с координатами (1, 2)\n",
      "Vector(1, 2)\n"
     ]
    }
   ],
   "source": [
    "vector = Vector(1, 2)\n",
    "\n",
    "print(str(vector))\n",
    "print(repr(vector))"
   ]
  },
  {
   "cell_type": "code",
   "execution_count": 4,
   "metadata": {},
   "outputs": [
    {
     "name": "stdout",
     "output_type": "stream",
     "text": [
      "[Vector(1, 2), Vector(3, 4)]\n"
     ]
    }
   ],
   "source": [
    "vectors = [Vector(1, 2), Vector(3, 4)]\n",
    "\n",
    "print(vectors)"
   ]
  },
  {
   "cell_type": "markdown",
   "metadata": {},
   "source": [
    "Задача: IP-адрес — это уникальный адрес, идентифицирующий устройство в интернете или локальной сети. IP-адреса представляют собой набор из четырех целых чисел, разделенных точками. Например, 192.158.1.38. Каждое число в наборе принадлежит интервалу от 0 до 255. Таким образом, полный диапазон IP-адресации — это адреса от 0.0.0.0 до 255.255.255.255.\n",
    "\n",
    "Реализуйте класс IPAddress, описывающий IP-адрес. При создании экземпляра класс должен принимать один аргумент:\n",
    "\n",
    "- ipaddress — IP-адрес, представленный в одном из следующих вариантов:\n",
    "1) строка из четырех целых чисел, разделенных точками\n",
    "2) список или кортеж из четырех целых чисел\n",
    "\n",
    "Экземпляр класса IPAddress должен иметь следующее формальное строковое представление:\n",
    "\n",
    "- IPAddress('<IP-адрес в виде четырех целых чисел, разделенных точками>')\n",
    "\n",
    "И следующее неформальное строковое представление:\n",
    "\n",
    "- <IP-адрес в виде четырех целых чисел, разделенных точками>"
   ]
  },
  {
   "cell_type": "code",
   "execution_count": 10,
   "metadata": {},
   "outputs": [],
   "source": [
    "class IPAddress:\n",
    "    def __init__(self, ipaddress):\n",
    "        \n",
    "        if isinstance(ipaddress, str):\n",
    "            parts = ipaddress.split('.')\n",
    "            if len(parts) != 4:\n",
    "                raise ValueError(\"Invalid IP address format\")\n",
    "            for part in parts:\n",
    "                if not part.isdigit() or not (0 <= int(part) <= 255):\n",
    "                    raise ValueError(\"Invalid IP address format\")\n",
    "            self.ipaddress = ipaddress\n",
    "            \n",
    "        elif isinstance(ipaddress, (list, tuple)):\n",
    "            if len(ipaddress) != 4:\n",
    "                raise ValueError(\"Invalid IP address format\")\n",
    "            for part in ipaddress:\n",
    "                if not isinstance(part, int) or not (0 <= part <= 255):\n",
    "                    raise ValueError(\"Invalid IP address format\")\n",
    "            self.ipaddress = '.'.join(map(str, ipaddress))\n",
    "        else:\n",
    "            raise ValueError(\"Invalid IP address format\")\n",
    "\n",
    "    def __str__(self):\n",
    "        return self.ipaddress\n",
    "\n",
    "    def __repr__(self):\n",
    "        return f\"IPAddress('{self.ipaddress}')\""
   ]
  },
  {
   "cell_type": "code",
   "execution_count": 11,
   "metadata": {},
   "outputs": [
    {
     "name": "stdout",
     "output_type": "stream",
     "text": [
      "1.1.10.10\n",
      "IPAddress('1.1.10.10')\n"
     ]
    }
   ],
   "source": [
    "ip = IPAddress([1, 1, 10, 10])\n",
    "\n",
    "print(str(ip))\n",
    "print(repr(ip))"
   ]
  },
  {
   "cell_type": "markdown",
   "metadata": {},
   "source": [
    "Задача: Реализуйте класс PhoneNumber, описывающий телефонный номер. При создании экземпляра класс должен принимать один аргумент:\n",
    "\n",
    "- phone_number — телефонный номер, представляющий строку из десяти цифр в одном из следующих форматов:\n",
    "1) dddddddddd\n",
    "2) ddd ddd dddd\n",
    "\n",
    "Экземпляр класса PhoneNumber должен иметь следующее формальное строковое представление:\n",
    "\n",
    "- PhoneNumber('<телефонный номер в формате dddddddddd>')\n",
    "\n",
    "И следующее неформальное строковое представление:\n",
    "\n",
    "- <телефонный номер в формате (ddd) ddd-dddd>"
   ]
  },
  {
   "cell_type": "code",
   "execution_count": 12,
   "metadata": {},
   "outputs": [],
   "source": [
    "class PhoneNumber:\n",
    "    def __init__(self, phone_number):\n",
    "        \n",
    "        phone_number = phone_number.replace(\" \", \"\").replace(\"-\", \"\")\n",
    "        \n",
    "        if len(phone_number) != 10 or not phone_number.isdigit():\n",
    "            raise ValueError(\"Invalid phone number format\")\n",
    "        \n",
    "        self.phone_number = phone_number\n",
    "\n",
    "    def __repr__(self):\n",
    "        formatted_number = f\"({self.phone_number[:3]}) {self.phone_number[3:6]}-{self.phone_number[6:]}\"\n",
    "        return f\"PhoneNumber('{self.phone_number}')\"\n",
    "\n",
    "    def __str__(self):\n",
    "        return f\"({self.phone_number[:3]}) {self.phone_number[3:6]}-{self.phone_number[6:]}\""
   ]
  },
  {
   "cell_type": "code",
   "execution_count": 13,
   "metadata": {},
   "outputs": [
    {
     "name": "stdout",
     "output_type": "stream",
     "text": [
      "(917) 396-3385\n",
      "PhoneNumber('9173963385')\n"
     ]
    }
   ],
   "source": [
    "phone = PhoneNumber('9173963385')\n",
    "\n",
    "print(str(phone))\n",
    "print(repr(phone))"
   ]
  },
  {
   "cell_type": "markdown",
   "metadata": {},
   "source": [
    "Задача: Реализуйте класс AnyClass. При создании экземпляра класс должен принимать произвольное количество именованных аргументов и устанавливать их в качестве атрибутов создаваемому экземпляру.\n",
    "\n",
    "Экземпляр класса AnyClass должен иметь следующее формальное строковое представление:\n",
    "\n",
    "- AnyClass(<имя 1-го атрибута>=<значение 1-го атрибута>, <имя 2-го атрибута>=<значение 2-го атрибута>, ...)\n",
    "\n",
    "И следующее неформальное строковое представление:\n",
    "\n",
    "- AnyClass: <имя 1-го атрибута>=<значение 1-го атрибута>, <имя 2-го атрибута>=<значение 2-го атрибута>, ..."
   ]
  },
  {
   "cell_type": "code",
   "execution_count": 7,
   "metadata": {},
   "outputs": [],
   "source": [
    "class AnyClass:\n",
    "    def __init__(self, **kwargs):\n",
    "        self.__dict__.update(kwargs)\n",
    "\n",
    "    def __str__(self):\n",
    "        attributes = \", \".join([f\"{key}='{value}'\" if type(value) == str else f\"{key}={value}\" for key, value in self.__dict__.items()])\n",
    "        return f\"AnyClass: {attributes}\"\n",
    "\n",
    "    def __repr__(self):\n",
    "        attributes = \", \".join([f\"{key}='{value}'\" if type(value) == str else f\"{key}={value}\" for key, value in self.__dict__.items()])\n",
    "        return f\"AnyClass({attributes})\""
   ]
  }
 ],
 "metadata": {
  "kernelspec": {
   "display_name": "Python 3",
   "language": "python",
   "name": "python3"
  },
  "language_info": {
   "codemirror_mode": {
    "name": "ipython",
    "version": 3
   },
   "file_extension": ".py",
   "mimetype": "text/x-python",
   "name": "python",
   "nbconvert_exporter": "python",
   "pygments_lexer": "ipython3",
   "version": "3.11.1"
  }
 },
 "nbformat": 4,
 "nbformat_minor": 2
}
