{
 "cells": [
  {
   "cell_type": "markdown",
   "metadata": {},
   "source": [
    "**Теория:**\n",
    "\n",
    "**Что такое линейный поиск?**\n",
    "\n",
    "- это вид поиска заданного элемента на некотором множестве, осуществляемый путем последовательного сравнения очередного рассматриваемого значения с искомым до тех пор, пока эти значения не совпадут.\n",
    "\n",
    "Какие преимущества есть у линейного поиска? \n",
    "\n",
    "- не требует сортировки значений множества\n",
    "- прост в реализации\n",
    "- может работать в потоковом режиме при непосредственном получении данных из любого источника\n",
    "- не требует дополнительной памяти\n",
    "\n",
    "Когда применять линейный поиск? \n",
    "\n",
    "- на небольшом массиве\n",
    "- в случае однократного поиска в неупорядоченном списке\n",
    "\n",
    "Временная сложность:\n",
    "\n",
    "- Лучшее - O(1) - в лучшем случае, когда искомый элемент занимает **первую позицию**, алгоритм произведет всего одно сравнение\n",
    "- Среднее - O(n/2)=O(n) - в среднем этот алгоритм требует n/2 итераций цикла\n",
    "- Худшее - O(n) - худшему случаю соответствуют две ситуации: искомый элемент занимает **последнюю позицию, или он вовсе отсутствует в массиве**"
   ]
  },
  {
   "cell_type": "markdown",
   "metadata": {},
   "source": [
    "--------"
   ]
  },
  {
   "cell_type": "markdown",
   "metadata": {},
   "source": [
    "**Задача:** Напишите программу, которая определяет, сколько раз встречается заданное число x в данном массиве."
   ]
  },
  {
   "cell_type": "code",
   "execution_count": null,
   "metadata": {},
   "outputs": [],
   "source": [
    "_, lst = input(), list(map(int, input().split()))\n",
    "\n",
    "search_values = int(input())\n",
    "\n",
    "print(len([i for i in lst if i == search_values]))"
   ]
  },
  {
   "cell_type": "markdown",
   "metadata": {},
   "source": [
    "**Задача:** Напишите программу, которая определяет, встречается ли заданное число x в последовательности чисел."
   ]
  },
  {
   "cell_type": "code",
   "execution_count": null,
   "metadata": {},
   "outputs": [],
   "source": [
    "# first solution\n",
    "\n",
    "_, lst = input(), list(map(int, input().split()))\n",
    "\n",
    "search_values = int(input())\n",
    "\n",
    "if len([i for i in lst if i == search_values]) == 0:\n",
    "    print('NO')\n",
    "else:\n",
    "    print('YES')"
   ]
  },
  {
   "cell_type": "code",
   "execution_count": null,
   "metadata": {},
   "outputs": [],
   "source": [
    "# second solution\n",
    "\n",
    "n, lst, x = int(input()), input().split(), int(input())\n",
    "print('YES' if x in lst else 'NO')"
   ]
  },
  {
   "cell_type": "markdown",
   "metadata": {},
   "source": [
    "**Задача:** Напишите программу, которая выводит номера элементов последовательности, равных данному числу."
   ]
  },
  {
   "cell_type": "code",
   "execution_count": null,
   "metadata": {},
   "outputs": [],
   "source": [
    "n, lst, x = int(input()), input().split(), int(input())\n",
    "\n",
    "list_for_values = []\n",
    "for i, j in enumerate(lst):\n",
    "    if int(j) == x:\n",
    "        list_for_values.append(i + 1)\n",
    "\n",
    "print(*list_for_values)"
   ]
  },
  {
   "cell_type": "markdown",
   "metadata": {},
   "source": [
    "**Задача:** Напишите программу, которая находит в последовательности элемент, самый близкий по величине к данному числу."
   ]
  },
  {
   "cell_type": "code",
   "execution_count": 18,
   "metadata": {},
   "outputs": [
    {
     "name": "stdout",
     "output_type": "stream",
     "text": [
      "5\n"
     ]
    }
   ],
   "source": [
    "n, lst, x = int(input()), input().split(), int(input())\n",
    "\n",
    "dict_for_diff = {}\n",
    "for i in lst:\n",
    "    if abs(int(i) - x) not in dict_for_diff.keys():\n",
    "        dict_for_diff[abs(int(i) - x)] = [int(i)]\n",
    "    else:\n",
    "        dict_for_diff[abs(int(i) - x)].append(int(i))\n",
    "\n",
    "min_diff = min([i for i in dict_for_diff.keys()])\n",
    "\n",
    "for i in dict_for_diff:\n",
    "    if i == min_diff:\n",
    "        if len(dict_for_diff[i]) > 1:\n",
    "            print(max(dict_for_diff[i]))\n",
    "        else:\n",
    "            print(dict_for_diff[i][0])"
   ]
  },
  {
   "cell_type": "markdown",
   "metadata": {},
   "source": [
    "**Задача:** Школьник Витя получил доступ к онлайн журналу на ДНЕВНИК.РУ и хочет заменить все свои минимальные оценки на максимальные. Помогите Вите, напишите программу, которая заменяет его минимальные оценки на максимальные."
   ]
  },
  {
   "cell_type": "code",
   "execution_count": 19,
   "metadata": {},
   "outputs": [
    {
     "name": "stdout",
     "output_type": "stream",
     "text": [
      "[4, 4, 4, 3, 4]\n"
     ]
    }
   ],
   "source": [
    "n, lst = int(input()), input().split()\n",
    "\n",
    "list_with_new_values = []\n",
    "min_value = min((list(map(int, lst))))\n",
    "max_value = max((list(map(int, lst))))\n",
    "\n",
    "for i in lst:\n",
    "    if int(i) == min_value:\n",
    "        list_with_new_values.append(max_value)\n",
    "    else:\n",
    "        list_with_new_values.append(int(i))\n",
    "\n",
    "print(*list_with_new_values)"
   ]
  },
  {
   "cell_type": "markdown",
   "metadata": {},
   "source": [
    "**Задача:** Напишите программу, которая выводит номер элемента последовательности, равного данному числу. Если таких элементов несколько, выведите номер первого из них. "
   ]
  },
  {
   "cell_type": "code",
   "execution_count": 38,
   "metadata": {},
   "outputs": [
    {
     "name": "stdout",
     "output_type": "stream",
     "text": [
      "\n"
     ]
    }
   ],
   "source": [
    "n, lst, x = int(input()), input().split(), int(input())\n",
    "lst = list(map(int, lst))\n",
    "\n",
    "dict_for_values = dict()\n",
    "\n",
    "for i, j in enumerate(lst):\n",
    "    if j == x:\n",
    "        if j not in dict_for_values.keys():\n",
    "            dict_for_values[j] = [i]\n",
    "        else:\n",
    "            dict_for_values[j].append(i)\n",
    "\n",
    "if dict_for_values == {}:\n",
    "    print()\n",
    "else:    \n",
    "    min_value =  min([i for i in dict_for_values.values()][0])\n",
    "    print(min_value + 1)"
   ]
  },
  {
   "cell_type": "markdown",
   "metadata": {},
   "source": [
    "**Задача:** Напишите программу, которая выводит номер элемента последовательности, равный данному числу. Если таких элементов несколько, выведите номер последнего из них. "
   ]
  },
  {
   "cell_type": "code",
   "execution_count": 37,
   "metadata": {},
   "outputs": [
    {
     "data": {
      "text/plain": [
       "{}"
      ]
     },
     "execution_count": 37,
     "metadata": {},
     "output_type": "execute_result"
    }
   ],
   "source": [
    "n, lst, x = int(input()), input().split(), int(input())\n",
    "lst = list(map(int, lst))\n",
    "\n",
    "dict_for_values = dict()\n",
    "\n",
    "for i, j in enumerate(lst):\n",
    "    if j == x:\n",
    "        if j not in dict_for_values.keys():\n",
    "            dict_for_values[j] = [i]\n",
    "        else:\n",
    "            dict_for_values[j].append(i)\n",
    "\n",
    "if dict_for_values == {}:\n",
    "    print()\n",
    "else:    \n",
    "    value =  [i for i in dict_for_values.values()][0][-1]\n",
    "    print(value + 1)"
   ]
  }
 ],
 "metadata": {
  "kernelspec": {
   "display_name": "Python 3",
   "language": "python",
   "name": "python3"
  },
  "language_info": {
   "codemirror_mode": {
    "name": "ipython",
    "version": 3
   },
   "file_extension": ".py",
   "mimetype": "text/x-python",
   "name": "python",
   "nbconvert_exporter": "python",
   "pygments_lexer": "ipython3",
   "version": "3.11.1"
  }
 },
 "nbformat": 4,
 "nbformat_minor": 2
}
