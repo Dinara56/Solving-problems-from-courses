{
 "cells": [
  {
   "cell_type": "markdown",
   "metadata": {},
   "source": [
    "**Теория:**\n",
    "\n",
    "**Суть алгоритма бинарного поиска:**\n",
    "\n",
    "Бинарный поиск (Binary search)– это поиск заданного элемента на упорядоченном множестве, осуществляемый путем неоднократного деления этого множества на две части таким образом, что искомый элемент попадает в одну из этих частей. Поиск заканчивается при совпадении искомого элемента с элементом, который является границей между частями множества или при отсутствии искомого элемента.\n",
    "\n",
    "Бинарный поиск применяется к **отсортированным множествам**.\n",
    "\n",
    "**Применимость:**\n",
    "\n",
    "Применяется на **упорядоченном массиве** c большИм количеством элементов **при ограниченном времени** выполнения. \n",
    "\n",
    "**Алгоритм:**\n",
    "\n",
    "1) Зона поиска (на первом шаге ей является весь массив) **делится на две равные части, путем определения ее среднего ​(mid)​ элемента**;\n",
    "2) **Cредний элемент сравнивается** с искомым ​(x)​, результатом этого сравнения будет один из трех случаев: \n",
    "- **x<mid**. Крайней правой границей области поиска становится элемент, стоящий перед средним (right ← mid−1); \n",
    "- **x>mid**. Крайней левой границей области поиска становится следующий за средним элемент  (left ← mid+1);\n",
    "- **x=mid**. Значения среднего и искомого элементов совпадают, следовательно элемент найден, работа алгоритма завершается.\n",
    "3) Если для проверки не осталось ни одного элемента, то алгоритм завершается, иначе выполняется переход к пункту 1.\n",
    "\n",
    "**Реализация:**\n",
    "\n",
    "```\n",
    "def binary_search(array, x):\n",
    "\n",
    "    left = 0\n",
    "    right = len(array) - 1\n",
    "    while left <= right:\n",
    "\n",
    "        mid = left + (right - left) // 2 # вычисление серединного элемента\n",
    "\n",
    "        if array[mid] == x: # если серединный элемент равен ключу, то выводим индекс серединного элемента\n",
    "            return mid\n",
    "\n",
    "        elif array[mid] < x: # если серединный элемент меньше ключа, то смещаем левую границу\n",
    "            left = mid + 1\n",
    "\n",
    "        else:\n",
    "            right = mid - 1 # если серединный элемент больше ключа, то смещаем правую границу\n",
    "\n",
    "    return -1 # если не нашли соответствуюшего элемента, возвращаем \"-1\"\n",
    "```\n",
    "\n",
    "**Временная сложность:**\n",
    "\n",
    "- Лучшее - O(1) - в лучшем случае, когда искомый элемент находится **в середине массива**, алгоритм произведет всего одно сравнение\n",
    "- Среднее - O(logn) - в среднем этот алгоритм требует logn итераций цикла\n",
    "- Худшее - O(logn) - худшему случаю соответствуют две ситуации: искомый элемент занимает **последнюю позицию, или он вовсе отсутствует в массиве**\n",
    "\n",
    "-------\n"
   ]
  },
  {
   "cell_type": "markdown",
   "metadata": {},
   "source": [
    "**Задача:** Некто загадал число от 1 до N. За какое наименьшее количество вопросов (на которые он отвечает \"да\" или \"нет\") можно угадать задуманное число?"
   ]
  },
  {
   "cell_type": "code",
   "execution_count": 88,
   "metadata": {},
   "outputs": [],
   "source": [
    "# first solution\n",
    "def guess_number(n):\n",
    "\n",
    "    left, right = 1, n\n",
    "    cnt = 0\n",
    "\n",
    "    while left < right:\n",
    "\n",
    "        mid = left + (right - left) // 2\n",
    "\n",
    "        if mid == n:\n",
    "            left = mid + 1\n",
    "            \n",
    "        elif mid != n:\n",
    "            right = mid\n",
    "\n",
    "        cnt += 1\n",
    "\n",
    "    return cnt"
   ]
  },
  {
   "cell_type": "code",
   "execution_count": null,
   "metadata": {},
   "outputs": [],
   "source": [
    "# second solution\n",
    "from math import log2, ceil\n",
    "\n",
    "print(ceil(log2(int(input()))))"
   ]
  },
  {
   "cell_type": "code",
   "execution_count": 92,
   "metadata": {},
   "outputs": [
    {
     "data": {
      "text/plain": [
       "4"
      ]
     },
     "execution_count": 92,
     "metadata": {},
     "output_type": "execute_result"
    }
   ],
   "source": [
    "guess_number(10)"
   ]
  },
  {
   "cell_type": "markdown",
   "metadata": {},
   "source": [
    "**Задача:** Реализуйте алгоритм бинарного поиска."
   ]
  },
  {
   "cell_type": "code",
   "execution_count": null,
   "metadata": {},
   "outputs": [],
   "source": [
    "N, K = [int(i) for i in input().split(' ')]\n",
    "N_input = list(map(int, input().split(' ')))\n",
    "K_input = list(map(int, input().split(' ')))\n",
    "\n",
    "def binary_search(N_input, K_values):\n",
    "\n",
    "    left = 0\n",
    "    right = len(N_input) - 1\n",
    "\n",
    "    while left <= right:\n",
    "\n",
    "        mid = left + (right - left) // 2\n",
    "\n",
    "        if N_input[mid] == K_values:\n",
    "            return 'YES'\n",
    "        \n",
    "        elif N_input[mid] < K_values:\n",
    "            left = mid + 1\n",
    "        \n",
    "        else:\n",
    "            right = mid - 1\n",
    "\n",
    "    return 'NO'\n",
    "\n",
    "for i in K_input:\n",
    "    print(binary_search(N_input, i))"
   ]
  }
 ],
 "metadata": {
  "kernelspec": {
   "display_name": "Python 3",
   "language": "python",
   "name": "python3"
  },
  "language_info": {
   "codemirror_mode": {
    "name": "ipython",
    "version": 3
   },
   "file_extension": ".py",
   "mimetype": "text/x-python",
   "name": "python",
   "nbconvert_exporter": "python",
   "pygments_lexer": "ipython3",
   "version": "3.11.1"
  }
 },
 "nbformat": 4,
 "nbformat_minor": 2
}
