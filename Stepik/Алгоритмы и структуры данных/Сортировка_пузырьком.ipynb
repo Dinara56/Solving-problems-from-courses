{
 "cells": [
  {
   "cell_type": "markdown",
   "metadata": {},
   "source": [
    "**Теория:**\n",
    "\n",
    "**Идея сортировки пузырьком (Bubble Sort):**\n",
    "\n",
    "Пройдемся по нашей последовательности и найдем самый большой элемент и поставим на последнее место в последовательности. Далее, еще раз пройдем и найдем самый большой элемент, не считая последний элемент, и поставим его на предпоследнее место. И так далее пока не достигнем начала. \n",
    "Находить наибольший элемент будем с помощью сравнений рядом стоящих элементов. Если пара элементов находится не в том порядке(левый элемент больше, чем правый), то меняем их местами. С помощью таких сравнений очередных пар, мы поместим наибольший элемент в конце списка. При каждом проходе очередной наибольший элемент массива ставится на своё место в конце массива рядом с предыдущим «наибольшим элементом», а наименьший элемент перемещается на одну позицию к началу массива («всплывает» до нужной позиции, как пузырёк в воде — отсюда и название алгоритма).\n",
    "\n",
    "**Реализация:**\n",
    "\n",
    "```\n",
    "def bubble_sort(array):\n",
    "    for i in range(len(array) - 1, 0, -1): # на какое место будем ставим наибольший элемент\n",
    "        for j in range(i): # проходим по не отсортированной последовательности\n",
    "            if array[j] > array[j + 1]: # если порядок элементов неправильный\n",
    "                # меняем местами пары\n",
    "                array[j], array[j + 1] = array[j + 1], array[j]\n",
    "```\n",
    "\n",
    "**Реализация с оптимизацией:**\n",
    "\n",
    "```\n",
    "def bubble_sort(array):\n",
    "    for i in range(len(array) - 1, 0, -1):\n",
    "        flag = False  # False - не было обменов, True - был хотя бы 1 обмен\n",
    "        for j in range(i):\n",
    "            if array[j] > array[j + 1]:\n",
    "                array[j], array[j + 1] = array[j + 1], array[j]\n",
    "                flag = True  # меняем флажок\n",
    "\n",
    "        if flag == False:  # если значение флага не поменялось\n",
    "            return  # массив отсортирован.Выходим с функци\n",
    "```\n",
    "\n",
    "**Свойства алгоритма сортировки пузырьком:**\n",
    "\n",
    "- Устойчивость - Да - При равенстве элементов не происходит переупорядочивания элементов\n",
    "- Внутренняя/внешняя сортировка - Внутренняя - Нужно несколько раз пробегать по последовательности\n",
    "- Естественность поведения - Да - При частичном сортированном массиве алгоритм не будет менять их относительный порядок и сработает быстрее обычного\n",
    "\n",
    "**Временная сложность:**\n",
    "\n",
    "- Лучшее - O(n) - В лучшем случае, когда список уже отсортирован. Делаем 1 проход, чтобы убедится что данные упорядочены\n",
    "- В среднем - O(n в 2) - В среднем этот алгоритм требует n в 2 итераций цикла\n",
    "- В худшем - O(n в 2) - В худшем случае, когда список уже отсортирован в обратном порядке, чем нужно\n",
    "\n",
    "---"
   ]
  },
  {
   "cell_type": "markdown",
   "metadata": {},
   "source": [
    "**Задача:** Напишите программу, которая сортирует массив по неубыванию с помощью сортировки пузырьком."
   ]
  },
  {
   "cell_type": "code",
   "execution_count": 6,
   "metadata": {},
   "outputs": [],
   "source": [
    "N = int(input())\n",
    "N_input = list(map(int, input().split()))\n",
    "\n",
    "for i in range(len(N_input)-1, 0, -1):\n",
    "    for j in range(i):\n",
    "        if N_input[j] > N_input[j+1]:\n",
    "            N_input[j+1], N_input[j] = N_input[j], N_input[j+1]\n",
    "\n",
    "print(*N_input)"
   ]
  },
  {
   "cell_type": "markdown",
   "metadata": {},
   "source": [
    "**Задача:** Напишите программу, которая сортирует массив по невозрастанию с помощью сортировки пузырьком."
   ]
  },
  {
   "cell_type": "code",
   "execution_count": 7,
   "metadata": {},
   "outputs": [
    {
     "data": {
      "text/plain": [
       "[1, 5, 13, 15, 568]"
      ]
     },
     "execution_count": 7,
     "metadata": {},
     "output_type": "execute_result"
    }
   ],
   "source": [
    "N = int(input())\n",
    "N_input = list(map(int, input().split()))\n",
    "\n",
    "for i in range(len(N_input)-1, 0, -1):\n",
    "    for j in range(i):\n",
    "        if N_input[j] < N_input[j+1]:\n",
    "            N_input[j+1], N_input[j] = N_input[j], N_input[j+1]\n",
    "\n",
    "print(*N_input)"
   ]
  },
  {
   "cell_type": "markdown",
   "metadata": {},
   "source": [
    "**Задача:** Определите, сколько обменов сделает алгоритм пузырьковой сортировки по возрастанию для следующего массива: [6, 4, 5, 5, 7, 10, 1]"
   ]
  },
  {
   "cell_type": "code",
   "execution_count": 22,
   "metadata": {},
   "outputs": [
    {
     "name": "stdout",
     "output_type": "stream",
     "text": [
      "9\n"
     ]
    }
   ],
   "source": [
    "N_input = [6, 4, 5, 5, 7, 10, 1]\n",
    "\n",
    "cnt = 0\n",
    "for i in range(len(N_input)-1, 0, -1):\n",
    "    for j in range(i):\n",
    "        if N_input[j] > N_input[j+1]:\n",
    "            cnt += 1\n",
    "            N_input[j+1], N_input[j] = N_input[j], N_input[j+1]\n",
    "\n",
    "print(cnt)"
   ]
  },
  {
   "cell_type": "markdown",
   "metadata": {},
   "source": [
    "**Задача:** Дан массив целых чисел. Определите, сколько обменов сделает алгоритм пузырьковой сортировки по возрастанию для данного массива."
   ]
  },
  {
   "cell_type": "code",
   "execution_count": 6,
   "metadata": {},
   "outputs": [
    {
     "name": "stdout",
     "output_type": "stream",
     "text": [
      "4\n"
     ]
    }
   ],
   "source": [
    "arr = [15, 1, 5, 568, 13]\n",
    "cnt = 0\n",
    "for i in range(len(arr) - 1, 0, -1):\n",
    "    for j in range(i):\n",
    "        if arr[j] > arr[j + 1]:\n",
    "            cnt += 1\n",
    "            arr[j], arr[j+1] = arr[j+1], arr[j]\n",
    "\n",
    "print(cnt)"
   ]
  },
  {
   "cell_type": "markdown",
   "metadata": {},
   "source": [
    "**Задача:** В 39 школе в 7Б классе учатся N учеников. Недавно они писали полугодовые работы по информатике, математике и физике. Вам известны оценки каждого ученика по каждому из предметов. Выведите фамилии и имена учащихся в порядке невозрастания их среднего балла."
   ]
  },
  {
   "cell_type": "code",
   "execution_count": 26,
   "metadata": {},
   "outputs": [],
   "source": [
    "n = int(input())\n",
    "dict_with_str = dict()\n",
    "\n",
    "for i in range(n):\n",
    "    new_str = input().split(' ')\n",
    "    IF = ' '.join(new_str[:2])\n",
    "    avg = sum(list(map(int, new_str[2:]))) / len(list(map(int, new_str[2:])))\n",
    "    dict_with_str[IF] = avg\n",
    "\n",
    "for i in dict(sorted(dict_with_str.items(), key=lambda item: item[1], reverse=True)):\n",
    "    print(i)"
   ]
  },
  {
   "cell_type": "markdown",
   "metadata": {},
   "source": [
    "**Задача:** В 39 школе в 7Б классе учатся N учеников. Недавно они писали проверочную работу по информатике. Определите трех учеников с наилучшими баллами. Выведите фамилии и имена этих учащихся в порядке убывания их баллов. Известно, что у всех учеников разные баллы."
   ]
  },
  {
   "cell_type": "code",
   "execution_count": null,
   "metadata": {},
   "outputs": [],
   "source": [
    "n = int(input())\n",
    "dict_with_str = dict()\n",
    "\n",
    "for i in range(n):\n",
    "    new_str = input().split(' ')\n",
    "    IF = ' '.join(new_str[:2])\n",
    "    dict_with_str[IF] = int(new_str[2])\n",
    "\n",
    "cnt = 0\n",
    "for i in dict(sorted(dict_with_str.items(), key=lambda item: item[1], reverse=True)):\n",
    "    cnt += 1\n",
    "    print(i)\n",
    "    if cnt == 3:\n",
    "        break"
   ]
  }
 ],
 "metadata": {
  "kernelspec": {
   "display_name": "Python 3",
   "language": "python",
   "name": "python3"
  },
  "language_info": {
   "codemirror_mode": {
    "name": "ipython",
    "version": 3
   },
   "file_extension": ".py",
   "mimetype": "text/x-python",
   "name": "python",
   "nbconvert_exporter": "python",
   "pygments_lexer": "ipython3",
   "version": "3.11.1"
  }
 },
 "nbformat": 4,
 "nbformat_minor": 2
}
