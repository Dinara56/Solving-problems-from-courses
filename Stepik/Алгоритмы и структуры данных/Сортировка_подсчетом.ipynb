{
 "cells": [
  {
   "cell_type": "markdown",
   "metadata": {},
   "source": [
    "**Теория:**\n",
    "\n",
    "**Идея сортировки подсчетом:**\n",
    "\n",
    "Для этого определяется некоторый массив counts, в котором каждый элемент - это счетчик количества элементов исходной  последовательности, то есть в итоге в counts[x] предполагаем получить количество элементов последовательности, которые равны x. По завершении этого процесса достаточно вывести counts[x] раз  значение x в порядке увеличения x (по всему возможному диапазону). \n",
    "\n",
    "**Алгоритм:**\n",
    "\n",
    "- Создадим массив counts для подсчета значений. Размер данного массива будет зависеть от ширины диапазона сортируемых чисел. В приведенной задаче ширина равна 10 (значения элементов от 0 до 9). Иначе говоря: ширина = максимальный элемент массива + 1. \n",
    "- Введем очередное число x\n",
    "- Увеличим счетчик количества элементов, равных x: counts[x]=counts[x]+1.\n",
    "- После ввода всех чисел, обойдем массив counts, при этом для каждого его i-того элемента выведем значение i столько раз, сколько он встретился в исходном массиве. Индекс i при этом соответствует значению числа исходного массива.\n",
    "\n",
    "**Реализация:**\n",
    "\n",
    "```\n",
    "def counter_sort():\n",
    "\tk = 10 # ширина используемого диапазона\n",
    "\tcounts = [0]*k\n",
    "\tn = int(input())\n",
    "\tfor i in range(n):\n",
    "\t\tx = int(input())\n",
    "\t\tcounts[x] = counts[x] + 1 # подсчитываем\n",
    "\n",
    "\tfor i in range(k):\n",
    "\t\tfor j in range(counts[i]): # counts[i]-количество чисел i\n",
    "\t\t\tprint(i, end = ' ')\n",
    "```\n",
    "\n",
    "**Свойства алгоритма сортировки подсчетом:**\n",
    "\n",
    "- Устойчивость - Нет - Алгоритм не смотрит на взаимное расположение одинаковых элементов\n",
    "- Внутренняя/внешняя сортировка - Внешняя - Используется когда размер входных данных велик. Обычно нельзя записать в массив такое количество данных.\n",
    "- Естественность поведения - Нет - Алгоритм не смотрит на взаимное расположение одинаковых элементов\n",
    "\n",
    "**Время работы:**\n",
    "\n",
    "- В лучшем - O(n+k) - Алгоритм ведет себя одинаково при любых входных данных\n",
    "- В среднем - O(n+k) - Алгоритм ведет себя одинаково при любых входных данных\n",
    "- В худшем - O(n+k) - Алгоритм ведет себя одинаково при любых входных данных\n",
    "\n",
    "---"
   ]
  },
  {
   "cell_type": "code",
   "execution_count": 7,
   "metadata": {},
   "outputs": [],
   "source": [
    "[1,1,5,6,0,7,9,4,4,6,5,1]\n",
    "\n",
    "def counter_sort():\n",
    "\tk = 10 # ширина используемого диапазона\n",
    "\tcounts = [0]*k\n",
    "\tn = int(input())\n",
    "\tfor i in range(n):\n",
    "\t\tx = int(input())\n",
    "\t\tcounts[x] = counts[x] + 1 # подсчитываем\n",
    "\n",
    "\tfor i in range(k):\n",
    "\t\tfor j in range(counts[i]): # counts[i]-количество чисел i\n",
    "\t\t\tprint(i, end = ' ')"
   ]
  },
  {
   "cell_type": "code",
   "execution_count": 8,
   "metadata": {},
   "outputs": [
    {
     "name": "stdout",
     "output_type": "stream",
     "text": [
      "0 1 1 1 4 4 5 5 6 6 7 9 "
     ]
    }
   ],
   "source": [
    "arr = [1,1,5,6,0,7,9,4,4,6,5,1]\n",
    "k = 10 # ширина используемого диапазона\n",
    "counts = [0]*k\n",
    "\n",
    "for i in arr:\n",
    "    counts[i] = counts[i] + 1 # подсчитываем\n",
    "\n",
    "for i in range(k):\n",
    "    for j in range(counts[i]): # counts[i]-количество чисел i\n",
    "        print(i, end = ' ')"
   ]
  },
  {
   "cell_type": "code",
   "execution_count": 9,
   "metadata": {},
   "outputs": [
    {
     "data": {
      "text/plain": [
       "[1, 3, 0, 0, 2, 2, 2, 1, 0, 1]"
      ]
     },
     "execution_count": 9,
     "metadata": {},
     "output_type": "execute_result"
    }
   ],
   "source": [
    "counts"
   ]
  },
  {
   "cell_type": "markdown",
   "metadata": {},
   "source": [
    "**Задача:** Напишите программу, которая сортирует массив по невозрастанию с помощью сортировки подсчетом."
   ]
  },
  {
   "cell_type": "code",
   "execution_count": 31,
   "metadata": {},
   "outputs": [
    {
     "name": "stdout",
     "output_type": "stream",
     "text": [
      "568 15 13 5 1 "
     ]
    }
   ],
   "source": [
    "n = int(input())\n",
    "arr = list(map(int, input().split(' ')))\n",
    "\n",
    "k = max(arr) + 1\n",
    "counts = k * [0]\n",
    "\n",
    "if k > 1:\n",
    "    for i in arr:\n",
    "        counts[i] = counts[i] + 1\n",
    "\n",
    "    for i in range(k-1, -1, -1):\n",
    "        for j in range(counts[i]):\n",
    "            print(i, end=' ')\n",
    "else:\n",
    "    print(*counts)"
   ]
  },
  {
   "cell_type": "markdown",
   "metadata": {},
   "source": [
    "**Задача:** На вход программы поступает последовательность из N целых положительных чисел. Все числа не превышают 10000.Выведите количество чисел, которые встречаются ровно 2 раза."
   ]
  },
  {
   "cell_type": "code",
   "execution_count": 39,
   "metadata": {},
   "outputs": [
    {
     "name": "stdout",
     "output_type": "stream",
     "text": [
      "0\n"
     ]
    }
   ],
   "source": [
    "# first solution\n",
    "\n",
    "arr = list()\n",
    "for _ in range(int(input())):\n",
    "    arr.append(int(input()))\n",
    "\n",
    "k = max(arr) + 1\n",
    "counts = k * [0]\n",
    "cnt = 0\n",
    "\n",
    "if k > 1:\n",
    "\n",
    "    for i in arr:\n",
    "        counts[i] = counts[i] + 1\n",
    "\n",
    "    for i in range(k-1, -1, -1):\n",
    "        if counts[i] == 2:\n",
    "            cnt += 1\n",
    "    print(cnt)\n",
    "\n",
    "else:\n",
    "    print(*counts)\n",
    "\n",
    "# second solution\n",
    "    \n",
    "d = {}\n",
    "for _ in range(int(input())):\n",
    "    v = int(input())\n",
    "    d[v] = d.get(v, 0) + 1\n",
    "print(len([k for k, v in d.items() if v == 2]))"
   ]
  },
  {
   "cell_type": "markdown",
   "metadata": {},
   "source": [
    "**Задача:** На вход программы поступает последовательность из N целых положительных чисел. Все числа не превышают 10000. Найдите число, которое встречается чаще всего. Если таких чисел несколько, выведите наибольшее из них."
   ]
  },
  {
   "cell_type": "code",
   "execution_count": 43,
   "metadata": {},
   "outputs": [
    {
     "name": "stdout",
     "output_type": "stream",
     "text": [
      "5\n"
     ]
    }
   ],
   "source": [
    "# first solution\n",
    "\n",
    "arr = list()\n",
    "for _ in range(int(input())):\n",
    "    arr.append(int(input()))\n",
    "\n",
    "k = max(arr) + 1\n",
    "counts = k * [0]\n",
    "\n",
    "if k > 1:\n",
    "    \n",
    "    for i in arr:\n",
    "        counts[i] = counts[i] + 1\n",
    "\n",
    "    for i in range(k-1, -1, -1):\n",
    "        if counts[i] == max(counts):\n",
    "            print(i)\n",
    "            break\n",
    "\n",
    "else:\n",
    "    print(*counts)\n",
    "\n",
    "# second solution\n",
    "    \n",
    "d = {}\n",
    "for _ in range(int(input())):\n",
    "    v = int(input())\n",
    "    d[v] = d.get(v, 0) + 1\n",
    "print(sorted(d.items(), reverse=True, key=lambda x: (x[1], x[0]))[0][0])\n",
    "\n",
    "# third solution\n",
    "\n",
    "from collections import Counter\n",
    "\n",
    "print(max(Counter(open(0).read().split()[1:]).most_common(), key=lambda x: (x[1], int(x[0])))[0])"
   ]
  },
  {
   "cell_type": "markdown",
   "metadata": {},
   "source": [
    "**Задача:** На вход программы поступает последовательность из N целых положительных чисел. Все числа не превышают 100. Найдите число, которое встречается реже всего. Если таких чисел несколько, выведите наименьшее из них."
   ]
  },
  {
   "cell_type": "code",
   "execution_count": null,
   "metadata": {},
   "outputs": [],
   "source": [
    "# first solution\n",
    "\n",
    "arr = list()\n",
    "for _ in range(int(input())):\n",
    "    arr.append(int(input()))\n",
    "\n",
    "k = max(arr) + 1\n",
    "counts = k * [0]\n",
    "\n",
    "if k > 1:\n",
    "    \n",
    "    for i in arr:\n",
    "        counts[i] = counts[i] + 1\n",
    "        \n",
    "    min_counts = min([i for i in counts if i != 0])\n",
    "    \n",
    "    for i in range(k):\n",
    "        if counts[i] == min_counts:\n",
    "            print(i)\n",
    "            break\n",
    "\n",
    "else:\n",
    "    print(*counts)\n",
    "\n",
    "# second solution\n",
    "    \n",
    "d = {}\n",
    "for _ in range(int(input())):\n",
    "    v = int(input())\n",
    "    d[v] = d.get(v, 0) + 1\n",
    "print(sorted(d.items(), key=lambda x: (x[1], x[0]))[0][0])"
   ]
  },
  {
   "cell_type": "markdown",
   "metadata": {},
   "source": [
    "**Задача:**"
   ]
  }
 ],
 "metadata": {
  "kernelspec": {
   "display_name": "Python 3",
   "language": "python",
   "name": "python3"
  },
  "language_info": {
   "codemirror_mode": {
    "name": "ipython",
    "version": 3
   },
   "file_extension": ".py",
   "mimetype": "text/x-python",
   "name": "python",
   "nbconvert_exporter": "python",
   "pygments_lexer": "ipython3",
   "version": "3.11.1"
  }
 },
 "nbformat": 4,
 "nbformat_minor": 2
}
