{
 "cells": [
  {
   "cell_type": "markdown",
   "metadata": {},
   "source": [
    "**Теория:**\n",
    "\n",
    "**Модификации бинарного поиска.** В массиве может встречаться несколько элементов со значениями равными искомому элементу. Например, [1, 2, 3, 5, 5, 5, 6].\n",
    "\n",
    "Зачем нужны модификации бинарного поиска (левый и правый)? Чтобы найти самое первое или самое последнее вхождение искомого элемента\n",
    "\n",
    "> **Нахождение самого левого вхождения:**\n",
    "\n",
    "**Идея:**\n",
    "\n",
    "При **равенстве** серединного элемента с искомым элементом будем **смещать правую границу к середине**. То есть, если одинаковые элементы будут находится рядом, то мы постоянно будем смещать правую границу, то есть **двигаться в левую сторону**. Индекс элемента, который равен искомому будет находится в right.\n",
    "\n",
    "Одним из важных моментов: значение **left должно выходить за границы массива слева** (равняться −1), чтобы right смог принять всевозможные значения,  в том числе и 0. Всегда во время выполнения алгоритма **сохраняется инвариант (left, right]**, то есть левая граница НЕ включается, а правая включается. Таким образом, мы найдем в right самое левое вхождение искомого элемента. \n",
    "\n",
    "**Реализация:**\n",
    "\n",
    "```\n",
    "def left_binary_search(array, x):\n",
    "    left = -1 # исключаем из возможных значений ответа\n",
    "    right = len(array) - 1  # ответ будет находится здесь\n",
    "    while left + 1 < right:\n",
    "\n",
    "        mid = left + (right - left) // 2 # вычисление серединного элемента\n",
    "\n",
    "        if array[mid] < x: # если серединный элемент меньше искомого, то смещаем левую границу\n",
    "            left = mid\n",
    "        else:\n",
    "            right = mid # если серединный элемент больше либо равно искомому, то смещаем правую границу\n",
    "\n",
    "    if array[right] == x: # проверка, что действительно в этом месте нужный элемент\n",
    "\t\treturn right\n",
    "    \n",
    "    return -1 # если не нашли соответствующего элемента, возвращаем \"-1\"\n",
    "```\n",
    "\n",
    "> **Нахождение самого правого вхождения**\n",
    "\n",
    "**Идея:**\n",
    "\n",
    "При **равенстве** серединного элемента с искомым элементом будем **смещать левую границу к середине**. То есть, если одинаковые элементы будут находится рядом, то мы постоянно будем смещать левую границу, то есть **двигаться в правую сторону**. Индекс элемента, который равен искомому будет находится в ​left​.\n",
    "\n",
    "Одним из важных моментов: значение **right должно выходить за границы массива справа** (равняться длине массива n), чтобы left смог принять всевозможные значения,  в том числе и n-1. Всегда во время выполнения алгоритма **сохраняется инвариант [left, right)**, то есть левая граница включается, а правая НЕ включается. Таким образом, мы найдем в left самое правое вхождение искомого элемента. \n",
    "\n",
    "**Реализация:**\n",
    "\n",
    "```\n",
    "def right_binary_search(array, x):\n",
    "    left = 0 # ответ будет находится здесь\n",
    "    right = len(array) # исключаем из возможных значений ответа\n",
    "    while left + 1 < right:\n",
    "\n",
    "        mid = left + (right - left) // 2 # вычисление серединного элемента\n",
    "\n",
    "        if array[mid] <= x: # если серединный элемент меньше либо равно искомому, то смещаем левую границу\n",
    "            left = mid\n",
    "        else:\n",
    "            right = mid # если серединный элемент больше искомого, то смещаем правую границу\n",
    "\n",
    "    if array[left] == x: # проверка, что действительно в этом месте нужный элемент\n",
    "\t\treturn left\n",
    "    \n",
    "    return -1 # если не нашли соответствующего элемента, возвращаем \"-1\"\n",
    "```\n",
    "----"
   ]
  },
  {
   "cell_type": "markdown",
   "metadata": {},
   "source": [
    "**Задача:** Дано два списка чисел, числа в первом списке упорядочены по неубыванию. Для каждого числа из второго списка определите номер **первого появления** этого числа в первом списке."
   ]
  },
  {
   "cell_type": "code",
   "execution_count": 6,
   "metadata": {},
   "outputs": [
    {
     "name": "stdout",
     "output_type": "stream",
     "text": [
      "0\n",
      "1\n",
      "3\n"
     ]
    }
   ],
   "source": [
    "N, M = 5, 3\n",
    "N_input = [10, 15, 23, 23, 50]\n",
    "M_input = [1, 10, 23]\n",
    "\n",
    "# N, M = list(map(int, input().split(' ')))\n",
    "# N_input, M_input = list(map(int, input().split(' '))), list(map(int, input().split(' ')))\n",
    "\n",
    "def left_binary_search(array, x):\n",
    "    \n",
    "    left = -1\n",
    "    right = len(array) - 1\n",
    "    while left + 1 < right:\n",
    "        mid = left + (right - left) // 2\n",
    "        if array[mid] < x:\n",
    "            left = mid\n",
    "        else:\n",
    "            right = mid\n",
    "\n",
    "    if array[right] == x:\n",
    "        return right + 1 # в алгоритме издексы с 0, мы начнем с 1\n",
    "    \n",
    "    return 0\n",
    "\n",
    "for i in M_input:\n",
    "    print(left_binary_search(N_input, i))"
   ]
  },
  {
   "cell_type": "markdown",
   "metadata": {},
   "source": [
    "**Задача:** Дано два списка чисел, числа в первом списке упорядочены по неубыванию. Для каждого числа из второго списка определите номер **последнего появления** этого числа в первом списке."
   ]
  },
  {
   "cell_type": "code",
   "execution_count": 8,
   "metadata": {},
   "outputs": [
    {
     "name": "stdout",
     "output_type": "stream",
     "text": [
      "0\n",
      "1\n",
      "4\n"
     ]
    }
   ],
   "source": [
    "N, M = 5, 3\n",
    "N_input = [10, 15, 23, 23, 50]\n",
    "M_input = [1, 10, 23]\n",
    "\n",
    "# N, M = list(map(int, input().split(' ')))\n",
    "# N_input, M_input = list(map(int, input().split(' '))), list(map(int, input().split(' ')))\n",
    "\n",
    "def right_binary_search(array, x):\n",
    "    \n",
    "    left = 0\n",
    "    right = len(array)\n",
    "    \n",
    "    while left + 1 < right:\n",
    "        mid = left + (right - left) // 2\n",
    "        \n",
    "        if array[mid] <= x:\n",
    "            left = mid\n",
    "        else:\n",
    "            right = mid\n",
    "            \n",
    "    if array[left] == x:\n",
    "        return left + 1 # в алгоритме издексы с 0, мы начнем с 1\n",
    "    \n",
    "    return 0\n",
    "\n",
    "for i in M_input:\n",
    "    print(right_binary_search(N_input, i))"
   ]
  },
  {
   "cell_type": "markdown",
   "metadata": {},
   "source": [
    "**Задача:** Напишите программу, которая определяет, **сколько раз** встречается заданное число x в данном массиве."
   ]
  },
  {
   "cell_type": "code",
   "execution_count": 130,
   "metadata": {},
   "outputs": [],
   "source": [
    "def count_occurrences_binary_search(array, x):\n",
    "    left, right = 0, len(array) - 1\n",
    "    first_occurrence = -1\n",
    "\n",
    "    # Находим первое вхождение числа x\n",
    "    while left <= right:\n",
    "        mid = left + (right - left) // 2\n",
    "\n",
    "        if array[mid] == x:\n",
    "            first_occurrence = mid\n",
    "            right = mid - 1\n",
    "        elif array[mid] < x:\n",
    "            left = mid + 1\n",
    "        else:\n",
    "            right = mid - 1\n",
    "\n",
    "    # Если число не найдено, возвращаем 0\n",
    "    if first_occurrence == -1:\n",
    "        return 0\n",
    "\n",
    "    # Ищем последующие вхождения линейным проходом\n",
    "    count = 1\n",
    "    current_index = first_occurrence + 1\n",
    "\n",
    "    while current_index < len(array) and array[current_index] == x:\n",
    "        count += 1\n",
    "        current_index += 1\n",
    "\n",
    "    return count"
   ]
  },
  {
   "cell_type": "code",
   "execution_count": 134,
   "metadata": {},
   "outputs": [
    {
     "data": {
      "text/plain": [
       "2"
      ]
     },
     "execution_count": 134,
     "metadata": {},
     "output_type": "execute_result"
    }
   ],
   "source": [
    "# 1 Test, Result: 2\n",
    "N = 6\n",
    "N_input = [1, 4, 5, 5, 6, 8]\n",
    "M = 5\n",
    "\n",
    "# 3 Test, Result: 3\n",
    "# N = 4\n",
    "# N_input = [2, 3, 3, 3]\n",
    "# M = 3\n",
    "\n",
    "# 12 Test, Result: 2\n",
    "# N = 5\n",
    "# N_input = [-1000000, -1000000, -2, 1000000, 1000000]\n",
    "# M = -1000000\n",
    "\n",
    "count_occurrences_binary_search(N_input, M)"
   ]
  },
  {
   "cell_type": "markdown",
   "metadata": {},
   "source": [
    "**Задача:** Даны два массива. Для каждого элемента второго массива определите, сколько раз он встречается в первом массиве."
   ]
  },
  {
   "cell_type": "code",
   "execution_count": null,
   "metadata": {},
   "outputs": [],
   "source": [
    "N = int(input())\n",
    "N_input = list(map(int, input().split(' ')))\n",
    "\n",
    "M = int(input())\n",
    "M_input = list(map(int, input().split(' ')))"
   ]
  }
 ],
 "metadata": {
  "kernelspec": {
   "display_name": "Python 3",
   "language": "python",
   "name": "python3"
  },
  "language_info": {
   "codemirror_mode": {
    "name": "ipython",
    "version": 3
   },
   "file_extension": ".py",
   "mimetype": "text/x-python",
   "name": "python",
   "nbconvert_exporter": "python",
   "pygments_lexer": "ipython3",
   "version": "3.11.1"
  }
 },
 "nbformat": 4,
 "nbformat_minor": 2
}
