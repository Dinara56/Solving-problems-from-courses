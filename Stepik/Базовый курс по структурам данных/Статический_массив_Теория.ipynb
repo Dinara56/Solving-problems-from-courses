{
 "cells": [
  {
   "cell_type": "markdown",
   "metadata": {},
   "source": [
    "Что такое **статический массив**? Это набор однотипных данных, объединенных общим именем. Количество элементов задается при инициализации и не меняется.\n",
    "\n",
    "**Верные утверждения про статический массив:**\n",
    "- Доступ к любому элементу массива происходит за константное время\n",
    "- Элементы располагаются в памяти последовательно друг за другом\n",
    "- Заранее можно высчитать размер занимаемой памяти\n",
    "- Количество элементов не изменяется\n",
    "\n",
    "----"
   ]
  },
  {
   "cell_type": "markdown",
   "metadata": {},
   "source": [
    "**Задача:** Дана последовательность n целых чисел и число c. Необходимо найти количество элементов, которые равны c."
   ]
  },
  {
   "cell_type": "code",
   "execution_count": null,
   "metadata": {},
   "outputs": [],
   "source": [
    "N = int(input())\n",
    "N_input = list(map(int, input().split(' ')))\n",
    "C = int(input())\n",
    "\n",
    "cnt = 0\n",
    "for i in N_input:\n",
    "    if i == C:\n",
    "        cnt += 1"
   ]
  },
  {
   "cell_type": "markdown",
   "metadata": {},
   "source": [
    "**Задача:** Дана последовательность n целых чисел. Необходимо найти сумму четных положительных элементов."
   ]
  },
  {
   "cell_type": "code",
   "execution_count": null,
   "metadata": {},
   "outputs": [],
   "source": [
    "N = int(input())\n",
    "N_input = list(map(int, input().split(' ')))\n",
    "\n",
    "list_for_cnt = list()\n",
    "for i in N_input:\n",
    "    if i % 2 == 0 and i > 0:\n",
    "        list_for_cnt.append(i)\n",
    "\n",
    "print(sum(list_for_cnt))"
   ]
  },
  {
   "cell_type": "markdown",
   "metadata": {},
   "source": [
    "**Задача:** Дана последовательность n целых чисел. Необходимо найти сумму положительных элементов, которые расположены на четных местах. Нумерация чисел начинается с единицы. Если таких элементов нет, нужно вывести 0. "
   ]
  },
  {
   "cell_type": "code",
   "execution_count": null,
   "metadata": {},
   "outputs": [],
   "source": [
    "N = int(input())\n",
    "N_input = list(map(int, input().split(' ')))\n",
    "\n",
    "list_for_cnt = list()\n",
    "for i, j in enumerate(N_input):\n",
    "    i = i + 1\n",
    "    if i % 2 == 0 and j > 0:\n",
    "        list_for_cnt.append(j)\n",
    "        \n",
    "if len(list_for_cnt) == 0:\n",
    "    print(0)\n",
    "else:\n",
    "    print(sum(list_for_cnt))"
   ]
  },
  {
   "cell_type": "markdown",
   "metadata": {},
   "source": [
    "**Задача:** Дана последовательность n целых чисел. Необходимо найти количество элементов, значение которых меньше среднего арифметического, взятого от всех элементов массива."
   ]
  },
  {
   "cell_type": "code",
   "execution_count": null,
   "metadata": {},
   "outputs": [],
   "source": [
    "N = int(input())\n",
    "N_input = list(map(int, input().split(' ')))\n",
    "\n",
    "cnt = 0\n",
    "for i in N_input:\n",
    "    if i < sum(N_input) / len(N_input):\n",
    "        cnt += 1\n",
    "\n",
    "print(cnt)"
   ]
  },
  {
   "cell_type": "markdown",
   "metadata": {},
   "source": [
    "**Задача:** Дана последовательность n целых чисел. Необходимо найти сумму всех цифр массива. Например, если дан массив [25,36,78], то сумма всех его цифр будет равна 2+5+3+6+7+8=31."
   ]
  },
  {
   "cell_type": "code",
   "execution_count": null,
   "metadata": {},
   "outputs": [],
   "source": [
    "N = int(input())\n",
    "N_input = list(map(int, input().split(' ')))\n",
    "\n",
    "sum = 0\n",
    "for i in ''.join([str(i) for i in N_input]).replace('-', ''): # replace нужен, если пример будет, например, [-1, -2, -3, -4, -5, -10]\n",
    "    sum += int(i)\n",
    "\n",
    "print(sum)"
   ]
  },
  {
   "cell_type": "markdown",
   "metadata": {},
   "source": [
    "**Задача:** Дана последовательность n целых различных чисел. Необходимо поменять местами минимальный и максимальный элементы."
   ]
  },
  {
   "cell_type": "code",
   "execution_count": 16,
   "metadata": {},
   "outputs": [
    {
     "name": "stdout",
     "output_type": "stream",
     "text": [
      "5 2 3 4 1\n"
     ]
    }
   ],
   "source": [
    "# first solution\n",
    "\n",
    "N = int(input())\n",
    "N_input = list(map(int, input().split(' ')))\n",
    "\n",
    "min_value = min(N_input)\n",
    "max_value = max(N_input)\n",
    "\n",
    "for i in range(len(N_input)):\n",
    "    if N_input[i] == min_value:\n",
    "        N_input[i] = max_value\n",
    "    elif N_input[i] == max_value:\n",
    "        N_input[i] = min_value\n",
    "\n",
    "print(*N_input)\n",
    "    "
   ]
  },
  {
   "cell_type": "code",
   "execution_count": null,
   "metadata": {},
   "outputs": [],
   "source": [
    "# second solution\n",
    "\n",
    "n = int(input())\n",
    "lst = [int(i) for i in input().split()]\n",
    "\n",
    "a = lst.index(min(lst))\n",
    "b = lst.index(max(lst))\n",
    "lst[a], lst[b] = lst[b], lst[a]\n",
    "\n",
    "print(*lst)"
   ]
  },
  {
   "cell_type": "markdown",
   "metadata": {},
   "source": [
    "**Задача:** Дана последовательность n целых различных чисел. Необходимо найти сумму элементов, находящихся между минимальным и максимальным элементами. Сами минимальный и максимальный элементы в сумму не включать."
   ]
  },
  {
   "cell_type": "code",
   "execution_count": 27,
   "metadata": {},
   "outputs": [
    {
     "name": "stdout",
     "output_type": "stream",
     "text": [
      "0\n"
     ]
    }
   ],
   "source": [
    "# first solution\n",
    "\n",
    "n = int(input())\n",
    "lst = [int(i) for i in input().split()]\n",
    "\n",
    "a = lst.index(min(lst))\n",
    "b = lst.index(max(lst))\n",
    "a, b = sorted([a, b])\n",
    "\n",
    "if b - a == 1:\n",
    "    print(0)\n",
    "else:\n",
    "    print(sum(lst[a+1:b]))\n"
   ]
  },
  {
   "cell_type": "code",
   "execution_count": 22,
   "metadata": {},
   "outputs": [],
   "source": [
    "# second solution\n",
    "\n",
    "n = int(input())\n",
    "lst = [int(i) for i in input().split()]\n",
    "a = lst.index(min(lst))\n",
    "b = lst.index(max(lst))\n",
    "print(sum(lst[min(a, b) + 1: max(a, b)]))"
   ]
  },
  {
   "cell_type": "markdown",
   "metadata": {},
   "source": [
    "**Задача:** Дается последовательность бинарных чисел (либо 0, либо 1). Найдите максимальное количество подряд идущих единиц."
   ]
  },
  {
   "cell_type": "code",
   "execution_count": 75,
   "metadata": {},
   "outputs": [
    {
     "name": "stdout",
     "output_type": "stream",
     "text": [
      "0\n"
     ]
    }
   ],
   "source": [
    "# first solution\n",
    "\n",
    "# 3 Test, Result: 3\n",
    "# n = 5\n",
    "# lst = [1, 0, 1, 1, 1]\n",
    "\n",
    "# 7 Test, Result: 0\n",
    "# n = 3\n",
    "# lst = [0, 0, 0]\n",
    "\n",
    "# 6 Test, Result: 0\n",
    "n = 1\n",
    "lst = [0]\n",
    "\n",
    "# n = int(input())\n",
    "# lst = [int(i) for i in input().split()]\n",
    "\n",
    "def find_max_consecutive_ones(nums):\n",
    "    max_count = 0\n",
    "    current_count = 0\n",
    "\n",
    "    for num in nums:\n",
    "        if num == 1:\n",
    "            current_count += 1\n",
    "            max_count = max(max_count, current_count)\n",
    "        else:\n",
    "            current_count = 0\n",
    "\n",
    "    return max_count"
   ]
  },
  {
   "cell_type": "code",
   "execution_count": null,
   "metadata": {},
   "outputs": [],
   "source": [
    "# second solution\n",
    "\n",
    "int(input())\n",
    "l = input().replace(' ', '').split('0')\n",
    "print(len(max(l)))\n",
    "\n",
    "# '0 0 0 0 1 1 0'\n",
    "# '0 0 0 0 1 1 0'.replace(' ', '') => '0000110'\n",
    "# '0 0 0 0 1 1 0'.replace(' ', '').split('0') => ['', '', '', '', '11', '']\n",
    "# max('0 0 0 0 1 1 0'.replace(' ', '').split('0')) => '11'\n",
    "# len(max('0 0 0 0 1 1 0'.replace(' ', '').split('0'))) => 2"
   ]
  },
  {
   "cell_type": "markdown",
   "metadata": {},
   "source": [
    "**Задача:** Дан массив из n целых чисел. Переместите все нули в конец, сохраняя относительный порядок ненулевых элементов. Вы должны сделать это в том же массиве, не создавая нового массива."
   ]
  },
  {
   "cell_type": "code",
   "execution_count": 142,
   "metadata": {},
   "outputs": [],
   "source": [
    "# first solution\n",
    "\n",
    "n = 5\n",
    "lst = list(map(int, '0 0 1 2 3'.split(' ')))\n",
    "\n",
    "cnt = 0\n",
    "while 0 in lst:\n",
    "    for i, j in enumerate(lst):\n",
    "        if j == 0:\n",
    "            lst.pop(i)\n",
    "            cnt += 1\n",
    "\n",
    "for i in range(cnt):\n",
    "    lst.append(0)\n",
    "\n",
    "        "
   ]
  },
  {
   "cell_type": "code",
   "execution_count": null,
   "metadata": {},
   "outputs": [],
   "source": [
    "# second solution\n",
    "\n",
    "n = int(input())\n",
    "c = list(map(int, input().split()))\n",
    "[(c.remove(i), c.append(0)) for i in c if i == 0]\n",
    "print(*c)"
   ]
  },
  {
   "cell_type": "markdown",
   "metadata": {},
   "source": [
    "**Задача:** Дан массив A из n целых чисел. Выведите YES, если массив является красивой горой, иначе - NO."
   ]
  },
  {
   "cell_type": "code",
   "execution_count": 183,
   "metadata": {},
   "outputs": [],
   "source": [
    "n = 7\n",
    "lst = list(map(int, '1 2 3 2 1 2 3 4 1'.split(' ')))"
   ]
  },
  {
   "cell_type": "code",
   "execution_count": 198,
   "metadata": {},
   "outputs": [
    {
     "name": "stdout",
     "output_type": "stream",
     "text": [
      "NO\n"
     ]
    }
   ],
   "source": [
    "# first solution\n",
    "\n",
    "cnt_yes = 0\n",
    "cnt_no = 0\n",
    "cnt = []\n",
    "\n",
    "for i in range(len(lst)): \n",
    "    if i != len(lst) - 1: \n",
    "        if lst[i + 1] > lst[i]: \n",
    "            cnt_yes += 1\n",
    "            cnt.append('cnt_yes')\n",
    "            if cnt_yes == len(lst) - 1:\n",
    "                print('NO')\n",
    "                break\n",
    "        elif lst[i + 1] < lst[i]:\n",
    "            cnt_no += 1\n",
    "            cnt.append('cnt_no')\n",
    "            if cnt_no == len(lst) - 1:\n",
    "                print('NO')\n",
    "                break\n",
    "        else:\n",
    "            print('NO')\n",
    "            break\n",
    "    else:\n",
    "        if lst[-1] < lst[-2]:\n",
    "            unique_list = []\n",
    "            for i, item in enumerate(cnt):\n",
    "                if i == 0 or item != cnt[i - 1]:\n",
    "                    unique_list.append(item)\n",
    "            if unique_list == ['cnt_yes', 'cnt_no'] or unique_list == ['cnt_no', 'cnt_yes']:\n",
    "                print('YES')\n",
    "            else:\n",
    "                print('NO')\n",
    "        else:\n",
    "            print('NO')\n"
   ]
  },
  {
   "cell_type": "code",
   "execution_count": null,
   "metadata": {},
   "outputs": [],
   "source": [
    "# second solution\n",
    "\n",
    "i = 0\n",
    "while i < n - 2 and lst[i] < lst[i + 1]:\n",
    "  i += 1\n",
    "while i >0 and i < n - 1 and lst[i] > lst[i + 1]:\n",
    "  i += 1\n",
    "if i == n - 1:\n",
    "  print('YES')\n",
    "else:\n",
    "  print('NO')"
   ]
  },
  {
   "cell_type": "code",
   "execution_count": null,
   "metadata": {},
   "outputs": [],
   "source": [
    "# third solution\n",
    "\n",
    "a = lst[:lst.index(max(lst))]\n",
    "b = lst[lst.index(max(lst)):][::-1]\n",
    "if a == sorted(a) and 0 < len(a) == len(set(a)) and b == sorted(b) and 1 < len(b) == len(set(b)):\n",
    "    print('YES')\n",
    "else:\n",
    "    print('NO')"
   ]
  },
  {
   "cell_type": "markdown",
   "metadata": {},
   "source": [
    "**Задача:** Оставить в списке только уникальную последовательность элементов."
   ]
  },
  {
   "cell_type": "code",
   "execution_count": 203,
   "metadata": {},
   "outputs": [
    {
     "name": "stdout",
     "output_type": "stream",
     "text": [
      "[1, 2, 1]\n"
     ]
    }
   ],
   "source": [
    "cnt = [1, 1, 1, 1, 2, 2, 1, 1, 1]\n",
    "unique_list = []\n",
    "for i, item in enumerate(cnt):\n",
    "    if i == 0 or item != cnt[i - 1]:\n",
    "        unique_list.append(item)\n",
    "\n",
    "print(unique_list)"
   ]
  }
 ],
 "metadata": {
  "kernelspec": {
   "display_name": "Python 3",
   "language": "python",
   "name": "python3"
  },
  "language_info": {
   "codemirror_mode": {
    "name": "ipython",
    "version": 3
   },
   "file_extension": ".py",
   "mimetype": "text/x-python",
   "name": "python",
   "nbconvert_exporter": "python",
   "pygments_lexer": "ipython3",
   "version": "3.11.1"
  }
 },
 "nbformat": 4,
 "nbformat_minor": 2
}
