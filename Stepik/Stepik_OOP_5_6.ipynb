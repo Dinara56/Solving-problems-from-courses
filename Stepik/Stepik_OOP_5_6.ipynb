{
 "cells": [
  {
   "cell_type": "markdown",
   "metadata": {},
   "source": [
    "#### Тема урока: **вызываемые объекты**\n",
    "\n",
    "1) Вызываемые объекты\n",
    "2) Магический метод __call__()"
   ]
  },
  {
   "cell_type": "markdown",
   "metadata": {},
   "source": [
    "**Задача:** Реализуйте класс Calculator, экземпляры которого позволяют выполнять различные арифметические операции с двумя числами. При создании экземпляра класс не должен принимать никаких аргументов.\n",
    "\n",
    "Экземпляр класса Calculator должен являться вызываемым объектом и принимать три аргумента:\n",
    "\n",
    "- a — число\n",
    "- b — число\n",
    "- operation — один из символов +, -, * и /\n",
    "\n",
    "Если operation равняется +, экземпляр класса Calculator должен вернуть сумму a и b, если - — разность a и b, если * — произведение a и b, если / — частное a и b. При попытке выполнить деление на ноль должно быть возбуждено исключение ValueError с текстом:\n",
    "\n",
    "Деление на ноль невозможно"
   ]
  },
  {
   "cell_type": "code",
   "execution_count": 1,
   "metadata": {},
   "outputs": [],
   "source": [
    "class Calculator:\n",
    "        \n",
    "    def __call__(self, a, b, operation):\n",
    "        if operation == '+':\n",
    "            return a + b\n",
    "        elif operation == '-':\n",
    "            return a - b\n",
    "        elif operation == '*':\n",
    "            return a * b\n",
    "        elif operation == '/' and b != 0:\n",
    "            return a / b\n",
    "        elif operation == '/' and b == 0:\n",
    "            return 'Деление на ноль невозможно'"
   ]
  },
  {
   "cell_type": "code",
   "execution_count": 2,
   "metadata": {},
   "outputs": [
    {
     "name": "stdout",
     "output_type": "stream",
     "text": [
      "Деление на ноль невозможно\n"
     ]
    }
   ],
   "source": [
    "calculator = Calculator()\n",
    "\n",
    "try:\n",
    "    print(calculator(10, 0, '/'))\n",
    "except ValueError as e:\n",
    "    print(e)"
   ]
  },
  {
   "cell_type": "markdown",
   "metadata": {},
   "source": [
    "**Задача:** Реализуйте класс Dice, описывающий игральный кубик с определенным количеством граней. При создании экземпляра класс должен принимать один аргумент:\n",
    "\n",
    "- sides — количество граней игрального кубика\n",
    "\n",
    "Экземпляр класса Dice должен являться вызываемым объектом и не принимать никаких аргументов. При вызове он должен возвращать значение случайной грани игрального кубика. Например, если кубик имеет 6 граней, экземпляр класса Dice должен вернуть случайное число из диапазона [1; 6]."
   ]
  },
  {
   "cell_type": "code",
   "execution_count": 3,
   "metadata": {},
   "outputs": [],
   "source": [
    "import random\n",
    "\n",
    "class Dice:\n",
    "    def __init__(self, sides):\n",
    "        self.sides = sides\n",
    "        \n",
    "    def __call__(self):\n",
    "        return random.randint(1, self.sides)"
   ]
  },
  {
   "cell_type": "code",
   "execution_count": 4,
   "metadata": {},
   "outputs": [
    {
     "name": "stdout",
     "output_type": "stream",
     "text": [
      "True\n",
      "True\n",
      "False\n"
     ]
    }
   ],
   "source": [
    "kingdice = Dice(6)\n",
    "\n",
    "print(kingdice() in [1, 2, 3, 4, 5, 6])\n",
    "print(kingdice() in [1, 2, 3, 4, 5, 6])\n",
    "print(kingdice() in [7, 8, 9, 10])"
   ]
  },
  {
   "cell_type": "markdown",
   "metadata": {},
   "source": [
    "**Задача:** Реализуйте класс RaiseTo, экземпляры которого позволяют возводить числа в фиксированную степень. При создании экземпляра класс должен принимать один аргумент:\n",
    "\n",
    "- degree — показатель степени\n",
    "\n",
    "Экземпляр класса RaiseTo должен являться вызываемым объектом и принимать один аргумент:\n",
    "\n",
    "- x — число\n",
    "\n",
    "Экземпляр класса RaiseTo должен возвращать значение x в степени degree."
   ]
  },
  {
   "cell_type": "code",
   "execution_count": 5,
   "metadata": {},
   "outputs": [],
   "source": [
    "class RaiseTo:\n",
    "    def __init__(self, degree):\n",
    "        self.degree = degree\n",
    "        \n",
    "    def __call__(self, x):\n",
    "        return x ** self.degree"
   ]
  },
  {
   "cell_type": "code",
   "execution_count": 6,
   "metadata": {},
   "outputs": [
    {
     "name": "stdout",
     "output_type": "stream",
     "text": [
      "27\n",
      "16\n"
     ]
    }
   ],
   "source": [
    "raise_to_three = RaiseTo(3)\n",
    "raise_to_four = RaiseTo(4)\n",
    "\n",
    "print(raise_to_three(3))\n",
    "print(raise_to_four(2))"
   ]
  },
  {
   "cell_type": "markdown",
   "metadata": {},
   "source": [
    "**Задача:** Реализуйте класс QuadraticPolynomial, описывающий квадратный трехчлен. При создании экземпляра класс должен принимать три аргумента в следующем порядке:\n",
    "\n",
    "- a — коэффициент a квадратного трехчлена\n",
    "- b — коэффициент b квадратного трехчлена\n",
    "- c — коэффициент c квадратного трехчлена\n",
    "\n",
    "Экземпляр класса QuadraticPolynomial должен являться вызываемым объектом и принимать один аргумент:\n",
    "\n",
    "- x — число\n",
    "\n",
    "Экземпляр класса QuadraticPolynomial должен возвращать значение выражения ax2 + bx + c, где a,b и c — коэффициенты квадратного трехчлена"
   ]
  },
  {
   "cell_type": "code",
   "execution_count": null,
   "metadata": {},
   "outputs": [],
   "source": [
    "class QuadraticPolynomial:\n",
    "    def __init__(self, a, b, c):\n",
    "        self.a = a\n",
    "        self.b = b\n",
    "        self.c = c\n",
    "        \n",
    "    def __call__(self, x):\n",
    "        return self.a * x ** 2 + self.b * x + self.c "
   ]
  },
  {
   "cell_type": "code",
   "execution_count": null,
   "metadata": {},
   "outputs": [],
   "source": [
    "func = QuadraticPolynomial(1, 3, 4)\n",
    "\n",
    "print(func(1))\n",
    "print(func(2))"
   ]
  },
  {
   "cell_type": "markdown",
   "metadata": {},
   "source": [
    "**Задача:** Реализуйте класс Strip, экземпляры которого позволяют удалять из начала и конца строки определенные символы. При создании экземпляра класс должен принимать один аргумент:\n",
    "\n",
    "- chars — строка, в которой перечислены удаляемые символы\n",
    "\n",
    "Экземпляр класса Strip должен являться вызываемым объектом и принимать один аргумент:\n",
    "\n",
    "- string — строка\n",
    "\n",
    "Экземпляр класса Strip должен удалять из начала и конца строки string все символы, перечисленные в chars, и возвращать полученный результат."
   ]
  },
  {
   "cell_type": "code",
   "execution_count": 7,
   "metadata": {},
   "outputs": [],
   "source": [
    "class Strip:\n",
    "    def __init__(self, chars):\n",
    "        self.chars = chars\n",
    "        \n",
    "    def __call__(self, string):\n",
    "        return string.strip(self.chars)"
   ]
  },
  {
   "cell_type": "code",
   "execution_count": 8,
   "metadata": {},
   "outputs": [
    {
     "name": "stdout",
     "output_type": "stream",
     "text": [
      "     --++beegeek\n",
      "bee...geek\n",
      "b-e-e-g-e-e-k\n"
     ]
    }
   ],
   "source": [
    "strip = Strip('.,+-')\n",
    "\n",
    "print(strip('     --++beegeek++--'))\n",
    "print(strip('-bee...geek-'))\n",
    "print(strip('-+,.b-e-e-g-e-e-k-+,.'))"
   ]
  },
  {
   "cell_type": "markdown",
   "metadata": {},
   "source": [
    "**Задача:** Реализуйте класс Filter, описывающий объект для фильтрации элементов итерируемых объектов. При создании экземпляра класс должен принимать один аргумент:\n",
    "\n",
    "- predicate — функция-предикат; если имеет значение None, то работает аналогично функции bool()\n",
    "\n",
    "Экземпляр класса Filter должен являться вызываемым объектом и принимать один аргумент:\n",
    "\n",
    "- iterable — итерируемый объект\n",
    "\n",
    "Экземпляр класса Filter должен возвращать список, элементами которого являются элементы итерируемого объекта iterable, для которых функция predicate вернула значение True."
   ]
  },
  {
   "cell_type": "code",
   "execution_count": 9,
   "metadata": {},
   "outputs": [],
   "source": [
    "class Filter:\n",
    "    def __init__(self, func=None):\n",
    "        self.predicate = func or bool\n",
    "        \n",
    "    def __call__(self, iterable):\n",
    "        return [i for i in iterable if self.predicate(i) == True]"
   ]
  },
  {
   "cell_type": "code",
   "execution_count": 10,
   "metadata": {},
   "outputs": [
    {
     "name": "stdout",
     "output_type": "stream",
     "text": [
      "[13, 10, 10, 7]\n"
     ]
    }
   ],
   "source": [
    "more_than_five = Filter(lambda x: x > 5)\n",
    "numbers = [13, 1, 4, 10, 10, 7]\n",
    "\n",
    "print(more_than_five(numbers))"
   ]
  },
  {
   "cell_type": "markdown",
   "metadata": {},
   "source": [
    "**Задача:** Реализуйте класс DateFormatter, экземпляры которого позволяют преобразовывать даты в формат определенной страны из таблицы выше. При создании экземпляра класс должен принимать один аргумент:\n",
    "\n",
    "- country_code — код страны\n",
    "\n",
    "Экземпляр класса DateFormatter должен являться вызываемым объектом и принимать один аргумент:\n",
    "\n",
    "- d — дата (тип date)\n",
    "\n",
    "Экземпляр класса DateFormatter должен возвращать строку с датой d в формате страны с кодом country_code."
   ]
  },
  {
   "cell_type": "code",
   "execution_count": 20,
   "metadata": {},
   "outputs": [],
   "source": [
    "from datetime import date\n",
    "\n",
    "class DateFormatter:\n",
    "    def __init__(self, country_code:str):\n",
    "        self.format = {'ru':'%d.%m.%Y',\n",
    "                       'us':'%m-%d-%Y',\n",
    "                       'ca':'%Y-%m-%d',\n",
    "                       'br':'%d/%m/%Y',\n",
    "                       'fr':'%d.%m.%Y',\n",
    "                       'pt':'%d-%m-%Y'\n",
    "                      }[country_code]\n",
    "        \n",
    "    def __call__(self, d):\n",
    "        return d.strftime(self.format)"
   ]
  },
  {
   "cell_type": "code",
   "execution_count": 21,
   "metadata": {},
   "outputs": [
    {
     "name": "stdout",
     "output_type": "stream",
     "text": [
      "2022-11-07\n"
     ]
    }
   ],
   "source": [
    "ca_format = DateFormatter('ca')\n",
    "\n",
    "print(ca_format(date(2022, 11, 7)))"
   ]
  }
 ],
 "metadata": {
  "kernelspec": {
   "display_name": "Python 3",
   "language": "python",
   "name": "python3"
  },
  "language_info": {
   "codemirror_mode": {
    "name": "ipython",
    "version": 3
   },
   "file_extension": ".py",
   "mimetype": "text/x-python",
   "name": "python",
   "nbconvert_exporter": "python",
   "pygments_lexer": "ipython3",
   "version": "3.11.1"
  }
 },
 "nbformat": 4,
 "nbformat_minor": 2
}
