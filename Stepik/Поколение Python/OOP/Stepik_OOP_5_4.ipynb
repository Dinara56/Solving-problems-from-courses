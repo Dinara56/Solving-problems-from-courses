{
 "cells": [
  {
   "cell_type": "markdown",
   "metadata": {},
   "source": [
    "#### Тема урока: **унарные операторы и функции**\n",
    "\n",
    "1) Магические методы __pos__(), __neg__() и __invert__()\n",
    "2) Магические методы __abs__(), __round__() и т.д."
   ]
  },
  {
   "cell_type": "markdown",
   "metadata": {},
   "source": [
    "Поведение унарных операторов определяется соответствующими магическими методами:\n",
    "\n",
    "- __pos__() — определяет поведение для унарного плюса\n",
    "- __neg__() — определяет поведение для унарного минуса\n",
    "- __invert__() — определяет поведение для оператора инвертирования"
   ]
  },
  {
   "cell_type": "markdown",
   "metadata": {},
   "source": [
    "Значения, получаемые при передаче объектов в такие функции как abs(), round(), trunc(), floor() и ceil(), так же определяются магическими методами:\n",
    "\n",
    "- __abs__() — определяет поведение для встроенной функции abs()\n",
    "- __round__() — определяет поведение для встроенной функции round(); помимо экземпляра класса метод принимает необязательный аргумент n, который, как правило, означает количество знаков после запятой после округления\n",
    "- __trunc__() — определяет поведение для функции trunc() из модуля math\n",
    "- __floor__() — определяет поведение для функции floor() из модуля math\n",
    "- __ceil__() — определяет поведение для функции ceil() из модуля math"
   ]
  },
  {
   "cell_type": "markdown",
   "metadata": {},
   "source": [
    "**Задача:** Реализуйте класс ReversibleString, описывающий строку. При создании экземпляра класс должен принимать один аргумент:\n",
    "\n",
    "- string — значение строки\n",
    "\n",
    "Экземпляр класса ReversibleString должен иметь следующее неформальное строковое представление:\n",
    "\n",
    "- <значение строки>\n",
    "\n",
    "Также экземпляр класса ReversibleString должен поддерживать унарный оператор -, результатом которого должен являться новый экземпляр класса ReversibleString со значением строки в обратном порядке.\n"
   ]
  },
  {
   "cell_type": "code",
   "execution_count": 1,
   "metadata": {},
   "outputs": [],
   "source": [
    "class ReversibleString:\n",
    "    def __init__(self, value_str):\n",
    "        self.value_str = value_str\n",
    "\n",
    "    def __repr__(self):\n",
    "        return self.value_str\n",
    "    \n",
    "    def __neg__(self):\n",
    "        return ReversibleString(self.value_str[::-1])"
   ]
  },
  {
   "cell_type": "code",
   "execution_count": 2,
   "metadata": {},
   "outputs": [
    {
     "name": "stdout",
     "output_type": "stream",
     "text": [
      "python\n",
      "nohtyp\n"
     ]
    }
   ],
   "source": [
    "string = ReversibleString('python')\n",
    "\n",
    "print(string)\n",
    "print(-string)"
   ]
  },
  {
   "cell_type": "markdown",
   "metadata": {},
   "source": [
    "**Задача:** Реализуйте класс Money, описывающий денежную сумму в рублях. При создании экземпляра класс должен принимать один аргумент:\n",
    "\n",
    "- amount — количество денег\n",
    "\n",
    "Экземпляр класса Money должен иметь следующее неформальное строковое представление:\n",
    "\n",
    "- <количество денег> руб.\n",
    "\n",
    "Также экземпляр класса Money должен поддерживать унарные операторы + и -:\n",
    "\n",
    "- результатом унарного + должен являться новый экземпляр класса Money с неотрицательным количеством денег\n",
    "- результатом унарного - должен являться новый экземпляр класса Money с отрицательным количеством денег"
   ]
  },
  {
   "cell_type": "code",
   "execution_count": 3,
   "metadata": {},
   "outputs": [],
   "source": [
    "class Money:\n",
    "    def __init__(self, amount):\n",
    "        self.amount = amount\n",
    "\n",
    "    def __repr__(self):\n",
    "        return f'{self.amount} руб.'\n",
    "    \n",
    "    def __pos__(self):\n",
    "        if self.amount >= 0:\n",
    "            return Money(self.amount)\n",
    "        if self.amount < 0:\n",
    "            return Money(-self.amount)\n",
    "\n",
    "    def __neg__(self):\n",
    "        if self.amount > 0:\n",
    "            return Money(-self.amount)\n",
    "        if self.amount <= 0:\n",
    "            return Money(self.amount)"
   ]
  },
  {
   "cell_type": "code",
   "execution_count": 4,
   "metadata": {},
   "outputs": [
    {
     "name": "stdout",
     "output_type": "stream",
     "text": [
      "-100 руб.\n",
      "100 руб.\n",
      "-100 руб.\n"
     ]
    }
   ],
   "source": [
    "money = Money(-100)\n",
    "\n",
    "print(money)\n",
    "print(+money)\n",
    "print(-money)"
   ]
  },
  {
   "cell_type": "markdown",
   "metadata": {},
   "source": [
    "**Задача:** Реализуйте класс Vector, описывающий вектор на плоскости. При создании экземпляра класс должен принимать два аргумента в следующем порядке:\n",
    "\n",
    "- x — координата вектора по оси x\n",
    "- y — координата вектора по оси y\n",
    "\n",
    "Экземпляр класса Vector должен иметь следующее формальное строковое представление:\n",
    "\n",
    "- Vector(<координата x>, <координата y>)\n",
    "\n",
    "И следующее неформальное строковое представление:\n",
    "\n",
    "- (<координата вектора по оси x>, <координата вектора по оси y>)\n",
    "\n",
    "Также экземпляр класса Vector должен поддерживать унарные операторы + и -:\n",
    "\n",
    "- результатом унарного + должен являться новый экземпляр класса Vector с исходными координатами\n",
    "- результатом унарного - должен являться новый экземпляр класса Vector с координатами, взятыми с противоположным знаком"
   ]
  },
  {
   "cell_type": "code",
   "execution_count": 5,
   "metadata": {},
   "outputs": [],
   "source": [
    "class Vector:\n",
    "    def __init__(self, x, y):\n",
    "        self.x = x\n",
    "        self.y = y\n",
    "        \n",
    "    def __str__(self):\n",
    "        return f'({self.x}, {self.y})'\n",
    "    \n",
    "    def __repr__(self):\n",
    "        return f'Vector({self.x}, {self.y})'\n",
    "    \n",
    "    def __pos__(self):\n",
    "        return Vector(self.x, self.y)\n",
    "\n",
    "    def __neg__(self):\n",
    "        return Vector(-self.x, -self.y)\n",
    "    \n",
    "    def __abs__(self):\n",
    "        new_abs = (self.x ** 2 + self.y ** 2) ** (1/2)\n",
    "        return new_abs"
   ]
  },
  {
   "cell_type": "code",
   "execution_count": 6,
   "metadata": {},
   "outputs": [
    {
     "name": "stdout",
     "output_type": "stream",
     "text": [
      "(3, -4)\n",
      "(-3, 4)\n",
      "5.0\n"
     ]
    }
   ],
   "source": [
    "vector = Vector(3, -4)\n",
    "\n",
    "print(+vector)\n",
    "print(-vector)\n",
    "print(abs(vector))"
   ]
  },
  {
   "cell_type": "markdown",
   "metadata": {},
   "source": [
    "**Задача:** Реализуйте класс ColoredPoint, описывающий цветную точку на плоскости. При создании экземпляра класс должен принимать три аргумента в следующем порядке:\n",
    "\n",
    "- x — координата точки по оси x\n",
    "- y — координата точки по оси y\n",
    "- color — цвет в формате RGB, представленный кортежем из трех целых чисел в диапазоне [0; 255], по умолчанию имеет значение (0, 0, 0)\n",
    "\n",
    "Экземпляр класса ColoredPoint должен иметь три атрибута:\n",
    "\n",
    "- x — координата точки по оси x\n",
    "- y — координата точки по оси y\n",
    "- color — цвет в формате RGB, представленный кортежем из трех целых чисел от 0 до 255\n",
    "Также экземпляр класса ColoredPoint должен иметь следующее формальное строковое представление:\n",
    "\n",
    "- ColoredPoint(<координата x>, <координата y>, <цвет точки в виде трехэлементного кортежа>)\n",
    "\n",
    "И следующее неформальное строковое представление:\n",
    "\n",
    "- (<координата x>, <координата y>)\n",
    "\n",
    "Наконец, экземпляр класса ColoredPoint должен поддерживать унарные операторы +, - и ~:\n",
    "\n",
    "- результатом унарного + должен являться новый экземпляр класса ColoredPoint c исходными координатами и цветом\n",
    "- результатом унарного - должен являться новый экземпляр класса ColoredPoint c координатами, умноженными на минус единицу, и исходным цветом\n",
    "- результатом унарного ~ должен являться новый экземпляр класса ColoredPoint c координатами, переставленными местами, и инвертированным цветом: значение каждой компоненты цвета отнимается от 255\n"
   ]
  },
  {
   "cell_type": "code",
   "execution_count": 7,
   "metadata": {},
   "outputs": [],
   "source": [
    "class ColoredPoint:\n",
    "    def __init__(self, x, y, color=(0, 0, 0)):\n",
    "        self.x = x\n",
    "        self.y = y\n",
    "        self.color = color\n",
    "        \n",
    "    def __str__(self):\n",
    "        return f'({self.x}, {self.y})'\n",
    "    \n",
    "    def __repr__(self):\n",
    "        return f'ColoredPoint({self.x}, {self.y}, {self.color})'\n",
    "    \n",
    "    def __pos__(self):\n",
    "        return ColoredPoint(self.x, self.y, self.color)\n",
    "\n",
    "    def __neg__(self):\n",
    "        return ColoredPoint(-self.x, -self.y, self.color)\n",
    "    \n",
    "    def __invert__(self):\n",
    "        self.color_2 = tuple([255 - self.color[0], 255 - self.color[1], 255 - self.color[2]])\n",
    "        return ColoredPoint(self.y, self.x, self.color_2)"
   ]
  },
  {
   "cell_type": "code",
   "execution_count": 8,
   "metadata": {},
   "outputs": [
    {
     "name": "stdout",
     "output_type": "stream",
     "text": [
      "(0, 0, 0)\n",
      "(34, 45, 67)\n"
     ]
    }
   ],
   "source": [
    "point1 = ColoredPoint(2, -3)\n",
    "point2 = ColoredPoint(10, 20, (34, 45, 67))\n",
    "\n",
    "print(point1.color)\n",
    "print(point2.color)"
   ]
  }
 ],
 "metadata": {
  "kernelspec": {
   "display_name": "Python 3",
   "language": "python",
   "name": "python3"
  },
  "language_info": {
   "codemirror_mode": {
    "name": "ipython",
    "version": 3
   },
   "file_extension": ".py",
   "mimetype": "text/x-python",
   "name": "python",
   "nbconvert_exporter": "python",
   "pygments_lexer": "ipython3",
   "version": "3.11.1"
  }
 },
 "nbformat": 4,
 "nbformat_minor": 2
}
