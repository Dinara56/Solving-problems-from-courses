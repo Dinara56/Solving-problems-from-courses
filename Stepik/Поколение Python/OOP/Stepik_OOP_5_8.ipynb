{
 "cells": [
  {
   "cell_type": "markdown",
   "metadata": {},
   "source": [
    "#### Тема урока: **работа с атрибутами объектов**\n",
    "\n",
    "Операции с атрибутами\n",
    "\n",
    "1) Магические методы __getattribute__() и __getattr__()\n",
    "2) Магический метод __setattr__()\n",
    "3) Магический метод __delattr__()"
   ]
  },
  {
   "cell_type": "markdown",
   "metadata": {},
   "source": [
    "**Задача:** Требовалось реализовать класс Item, описывающий предмет. При создании экземпляра класс должен был принимать три аргумента в следующем порядке:\n",
    "\n",
    "- name — название предмета\n",
    "- price — цена предмета в рублях\n",
    "- quantity — количество предметов\n",
    "\n",
    "Предполагалось, что при обращении к атрибуту name экземпляра класса Item будет возвращаться его название с заглавной буквы, а при обращении к атрибуту total — произведение цены предмета на его количество."
   ]
  },
  {
   "cell_type": "code",
   "execution_count": 1,
   "metadata": {},
   "outputs": [],
   "source": [
    "class Item:\n",
    "    def __init__(self, name, price, quantity):\n",
    "        self.name = name\n",
    "        self.price = price\n",
    "        self.quantity = quantity\n",
    "\n",
    "    def __getattribute__(self, attr):\n",
    "        if attr == 'total': \n",
    "            return self.price * self.quantity\n",
    "        elif attr == 'name':\n",
    "            return object.__getattribute__(self, attr).title()\n",
    "        return object.__getattribute__(self, attr)"
   ]
  },
  {
   "cell_type": "code",
   "execution_count": 2,
   "metadata": {},
   "outputs": [
    {
     "name": "stdout",
     "output_type": "stream",
     "text": [
      "Pygen\n",
      "3900\n",
      "2\n",
      "7800\n"
     ]
    }
   ],
   "source": [
    "course = Item('pygen', 3900, 2)\n",
    "\n",
    "print(course.name)\n",
    "print(course.price)\n",
    "print(course.quantity)\n",
    "print(course.total)"
   ]
  },
  {
   "cell_type": "markdown",
   "metadata": {},
   "source": [
    "**Задача:** Требовалось реализовать класс Logger. При создании экземпляра класс не должен был принимать никаких аргументов.\n",
    "\n",
    "Предполагалось, что при установке или изменении значения атрибута экземпляра класса Logger будет выводиться текст:\n",
    "- Изменение значения атрибута <имя атрибута> на <новое значение атрибута>\n",
    "\n",
    "Также планировалось, что при удалении атрибута будет выводиться текст:\n",
    "- Удаление атрибута <имя атрибута>"
   ]
  },
  {
   "cell_type": "code",
   "execution_count": 3,
   "metadata": {},
   "outputs": [],
   "source": [
    "class Logger:\n",
    "    def __setattr__(self, name, value):\n",
    "        print(f'Изменение значения атрибута {name} на {value}')\n",
    "        self.__dict__[name] = value\n",
    "        \n",
    "    def __delattr__(self, name):\n",
    "        print(f'Удаление атрибута {name}')\n",
    "        del self.__dict__[name]"
   ]
  },
  {
   "cell_type": "code",
   "execution_count": 4,
   "metadata": {},
   "outputs": [
    {
     "name": "stdout",
     "output_type": "stream",
     "text": [
      "Изменение значения атрибута attr на 1\n",
      "Удаление атрибута attr\n"
     ]
    }
   ],
   "source": [
    "obj = Logger()\n",
    "\n",
    "obj.attr = 1\n",
    "del obj.attr"
   ]
  },
  {
   "cell_type": "markdown",
   "metadata": {},
   "source": [
    "**Задача:** Реализуйте класс Ord. При создании экземпляра класс не должен принимать никаких аргументов.\n",
    "\n",
    "Экземпляр класса Ord должен выступать в качестве альтернативы функции ord(). При обращении к атрибуту экземпляра, именем которого является одиночный символ, должна возвращаться его позиция в таблице символов Unicode."
   ]
  },
  {
   "cell_type": "code",
   "execution_count": 5,
   "metadata": {},
   "outputs": [],
   "source": [
    "class Ord:\n",
    "    def __getattr__(self, attr):\n",
    "        return ord(attr)"
   ]
  },
  {
   "cell_type": "code",
   "execution_count": 6,
   "metadata": {},
   "outputs": [
    {
     "name": "stdout",
     "output_type": "stream",
     "text": [
      "97\n",
      "98\n"
     ]
    }
   ],
   "source": [
    "obj = Ord()\n",
    "\n",
    "print(obj.a)\n",
    "print(obj.b)"
   ]
  },
  {
   "cell_type": "markdown",
   "metadata": {},
   "source": [
    "**Задача:** Реализуйте класс DefaultObject. При создании экземпляра класс должен принимать один именованный аргумент default, имеющий значение по умолчанию None, а после произвольное количество именованных аргументов. Аргументы, передаваемые после default, должны устанавливаться создаваемому экземпляру в качестве атрибутов.\n",
    "\n",
    "При обращении к несуществующему атрибуту экземпляра класса DefaultObject должно возвращаться значение default."
   ]
  },
  {
   "cell_type": "code",
   "execution_count": 7,
   "metadata": {},
   "outputs": [],
   "source": [
    "class DefaultObject:\n",
    "    def __init__(self, default=None, **kwargs):\n",
    "        self.default = default\n",
    "        for key, value in kwargs.items():\n",
    "            setattr(self, key, value)\n",
    "    def __getattr__(self, attr):\n",
    "        return self.default\n",
    "        "
   ]
  },
  {
   "cell_type": "code",
   "execution_count": 8,
   "metadata": {},
   "outputs": [
    {
     "name": "stdout",
     "output_type": "stream",
     "text": [
      "Tyr\n",
      "scandinavian\n",
      "0\n"
     ]
    }
   ],
   "source": [
    "god = DefaultObject(default=0, name='Tyr', mythology='scandinavian')\n",
    "\n",
    "print(god.name)\n",
    "print(god.mythology)\n",
    "print(god.age)"
   ]
  },
  {
   "cell_type": "markdown",
   "metadata": {},
   "source": [
    "**Задача:** Реализуйте класс NonNegativeObject. При создании экземпляра класс должен принимать произвольное количество именованных аргументов. Все передаваемые аргументы должны устанавливаться создаваемому экземпляру в качестве атрибутов, причем если значением атрибута является отрицательное число, оно должно быть взято с противоположным знаком."
   ]
  },
  {
   "cell_type": "code",
   "execution_count": 9,
   "metadata": {},
   "outputs": [],
   "source": [
    "class NonNegativeObject:\n",
    "    def __init__(self, **kwargs):\n",
    "        for key, value in kwargs.items():\n",
    "            if (type(value) == int or type(value) == float) and value < 0:\n",
    "                setattr(self, key, -value)\n",
    "            else:\n",
    "                setattr(self, key, value)"
   ]
  },
  {
   "cell_type": "code",
   "execution_count": 10,
   "metadata": {},
   "outputs": [
    {
     "name": "stdout",
     "output_type": "stream",
     "text": [
      "1.5\n",
      "2.3\n",
      "0.0\n",
      "yellow\n"
     ]
    }
   ],
   "source": [
    "point = NonNegativeObject(x=1.5, y=-2.3, z=0.0, color='yellow')\n",
    "\n",
    "print(point.x)\n",
    "print(point.y)\n",
    "print(point.z)\n",
    "print(point.color)"
   ]
  },
  {
   "cell_type": "markdown",
   "metadata": {},
   "source": [
    "**Задача:** Реализуйте класс AttrsNumberObject. При создании экземпляра класс должен принимать произвольное количество именованных аргументов. Все передаваемые аргументы должны устанавливаться создаваемому экземпляру в качестве атрибутов.\n",
    "\n",
    "Экземпляр класса AttrsNumberObject должен иметь один атрибут:\n",
    "\n",
    "- attrs_num — количество атрибутов, которыми обладает экземпляр класса AttrsNumberObject на данный момент, включая сам атрибут attrs_num"
   ]
  },
  {
   "cell_type": "code",
   "execution_count": 11,
   "metadata": {},
   "outputs": [],
   "source": [
    "class AttrsNumberObject:\n",
    "    def __init__(self, **kwargs):\n",
    "        for key, value in kwargs.items():\n",
    "            setattr(self, key, value)\n",
    "\n",
    "    def __getattr__(self, attr):\n",
    "        if attr == 'attrs_num':\n",
    "            return len(self.__dict__) + 1"
   ]
  },
  {
   "cell_type": "code",
   "execution_count": 12,
   "metadata": {},
   "outputs": [
    {
     "name": "stdout",
     "output_type": "stream",
     "text": [
      "3\n",
      "2\n"
     ]
    }
   ],
   "source": [
    "music_group = AttrsNumberObject(name='Alexandra Savior', genre='dream pop')\n",
    "\n",
    "print(music_group.attrs_num)\n",
    "del music_group.genre\n",
    "print(music_group.attrs_num)"
   ]
  },
  {
   "cell_type": "markdown",
   "metadata": {},
   "source": [
    "**Задача:** Реализуйте класс Const. При создании экземпляра класс должен принимать произвольное количество именованных аргументов. Все передаваемые аргументы должны устанавливаться создаваемому экземпляру в качестве атрибутов.\n",
    "\n",
    "Класс Const должен разрешать устанавливать атрибуты своим экземплярам и получать их значения, но не разрешать изменять значения этих атрибутов, а также удалять их. При попытке изменить значение атрибута должно возбуждаться исключение AttributeError с текстом:\n",
    "\n",
    "- Изменение значения атрибута невозможно\n",
    "\n",
    "При попытке удалить атрибут должно возбуждаться исключение AttributeError с текстом:\n",
    "\n",
    "- Удаление атрибута невозможно"
   ]
  },
  {
   "cell_type": "code",
   "execution_count": 13,
   "metadata": {},
   "outputs": [],
   "source": [
    "class Const:\n",
    "    def __init__(self, **kwargs):\n",
    "        self.__dict__.update(kwargs)\n",
    "\n",
    "    def __setattr__(self, key, value):\n",
    "        if key in self.__dict__:\n",
    "            raise AttributeError('Изменение значения атрибута невозможно')\n",
    "        object.__setattr__(self, key, value)\n",
    "\n",
    "    def __delattr__(self, item):\n",
    "        raise AttributeError('Удаление атрибута невозможно')"
   ]
  },
  {
   "cell_type": "code",
   "execution_count": 14,
   "metadata": {},
   "outputs": [
    {
     "name": "stdout",
     "output_type": "stream",
     "text": [
      "Удаление атрибута невозможно\n"
     ]
    }
   ],
   "source": [
    "videogame = Const(name='The Last of Us')\n",
    "\n",
    "try:\n",
    "    del videogame.name\n",
    "except AttributeError as e:\n",
    "    print(e)"
   ]
  }
 ],
 "metadata": {
  "kernelspec": {
   "display_name": "Python 3",
   "language": "python",
   "name": "python3"
  },
  "language_info": {
   "codemirror_mode": {
    "name": "ipython",
    "version": 3
   },
   "file_extension": ".py",
   "mimetype": "text/x-python",
   "name": "python",
   "nbconvert_exporter": "python",
   "pygments_lexer": "ipython3",
   "version": "3.11.1"
  }
 },
 "nbformat": 4,
 "nbformat_minor": 2
}
