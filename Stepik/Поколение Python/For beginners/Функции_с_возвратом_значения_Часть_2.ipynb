{
 "cells": [
  {
   "cell_type": "markdown",
   "metadata": {},
   "source": [
    "**Задача:** Напишите функцию is_valid_triangle(side1, side2, side3), которая принимает в качестве аргументов три натуральных числа, и возвращает значение True если существует невырожденный треугольник со сторонами side1, side2, side3 и False в противном случае."
   ]
  },
  {
   "cell_type": "code",
   "execution_count": null,
   "metadata": {},
   "outputs": [],
   "source": [
    "# объявление функции\n",
    "def is_valid_triangle(side1, side2, side3):\n",
    "    return (side1 + side2 > side3) and (side2 + side3 > side1) and (side3 + side1 > side2)\n",
    "\n",
    "# считываем данные\n",
    "a, b, c = int(input()), int(input()), int(input())\n",
    "\n",
    "# вызываем функцию\n",
    "print(is_valid_triangle(a, b, c))"
   ]
  },
  {
   "cell_type": "markdown",
   "metadata": {},
   "source": [
    "**Задача:** Напишите функцию is_prime(num), которая принимает в качестве аргумента натуральное число и возвращает значение True если число является простым и False в противном случае."
   ]
  },
  {
   "cell_type": "code",
   "execution_count": 14,
   "metadata": {},
   "outputs": [],
   "source": [
    "def is_prime(num):\n",
    "    if num < 2:\n",
    "        return False\n",
    "    for i in range(2, int(num**0.5) + 1):\n",
    "        if num % i == 0:\n",
    "            return False\n",
    "    return True"
   ]
  },
  {
   "cell_type": "markdown",
   "metadata": {},
   "source": [
    "**Задача:** Напишите функцию get_next_prime(num), которая принимает в качестве аргумента натуральное число num и возвращает первое простое число большее числа num."
   ]
  },
  {
   "cell_type": "code",
   "execution_count": 98,
   "metadata": {},
   "outputs": [],
   "source": [
    "def get_next_prime(num):\n",
    "    def is_prime(n):\n",
    "        if n < 2:\n",
    "            return False\n",
    "        for i in range(2, int(n**0.5) + 1):\n",
    "            if n % i == 0:\n",
    "                return False\n",
    "        return True\n",
    "\n",
    "    next_num = num + 1\n",
    "    while True:\n",
    "        if is_prime(next_num):\n",
    "            return next_num\n",
    "        next_num += 1"
   ]
  },
  {
   "cell_type": "code",
   "execution_count": 99,
   "metadata": {},
   "outputs": [
    {
     "data": {
      "text/plain": [
       "101"
      ]
     },
     "execution_count": 99,
     "metadata": {},
     "output_type": "execute_result"
    }
   ],
   "source": [
    "get_next_prime(97)"
   ]
  },
  {
   "cell_type": "markdown",
   "metadata": {},
   "source": [
    "**Задача:** Напишите функцию is_password_good(password), которая принимает в качестве аргумента строковое значение пароля password и возвращает значение True, если пароль является надежным и False - в противном случае.\n",
    "\n",
    "Пароль является надежным если:\n",
    "\n",
    "- его длина не менее 8 символов; \n",
    "- он содержит как минимум одну заглавную букву (верхний регистр); \n",
    "- он содержит как минимум одну строчную букву (нижний регистр);\n",
    "- он содержит хотя бы одну цифру."
   ]
  },
  {
   "cell_type": "code",
   "execution_count": 29,
   "metadata": {},
   "outputs": [],
   "source": [
    "def is_password_good(password):\n",
    "    if len(password) < 8:\n",
    "        return False\n",
    "    flag1 = False\n",
    "    flag2 = False\n",
    "    flag3 = False\n",
    "    for c in password:\n",
    "        if c.isupper():\n",
    "            flag1 = True\n",
    "        elif c.islower():\n",
    "            flag2 = True\n",
    "        elif c.isdigit():\n",
    "            flag3 = True\n",
    "    return flag1 and flag2 and flag3 "
   ]
  },
  {
   "cell_type": "markdown",
   "metadata": {},
   "source": [
    "**Задача:** Напишите функцию is_one_away(word1, word2), которая принимает в качестве аргументов два слова word1 и word2 и возвращает значение True, если слова имеют одинаковую длину и отличаются ровно в одном символе и False  в противном случае."
   ]
  },
  {
   "cell_type": "code",
   "execution_count": 40,
   "metadata": {},
   "outputs": [],
   "source": [
    "def is_one_away(word1, word2):\n",
    "\n",
    "    list_for_values = []\n",
    "\n",
    "    if len(word1) != len(word2):\n",
    "        return False\n",
    "    else:\n",
    "        for i in range(len(word1)):\n",
    "            if word1[i] == word2[i]:\n",
    "                list_for_values.append(i)\n",
    "        if len(list_for_values) + 1 == len(word1):\n",
    "            return True\n",
    "        else:\n",
    "            return False\n",
    "\n"
   ]
  },
  {
   "cell_type": "code",
   "execution_count": 41,
   "metadata": {},
   "outputs": [
    {
     "name": "stdout",
     "output_type": "stream",
     "text": [
      "True\n",
      "True\n",
      "False\n",
      "False\n"
     ]
    }
   ],
   "source": [
    "print(is_one_away('bike', 'hike'))\n",
    "print(is_one_away('water', 'wafer'))\n",
    "print(is_one_away('abcd', 'abpo'))\n",
    "print(is_one_away('abcd', 'abcde'))"
   ]
  },
  {
   "cell_type": "markdown",
   "metadata": {},
   "source": [
    "**Задача:** Напишите функцию is_palindrome(text), которая принимает в качестве аргумента строку text и возвращает значение True если указанный текст является палиндромом и False в противном случае."
   ]
  },
  {
   "cell_type": "code",
   "execution_count": 48,
   "metadata": {},
   "outputs": [],
   "source": [
    "def is_palindrome(text):\n",
    "    text = ''.join([i.lower() for i in text if i.isdigit() or i.isalpha()])\n",
    "    return text == text[::-1]"
   ]
  },
  {
   "cell_type": "code",
   "execution_count": 49,
   "metadata": {},
   "outputs": [
    {
     "name": "stdout",
     "output_type": "stream",
     "text": [
      "True\n",
      "True\n",
      "False\n"
     ]
    }
   ],
   "source": [
    "print(is_palindrome('А роза упала на лапу Азора.'))\n",
    "print(is_palindrome('Gabler Ruby - burrel bag!'))\n",
    "print(is_palindrome('BEEGEEK'))"
   ]
  },
  {
   "cell_type": "markdown",
   "metadata": {},
   "source": [
    "**Задача:** BEEGEEK наконец-то открыл свой банк, в котором используются специальные банкоматы с необычным паролем.\n",
    "\n",
    "Действительный пароль BEEGEEK банка имеет вид a:b:c, где a, b и c – натуральные числа. Поскольку основатель BEEGEEK фанатеет от математики, то он решил:\n",
    "\n",
    "- число a – должно быть палиндромом;\n",
    "- число b – должно быть простым;\n",
    "- число c – должно быть четным.\n",
    "\n",
    "Напишите функцию is_valid_password(password), которая принимает в качестве аргумента строковое значение пароля password и возвращает значение True, если пароль является действительным паролем BEEGEEK банка и False - в противном случае."
   ]
  },
  {
   "cell_type": "code",
   "execution_count": 83,
   "metadata": {},
   "outputs": [],
   "source": [
    "def is_valid_password(password):\n",
    "\n",
    "    list_with_values = password.split(':')\n",
    "\n",
    "    if len(list_with_values) == 3:\n",
    "\n",
    "        first_condition = False\n",
    "        second_condition = False\n",
    "        third_condition = False\n",
    "\n",
    "        if list_with_values[0] == list_with_values[0][::-1]:\n",
    "            first_condition = True\n",
    "\n",
    "        for i in range(2, int(int(list_with_values[1])**0.5) + 1):\n",
    "            if int(list_with_values[1]) % i == 0:\n",
    "                second_condition = False\n",
    "                break\n",
    "            else:\n",
    "                second_condition = True\n",
    "\n",
    "        if int(list_with_values[2]) % 2 == 0:\n",
    "            third_condition = True\n",
    "        \n",
    "        return first_condition and second_condition and third_condition\n",
    "    \n",
    "    else:\n",
    "        return False\n"
   ]
  },
  {
   "cell_type": "code",
   "execution_count": 84,
   "metadata": {},
   "outputs": [
    {
     "name": "stdout",
     "output_type": "stream",
     "text": [
      "False\n"
     ]
    }
   ],
   "source": [
    "print(is_valid_password('15551:72:290'))"
   ]
  },
  {
   "cell_type": "markdown",
   "metadata": {},
   "source": [
    "**Задача:** Напишите функцию is_correct_bracket(text), которая принимает в качестве аргумента непустую строку text, состоящую из символов ( и ) и возвращает значение True если поступившая на вход строка является правильной скобочной последовательностью и False в противном случае."
   ]
  },
  {
   "cell_type": "code",
   "execution_count": 96,
   "metadata": {},
   "outputs": [],
   "source": [
    "def is_correct_bracket(text):\n",
    "\n",
    "    cnt = 0\n",
    "    for i in text:\n",
    "        if cnt >= 0 and len(text) % 2 == 0:\n",
    "            if i == '(':\n",
    "                cnt += 1\n",
    "            elif i == ')':\n",
    "                cnt -= 1\n",
    "        else:\n",
    "            return False\n",
    "    \n",
    "    if cnt == 0:\n",
    "        return True\n",
    "    else:\n",
    "        return False\n"
   ]
  },
  {
   "cell_type": "code",
   "execution_count": 97,
   "metadata": {},
   "outputs": [
    {
     "name": "stdout",
     "output_type": "stream",
     "text": [
      "False\n"
     ]
    }
   ],
   "source": [
    "print(is_correct_bracket('(((('))"
   ]
  },
  {
   "cell_type": "markdown",
   "metadata": {},
   "source": [
    "**Задача:** Напишите функцию convert_to_python_case(text), которая принимает в качестве аргумента строку в «верблюжьем регистре» и преобразует его в «змеиный регистр»."
   ]
  },
  {
   "cell_type": "code",
   "execution_count": 112,
   "metadata": {},
   "outputs": [],
   "source": [
    "def convert_to_python_case(text):\n",
    "\n",
    "    list_with_value = []\n",
    "\n",
    "    for i, j in enumerate(text):\n",
    "        if j.isupper():\n",
    "            if i == 0:\n",
    "                list_with_value.append(text[i].lower())\n",
    "            else:\n",
    "                list_with_value.append('_' + text[i].lower())\n",
    "        else:\n",
    "            list_with_value.append(text[i].lower())\n",
    "\n",
    "    return ''.join(list_with_value)\n"
   ]
  },
  {
   "cell_type": "code",
   "execution_count": 114,
   "metadata": {},
   "outputs": [
    {
     "name": "stdout",
     "output_type": "stream",
     "text": [
      "this_is_camel_cased\n",
      "is_prime_number\n"
     ]
    }
   ],
   "source": [
    "print(convert_to_python_case('ThisIsCamelCased'))\n",
    "print(convert_to_python_case('IsPrimeNumber'))"
   ]
  }
 ],
 "metadata": {
  "kernelspec": {
   "display_name": "Python 3",
   "language": "python",
   "name": "python3"
  },
  "language_info": {
   "codemirror_mode": {
    "name": "ipython",
    "version": 3
   },
   "file_extension": ".py",
   "mimetype": "text/x-python",
   "name": "python",
   "nbconvert_exporter": "python",
   "pygments_lexer": "ipython3",
   "version": "3.11.1"
  }
 },
 "nbformat": 4,
 "nbformat_minor": 2
}
