{
 "cells": [
  {
   "cell_type": "markdown",
   "metadata": {},
   "source": [
    "**Задача:** На вход программе подается натуральное число n, а затем n целых чисел. Напишите программу, которая для каждого введенного числа x выводит значение функции f(x)=x2+2x+1, каждое на отдельной строке."
   ]
  },
  {
   "cell_type": "code",
   "execution_count": 8,
   "metadata": {},
   "outputs": [
    {
     "name": "stdout",
     "output_type": "stream",
     "text": [
      "1\n",
      "1\n",
      "\n",
      "4\n",
      "4\n",
      "\n"
     ]
    }
   ],
   "source": [
    "n_input = int(input())\n",
    "\n",
    "list_for_a = list()\n",
    "\n",
    "while n_input > 0:\n",
    "    a = int(input())\n",
    "    list_for_a.append(a)\n",
    "    n_input -= 1\n",
    "    \n",
    "print(*list_for_a, sep='\\n')\n",
    "print('')\n",
    "print(*list(map(lambda x: (x + 1)**2, list_for_a)), sep='\\n')\n",
    "print('')"
   ]
  },
  {
   "cell_type": "markdown",
   "metadata": {},
   "source": [
    "**Задача:** При анализе данных, собранных в рамках научного эксперимента, бывает полезно удалить самое большое и самое маленькое значение.\n",
    "\n",
    "На вход программе подается натуральное число n, а затем n различных натуральных чисел. Напишите программу, которая удаляет наименьшее и наибольшее значение из указанных чисел, а затем выводит оставшиеся числа каждое на отдельной строке, не меняя их порядок."
   ]
  },
  {
   "cell_type": "code",
   "execution_count": 1,
   "metadata": {},
   "outputs": [
    {
     "name": "stdout",
     "output_type": "stream",
     "text": [
      "2\n",
      "3\n",
      "4\n"
     ]
    }
   ],
   "source": [
    "n_input = int(input())\n",
    "\n",
    "list_for_a = list()\n",
    "\n",
    "while n_input > 0:\n",
    "    a = int(input())\n",
    "    list_for_a.append(a)\n",
    "    n_input -= 1\n",
    "\n",
    "print(*[i for i in list_for_a if i != max(list_for_a) and i != min(list_for_a)], sep='\\n')"
   ]
  },
  {
   "cell_type": "markdown",
   "metadata": {},
   "source": [
    "**Задача:** На вход программе подается натуральное число n, а затем n строк. Напишите программу, которая выводит только уникальные строки, в том же порядке, в котором они были введены."
   ]
  },
  {
   "cell_type": "code",
   "execution_count": null,
   "metadata": {},
   "outputs": [],
   "source": [
    "# first solution\n",
    "\n",
    "n_input = int(input())\n",
    "\n",
    "list_for_input = []\n",
    "list_without_dublicates = []\n",
    "\n",
    "while n_input > 0:\n",
    "    str_input = input()\n",
    "    list_for_input.append(str_input)\n",
    "    n_input -= 1\n",
    "\n",
    "for i in list_for_input:\n",
    "    if i not in list_without_dublicates:\n",
    "        list_without_dublicates.append(i)\n",
    "\n",
    "print(*list_without_dublicates, sep='\\n')"
   ]
  },
  {
   "cell_type": "code",
   "execution_count": null,
   "metadata": {},
   "outputs": [],
   "source": [
    "# second solution, more optimal\n",
    "\n",
    "n_input = int(input())\n",
    "list_for_input = []\n",
    "\n",
    "for _ in range(n_input):\n",
    "    str_input = input()\n",
    "    if str_input not in list_for_input:\n",
    "        list_for_input.append(str_input)\n",
    "\n",
    "print(*list_without_dublicates, sep='\\n')"
   ]
  },
  {
   "cell_type": "markdown",
   "metadata": {},
   "source": [
    "**Задача:** На вход программе подается натуральное число n, затем n строк, затем еще одна строка — поисковый запрос. Напишите программу, которая выводит все введенные строки, в которых встречается поисковый запрос."
   ]
  },
  {
   "cell_type": "code",
   "execution_count": null,
   "metadata": {},
   "outputs": [],
   "source": [
    "n_input = int(input())\n",
    "list_for_input = []\n",
    "\n",
    "for _ in range(n_input):\n",
    "    str_input = input()\n",
    "    list_for_input.append(str_input)\n",
    "\n",
    "search_value = input()\n",
    "\n",
    "print(*[i for i in list_for_input if search_value.lower() in i.lower()], sep='\\n')"
   ]
  },
  {
   "cell_type": "markdown",
   "metadata": {},
   "source": [
    "**Задача:** На вход программе подается натуральное число n, затем n строк, затем число k — количество поисковых запросов, затем k строк — поисковые запросы. Напишите программу, которая выводит все введенные строки, в которых встречаются одновременно все поисковые запросы."
   ]
  },
  {
   "cell_type": "code",
   "execution_count": null,
   "metadata": {},
   "outputs": [],
   "source": [
    "n_input = int(input())\n",
    "list_for_n_input = []\n",
    "\n",
    "for _ in range(n_input):\n",
    "    str_input = input()\n",
    "    list_for_n_input.append(str_input)\n",
    "\n",
    "k_input = int(input())\n",
    "list_for_k_input = []\n",
    "\n",
    "for _ in range(k_input):\n",
    "    str_input = input()\n",
    "    list_for_k_input.append(str_input)\n",
    "\n",
    "result_list = []\n",
    "for i in range(len(list_for_n_input)):\n",
    "    cnt = 0\n",
    "    for j in range(len(list_for_k_input)):\n",
    "        if list_for_k_input[j].lower() in list_for_n_input[i].lower():\n",
    "            cnt += 1\n",
    "    if cnt == len(list_for_k_input):\n",
    "        result_list.append(list_for_n_input[i])\n",
    "\n",
    "print(*result_list, sep='\\n')"
   ]
  },
  {
   "cell_type": "markdown",
   "metadata": {},
   "source": [
    "**Задача:** На вход программе подается натуральное число n, а затем n целых чисел. Напишите программу, которая сначала выводит все отрицательные числа, затем нули, а затем все положительные числа, каждое на отдельной строке. Числа должны быть выведены в том же порядке, в котором они были введены."
   ]
  },
  {
   "cell_type": "code",
   "execution_count": null,
   "metadata": {},
   "outputs": [],
   "source": [
    "n_input = int(input())\n",
    "list_for_n_input = []\n",
    "\n",
    "for _ in range(n_input):\n",
    "    str_input = input()\n",
    "    list_for_n_input.append(str_input)\n",
    "\n",
    "print(*[i for i in list_for_n_input if int(i) < 0], sep='\\n')\n",
    "print(*[i for i in list_for_n_input if int(i) == 0], sep='\\n')\n",
    "print(*[i for i in list_for_n_input if int(i) > 0], sep='\\n')"
   ]
  }
 ],
 "metadata": {
  "kernelspec": {
   "display_name": "Python 3",
   "language": "python",
   "name": "python3"
  },
  "language_info": {
   "codemirror_mode": {
    "name": "ipython",
    "version": 3
   },
   "file_extension": ".py",
   "mimetype": "text/x-python",
   "name": "python",
   "nbconvert_exporter": "python",
   "pygments_lexer": "ipython3",
   "version": "3.11.1"
  }
 },
 "nbformat": 4,
 "nbformat_minor": 2
}
