{
 "cells": [
  {
   "cell_type": "markdown",
   "metadata": {},
   "source": [
    "**Задача:** В первой строке задано одно целое число n — количество слов в словаре. В следующих n строках записаны слова и их определения, разделенные двоеточием и символом пробела. В следующей строке записано целое число m — количество поисковых слов, чье определение нужно вывести. В следующих m строках записаны сами слова, по одному на строке."
   ]
  },
  {
   "cell_type": "code",
   "execution_count": null,
   "metadata": {},
   "outputs": [],
   "source": [
    "# First solution\n",
    "\n",
    "N_cnt = int(input())\n",
    "\n",
    "dict_for_N_word = dict()\n",
    "for i in range(N_cnt):\n",
    "    new_words = input().split(':')\n",
    "    dict_for_N_word[new_words[0].capitalize()] = new_words[1].strip(' ')\n",
    "    \n",
    "M_cnt = int(input())\n",
    "\n",
    "list_for_words = list()\n",
    "for i in range(M_cnt):\n",
    "    list_for_words.append(input().capitalize())\n",
    "    \n",
    "print(*[dict_for_N_word[i] if i in dict_for_N_word else 'Не найдено' for i in list_for_words], sep='\\n')"
   ]
  },
  {
   "cell_type": "code",
   "execution_count": null,
   "metadata": {},
   "outputs": [],
   "source": [
    "# Second solution\n",
    "\n",
    "mydict = {}\n",
    "\n",
    "for _ in range(int(input())):\n",
    "    key, value = input().split(': ')\n",
    "    mydict[key.lower()] = value\n",
    "\n",
    "for _ in range(int(input())):\n",
    "    print(mydict.get(input().lower(), 'Не найдено'))"
   ]
  },
  {
   "cell_type": "markdown",
   "metadata": {},
   "source": [
    "**Задача:** Анаграмма – слово (словосочетание), образованное путём перестановки букв, составляющих другое слово (или словосочетание). Например, английские слова evil и live – это анаграммы. Например, еще thing и night."
   ]
  },
  {
   "cell_type": "code",
   "execution_count": null,
   "metadata": {},
   "outputs": [],
   "source": [
    "# First solution\n",
    "\n",
    "first_word = input()\n",
    "second_word = input() \n",
    "\n",
    "if sorted(first_word) == sorted(second_word):\n",
    "    print('YES')\n",
    "else:\n",
    "    print('NO')\n",
    "\n",
    "# Second solution \n",
    "    \n",
    "print('YES' if sorted(input()) == sorted(input()) else 'NO')"
   ]
  },
  {
   "cell_type": "markdown",
   "metadata": {},
   "source": [
    "**Задача:** На вход программе подаются два предложения. Напишите программу, которая определяет, являются они анаграммами или нет. Ваша программа должна игнорировать регистр символов, знаки препинания и пробелы."
   ]
  },
  {
   "cell_type": "code",
   "execution_count": null,
   "metadata": {},
   "outputs": [],
   "source": [
    "# first solution\n",
    "\n",
    "a = sorted(''.join(i for i in input().lower() if i.isalpha())) # Вижу зверей\n",
    "b = sorted(''.join(i for i in input().lower() if i.isalpha())) # Живу резвей\n",
    "\n",
    "print('YES' if a == b else 'NO')\n",
    "\n",
    "# second solution\n",
    "\n",
    "print('YES' if sorted(''.join(i for i in input().lower() if i.isalpha())) == sorted(''.join(i for i in input().lower() if i.isalpha())) else 'NO')"
   ]
  },
  {
   "cell_type": "markdown",
   "metadata": {},
   "source": [
    "**Задача:** Вам дан словарь, состоящий из пар слов-синонимов. Повторяющихся слов в словаре нет. Напишите программу, которая для одного данного слова определяет его синоним."
   ]
  },
  {
   "cell_type": "code",
   "execution_count": null,
   "metadata": {},
   "outputs": [],
   "source": [
    "# first solution\n",
    "\n",
    "dict_with_words = dict()\n",
    "for _ in range(int(input())):\n",
    "    sinonim = input().split(' ')\n",
    "    dict_with_words[sinonim[0]] = sinonim[1]\n",
    "\n",
    "# Переписать создание словаря можно следующим образом\n",
    "# d = {i[0]: i[1] for i in [input().split() for _ in range(int(input()))]}\n",
    "\n",
    "new_word = input()\n",
    "\n",
    "for key, val in dict_with_words.items():\n",
    "    if new_word == key:\n",
    "        print(val)\n",
    "    elif new_word == val:\n",
    "        print(key)\n",
    "\n",
    "# second solution\n",
    "        \n",
    "words = {}\n",
    "for _ in range(int(input())):\n",
    "    a, b = input().split(' ')\n",
    "    words[a], words[b] = b, a\n",
    "print(words[input()])"
   ]
  },
  {
   "cell_type": "markdown",
   "metadata": {},
   "source": [
    "**Задача:** На вход программе подается список стран и городов каждой страны. Затем даны названия городов. Напишите программу, которая для каждого города выводит, в какой стране он находится."
   ]
  },
  {
   "cell_type": "code",
   "execution_count": 13,
   "metadata": {},
   "outputs": [],
   "source": [
    "dict_with_word = {i[0]:i[1:] for i in [input().split(' ') for _ in range(int(input()))]}\n",
    "\n",
    "for i in [input() for _ in range(int(input()))]:\n",
    "    for key, val in dict_with_word.items():\n",
    "        if i in val:\n",
    "            print(key)"
   ]
  },
  {
   "cell_type": "markdown",
   "metadata": {},
   "source": [
    "**Задача:** Тимур записал телефоны всех своих друзей, чтобы автоматизировать поиск нужного номера.\n",
    "У каждого из друзей Тимура может быть один или более телефонных номеров. Напишите программу, которая поможет Тимуру находить все номера определённого друга."
   ]
  },
  {
   "cell_type": "code",
   "execution_count": null,
   "metadata": {},
   "outputs": [],
   "source": [
    "3\n",
    "79184219577 Женя\n",
    "79194249271 Руслан\n",
    "79281234567 Женя\n",
    "3\n",
    "Руслан\n",
    "женя\n",
    "Рустам"
   ]
  },
  {
   "cell_type": "code",
   "execution_count": null,
   "metadata": {},
   "outputs": [],
   "source": [
    "# first solution\n",
    "\n",
    "dict_with_values = {i[0]:i[1].lower() for i in [input().split(' ') for _ in range(int(input()))]}\n",
    "list_with_values = [input().lower() for i in range(int(input()))]\n",
    "\n",
    "transformed_dict = {}\n",
    "for phone, name in dict_with_values.items():\n",
    "    if name in transformed_dict:\n",
    "        transformed_dict[name].append(phone)\n",
    "    else:\n",
    "        transformed_dict[name] = [phone]\n",
    "\n",
    "for i in list_with_values:\n",
    "    if i in transformed_dict:\n",
    "        print(*transformed_dict[i])\n",
    "    else:\n",
    "        print('абонент не найден')\n",
    "\n",
    "# second solution\n",
    "        \n",
    "d = {}\n",
    "\n",
    "for _ in range(int(input())):\n",
    "    phone, name = input().split()\n",
    "    d.setdefault(name, []).append(phone)\n",
    "\n",
    "for _ in range(int(input())):\n",
    "    print(*d.get(input(), ['абонент не найден']))"
   ]
  }
 ],
 "metadata": {
  "kernelspec": {
   "display_name": "Python 3",
   "language": "python",
   "name": "python3"
  },
  "language_info": {
   "codemirror_mode": {
    "name": "ipython",
    "version": 3
   },
   "file_extension": ".py",
   "mimetype": "text/x-python",
   "name": "python",
   "nbconvert_exporter": "python",
   "pygments_lexer": "ipython3",
   "version": "3.11.1"
  }
 },
 "nbformat": 4,
 "nbformat_minor": 2
}
