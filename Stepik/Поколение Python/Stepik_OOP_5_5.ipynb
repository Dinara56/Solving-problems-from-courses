{
 "cells": [
  {
   "cell_type": "markdown",
   "metadata": {},
   "source": [
    "#### Тема урока: **арифметические операции**\n",
    "\n",
    "1) Магические методы __add__(), __sub__() и __mul__()\n",
    "2) Магические методы __truediv__(), __floordiv__() и __mod__()\n",
    "3) Отраженные арифметические операции\n",
    "4) Магические методы __iadd__(), __isub__(), __imul__(), __itruediv__(), __ifloordiv__() и __imod__() "
   ]
  },
  {
   "cell_type": "markdown",
   "metadata": {},
   "source": [
    "Чтобы разрешить выполнять с экземплярами нашего класса различные арифметические операции, нам требуется определить в классе соответствующие магические методы:\n",
    "\n",
    "- __add__() — определяет поведение для сложения (оператор +)\n",
    "- __sub__() — определяет поведение для вычитания (оператор -)\n",
    "- __mul__() — определяет поведение для умножения (оператор *)\n",
    "- __truediv__() — определяет поведение для обычного деления (оператор /)\n",
    "- __floordiv__() — определяет поведение для целочисленного деления (оператор //)\n",
    "- __mod__() — определяет поведение для деления по модулю (оператор %)"
   ]
  },
  {
   "cell_type": "markdown",
   "metadata": {},
   "source": [
    "Помимо арифметических операций, в Python существуют операции двоичного сдвига и логические операции. Как и прежде, они реализуются с помощью соответствующих магических методов:\n",
    "\n",
    "- __lshift__() — определяет поведение для двоичного сдвига влево (оператор <<)\n",
    "- __rshift__() — определяет поведение для двоичного сдвига вправо (оператор >>)\n",
    "- __and__() — определяет поведение для двоичного И (оператор &)\n",
    "- __or__() — определяет поведение для двоичного ИЛИ (оператор |)\n",
    "- __xor__() — определяет поведение для двоичного XOR, (оператор ^)"
   ]
  },
  {
   "cell_type": "markdown",
   "metadata": {},
   "source": [
    "**Задача:** Реализуйте класс FoodInfo, описывающий пищевую ценность продуктов. При создании экземпляра класс должен принимать три аргумента в следующем порядке:\n",
    "\n",
    "- proteins — количество белков в граммах\n",
    "- fats — количество жиров в граммах\n",
    "- carbohydrates — количество углеводов в граммах\n",
    "\n",
    "Экземпляр класса FoodInfo должен иметь три атрибута:\n",
    "\n",
    "- proteins — количество белков в граммах\n",
    "- fats — количество жиров в граммах\n",
    "- carbohydrates — количество углеводов в граммах\n",
    "\n",
    "И следующее формальное строковое представление:\n",
    "\n",
    "- FoodInfo(<количество белков>, <количество жиров>, <количество углеводов>)\n",
    "\n",
    "Также экземпляры класса FoodInfo должны поддерживать между собой операцию сложения с помощью оператора +, результатом которой должен являться новый экземпляр класса FoodInfo с суммарным количеством белков, жиров и углеводов исходных экземпляров.\n",
    "\n",
    "Наконец, экземпляр класса FoodInfo должен поддерживать операции умножения, деления и деления нацело на число n с помощью операторов *, / и // соответственно:\n",
    "\n",
    "- результатом умножения должен являться новый экземпляр класса FoodInfo, количество белков, жиров и углеводов которого умножены на n\n",
    "- результатом деления должен являться новый экземпляр класса FoodInfo, количество белков, жиров и углеводов которого поделены на n\n",
    "- результатом деления нацело должен являться новый экземпляр класса FoodInfo, количество белков, жиров и углеводов которого поделены нацело на n"
   ]
  },
  {
   "cell_type": "code",
   "execution_count": 1,
   "metadata": {},
   "outputs": [],
   "source": [
    "class FoodInfo:\n",
    "    def __init__(self, proteins, fats, carbohydrates):\n",
    "        self.proteins = proteins\n",
    "        self.fats = fats\n",
    "        self.carbohydrates = carbohydrates\n",
    "        \n",
    "    def __repr__(self):\n",
    "        return f'FoodInfo({self.proteins}, {self.fats}, {self.carbohydrates})'\n",
    "    \n",
    "    def __add__(self, other):\n",
    "        if isinstance(other, FoodInfo):\n",
    "            return FoodInfo(self.proteins + other.proteins, self.fats + other.fats, self.carbohydrates + other.carbohydrates)\n",
    "        return NotImplemented\n",
    "    \n",
    "    def __mul__(self, other):\n",
    "        if isinstance(other, int) or isinstance(other, float):\n",
    "            return FoodInfo(self.proteins * other, self.fats * other, self.carbohydrates * other)\n",
    "        return NotImplemented\n",
    "    \n",
    "    def __truediv__(self, other):\n",
    "        if isinstance(other, int) or isinstance(other, float):\n",
    "            return FoodInfo(self.proteins / other, self.fats / other, self.carbohydrates / other)\n",
    "        return NotImplemented\n",
    "    \n",
    "    def __floordiv__(self, other):\n",
    "        if isinstance(other, int) or isinstance(other, float):\n",
    "            return FoodInfo(self.proteins // other, self.fats // other, self.carbohydrates // other)\n",
    "        return NotImplemented"
   ]
  },
  {
   "cell_type": "code",
   "execution_count": 2,
   "metadata": {},
   "outputs": [
    {
     "name": "stdout",
     "output_type": "stream",
     "text": [
      "FoodInfo(20, 30, 50)\n",
      "FoodInfo(20, 40, 60)\n",
      "FoodInfo(5.0, 10.0, 15.0)\n",
      "FoodInfo(5, 10, 15)\n"
     ]
    }
   ],
   "source": [
    "food1 = FoodInfo(10, 20, 30)\n",
    "food2 = FoodInfo(10, 10, 20)\n",
    "\n",
    "print(food1 + food2)\n",
    "print(food1 * 2)\n",
    "print(food1 / 2)\n",
    "print(food1 // 2)"
   ]
  },
  {
   "cell_type": "markdown",
   "metadata": {},
   "source": [
    "**Задача:** Реализуйте класс Vector, описывающий вектор на плоскости. При создании экземпляра класс должен принимать два аргумента в следующем порядке:\n",
    "\n",
    "- x — координата вектора по оси x\n",
    "- y — координата вектора по оси y\n",
    "\n",
    "Экземпляр класса Vector должен иметь следующее формальное строковое представление:\n",
    "\n",
    "- Vector(<координата x>, <координата y>)\n",
    "\n",
    "Также экземпляры класса Vector должны поддерживать между собой операции сложения и вычитания с помощью операторов + и - соответственно:\n",
    "\n",
    "- результатом сложения должен являться новый экземпляр класса Vector, координата по оси x которого равна сумме координат по оси x исходных векторов, координата по оси y — сумме координат по оси y исходных векторов\n",
    "- результатом вычитания должен являться новый экземпляр класса Vector координата по оси x которого равна разности координат по оси x исходных векторов с учетом порядка, координата по оси y — разности координат по оси y исходных векторов с учетом порядка\n",
    "\n",
    "Наконец, экземпляр класса Vector должен поддерживать операции умножения и деления на число n с помощью операторов * и / соответственно:\n",
    "\n",
    "- результатом умножения должен являться новый экземпляр класса Vector, координаты которого умножены на n\n",
    "- результатом деления должен являться новый экземпляр класса Vector, координаты которого поделены на n\n",
    "\n",
    "Операция умножения должна быть выполнима независимо от порядка операндов, то есть должна быть возможность умножить как вектор на число, так и число на вектор."
   ]
  },
  {
   "cell_type": "code",
   "execution_count": 3,
   "metadata": {},
   "outputs": [],
   "source": [
    "class Vector:\n",
    "    def __init__(self, x, y):\n",
    "        self.x = x\n",
    "        self.y = y\n",
    "        \n",
    "    def __repr__(self):\n",
    "        return f'Vector({self.x}, {self.y})'\n",
    "\n",
    "    def __add__(self, other):\n",
    "        if isinstance(other, Vector):\n",
    "            return Vector(self.x + other.x, self.y + other.y)\n",
    "        return NotImplemented\n",
    "\n",
    "    def __sub__(self, other):\n",
    "        if isinstance(other, Vector):\n",
    "            return Vector(self.x - other.x, self.y - other.y)\n",
    "        return NotImplemented\n",
    "    \n",
    "    def __mul__(self, other):\n",
    "        if isinstance(other, int) or isinstance(other, float):\n",
    "            return Vector(self.x * other, self.y * other)\n",
    "        return NotImplemented\n",
    "\n",
    "    def __rmul__(self, other):\n",
    "        if isinstance(other, int) or isinstance(other, float):\n",
    "            return self.__mul__(other)\n",
    "        return NotImplemented\n",
    "    \n",
    "    def __truediv__(self, other):\n",
    "        if isinstance(other, int) or isinstance(other, float):\n",
    "            return Vector(self.x / other, self.y / other)\n",
    "        return NotImplemented"
   ]
  },
  {
   "cell_type": "code",
   "execution_count": 4,
   "metadata": {},
   "outputs": [
    {
     "name": "stdout",
     "output_type": "stream",
     "text": [
      "Vector(6, 8)\n",
      "Vector(6, 8)\n",
      "Vector(1.5, 2.0)\n"
     ]
    }
   ],
   "source": [
    "a = Vector(3, 4)\n",
    "\n",
    "print(a * 2)\n",
    "print(2 * a)\n",
    "print(a / 2)"
   ]
  }
 ],
 "metadata": {
  "kernelspec": {
   "display_name": "Python 3",
   "language": "python",
   "name": "python3"
  },
  "language_info": {
   "codemirror_mode": {
    "name": "ipython",
    "version": 3
   },
   "file_extension": ".py",
   "mimetype": "text/x-python",
   "name": "python",
   "nbconvert_exporter": "python",
   "pygments_lexer": "ipython3",
   "version": "3.11.1"
  }
 },
 "nbformat": 4,
 "nbformat_minor": 2
}
