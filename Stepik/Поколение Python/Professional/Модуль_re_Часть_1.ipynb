{
 "cells": [
  {
   "cell_type": "code",
   "execution_count": 7,
   "metadata": {},
   "outputs": [],
   "source": [
    "import re\n",
    "import sys\n",
    "from re import fullmatch"
   ]
  },
  {
   "cell_type": "markdown",
   "metadata": {},
   "source": [
    "**Задача:** Вам доступен набор телефонных номеров, имеющих следующие форматы:\n",
    "\n",
    "- <код страны>-<код города>-<номер>\n",
    "- <код страны> <код города> <номер>\n",
    "\n",
    "в котором код страны и код города представлены последовательностями от одной до трех цифр включительно, а номер — последовательностью от четырех до десяти цифр включительно. Между кодом страны, кодом города и номером используется разделитель, которым служит либо символ дефис, либо пробел, причем одновременно оба вида разделителя в одном номере присутствовать не могут."
   ]
  },
  {
   "cell_type": "code",
   "execution_count": null,
   "metadata": {},
   "outputs": [],
   "source": [
    "# first solution\n",
    "my_string = [i.strip('\\n') for i in sys.stdin]\n",
    "\n",
    "for i in my_string:\n",
    "    code = re.split('[- ]', i)\n",
    "    if fullmatch(r'\\d{1,3}', code[0]) and fullmatch(r'\\d{1,3}', code[1]) and fullmatch(r'\\d{4,10}', code[2]):\n",
    "        print(f'Код страны: {code[0]}, Код города: {code[1]}, Номер: {code[2]}')\n",
    "\n",
    "# second solution\n",
    "for i in (line.strip() for line in sys.stdin):\n",
    "    match = re.search('((\\d{1,3})[ -](\\d{1,3})[ -](\\d{4,10}))', fr'{i}')\n",
    "    print(f'Код страны: {match.group(2)}, Код города: {match.group(3)}, Номер: {match.group(4)}')"
   ]
  },
  {
   "cell_type": "markdown",
   "metadata": {},
   "source": [
    "**Задача:** В онлайн-школе BEEGEEK логин учетной записи определяется следующим образом:\n",
    "\n",
    "- первым символом является символ нижнего подчеркивания _\n",
    "- затем следуют одна или более цифр\n",
    "- после записываются ноль или более латинских букв в произвольном регистре\n",
    "- логин может иметь на конце необязательный символ нижнего подчеркивания _\n",
    "\n",
    "Напишите программу, которая принимает произвольное количество строк и определяет, какие из них представляют собой корректный логин онлайн-школы BEEGEEK."
   ]
  },
  {
   "cell_type": "code",
   "execution_count": 11,
   "metadata": {},
   "outputs": [
    {
     "data": {
      "text/plain": [
       "['1', '877', '2638277']"
      ]
     },
     "execution_count": 11,
     "metadata": {},
     "output_type": "execute_result"
    }
   ],
   "source": [
    "for i in (line.strip() for line in sys.stdin):\n",
    "    if re.fullmatch(r'_\\d+[a-zA-Z]*_?', i):\n",
    "        print(True)\n",
    "    else:\n",
    "        print(False)"
   ]
  },
  {
   "cell_type": "markdown",
   "metadata": {},
   "source": [
    "**Задача:** Напишите программу, которая выводит слова, состоящие из двух одинаковых слогов."
   ]
  },
  {
   "cell_type": "code",
   "execution_count": null,
   "metadata": {},
   "outputs": [],
   "source": [
    "for i in (line.strip() for line in sys.stdin):\n",
    "    if re.fullmatch(r'^(\\w+)\\1$', i):\n",
    "        print(i)"
   ]
  },
  {
   "cell_type": "markdown",
   "metadata": {},
   "source": [
    "**Задача:** На электронную почту Тимура нередко приходят письма с предложением о сотрудничестве. Тимур ценит взаимное уважение и считает письмо достойным внимания, если оно начинается с одного из следующих выражений:\n",
    "\n",
    "- Здравствуйте\n",
    "- Доброе утро\n",
    "- Добрый день\n",
    "- Добрый вечер\n",
    "\n",
    "Напишите программу, которая определяет, является ли письмо достойным внимания Тимура."
   ]
  },
  {
   "cell_type": "code",
   "execution_count": null,
   "metadata": {},
   "outputs": [],
   "source": [
    "word = input()\n",
    "match = re.search('здравствуйте|доброе утро|добрый день|добрый вечер', word, re.I)\n",
    "\n",
    "if match:\n",
    "    print(True)\n",
    "else:\n",
    "    print(False)"
   ]
  },
  {
   "cell_type": "markdown",
   "metadata": {},
   "source": [
    "**Задача:** Вам доступен набор популярных публикаций из социальной сети Твиттер, которые могут иметь следующий вид:\n",
    "\n",
    "- Люблю курсы BEEGEEK!\n",
    "- Когда курс по ООП? @timur_guev\n",
    "- BEEGEEK, спасибо за курсы, вы лучшие! #python #BeeGeek\n",
    "- и т.д.\n",
    "\n",
    "Напишите программу, которая определяет, в скольких публикациях содержится строка beegeek."
   ]
  },
  {
   "cell_type": "code",
   "execution_count": null,
   "metadata": {},
   "outputs": [],
   "source": [
    "# first solution\n",
    "\n",
    "cnt = 0\n",
    "for i in (line.strip() for line in sys.stdin):\n",
    "    if re.search(r'beegeek', i, re.I):\n",
    "        cnt += 1\n",
    "        \n",
    "print(cnt)\n",
    "\n",
    "# second solution\n",
    "print(sum(bool(re.search(r'beegeek', s, re.I)) for s in sys.stdin))"
   ]
  },
  {
   "cell_type": "code",
   "execution_count": 4,
   "metadata": {},
   "outputs": [
    {
     "name": "stdout",
     "output_type": "stream",
     "text": [
      "['Чайный фарфор \"марина', 'хрусталь', 'чайник', 'кастрюля', 'сковородка \"зоя']\n"
     ]
    }
   ],
   "source": [
    "import re\n",
    "\n",
    "string_list = \"['Чайный фарфор \\\"марина\\\"' 'хрусталь' 'чайник' 'кастрюля' 'сковородка \\\"зоя\\\"']\"\n",
    "\n",
    "# Используем регулярное выражение для разделения строки на отдельные элементы, учитывая пробелы\n",
    "items = re.findall(r'\\s*(\"[^\"]+\"|\\'[^\\']+\\')\\s*', string_list)\n",
    "\n",
    "# Отфильтровываем пустые элементы\n",
    "result = [item.strip(\"'\\\"\") for item in items if item.strip(\"'\\\"\")]\n",
    "\n",
    "print(result)  # Вывод найденных элементов"
   ]
  }
 ],
 "metadata": {
  "kernelspec": {
   "display_name": "Python 3",
   "language": "python",
   "name": "python3"
  },
  "language_info": {
   "codemirror_mode": {
    "name": "ipython",
    "version": 3
   },
   "file_extension": ".py",
   "mimetype": "text/x-python",
   "name": "python",
   "nbconvert_exporter": "python",
   "pygments_lexer": "ipython3",
   "version": "3.11.1"
  }
 },
 "nbformat": 4,
 "nbformat_minor": 2
}
