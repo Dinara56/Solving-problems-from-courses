{
 "cells": [
  {
   "cell_type": "markdown",
   "metadata": {},
   "source": [
    "**Задача:** Реализуйте функцию numbers_sum(), которая принимает один аргумент:\n",
    "\n",
    "- elems — список произвольных объектов\n",
    "\n",
    "Функция должна возвращать сумму чисел (типы int и float), находящихся в списке elems, игнорируя все нечисловые объекты. Если в списке elems нет чисел, функция должна вернуть число 0."
   ]
  },
  {
   "cell_type": "code",
   "execution_count": null,
   "metadata": {},
   "outputs": [],
   "source": [
    "# first solution\n",
    "def numbers_sum(elems):\n",
    "    '''Принимает список и возвращает сумму его чисел (int, float),\n",
    "    игнорируя нечисловые объекты. 0 - если в списке чисел нет.'''\n",
    "    value_for_sum = 0\n",
    "    if elems == []:\n",
    "        return 0\n",
    "    else:\n",
    "        for i in elems:\n",
    "            if type(i) in [int, float]:\n",
    "                value_for_sum += i\n",
    "        return value_for_sum\n",
    "    \n",
    "# second solution\n",
    "def numbers_sum(elems):\n",
    "    \"\"\"Принимает список и возвращает сумму его чисел (int, float),\n",
    "    игнорируя нечисловые объекты. 0 - если в списке чисел нет.\"\"\"\n",
    "    return sum(filter(lambda x: isinstance(x, (int, float)), elems))"
   ]
  }
 ],
 "metadata": {
  "language_info": {
   "name": "python"
  }
 },
 "nbformat": 4,
 "nbformat_minor": 2
}
