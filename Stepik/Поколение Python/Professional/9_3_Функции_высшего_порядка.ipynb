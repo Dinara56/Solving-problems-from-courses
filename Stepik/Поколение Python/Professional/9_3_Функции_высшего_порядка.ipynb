{
 "cells": [
  {
   "cell_type": "markdown",
   "metadata": {},
   "source": [
    "#### Тема урока: **анонимные функции, функции map(), filter()**\n",
    "\n",
    "1) Анонимные функции\n",
    "2) Функция map()\n",
    "3) Функция filter()"
   ]
  },
  {
   "cell_type": "markdown",
   "metadata": {},
   "source": [
    "**Задача:** Вам доступен список data, содержащий произвольные объекты. Дополните приведенный ниже код, чтобы он вывел все числа (тип int и float), находящиеся в данном списке, отбрасывая дробную часть у вещественных чисел. Числа должны быть расположены в своем исходном порядке, каждое на отдельной строке."
   ]
  },
  {
   "cell_type": "code",
   "execution_count": 14,
   "metadata": {},
   "outputs": [
    {
     "name": "stdout",
     "output_type": "stream",
     "text": [
      "-16\n",
      "-202\n",
      "883\n",
      "-765\n"
     ]
    }
   ],
   "source": [
    "data = ['Timur', -16.648911695768902, 'six', -202, 883.0093275936454, -765, (3, 4)]\n",
    "\n",
    "new_list = list(map(int, filter(lambda x: type(x) == int or type(x) == float, data)))\n",
    "for number in new_list:\n",
    "    print(number)"
   ]
  },
  {
   "cell_type": "markdown",
   "metadata": {},
   "source": [
    "**Задача:** Вам доступен список numbers, содержащий целые числа. Дополните приведенный ниже код, чтобы он вывел сумму квадратов всех двузначных чисел из данного списка, которые делятся на 9 без остатка."
   ]
  },
  {
   "cell_type": "code",
   "execution_count": 22,
   "metadata": {},
   "outputs": [],
   "source": [
    "numbers = [4754, -4895, -364, -4764, 4683, 1639, -43, 228, -90, -1503, 1223, 4340, -1296, 3939, -345, 623]\n",
    "\n",
    "sum(list(map(lambda x: x ** 2, list(filter(lambda x: len(str(abs(x))) == 2 and x % 9 == 0, numbers)))))"
   ]
  },
  {
   "cell_type": "markdown",
   "metadata": {},
   "source": [
    "**Задача:** Вам доступен список names, содержащий имена на русском языке. Дополните приведенный ниже код, чтобы он вывел все имена, которые начинаются на буквы А и М (независимо от регистра) и имеют длину больше 4. Имена должны быть расположены в лексикографическом порядке, через пробел, каждое с заглавной буквы."
   ]
  },
  {
   "cell_type": "code",
   "execution_count": 41,
   "metadata": {},
   "outputs": [],
   "source": [
    "names = ['ульяна', 'арина', 'Дмитрий', 'Сергей', 'Яна', 'мила', 'Ольга', 'софья', 'семён']\n",
    "\n",
    "result = sorted(list(map(lambda x: x.capitalize(), \n",
    "                list(filter(lambda x: len(x) > 4 and (x.lower()[0] == 'а' or x.lower()[0] == 'м'), names)))))\n",
    "\n",
    "print(' '.join(result))"
   ]
  },
  {
   "cell_type": "markdown",
   "metadata": {},
   "source": [
    "**Задача:** Используя синтаксис анонимных функций, реализуйте рекурсивную функцию fib(), которая принимает один аргумент:\n",
    "\n",
    "- n — натуральное число\n",
    "\n",
    "Функция должна возвращать n-ый член последовательности Фибоначчи."
   ]
  },
  {
   "cell_type": "code",
   "execution_count": 51,
   "metadata": {},
   "outputs": [
    {
     "name": "stdout",
     "output_type": "stream",
     "text": [
      "2\n"
     ]
    }
   ],
   "source": [
    "fib = (lambda f: lambda n: 1 if n == 1 or n == 2 else f(f)(n - 1) + f(f)(n - 2))(lambda f: lambda n: 1 if n == 1 or n == 2 else f(f)(n - 1) + f(f)(n - 2))\n",
    "\n",
    "result = fib(3)\n",
    "print(result)"
   ]
  }
 ],
 "metadata": {
  "kernelspec": {
   "display_name": "Python 3",
   "language": "python",
   "name": "python3"
  },
  "language_info": {
   "codemirror_mode": {
    "name": "ipython",
    "version": 3
   },
   "file_extension": ".py",
   "mimetype": "text/x-python",
   "name": "python",
   "nbconvert_exporter": "python",
   "pygments_lexer": "ipython3",
   "version": "3.11.1"
  }
 },
 "nbformat": 4,
 "nbformat_minor": 2
}
