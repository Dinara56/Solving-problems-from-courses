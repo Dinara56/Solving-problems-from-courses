{
 "cells": [
  {
   "cell_type": "markdown",
   "metadata": {},
   "source": [
    "#### Тема урока: **итераторы**\n",
    "\n",
    "- Магические методы (dunders)\n",
    "- Протокол итератора и итерируемого объекта\n",
    "- Особенности функции iter()"
   ]
  },
  {
   "cell_type": "markdown",
   "metadata": {},
   "source": [
    "**Задача:** Дополните приведенный ниже код, чтобы в переменной infinite_love содержался итератор, бесконечно генерирующий единственное значение — строку i love beegeek!."
   ]
  },
  {
   "cell_type": "code",
   "execution_count": 1,
   "metadata": {},
   "outputs": [],
   "source": [
    "infinite_love = iter(lambda: 'i love beegeek!', None)"
   ]
  },
  {
   "cell_type": "code",
   "execution_count": 2,
   "metadata": {},
   "outputs": [
    {
     "name": "stdout",
     "output_type": "stream",
     "text": [
      "i love beegeek!\n"
     ]
    }
   ],
   "source": [
    "print(next(infinite_love))"
   ]
  },
  {
   "cell_type": "markdown",
   "metadata": {},
   "source": [
    "**Задача:** Реализуйте функцию is_iterable(), которая принимает один аргумент:\n",
    "\n",
    "- obj — произвольный объект\n",
    "\n",
    "Функция должна возвращать True, если объект obj является итерируемым объектом, или False в противном случае."
   ]
  },
  {
   "cell_type": "code",
   "execution_count": 3,
   "metadata": {},
   "outputs": [],
   "source": [
    "def is_iterable(obj):\n",
    "    try:\n",
    "        iter(obj)\n",
    "        return True\n",
    "    except TypeError:\n",
    "        return False"
   ]
  },
  {
   "cell_type": "code",
   "execution_count": 4,
   "metadata": {},
   "outputs": [
    {
     "name": "stdout",
     "output_type": "stream",
     "text": [
      "True\n",
      "False\n",
      "True\n"
     ]
    }
   ],
   "source": [
    "objects = [(1, 13), 7.0004, [1, 2, 3]]\n",
    "\n",
    "for obj in objects:\n",
    "    print(is_iterable(obj))"
   ]
  },
  {
   "cell_type": "markdown",
   "metadata": {},
   "source": [
    "**Задача:** Реализуйте функцию is_iterator(), которая принимает один аргумент:\n",
    "\n",
    "- obj — произвольный объект\n",
    "\n",
    "Функция должна возвращать True, если объект obj является итератором, или False в противном случае. "
   ]
  },
  {
   "cell_type": "code",
   "execution_count": 5,
   "metadata": {},
   "outputs": [],
   "source": [
    "def is_iterator(obj):\n",
    "    return hasattr(obj, '__iter__') and hasattr(obj, '__next__')"
   ]
  },
  {
   "cell_type": "code",
   "execution_count": 6,
   "metadata": {},
   "outputs": [
    {
     "name": "stdout",
     "output_type": "stream",
     "text": [
      "True\n"
     ]
    }
   ],
   "source": [
    "beegeek = filter(None, [0, 0, 1, 1, 0, 1])\n",
    "\n",
    "print(is_iterator(beegeek))"
   ]
  },
  {
   "cell_type": "markdown",
   "metadata": {},
   "source": [
    "**Задача:** Реализуйте функцию random_numbers(), которая принимает два аргумента:\n",
    "\n",
    "- left — целое число\n",
    "- right — целое число\n",
    "\n",
    "Функция должна возвращать итератор, генерирующий бесконечную последовательность случайных целых чисел в диапазоне от left до right включительно."
   ]
  },
  {
   "cell_type": "code",
   "execution_count": 7,
   "metadata": {},
   "outputs": [],
   "source": [
    "import random\n",
    "\n",
    "def random_numbers(left, right):\n",
    "    while True:\n",
    "        yield random.randint(left, right)"
   ]
  },
  {
   "cell_type": "code",
   "execution_count": 8,
   "metadata": {},
   "outputs": [
    {
     "name": "stdout",
     "output_type": "stream",
     "text": [
      "True\n",
      "True\n",
      "True\n"
     ]
    }
   ],
   "source": [
    "iterator = random_numbers(1, 10)\n",
    "\n",
    "print(next(iterator) in range(1, 11))\n",
    "print(next(iterator) in range(1, 11))\n",
    "print(next(iterator) in range(1, 11))"
   ]
  }
 ],
 "metadata": {
  "kernelspec": {
   "display_name": "Python 3",
   "language": "python",
   "name": "python3"
  },
  "language_info": {
   "codemirror_mode": {
    "name": "ipython",
    "version": 3
   },
   "file_extension": ".py",
   "mimetype": "text/x-python",
   "name": "python",
   "nbconvert_exporter": "python",
   "pygments_lexer": "ipython3",
   "version": "3.11.1"
  }
 },
 "nbformat": 4,
 "nbformat_minor": 2
}
