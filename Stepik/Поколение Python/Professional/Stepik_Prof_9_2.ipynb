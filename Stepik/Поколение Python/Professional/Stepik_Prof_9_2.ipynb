{
 "cells": [
  {
   "cell_type": "markdown",
   "metadata": {},
   "source": [
    "#### Тема урока: **встроенные функции**\n",
    "\n",
    "- Функции callable(), hasattr()\n",
    "- Функции help(), repr()\n",
    "- Функция hash()\n",
    "- Функции eval(), exec()"
   ]
  },
  {
   "cell_type": "markdown",
   "metadata": {},
   "source": []
  }
 ],
 "metadata": {
  "kernelspec": {
   "display_name": "Python 3",
   "language": "python",
   "name": "python3"
  },
  "language_info": {
   "name": "python",
   "version": "3.11.1"
  }
 },
 "nbformat": 4,
 "nbformat_minor": 2
}
