{
 "cells": [
  {
   "cell_type": "markdown",
   "metadata": {},
   "source": [
    "#### Тема урока: **встроенные функции**\n",
    "\n",
    "- Функции callable(), hasattr()\n",
    "- Функции help(), repr()\n",
    "- Функция hash()\n",
    "- Функции eval(), exec()"
   ]
  },
  {
   "cell_type": "markdown",
   "metadata": {},
   "source": [
    "**Задача:** Реализуйте функцию hash_as_key(), которая принимает один аргумент:\n",
    "\n",
    "- objects — список хешируемых объектов\n",
    "\n",
    "Функция должна возвращать словарь, ключом в котором является хеш-значение объекта из списка objects, а значением — сам объект. Если хеш-значения некоторых объектов совпадают, их следует объединить в список."
   ]
  },
  {
   "cell_type": "code",
   "execution_count": 64,
   "metadata": {},
   "outputs": [],
   "source": [
    "def hash_as_key(objects):\n",
    "    new_dict = {}\n",
    "    for i in objects:\n",
    "        key = hash(i)\n",
    "        if key not in new_dict:\n",
    "            new_dict[key] = i\n",
    "        else:\n",
    "            if not isinstance(new_dict[key], list):\n",
    "                new_dict[key] = [new_dict[key]]\n",
    "            new_dict[key].append(i)\n",
    "    return new_dict"
   ]
  },
  {
   "cell_type": "code",
   "execution_count": 65,
   "metadata": {},
   "outputs": [
    {
     "name": "stdout",
     "output_type": "stream",
     "text": [
      "{11: 11, 22: 22, 33: 33, 44: 44, 55: 55, 66: 66, 77: 77, 88: 88, 99: 99, 111: 111}\n"
     ]
    }
   ],
   "source": [
    "data = [11, 22, 33, 44, 55, 66, 77, 88, 99, 111]\n",
    "\n",
    "print(hash_as_key(data))"
   ]
  },
  {
   "cell_type": "markdown",
   "metadata": {},
   "source": [
    "**Задача:** Напишите программу, которая принимает на вход корректный непустой список, корректный непустой кортеж или корректное множество произвольной длины, и выполняет следующее:\n",
    "\n",
    "- если введен список, выводит его последний элемент\n",
    "- если введен кортеж, выводит его первый элемент\n",
    "- если введено множество, выводит количество его элементов"
   ]
  },
  {
   "cell_type": "code",
   "execution_count": 63,
   "metadata": {},
   "outputs": [
    {
     "name": "stdout",
     "output_type": "stream",
     "text": [
      "[5, 6]\n"
     ]
    }
   ],
   "source": [
    "first_input = input()\n",
    "first_input = eval(first_input)\n",
    "\n",
    "if type(first_input) == list:\n",
    "    print(first_input[-1])\n",
    "elif type(first_input) == tuple:\n",
    "    print(first_input[0])\n",
    "elif type(first_input) == set:\n",
    "    print(len(first_input))"
   ]
  },
  {
   "cell_type": "markdown",
   "metadata": {},
   "source": [
    "**Задача:** Напишите программу, которая принимает на вход произвольное количество строк, содержащих корректные математические выражения, и выводит значение наибольшего из них."
   ]
  },
  {
   "cell_type": "code",
   "execution_count": 84,
   "metadata": {},
   "outputs": [
    {
     "name": "stdout",
     "output_type": "stream",
     "text": [
      "Минимальное значение функции 2*x**2 + 5*x + 7 на отрезке [-1; 5] равно 4\n"
     ]
    }
   ],
   "source": [
    "f = '2*x**2 + 5*x + 7'\n",
    "values = '-1 5'\n",
    "\n",
    "min_value = int(values.split(' ')[0])\n",
    "max_value = int(values.split(' ')[1])\n",
    "new_list = [eval(f) for x in range(min_value, max_value + 1)]\n",
    "\n",
    "print(f'Минимальное значение функции {f} на отрезке [{min_value}; {max_value}] равно {min(new_list)}')"
   ]
  }
 ],
 "metadata": {
  "kernelspec": {
   "display_name": "Python 3",
   "language": "python",
   "name": "python3"
  },
  "language_info": {
   "codemirror_mode": {
    "name": "ipython",
    "version": 3
   },
   "file_extension": ".py",
   "mimetype": "text/x-python",
   "name": "python",
   "nbconvert_exporter": "python",
   "pygments_lexer": "ipython3",
   "version": "3.11.1"
  }
 },
 "nbformat": 4,
 "nbformat_minor": 2
}
