{
 "cells": [
  {
   "cell_type": "markdown",
   "metadata": {},
   "source": [
    "#### Тема урока: **генераторы**\n",
    "\n",
    "- Функции генераторы\n",
    "- Ключевое слово yield\n",
    "- Функции генераторы с побочными действиями\n",
    "- Особенности и ограничения функций генераторов\n",
    "- Примеры использования функций генераторов\n",
    "- Конструкция yield from\n",
    "- Рекурсивные функции генераторов"
   ]
  },
  {
   "cell_type": "markdown",
   "metadata": {},
   "source": [
    "**Функция генератор** – это функция, которая возвращает итератор. Она выглядит как обычная функция, за исключением того, что использует выражение yield, а не return.\n",
    "\n",
    "Генератор – это итератор, который порождает значения, переданные yield. Когда выполнение доходит до конца функции, объект генератор возбуждает исключение StopIteration в полном соответствии с протоколом итератора."
   ]
  },
  {
   "cell_type": "markdown",
   "metadata": {},
   "source": [
    "**Задача:** Реализуйте генераторную функцию simple_sequence(), которая не принимает никаких аргументов.\n",
    "\n",
    "Функция должна возвращать генератор, порождающий бесконечную возрастающую последовательность натуральных чисел, в которой каждое число встречается столько раз, каково оно: 1,2,2,3,3,3,4,4,4,4,.."
   ]
  },
  {
   "cell_type": "code",
   "execution_count": 1,
   "metadata": {},
   "outputs": [],
   "source": [
    "def simple_sequence():\n",
    "    value = 1\n",
    "    while True:\n",
    "        for _ in range(value):\n",
    "            yield value\n",
    "        value += 1"
   ]
  },
  {
   "cell_type": "code",
   "execution_count": 2,
   "metadata": {},
   "outputs": [
    {
     "name": "stdout",
     "output_type": "stream",
     "text": [
      "1 2 2 3 3 3 4 4 4 4\n"
     ]
    }
   ],
   "source": [
    "generator = simple_sequence()\n",
    "numbers = [next(generator) for _ in range(10)]\n",
    "\n",
    "print(*numbers)"
   ]
  },
  {
   "cell_type": "markdown",
   "metadata": {},
   "source": [
    "**Задача:** Реализуйте генераторную функцию alternating_sequence(), которая принимает один аргумент:\n",
    "\n",
    "- count — натуральное число, по умолчанию имеет значение None\n",
    "\n",
    "Если count имеет значение None, функция должна возвращать генератор, порождающий бесконечный знакочередующийся ряд натуральных чисел.\n",
    "\n",
    "Если count имеет в качестве значения натуральное число, функция должна возвращать генератор, порождающий первые count чисел знакочередующегося ряда натуральных чисел, а затем возбуждающий исключение StopIteration."
   ]
  },
  {
   "cell_type": "code",
   "execution_count": 3,
   "metadata": {},
   "outputs": [],
   "source": [
    "def alternating_sequence(count=None):\n",
    "    if count == None:\n",
    "        value = 1\n",
    "        while True:\n",
    "            if value % 2 == 0:\n",
    "                yield -value\n",
    "            else:\n",
    "                yield value\n",
    "            value += 1\n",
    "    else:\n",
    "        for i in range(1, count+1):\n",
    "            if i % 2 == 0:\n",
    "                yield -i\n",
    "            else:\n",
    "                yield i"
   ]
  },
  {
   "cell_type": "code",
   "execution_count": 4,
   "metadata": {},
   "outputs": [
    {
     "name": "stdout",
     "output_type": "stream",
     "text": [
      "1 -2 3 -4 5 -6 7 -8 9 -10 11 -12 13 -14 15 -16 17 -18 19 -20 21 -22 23 -24 25 -26 27 -28 29 -30 31 -32 33 -34 35 -36 37 -38 39 -40 41 -42 43 -44 45 -46 47 -48 49 -50\n"
     ]
    }
   ],
   "source": [
    "generator = alternating_sequence(50)\n",
    "\n",
    "print(*generator)"
   ]
  },
  {
   "cell_type": "markdown",
   "metadata": {},
   "source": [
    "**Задача:** Реализуйте генераторную функцию primes(), которая принимает два аргумента в следующем порядке:\n",
    "\n",
    "- left — натуральное число\n",
    "- right — натуральное число\n",
    "\n",
    "Функция должна возвращать генератор, порождающий последовательность простых чисел от left до right включительно, а затем возбуждающий исключение StopIteration."
   ]
  },
  {
   "cell_type": "code",
   "execution_count": 5,
   "metadata": {},
   "outputs": [],
   "source": [
    "from sympy import primerange\n",
    "\n",
    "def primes(left, right):\n",
    "    return primerange(left, right + 1)"
   ]
  },
  {
   "cell_type": "code",
   "execution_count": 6,
   "metadata": {},
   "outputs": [
    {
     "name": "stdout",
     "output_type": "stream",
     "text": [
      "2 3 5 7 11 13\n"
     ]
    }
   ],
   "source": [
    "generator = primes(1, 15)\n",
    "\n",
    "print(*generator)"
   ]
  },
  {
   "cell_type": "markdown",
   "metadata": {},
   "source": [
    "**Задача:** Реализуйте генераторную функцию reverse(), которая принимает один аргумент:\n",
    "\n",
    "- sequence — последовательность\n",
    "\n",
    "Функция должна возвращать генератор, порождающий элементы последовательности sequence в обратном порядке, а затем возбуждающий исключение StopIteration."
   ]
  },
  {
   "cell_type": "code",
   "execution_count": 7,
   "metadata": {},
   "outputs": [],
   "source": [
    "def reverse(sequence):\n",
    "    sequence = sequence[::-1]\n",
    "    for i in sequence:\n",
    "        yield i"
   ]
  },
  {
   "cell_type": "code",
   "execution_count": 8,
   "metadata": {},
   "outputs": [
    {
     "name": "stdout",
     "output_type": "stream",
     "text": [
      "5 4 3 2 1\n"
     ]
    }
   ],
   "source": [
    "print(*reverse([1, 2, 3, 4, 5]))"
   ]
  },
  {
   "cell_type": "markdown",
   "metadata": {},
   "source": [
    "**Задача:** Реализуйте генераторную функцию dates(), которая принимает два аргумента в следующем порядке:\n",
    "\n",
    "- start — дата, тип date\n",
    "- count — натуральное число, по умолчанию имеет значение None\n",
    "\n",
    "Если count имеет значение None, функция должна возвращать генератор, порождающий последовательность из максимально допустимого количества дат (тип date), начиная с даты start."
   ]
  },
  {
   "cell_type": "code",
   "execution_count": 17,
   "metadata": {},
   "outputs": [],
   "source": [
    "from datetime import date, timedelta\n",
    "\n",
    "def dates(start, count=None):\n",
    "    value = timedelta(days=0)\n",
    "    if count == None:\n",
    "        while True:\n",
    "            yield start + value\n",
    "            value += timedelta(days=1)\n",
    "    else:\n",
    "        for i in range(1, count+1):\n",
    "            yield start + value\n",
    "            value += timedelta(days=1)"
   ]
  },
  {
   "cell_type": "code",
   "execution_count": 19,
   "metadata": {},
   "outputs": [
    {
     "name": "stdout",
     "output_type": "stream",
     "text": [
      "2022-03-08 2022-03-09 2022-03-10 2022-03-11 2022-03-12\n"
     ]
    }
   ],
   "source": [
    "generator = dates(date(2022, 3, 8), 5)\n",
    "\n",
    "print(*generator)"
   ]
  }
 ],
 "metadata": {
  "kernelspec": {
   "display_name": "Python 3",
   "language": "python",
   "name": "python3"
  },
  "language_info": {
   "codemirror_mode": {
    "name": "ipython",
    "version": 3
   },
   "file_extension": ".py",
   "mimetype": "text/x-python",
   "name": "python",
   "nbconvert_exporter": "python",
   "pygments_lexer": "ipython3",
   "version": "3.11.1"
  }
 },
 "nbformat": 4,
 "nbformat_minor": 2
}
