{
 "cells": [
  {
   "cell_type": "code",
   "execution_count": 1,
   "metadata": {},
   "outputs": [],
   "source": [
    "import pandas as pd "
   ]
  },
  {
   "cell_type": "markdown",
   "metadata": {},
   "source": [
    "**Задача:** Реализуйте функцию is_greater(), которая принимает два аргумента в следующем порядке:\n",
    "\n",
    "- lists — список, элементами которого являются списки целых чисел\n",
    "- number — целое число\n",
    "\n",
    "Функция должна возвращать True, если хотя бы в одном вложенном списке из списка lists сумма всех элементов больше number, или False в противном случае."
   ]
  },
  {
   "cell_type": "code",
   "execution_count": 2,
   "metadata": {},
   "outputs": [],
   "source": [
    "def is_greater(lists, number):\n",
    "    if sum([True if sum(data[i]) > number else False for i in range(len(data))]) >= 1:\n",
    "        return True\n",
    "    else:\n",
    "        return False"
   ]
  },
  {
   "cell_type": "code",
   "execution_count": 3,
   "metadata": {},
   "outputs": [
    {
     "name": "stdout",
     "output_type": "stream",
     "text": [
      "False\n"
     ]
    }
   ],
   "source": [
    "data = [[0, 0, 1], [0, 1, 0], [1, 0, 0]]\n",
    "\n",
    "print(is_greater(data, 2))"
   ]
  },
  {
   "cell_type": "markdown",
   "metadata": {},
   "source": [
    "**Задача:** Реализуйте функцию custom_isinstance(), которая принимает два аргумента в следующем порядке:\n",
    "\n",
    "- objects — список произвольных объектов\n",
    "- typeinfo — тип данных или кортеж с типами\n",
    "\n",
    "Функция должна возвращать единственное число — количество объектов из списка objects, которые принадлежат типу typeinfo или одному из типов, если был передан кортеж."
   ]
  },
  {
   "cell_type": "code",
   "execution_count": 4,
   "metadata": {},
   "outputs": [],
   "source": [
    "def custom_isinstance(objects, typeinfo):\n",
    "    if type(typeinfo) != tuple:\n",
    "        cnt = len([i for i in objects if type(i) == typeinfo])\n",
    "        return cnt\n",
    "    else:\n",
    "        cnt = len([i for i in objects for j in typeinfo if type(i) == j])\n",
    "        return cnt"
   ]
  },
  {
   "cell_type": "markdown",
   "metadata": {},
   "source": [
    "**Задача:** Вам доступен список numbers. Дополните приведенный ниже код, чтобы он вывел индекс максимального элемента в этом списке."
   ]
  },
  {
   "cell_type": "code",
   "execution_count": 5,
   "metadata": {},
   "outputs": [
    {
     "name": "stdout",
     "output_type": "stream",
     "text": [
      "6\n"
     ]
    }
   ],
   "source": [
    "numbers = [-7724, 5023, 3197, -102, -4129, -880, 5857]\n",
    "\n",
    "for i, j in enumerate(numbers):\n",
    "    if j == max(numbers):\n",
    "        print(i)"
   ]
  },
  {
   "cell_type": "markdown",
   "metadata": {},
   "source": [
    "**Задача:** Реализуйте функцию my_pow(), которая принимает один аргумент:\n",
    "\n",
    "- number — целое неотрицательное число\n",
    "\n",
    "Функция должна возвращать сумму, состоящую из цифр числа, возведенных в степень их порядкового номера."
   ]
  },
  {
   "cell_type": "code",
   "execution_count": 6,
   "metadata": {},
   "outputs": [],
   "source": [
    "def my_pow(number):\n",
    "    sum_list = sum([int(j) ** (i+1) for i, j in enumerate(list(str(number)))])\n",
    "    return sum_list"
   ]
  },
  {
   "cell_type": "code",
   "execution_count": 7,
   "metadata": {},
   "outputs": [
    {
     "name": "stdout",
     "output_type": "stream",
     "text": [
      "739\n"
     ]
    }
   ],
   "source": [
    "print(my_pow(139))"
   ]
  },
  {
   "cell_type": "markdown",
   "metadata": {},
   "source": [
    "**Задача:** Вам доступны три списка names, budgets и box_offices. Первый список содержит названия различных мультфильмов, второй и третий — соответствующие бюджеты и сборы в долларах.\n",
    "\n",
    "Дополните приведенный ниже код, чтобы он определил, какую прибыль принес каждый мультфильм, и вывел названия мультфильмов, указав для каждого соответствующую прибыль. Мультфильмы должны быть расположены в лексикографическом порядке, каждый на отдельной строке, в следующем формате:\n",
    "\n",
    "- <фильм>: <прибыль>$"
   ]
  },
  {
   "cell_type": "code",
   "execution_count": 8,
   "metadata": {},
   "outputs": [],
   "source": [
    "names = ['Moana', 'Cars', 'Zootopia', 'Ratatouille', 'Coco', 'Inside Out', 'Finding Nemo', 'Frozen']\n",
    "budgets = [150000000, 120000000, 150000000, 150000000, 180000000, 175000000, 94000000, 150000000]\n",
    "box_offices = [643331111, 462216280, 1023784195, 620702951, 807082196, 857611174, 940335536, 1280802282]"
   ]
  },
  {
   "cell_type": "code",
   "execution_count": 9,
   "metadata": {},
   "outputs": [],
   "source": [
    "df = pd.DataFrame(data = {'names':names, 'pfofit':[box_offices[i] - budgets[i] for i in range(len(box_offices))]}).sort_values(by='names').reset_index(drop=True)"
   ]
  },
  {
   "cell_type": "code",
   "execution_count": 10,
   "metadata": {},
   "outputs": [
    {
     "name": "stdout",
     "output_type": "stream",
     "text": [
      "Cars: 342216280$\n",
      "Coco: 627082196$\n",
      "Finding Nemo: 846335536$\n",
      "Frozen: 1130802282$\n",
      "Inside Out: 682611174$\n",
      "Moana: 493331111$\n",
      "Ratatouille: 470702951$\n",
      "Zootopia: 873784195$\n"
     ]
    }
   ],
   "source": [
    "for i in range(len(df)):\n",
    "    print(f\"{df['names'][i]}: {df['pfofit'][i]}$\")"
   ]
  }
 ],
 "metadata": {
  "kernelspec": {
   "display_name": "Python 3",
   "language": "python",
   "name": "python3"
  },
  "language_info": {
   "codemirror_mode": {
    "name": "ipython",
    "version": 3
   },
   "file_extension": ".py",
   "mimetype": "text/x-python",
   "name": "python",
   "nbconvert_exporter": "python",
   "pygments_lexer": "ipython3",
   "version": "3.11.1"
  }
 },
 "nbformat": 4,
 "nbformat_minor": 2
}
