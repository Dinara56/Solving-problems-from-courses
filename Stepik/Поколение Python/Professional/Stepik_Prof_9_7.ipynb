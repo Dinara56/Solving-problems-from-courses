{
 "cells": [
  {
   "cell_type": "markdown",
   "metadata": {},
   "source": [
    "#### Тема урока: **декораторы**\n",
    "\n",
    "- Определение декоратора\n",
    "- Специальный синтаксис применения декораторов\n",
    "- Изменение поведения функции\n",
    "- Применение нескольких декораторов\n",
    "- Декорирование функций, принимающих аргументы\n",
    "- Возврат значений из декорируемой функции"
   ]
  },
  {
   "cell_type": "markdown",
   "metadata": {},
   "source": [
    "**Декоратор** — это функция, которая принимает другую функцию, расширяет ее поведение, не изменяя ее явно, и возвращает новую функцию. (или Декоратор — это функция, которая позволяет обернуть другую функцию для расширения её функциональности без непосредственного изменения её кода.)\n",
    "\n",
    "Прежде чем понять, как работают декораторы, и начать создавать их, вспомним, некоторые важные особенности функций:\n",
    "\n",
    "- функции являются объектами первого класса, то есть функции можно передавать и использовать в качестве аргументов\n",
    "- функции можно определять внутри других функций\n",
    "- вложенные функции могут использовать локальные переменные родительских функций\n",
    "- функции могут возвращать другие функции в качестве результата"
   ]
  },
  {
   "cell_type": "markdown",
   "metadata": {},
   "source": [
    "**Задача:** Реализуйте декоратор sandwich, который выводит тексты:\n",
    "\n",
    "- ---- Верхний ломтик хлеба ----\n",
    "- ---- Нижний ломтик хлеба ----\n",
    "\n",
    "до и после вызова декорируемой функции соответственно."
   ]
  },
  {
   "cell_type": "code",
   "execution_count": 13,
   "metadata": {},
   "outputs": [],
   "source": [
    "def sandwich(func):\n",
    "    def wrapper(*args, **kwargs):\n",
    "        uppper_leaves = '---- Верхний ломтик хлеба ----'\n",
    "        lower_leaves = '---- Нижний ломтик хлеба ----'\n",
    "        print(uppper_leaves)\n",
    "        result = func(*args, **kwargs)          \n",
    "        print(lower_leaves)\n",
    "        return result\n",
    "    return wrapper"
   ]
  },
  {
   "cell_type": "code",
   "execution_count": 14,
   "metadata": {},
   "outputs": [
    {
     "name": "stdout",
     "output_type": "stream",
     "text": [
      "---- Верхний ломтик хлеба ----\n",
      "---- Нижний ломтик хлеба ----\n",
      "beegeek\n"
     ]
    }
   ],
   "source": [
    "@sandwich\n",
    "def beegeek():\n",
    "    return 'beegeek'\n",
    "    \n",
    "print(beegeek())"
   ]
  },
  {
   "cell_type": "code",
   "execution_count": 15,
   "metadata": {},
   "outputs": [
    {
     "name": "stdout",
     "output_type": "stream",
     "text": [
      "---- Верхний ломтик хлеба ----\n",
      "томат | салат | сыр | бекон\n",
      "---- Нижний ломтик хлеба ----\n"
     ]
    }
   ],
   "source": [
    "@sandwich\n",
    "def add_ingredients(ingredients):\n",
    "    print(' | '.join(ingredients))\n",
    "\n",
    "add_ingredients(['томат', 'салат', 'сыр', 'бекон'])"
   ]
  },
  {
   "cell_type": "markdown",
   "metadata": {},
   "source": [
    "**Задача:** Реализуйте декоратор do_twice, вызывающий декорируемую функцию два раза."
   ]
  },
  {
   "cell_type": "code",
   "execution_count": 100,
   "metadata": {},
   "outputs": [],
   "source": [
    "def do_twice(func):\n",
    "    def wrapper(*args, **kwargs):\n",
    "        func(*args, **kwargs)\n",
    "        result = func(*args, **kwargs)\n",
    "        return result\n",
    "    return wrapper"
   ]
  },
  {
   "cell_type": "code",
   "execution_count": 106,
   "metadata": {},
   "outputs": [
    {
     "data": {
      "text/plain": [
       "<function __main__.print.<locals>.wrapper(*args, **kwargs)>"
      ]
     },
     "execution_count": 106,
     "metadata": {},
     "output_type": "execute_result"
    }
   ],
   "source": [
    "@do_twice\n",
    "def beegeek():\n",
    "    print('beegeek')\n",
    "\n",
    "print(beegeek())"
   ]
  },
  {
   "cell_type": "markdown",
   "metadata": {},
   "source": [
    "**Задача:** Реализуйте декоратор reverse_args, который передает все позиционные аргументы в декорируемую функцию func в обратном порядке."
   ]
  },
  {
   "cell_type": "code",
   "execution_count": 111,
   "metadata": {},
   "outputs": [],
   "source": [
    "def reverse_args(func):\n",
    "    def wrapper(*args, **kwargs):\n",
    "        args = args[::-1]\n",
    "        result = func(*args, **kwargs)\n",
    "        return result\n",
    "    return wrapper"
   ]
  },
  {
   "cell_type": "code",
   "execution_count": 116,
   "metadata": {},
   "outputs": [
    {
     "data": {
      "text/plain": [
       "<function __main__.print.<locals>.wrapper(*args, **kwargs)>"
      ]
     },
     "execution_count": 116,
     "metadata": {},
     "output_type": "execute_result"
    }
   ],
   "source": [
    "@reverse_args\n",
    "def concat(a, b, c):\n",
    "    return a + b + c\n",
    "    \n",
    "print(concat('apple', 'cherry', 'melon'))"
   ]
  },
  {
   "cell_type": "markdown",
   "metadata": {},
   "source": [
    "**Задача:** Реализуйте декоратор exception_decorator, который возвращает\n",
    "\n",
    "- кортеж (value, 'Функция выполнилась без ошибок'), если декорируемая функция завершила свою работу без ошибок, где value — возвращаемое значение декорируемой функции\n",
    "- кортеж (None, 'При вызове функции произошла ошибка'), если при выполнении декорируемой функции возникла ошибка"
   ]
  },
  {
   "cell_type": "code",
   "execution_count": 117,
   "metadata": {},
   "outputs": [],
   "source": [
    "def exception_decorator(func):\n",
    "    def wrapper(*args, **kwargs):\n",
    "        try:\n",
    "            return (func(*args, **kwargs), 'Функция выполнилась без ошибок')\n",
    "        except:\n",
    "            return (None, 'При вызове функции произошла ошибка')\n",
    "    return wrapper"
   ]
  },
  {
   "cell_type": "code",
   "execution_count": 118,
   "metadata": {},
   "outputs": [
    {
     "data": {
      "text/plain": [
       "<function __main__.print.<locals>.wrapper(*args, **kwargs)>"
      ]
     },
     "execution_count": 118,
     "metadata": {},
     "output_type": "execute_result"
    }
   ],
   "source": [
    "sum = exception_decorator(sum)\n",
    "\n",
    "print(sum(['199', '1', 187]))"
   ]
  },
  {
   "cell_type": "markdown",
   "metadata": {},
   "source": [
    "**Задача:** Реализуйте декоратор takes_positive, который проверяет, что все аргументы, передаваемые в декорируемую функцию, являются положительными целыми числами.\n",
    "\n",
    "Если хотя бы один аргумент не удовлетворяет данному условию, декоратор должен возбуждать исключение:\n",
    "\n",
    "- TypeError, если аргумент не является целым числом\n",
    "- ValueError, если аргумент является целым числом, но отрицательным или равным нулю"
   ]
  },
  {
   "cell_type": "code",
   "execution_count": 119,
   "metadata": {},
   "outputs": [],
   "source": [
    "def takes_positive(func):\n",
    "    def wrapper(*args, **kwargs):\n",
    "        for i in [*args, *kwargs.values()]:\n",
    "            if type(i) != int:\n",
    "                raise TypeError\n",
    "            elif i <= 0:\n",
    "                raise ValueError\n",
    "        return func(*args, **kwargs)\n",
    "    return wrapper"
   ]
  },
  {
   "cell_type": "code",
   "execution_count": 120,
   "metadata": {},
   "outputs": [
    {
     "data": {
      "text/plain": [
       "<function __main__.print.<locals>.wrapper(*args, **kwargs)>"
      ]
     },
     "execution_count": 120,
     "metadata": {},
     "output_type": "execute_result"
    }
   ],
   "source": [
    "@takes_positive\n",
    "def positive_sum(*args):\n",
    "    return sum(args)\n",
    "    \n",
    "print(positive_sum(1, 2, 3, 4, 5, 6, 7, 8, 9, 10))"
   ]
  },
  {
   "cell_type": "code",
   "execution_count": 121,
   "metadata": {},
   "outputs": [],
   "source": [
    "@takes_positive\n",
    "def positive_sum(*args):\n",
    "    return sum(args)\n",
    "    \n",
    "try:\n",
    "    print(positive_sum(-3, -2, -1, 0, 1, 2, 3))\n",
    "except Exception as err:\n",
    "    print(type(err))"
   ]
  }
 ],
 "metadata": {
  "kernelspec": {
   "display_name": "Python 3",
   "language": "python",
   "name": "python3"
  },
  "language_info": {
   "codemirror_mode": {
    "name": "ipython",
    "version": 3
   },
   "file_extension": ".py",
   "mimetype": "text/x-python",
   "name": "python",
   "nbconvert_exporter": "python",
   "pygments_lexer": "ipython3",
   "version": "3.11.1"
  }
 },
 "nbformat": 4,
 "nbformat_minor": 2
}
