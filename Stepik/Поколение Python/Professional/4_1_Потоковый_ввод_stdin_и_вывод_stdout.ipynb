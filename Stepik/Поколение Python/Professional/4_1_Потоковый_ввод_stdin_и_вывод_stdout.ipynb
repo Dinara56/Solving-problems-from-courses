{
 "cells": [
  {
   "cell_type": "markdown",
   "metadata": {},
   "source": [
    "**Задача:** Напишите программу, которая принимает произвольное количество строк и в каждой введенной строке располагает все символы в обратном порядке."
   ]
  },
  {
   "cell_type": "code",
   "execution_count": null,
   "metadata": {},
   "outputs": [],
   "source": [
    "import sys\n",
    "\n",
    "for line in sys.stdin:\n",
    "    print(line.strip('\\n')[::-1])"
   ]
  },
  {
   "cell_type": "markdown",
   "metadata": {},
   "source": [
    "**Задача:** Дана последовательность дат. Напишите программу, которая выводит количество дней между максимальной и минимальной датами данной последовательности."
   ]
  },
  {
   "cell_type": "code",
   "execution_count": null,
   "metadata": {},
   "outputs": [],
   "source": [
    "# first solution\n",
    "import sys \n",
    "import datetime\n",
    "\n",
    "list_ = sorted([datetime.datetime.strptime(i.strip(), '%Y-%m-%d') for i in sys.stdin.readlines()])\n",
    "\n",
    "max_date = max(list_)\n",
    "min_date = min(list_)\n",
    "\n",
    "r = str(max_date - min_date).split()[0]\n",
    "\n",
    "if r == '0:00:00':\n",
    "    print(0)\n",
    "else:\n",
    "    print(r)\n",
    "\n",
    "# second solution\n",
    "    \n",
    "import sys\n",
    "from datetime import datetime\n",
    "\n",
    "date = [datetime.fromisoformat(i.strip()) for i in sys.stdin]\n",
    "                              \n",
    "print((max(date) - min(date)).days)"
   ]
  }
 ],
 "metadata": {
  "language_info": {
   "name": "python"
  }
 },
 "nbformat": 4,
 "nbformat_minor": 2
}
