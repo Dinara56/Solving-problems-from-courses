{
 "cells": [
  {
   "cell_type": "markdown",
   "metadata": {},
   "source": [
    "**Задача:** Напишите программу, которая принимает произвольное количество строк и в каждой введенной строке располагает все символы в обратном порядке."
   ]
  },
  {
   "cell_type": "code",
   "execution_count": null,
   "metadata": {},
   "outputs": [],
   "source": [
    "import sys\n",
    "\n",
    "for line in sys.stdin:\n",
    "    print(line.strip('\\n')[::-1])"
   ]
  },
  {
   "cell_type": "markdown",
   "metadata": {},
   "source": [
    "**Задача:** Дана последовательность дат. Напишите программу, которая выводит количество дней между максимальной и минимальной датами данной последовательности."
   ]
  },
  {
   "cell_type": "code",
   "execution_count": null,
   "metadata": {},
   "outputs": [],
   "source": [
    "# first solution\n",
    "import sys \n",
    "import datetime\n",
    "\n",
    "list_ = sorted([datetime.datetime.strptime(i.strip(), '%Y-%m-%d') for i in sys.stdin.readlines()])\n",
    "\n",
    "max_date = max(list_)\n",
    "min_date = min(list_)\n",
    "\n",
    "r = str(max_date - min_date).split()[0]\n",
    "\n",
    "if r == '0:00:00':\n",
    "    print(0)\n",
    "else:\n",
    "    print(r)\n",
    "\n",
    "# second solution\n",
    "    \n",
    "import sys\n",
    "from datetime import datetime\n",
    "\n",
    "date = [datetime.fromisoformat(i.strip()) for i in sys.stdin]\n",
    "                              \n",
    "print((max(date) - min(date)).days)"
   ]
  },
  {
   "cell_type": "markdown",
   "metadata": {},
   "source": [
    "**Задача:** Анри и Дима, имея на руках ящик с бесконечным количеством носков, решили сыграть в игру. Ребята по очереди достают из ящика произвольное количество носков, и после неопределенного числа ходов игра заканчивается. Если тот, кто сделал последний ход, вытащил четное количество носков — он побеждает, в противном случае проигрывает.\n",
    "\n",
    "Напишите программу, которая определяет победителя в данной игре, если первый ход делает Анри.\n",
    "\n",
    "Формат входных данных\n",
    "На вход программе подается произвольное количество строк, в каждой строке записано натуральное число — количество носков, которые вытащил один из игроков."
   ]
  },
  {
   "cell_type": "code",
   "execution_count": 1,
   "metadata": {},
   "outputs": [
    {
     "data": {
      "text/plain": [
       "3"
      ]
     },
     "execution_count": 1,
     "metadata": {},
     "output_type": "execute_result"
    }
   ],
   "source": [
    "import sys\n",
    "\n",
    "list_with_value = [int(i.strip('\\n')) for i in sys.stdin]\n",
    "\n",
    "if len(list_with_value) % 2 == 0:\n",
    "    if list_with_value[-1] % 2 == 0:\n",
    "        print('Дима')\n",
    "    else:\n",
    "        print('Анри')\n",
    "else:\n",
    "    if list_with_value[-1] % 2 == 0:\n",
    "        print('Анри')\n",
    "    else:\n",
    "        print('Дима')"
   ]
  },
  {
   "cell_type": "markdown",
   "metadata": {},
   "source": [
    "**Задача:** Дан список чисел, каждое из которых — рост очередного ученика онлайн-школы BEEGEEK. Напишите программу, которая определяет рост самого низкого и самого высокого учеников, а также средний рост среди всех учеников."
   ]
  },
  {
   "cell_type": "code",
   "execution_count": null,
   "metadata": {},
   "outputs": [],
   "source": [
    "# first solution\n",
    "import sys\n",
    "\n",
    "list_with_value = [int(i.strip('\\n')) for i in sys.stdin]\n",
    "\n",
    "if list_with_value != []:\n",
    "    min_value = min(list_with_value)\n",
    "    max_value = max(list_with_value)\n",
    "    avg_value = sum(list_with_value) / len(list_with_value)\n",
    "\n",
    "\n",
    "    print(f'Рост самого низкого ученика: {min_value}')\n",
    "    print(f'Рост самого высокого ученика: {max_value}')\n",
    "    print(f'Средний рост: {avg_value}')\n",
    "\n",
    "else:\n",
    "    print('нет учеников')\n",
    "\n",
    "# second solution\n",
    "numbers = [int(i) for i in sys.stdin]\n",
    "print(f'Рост самого низкого ученика: {min(numbers)}\\nРост самого высокого ученика: {max(numbers)}\\nСредний рост: {sum(numbers)/len(numbers)}' if numbers else 'нет учеников')\n",
    "\n",
    "# third solution\n",
    "data = [int(x) for x in sys.stdin.readlines()]\n",
    "\n",
    "print(f'Рост самого низкого ученика: {min(data)}\\n'\n",
    "      f'Рост самого высокого ученика: {max(data)}\\n'\n",
    "      f'Средний рост: {sum(data) / len(data)}\\n'\n",
    "      if data else 'нет учеников')"
   ]
  },
  {
   "cell_type": "markdown",
   "metadata": {},
   "source": [
    "**Задача:** Дан блок кода на языке Python. Напишите программу, которая определяет количество строк в данном коде, которые содержат в себе только комментарии. Если в строке помимо комментария имеется что-то еще, то такую строку учитывать не нужно."
   ]
  },
  {
   "cell_type": "code",
   "execution_count": null,
   "metadata": {},
   "outputs": [],
   "source": [
    "import sys\n",
    "\n",
    "data = [x.strip()[0] for x in sys.stdin.readlines()]\n",
    "print(len([i for i in data if i == '#']))"
   ]
  },
  {
   "cell_type": "markdown",
   "metadata": {},
   "source": [
    "**Задача:** Дан блок кода на языке Python. Напишите программу, которая удаляет все строки в данном коде, которые содержат в себе только комментарии. Если в строке помимо комментария имеется что-то еще, то такую строку учитывать не нужно."
   ]
  },
  {
   "cell_type": "code",
   "execution_count": null,
   "metadata": {},
   "outputs": [],
   "source": [
    "import sys\n",
    "\n",
    "data = [i for i in sys.stdin.readlines()]\n",
    "\n",
    "new_list = []\n",
    "for i in data:\n",
    "    if i.strip() != '':\n",
    "        if i.strip()[0] != '#':\n",
    "            new_list.append(i)\n",
    "    else:\n",
    "        new_list.append(i)\n",
    "\n",
    "print(*new_list, sep='')"
   ]
  },
  {
   "cell_type": "markdown",
   "metadata": {},
   "source": [
    "**Задача:** Формат входных данных\n",
    "На вход программе подается произвольное количество строк, в каждой строке, кроме последней, записана новость, категория, к которой она относится, и ее достоверность в следующем формате:\n",
    "\n",
    "- <новость> / <категория> / <достоверность>\n",
    "\n",
    "В последней строке подается одиночная категория.\n",
    "\n",
    "Формат выходных данных\n",
    "Программа должна вывести все новости, которые относятся к введенной категории. Новости должны быть расположены в порядке возрастания степени достоверности, а при совпадении степеней достоверности — в лексикографическом порядке самих новостей."
   ]
  },
  {
   "cell_type": "code",
   "execution_count": null,
   "metadata": {},
   "outputs": [],
   "source": [
    "import sys\n",
    "\n",
    "# считаем строку производльной длины\n",
    "data = [i.strip('\\n') for i in sys.stdin.readlines()]\n",
    "\n",
    "# выявим категорию\n",
    "search_name = data[-1]\n",
    "data = data[:-1]\n",
    "\n",
    "# разделим на списки списки списков и выберем только те, у кого категория равна выявленной\n",
    "data_new = [i.split(' / ') for i in data]\n",
    "data_new = [i for i in data_new if i[1] == search_name]\n",
    "\n",
    "data_new = sorted(data_new, key=lambda x: (float(x[2]), x[0]))\n",
    "\n",
    "for i in data_new:\n",
    "    print(i[0])"
   ]
  },
  {
   "cell_type": "markdown",
   "metadata": {},
   "source": [
    "**Задача:** Дана последовательность дат. Напишите программу, которая определяет, в каком порядке расположены даты в данной последовательности."
   ]
  },
  {
   "cell_type": "code",
   "execution_count": null,
   "metadata": {},
   "outputs": [],
   "source": [
    "import sys\n",
    "from datetime import datetime\n",
    "\n",
    "# считаем строку производльной длины\n",
    "data = [i.strip('\\n') for i in sys.stdin.readlines()]\n",
    "\n",
    "date_times = [datetime.strptime(date, \"%d.%m.%Y\") for date in data]\n",
    "\n",
    "is_ascending = all(date_times[i] < date_times[i+1] for i in range(len(date_times)-1))\n",
    "is_descending = all(date_times[i] > date_times[i+1] for i in range(len(date_times)-1))\n",
    "\n",
    "if is_ascending:\n",
    "    print('ASC')\n",
    "elif is_descending:\n",
    "    print('DESC')\n",
    "else:\n",
    "    print('MIX')"
   ]
  }
 ],
 "metadata": {
  "kernelspec": {
   "display_name": "Python 3",
   "language": "python",
   "name": "python3"
  },
  "language_info": {
   "codemirror_mode": {
    "name": "ipython",
    "version": 3
   },
   "file_extension": ".py",
   "mimetype": "text/x-python",
   "name": "python",
   "nbconvert_exporter": "python",
   "pygments_lexer": "ipython3",
   "version": "3.11.1"
  }
 },
 "nbformat": 4,
 "nbformat_minor": 2
}
