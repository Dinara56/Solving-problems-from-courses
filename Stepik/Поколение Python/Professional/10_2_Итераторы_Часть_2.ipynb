{
 "cells": [
  {
   "cell_type": "markdown",
   "metadata": {},
   "source": [
    "#### Тема урока: **итераторы**\n",
    "\n",
    "- Особенности итераторов\n",
    "- Встроенные функции, порождающие итераторы"
   ]
  },
  {
   "cell_type": "markdown",
   "metadata": {},
   "source": [
    "#### Функция map(function, *iterable)\n",
    "\n",
    "Функция map(function, *iterable) применяет пользовательскую функцию function к каждому элементу итерируемого объекта iterable. Каждый элемент iterable отправляется в функцию function в качестве аргумента."
   ]
  },
  {
   "cell_type": "code",
   "execution_count": 1,
   "metadata": {},
   "outputs": [
    {
     "name": "stdout",
     "output_type": "stream",
     "text": [
      "Тип итератора squares: <class 'map'>, размер: 48\n",
      "Тип итератора capitals: <class 'map'>, размер: 48\n",
      "1 4 9 16 25 36 49 64 81 100\n",
      "B E E G E E K\n"
     ]
    }
   ],
   "source": [
    "# Пример использования\n",
    "\n",
    "from sys import getsizeof\n",
    "\n",
    "numbers = [1, 2, 3, 4, 5, 6, 7, 8, 9, 10]\n",
    "letters = 'beegeek'\n",
    "\n",
    "squares = map(lambda num: num ** 2, numbers)\n",
    "capitals = map(str.upper, letters)\n",
    "\n",
    "print(f'Тип итератора squares: {type(squares)}, размер: {getsizeof(squares)}')\n",
    "print(f'Тип итератора capitals: {type(capitals)}, размер: {getsizeof(capitals)}')\n",
    "\n",
    "print(*squares, sep=' ')\n",
    "print(*capitals, sep=' ')"
   ]
  },
  {
   "cell_type": "markdown",
   "metadata": {},
   "source": [
    "#### Функция filter(function, iterable)\n",
    "\n",
    "Функция filter(function, iterable) фильтрует (отбирает) элементы переданного итерируемого объекта iterable при помощи пользовательской функции function. Если фильтрующая функция function вернёт True, то элемент из итерируемого объекта iterable попадёт в результат выполнения функции filter(), если False — не попадёт."
   ]
  },
  {
   "cell_type": "code",
   "execution_count": 2,
   "metadata": {},
   "outputs": [
    {
     "name": "stdout",
     "output_type": "stream",
     "text": [
      "Тип итератора positive_numbers: <class 'filter'>, размер: 48\n",
      "Тип итератора not_nulls: <class 'filter'>, размер: 48\n",
      "45 4 89 43 1234 112 999 777\n",
      "a 45 True 69.69 -1 empty\n"
     ]
    }
   ],
   "source": [
    "# Пример использования\n",
    "\n",
    "from sys import getsizeof\n",
    "\n",
    "numbers = [45, -90, -21, 4, 89, 43, 1234, 112, 999, 777, -765, -666]\n",
    "objects = ('a', None, 45, True, 69.69, False, -1, 0, 'empty', '')\n",
    "\n",
    "positive_numbers = filter(lambda num: num > 0, numbers)\n",
    "not_nulls = filter(None, objects)\n",
    "\n",
    "print(f'Тип итератора positive_numbers: {type(positive_numbers)}, размер: {getsizeof(positive_numbers)}')\n",
    "print(f'Тип итератора not_nulls: {type(not_nulls)}, размер: {getsizeof(not_nulls)}')\n",
    "\n",
    "print(*positive_numbers, sep=' ')\n",
    "print(*not_nulls, sep=' ')"
   ]
  },
  {
   "cell_type": "markdown",
   "metadata": {},
   "source": [
    "#### Функция enumerate(iterable, start=0)\n",
    "\n",
    "Функция enumerate(iterable, start=0) нумерует элементы итерируемого объекта iterable, начиная со значения start."
   ]
  },
  {
   "cell_type": "code",
   "execution_count": 3,
   "metadata": {},
   "outputs": [
    {
     "name": "stdout",
     "output_type": "stream",
     "text": [
      "Тип итератора numbered_seasons: <class 'enumerate'>, размер: 72\n",
      "Тип итератора numbered_letters: <class 'enumerate'>, размер: 72\n",
      "(0, 'Spring') (1, 'Summer') (2, 'Fall') (3, 'Winter')\n",
      "(1, 'b') (2, 'e') (3, 'e') (4, 'g') (5, 'e') (6, 'e') (7, 'k')\n"
     ]
    }
   ],
   "source": [
    "# Пример использования\n",
    "\n",
    "from sys import getsizeof\n",
    "\n",
    "seasons = ['Spring', 'Summer', 'Fall', 'Winter']\n",
    "letters = 'beegeek'\n",
    "\n",
    "numbered_seasons = enumerate(seasons)\n",
    "numbered_letters = enumerate(letters, start=1)\n",
    "\n",
    "print(f'Тип итератора numbered_seasons: {type(numbered_seasons)}, размер: {getsizeof(numbered_seasons)}')\n",
    "print(f'Тип итератора numbered_letters: {type(numbered_letters)}, размер: {getsizeof(numbered_letters)}')\n",
    "\n",
    "print(*numbered_seasons, sep=' ')\n",
    "print(*numbered_letters, sep=' ')"
   ]
  },
  {
   "cell_type": "markdown",
   "metadata": {},
   "source": [
    "#### Функция zip(*iterables, strict=False)\n",
    "\n",
    "Функция zip(*iterables, strict=False) объединяет элементы каждого из переданных итерируемых объектов *iterables."
   ]
  },
  {
   "cell_type": "code",
   "execution_count": 4,
   "metadata": {},
   "outputs": [
    {
     "name": "stdout",
     "output_type": "stream",
     "text": [
      "Тип итератора zip_iterator1: <class 'zip'>, размер: 64\n",
      "Тип итератора zip_iterator2: <class 'zip'>, размер: 64\n",
      "('Python', 1991) ('C#', 2000) ('C', 1972) ('Delphi', 1986)\n",
      "('Python', 1991, 'Guido van Rossum') ('C#', 2000, 'Anders Hejlsberg') ('C', 1972, 'Dennis MacAlistair Ritchie') ('Delphi', 1986, 'Anders Hejlsberg')\n"
     ]
    }
   ],
   "source": [
    "# Пример использования\n",
    "\n",
    "from sys import getsizeof\n",
    "\n",
    "languages = ['Python', 'C#', 'C', 'Delphi'] \n",
    "years = [1991, 2000, 1972, 1986]\n",
    "authors = ('Guido van Rossum', 'Anders Hejlsberg', 'Dennis MacAlistair Ritchie', 'Anders Hejlsberg')\n",
    "\n",
    "zip_iterator1 = zip(languages, years)\n",
    "zip_iterator2 = zip(languages, years, authors)\n",
    "\n",
    "print(f'Тип итератора zip_iterator1: {type(zip_iterator1)}, размер: {getsizeof(zip_iterator1)}')\n",
    "print(f'Тип итератора zip_iterator2: {type(zip_iterator2)}, размер: {getsizeof(zip_iterator2)}')\n",
    "\n",
    "print(*zip_iterator1, sep=' ')\n",
    "print(*zip_iterator2, sep=' ')"
   ]
  },
  {
   "cell_type": "markdown",
   "metadata": {},
   "source": [
    "#### Функция reversed(seq)\n",
    "\n",
    "Функция reversed(seq) перебирает элементы итерируемого объекта seq в обратном порядке."
   ]
  },
  {
   "cell_type": "code",
   "execution_count": 5,
   "metadata": {},
   "outputs": [
    {
     "name": "stdout",
     "output_type": "stream",
     "text": [
      "Тип итератора backward_years: <class 'list_reverseiterator'>, размер: 48\n",
      "Тип итератора backward_letters: <class 'reversed'>, размер: 48\n",
      "1986 1972 2000 1991\n",
      "k e e g e e b\n"
     ]
    }
   ],
   "source": [
    "# Пример использования\n",
    "\n",
    "from sys import getsizeof\n",
    "\n",
    "years = [1991, 2000, 1972, 1986]\n",
    "letters = 'beegeek'\n",
    "\n",
    "backward_years = reversed(years)\n",
    "backward_letters = reversed(letters)\n",
    "\n",
    "print(f'Тип итератора backward_years: {type(backward_years)}, размер: {getsizeof(backward_years)}')\n",
    "print(f'Тип итератора backward_letters: {type(backward_letters)}, размер: {getsizeof(backward_letters)}')\n",
    "\n",
    "print(*backward_years, sep=' ')\n",
    "print(*backward_letters, sep=' ')"
   ]
  },
  {
   "cell_type": "markdown",
   "metadata": {},
   "source": [
    "**Задача:** Реализуйте функцию filterfalse() с использованием функции filter(), которая принимает два аргумента:\n",
    "\n",
    "- predicate — функция-предикат; если имеет значение None, то работает аналогично функции bool()\n",
    "- iterable — итерируемый объект\n",
    "\n",
    "\n",
    "Функция должна работать противоположно функции filter(), то есть возвращать итератор, элементами которого являются элементы итерируемого объекта iterable, для которых функция predicate вернула значение False."
   ]
  },
  {
   "cell_type": "code",
   "execution_count": 6,
   "metadata": {},
   "outputs": [],
   "source": [
    "def filterfalse(predicate, iterable):\n",
    "    res = iter([i for i in iterable if i not in list(filter(predicate, iterable))])\n",
    "    return res"
   ]
  },
  {
   "cell_type": "code",
   "execution_count": 7,
   "metadata": {},
   "outputs": [
    {
     "name": "stdout",
     "output_type": "stream",
     "text": [
      "0 False []\n"
     ]
    }
   ],
   "source": [
    "objects = [0, 1, True, False, 17, []]\n",
    "print(*filterfalse(None, objects))"
   ]
  },
  {
   "cell_type": "markdown",
   "metadata": {},
   "source": [
    "**Задача:** Реализуйте функцию transpose() с использованием функции zip(), которая принимает один аргумент:\n",
    "\n",
    "- matrix — матрица произвольной размерности\n",
    "\n",
    "Функция должна возвращать транспонированную матрицу matrix."
   ]
  },
  {
   "cell_type": "code",
   "execution_count": 8,
   "metadata": {},
   "outputs": [],
   "source": [
    "def transpose(matrix):\n",
    "    return [list(item) for item in zip(*matrix)]"
   ]
  },
  {
   "cell_type": "code",
   "execution_count": 9,
   "metadata": {},
   "outputs": [
    {
     "name": "stdout",
     "output_type": "stream",
     "text": [
      "[1, 4, 7]\n",
      "[2, 5, 8]\n",
      "[3, 6, 9]\n"
     ]
    }
   ],
   "source": [
    "matrix = [[1, 2, 3],\n",
    "          [4, 5, 6],\n",
    "          [7, 8, 9]]\n",
    "\n",
    "for row in transpose(matrix):\n",
    "    print(row)"
   ]
  },
  {
   "cell_type": "markdown",
   "metadata": {},
   "source": [
    "**Задача:** Реализуйте функцию get_min_max(), которая принимает один аргумент:\n",
    "\n",
    "- data — список произвольных объектов, сравнимых между собой\n",
    "\n",
    "Функция должна возвращать кортеж, в котором первым элементом является индекс минимального элемента в списке data, вторым — индекс максимального элемента в списке data. Если список data пуст, функция должна вернуть значение None. Если минимальных / максимальных элементов несколько, следует вернуть индексы первого по порядку элемента."
   ]
  },
  {
   "cell_type": "code",
   "execution_count": 10,
   "metadata": {},
   "outputs": [],
   "source": [
    "def get_min_max(data):\n",
    "    if data == []:\n",
    "        return None\n",
    "    else:\n",
    "        return (min([i for i, j in enumerate(data) if j == min(data)]), min([i for i, j in enumerate(data) if j == max(data)]))"
   ]
  },
  {
   "cell_type": "code",
   "execution_count": 11,
   "metadata": {},
   "outputs": [
    {
     "name": "stdout",
     "output_type": "stream",
     "text": [
      "(0, 0)\n"
     ]
    }
   ],
   "source": [
    "data = [9]\n",
    "\n",
    "print(get_min_max(data))"
   ]
  },
  {
   "cell_type": "markdown",
   "metadata": {},
   "source": [
    "**Задача:** Реализуйте функцию starmap() с использованием функции map(), которая принимает два аргумента:\n",
    "\n",
    "- func — функция\n",
    "- iterable — итерируемый объект, элементами которого являются коллекции\n",
    "\n",
    "Функция starmap() должна работать аналогично функции map(), то есть возвращать итератор, элементами которого являются элементы итерируемого объекта iterable, к которым была применена функция func, с единственным отличием: func должна принимать не один аргумент — коллекцию (элемент iterable), а каждый элемент этой коллекции в качестве самостоятельного аргумента."
   ]
  },
  {
   "cell_type": "code",
   "execution_count": 12,
   "metadata": {},
   "outputs": [],
   "source": [
    "def starmap(func, iterable):\n",
    "    return map(func, *zip(*iterable))"
   ]
  },
  {
   "cell_type": "code",
   "execution_count": 13,
   "metadata": {},
   "outputs": [
    {
     "name": "stdout",
     "output_type": "stream",
     "text": [
      "4 7 10\n"
     ]
    }
   ],
   "source": [
    "pairs = [(1, 3), (2, 5), (6, 4)]\n",
    "\n",
    "print(*starmap(lambda a, b: a + b, pairs))"
   ]
  },
  {
   "cell_type": "markdown",
   "metadata": {},
   "source": [
    "**Задача:** Реализуйте функцию get_min_max(), которая принимает один аргумент:\n",
    "\n",
    "- iterable — итерируемый объект, элементы которого сравнимы между собой\n",
    "\n",
    "Функция должна возвращать кортеж, в котором первым элементом является минимальный элемент итерируемого объекта iterable, вторым — максимальный элемент итерируемого объекта iterable. Если итерируемый объект iterable пуст, функция должна вернуть значение None."
   ]
  },
  {
   "cell_type": "code",
   "execution_count": 14,
   "metadata": {},
   "outputs": [],
   "source": [
    "import copy\n",
    "\n",
    "def get_min_max(iterable):\n",
    "    try:\n",
    "        iterable_copy = copy.deepcopy(iterable)\n",
    "        min_value = min(iterable)\n",
    "        max_value = max(iterable_copy)\n",
    "        return (min_value, max_value)\n",
    "    except ValueError:\n",
    "        # Если возникает исключение, значит iterable пуст, возвращаем None\n",
    "        return None"
   ]
  },
  {
   "cell_type": "code",
   "execution_count": 15,
   "metadata": {},
   "outputs": [
    {
     "name": "stdout",
     "output_type": "stream",
     "text": [
      "(0, 9)\n"
     ]
    }
   ],
   "source": [
    "iterable = iter(range(10))\n",
    "print(get_min_max(iterable))"
   ]
  }
 ],
 "metadata": {
  "kernelspec": {
   "display_name": "Python 3",
   "language": "python",
   "name": "python3"
  },
  "language_info": {
   "codemirror_mode": {
    "name": "ipython",
    "version": 3
   },
   "file_extension": ".py",
   "mimetype": "text/x-python",
   "name": "python",
   "nbconvert_exporter": "python",
   "pygments_lexer": "ipython3",
   "version": "3.11.1"
  }
 },
 "nbformat": 4,
 "nbformat_minor": 2
}
