{
 "cells": [
  {
   "cell_type": "markdown",
   "metadata": {},
   "source": [
    "#### Тема урока: **атрибуты объектов и классов**\n",
    "\n",
    "- ООП в Python\n",
    "- Функция dir()\n",
    "- Атрибуты объектов\n",
    "- Атрибуты классов\n",
    "- Атрибут __dict__\n",
    "- Функции getattr(), setattr(), hasattr() и delattr()"
   ]
  },
  {
   "cell_type": "markdown",
   "metadata": {},
   "source": [
    "**Задача:** Реализуйте пустой класс PiggyBank, а затем создайте два экземпляра этого класса и присвойте их переменным money_box1 и money_box2.\n",
    "\n",
    "Экземпляр money_box1 должен иметь:\n",
    "\n",
    "- атрибут coins со значением 10\n",
    "\n",
    "Экземпляр money_box2 должен иметь:\n",
    "\n",
    "- атрибут coins со значением 15\n",
    "- атрибут color со значением 'pink'"
   ]
  },
  {
   "cell_type": "code",
   "execution_count": 1,
   "metadata": {},
   "outputs": [],
   "source": [
    "class PiggyBank:\n",
    "    pass\n",
    "\n",
    "money_box1 = PiggyBank()\n",
    "money_box2 = PiggyBank()\n",
    "\n",
    "money_box1.coins = 10\n",
    "money_box2.coins = 15\n",
    "money_box2.color = 'pink'"
   ]
  },
  {
   "cell_type": "markdown",
   "metadata": {},
   "source": [
    "**Задача:** Реализуйте класс PiggyBank, а затем создайте экземпляр этого класса и присвойте его переменной money_box.\n",
    "\n",
    "Класс PiggyBank должен иметь:\n",
    "\n",
    "- атрибут content со значением 'coins'\n",
    "- атрибут alternate_name со значением 'penny bank'"
   ]
  },
  {
   "cell_type": "code",
   "execution_count": 2,
   "metadata": {},
   "outputs": [],
   "source": [
    "class PiggyBank:\n",
    "    content = 'coins'\n",
    "    alternate_name = 'penny bank'\n",
    "\n",
    "money_box = PiggyBank()"
   ]
  }
 ],
 "metadata": {
  "kernelspec": {
   "display_name": "Python 3",
   "language": "python",
   "name": "python3"
  },
  "language_info": {
   "codemirror_mode": {
    "name": "ipython",
    "version": 3
   },
   "file_extension": ".py",
   "mimetype": "text/x-python",
   "name": "python",
   "nbconvert_exporter": "python",
   "pygments_lexer": "ipython3",
   "version": "3.11.1"
  }
 },
 "nbformat": 4,
 "nbformat_minor": 2
}
