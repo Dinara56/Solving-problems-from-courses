{
  "cells": [
    {
      "cell_type": "markdown",
      "metadata": {
        "id": "dmuprBVAvMYT"
      },
      "source": [
        "# Задача на 2-ом шаге урока"
      ]
    },
    {
      "cell_type": "markdown",
      "metadata": {
        "id": "XFrOVkY1Hz4-"
      },
      "source": [
        "**🧠 Практика по apply() на 3 столбцах**"
      ]
    },
    {
      "cell_type": "markdown",
      "metadata": {
        "id": "DV1n2W2UH4Ix"
      },
      "source": [
        "Датасет для тестирования:"
      ]
    },
    {
      "cell_type": "markdown",
      "metadata": {
        "id": "U19aq1c20jny"
      },
      "source": [
        "Задание: Создайте в df новый столбец final_ride_cost, который будет зависеть от рейтинга (rating) и максимальной скорости (speed_max) поездки. Значения в этом столбце будут отличаться в зависимости от двух условий:\n",
        "- Если рейтинг выше 6 и максимальная скорость поездки меньше 120 км/ч, то стоимость поездки (ride_cost) уменьшите на 5%.\n",
        "- В противном случае: стоимость поездки (ride_cost) увеличьте на 5%.\n",
        "\n",
        "В новом столбце final_ride_cost отбросьте дробную часть значений, оставьте только целую часть. Так как стоимость измеряется в рублях, дробная часть не имеет значения."
      ]
    },
    {
      "cell_type": "code",
      "execution_count": 1,
      "metadata": {
        "id": "XOXZ02DPvVUF"
      },
      "outputs": [],
      "source": [
        "import pandas as pd\n",
        "\n",
        "df = pd.read_csv('https://stepik.org/media/attachments/lesson/779916/3_1_2.csv')\n",
        "\n",
        "# В столбце true_final_ride_cost записаны правильные ответы.\n",
        "# Создайте столбец final_ride_cost исходя из условий задачи."
      ]
    },
    {
      "cell_type": "code",
      "source": [
        "df['final_ride_cost'] = df.apply(lambda x: x['ride_cost'] * 0.95 if x['rating'] > 6 and x['speed_max'] < 120 else x['ride_cost'] * 1.05, axis=1).astype(int)"
      ],
      "metadata": {
        "id": "xi6a0rZI1da9"
      },
      "execution_count": 10,
      "outputs": []
    },
    {
      "cell_type": "code",
      "execution_count": 12,
      "metadata": {
        "id": "FYG2Kq_50jnz",
        "colab": {
          "base_uri": "https://localhost:8080/"
        },
        "outputId": "78278e49-61e0-4671-abc3-48113ac1d5dc"
      },
      "outputs": [
        {
          "output_type": "stream",
          "name": "stdout",
          "text": [
            "True\n"
          ]
        }
      ],
      "source": [
        "# Корректность своего ответа можно проверить, например, таким образом\n",
        "print(df['final_ride_cost'].equals(df['true_final_ride_cost']))"
      ]
    },
    {
      "cell_type": "markdown",
      "metadata": {
        "id": "ZBlc9uMTIRNk"
      },
      "source": [
        "На вход подается: Переменная df  с полным DataFrame с исходными данными.\n",
        "На выходе принимается: Измененный DataFrame (переменная df)."
      ]
    },
    {
      "cell_type": "markdown",
      "metadata": {
        "id": "n1qGSTJmvnsC"
      },
      "source": [
        "# Задача на 3-ем шаге урока"
      ]
    },
    {
      "cell_type": "markdown",
      "metadata": {
        "id": "vCwJHh-SIhVK"
      },
      "source": [
        "**🧠 Задача: 🖐 gold фичей**"
      ]
    },
    {
      "cell_type": "markdown",
      "metadata": {
        "id": "oWjZ6wIw0jn0"
      },
      "source": [
        "Задача:\n",
        "\n",
        "Создайте новый датафрейм, в котором для каждой машины есть следующие столбцы:\n",
        "\n",
        "- Столбец feature_1 - Количество уникальных значений остановок (stop_times).\n",
        "- Столбец feature_2 - Второй максимум столбца максимальной скорости (speed_max).\n",
        "- Столбец feature_3 - Отношение минимального и максимального значения рейтинга.\n",
        "- Столбец feature_4 - Самое популярное значение числа остановок (другим словами, мода).\n",
        "- Столбец feature_5 - Стандартное отклонение стоимостей поездок (ride_cost).\n",
        "\n",
        "Решение запишите в переменную result."
      ]
    },
    {
      "cell_type": "code",
      "execution_count": 28,
      "metadata": {
        "id": "AEXQuK770jn0"
      },
      "outputs": [],
      "source": [
        "import pandas as pd\n",
        "\n",
        "df = pd.read_csv('https://stepik.org/media/attachments/lesson/779916/3_1_3.csv')\n",
        "\n",
        "# В переменной ans находится правильный ответ для df\n",
        "ans = pd.read_csv('https://stepik.org/media/attachments/lesson/779916/3_1_3_ans.csv')"
      ]
    },
    {
      "cell_type": "code",
      "source": [
        "my_func_1 = lambda x: len(x.unique())\n",
        "my_func_2 = lambda x: sorted(x, reverse=True)[1]\n",
        "my_func_3 = lambda x: min(x) / max(x)\n",
        "my_func_4 = lambda x: x.mode()\n",
        "my_func_5 = lambda x: x.std()\n",
        "\n",
        "result = df.groupby(\"car_id\", as_index=False).agg(feature_1=(\"stop_times\", my_func_1),\n",
        "                                                    feature_2=(\"speed_max\", my_func_2),\n",
        "                                                    feature_3=(\"rating\", my_func_3),\n",
        "                                                    feature_4=(\"stop_times\", my_func_4),\n",
        "                                                    feature_5=(\"ride_cost\", my_func_5)\n",
        ")"
      ],
      "metadata": {
        "id": "fkR--WGuAlPv"
      },
      "execution_count": 30,
      "outputs": []
    },
    {
      "cell_type": "markdown",
      "metadata": {
        "id": "nB2dtgmpIySv"
      },
      "source": [
        "На вход подается: Переменная df  с исходными данными.\n",
        "На выходе принимается: Переменная result."
      ]
    },
    {
      "cell_type": "markdown",
      "metadata": {
        "id": "MzSsFM41G7bl"
      },
      "source": [
        "# Задача на 4-ом шаге урока"
      ]
    },
    {
      "cell_type": "markdown",
      "metadata": {
        "id": "jnX41DNvKrlG"
      },
      "source": [
        "**🧠 Задача на merge()**"
      ]
    },
    {
      "cell_type": "markdown",
      "metadata": {
        "id": "zykPg8RO0jn0"
      },
      "source": [
        "Задача:\n",
        "- Обогатите датасет rides про поездки информацией о будущем виде поломки, используя датасет cars.\n",
        "- Удалите лишние столбцы. Таблицу rides надо дополнить лишь столбцом target_class.\n",
        "- Удалите поездки, для которых нет информации про поломки.  \n",
        "- Запишите в переменную result.\n"
      ]
    },
    {
      "cell_type": "code",
      "execution_count": 37,
      "metadata": {
        "id": "admRmTkgKk6S"
      },
      "outputs": [],
      "source": [
        "import pandas as pd\n",
        "\n",
        "rides = pd.read_csv('https://stepik.org/media/attachments/lesson/779916/3_1_4_rides.csv')\n",
        "cars = pd.read_csv('https://stepik.org/media/attachments/lesson/779916/3_1_4_cars.csv')\n",
        "\n",
        "# В переменную ans записан правильный ответ, с которым можно сверить свое решение.\n",
        "ans = pd.read_csv('https://stepik.org/media/attachments/lesson/779916/3_1_4_ans.csv')"
      ]
    },
    {
      "cell_type": "code",
      "source": [
        "df = rides.merge(cars[['car_id', 'target_class']], on='car_id', how='left')\n",
        "\n",
        "result = df[df.target_class.notnull()].reset_index(drop=True)"
      ],
      "metadata": {
        "id": "L6GvGbLnmK7f"
      },
      "execution_count": 40,
      "outputs": []
    },
    {
      "cell_type": "markdown",
      "metadata": {
        "id": "33H0v8E5JbU_"
      },
      "source": [
        "# Задача на 5-ом шаге урока"
      ]
    },
    {
      "cell_type": "markdown",
      "metadata": {
        "id": "n5E1acRqQAyi"
      },
      "source": [
        "**🧠 Задача на transform() и 3 silver фичи**"
      ]
    },
    {
      "cell_type": "markdown",
      "metadata": {
        "id": "LWZzk0jMRlv3"
      },
      "source": [
        "На вход подается: Переменная rides с исходными данными про поездки."
      ]
    },
    {
      "cell_type": "markdown",
      "metadata": {
        "id": "PBWnHeA80jn1"
      },
      "source": [
        "Задача:\n",
        "\n",
        "- Обогатите датасет rides про поездки дополнительными признаками без использования метода merge.\n",
        "- Добавьте столбец car_ride_count - общее число поездок для этой машины.\n",
        "- Добавьте столбец user_rating_max - максимальный рейтинг, поставленный этим пользователем.\n",
        "- Добавьте столбец user_ride_cost_mean - средняя стоимость поездки этого пользователя.\n",
        "- Результат запишите в переменную result."
      ]
    },
    {
      "cell_type": "code",
      "execution_count": 49,
      "metadata": {
        "id": "BYH5aTNa0jn1"
      },
      "outputs": [],
      "source": [
        "import pandas as pd\n",
        "\n",
        "rides = pd.read_csv('https://stepik.org/media/attachments/lesson/779916/3_1_5.csv')\n",
        "\n",
        "# В столбцах true_car_ride_count, true_user_rating_max, true_user_ride_cost_mean записаны правильные ответы.\n",
        "# Создайте столбцы car_ride_count, user_rating_max, user_ride_cost_mean"
      ]
    },
    {
      "cell_type": "code",
      "source": [
        "rides['car_ride_count'] = rides.groupby('car_id', as_index=False)['ride_id'].transform('count')\n",
        "rides['user_rating_max'] = rides.groupby('user_id', as_index=False)['rating'].transform('max')\n",
        "rides['user_ride_cost_mean'] = rides.groupby('user_id', as_index=False)['ride_cost'].transform('mean')\n",
        "\n",
        "result = rides"
      ],
      "metadata": {
        "id": "ZJGmCDPbnyeF"
      },
      "execution_count": 51,
      "outputs": []
    },
    {
      "cell_type": "code",
      "execution_count": 52,
      "metadata": {
        "id": "6Q-m_adx0jn1",
        "colab": {
          "base_uri": "https://localhost:8080/"
        },
        "outputId": "9c6a1674-686c-4cdb-f9de-d119d7f0180a"
      },
      "outputs": [
        {
          "output_type": "stream",
          "name": "stdout",
          "text": [
            "True\n",
            "True\n",
            "True\n"
          ]
        }
      ],
      "source": [
        "# Проверить корректность своего решения можно, например, таким способом\n",
        "print(rides['true_car_ride_count'].equals(rides['car_ride_count']))\n",
        "print(rides['true_user_rating_max'].equals(rides['user_rating_max']))\n",
        "print(rides['true_user_ride_cost_mean'].equals(rides['user_ride_cost_mean']))"
      ]
    },
    {
      "cell_type": "markdown",
      "metadata": {
        "id": "2_b5M9_BTDpk"
      },
      "source": [
        "# Задача на 6-ом шаге урока\n"
      ]
    },
    {
      "cell_type": "markdown",
      "metadata": {
        "id": "AZZwvPVCSQBe"
      },
      "source": [
        "**🧠 Задача на transform() и 4 самописные функции**"
      ]
    },
    {
      "cell_type": "markdown",
      "metadata": {
        "id": "Wfp-VMm8S5nP"
      },
      "source": [
        "На вход подается: Переменная rides  с исходными данными про поездки."
      ]
    },
    {
      "cell_type": "markdown",
      "metadata": {
        "id": "aS-gmx5y0jn2"
      },
      "source": [
        "Задача\n",
        "\n",
        "- Обогатите датасет rides про поездки дополнительными признаками без использования метода merge.\n",
        "- Добавьте столбец feature_1 — 75% перцентиль столбца ride_cost для каждого пользователя (user_id).\n",
        "- 🎃 Добавьте столбец feature_2 — разницу максимального и минимального значения rating, деленную на среднее столбца rating для каждого пользователя (user_id).\n",
        "- 👽 Добавьте столбец feature_3  — количество значений ride_duration, которое больше 40 для каждой машины (car_id).\n",
        "- 👾 Добавьте столбец feature_4 — сумму значений ride_duration, которая больше 40 для каждой машины (car_id).\n",
        "- Результат запишите в переменную result.\n"
      ]
    },
    {
      "cell_type": "code",
      "execution_count": 75,
      "metadata": {
        "id": "rtoRipOOS11y"
      },
      "outputs": [],
      "source": [
        "import pandas as pd\n",
        "\n",
        "rides = pd.read_csv('https://stepik.org/media/attachments/lesson/779916/3_1_6.csv')\n",
        "\n",
        "# В столбцы true_feature_1, true_feature_2, true_feature_3, true_feature_4 записаны правильные ответы\n",
        "# Создайте столбцы feature_1, feature_2, feature_3, feature_4."
      ]
    },
    {
      "cell_type": "code",
      "source": [
        "rides['feature_1'] = rides.groupby('user_id')['ride_cost'].transform(lambda x: x.quantile(0.75))\n",
        "\n",
        "transform_function = lambda x: (x.max() - x.min()) / x.mean()\n",
        "rides['feature_2'] = rides.groupby('user_id')['rating'].transform(transform_function)\n",
        "\n",
        "transform_function_2 = lambda x: (x > 40).sum()\n",
        "rides['feature_3'] = rides.groupby('car_id')['ride_duration'].transform(transform_function_2)\n",
        "\n",
        "transform_function_3 = lambda x: x[x > 40].sum()\n",
        "rides['feature_4'] = rides.groupby('car_id')['ride_duration'].transform(transform_function_3)"
      ],
      "metadata": {
        "id": "hAs9mhQjpwxH"
      },
      "execution_count": 77,
      "outputs": []
    },
    {
      "cell_type": "markdown",
      "metadata": {
        "id": "ZH20WIAzih5p"
      },
      "source": [
        "# Задача на 7-ом шаге урока"
      ]
    },
    {
      "cell_type": "markdown",
      "metadata": {
        "id": "_XyqN8nokONU"
      },
      "source": [
        "**🧠 Задача на pivot_table() и merge()**"
      ]
    },
    {
      "cell_type": "markdown",
      "metadata": {
        "id": "uvepNHaz0jn3"
      },
      "source": [
        "Задача. На основе этого датафрейма надо будет собрать несколько сводных таблиц (pivot table) и потом смержить их в одну итоговую, получив некое подобие эмбеддингов для подачи в модель.\n",
        "\n",
        "- Индексом во всех таблицах будет user_id.\n",
        "- 🙂 Первая таблица: Сколько раз пользователь брал машины определенного класса?\n",
        "- 🙃 Вторая таблица: Какими были максимальная, минимальная и средняя дистанция и стоимость поездки пользователя?\n",
        "- 🙂 Третья таблица: Сколько уникальных машин брал пользователь в аренду?\n",
        "- Далее соединяем по ключу (смерживаем) все 3 таблицы в одну.\n",
        "- И в конце добавляем бинарный таргет в столбец crazy_driver: Является ли наш пользователь безумным гонщиком? Если его максимальная скорость превышала 100 км/ч, то 1; если не превышала, то 0.\n",
        "- Результат решения запишите в переменную result."
      ]
    },
    {
      "cell_type": "code",
      "execution_count": 169,
      "metadata": {
        "id": "jxE8zUQgUNe7"
      },
      "outputs": [],
      "source": [
        "import pandas as pd\n",
        "\n",
        "df = pd.read_csv('https://stepik.org/media/attachments/lesson/779916/3_1_7.csv')\n",
        "\n",
        "# В ans записан правильный ответ\n",
        "ans = pd.read_csv('https://stepik.org/media/attachments/lesson/779916/3_1_7_ans.csv')"
      ]
    },
    {
      "cell_type": "code",
      "source": [
        "# Первая таблица: Сколько раз пользователь брал машины определенного класса?\n",
        "table_1 = df.pivot_table(index='user_id', columns='car_type', values='car_id', aggfunc='count').fillna(0)\n",
        "table_1.columns = [f'{i}_count' for i in table_1.columns]\n",
        "table_1.reset_index(inplace=True)\n",
        "\n",
        "# Вторая таблица: Какими были максимальная, минимальная и средняя дистанция и стоимость поездки пользователя?\n",
        "table_2 = df.pivot_table(index='user_id', values=['distance', 'ride_cost'], aggfunc=['min', 'max', 'mean']).fillna(0)\n",
        "table_2.columns = [f'{i[1]}_{i[0]}' for i in table_2.columns]\n",
        "table_2.reset_index(inplace=True)\n",
        "\n",
        "# Третья таблица: Сколько уникальных машин брал пользователь в аренду?\n",
        "table_3 = df.pivot_table(index='user_id', values=['car_id'], aggfunc=['count']).fillna(0)\n",
        "table_3.columns = ['car_id_nunique']\n",
        "table_3.reset_index(inplace=True)\n",
        "\n",
        "# Далее соединяем по ключу (смерживаем) все 3 таблицы в одну.\n",
        "df_merge = pd.merge(table_1, table_2, on='user_id', how='inner')\n",
        "df_merge = pd.merge(df_merge, table_3, on='user_id', how='inner')\n",
        "\n",
        "# И в конце добавляем бинарный таргет в столбец crazy_driver: Если его максимальная скорость превышала 100 км/ч, то 1; если не превышала, то 0.\n",
        "def functions_speed(x):\n",
        "    return 1 if x > 100 else 0\n",
        "\n",
        "table_4 = df.pivot_table(index='user_id', values=['speed_max'], aggfunc=['max']).fillna(0)\n",
        "table_4.columns = ['speed_max']\n",
        "table_4.reset_index(inplace=True)\n",
        "\n",
        "binary_column = table_4['speed_max'].apply(functions_speed)\n",
        "binary_column = binary_column.rename('crazy_driver')\n",
        "df_merge['crazy_driver'] = binary_column\n",
        "\n",
        "result = df_merge"
      ],
      "metadata": {
        "id": "iBUFmDTRz8d8"
      },
      "execution_count": 174,
      "outputs": []
    }
  ],
  "metadata": {
    "colab": {
      "provenance": []
    },
    "kernelspec": {
      "display_name": "Python 3 (ipykernel)",
      "language": "python",
      "name": "python3"
    },
    "language_info": {
      "codemirror_mode": {
        "name": "ipython",
        "version": 3
      },
      "file_extension": ".py",
      "mimetype": "text/x-python",
      "name": "python",
      "nbconvert_exporter": "python",
      "pygments_lexer": "ipython3",
      "version": "3.11.4"
    }
  },
  "nbformat": 4,
  "nbformat_minor": 0
}