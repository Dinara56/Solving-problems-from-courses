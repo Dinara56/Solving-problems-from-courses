{
  "cells": [
    {
      "cell_type": "markdown",
      "metadata": {
        "id": "K3F02BN6QWap"
      },
      "source": [
        "# Ноутбук для решения задач урока 2.2"
      ]
    },
    {
      "cell_type": "code",
      "execution_count": 2,
      "metadata": {
        "id": "kzNoQQ4Xz2Jd"
      },
      "outputs": [],
      "source": [
        "import pandas as pd"
      ]
    },
    {
      "cell_type": "markdown",
      "metadata": {
        "id": "Tu5iN6ptRfPk"
      },
      "source": [
        "## Степ 6️⃣: 🧠Сложная фильтрация\n",
        "\n",
        "Задача:\n",
        "- Соединить две таблицы вместе.\n",
        "- Оставить только строки, где `rating` > 4 и `stop_times` равен 2, 3 или 5.\n",
        "- В получившемся датафрейме оставить только те строки, где `car_id` не входит в список `car_black_list` и `user_id` входит в список `user_white_list`.\n",
        "- Оставить только строки, где `index` чётное число (датафрейм проиндексирован целыми числами).\n",
        "- Итоговый объект `pd.DataFrame()` поместить в переменную `result`."
      ]
    },
    {
      "cell_type": "code",
      "execution_count": 124,
      "metadata": {
        "id": "kVFUsK6kz6za"
      },
      "outputs": [],
      "source": [
        "df1 = pd.read_csv('https://stepik.org/media/attachments/lesson/681964/2.2.6_df1.csv', index_col=0)\n",
        "df2 = pd.read_csv('https://stepik.org/media/attachments/lesson/681964/2.2.6_df2.csv', index_col=0)\n",
        "\n",
        "# Учтите, что user_white_list и car_black_list в тестовой системе будут иметь другую длину и другие значения\n",
        "user_white_list = ['g10995906g', 'H90312511Q', 'C27138482L', 'H22518078t', 'n17438464n', 'F10525768e', 's15596151o', 'i18954748S', 'E84048392U', 'E69893354s']\n",
        "car_black_list = ['l-4285389z', 'n79502261g', 'N-1839822D']"
      ]
    },
    {
      "cell_type": "code",
      "execution_count": 151,
      "metadata": {
        "id": "Ax8_MW5wdzv4"
      },
      "outputs": [],
      "source": [
        "merge_df = pd.concat([df1, df2], axis=0)\n",
        "\n",
        "merge_df = merge_df.query('rating > 4 & stop_times in [2, 3, 5]')\n",
        "\n",
        "merge_df = merge_df[(merge_df.user_id.isin(user_white_list)) & (~merge_df.car_id.isin(car_black_list))]\n",
        "\n",
        "merge_df = merge_df[merge_df.index % 2 == 0]\n",
        "\n",
        "result = merge_df"
      ]
    },
    {
      "cell_type": "markdown",
      "metadata": {
        "id": "BXolCrJDRnCG"
      },
      "source": [
        "## Степ 8️⃣: 🧠 Изменение и фильтрация `DataFrame` в Pandas\n",
        "Задача:\n",
        "\n",
        "- Создайте столбец `tripple_accident` из столбца `user_time_accident`,  умноженного на 3.\n",
        "- Создайте столбец `rides_on_rating` делением столбца `user_rides` на `user_rating`.\n",
        "- Оставьте только те строки, у которых `user_time_accident` больше 25 (используем фильтрацию).\n",
        "- Оставьте только те строки, у которых `age` выше среднего значения по полученной таблице в предыдущем пункте."
      ]
    },
    {
      "cell_type": "code",
      "execution_count": 146,
      "metadata": {
        "id": "pEX_xfsx7IDY"
      },
      "outputs": [],
      "source": [
        "df = pd.read_csv('https://stepik.org/media/attachments/lesson/681964/2_2_8.csv')"
      ]
    },
    {
      "cell_type": "code",
      "execution_count": 147,
      "metadata": {
        "id": "6crIye4lwXBy"
      },
      "outputs": [],
      "source": [
        "df['tripple_accident'] = df.user_time_accident * 3\n",
        "\n",
        "df['rides_on_rating'] = df.user_rides / df.user_rating\n",
        "\n",
        "df = df.query('user_time_accident > 25')\n",
        "\n",
        "df = df[df.age > df.age.mean()]"
      ]
    },
    {
      "cell_type": "markdown",
      "metadata": {
        "id": "Ftx1AobpR1cw"
      },
      "source": [
        "## Степ 🔟: 🧠 Задача на работу с индексами и столбцами\n",
        "Задача:\n",
        "\n",
        "- Добавьте новую строку (с индексом `new_index:(int / str)` и значениями `new_data: list`).\n",
        "- Удалите строки с индексами из списка `del_index_list: list`.\n",
        "- Увеличьте значение `destroy_degree` на 1 в строке с индексом равным `index`. Переменная `index` содержит индекс строки ИЛИ число (индекс).\n",
        "- Удалите столбец `fix_date`, т.к. не стоит сейчас думать о времени.\n",
        "- Создайте новый столбец `efficient`, который равен `destroy_degree` деленный на `work_duration`.\n",
        "- Возведите столбец `work_duration` в квадрат.\n",
        "- Переименуйте столбец `work_duration` в `work_duration_square`.\n",
        "- Удалите дубликаты по столбцу `car_id`."
      ]
    },
    {
      "cell_type": "code",
      "execution_count": 177,
      "metadata": {
        "id": "Z9ilWKE58PQn"
      },
      "outputs": [],
      "source": [
        "df = pd.read_csv('https://stepik.org/media/attachments/lesson/681964/2_2_10.csv')\n",
        "\n",
        "# Учтите, что new_index, new_data, del_index_list, index в тестовой системе будут иметь другие значения\n",
        "new_index = 50\n",
        "new_data = ['new_car_id', 'new_worker_id', '2019-11-11 4:44','refuel_check', 3.5, 10]\n",
        "del_index_list = [41, 18, 33, 7, 46]\n",
        "index = 22"
      ]
    },
    {
      "cell_type": "code",
      "execution_count": 178,
      "metadata": {
        "id": "0rL5d9W3SAcp"
      },
      "outputs": [],
      "source": [
        "df.loc[new_index] = new_data\n",
        "\n",
        "df.drop(del_index_list, inplace=True)\n",
        "\n",
        "df.loc[index, 'destroy_degree'] = df.loc[index, 'destroy_degree'] + 1\n",
        "\n",
        "df.drop(['fix_date'], axis=1, inplace=True)\n",
        "\n",
        "df['efficient'] = df.destroy_degree / df.work_duration\n",
        "\n",
        "df['work_duration'] = df.work_duration ** 2\n",
        "\n",
        "df.rename(columns={'work_duration':'work_duration_square'}, inplace=True)\n",
        "\n",
        "df.drop_duplicates(subset='car_id', inplace=True)"
      ]
    },
    {
      "cell_type": "markdown",
      "metadata": {
        "id": "pMPOZb22SBd0"
      },
      "source": [
        "## Степ 1️⃣1️⃣: 🧠 Сортировка и фильтрация\n",
        "Задача:\n",
        "\n",
        "- Отсортируйте строки сначала по убывания 1-го столбца из списка `sort_by_list`, затем по возрастанию 2-го столбца из списка.\n",
        "- Удалите столбцы из списка `cols2drop` с учетом того, что некоторых столбцов может не быть в df.\n",
        "- Сделайте порядок столбцов в `df` в соответствии с переменной `columns_order_list: List[str]`.\n",
        "- Удалите строки, в которых `car_rating` < `critical_car_rating`.\n",
        "- Удалите строки, где число поездок `riders` больше `10_000`, или тип машины `car_type` относится либо к `standart`, либо `economy`."
      ]
    },
    {
      "cell_type": "code",
      "execution_count": 28,
      "metadata": {
        "ExecuteTime": {
          "end_time": "2023-08-17T09:25:29.384891122Z",
          "start_time": "2023-08-17T09:25:28.926638694Z"
        },
        "id": "9yRlbfRjCIOp"
      },
      "outputs": [],
      "source": [
        "df = pd.read_csv('https://stepik.org/media/attachments/lesson/681964/2.2.11.csv')\n",
        "\n",
        "# Учтите, что sort_by_list, cols2drop, columns_order_list в тестовой системе будут иметь другие значения.\n",
        "sort_by_list = ['car_rating', 'riders']\n",
        "cols2drop = ['random_name_1', 'target_reg', 'target_class', 'random_name_2']\n",
        "columns_order_list = ['model', 'car_type', 'car_id', 'car_rating', 'year_to_start', 'year_to_work', 'riders', 'fuel_type']\n",
        "critical_car_rating = 2"
      ]
    },
    {
      "cell_type": "code",
      "execution_count": 29,
      "metadata": {
        "id": "B11VgBnSxLvZ"
      },
      "outputs": [],
      "source": [
        "df = df.sort_values(by=[sort_by_list[0], sort_by_list[1]], ascending=[False, True])\n",
        "\n",
        "for i in cols2drop:\n",
        "  if i in df.columns:\n",
        "    df = df.drop(i, axis=1)\n",
        "\n",
        "df = df[columns_order_list]\n",
        "\n",
        "df = df.query('riders <= 10000')\n",
        "\n",
        "df = df[(df['car_type'] != 'standart') & (df['car_type'] != 'economy')]"
      ]
    },
    {
      "cell_type": "markdown",
      "metadata": {
        "id": "AQ7fDyijSFXk"
      },
      "source": [
        "## Степ 1️⃣2️⃣: 🧠 Задача на функции\n",
        "Задача\n",
        "- Запишите в переменную `mean_rating` среднее по столбцу `car_rating`.\n",
        "- Увеличьте на один все значения в столбцах `car_rating` и `year_to_work`.\n",
        "- Отфильтруйте любым из удобных способов машины с рейтингом выше среднего от столбца `car_rating` (используйте переменную `mean_rating`).\n",
        "- Преобразуйте столбец `year_to_work` следующим образом: если значение меньше `2017`, то прибавьте `2`, иначе разделите значение нацело на `5`.\n",
        "- Переименуйте столбец `year_to_start` в `new_year_to_start` и удалите столбец `fuel_type`.\n",
        "- Ко всем значениям из столбца `car_type` добавьте приставку `super_` (`standart` -> `super_standart`).\n",
        "- Решение запишите в переменную `result`."
      ]
    },
    {
      "cell_type": "code",
      "execution_count": 52,
      "metadata": {
        "ExecuteTime": {
          "end_time": "2023-08-17T09:26:25.274699514Z",
          "start_time": "2023-08-17T09:26:24.897526121Z"
        },
        "id": "0RHgZYe9E_mL"
      },
      "outputs": [],
      "source": [
        "df = pd.read_csv('https://stepik.org/media/attachments/lesson/681964/2_2_12.csv')"
      ]
    },
    {
      "cell_type": "code",
      "execution_count": 54,
      "metadata": {
        "id": "KoFfWZHj2-5L"
      },
      "outputs": [],
      "source": [
        "mean_rating = df['car_rating'].mean()\n",
        "df['mean_rating'] = mean_rating\n",
        "df['car_rating'] = df.car_rating + 1\n",
        "df['year_to_work'] = df.year_to_work + 1\n",
        "df = df.query('car_rating > mean_rating')\n",
        "df['year_to_work'] = df['year_to_work'].apply(lambda x: x + 2 if x < 2017 else x // 5)\n",
        "df.rename(columns = {\"year_to_start\":\"new_year_to_start\"}, inplace=True)\n",
        "df.drop(['fuel_type', 'mean_rating'], axis=1, inplace=True)\n",
        "df['car_type'] = df['car_type'].apply(lambda x: 'super_' + x)\n",
        "\n",
        "result = df"
      ]
    },
    {
      "cell_type": "markdown",
      "metadata": {
        "id": "mS0ZN1y6c3_w"
      },
      "source": [
        "## Степ 1️⃣3️⃣: 🧠 Работа с функциями\n",
        "Задача\n",
        "- Добавьте столбец `flag`, который равен `'good_line'`, если `rating > 5` and `speed_max < 100`. `'bad_line'`, если  `rating > 5` and `speed_max > 100`. `'undefined'` в остальных случаях.\n",
        "- Добавьте столбец `speed_check`, который принимает значения `'avg_more'`, если `distance/ride_duration > speed_avg`, иначе `'avg_less'`.\n",
        "- Удалите столбцы из списка `cols2drop`.\n",
        "- Удалите строки, в которых `car_id` имеет пустые значения (только NA удаляем).\n",
        "- Результат запишите в переменную `result`."
      ]
    },
    {
      "cell_type": "code",
      "execution_count": 67,
      "metadata": {
        "ExecuteTime": {
          "end_time": "2023-08-17T09:26:55.130669620Z",
          "start_time": "2023-08-17T09:26:54.623471087Z"
        },
        "id": "gDtNshGYc3_w"
      },
      "outputs": [],
      "source": [
        "df = pd.read_csv('https://stepik.org/media/attachments/lesson/681964/2_2_13.csv')\n",
        "\n",
        "# Учтите, что cols2drop в тестовой системе будет иметь другие значения.\n",
        "cols2drop = ['ride_cost', 'stop_times', 'user_ride_quality']"
      ]
    },
    {
      "cell_type": "code",
      "execution_count": 69,
      "metadata": {
        "id": "pbg4Gqi27IwE"
      },
      "outputs": [],
      "source": [
        "def define_flag(row):\n",
        "    if row['rating'] > 5 and row['speed_max'] < 100:\n",
        "        return 'good_line'\n",
        "    elif row['rating'] > 5 and row['speed_max'] > 100:\n",
        "        return 'bad_line'\n",
        "    else:\n",
        "        return 'undefined'\n",
        "\n",
        "df['flag'] = df.apply(define_flag, axis=1)\n",
        "\n",
        "def define_speed_check(row):\n",
        "    if row['distance'] / row['ride_duration'] > row['speed_avg']:\n",
        "        return 'avg_more'\n",
        "    else:\n",
        "        return 'avg_less'\n",
        "\n",
        "df['speed_check'] = df.apply(define_speed_check, axis=1)\n",
        "\n",
        "df.drop(cols2drop, axis=1, inplace=True)\n",
        "\n",
        "df.dropna(subset=['car_id'], inplace=True)\n",
        "\n",
        "result=df"
      ]
    },
    {
      "cell_type": "markdown",
      "metadata": {
        "id": "w-f8vzsKc3_x"
      },
      "source": [
        "## Степ 1️⃣4️⃣: 🧠 Заполнение и редактирование таблиц\n",
        "Задача\n",
        "- Посчитайте количество пропусков в каждой строке и запишите это в новый столбец `nans_num`.\n",
        "- Удалите строки, где количество пропусков больше `2`.\n",
        "- Удалите строки, где `age` имеет пропущенные значения.\n",
        "- Заполните пропущенные значения в столбце `user_time_accident` медианным значением.\n",
        "- Оставьте только столбцы `age`, `user_rides`, `user_time_accident`.\n",
        "- Решение запишите в переменную `result`."
      ]
    },
    {
      "cell_type": "code",
      "execution_count": null,
      "metadata": {
        "id": "KyHpeFtkc3_x"
      },
      "outputs": [],
      "source": [
        "df = pd.read_csv('https://stepik.org/media/attachments/lesson/681964/2_2_14.csv')"
      ]
    },
    {
      "cell_type": "code",
      "execution_count": null,
      "metadata": {
        "id": "qJ6rWnps78Sf"
      },
      "outputs": [],
      "source": [
        "df['nans_num'] = df.isnull().sum(axis=1)\n",
        "\n",
        "df = df[df['nans_num'] <= 2]\n",
        "\n",
        "df = df.dropna(subset=['age'])\n",
        "\n",
        "median_user_time_accident = df['user_time_accident'].median()\n",
        "df['user_time_accident'].fillna(median_user_time_accident, inplace=True)\n",
        "\n",
        "result = df[['age', 'user_rides', 'user_time_accident']]"
      ]
    }
  ],
  "metadata": {
    "colab": {
      "provenance": []
    },
    "kernelspec": {
      "display_name": "Python 3 (ipykernel)",
      "language": "python",
      "name": "python3"
    },
    "language_info": {
      "codemirror_mode": {
        "name": "ipython",
        "version": 3
      },
      "file_extension": ".py",
      "mimetype": "text/x-python",
      "name": "python",
      "nbconvert_exporter": "python",
      "pygments_lexer": "ipython3",
      "version": "3.11.4"
    }
  },
  "nbformat": 4,
  "nbformat_minor": 0
}
