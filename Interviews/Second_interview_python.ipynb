{
 "cells": [
  {
   "cell_type": "markdown",
   "metadata": {},
   "source": [
    "**Задача:** Есть массив чисел, необходимо найти медиану."
   ]
  },
  {
   "cell_type": "code",
   "execution_count": 20,
   "metadata": {},
   "outputs": [
    {
     "name": "stdout",
     "output_type": "stream",
     "text": [
      "3.5\n"
     ]
    }
   ],
   "source": [
    "tmp_list = [1, 2, 3, 3, 4, 5, 5, 5]\n",
    "\n",
    "for i in tmp_list:\n",
    "    if len(tmp_list) % 2 == 1:\n",
    "        ours_index = len(tmp_list) // 2\n",
    "        ours_num = sorted(tmp_list)[ours_index]\n",
    "    else:\n",
    "        first_index, second_index = len(tmp_list) // 2, len(tmp_list) // 2 - 1\n",
    "        first_ours_num, second_ours_num = sorted(tmp_list)[first_index], sorted(tmp_list)[second_index]\n",
    "        ours_num = (first_ours_num + second_ours_num) / 2\n",
    "\n",
    "print(ours_num)"
   ]
  },
  {
   "cell_type": "markdown",
   "metadata": {},
   "source": [
    "**Временная сложность: O(n log n)**\n",
    "\n",
    "**В чем различие: sorted(arr), arr.sort()?**\n",
    "\n",
    "- sorted(arr) - возвращает новый отсортированный список\n",
    "- arr.sort() - изменяет исходный список\n",
    "\n",
    "**В чем различие: \"/\", \"//\" делением?**\n",
    "\n",
    "- \"/\" - возвращает float\n",
    "- \"//\" - возвращает int"
   ]
  }
 ],
 "metadata": {
  "kernelspec": {
   "display_name": "Python 3",
   "language": "python",
   "name": "python3"
  },
  "language_info": {
   "codemirror_mode": {
    "name": "ipython",
    "version": 3
   },
   "file_extension": ".py",
   "mimetype": "text/x-python",
   "name": "python",
   "nbconvert_exporter": "python",
   "pygments_lexer": "ipython3",
   "version": "3.11.1"
  }
 },
 "nbformat": 4,
 "nbformat_minor": 2
}
