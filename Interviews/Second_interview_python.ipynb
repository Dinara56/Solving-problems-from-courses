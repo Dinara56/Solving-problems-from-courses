{
 "cells": [
  {
   "cell_type": "markdown",
   "metadata": {},
   "source": [
    "**Задача:** Есть массив чисел, необходимо найти медиану."
   ]
  },
  {
   "cell_type": "code",
   "execution_count": 20,
   "metadata": {},
   "outputs": [
    {
     "name": "stdout",
     "output_type": "stream",
     "text": [
      "3.5\n"
     ]
    }
   ],
   "source": [
    "tmp_list = [1, 2, 3, 3, 4, 5, 5, 5]\n",
    "\n",
    "for i in tmp_list:\n",
    "    if len(tmp_list) % 2 == 1:\n",
    "        ours_index = len(tmp_list) // 2\n",
    "        ours_num = sorted(tmp_list)[ours_index]\n",
    "    else:\n",
    "        first_index, second_index = len(tmp_list) // 2, len(tmp_list) // 2 - 1\n",
    "        first_ours_num, second_ours_num = sorted(tmp_list)[first_index], sorted(tmp_list)[second_index]\n",
    "        ours_num = (first_ours_num + second_ours_num) / 2\n",
    "\n",
    "print(ours_num)"
   ]
  },
  {
   "cell_type": "markdown",
   "metadata": {},
   "source": [
    "**Временная сложность: O(n log n)**\n",
    "\n",
    "**В чем различие: sorted(arr), arr.sort()?**\n",
    "\n",
    "- sorted(arr) - возвращает новый отсортированный список\n",
    "- arr.sort() - изменяет исходный список\n",
    "\n",
    "**В чем различие: \"/\", \"//\" делением?**\n",
    "\n",
    "- \"/\" - возвращает float\n",
    "- \"//\" - возвращает int"
   ]
  },
  {
   "cell_type": "markdown",
   "metadata": {},
   "source": [
    "**Задача:** Given an integer array arr and an integer difference, return the length of the longest subsequence in arr which is an arithmetic sequence such that the difference between adjacent elements in the subsequence equals difference.\n",
    "\n",
    "A subsequence is a sequence that can be derived from arr by deleting some or no elements without changing the order of the remaining elements."
   ]
  },
  {
   "cell_type": "code",
   "execution_count": 41,
   "metadata": {},
   "outputs": [],
   "source": [
    "arr = [1,5,7,8,5,3,4,2,1]\n",
    "difference = -2"
   ]
  },
  {
   "cell_type": "code",
   "execution_count": 42,
   "metadata": {},
   "outputs": [],
   "source": [
    "def longest_arithmetic_subsequence(arr, difference):\n",
    "    element_lengths = {}\n",
    "    max_length = 1\n",
    "\n",
    "    for i in arr:\n",
    "        # Если текущий элемент - difference уже присутствует в словаре,\n",
    "        # обновляем длину текущей арифметической последовательности.\n",
    "        if i - difference in element_lengths:\n",
    "            current_length = element_lengths[i - difference] + 1\n",
    "            element_lengths[i] = current_length\n",
    "            max_length = max(max_length, current_length)\n",
    "        else:\n",
    "            # Если не найдено предыдущее число, начинаем новую арифметическую последовательность.\n",
    "            element_lengths[i] = 1\n",
    "\n",
    "    return max_length"
   ]
  },
  {
   "cell_type": "code",
   "execution_count": 43,
   "metadata": {},
   "outputs": [
    {
     "data": {
      "text/plain": [
       "4"
      ]
     },
     "execution_count": 43,
     "metadata": {},
     "output_type": "execute_result"
    }
   ],
   "source": [
    "longest_arithmetic_subsequence(arr, difference)"
   ]
  }
 ],
 "metadata": {
  "kernelspec": {
   "display_name": "Python 3",
   "language": "python",
   "name": "python3"
  },
  "language_info": {
   "codemirror_mode": {
    "name": "ipython",
    "version": 3
   },
   "file_extension": ".py",
   "mimetype": "text/x-python",
   "name": "python",
   "nbconvert_exporter": "python",
   "pygments_lexer": "ipython3",
   "version": "3.11.1"
  }
 },
 "nbformat": 4,
 "nbformat_minor": 2
}
