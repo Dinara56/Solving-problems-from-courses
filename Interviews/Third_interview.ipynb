{
 "cells": [
  {
   "cell_type": "markdown",
   "metadata": {},
   "source": [
    "**Задача:** Дан бинарный масив из нулей и единиц, найти максимальную длину подмассива из единиц при условии, что один ноль можно заменить на единицу. И вывести этот подмассив."
   ]
  },
  {
   "cell_type": "code",
   "execution_count": 11,
   "metadata": {},
   "outputs": [
    {
     "name": "stdout",
     "output_type": "stream",
     "text": [
      "[1, 1, 1]\n"
     ]
    }
   ],
   "source": [
    "arr = [0, 1, 1, 1, 0, 1, 1, 0]\n",
    "\n",
    "str_with_values = ''.join(map(str, arr)).split('0')\n",
    "print(list(map(int, list(max(str_with_values)))))"
   ]
  },
  {
   "cell_type": "markdown",
   "metadata": {},
   "source": [
    "**Задача:** Загадывается число от 1 до n, где n может быть любым числом до 2 в степени 31. Написать функцию, которая возвращает это число. \n",
    "\n",
    "При этом дана функция def guess(num: int) -> int, которую можно вызывать и подставлять в нее догадки. Она работает так:\n",
    "\n",
    "- если угадал число, то возвращает 0\n",
    "- если число меньше угаданного, то возвращает 1\n",
    "- если число больше угаданного, то -1.\n"
   ]
  },
  {
   "cell_type": "code",
   "execution_count": 53,
   "metadata": {},
   "outputs": [],
   "source": [
    "def binary_search(arr, x):\n",
    "\n",
    "    left = 0\n",
    "    right = len(arr) - 1\n",
    "\n",
    "    while left <= right:\n",
    "\n",
    "        mid = left + (right - left) // 2\n",
    "\n",
    "        if arr[mid] == x:\n",
    "            return 0\n",
    "\n",
    "        elif arr[mid] < x:\n",
    "            if mid + 1 == len(arr):\n",
    "                return -1\n",
    "            else:\n",
    "                left = mid + 1\n",
    "                \n",
    "        else:\n",
    "            if mid - 1 < 0:\n",
    "                return 1\n",
    "            else:\n",
    "                right = mid - 1"
   ]
  },
  {
   "cell_type": "code",
   "execution_count": 54,
   "metadata": {},
   "outputs": [
    {
     "data": {
      "text/plain": [
       "1"
      ]
     },
     "execution_count": 54,
     "metadata": {},
     "output_type": "execute_result"
    }
   ],
   "source": [
    "binary_search([1, 3, 5, 6, 7], -5)"
   ]
  }
 ],
 "metadata": {
  "kernelspec": {
   "display_name": "Python 3",
   "language": "python",
   "name": "python3"
  },
  "language_info": {
   "codemirror_mode": {
    "name": "ipython",
    "version": 3
   },
   "file_extension": ".py",
   "mimetype": "text/x-python",
   "name": "python",
   "nbconvert_exporter": "python",
   "pygments_lexer": "ipython3",
   "version": "3.11.1"
  }
 },
 "nbformat": 4,
 "nbformat_minor": 2
}
