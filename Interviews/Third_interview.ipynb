{
 "cells": [
  {
   "cell_type": "markdown",
   "metadata": {},
   "source": [
    "**Задача:** Дан бинарный масив из нулей и единиц, найти максимальную длину подмассива из единиц при условии, что один ноль можно заменить на единицу. И вывести этот подмассив."
   ]
  },
  {
   "cell_type": "code",
   "execution_count": 11,
   "metadata": {},
   "outputs": [
    {
     "name": "stdout",
     "output_type": "stream",
     "text": [
      "[1, 1, 1]\n"
     ]
    }
   ],
   "source": [
    "arr = [0, 1, 1, 1, 0, 1, 1, 0]\n",
    "\n",
    "str_with_values = ''.join(map(str, arr)).split('0')\n",
    "print(list(map(int, list(max(str_with_values)))))"
   ]
  },
  {
   "cell_type": "markdown",
   "metadata": {},
   "source": [
    "**Задача:** Загадывается число от 1 до n, где n может быть любым числом до 2 в степени 31. Написать функцию, которая возвращает это число. \n",
    "\n",
    "При этом дана функция def guess(num: int) -> int, которую можно вызывать и подставлять в нее догадки. Она работает так:\n",
    "\n",
    "- если угадал число, то возвращает 0\n",
    "- если число меньше угаданного, то возвращает 1\n",
    "- если число больше угаданного, то -1.\n"
   ]
  },
  {
   "cell_type": "code",
   "execution_count": 53,
   "metadata": {},
   "outputs": [],
   "source": [
    "def binary_search(arr, x):\n",
    "\n",
    "    left = 0\n",
    "    right = len(arr) - 1\n",
    "\n",
    "    while left <= right:\n",
    "\n",
    "        mid = left + (right - left) // 2\n",
    "\n",
    "        if arr[mid] == x:\n",
    "            return 0\n",
    "\n",
    "        elif arr[mid] < x:\n",
    "            if mid + 1 == len(arr):\n",
    "                return -1\n",
    "            else:\n",
    "                left = mid + 1\n",
    "                \n",
    "        else:\n",
    "            if mid - 1 < 0:\n",
    "                return 1\n",
    "            else:\n",
    "                right = mid - 1"
   ]
  },
  {
   "cell_type": "code",
   "execution_count": 54,
   "metadata": {},
   "outputs": [
    {
     "data": {
      "text/plain": [
       "1"
      ]
     },
     "execution_count": 54,
     "metadata": {},
     "output_type": "execute_result"
    }
   ],
   "source": [
    "binary_search([1, 3, 5, 6, 7], -5)"
   ]
  },
  {
   "cell_type": "markdown",
   "metadata": {},
   "source": [
    "**Задача:** Отсортировать массив с отрезками по длине [(2, 5), (3, 6), (-2.5, 7), (16, 32)]."
   ]
  },
  {
   "cell_type": "code",
   "execution_count": 3,
   "metadata": {},
   "outputs": [
    {
     "data": {
      "text/plain": [
       "[(16, 18), (2, 5), (3, 6), (-2.5, 7)]"
      ]
     },
     "execution_count": 3,
     "metadata": {},
     "output_type": "execute_result"
    }
   ],
   "source": [
    "arr = [(2, 5), (3, 6), (-2.5, 7), (16, 18)]\n",
    "\n",
    "sorted(arr, key=lambda x: abs(x[1] - x[0]))"
   ]
  },
  {
   "cell_type": "markdown",
   "metadata": {},
   "source": [
    "**Задача:** Строка s хороша, если для каждой буквы алфавита, содержащейся в s, она отображается как в верхнем, так и в нижнем регистре. Например, \"abABB\" хороша, потому что появляются \"A\" и \"a\", а также \"B\" и \"в\". Однако \"abA\" нет потому, что появляется \"b\", а \"B\" нет.\n",
    "\n",
    "Учитывая строку s, верните самую длинную подстроку из s, которая хороша. Если их несколько, верните подстроку самого раннего появления. Если таковых нет, верните пустую строку."
   ]
  },
  {
   "cell_type": "code",
   "execution_count": null,
   "metadata": {},
   "outputs": [],
   "source": [
    "Example 1:\n",
    "\n",
    "Input: s = \"YazaAay\"\n",
    "Output: \"aAa\"\n",
    "Explanation: \"aAa\" is a nice string because 'A/a' is the only letter of the alphabet in s, and both 'A' and 'a' appear.\n",
    "\"aAa\" is the longest nice substring.\n",
    "Example 2:\n",
    "\n",
    "Input: s = \"Bb\"\n",
    "Output: \"Bb\"\n",
    "Explanation: \"Bb\" is a nice string because both 'B' and 'b' appear. The whole string is a substring.\n",
    "Example 3:\n",
    "\n",
    "Input: s = \"c\"\n",
    "Output: \"\"\n",
    "Explanation: There are no nice substrings."
   ]
  },
  {
   "cell_type": "code",
   "execution_count": null,
   "metadata": {},
   "outputs": [],
   "source": [
    "..."
   ]
  },
  {
   "cell_type": "markdown",
   "metadata": {},
   "source": [
    "**Задача:** Раскрыть список до целочисленных значений"
   ]
  },
  {
   "cell_type": "code",
   "execution_count": 4,
   "metadata": {},
   "outputs": [
    {
     "data": {
      "text/plain": [
       "[1, 2, 3, 4, 5, 6, 7, 8, 9, 10, 10, 11, 13, 14, 15, 18]"
      ]
     },
     "execution_count": 4,
     "metadata": {},
     "output_type": "execute_result"
    }
   ],
   "source": [
    "test_list = [[1, 2, 3], [4, 5], [6, 7], [[8, 9, 10], [[10, 11], 13], 14, 15, 18]]\n",
    "rest_list = []\n",
    "\n",
    "def test_func(test_list, rest_list=[]):\n",
    "    for i in test_list:\n",
    "        if isinstance(i, int):\n",
    "            rest_list.append(i)\n",
    "        else:\n",
    "            rest_list = test_func(i)\n",
    "    return rest_list\n",
    "\n",
    "test_func(test_list, rest_list)"
   ]
  },
  {
   "cell_type": "markdown",
   "metadata": {},
   "source": [
    "**Задача:** Усно нужно рассказать про мутабильность объектов"
   ]
  },
  {
   "cell_type": "code",
   "execution_count": 6,
   "metadata": {},
   "outputs": [
    {
     "data": {
      "text/plain": [
       "[16, 25, 36, 0]"
      ]
     },
     "execution_count": 6,
     "metadata": {},
     "output_type": "execute_result"
    }
   ],
   "source": [
    "test_d = {\n",
    "    \"1\": [1, 2, 3],\n",
    "    \"2\": [4, 5, 6]\n",
    "}\n",
    "\n",
    "for key, value in test_d.items():\n",
    "    value.append(0)\n",
    "    for i, v in enumerate(value):\n",
    "        value[i] = v*v\n",
    "\n",
    "value"
   ]
  },
  {
   "cell_type": "markdown",
   "metadata": {},
   "source": [
    "**Задача:** Написать функцию, определяющую, может ли список в результате какой-то перестановки стать полиндромом."
   ]
  },
  {
   "cell_type": "code",
   "execution_count": 12,
   "metadata": {},
   "outputs": [
    {
     "data": {
      "text/plain": [
       "True"
      ]
     },
     "execution_count": 12,
     "metadata": {},
     "output_type": "execute_result"
    }
   ],
   "source": [
    "arr = [2, 1, 1, 3 ,2]\n",
    "\n",
    "def search_polindrom(arr):\n",
    "\n",
    "    dict_new = {}\n",
    "    for i in arr:\n",
    "        if i not in dict_new:\n",
    "            dict_new[i] = 1\n",
    "        else:\n",
    "            dict_new[i] += 1\n",
    "\n",
    "    if len([i for i in dict_new if dict_new[i] % 2 != 0]) > 1:\n",
    "        return False\n",
    "    return True\n",
    "\n",
    "search_polindrom(arr)"
   ]
  },
  {
   "cell_type": "markdown",
   "metadata": {},
   "source": [
    "**Задача:** Свернуть список в диапазон: [3, 7, 1, 2, 10, 11, 9] -> \"1-3, 7, 9-11\""
   ]
  },
  {
   "cell_type": "code",
   "execution_count": 42,
   "metadata": {},
   "outputs": [
    {
     "name": "stdout",
     "output_type": "stream",
     "text": [
      "1-3, 7, 9-11\n"
     ]
    }
   ],
   "source": [
    "arr = [3, 7, 1, 2, 10, 11, 9]\n",
    "\n",
    "for i in range(len(arr)-1, 0, -1):\n",
    "\n",
    "    for j in range(i):\n",
    "\n",
    "        if arr[j] > arr[j+1]:\n",
    "            arr[j+1], arr[j] = arr[j], arr[j+1]\n",
    "\n",
    "cnt = 0     \n",
    "list_for_res = []\n",
    "\n",
    "for i in range(len(arr)):\n",
    "\n",
    "    left = 0\n",
    "    right = len(arr) - 1\n",
    "\n",
    "    mid = left + (right - left) // 2\n",
    "\n",
    "    if arr[i] != arr[mid]:\n",
    "\n",
    "        cnt += 1\n",
    "\n",
    "        if cnt == 3:\n",
    "\n",
    "            list_for_res.append(str(arr[i-2]) + '-' + str(arr[i]))\n",
    "            cnt = 0\n",
    "    else:\n",
    "        \n",
    "        list_for_res.append(str(arr[mid]))\n",
    "\n",
    "print(', '.join(list_for_res))\n"
   ]
  },
  {
   "cell_type": "markdown",
   "metadata": {},
   "source": [
    "**Задача:** Дан список строк. Нужно вывести буквы, которые встречаются в каждой из строк списка (включая дубли).\n",
    "arr = [\"bella\", \"label\", \"roller\"] -> ['e', 'l', 'l']"
   ]
  },
  {
   "cell_type": "code",
   "execution_count": 16,
   "metadata": {},
   "outputs": [
    {
     "name": "stdout",
     "output_type": "stream",
     "text": [
      "Буквы, которые встречаются в каждой строке: ['l', 'l', 'e']\n"
     ]
    }
   ],
   "source": [
    "def common_letters_in_all_strings(arr):\n",
    "    \n",
    "    if not arr:\n",
    "        return []\n",
    "\n",
    "    # Создаем множество букв первой строки\n",
    "    common = set(arr[0])\n",
    "\n",
    "    # Находим пересечение множества букв первой строки с остальными строками\n",
    "    for word in arr[1:]:\n",
    "        common &= set(word)\n",
    "\n",
    "    # Преобразуем результат в список и учитываем дубликаты\n",
    "    common_with_duplicates = []\n",
    "    for letter in common:\n",
    "        common_with_duplicates.extend([letter] * min(word.count(letter) for word in arr))\n",
    "\n",
    "    return common_with_duplicates\n",
    "\n",
    "# Пример использования:\n",
    "arr = [\"bella\", \"label\", \"roller\"]\n",
    "result = common_letters_in_all_strings(arr)\n",
    "print(\"Буквы, которые встречаются в каждой строке:\", result)"
   ]
  },
  {
   "cell_type": "markdown",
   "metadata": {},
   "source": [
    "**Задача:** Собрать словарь следующего вида:\n",
    "\n",
    "- key - любое из возможных значений суммы, выпавшей на игральных костях\n",
    "- value - список из всех возможных комбинаций игральных костей, которые дают эту сумму"
   ]
  },
  {
   "cell_type": "code",
   "execution_count": 17,
   "metadata": {},
   "outputs": [],
   "source": [
    "first_list = list(range(1, 7))\n",
    "second_list = list(range(1, 7))\n",
    "\n",
    "dict_new = dict()\n",
    "\n",
    "for i in first_list:\n",
    "    for j in second_list:\n",
    "        if i+j not in dict_new:\n",
    "            dict_new[i+j] = [[i, j]]\n",
    "        else:\n",
    "            dict_new[i+j].append([i, j])"
   ]
  },
  {
   "cell_type": "code",
   "execution_count": 18,
   "metadata": {},
   "outputs": [
    {
     "data": {
      "text/plain": [
       "{2: [[1, 1]],\n",
       " 3: [[1, 2], [2, 1]],\n",
       " 4: [[1, 3], [2, 2], [3, 1]],\n",
       " 5: [[1, 4], [2, 3], [3, 2], [4, 1]],\n",
       " 6: [[1, 5], [2, 4], [3, 3], [4, 2], [5, 1]],\n",
       " 7: [[1, 6], [2, 5], [3, 4], [4, 3], [5, 2], [6, 1]],\n",
       " 8: [[2, 6], [3, 5], [4, 4], [5, 3], [6, 2]],\n",
       " 9: [[3, 6], [4, 5], [5, 4], [6, 3]],\n",
       " 10: [[4, 6], [5, 5], [6, 4]],\n",
       " 11: [[5, 6], [6, 5]],\n",
       " 12: [[6, 6]]}"
      ]
     },
     "execution_count": 18,
     "metadata": {},
     "output_type": "execute_result"
    }
   ],
   "source": [
    "dict_new"
   ]
  },
  {
   "cell_type": "markdown",
   "metadata": {},
   "source": [
    "**Задача:** дан массив чисел содержащий минимум два элемента. Найти нужно максимальное произведение двух элементов в этом массиве."
   ]
  },
  {
   "cell_type": "code",
   "execution_count": 34,
   "metadata": {},
   "outputs": [
    {
     "data": {
      "text/plain": [
       "80"
      ]
     },
     "execution_count": 34,
     "metadata": {},
     "output_type": "execute_result"
    }
   ],
   "source": [
    "num = [-10, -3, 5, 2, -8]\n",
    "\n",
    "max([i*j for i in num for j in num if i != j])"
   ]
  },
  {
   "cell_type": "code",
   "execution_count": 32,
   "metadata": {},
   "outputs": [
    {
     "name": "stdout",
     "output_type": "stream",
     "text": [
      "80\n"
     ]
    }
   ],
   "source": [
    "mul = 1\n",
    "for i in sorted(num, reverse=False)[:2]:\n",
    "    mul *= i\n",
    "\n",
    "print(mul)"
   ]
  }
 ],
 "metadata": {
  "kernelspec": {
   "display_name": "Python 3",
   "language": "python",
   "name": "python3"
  },
  "language_info": {
   "codemirror_mode": {
    "name": "ipython",
    "version": 3
   },
   "file_extension": ".py",
   "mimetype": "text/x-python",
   "name": "python",
   "nbconvert_exporter": "python",
   "pygments_lexer": "ipython3",
   "version": "3.11.1"
  }
 },
 "nbformat": 4,
 "nbformat_minor": 2
}
