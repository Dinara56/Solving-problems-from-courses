{
 "cells": [
  {
   "cell_type": "markdown",
   "metadata": {},
   "source": [
    "**Задача:** Дан бинарный масив из нулей и единиц, найти максимальную длину подмассива из единиц при условии, что один ноль можно заменить на единицу. И вывести этот подмассив."
   ]
  },
  {
   "cell_type": "code",
   "execution_count": 11,
   "metadata": {},
   "outputs": [
    {
     "name": "stdout",
     "output_type": "stream",
     "text": [
      "[1, 1, 1]\n"
     ]
    }
   ],
   "source": [
    "arr = [0, 1, 1, 1, 0, 1, 1, 0]\n",
    "\n",
    "str_with_values = ''.join(map(str, arr)).split('0')\n",
    "print(list(map(int, list(max(str_with_values)))))"
   ]
  },
  {
   "cell_type": "markdown",
   "metadata": {},
   "source": [
    "**Задача:** Загадывается число от 1 до n, где n может быть любым числом до 2 в степени 31. Написать функцию, которая возвращает это число. \n",
    "\n",
    "При этом дана функция def guess(num: int) -> int, которую можно вызывать и подставлять в нее догадки. Она работает так:\n",
    "\n",
    "- если угадал число, то возвращает 0\n",
    "- если число меньше угаданного, то возвращает 1\n",
    "- если число больше угаданного, то -1.\n"
   ]
  },
  {
   "cell_type": "code",
   "execution_count": 53,
   "metadata": {},
   "outputs": [],
   "source": [
    "def binary_search(arr, x):\n",
    "\n",
    "    left = 0\n",
    "    right = len(arr) - 1\n",
    "\n",
    "    while left <= right:\n",
    "\n",
    "        mid = left + (right - left) // 2\n",
    "\n",
    "        if arr[mid] == x:\n",
    "            return 0\n",
    "\n",
    "        elif arr[mid] < x:\n",
    "            if mid + 1 == len(arr):\n",
    "                return -1\n",
    "            else:\n",
    "                left = mid + 1\n",
    "                \n",
    "        else:\n",
    "            if mid - 1 < 0:\n",
    "                return 1\n",
    "            else:\n",
    "                right = mid - 1"
   ]
  },
  {
   "cell_type": "code",
   "execution_count": 54,
   "metadata": {},
   "outputs": [
    {
     "data": {
      "text/plain": [
       "1"
      ]
     },
     "execution_count": 54,
     "metadata": {},
     "output_type": "execute_result"
    }
   ],
   "source": [
    "binary_search([1, 3, 5, 6, 7], -5)"
   ]
  },
  {
   "cell_type": "markdown",
   "metadata": {},
   "source": [
    "**Задача:** Отсортировать массив с отрезками по длине [(2, 5), (3, 6), (-2.5, 7), (16, 32)]."
   ]
  },
  {
   "cell_type": "code",
   "execution_count": 3,
   "metadata": {},
   "outputs": [
    {
     "data": {
      "text/plain": [
       "[(16, 18), (2, 5), (3, 6), (-2.5, 7)]"
      ]
     },
     "execution_count": 3,
     "metadata": {},
     "output_type": "execute_result"
    }
   ],
   "source": [
    "arr = [(2, 5), (3, 6), (-2.5, 7), (16, 18)]\n",
    "\n",
    "sorted(arr, key=lambda x: abs(x[1] - x[0]))"
   ]
  },
  {
   "cell_type": "markdown",
   "metadata": {},
   "source": [
    "**Задача:** Строка s хороша, если для каждой буквы алфавита, содержащейся в s, она отображается как в верхнем, так и в нижнем регистре. Например, \"abABB\" хороша, потому что появляются \"A\" и \"a\", а также \"B\" и \"в\". Однако \"abA\" нет потому, что появляется \"b\", а \"B\" нет.\n",
    "\n",
    "Учитывая строку s, верните самую длинную подстроку из s, которая хороша. Если их несколько, верните подстроку самого раннего появления. Если таковых нет, верните пустую строку."
   ]
  },
  {
   "cell_type": "code",
   "execution_count": null,
   "metadata": {},
   "outputs": [],
   "source": [
    "Example 1:\n",
    "\n",
    "Input: s = \"YazaAay\"\n",
    "Output: \"aAa\"\n",
    "Explanation: \"aAa\" is a nice string because 'A/a' is the only letter of the alphabet in s, and both 'A' and 'a' appear.\n",
    "\"aAa\" is the longest nice substring.\n",
    "Example 2:\n",
    "\n",
    "Input: s = \"Bb\"\n",
    "Output: \"Bb\"\n",
    "Explanation: \"Bb\" is a nice string because both 'B' and 'b' appear. The whole string is a substring.\n",
    "Example 3:\n",
    "\n",
    "Input: s = \"c\"\n",
    "Output: \"\"\n",
    "Explanation: There are no nice substrings."
   ]
  },
  {
   "cell_type": "code",
   "execution_count": null,
   "metadata": {},
   "outputs": [],
   "source": [
    "s = \"YazaAayYBY\"\n",
    "\n",
    "new_str = s[0]\n",
    "\n",
    "for i in range(len(s)):\n",
    "    if s[i].lower() != s[i+1].lower():\n",
    "        new_str = s[i+1]\n",
    "    "
   ]
  },
  {
   "cell_type": "code",
   "execution_count": 59,
   "metadata": {},
   "outputs": [
    {
     "data": {
      "text/plain": [
       "{'y': 2, 'a': 4, 'z': 1}"
      ]
     },
     "execution_count": 59,
     "metadata": {},
     "output_type": "execute_result"
    }
   ],
   "source": [
    "s = \"YazaAay\"\n",
    "\n",
    "# посчитаю на каждую уникальную букву сколько раз она встречается\n",
    "# и отсечем строку слева и справа по тем значениям, которые встречаются один раз\n",
    "\n",
    "dict_new = {}\n",
    "for i in list(s.lower()): # ['y', 'a', 'z', 'a', 'a', 'a', 'y', 'y', 'b', 'y']\n",
    "    if i.lower() not in dict_new:\n",
    "        dict_new[i] = 1\n",
    "    else:\n",
    "        dict_new[i] +=1\n",
    "\n",
    "# dict_new = {'y': 4, 'a': 4, 'z': 1, 'b': 1}\n",
    "        \n",
    "line_segment = [i for i in dict_new if dict_new[i] == 1] # ['z', 'b']\n",
    "\n",
    "# result_str = ''\n",
    "# for i in range(len(s)):\n",
    "#     if s[i] == line_segment[0].lower() or s[i] == line_segment[0].upper():\n",
    "#         result_str = s[i+1:]\n",
    "#     elif s[i] == line_segment[1].lower() or s[i] == line_segment[1].upper():\n",
    "#         result_str = result_str[:i]\n",
    "\n",
    "dict_new\n",
    "\n"
   ]
  },
  {
   "cell_type": "code",
   "execution_count": 52,
   "metadata": {},
   "outputs": [],
   "source": [
    "def longestNiceSubstring(s):\n",
    "\n",
    "    dict_new = {}\n",
    "    for i in list(s.lower()): # ['y', 'a', 'z', 'a', 'a', 'a', 'y', 'y', 'b', 'y']\n",
    "        if i.lower() not in dict_new:\n",
    "            dict_new[i] = 1\n",
    "        else:\n",
    "            dict_new[i] +=1\n",
    "\n",
    "    # dict_new = {'y': 4, 'a': 4, 'z': 1, 'b': 1}\n",
    "    line_segment = [i for i in dict_new if dict_new[i] == 1] # ['z', 'b']\n",
    "\n",
    "\n",
    "    for i in range(len(s)):\n",
    "        if s[i] == line_segment[0].lower() or s[i] == line_segment[0].upper():\n",
    "            s = s[i+1:]\n",
    "        elif s[i] == line_segment[1].lower() or s[i] == line_segment[1].upper():\n",
    "            s = s[:i]\n",
    "            break    \n",
    "\n",
    "    return s"
   ]
  },
  {
   "cell_type": "code",
   "execution_count": 54,
   "metadata": {},
   "outputs": [
    {
     "ename": "IndexError",
     "evalue": "list index out of range",
     "output_type": "error",
     "traceback": [
      "\u001b[0;31m---------------------------------------------------------------------------\u001b[0m",
      "\u001b[0;31mIndexError\u001b[0m                                Traceback (most recent call last)",
      "Cell \u001b[0;32mIn[54], line 1\u001b[0m\n\u001b[0;32m----> 1\u001b[0m longestNiceSubstring(\u001b[38;5;124m\"\u001b[39m\u001b[38;5;124mYazaAay\u001b[39m\u001b[38;5;124m\"\u001b[39m)\n",
      "Cell \u001b[0;32mIn[52], line 17\u001b[0m, in \u001b[0;36mlongestNiceSubstring\u001b[0;34m(s)\u001b[0m\n\u001b[1;32m     15\u001b[0m \u001b[38;5;28;01mif\u001b[39;00m s[i] \u001b[38;5;241m==\u001b[39m line_segment[\u001b[38;5;241m0\u001b[39m]\u001b[38;5;241m.\u001b[39mlower() \u001b[38;5;129;01mor\u001b[39;00m s[i] \u001b[38;5;241m==\u001b[39m line_segment[\u001b[38;5;241m0\u001b[39m]\u001b[38;5;241m.\u001b[39mupper():\n\u001b[1;32m     16\u001b[0m     s \u001b[38;5;241m=\u001b[39m s[i\u001b[38;5;241m+\u001b[39m\u001b[38;5;241m1\u001b[39m:]\n\u001b[0;32m---> 17\u001b[0m \u001b[38;5;28;01melif\u001b[39;00m s[i] \u001b[38;5;241m==\u001b[39m line_segment[\u001b[38;5;241m1\u001b[39m]\u001b[38;5;241m.\u001b[39mlower() \u001b[38;5;129;01mor\u001b[39;00m s[i] \u001b[38;5;241m==\u001b[39m line_segment[\u001b[38;5;241m1\u001b[39m]\u001b[38;5;241m.\u001b[39mupper():\n\u001b[1;32m     18\u001b[0m     s \u001b[38;5;241m=\u001b[39m s[:i]\n\u001b[1;32m     19\u001b[0m     \u001b[38;5;28;01mbreak\u001b[39;00m    \n",
      "\u001b[0;31mIndexError\u001b[0m: list index out of range"
     ]
    }
   ],
   "source": [
    "longestNiceSubstring(\"YazaAay\")"
   ]
  },
  {
   "cell_type": "code",
   "execution_count": 13,
   "metadata": {},
   "outputs": [
    {
     "data": {
      "text/plain": [
       "['y', 'a', 'z', 'a', 'a', 'a', 'y', 'y', 'b', 'y']"
      ]
     },
     "execution_count": 13,
     "metadata": {},
     "output_type": "execute_result"
    }
   ],
   "source": [
    "list(s.lower())"
   ]
  },
  {
   "cell_type": "code",
   "execution_count": null,
   "metadata": {},
   "outputs": [],
   "source": []
  }
 ],
 "metadata": {
  "kernelspec": {
   "display_name": "Python 3",
   "language": "python",
   "name": "python3"
  },
  "language_info": {
   "codemirror_mode": {
    "name": "ipython",
    "version": 3
   },
   "file_extension": ".py",
   "mimetype": "text/x-python",
   "name": "python",
   "nbconvert_exporter": "python",
   "pygments_lexer": "ipython3",
   "version": "3.11.1"
  }
 },
 "nbformat": 4,
 "nbformat_minor": 2
}
