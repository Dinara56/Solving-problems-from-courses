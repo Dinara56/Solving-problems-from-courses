{
 "cells": [
  {
   "cell_type": "markdown",
   "metadata": {},
   "source": [
    "**Задание:** Реализуйте функцию unique_in_order, которая принимает в качестве аргумента последовательность и возвращает список элементов без каких-либо элементов с одинаковым значением рядом друг с другом и с сохранением исходного порядка элементов.\n",
    "\n",
    "Примеры:\n",
    "- unique_in_order('AAAABBBCCDAABBB') == ['A', 'B', 'C', 'D', 'A', 'B']\n",
    "- unique_in_order('ABBCcAD') == ['A', 'B', 'C', 'c', 'A', 'D']\n",
    "- unique_in_order([1, 2, 2, 3, 3]) == [1, 2, 3]\n",
    "- unique_in_order((1, 2, 2, 3, 3)) == [1, 2, 3]"
   ]
  },
  {
   "cell_type": "code",
   "execution_count": 1,
   "metadata": {},
   "outputs": [],
   "source": [
    "def unique_in_order(sequence):\n",
    "    unique_list = []\n",
    "    for i in sequence:\n",
    "        if not unique_list or unique_list[-1] != i:\n",
    "            unique_list.append(i)\n",
    "    return unique_list"
   ]
  },
  {
   "cell_type": "code",
   "execution_count": 2,
   "metadata": {},
   "outputs": [
    {
     "data": {
      "text/plain": [
       "['A', 'B', 'C', 'c', 'A', 'D']"
      ]
     },
     "execution_count": 2,
     "metadata": {},
     "output_type": "execute_result"
    }
   ],
   "source": [
    "unique_in_order('ABBCcAD')"
   ]
  },
  {
   "cell_type": "markdown",
   "metadata": {},
   "source": [
    "**Задание:** Напишите функцию next_smaller, которая принимает положительное целое число и возвращает следующее меньшее положительное число, содержащее те же цифры.\n",
    "\n",
    "Например:\n",
    "- next_smaller(21) == 12\n",
    "- next_smaller(531) == 513\n",
    "- next_smaller(2071) == 2017"
   ]
  },
  {
   "cell_type": "code",
   "execution_count": 117,
   "metadata": {},
   "outputs": [],
   "source": [
    "def next_smaller(n):\n",
    "    digits = list(str(n))\n",
    "    \n",
    "    # Найдем первую пару цифр, где digits[i] > digits[i+1]\n",
    "    i = len(digits) - 2\n",
    "    while i >= 0 and digits[i] <= digits[i+1]:\n",
    "        i -= 1\n",
    "    \n",
    "    # Если не удалось найти такую пару, то число уже минимальное\n",
    "    if i == -1:\n",
    "        return n\n",
    "    \n",
    "    # Найдем наименьшую цифру справа от digits[i], но большую digits[i]\n",
    "    j = len(digits) - 1\n",
    "\n",
    "    while digits[j] >= digits[i]:\n",
    "        j -= 1\n",
    "    \n",
    "    # Поменяем местами digits[i] и digits[j]\n",
    "    digits[i], digits[j] = digits[j], digits[i]\n",
    "    \n",
    "    # Отсортируем часть справа от digits[i] в порядке убывания\n",
    "    digits[i+1:] = sorted(digits[i+1:], reverse=True)\n",
    "\n",
    "    result = int(''.join(digits))\n",
    "    \n",
    "    return result"
   ]
  },
  {
   "cell_type": "code",
   "execution_count": 118,
   "metadata": {},
   "outputs": [
    {
     "name": "stdout",
     "output_type": "stream",
     "text": [
      "561\n"
     ]
    }
   ],
   "source": [
    "print(next_smaller(615))"
   ]
  }
 ],
 "metadata": {
  "kernelspec": {
   "display_name": "Python 3",
   "language": "python",
   "name": "python3"
  },
  "language_info": {
   "codemirror_mode": {
    "name": "ipython",
    "version": 3
   },
   "file_extension": ".py",
   "mimetype": "text/x-python",
   "name": "python",
   "nbconvert_exporter": "python",
   "pygments_lexer": "ipython3",
   "version": "3.11.1"
  }
 },
 "nbformat": 4,
 "nbformat_minor": 2
}
